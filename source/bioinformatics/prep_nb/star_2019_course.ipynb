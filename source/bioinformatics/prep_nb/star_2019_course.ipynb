{
 "cells": [
  {
   "cell_type": "markdown",
   "metadata": {},
   "source": [
    "# Analyze 2019 Course Data to Counts"
   ]
  },
  {
   "cell_type": "markdown",
   "metadata": {},
   "source": [
    "## Load Variables and Make Directories"
   ]
  },
  {
   "cell_type": "code",
   "execution_count": null,
   "metadata": {},
   "outputs": [],
   "source": [
    "source star_2019_course_config.sh\n",
    "# rm -rf $CUROUT\n",
    "mkdir -p $STAR_OUT $GENOME_DIR $MYINFO $TRIMMED $QC/R1 $QC/R2"
   ]
  },
  {
   "cell_type": "code",
   "execution_count": null,
   "metadata": {},
   "outputs": [],
   "source": [
    "echo \">Adapter\n",
    "AGATCGGAAGAGCACACGTCTGAACTCCAGTCA\n",
    ">AdapterRead2\n",
    "AGATCGGAAGAGCGTCGTGTAGGGAAAGAGTGT\n",
    ">Adapter_rc\n",
    "TGACTGGAGTTCAGACGTGTGCTCTTCCGATCT\n",
    ">AdapterRead2_rc\n",
    "ACACTCTTTCCCTACACGACGCTCTTCCGATCT\" > $ADAPTERS"
   ]
  },
  {
   "cell_type": "markdown",
   "metadata": {},
   "source": [
    "## Download Genome and Annotation"
   ]
  },
  {
   "cell_type": "code",
   "execution_count": null,
   "metadata": {},
   "outputs": [],
   "source": [
    "for CUR in $FA_URL $GTF_URL ; do\n",
    "    wget --directory-prefix ${GENOME_DIR} ${CUR}\n",
    "done"
   ]
  },
  {
   "cell_type": "code",
   "execution_count": null,
   "metadata": {},
   "outputs": [],
   "source": [
    "gunzip --force ${GENOME_DIR}/${GTF}.gz\n",
    "gunzip --force ${GENOME_DIR}/${FA}.gz"
   ]
  },
  {
   "cell_type": "markdown",
   "metadata": {},
   "source": [
    "## Index Genome"
   ]
  },
  {
   "cell_type": "code",
   "execution_count": null,
   "metadata": {},
   "outputs": [],
   "source": [
    "STAR \\\n",
    "    --runThreadN $THREADS \\\n",
    "    --runMode genomeGenerate \\\n",
    "    --genomeDir $GENOME_DIR \\\n",
    "    --genomeFastaFiles ${GENOME_DIR}/${FA} \\\n",
    "    --sjdbGTFfile ${GENOME_DIR}/${GTF} \\\n",
    "    --outFileNamePrefix ${STAR_OUT}/genome_ \\\n",
    "    --sjdbGTFfeatureExon exon \\\n",
    "    --sjdbGTFtagExonParentTranscript transcript_id \\\n",
    "    --sjdbGTFtagExonParentGene gene_id \\\n",
    "    --genomeSAindexNbases 6"
   ]
  },
  {
   "cell_type": "markdown",
   "metadata": {},
   "source": [
    "## Read Quality Control"
   ]
  },
  {
   "cell_type": "code",
   "execution_count": null,
   "metadata": {},
   "outputs": [],
   "source": [
    "fastqc --quiet --threads $THREADS $RAW_FASTQS/*R1*.fastq.gz --outdir $QC/R1"
   ]
  },
  {
   "cell_type": "code",
   "execution_count": null,
   "metadata": {},
   "outputs": [],
   "source": [
    "fastqc --quiet --threads $THREADS $RAW_FASTQS/*R2*.fastq.gz --outdir $QC/R2"
   ]
  },
  {
   "cell_type": "markdown",
   "metadata": {},
   "source": [
    "## Trim and Map Reads"
   ]
  },
  {
   "cell_type": "code",
   "execution_count": null,
   "metadata": {},
   "outputs": [],
   "source": [
    "for FASTQ in $RAW_FASTQS/*_L00?_R1_001.fastq.gz\n",
    "    do\n",
    "        FASTQ_BASE=\"$(basename ${FASTQ} '_R1_001.fastq.gz')\"\n",
    "        echo \"---------------- TRIMMING: $FASTQ_BASE ----------------\"\n",
    "        fastq-mcf \\\n",
    "            $ADAPTERS \\\n",
    "            $RAW_FASTQS/${FASTQ_BASE}_R1_001.fastq.gz \\\n",
    "            $RAW_FASTQS/${FASTQ_BASE}_R2_001.fastq.gz \\\n",
    "            -q 20 -x 0.5 \\\n",
    "            -o $TRIMMED/${FASTQ_BASE}_R1_001.trim.fastq.gz \\\n",
    "            -o $TRIMMED/${FASTQ_BASE}_R2_001.trim.fastq.gz\n",
    "        \n",
    "        echo \"---------------- MAPPING: $FASTQ_BASE ----------------\"\n",
    "        STAR \\\n",
    "            --runMode alignReads \\\n",
    "            --twopassMode None \\\n",
    "            --genomeDir $GENOME_DIR \\\n",
    "            --readFilesIn $TRIMMED/${FASTQ_BASE}_R1_001.trim.fastq.gz $TRIMMED/${FASTQ_BASE}_R2_001.trim.fastq.gz \\\n",
    "            --readFilesCommand gunzip -c \\\n",
    "            --outFileNamePrefix ${STAR_OUT}/${FASTQ_BASE}_ \\\n",
    "            --quantMode GeneCounts \\\n",
    "            --outSAMtype BAM SortedByCoordinate \\\n",
    "            --runThreadN $THREADS \\\n",
    "            --alignIntronMax 5000 \\\n",
    "            --outSJfilterIntronMaxVsReadN 500 1000 2000\n",
    "            \n",
    "    done"
   ]
  },
  {
   "cell_type": "code",
   "execution_count": null,
   "metadata": {},
   "outputs": [],
   "source": [
    "MAX_JOBS=1\n",
    "THREADS=10\n",
    "trim_and_star_func() {\n",
    "    FASTQ_BASE=\"$(basename ${1} '_R1_001.fastq.gz')\"\n",
    "\n",
    "#     FASTQ=$1\n",
    "#     FASTQ_BASE=${FASTQ##*/} # strip directory from file path\n",
    "#     SAMPLE=\"${FASTQ_BASE%_R1_001.fastq.gz}\" # strip .fq.gz file extension\n",
    "#     echo $SAMPLE\n",
    "#     echo $FASTQ\n",
    "#     echo $FASTQ_BASE\n",
    "    echo $1\n",
    "    echo $FASTQ_BASE\n",
    "    # exit 1\n",
    "\n",
    "    # make a pipe for trimmed fastq\n",
    "    R1_PIPE=`mktemp --dry-run`_${FASTQ_BASE}_R1_pipe.fq\n",
    "    mkfifo $R1_PIPE\n",
    "    R2_PIPE=`mktemp --dry-run`_${FASTQ_BASE}_R2_pipe.fq\n",
    "    mkfifo $R2_PIPE\n",
    "\n",
    "    # Run fastq-mcf\n",
    "    fastq-mcf \\\n",
    "        $ADAPTERS \\\n",
    "        $FASTQ_BASE_R1_001.fastq.gz \\\n",
    "        $FASTQ_BASE_R2_001.fastq.gz \\\n",
    "        -o $R1_PIPE \\\n",
    "        -o $R2_PIPE \\\n",
    "        -q 20 -x 0.5 &\n",
    "        \n",
    "    STAR \\\n",
    "    --runMode alignReads \\\n",
    "    --runThreadN $THREADS \\\n",
    "    --genomeDir $GENOME_DIR \\\n",
    "    --outSAMtype BAM SortedByCoordinate \\\n",
    "    --limitBAMsortRAM 1280000000 \\\n",
    "    --quantMode GeneCounts \\\n",
    "    --genomeLoad LoadAndKeep \\\n",
    "    --twopassMode None \\\n",
    "    --outFileNamePrefix ${STAR_OUT}/${FASTQ_BASE}_ \\\n",
    "    --alignIntronMax 5000 \\\n",
    "    --outSJfilterIntronMaxVsReadN 500 1000 2000 \\\n",
    "    --readFilesIn $R1_PIPE $R2_PIPE \n",
    "        \n",
    "    rm -f $R1_PIPE\n",
    "    rm -f $R2_PIPE\n",
    "}\n",
    "export -f trim_and_star_func\n",
    "\n",
    "# STAR --genomeDir $GENOME_DIR \\\n",
    "#     --outFileNamePrefix ${STAR_OUT}/genomeload_ \\\n",
    "#     --genomeLoad LoadAndExit \n",
    "\n",
    "# parallel --jobs $MAX_JOBS trim_and_star_func ::: $RAW_FASTQS/1_A_*R1*.fastq.gz\n",
    "# # parallel --jobs $MAX_JOBS trim_and_star_func ::: $RAW_FASTQS/A_[1-2]_*.fastq.gz\n",
    "\n",
    "# STAR --genomeDir $GENOME_DIR \\\n",
    "#     --outFileNamePrefix ${STAR_OUT}/genomeremove_ \\\n",
    "#     --genomeLoad Remove"
   ]
  },
  {
   "cell_type": "code",
   "execution_count": null,
   "metadata": {},
   "outputs": [],
   "source": [
    "chmod u+w $DATA_BASE\n",
    "mkdir -p $FINAL_COUNTS\n",
    "chmod -R u+w $FINAL_COUNTS\n",
    "mv $STAR_OUT/*_ReadsPerGene.out.tab $FINAL_COUNTS\n",
    "chmod -R a-w $DATA_BASE"
   ]
  },
  {
   "cell_type": "code",
   "execution_count": null,
   "metadata": {},
   "outputs": [],
   "source": [
    "chmod u+w $DATA_BASE\n",
    "mkdir -p $FINAL_BAMS\n",
    "chmod -R u+w $FINAL_BAMS\n",
    "mv $STAR_OUT/*_Aligned.sortedByCoord.out.bam $FINAL_BAMS\n",
    "chmod -R a-w $DATA_BASE"
   ]
  },
  {
   "cell_type": "code",
   "execution_count": null,
   "metadata": {},
   "outputs": [],
   "source": [
    "chmod u+w $DATA_BASE\n",
    "mkdir -p $FINAL_LOG\n",
    "chmod -R u+w $FINAL_LOG\n",
    "mv $STAR_OUT/*_Log.final.out $FINAL_LOG\n",
    "chmod -R a-w $DATA_BASE"
   ]
  },
  {
   "cell_type": "code",
   "execution_count": null,
   "metadata": {},
   "outputs": [],
   "source": [
    "multiqc --force $QC/R1 --outdir ${STAR_OUT} --filename multiqc_report_R1.html"
   ]
  },
  {
   "cell_type": "code",
   "execution_count": null,
   "metadata": {},
   "outputs": [],
   "source": [
    "multiqc --force $QC/R2 --outdir ${STAR_OUT} --filename multiqc_report_R2.html"
   ]
  },
  {
   "cell_type": "code",
   "execution_count": null,
   "metadata": {},
   "outputs": [],
   "source": [
    "multiqc --force ${FINAL_BAMS} ${FINAL_LOG} ${FINAL_COUNTS} ${STAR_OUT} --outdir ${STAR_OUT} --filename multiqc_report_counts.html\n",
    "echo ${STAR_OUT}"
   ]
  }
 ],
 "metadata": {
  "kernelspec": {
   "display_name": "Bash",
   "language": "bash",
   "name": "bash"
  },
  "language_info": {
   "codemirror_mode": "shell",
   "file_extension": ".sh",
   "mimetype": "text/x-sh",
   "name": "bash"
  }
 },
 "nbformat": 4,
 "nbformat_minor": 1
}
