{
 "cells": [
  {
   "cell_type": "markdown",
   "metadata": {},
   "source": [
    "## The purpose of this notebook is to create a count matrix and metadata frame for the 2019 pilot data"
   ]
  },
  {
   "cell_type": "markdown",
   "metadata": {},
   "source": [
    "### Load packages"
   ]
  },
  {
   "cell_type": "code",
   "execution_count": null,
   "metadata": {},
   "outputs": [],
   "source": [
    "library(tidyverse)"
   ]
  },
  {
   "cell_type": "markdown",
   "metadata": {},
   "source": [
    "### Import Counts"
   ]
  },
  {
   "cell_type": "code",
   "execution_count": null,
   "metadata": {},
   "outputs": [],
   "source": [
    "### Due to time constraints, we skip the import of the count files\n",
    "\n",
    "cntfile <- '/home/jovyan/work/scratch/analysis_output/out/hts-pilot-2019.RData'\n",
    "attach(cntfile)\n",
    "tools::md5sum(cntfile)\n",
    "ls(2)\n",
    "\n"
   ]
  },
  {
   "cell_type": "code",
   "execution_count": null,
   "metadata": {},
   "outputs": [],
   "source": [
    "### Look at the first five genes across the libraries\n",
    "\n",
    "genecounts[1:8, 1:5]\n",
    "dim(genecounts)"
   ]
  },
  {
   "cell_type": "markdown",
   "metadata": {},
   "source": [
    "### Filter out 2018 libraries from count file"
   ]
  },
  {
   "cell_type": "code",
   "execution_count": null,
   "metadata": {},
   "outputs": [],
   "source": [
    "genecounts %>% \n",
    "    filter(str_detect(expid, \"2019\")) -> \n",
    "        genecounts2019\n",
    "\n",
    "dim(genecounts2019)"
   ]
  },
  {
   "cell_type": "markdown",
   "metadata": {},
   "source": [
    "### Import metadata file"
   ]
  },
  {
   "cell_type": "code",
   "execution_count": null,
   "metadata": {},
   "outputs": [],
   "source": [
    "metadtfile <- '/data/hts_2019_data/hts2019_pilot_rawdata/2019_pilot_metadata.tsv'\n",
    "tools::md5sum(metadtfile)\n",
    "\n",
    "mtdf<-readr::read_tsv(metadtfile)\n",
    "\n",
    "mtdf"
   ]
  },
  {
   "cell_type": "markdown",
   "metadata": {},
   "source": [
    "### filter out 2018 samples"
   ]
  },
  {
   "cell_type": "code",
   "execution_count": null,
   "metadata": {},
   "outputs": [],
   "source": [
    "mtdf %>%\n",
    "    filter(str_detect(Label, \"2019\")) -> \n",
    "        mtdf2019\n",
    "\n",
    "dim(mtdf2019)"
   ]
  },
  {
   "cell_type": "markdown",
   "metadata": {},
   "source": [
    "### Add a label column to the counts object so that it can be merged with the metadata"
   ]
  },
  {
   "cell_type": "code",
   "execution_count": null,
   "metadata": {},
   "outputs": [],
   "source": [
    "myregex <- \"_S[1-9][0-9]{0,2}_L00[1-4]_ReadsPerGene.out.tab\"\n",
    "\n",
    "\n",
    "### dim before adding label column\n",
    "dim(genecounts2019)\n",
    "\n",
    "genecounts2019 %>% \n",
    "    mutate(Label=str_replace(expid, myregex, \"\")) -> \n",
    "        genecounts2019\n",
    "\n",
    "### dim before adding label column\n",
    "\n",
    "dim(genecounts2019)"
   ]
  },
  {
   "cell_type": "code",
   "execution_count": null,
   "metadata": {},
   "outputs": [],
   "source": [
    "### Look at the first five genes across the libraries\n",
    "\n",
    "genecounts2019[1:8, c(1:5, ncol(genecounts2019))]\n",
    "dim(genecounts2019)"
   ]
  },
  {
   "cell_type": "markdown",
   "metadata": {},
   "source": [
    "### Add counts across lanes "
   ]
  },
  {
   "cell_type": "code",
   "execution_count": null,
   "metadata": {},
   "outputs": [],
   "source": [
    "genecounts2019 %>% \n",
    "    group_by(Label) %>%\n",
    "        summarize_each(sum, -expid) -> \n",
    "            cnt2019"
   ]
  },
  {
   "cell_type": "code",
   "execution_count": null,
   "metadata": {},
   "outputs": [],
   "source": [
    "cnt2019[1:4, 1:5]"
   ]
  },
  {
   "cell_type": "markdown",
   "metadata": {},
   "source": [
    "### Check to make sure that every label in your count file has an entry in the metadata file"
   ]
  },
  {
   "cell_type": "code",
   "execution_count": null,
   "metadata": {},
   "outputs": [],
   "source": [
    "setdiff(cnt2019$Label, mtdf2019$Label)\n",
    "setdiff(mtdf2019$Label, cnt2019$Label)"
   ]
  },
  {
   "cell_type": "code",
   "execution_count": null,
   "metadata": {},
   "outputs": [],
   "source": [
    "### Save objects to image file"
   ]
  },
  {
   "cell_type": "code",
   "execution_count": null,
   "metadata": {},
   "outputs": [],
   "source": [
    "curdir <- \"/home/jovyan/work/scratch/analysis_output\"\n",
    "imgdir <- file.path(curdir, \"img\")\n",
    "\n",
    "imgfile <- file.path(imgdir, \"pilotcnt2019.RData\")\n",
    "\n",
    "imgfile"
   ]
  },
  {
   "cell_type": "code",
   "execution_count": null,
   "metadata": {},
   "outputs": [],
   "source": [
    "save(cnt2019, mtdf2019, file = imgfile)\n",
    "\n",
    "tools::md5sum(imgfile)"
   ]
  },
  {
   "cell_type": "code",
   "execution_count": null,
   "metadata": {},
   "outputs": [],
   "source": [
    "sessionInfo()"
   ]
  }
 ],
 "metadata": {
  "kernelspec": {
   "display_name": "R",
   "language": "R",
   "name": "ir"
  },
  "language_info": {
   "codemirror_mode": "r",
   "file_extension": ".r",
   "mimetype": "text/x-r-source",
   "name": "R",
   "pygments_lexer": "r",
   "version": "3.6.0"
  }
 },
 "nbformat": 4,
 "nbformat_minor": 2
}
