{
 "cells": [
  {
   "cell_type": "markdown",
   "metadata": {},
   "source": [
    "# Estimation and Hypothesis Testing"
   ]
  },
  {
   "cell_type": "code",
   "execution_count": 1,
   "metadata": {},
   "outputs": [
    {
     "name": "stderr",
     "output_type": "stream",
     "text": [
      "Registered S3 methods overwritten by 'ggplot2':\n",
      "  method         from \n",
      "  [.quosures     rlang\n",
      "  c.quosures     rlang\n",
      "  print.quosures rlang\n",
      "── \u001b[1mAttaching packages\u001b[22m ─────────────────────────────────────── tidyverse 1.2.1 ──\n",
      "\u001b[32m✔\u001b[39m \u001b[34mggplot2\u001b[39m 3.1.1     \u001b[32m✔\u001b[39m \u001b[34mpurrr  \u001b[39m 0.3.2\n",
      "\u001b[32m✔\u001b[39m \u001b[34mtibble \u001b[39m 2.1.2     \u001b[32m✔\u001b[39m \u001b[34mdplyr  \u001b[39m 0.8.1\n",
      "\u001b[32m✔\u001b[39m \u001b[34mtidyr  \u001b[39m 0.8.3     \u001b[32m✔\u001b[39m \u001b[34mstringr\u001b[39m 1.4.0\n",
      "\u001b[32m✔\u001b[39m \u001b[34mreadr  \u001b[39m 1.3.1     \u001b[32m✔\u001b[39m \u001b[34mforcats\u001b[39m 0.4.0\n",
      "── \u001b[1mConflicts\u001b[22m ────────────────────────────────────────── tidyverse_conflicts() ──\n",
      "\u001b[31m✖\u001b[39m \u001b[34mdplyr\u001b[39m::\u001b[32mfilter()\u001b[39m masks \u001b[34mstats\u001b[39m::filter()\n",
      "\u001b[31m✖\u001b[39m \u001b[34mdplyr\u001b[39m::\u001b[32mlag()\u001b[39m    masks \u001b[34mstats\u001b[39m::lag()\n"
     ]
    }
   ],
   "source": [
    "library(tidyverse)"
   ]
  },
  {
   "cell_type": "code",
   "execution_count": 2,
   "metadata": {},
   "outputs": [],
   "source": [
    "options(repr.plot.width=4, repr.plot.height=3)"
   ]
  },
  {
   "cell_type": "markdown",
   "metadata": {},
   "source": [
    "## Set random number seed for reproucibility"
   ]
  },
  {
   "cell_type": "code",
   "execution_count": 3,
   "metadata": {},
   "outputs": [],
   "source": [
    "set.seed(42)"
   ]
  },
  {
   "cell_type": "markdown",
   "metadata": {},
   "source": [
    "## Functions around probability distributions"
   ]
  },
  {
   "cell_type": "markdown",
   "metadata": {},
   "source": [
    "Random numbers"
   ]
  },
  {
   "cell_type": "code",
   "execution_count": 4,
   "metadata": {},
   "outputs": [
    {
     "data": {
      "text/html": [
       "<ol class=list-inline>\n",
       "\t<li>1.37095844714667</li>\n",
       "\t<li>-0.564698171396089</li>\n",
       "\t<li>0.363128411337339</li>\n",
       "\t<li>0.63286260496104</li>\n",
       "\t<li>0.404268323140999</li>\n",
       "</ol>\n"
      ],
      "text/latex": [
       "\\begin{enumerate*}\n",
       "\\item 1.37095844714667\n",
       "\\item -0.564698171396089\n",
       "\\item 0.363128411337339\n",
       "\\item 0.63286260496104\n",
       "\\item 0.404268323140999\n",
       "\\end{enumerate*}\n"
      ],
      "text/markdown": [
       "1. 1.37095844714667\n",
       "2. -0.564698171396089\n",
       "3. 0.363128411337339\n",
       "4. 0.63286260496104\n",
       "5. 0.404268323140999\n",
       "\n",
       "\n"
      ],
      "text/plain": [
       "[1]  1.3709584 -0.5646982  0.3631284  0.6328626  0.4042683"
      ]
     },
     "metadata": {},
     "output_type": "display_data"
    }
   ],
   "source": [
    "rnorm(5)"
   ]
  },
  {
   "cell_type": "markdown",
   "metadata": {},
   "source": [
    "PDF"
   ]
  },
  {
   "cell_type": "code",
   "execution_count": 5,
   "metadata": {},
   "outputs": [
    {
     "data": {
      "image/png": "[encoded data removed]",
      "text/plain": [
       "plot without title"
      ]
     },
     "metadata": {},
     "output_type": "display_data"
    }
   ],
   "source": [
    "x <- seq(-3, 3, length.out = 100)\n",
    "plot(x, dnorm(x), type=\"l\", ylab=\"PDF\")"
   ]
  },
  {
   "cell_type": "markdown",
   "metadata": {},
   "source": [
    "CDF "
   ]
  },
  {
   "cell_type": "code",
   "execution_count": 6,
   "metadata": {},
   "outputs": [
    {
     "data": {
      "image/png": "[encoded data removed]",
      "text/plain": [
       "plot without title"
      ]
     },
     "metadata": {},
     "output_type": "display_data"
    }
   ],
   "source": [
    "x <- seq(-3, 3, length.out = 100)\n",
    "plot(x, pnorm(x), type=\"l\", ylab=\"CDF\")"
   ]
  },
  {
   "cell_type": "markdown",
   "metadata": {},
   "source": [
    "Quantiles (inverse CDF)"
   ]
  },
  {
   "cell_type": "code",
   "execution_count": 7,
   "metadata": {},
   "outputs": [
    {
     "data": {
      "image/png": "[encoded data removed]",
      "text/plain": [
       "plot without title"
      ]
     },
     "metadata": {},
     "output_type": "display_data"
    }
   ],
   "source": [
    "p = seq(0, 1, length.out = 101)\n",
    "plot(p, qnorm(p), type=\"l\", ylab=\"Quantile\")"
   ]
  },
  {
   "cell_type": "markdown",
   "metadata": {},
   "source": [
    "## Point estimates"
   ]
  },
  {
   "cell_type": "code",
   "execution_count": 8,
   "metadata": {},
   "outputs": [],
   "source": [
    "x <- rnorm(10)"
   ]
  },
  {
   "cell_type": "code",
   "execution_count": 9,
   "metadata": {},
   "outputs": [
    {
     "data": {
      "text/html": [
       "<ol class=list-inline>\n",
       "\t<li>-0.106124516091484</li>\n",
       "\t<li>1.51152199743894</li>\n",
       "\t<li>-0.0946590384130976</li>\n",
       "\t<li>2.01842371387704</li>\n",
       "\t<li>-0.062714099052421</li>\n",
       "\t<li>1.30486965422349</li>\n",
       "\t<li>2.28664539270111</li>\n",
       "\t<li>-1.38886070111234</li>\n",
       "\t<li>-0.278788766817371</li>\n",
       "\t<li>-0.133321336393658</li>\n",
       "</ol>\n"
      ],
      "text/latex": [
       "\\begin{enumerate*}\n",
       "\\item -0.106124516091484\n",
       "\\item 1.51152199743894\n",
       "\\item -0.0946590384130976\n",
       "\\item 2.01842371387704\n",
       "\\item -0.062714099052421\n",
       "\\item 1.30486965422349\n",
       "\\item 2.28664539270111\n",
       "\\item -1.38886070111234\n",
       "\\item -0.278788766817371\n",
       "\\item -0.133321336393658\n",
       "\\end{enumerate*}\n"
      ],
      "text/markdown": [
       "1. -0.106124516091484\n",
       "2. 1.51152199743894\n",
       "3. -0.0946590384130976\n",
       "4. 2.01842371387704\n",
       "5. -0.062714099052421\n",
       "6. 1.30486965422349\n",
       "7. 2.28664539270111\n",
       "8. -1.38886070111234\n",
       "9. -0.278788766817371\n",
       "10. -0.133321336393658\n",
       "\n",
       "\n"
      ],
      "text/plain": [
       " [1] -0.10612452  1.51152200 -0.09465904  2.01842371 -0.06271410  1.30486965\n",
       " [7]  2.28664539 -1.38886070 -0.27878877 -0.13332134"
      ]
     },
     "metadata": {},
     "output_type": "display_data"
    }
   ],
   "source": [
    "x"
   ]
  },
  {
   "cell_type": "markdown",
   "metadata": {},
   "source": [
    "### Mean"
   ]
  },
  {
   "cell_type": "markdown",
   "metadata": {},
   "source": [
    "Manual calculation"
   ]
  },
  {
   "cell_type": "code",
   "execution_count": 10,
   "metadata": {},
   "outputs": [
    {
     "data": {
      "text/html": [
       "0.50569923003602"
      ],
      "text/latex": [
       "0.50569923003602"
      ],
      "text/markdown": [
       "0.50569923003602"
      ],
      "text/plain": [
       "[1] 0.5056992"
      ]
     },
     "metadata": {},
     "output_type": "display_data"
    }
   ],
   "source": [
    "sum(x)/length(x)"
   ]
  },
  {
   "cell_type": "markdown",
   "metadata": {},
   "source": [
    "Using built-in function"
   ]
  },
  {
   "cell_type": "code",
   "execution_count": 11,
   "metadata": {},
   "outputs": [
    {
     "data": {
      "text/html": [
       "0.50569923003602"
      ],
      "text/latex": [
       "0.50569923003602"
      ],
      "text/markdown": [
       "0.50569923003602"
      ],
      "text/plain": [
       "[1] 0.5056992"
      ]
     },
     "metadata": {},
     "output_type": "display_data"
    }
   ],
   "source": [
    "mean(x)"
   ]
  },
  {
   "cell_type": "markdown",
   "metadata": {},
   "source": [
    "### Median"
   ]
  },
  {
   "cell_type": "markdown",
   "metadata": {},
   "source": [
    "Manual calculation"
   ]
  },
  {
   "cell_type": "code",
   "execution_count": 13,
   "metadata": {},
   "outputs": [],
   "source": [
    "x_sorted <- sort(x)"
   ]
  },
  {
   "cell_type": "code",
   "execution_count": 14,
   "metadata": {},
   "outputs": [
    {
     "data": {
      "text/html": [
       "10"
      ],
      "text/latex": [
       "10"
      ],
      "text/markdown": [
       "10"
      ],
      "text/plain": [
       "[1] 10"
      ]
     },
     "metadata": {},
     "output_type": "display_data"
    }
   ],
   "source": [
    "length(x)"
   ]
  },
  {
   "cell_type": "markdown",
   "metadata": {},
   "source": [
    "Since there are an even number of observations, we need the average of the middle two data poitns"
   ]
  },
  {
   "cell_type": "code",
   "execution_count": 15,
   "metadata": {},
   "outputs": [
    {
     "data": {
      "text/html": [
       "-0.0786865687327593"
      ],
      "text/latex": [
       "-0.0786865687327593"
      ],
      "text/markdown": [
       "-0.0786865687327593"
      ],
      "text/plain": [
       "[1] -0.07868657"
      ]
     },
     "metadata": {},
     "output_type": "display_data"
    }
   ],
   "source": [
    "sum(x_sorted[5:6])/2"
   ]
  },
  {
   "cell_type": "markdown",
   "metadata": {},
   "source": [
    "Using built-in function"
   ]
  },
  {
   "cell_type": "code",
   "execution_count": 16,
   "metadata": {},
   "outputs": [
    {
     "data": {
      "text/html": [
       "-0.0786865687327593"
      ],
      "text/latex": [
       "-0.0786865687327593"
      ],
      "text/markdown": [
       "-0.0786865687327593"
      ],
      "text/plain": [
       "[1] -0.07868657"
      ]
     },
     "metadata": {},
     "output_type": "display_data"
    }
   ],
   "source": [
    "median(x)"
   ]
  },
  {
   "cell_type": "markdown",
   "metadata": {},
   "source": [
    "### Quantiles\n",
    "\n",
    "The mean is just the $50^{th}$ percentile. We can use R to get any percentile we like."
   ]
  },
  {
   "cell_type": "code",
   "execution_count": 17,
   "metadata": {},
   "outputs": [
    {
     "data": {
      "text/html": [
       "<strong>50%:</strong> -0.0786865687327593"
      ],
      "text/latex": [
       "\\textbf{50\\textbackslash{}\\%:} -0.0786865687327593"
      ],
      "text/markdown": [
       "**50%:** -0.0786865687327593"
      ],
      "text/plain": [
       "        50% \n",
       "-0.07868657 "
      ]
     },
     "metadata": {},
     "output_type": "display_data"
    }
   ],
   "source": [
    "quantile(x, 0.5)"
   ]
  },
  {
   "cell_type": "code",
   "execution_count": 18,
   "metadata": {},
   "outputs": [
    {
     "data": {
      "text/html": [
       "<dl class=dl-horizontal>\n",
       "\t<dt>0%</dt>\n",
       "\t\t<dd>-1.38886070111234</dd>\n",
       "\t<dt>25%</dt>\n",
       "\t\t<dd>-0.126522131318115</dd>\n",
       "\t<dt>50%</dt>\n",
       "\t\t<dd>-0.0786865687327593</dd>\n",
       "\t<dt>75%</dt>\n",
       "\t\t<dd>1.45985891163508</dd>\n",
       "\t<dt>100%</dt>\n",
       "\t\t<dd>2.28664539270111</dd>\n",
       "</dl>\n"
      ],
      "text/latex": [
       "\\begin{description*}\n",
       "\\item[0\\textbackslash{}\\%] -1.38886070111234\n",
       "\\item[25\\textbackslash{}\\%] -0.126522131318115\n",
       "\\item[50\\textbackslash{}\\%] -0.0786865687327593\n",
       "\\item[75\\textbackslash{}\\%] 1.45985891163508\n",
       "\\item[100\\textbackslash{}\\%] 2.28664539270111\n",
       "\\end{description*}\n"
      ],
      "text/markdown": [
       "0%\n",
       ":   -1.3888607011123425%\n",
       ":   -0.12652213131811550%\n",
       ":   -0.078686568732759375%\n",
       ":   1.45985891163508100%\n",
       ":   2.28664539270111\n",
       "\n"
      ],
      "text/plain": [
       "         0%         25%         50%         75%        100% \n",
       "-1.38886070 -0.12652213 -0.07868657  1.45985891  2.28664539 "
      ]
     },
     "metadata": {},
     "output_type": "display_data"
    }
   ],
   "source": [
    "quantile(x, seq(0,1,length.out = 5))"
   ]
  },
  {
   "cell_type": "markdown",
   "metadata": {},
   "source": [
    "**Exercise**\n",
    "\n",
    "Gene X is known to have a normal distribution with a mean of 100 units and a standard deviation of 15 units in the US population. With respect to this population,"
   ]
  },
  {
   "cell_type": "markdown",
   "metadata": {},
   "source": [
    "- (1) What is the medan value for gene X?"
   ]
  },
  {
   "cell_type": "code",
   "execution_count": 19,
   "metadata": {},
   "outputs": [
    {
     "data": {
      "text/html": [
       "100"
      ],
      "text/latex": [
       "100"
      ],
      "text/markdown": [
       "100"
      ],
      "text/plain": [
       "[1] 100"
      ]
     },
     "metadata": {},
     "output_type": "display_data"
    }
   ],
   "source": [
    "100"
   ]
  },
  {
   "cell_type": "markdown",
   "metadata": {},
   "source": [
    "- (2) What is the probability of finding a value of more than 130 for gene X if you pick a person at random?"
   ]
  },
  {
   "cell_type": "code",
   "execution_count": 20,
   "metadata": {},
   "outputs": [],
   "source": [
    "m <- 100\n",
    "s <- 15"
   ]
  },
  {
   "cell_type": "code",
   "execution_count": 21,
   "metadata": {},
   "outputs": [
    {
     "data": {
      "text/html": [
       "0.0227501319481792"
      ],
      "text/latex": [
       "0.0227501319481792"
      ],
      "text/markdown": [
       "0.0227501319481792"
      ],
      "text/plain": [
       "[1] 0.02275013"
      ]
     },
     "metadata": {},
     "output_type": "display_data"
    }
   ],
   "source": [
    "1 - pnorm(130, m, s)"
   ]
  },
  {
   "cell_type": "markdown",
   "metadata": {},
   "source": [
    "- (3) If you measure gene X and find that it is in the 95th percentile for this population, what is the measured value?"
   ]
  },
  {
   "cell_type": "code",
   "execution_count": 22,
   "metadata": {},
   "outputs": [
    {
     "data": {
      "text/html": [
       "124.672804404272"
      ],
      "text/latex": [
       "124.672804404272"
      ],
      "text/markdown": [
       "124.672804404272"
      ],
      "text/plain": [
       "[1] 124.6728"
      ]
     },
     "metadata": {},
     "output_type": "display_data"
    }
   ],
   "source": [
    "qnorm(0.95, m, s)"
   ]
  },
  {
   "cell_type": "markdown",
   "metadata": {},
   "source": [
    "- (4) Find answers to questions (1), (2) and (3) by simulating 1 million people sampled from the US population. Do they agree with the theoretical calculated values?"
   ]
  },
  {
   "cell_type": "code",
   "execution_count": 23,
   "metadata": {},
   "outputs": [],
   "source": [
    "n <- 1e6\n",
    "x <- rnorm(n, m, s)"
   ]
  },
  {
   "cell_type": "code",
   "execution_count": 24,
   "metadata": {},
   "outputs": [
    {
     "data": {
      "text/html": [
       "100.020793858963"
      ],
      "text/latex": [
       "100.020793858963"
      ],
      "text/markdown": [
       "100.020793858963"
      ],
      "text/plain": [
       "[1] 100.0208"
      ]
     },
     "metadata": {},
     "output_type": "display_data"
    }
   ],
   "source": [
    "median(x)"
   ]
  },
  {
   "cell_type": "code",
   "execution_count": 25,
   "metadata": {},
   "outputs": [
    {
     "data": {
      "text/html": [
       "0.022838"
      ],
      "text/latex": [
       "0.022838"
      ],
      "text/markdown": [
       "0.022838"
      ],
      "text/plain": [
       "[1] 0.022838"
      ]
     },
     "metadata": {},
     "output_type": "display_data"
    }
   ],
   "source": [
    "sum(x > 130)/n"
   ]
  },
  {
   "cell_type": "code",
   "execution_count": 26,
   "metadata": {},
   "outputs": [
    {
     "data": {
      "text/html": [
       "<strong>95%:</strong> 124.695020504446"
      ],
      "text/latex": [
       "\\textbf{95\\textbackslash{}\\%:} 124.695020504446"
      ],
      "text/markdown": [
       "**95%:** 124.695020504446"
      ],
      "text/plain": [
       "    95% \n",
       "124.695 "
      ]
     },
     "metadata": {},
     "output_type": "display_data"
    }
   ],
   "source": [
    "quantile(x, 0.95)"
   ]
  },
  {
   "cell_type": "markdown",
   "metadata": {},
   "source": [
    "- (5) Plot the PDF of gene X using `ggplot2` for values between 50 and 150. Give it a title of `PDF of N(100, 15)`, a subtile of `I made this!`, and label the x-axis as `Gene X` and y-axis as `PDF`. Make the PDF blue, and fill the region under the curve blue with a transparency of 50%."
   ]
  },
  {
   "cell_type": "code",
   "execution_count": 27,
   "metadata": {},
   "outputs": [
    {
     "data": {
      "image/png": "[encoded data removed]",
      "text/plain": [
       "plot without title"
      ]
     },
     "metadata": {},
     "output_type": "display_data"
    }
   ],
   "source": [
    "x <- 50:150\n",
    "df <- data.frame(x=x, y=dnorm(x, m, s))\n",
    "ggplot(df, aes(x=x, y=y)) +\n",
    "geom_line(color='blue') +\n",
    "geom_polygon(fill='blue', alpha=0.5) +\n",
    "labs(title='PDF of N(100, 15)',\n",
    "    subtitle='I made this!',\n",
    "    x='Gene X',\n",
    "    y='PDF')"
   ]
  },
  {
   "cell_type": "markdown",
   "metadata": {},
   "source": [
    "## Interval estimates"
   ]
  },
  {
   "cell_type": "markdown",
   "metadata": {},
   "source": [
    "### Confidence intervals"
   ]
  },
  {
   "cell_type": "code",
   "execution_count": 28,
   "metadata": {},
   "outputs": [],
   "source": [
    "ci = 0.95"
   ]
  },
  {
   "cell_type": "code",
   "execution_count": 29,
   "metadata": {},
   "outputs": [
    {
     "data": {
      "text/html": [
       "<ol class=list-inline>\n",
       "\t<li>94.215778757373</li>\n",
       "\t<li>105.784221242627</li>\n",
       "</ol>\n"
      ],
      "text/latex": [
       "\\begin{enumerate*}\n",
       "\\item 94.215778757373\n",
       "\\item 105.784221242627\n",
       "\\end{enumerate*}\n"
      ],
      "text/markdown": [
       "1. 94.215778757373\n",
       "2. 105.784221242627\n",
       "\n",
       "\n"
      ],
      "text/plain": [
       "[1]  94.21578 105.78422"
      ]
     },
     "metadata": {},
     "output_type": "display_data"
    }
   ],
   "source": [
    "alpha = (1-ci)\n",
    "n <- length(x)\n",
    "m <- mean(x)\n",
    "s <- sd(x)\n",
    "se <- s/sqrt(n)\n",
    "me <- qt(1-alpha/2, df=n-1) * se\n",
    "c(m - me, m + me)"
   ]
  },
  {
   "cell_type": "markdown",
   "metadata": {},
   "source": [
    "Note that confidence intervals get larger as the confidence required increases."
   ]
  },
  {
   "cell_type": "code",
   "execution_count": 30,
   "metadata": {},
   "outputs": [],
   "source": [
    "ci = 0.99"
   ]
  },
  {
   "cell_type": "code",
   "execution_count": 31,
   "metadata": {},
   "outputs": [
    {
     "data": {
      "text/html": [
       "<ol class=list-inline>\n",
       "\t<li>92.3442793441823</li>\n",
       "\t<li>107.655720655818</li>\n",
       "</ol>\n"
      ],
      "text/latex": [
       "\\begin{enumerate*}\n",
       "\\item 92.3442793441823\n",
       "\\item 107.655720655818\n",
       "\\end{enumerate*}\n"
      ],
      "text/markdown": [
       "1. 92.3442793441823\n",
       "2. 107.655720655818\n",
       "\n",
       "\n"
      ],
      "text/plain": [
       "[1]  92.34428 107.65572"
      ]
     },
     "metadata": {},
     "output_type": "display_data"
    }
   ],
   "source": [
    "alpha = (1-ci)\n",
    "n <- length(x)\n",
    "m <- mean(x)\n",
    "s <- sd(x)\n",
    "se <- s/sqrt(n)\n",
    "me <- qt(1-alpha/2, df=n-1) * se\n",
    "c(m - me, m + me)"
   ]
  },
  {
   "cell_type": "markdown",
   "metadata": {},
   "source": [
    "### Making a function"
   ]
  },
  {
   "cell_type": "markdown",
   "metadata": {},
   "source": [
    "#### Review of R custom functions"
   ]
  },
  {
   "cell_type": "code",
   "execution_count": 31,
   "metadata": {},
   "outputs": [],
   "source": [
    "f <- function(a, b=1) {\n",
    "    a + b\n",
    "}"
   ]
  },
  {
   "cell_type": "code",
   "execution_count": 32,
   "metadata": {},
   "outputs": [
    {
     "data": {
      "text/html": [
       "3"
      ],
      "text/latex": [
       "3"
      ],
      "text/markdown": [
       "3"
      ],
      "text/plain": [
       "[1] 3"
      ]
     },
     "metadata": {},
     "output_type": "display_data"
    }
   ],
   "source": [
    "f(2)"
   ]
  },
  {
   "cell_type": "code",
   "execution_count": 33,
   "metadata": {},
   "outputs": [
    {
     "data": {
      "text/html": [
       "5"
      ],
      "text/latex": [
       "5"
      ],
      "text/markdown": [
       "5"
      ],
      "text/plain": [
       "[1] 5"
      ]
     },
     "metadata": {},
     "output_type": "display_data"
    }
   ],
   "source": [
    "f(2,3)"
   ]
  },
  {
   "cell_type": "code",
   "execution_count": 34,
   "metadata": {},
   "outputs": [
    {
     "data": {
      "text/html": [
       "5"
      ],
      "text/latex": [
       "5"
      ],
      "text/markdown": [
       "5"
      ],
      "text/plain": [
       "[1] 5"
      ]
     },
     "metadata": {},
     "output_type": "display_data"
    }
   ],
   "source": [
    "f(b=4, a=1)"
   ]
  },
  {
   "cell_type": "markdown",
   "metadata": {},
   "source": [
    "**Exercise**\n",
    "\n",
    "Make a function called `conf` for calculating confidence intervals for the sample mean that takes two arguments \n",
    "\n",
    "- x is the vector of sample values\n",
    "- ci is the confidence interval with a default of 0.95\n",
    "\n",
    "The funciton should return a vector of two numbers indicating the lwoer and upper limeit of the confidence interval\n",
    "\n",
    "Check that it gives the same answer as the example above."
   ]
  },
  {
   "cell_type": "code",
   "execution_count": 32,
   "metadata": {},
   "outputs": [],
   "source": [
    "conf <- function(x, ci=0.95) {\n",
    "   alpha = (1-ci)\n",
    "    n <- length(x)\n",
    "    m <- mean(x)\n",
    "    s <- sd(x)\n",
    "    se <- s/sqrt(n)\n",
    "    me <- qt(1-alpha/2, df=n-1) * se\n",
    "    c(m - me, m + me)     \n",
    "}"
   ]
  },
  {
   "cell_type": "code",
   "execution_count": 33,
   "metadata": {},
   "outputs": [
    {
     "data": {
      "text/html": [
       "<ol class=list-inline>\n",
       "\t<li>94.215778757373</li>\n",
       "\t<li>105.784221242627</li>\n",
       "</ol>\n"
      ],
      "text/latex": [
       "\\begin{enumerate*}\n",
       "\\item 94.215778757373\n",
       "\\item 105.784221242627\n",
       "\\end{enumerate*}\n"
      ],
      "text/markdown": [
       "1. 94.215778757373\n",
       "2. 105.784221242627\n",
       "\n",
       "\n"
      ],
      "text/plain": [
       "[1]  94.21578 105.78422"
      ]
     },
     "metadata": {},
     "output_type": "display_data"
    }
   ],
   "source": [
    "conf(x)"
   ]
  },
  {
   "cell_type": "markdown",
   "metadata": {},
   "source": [
    "### Coverage\n",
    "\n",
    "In 1,000 experiments, we expect the true mean (0) to lie within the estimated 95% CIs 950 times."
   ]
  },
  {
   "cell_type": "code",
   "execution_count": 34,
   "metadata": {},
   "outputs": [],
   "source": [
    "n_expt <- 1000\n",
    "n <- 10\n",
    "cls <- t(replicate(n_expt, conf(rnorm(n))))"
   ]
  },
  {
   "cell_type": "code",
   "execution_count": 35,
   "metadata": {},
   "outputs": [
    {
     "data": {
      "text/html": [
       "960"
      ],
      "text/latex": [
       "960"
      ],
      "text/markdown": [
       "960"
      ],
      "text/plain": [
       "[1] 960"
      ]
     },
     "metadata": {},
     "output_type": "display_data"
    }
   ],
   "source": [
    "sum(cls[,1] < 0 & 0 < cls[,2])"
   ]
  },
  {
   "cell_type": "markdown",
   "metadata": {},
   "source": [
    "## Hypothesis testing"
   ]
  },
  {
   "cell_type": "markdown",
   "metadata": {},
   "source": [
    "### Binomial test"
   ]
  },
  {
   "cell_type": "code",
   "execution_count": 36,
   "metadata": {},
   "outputs": [
    {
     "data": {
      "text/plain": [
       "tosses\n",
       " H  T \n",
       "27 23 "
      ]
     },
     "metadata": {},
     "output_type": "display_data"
    }
   ],
   "source": [
    "set.seed(123)\n",
    "\n",
    "n = 50\n",
    "tosses = sample(c('H', 'T'), n, replace=TRUE, prob=c(0.55, 0.45))\n",
    "t = table(tosses)\n",
    "t"
   ]
  },
  {
   "cell_type": "code",
   "execution_count": 37,
   "metadata": {},
   "outputs": [
    {
     "data": {
      "text/plain": [
       "\n",
       "\tExact binomial test\n",
       "\n",
       "data:  table(tosses)\n",
       "number of successes = 27, number of trials = 50, p-value = 0.6718\n",
       "alternative hypothesis: true probability of success is not equal to 0.5\n",
       "95 percent confidence interval:\n",
       " 0.3932420 0.6818508\n",
       "sample estimates:\n",
       "probability of success \n",
       "                  0.54 \n"
      ]
     },
     "metadata": {},
     "output_type": "display_data"
    }
   ],
   "source": [
    "binom.test(table(tosses))"
   ]
  },
  {
   "cell_type": "code",
   "execution_count": 41,
   "metadata": {},
   "outputs": [
    {
     "data": {
      "text/plain": [
       "tosses\n",
       "  H   T \n",
       "139 111 "
      ]
     },
     "metadata": {},
     "output_type": "display_data"
    }
   ],
   "source": [
    "set.seed(123)\n",
    "\n",
    "n = 250\n",
    "tosses = sample(c('H', 'T'), n, replace=TRUE, prob=c(0.55, 0.45))\n",
    "t = table(tosses)\n",
    "t"
   ]
  },
  {
   "cell_type": "code",
   "execution_count": 42,
   "metadata": {},
   "outputs": [
    {
     "data": {
      "text/plain": [
       "\n",
       "\tExact binomial test\n",
       "\n",
       "data:  t\n",
       "number of successes = 139, number of trials = 250, p-value = 0.0875\n",
       "alternative hypothesis: true probability of success is not equal to 0.5\n",
       "95 percent confidence interval:\n",
       " 0.4920569 0.6185995\n",
       "sample estimates:\n",
       "probability of success \n",
       "                 0.556 \n"
      ]
     },
     "metadata": {},
     "output_type": "display_data"
    }
   ],
   "source": [
    "binom.test(t)"
   ]
  },
  {
   "cell_type": "markdown",
   "metadata": {},
   "source": [
    "#### What happens if we choose a one-sided test?"
   ]
  },
  {
   "cell_type": "code",
   "execution_count": 43,
   "metadata": {},
   "outputs": [
    {
     "data": {
      "text/plain": [
       "\n",
       "\tExact binomial test\n",
       "\n",
       "data:  t\n",
       "number of successes = 139, number of trials = 250, p-value = 0.04375\n",
       "alternative hypothesis: true probability of success is greater than 0.5\n",
       "95 percent confidence interval:\n",
       " 0.5020197 1.0000000\n",
       "sample estimates:\n",
       "probability of success \n",
       "                 0.556 \n"
      ]
     },
     "metadata": {},
     "output_type": "display_data"
    }
   ],
   "source": [
    "binom.test(t, alternative = \"greater\")"
   ]
  },
  {
   "cell_type": "code",
   "execution_count": 44,
   "metadata": {},
   "outputs": [
    {
     "data": {
      "text/plain": [
       "\n",
       "\tExact binomial test\n",
       "\n",
       "data:  t\n",
       "number of successes = 139, number of trials = 250, p-value = 0.9668\n",
       "alternative hypothesis: true probability of success is less than 0.5\n",
       "95 percent confidence interval:\n",
       " 0.0000000 0.6089811\n",
       "sample estimates:\n",
       "probability of success \n",
       "                 0.556 \n"
      ]
     },
     "metadata": {},
     "output_type": "display_data"
    }
   ],
   "source": [
    "binom.test(t, alternative = \"less\")"
   ]
  },
  {
   "cell_type": "markdown",
   "metadata": {},
   "source": [
    "#### What happens if we change our null hypothesis?"
   ]
  },
  {
   "cell_type": "code",
   "execution_count": 45,
   "metadata": {},
   "outputs": [
    {
     "data": {
      "text/plain": [
       "\n",
       "\tExact binomial test\n",
       "\n",
       "data:  t\n",
       "number of successes = 139, number of trials = 250, p-value = 0.8989\n",
       "alternative hypothesis: true probability of success is not equal to 0.55\n",
       "95 percent confidence interval:\n",
       " 0.4920569 0.6185995\n",
       "sample estimates:\n",
       "probability of success \n",
       "                 0.556 \n"
      ]
     },
     "metadata": {},
     "output_type": "display_data"
    }
   ],
   "source": [
    "binom.test(t, p = 0.55)"
   ]
  },
  {
   "cell_type": "markdown",
   "metadata": {},
   "source": [
    "## Two-sample model"
   ]
  },
  {
   "cell_type": "markdown",
   "metadata": {},
   "source": [
    "### Welch t-test"
   ]
  },
  {
   "cell_type": "code",
   "execution_count": 46,
   "metadata": {},
   "outputs": [],
   "source": [
    "set.seed(123)\n",
    "\n",
    "n <- 10\n",
    "x1 <- rnorm(n, 0, 1)\n",
    "x2 <- rnorm(n, 1, 1)"
   ]
  },
  {
   "cell_type": "code",
   "execution_count": 47,
   "metadata": {},
   "outputs": [
    {
     "data": {
      "text/plain": [
       "\n",
       "\tWelch Two Sample t-test\n",
       "\n",
       "data:  x1 and x2\n",
       "t = -2.5438, df = 17.872, p-value = 0.02044\n",
       "alternative hypothesis: true difference in means is not equal to 0\n",
       "95 percent confidence interval:\n",
       " -2.0710488 -0.1969438\n",
       "sample estimates:\n",
       " mean of x  mean of y \n",
       "0.07462564 1.20862196 \n"
      ]
     },
     "metadata": {},
     "output_type": "display_data"
    }
   ],
   "source": [
    "t.test(x1, x2)"
   ]
  },
  {
   "cell_type": "markdown",
   "metadata": {},
   "source": [
    "### Standard t-test"
   ]
  },
  {
   "cell_type": "code",
   "execution_count": 48,
   "metadata": {},
   "outputs": [
    {
     "data": {
      "text/plain": [
       "\n",
       "\tTwo Sample t-test\n",
       "\n",
       "data:  x1 and x2\n",
       "t = -2.5438, df = 18, p-value = 0.02036\n",
       "alternative hypothesis: true difference in means is not equal to 0\n",
       "95 percent confidence interval:\n",
       " -2.0705694 -0.1974232\n",
       "sample estimates:\n",
       " mean of x  mean of y \n",
       "0.07462564 1.20862196 \n"
      ]
     },
     "metadata": {},
     "output_type": "display_data"
    }
   ],
   "source": [
    "t.test(x1, x2, var.equal = TRUE)"
   ]
  },
  {
   "cell_type": "markdown",
   "metadata": {},
   "source": [
    "### Power of t-test"
   ]
  },
  {
   "cell_type": "code",
   "execution_count": 49,
   "metadata": {},
   "outputs": [],
   "source": [
    "d <- 1 # Effect size is ratio of difference in means to standard deviation"
   ]
  },
  {
   "cell_type": "markdown",
   "metadata": {},
   "source": [
    "```R\n",
    "library(pwr)\n",
    "pwr.t.test(d = d, sig.level = 0.05, power = 0.9)\n",
    "```\n",
    "\n",
    "gives output\n",
    "\n",
    "```\n",
    "     Two-sample t test power calculation \n",
    "\n",
    "              n = 22.02109\n",
    "              d = 1\n",
    "      sig.level = 0.05\n",
    "          power = 0.9\n",
    "    alternative = two.sided\n",
    "\n",
    "NOTE: n is number in *each* group\n",
    "```"
   ]
  },
  {
   "cell_type": "markdown",
   "metadata": {},
   "source": [
    "#### Interpretation of the power calculaiton\n",
    "\n",
    "If we did many experiments with `n=23` per group where the effect size is as specified and the test assumptions are valid, we expect that at least 90% of them will have a p-value less than the nominal significance level (0.05). If we used `n=22` we would expect that just under 90% of the experiments will have a p-value less than the nomial significance level (0.05).\n",
    "\n",
    "In particular notet that about 1-power of the experiments will fail to show a statistically significant p value even if the assumptionss are met (false negative)."
   ]
  },
  {
   "cell_type": "code",
   "execution_count": 50,
   "metadata": {},
   "outputs": [
    {
     "data": {
      "text/html": [
       "0.901"
      ],
      "text/latex": [
       "0.901"
      ],
      "text/markdown": [
       "0.901"
      ],
      "text/plain": [
       "[1] 0.901"
      ]
     },
     "metadata": {},
     "output_type": "display_data"
    }
   ],
   "source": [
    "n_expts <- 10000\n",
    "n <- 22\n",
    "alpha = 0.05\n",
    "sum(replicate(n_expts, t.test(rnorm(n, 0, 1), rnorm(n, 1, 1))$p.value) < alpha)/n_expts"
   ]
  },
  {
   "cell_type": "code",
   "execution_count": 51,
   "metadata": {},
   "outputs": [
    {
     "data": {
      "text/html": [
       "0.9125"
      ],
      "text/latex": [
       "0.9125"
      ],
      "text/markdown": [
       "0.9125"
      ],
      "text/plain": [
       "[1] 0.9125"
      ]
     },
     "metadata": {},
     "output_type": "display_data"
    }
   ],
   "source": [
    "n_expts <- 10000\n",
    "n <- 23\n",
    "alpha = 0.05\n",
    "sum(replicate(n_expts, t.test(rnorm(n, 0, 1), rnorm(n, 1, 1))$p.value) < alpha)/n_expts"
   ]
  },
  {
   "cell_type": "markdown",
   "metadata": {},
   "source": [
    "#### Distribution of p-values under the null is uniform\n",
    "\n",
    "That meas that you expect $\\alpha$ of the experiments to be false positives."
   ]
  },
  {
   "cell_type": "code",
   "execution_count": 52,
   "metadata": {},
   "outputs": [],
   "source": [
    "n_expt <- 10000\n",
    "n <- 50\n",
    "ps <- replicate(n_expts, t.test(rnorm(n), rnorm(n))$p.value)"
   ]
  },
  {
   "cell_type": "code",
   "execution_count": 53,
   "metadata": {},
   "outputs": [
    {
     "data": {
      "text/html": [
       "0.0478"
      ],
      "text/latex": [
       "0.0478"
      ],
      "text/markdown": [
       "0.0478"
      ],
      "text/plain": [
       "[1] 0.0478"
      ]
     },
     "metadata": {},
     "output_type": "display_data"
    }
   ],
   "source": [
    "sum(ps < alpha)/n_expts"
   ]
  },
  {
   "cell_type": "code",
   "execution_count": 54,
   "metadata": {
    "scrolled": false
   },
   "outputs": [
    {
     "data": {
      "image/png": "[encoded data removed]",
      "text/plain": [
       "Plot with title “Histogram of ps”"
      ]
     },
     "metadata": {},
     "output_type": "display_data"
    }
   ],
   "source": [
    "hist(ps)"
   ]
  },
  {
   "cell_type": "markdown",
   "metadata": {},
   "source": [
    "### Paired and one-sample t-tests\n",
    "\n",
    "A paired t-test is commonly used to evaluate if paired measuremetns (e..g. weight before and after a diet for the same person) has changed. The paired t-test is equivalent to a one-sample t-test  that compares the difference in measurements for the paired values with a fixed number (usually 0). "
   ]
  },
  {
   "cell_type": "code",
   "execution_count": 55,
   "metadata": {},
   "outputs": [],
   "source": [
    "x1 <- rnorm(10, 100, 15)\n",
    "x2 <- rnorm(10, 100, 15)\n",
    "delta <- x1 - x2"
   ]
  },
  {
   "cell_type": "code",
   "execution_count": 56,
   "metadata": {},
   "outputs": [
    {
     "data": {
      "text/plain": [
       "\n",
       "\tPaired t-test\n",
       "\n",
       "data:  x1 and x2\n",
       "t = -2.4618, df = 9, p-value = 0.03605\n",
       "alternative hypothesis: true difference in means is not equal to 0\n",
       "95 percent confidence interval:\n",
       " -12.3446069  -0.5215923\n",
       "sample estimates:\n",
       "mean of the differences \n",
       "                -6.4331 \n"
      ]
     },
     "metadata": {},
     "output_type": "display_data"
    }
   ],
   "source": [
    "t.test(x1, x2, paired=TRUE)"
   ]
  },
  {
   "cell_type": "code",
   "execution_count": 57,
   "metadata": {},
   "outputs": [
    {
     "data": {
      "text/plain": [
       "\n",
       "\tOne Sample t-test\n",
       "\n",
       "data:  delta\n",
       "t = -2.4618, df = 9, p-value = 0.03605\n",
       "alternative hypothesis: true mean is not equal to 0\n",
       "95 percent confidence interval:\n",
       " -12.3446069  -0.5215923\n",
       "sample estimates:\n",
       "mean of x \n",
       "  -6.4331 \n"
      ]
     },
     "metadata": {},
     "output_type": "display_data"
    }
   ],
   "source": [
    "t.test(delta, mu=0)"
   ]
  },
  {
   "cell_type": "markdown",
   "metadata": {},
   "source": [
    "**Exercise**\n",
    "\n",
    "Suppose that the null hypotehsis is that there is no difference in the paired measurements and the standard deviation of the differene is 2.\n",
    "\n",
    "- Run a simulation for 100,000 experiments with `n=25` per experiment to show the distributon of the p values using a paired or one -sample t-test under the null.\n",
    "- If the significance level is 0.05, how many false positive results were observed?"
   ]
  },
  {
   "cell_type": "code",
   "execution_count": 58,
   "metadata": {},
   "outputs": [],
   "source": [
    "n_expt <- 100000\n",
    "n <- 25\n",
    "s <- 2\n",
    "ps <- replicate(n_expts, t.test(rnorm(10, 0, s), mu=0)$p.value)"
   ]
  },
  {
   "cell_type": "code",
   "execution_count": 59,
   "metadata": {},
   "outputs": [
    {
     "data": {
      "image/png": "[encoded data removed]",
      "text/plain": [
       "Plot with title “Histogram of ps”"
      ]
     },
     "metadata": {},
     "output_type": "display_data"
    }
   ],
   "source": [
    "hist(ps)"
   ]
  },
  {
   "cell_type": "code",
   "execution_count": 60,
   "metadata": {},
   "outputs": [
    {
     "data": {
      "text/html": [
       "2.00293039283011"
      ],
      "text/latex": [
       "2.00293039283011"
      ],
      "text/markdown": [
       "2.00293039283011"
      ],
      "text/plain": [
       "[1] 2.00293"
      ]
     },
     "metadata": {},
     "output_type": "display_data"
    }
   ],
   "source": [
    "n <- 100000\n",
    "s <- sqrt(2)\n",
    "sd(rnorm(n, 0, s) - rnorm(n, 0, s))"
   ]
  }
 ],
 "metadata": {
  "kernelspec": {
   "display_name": "R",
   "language": "R",
   "name": "ir"
  },
  "language_info": {
   "codemirror_mode": "r",
   "file_extension": ".r",
   "mimetype": "text/x-r-source",
   "name": "R",
   "pygments_lexer": "r",
   "version": "3.6.0"
  }
 },
 "nbformat": 4,
 "nbformat_minor": 2
}
