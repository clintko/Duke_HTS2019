{
 "cells": [
  {
   "cell_type": "code",
   "execution_count": null,
   "metadata": {},
   "outputs": [],
   "source": [
    "# following is necessary after a container restart\n",
    "cp ~/work/.ddsclient ~/"
   ]
  },
  {
   "cell_type": "markdown",
   "metadata": {},
   "source": [
    "# Update metadata description markdown"
   ]
  },
  {
   "cell_type": "code",
   "execution_count": null,
   "metadata": {},
   "outputs": [],
   "source": [
    "cd /data\n",
    "chmod u+w hts_2019_data/hts2019_pilot_rawdata hts_2019_data hts_2019_data/hts2019_pilot_rawdata/2019_pilot_metadata.md\n",
    "ddsclient download -p HTS_course --include hts_2019_data/hts2019_pilot_rawdata/2019_pilot_metadata.md /data\n",
    "chmod a-w hts_2019_data/hts2019_pilot_rawdata hts_2019_data hts_2019_data/hts2019_pilot_rawdata/2019_pilot_metadata.md"
   ]
  },
  {
   "cell_type": "markdown",
   "metadata": {},
   "source": [
    "# some other DDS history"
   ]
  },
  {
   "cell_type": "code",
   "execution_count": null,
   "metadata": {},
   "outputs": [],
   "source": [
    "    5  ddsclient list\n",
    "    6  ddsclient list -p HTS_course | grep 2019 | less\n",
    "    7  ddsclient download -h\n",
    "    8  ddsclient download -p HTS_course --include hts_2019_data/hts2019_lab_rawdata\n",
    "    9  ls -ltr\n",
    "   10  ls HTS_course/\n",
    "   11  ls HTS_course/hts_2019_data/\n",
    "   12  mv HTS_course/hts_2019_data/hts2019_lab_rawdata hts_2019_data\n",
    "   13  chmod u+w hts_2019_data\n",
    "   14  mv HTS_course/hts_2019_data/hts2019_lab_rawdata hts_2019_data\n",
    "   15  chmod a-w hts_2019_data\n",
    "   16  ls HTS_course\n",
    "   17  ls HTS_course/hts_2019_data/\n",
    "   18  rmdir HTS_course/hts_2019_data/\n",
    "   19  rmdir HTS_course\n",
    "   20  history\n",
    "   21  ddsclient upload -h\n",
    "   22  ddsclient upload --dry-run -p HTS_course hts_2019_data\n",
    "   23  ddsclient download -p HTS_course --include hts_2019_data/hts2019_pilot_rawdata/2019_pilot_metadata.md hts_2019_data\n",
    "   24  ddsclient download -p HTS_course --include hts_2019_data/hts2019_pilot_rawdata/2019_pilot_metadata.md /data\n",
    "   25  chmod u+w hts_2019_data/hts2019_pilot_rawdata\n",
    "   26  ddsclient download -p HTS_course --include hts_2019_data/hts2019_pilot_rawdata/2019_pilot_metadata.md /data\n",
    "   27  chmod u+w hts_2019_data/hts2019_pilot_rawdata hts_2019_data\n",
    "   28  ddsclient download -p HTS_course --include hts_2019_data/hts2019_pilot_rawdata/2019_pilot_metadata.md /data\n",
    "   29  chmod u+w hts_2019_data/hts2019_pilot_rawdata hts_2019_data hts_2019_data/hts2019_pilot_rawdata/2019_pilot_metadata.md\n",
    "   30  ddsclient download -p HTS_course --include hts_2019_data/hts2019_pilot_rawdata/2019_pilot_metadata.md /data\n",
    "   31  chmod a-w hts_2019_data/hts2019_pilot_rawdata hts_2019_data hts_2019_data/hts2019_pilot_rawdata/2019_pilot_metadata.md\n",
    "   32  history"
   ]
  }
 ],
 "metadata": {
  "kernelspec": {
   "display_name": "Bash",
   "language": "bash",
   "name": "bash"
  },
  "language_info": {
   "codemirror_mode": "shell",
   "file_extension": ".sh",
   "mimetype": "text/x-sh",
   "name": "bash"
  }
 },
 "nbformat": 4,
 "nbformat_minor": 2
}
