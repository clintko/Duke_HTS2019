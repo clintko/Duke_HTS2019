{
 "cells": [
  {
   "cell_type": "markdown",
   "metadata": {},
   "source": [
    "# Mapping Reads to a Reference Genome\n",
    "<!---\n",
    "** Add Intro Text***\n",
    "-->\n",
    "\n",
    "## Shell Variables"
   ]
  },
  {
   "cell_type": "code",
   "execution_count": null,
   "metadata": {},
   "outputs": [],
   "source": [
    "# Source the config script\n",
    "source pe_analysis_config.sh\n",
    "mkdir -p ${STAR_OUT}\n",
    "\n",
    "ls $CUROUT"
   ]
  },
  {
   "cell_type": "markdown",
   "metadata": {},
   "source": [
    "## Mapping with STAR\n"
   ]
  },
  {
   "cell_type": "code",
   "execution_count": null,
   "metadata": {},
   "outputs": [],
   "source": [
    "STAR \\\n",
    "    --runMode alignReads \\\n",
    "    --twopassMode None \\\n",
    "    --genomeDir $GENOME_DIR \\\n",
    "    --readFilesIn $TRIMMED/10_H_S8_L002_R1_001.trim.fastq.gz $TRIMMED/10_H_S8_L002_R2_001.trim.fastq.gz \\\n",
    "    --readFilesCommand gunzip -c \\\n",
    "    --outFileNamePrefix ${STAR_OUT}/10_H_S8_L002_ \\\n",
    "    --quantMode GeneCounts \\\n",
    "    --outSAMtype BAM Unsorted \\\n",
    "    --outSAMunmapped Within \\\n",
    "    --runThreadN 2"
   ]
  },
  {
   "cell_type": "markdown",
   "metadata": {},
   "source": [
    "We will start with these parameters, but there is an extensive list of command line options detailed in the [STAR Manual](https://github.com/alexdobin/STAR/blob/master/doc/STARmanual.pdf), it is a good idea to read through and try to understand all of them.  We will discuss some more later.\n",
    "\n",
    "* --runMode alignReads : map reads \n",
    "* --twopassMode : Run one pass or two? If two-pass mode is on, STAR tries to discover novel junctions, then reruns mapping with these added to the annotation\n",
    "* --genomeDir : directory containing the genome index\n",
    "* --readFilesIn : input FASTQ\n",
    "* --readFilesCommand gunzip -c : use \"gunzip -c\" to uncompress FASTQ on-the-fly, since it is gzipped\n",
    "* --outFileNamePrefix : prefix (and path) to use for all output files\n",
    "* --quantMode GeneCounts : output a table of read counts per gene\n",
    "* --outSAMtype BAM Unsorted : output an unsort BAM file\n",
    "* --outSAMunmapped Within : included unmapped reads in the BAM file\n",
    "* --runThreadN : tells STAR to run using multiple cores.  I am using it so we don't have to wait too long for this to run during class.  It is OK to use multiple cores, but before you do this you should be sure that the server is not busy, and even then you should use a reasonable number of cores.  Abusing multi-threading is inconsiderate of other users and could crash the server.\n"
   ]
  },
  {
   "cell_type": "markdown",
   "metadata": {},
   "source": [
    "### STAR Output\n",
    "So what happened? Let's take a look . . ."
   ]
  },
  {
   "cell_type": "code",
   "execution_count": null,
   "metadata": {},
   "outputs": [],
   "source": [
    "ls ${STAR_OUT}"
   ]
  },
  {
   "cell_type": "code",
   "execution_count": null,
   "metadata": {},
   "outputs": [],
   "source": [
    "head ${STAR_OUT}/10_H_S8_L002*"
   ]
  },
  {
   "cell_type": "markdown",
   "metadata": {},
   "source": [
    "STAR generates several files for each FASTQ:\n",
    "* Log.out : lots of details of the run, including all parameters used\n",
    "* Log.final.out : Important summary statistics\n",
    "* ReadsPerGene.out.tab : Count table, the main thing we are interested in\n",
    "* SJ.out.tab : All splice junctions, including ones from the GTF and novel junctions discovered by STAR\n",
    "* Log.progress.out: run statistics updated during run, not so interesting at the end\n",
    "\n",
    "Let's take a closer look at Log.final.out"
   ]
  },
  {
   "cell_type": "code",
   "execution_count": null,
   "metadata": {},
   "outputs": [],
   "source": [
    "cat ${STAR_OUT}/10_H_S8_L002_Log.final.out"
   ]
  },
  {
   "cell_type": "markdown",
   "metadata": {},
   "source": [
    "### MultiQC\n",
    "MultiQC also works with STAR reports, so let's try it!"
   ]
  },
  {
   "cell_type": "code",
   "execution_count": null,
   "metadata": {},
   "outputs": [],
   "source": [
    "multiqc ${STAR_OUT} --outdir ${STAR_OUT}"
   ]
  },
  {
   "cell_type": "markdown",
   "metadata": {},
   "source": [
    "Once multiqc is done running we can view the results by finding the output in the Jupyter browser, it should be in a file named `multiqc_report.html` in :"
   ]
  },
  {
   "cell_type": "code",
   "execution_count": null,
   "metadata": {},
   "outputs": [],
   "source": [
    "echo ${STAR_OUT}"
   ]
  }
 ],
 "metadata": {
  "kernelspec": {
   "display_name": "Bash",
   "language": "bash",
   "name": "bash"
  },
  "language_info": {
   "codemirror_mode": "shell",
   "file_extension": ".sh",
   "mimetype": "text/x-sh",
   "name": "bash"
  }
 },
 "nbformat": 4,
 "nbformat_minor": 1
}
