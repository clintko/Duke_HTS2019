{
 "cells": [
  {
   "cell_type": "markdown",
   "metadata": {},
   "source": [
    "# Hands On Bioinformatics Exercise #4\n",
    "\n",
    "The sequencing data from your group's libraries is ready!\n",
    "\n",
    "All of the FASTQ files are in `/data/hts_2019_data/hts2019_lab_rawdata`.  In addition to the FASTQ files, you will find the following supporting files in the same directory:\n",
    "\n",
    "- md5_checksum.txt: MD5sums for each of the FASTQs\n",
    "- lab_library_metadata.csv: library metadata\n",
    "- lab_library_metadata.md: description of library metadata\n",
    "- 5728_demultiplexing.html: summary statistics for each library on each of the four NextSeq lanes\n",
    "\n",
    "Your libraries were paired-end sequenced, but you should ***only work with the R1 files for now***.\n",
    "\n",
    "\n",
    "## Your Turn!\n",
    "The goal of these exercises is to prepare your data for downstream statistical analysis\n",
    "\n",
    "1. Select one FASTQ from your group's data (i.e. one lane from one of the libraries).  From this FASTQ generate a BAM file and a count table.  As you remember from class, it is a multi-step process to go from FASTQ to BAM and counts, be sure to perform all the steps!\n",
    "\n",
    "2. Repeat #1 with three of the libraries that your group generated, but only work with one lane (e.g. lane 3).  In other words you should be working with three FASTQs.  You should use a loop to iterate over all three of the FASTQs and use a glob to specify the FASTQs you are iterating over.  Remember that you should **only work with the R1 files for now**.\n",
    "\n",
    "3. Repeat #2 with *all lanes* and *all libraries* that your group generated.  In other words you should be working with twenty-four FASTQs.  You should use a loop to iterate over all twenty-four of the FASTQs and use a glob to specify the FASTQs you are iterating over.  Remember that you should **only work with the R1 files for now**.\n",
    "\n",
    "### General Advice\n",
    "- It is fine to discuss with other people in your group and other people in the course, but we strongly recommend that every try to work through these steps themselves.\n",
    "\n",
    "- Please remember to be respectful of computing resources.  Before you start a multithreaded process, use `htop` to check to see how busy the server is.  During class you should limit the number of threads you use to 25% of the available cores (i.e. if 8 of the cores are \"idle\", only use 2 threads).  Outside of class time, it is OK to use 50% of available cores.  Overloading the server slows down everyone's analysis, including your own, and careful use of multithreading can mean that everyone's analysis gets done sooner.\n"
   ]
  }
 ],
 "metadata": {
  "kernelspec": {
   "display_name": "Python 3",
   "language": "python",
   "name": "python3"
  },
  "language_info": {
   "codemirror_mode": {
    "name": "ipython",
    "version": 3
   },
   "file_extension": ".py",
   "mimetype": "text/x-python",
   "name": "python",
   "nbconvert_exporter": "python",
   "pygments_lexer": "ipython3",
   "version": "3.5.3"
  }
 },
 "nbformat": 4,
 "nbformat_minor": 2
}
