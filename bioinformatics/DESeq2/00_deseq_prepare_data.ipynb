{
 "cells": [
  {
   "cell_type": "markdown",
   "metadata": {},
   "source": [
    "# DESeq2: Create count matrix and metadata data frame"
   ]
  },
  {
   "cell_type": "markdown",
   "metadata": {},
   "source": [
    "## Objective: create a count matrix and metadata frame for the 2019 pilot data"
   ]
  },
  {
   "cell_type": "markdown",
   "metadata": {},
   "source": [
    "### Load packages"
   ]
  },
  {
   "cell_type": "code",
   "execution_count": 1,
   "metadata": {},
   "outputs": [
    {
     "name": "stderr",
     "output_type": "stream",
     "text": [
      "Registered S3 methods overwritten by 'ggplot2':\n",
      "  method         from \n",
      "  [.quosures     rlang\n",
      "  c.quosures     rlang\n",
      "  print.quosures rlang\n",
      "── \u001b[1mAttaching packages\u001b[22m ─────────────────────────────────────── tidyverse 1.2.1 ──\n",
      "\u001b[32m✔\u001b[39m \u001b[34mggplot2\u001b[39m 3.1.1     \u001b[32m✔\u001b[39m \u001b[34mpurrr  \u001b[39m 0.3.2\n",
      "\u001b[32m✔\u001b[39m \u001b[34mtibble \u001b[39m 2.1.2     \u001b[32m✔\u001b[39m \u001b[34mdplyr  \u001b[39m 0.8.1\n",
      "\u001b[32m✔\u001b[39m \u001b[34mtidyr  \u001b[39m 0.8.3     \u001b[32m✔\u001b[39m \u001b[34mstringr\u001b[39m 1.4.0\n",
      "\u001b[32m✔\u001b[39m \u001b[34mreadr  \u001b[39m 1.3.1     \u001b[32m✔\u001b[39m \u001b[34mforcats\u001b[39m 0.4.0\n",
      "── \u001b[1mConflicts\u001b[22m ────────────────────────────────────────── tidyverse_conflicts() ──\n",
      "\u001b[31m✖\u001b[39m \u001b[34mdplyr\u001b[39m::\u001b[32mfilter()\u001b[39m masks \u001b[34mstats\u001b[39m::filter()\n",
      "\u001b[31m✖\u001b[39m \u001b[34mdplyr\u001b[39m::\u001b[32mlag()\u001b[39m    masks \u001b[34mstats\u001b[39m::lag()\n"
     ]
    }
   ],
   "source": [
    "library(tidyverse)"
   ]
  },
  {
   "cell_type": "markdown",
   "metadata": {},
   "source": [
    "### Import Counts"
   ]
  },
  {
   "cell_type": "code",
   "execution_count": 2,
   "metadata": {},
   "outputs": [
    {
     "data": {
      "text/html": [
       "<strong>/home/jovyan/work/scratch/analysis_output/out/hts-pilot-2019.RData:</strong> 'f617195665ef950ffb36a89f2d18a9ca'"
      ],
      "text/latex": [
       "\\textbf{/home/jovyan/work/scratch/analysis\\textbackslash{}\\_output/out/hts-pilot-2019.RData:} 'f617195665ef950ffb36a89f2d18a9ca'"
      ],
      "text/markdown": [
       "**/home/jovyan/work/scratch/analysis_output/out/hts-pilot-2019.RData:** 'f617195665ef950ffb36a89f2d18a9ca'"
      ],
      "text/plain": [
       "/home/jovyan/work/scratch/analysis_output/out/hts-pilot-2019.RData \n",
       "                                \"f617195665ef950ffb36a89f2d18a9ca\" "
      ]
     },
     "metadata": {},
     "output_type": "display_data"
    },
    {
     "data": {
      "text/html": [
       "<ol class=list-inline>\n",
       "\t<li>'genecounts'</li>\n",
       "\t<li>'mapresults'</li>\n",
       "</ol>\n"
      ],
      "text/latex": [
       "\\begin{enumerate*}\n",
       "\\item 'genecounts'\n",
       "\\item 'mapresults'\n",
       "\\end{enumerate*}\n"
      ],
      "text/markdown": [
       "1. 'genecounts'\n",
       "2. 'mapresults'\n",
       "\n",
       "\n"
      ],
      "text/plain": [
       "[1] \"genecounts\" \"mapresults\""
      ]
     },
     "metadata": {},
     "output_type": "display_data"
    }
   ],
   "source": [
    "### Due to time constraints, we skip the import of the count files (see HTS tidyverse notebook)\n",
    "\n",
    "cntfile <- '/home/jovyan/work/scratch/analysis_output/out/hts-pilot-2019.RData'\n",
    "attach(cntfile)\n",
    "tools::md5sum(cntfile)\n",
    "ls(2)"
   ]
  },
  {
   "cell_type": "code",
   "execution_count": 3,
   "metadata": {},
   "outputs": [
    {
     "data": {
      "text/html": [
       "<table>\n",
       "<caption>A tibble: 8 × 5</caption>\n",
       "<thead>\n",
       "\t<tr><th scope=col>expid</th><th scope=col>CNAG_00001</th><th scope=col>CNAG_00002</th><th scope=col>CNAG_00003</th><th scope=col>CNAG_00004</th></tr>\n",
       "\t<tr><th scope=col>&lt;chr&gt;</th><th scope=col>&lt;int&gt;</th><th scope=col>&lt;int&gt;</th><th scope=col>&lt;int&gt;</th><th scope=col>&lt;int&gt;</th></tr>\n",
       "</thead>\n",
       "<tbody>\n",
       "\t<tr><td>1_2019_P_M1_S1_L001_ReadsPerGene.out.tab  </td><td>0</td><td>35</td><td>48</td><td>223</td></tr>\n",
       "\t<tr><td>1_2019_P_M1_S1_L002_ReadsPerGene.out.tab  </td><td>0</td><td>43</td><td>46</td><td>227</td></tr>\n",
       "\t<tr><td>1_2019_P_M1_S1_L003_ReadsPerGene.out.tab  </td><td>0</td><td>46</td><td>49</td><td>232</td></tr>\n",
       "\t<tr><td>1_2019_P_M1_S1_L004_ReadsPerGene.out.tab  </td><td>0</td><td>34</td><td>58</td><td>222</td></tr>\n",
       "\t<tr><td>10_2019_P_M1_S10_L001_ReadsPerGene.out.tab</td><td>0</td><td>30</td><td>36</td><td>130</td></tr>\n",
       "\t<tr><td>10_2019_P_M1_S10_L002_ReadsPerGene.out.tab</td><td>0</td><td>37</td><td>37</td><td>117</td></tr>\n",
       "\t<tr><td>10_2019_P_M1_S10_L003_ReadsPerGene.out.tab</td><td>0</td><td>29</td><td>31</td><td>135</td></tr>\n",
       "\t<tr><td>10_2019_P_M1_S10_L004_ReadsPerGene.out.tab</td><td>0</td><td>23</td><td>27</td><td>131</td></tr>\n",
       "</tbody>\n",
       "</table>\n"
      ],
      "text/latex": [
       "A tibble: 8 × 5\n",
       "\\begin{tabular}{r|lllll}\n",
       " expid & CNAG\\_00001 & CNAG\\_00002 & CNAG\\_00003 & CNAG\\_00004\\\\\n",
       " <chr> & <int> & <int> & <int> & <int>\\\\\n",
       "\\hline\n",
       "\t 1\\_2019\\_P\\_M1\\_S1\\_L001\\_ReadsPerGene.out.tab   & 0 & 35 & 48 & 223\\\\\n",
       "\t 1\\_2019\\_P\\_M1\\_S1\\_L002\\_ReadsPerGene.out.tab   & 0 & 43 & 46 & 227\\\\\n",
       "\t 1\\_2019\\_P\\_M1\\_S1\\_L003\\_ReadsPerGene.out.tab   & 0 & 46 & 49 & 232\\\\\n",
       "\t 1\\_2019\\_P\\_M1\\_S1\\_L004\\_ReadsPerGene.out.tab   & 0 & 34 & 58 & 222\\\\\n",
       "\t 10\\_2019\\_P\\_M1\\_S10\\_L001\\_ReadsPerGene.out.tab & 0 & 30 & 36 & 130\\\\\n",
       "\t 10\\_2019\\_P\\_M1\\_S10\\_L002\\_ReadsPerGene.out.tab & 0 & 37 & 37 & 117\\\\\n",
       "\t 10\\_2019\\_P\\_M1\\_S10\\_L003\\_ReadsPerGene.out.tab & 0 & 29 & 31 & 135\\\\\n",
       "\t 10\\_2019\\_P\\_M1\\_S10\\_L004\\_ReadsPerGene.out.tab & 0 & 23 & 27 & 131\\\\\n",
       "\\end{tabular}\n"
      ],
      "text/markdown": [
       "\n",
       "A tibble: 8 × 5\n",
       "\n",
       "| expid &lt;chr&gt; | CNAG_00001 &lt;int&gt; | CNAG_00002 &lt;int&gt; | CNAG_00003 &lt;int&gt; | CNAG_00004 &lt;int&gt; |\n",
       "|---|---|---|---|---|\n",
       "| 1_2019_P_M1_S1_L001_ReadsPerGene.out.tab   | 0 | 35 | 48 | 223 |\n",
       "| 1_2019_P_M1_S1_L002_ReadsPerGene.out.tab   | 0 | 43 | 46 | 227 |\n",
       "| 1_2019_P_M1_S1_L003_ReadsPerGene.out.tab   | 0 | 46 | 49 | 232 |\n",
       "| 1_2019_P_M1_S1_L004_ReadsPerGene.out.tab   | 0 | 34 | 58 | 222 |\n",
       "| 10_2019_P_M1_S10_L001_ReadsPerGene.out.tab | 0 | 30 | 36 | 130 |\n",
       "| 10_2019_P_M1_S10_L002_ReadsPerGene.out.tab | 0 | 37 | 37 | 117 |\n",
       "| 10_2019_P_M1_S10_L003_ReadsPerGene.out.tab | 0 | 29 | 31 | 135 |\n",
       "| 10_2019_P_M1_S10_L004_ReadsPerGene.out.tab | 0 | 23 | 27 | 131 |\n",
       "\n"
      ],
      "text/plain": [
       "  expid                                      CNAG_00001 CNAG_00002 CNAG_00003\n",
       "1 1_2019_P_M1_S1_L001_ReadsPerGene.out.tab   0          35         48        \n",
       "2 1_2019_P_M1_S1_L002_ReadsPerGene.out.tab   0          43         46        \n",
       "3 1_2019_P_M1_S1_L003_ReadsPerGene.out.tab   0          46         49        \n",
       "4 1_2019_P_M1_S1_L004_ReadsPerGene.out.tab   0          34         58        \n",
       "5 10_2019_P_M1_S10_L001_ReadsPerGene.out.tab 0          30         36        \n",
       "6 10_2019_P_M1_S10_L002_ReadsPerGene.out.tab 0          37         37        \n",
       "7 10_2019_P_M1_S10_L003_ReadsPerGene.out.tab 0          29         31        \n",
       "8 10_2019_P_M1_S10_L004_ReadsPerGene.out.tab 0          23         27        \n",
       "  CNAG_00004\n",
       "1 223       \n",
       "2 227       \n",
       "3 232       \n",
       "4 222       \n",
       "5 130       \n",
       "6 117       \n",
       "7 135       \n",
       "8 131       "
      ]
     },
     "metadata": {},
     "output_type": "display_data"
    },
    {
     "data": {
      "text/html": [
       "<ol class=list-inline>\n",
       "\t<li>144</li>\n",
       "\t<li>8500</li>\n",
       "</ol>\n"
      ],
      "text/latex": [
       "\\begin{enumerate*}\n",
       "\\item 144\n",
       "\\item 8500\n",
       "\\end{enumerate*}\n"
      ],
      "text/markdown": [
       "1. 144\n",
       "2. 8500\n",
       "\n",
       "\n"
      ],
      "text/plain": [
       "[1]  144 8500"
      ]
     },
     "metadata": {},
     "output_type": "display_data"
    }
   ],
   "source": [
    "### Look at the first five genes across the libraries\n",
    "\n",
    "genecounts[1:8, 1:5]\n",
    "dim(genecounts)"
   ]
  },
  {
   "cell_type": "markdown",
   "metadata": {},
   "source": [
    "### Filter out 2018 libraries from count file"
   ]
  },
  {
   "cell_type": "code",
   "execution_count": 4,
   "metadata": {},
   "outputs": [
    {
     "data": {
      "text/html": [
       "<ol class=list-inline>\n",
       "\t<li>96</li>\n",
       "\t<li>8500</li>\n",
       "</ol>\n"
      ],
      "text/latex": [
       "\\begin{enumerate*}\n",
       "\\item 96\n",
       "\\item 8500\n",
       "\\end{enumerate*}\n"
      ],
      "text/markdown": [
       "1. 96\n",
       "2. 8500\n",
       "\n",
       "\n"
      ],
      "text/plain": [
       "[1]   96 8500"
      ]
     },
     "metadata": {},
     "output_type": "display_data"
    }
   ],
   "source": [
    "genecounts %>% \n",
    "    filter(str_detect(expid, \"2019\")) -> \n",
    "        genecounts2019\n",
    "\n",
    "dim(genecounts2019)"
   ]
  },
  {
   "cell_type": "markdown",
   "metadata": {},
   "source": [
    "### Import metadata file"
   ]
  },
  {
   "cell_type": "code",
   "execution_count": 5,
   "metadata": {},
   "outputs": [
    {
     "data": {
      "text/html": [
       "<strong>/data/hts_2019_data/hts2019_pilot_rawdata/2019_pilot_metadata.tsv:</strong> '757e63c2306c3c68a70b81dfcdbf7f22'"
      ],
      "text/latex": [
       "\\textbf{/data/hts\\textbackslash{}\\_2019\\textbackslash{}\\_data/hts2019\\textbackslash{}\\_pilot\\textbackslash{}\\_rawdata/2019\\textbackslash{}\\_pilot\\textbackslash{}\\_metadata.tsv:} '757e63c2306c3c68a70b81dfcdbf7f22'"
      ],
      "text/markdown": [
       "**/data/hts_2019_data/hts2019_pilot_rawdata/2019_pilot_metadata.tsv:** '757e63c2306c3c68a70b81dfcdbf7f22'"
      ],
      "text/plain": [
       "/data/hts_2019_data/hts2019_pilot_rawdata/2019_pilot_metadata.tsv \n",
       "                               \"757e63c2306c3c68a70b81dfcdbf7f22\" "
      ]
     },
     "metadata": {},
     "output_type": "display_data"
    },
    {
     "name": "stderr",
     "output_type": "stream",
     "text": [
      "Parsed with column specification:\n",
      "cols(\n",
      "  .default = col_character(),\n",
      "  sample_year = \u001b[32mcol_double()\u001b[39m,\n",
      "  enrich_rep = \u001b[32mcol_double()\u001b[39m,\n",
      "  RNA_sample_num = \u001b[32mcol_double()\u001b[39m,\n",
      "  library_num = \u001b[32mcol_double()\u001b[39m,\n",
      "  bio_replicate = \u001b[32mcol_double()\u001b[39m,\n",
      "  Nanodrop_260_280 = \u001b[32mcol_double()\u001b[39m,\n",
      "  Nanodrop_260_230 = \u001b[32mcol_double()\u001b[39m,\n",
      "  Nanodrop_concentration_ng_ul = \u001b[32mcol_double()\u001b[39m,\n",
      "  Bioanalyzer_concentration_ng_ul = \u001b[32mcol_double()\u001b[39m,\n",
      "  RIN_lowered_threshold = \u001b[32mcol_double()\u001b[39m\n",
      ")\n",
      "See spec(...) for full column specifications.\n"
     ]
    },
    {
     "data": {
      "text/html": [
       "<table>\n",
       "<caption>A spec_tbl_df: 36 × 22</caption>\n",
       "<thead>\n",
       "\t<tr><th scope=col>Label</th><th scope=col>sample_year</th><th scope=col>group</th><th scope=col>enrich_rep</th><th scope=col>RNA_sample_num</th><th scope=col>genotype</th><th scope=col>condition</th><th scope=col>libprep_person</th><th scope=col>enrichment_method</th><th scope=col>enrichment_short</th><th scope=col>⋯</th><th scope=col>i5_primer</th><th scope=col>i7_primer</th><th scope=col>library_num</th><th scope=col>bio_replicate</th><th scope=col>Nanodrop_260_280</th><th scope=col>Nanodrop_260_230</th><th scope=col>Nanodrop_concentration_ng_ul</th><th scope=col>Bioanalyzer_concentration_ng_ul</th><th scope=col>RIN_normal_threshold</th><th scope=col>RIN_lowered_threshold</th></tr>\n",
       "\t<tr><th scope=col>&lt;chr&gt;</th><th scope=col>&lt;dbl&gt;</th><th scope=col>&lt;chr&gt;</th><th scope=col>&lt;dbl&gt;</th><th scope=col>&lt;dbl&gt;</th><th scope=col>&lt;chr&gt;</th><th scope=col>&lt;chr&gt;</th><th scope=col>&lt;chr&gt;</th><th scope=col>&lt;chr&gt;</th><th scope=col>&lt;chr&gt;</th><th scope=col>⋯</th><th scope=col>&lt;chr&gt;</th><th scope=col>&lt;chr&gt;</th><th scope=col>&lt;dbl&gt;</th><th scope=col>&lt;dbl&gt;</th><th scope=col>&lt;dbl&gt;</th><th scope=col>&lt;dbl&gt;</th><th scope=col>&lt;dbl&gt;</th><th scope=col>&lt;dbl&gt;</th><th scope=col>&lt;chr&gt;</th><th scope=col>&lt;dbl&gt;</th></tr>\n",
       "</thead>\n",
       "<tbody>\n",
       "\t<tr><td>1_2019_P_M1 </td><td>2019</td><td>P</td><td>1</td><td> 1</td><td>WT   </td><td>pH4</td><td>C</td><td>mRNA  </td><td>M</td><td>⋯</td><td>i501</td><td>i701</td><td> 1</td><td>1</td><td>2.14</td><td>1.52</td><td>293</td><td> 197</td><td>N/A</td><td> 9.8</td></tr>\n",
       "\t<tr><td>2_2019_P_M1 </td><td>2019</td><td>P</td><td>1</td><td> 2</td><td>WT   </td><td>pH4</td><td>C</td><td>mRNA  </td><td>M</td><td>⋯</td><td>i502</td><td>i701</td><td> 2</td><td>2</td><td>2.12</td><td>1.79</td><td>290</td><td> 225</td><td>N/A</td><td> 9.9</td></tr>\n",
       "\t<tr><td>3_2019_P_M1 </td><td>2019</td><td>P</td><td>1</td><td> 3</td><td>WT   </td><td>pH4</td><td>C</td><td>mRNA  </td><td>M</td><td>⋯</td><td>i503</td><td>i701</td><td> 3</td><td>3</td><td>2.11</td><td>2.49</td><td>302</td><td> 241</td><td>N/A</td><td> 9.9</td></tr>\n",
       "\t<tr><td>4_2019_P_M1 </td><td>2019</td><td>P</td><td>1</td><td> 4</td><td>WT   </td><td>pH4</td><td>P</td><td>mRNA  </td><td>M</td><td>⋯</td><td>i504</td><td>i701</td><td> 4</td><td>4</td><td>2.13</td><td>1.15</td><td>296</td><td> 189</td><td>N/A</td><td> 9.7</td></tr>\n",
       "\t<tr><td>5_2019_P_M1 </td><td>2019</td><td>P</td><td>1</td><td> 5</td><td>WT   </td><td>pH4</td><td>P</td><td>mRNA  </td><td>M</td><td>⋯</td><td>i505</td><td>i701</td><td> 5</td><td>5</td><td>2.09</td><td>2.42</td><td>337</td><td> 268</td><td>10 </td><td>10.0</td></tr>\n",
       "\t<tr><td>6_2019_P_M1 </td><td>2019</td><td>P</td><td>1</td><td> 6</td><td>WT   </td><td>pH4</td><td>P</td><td>mRNA  </td><td>M</td><td>⋯</td><td>i506</td><td>i701</td><td> 6</td><td>6</td><td>2.08</td><td>2.40</td><td>319</td><td> 276</td><td>10 </td><td>10.0</td></tr>\n",
       "\t<tr><td>7_2019_P_M1 </td><td>2019</td><td>P</td><td>1</td><td> 7</td><td>sre1d</td><td>pH4</td><td>C</td><td>mRNA  </td><td>M</td><td>⋯</td><td>i507</td><td>i701</td><td> 7</td><td>1</td><td>2.13</td><td>2.23</td><td>232</td><td> 127</td><td>N/A</td><td> 9.9</td></tr>\n",
       "\t<tr><td>8_2019_P_M1 </td><td>2019</td><td>P</td><td>1</td><td> 8</td><td>sre1d</td><td>pH4</td><td>C</td><td>mRNA  </td><td>M</td><td>⋯</td><td>i508</td><td>i701</td><td> 8</td><td>2</td><td>2.08</td><td>2.24</td><td>320</td><td> 311</td><td>N/A</td><td>10.0</td></tr>\n",
       "\t<tr><td>9_2019_P_M1 </td><td>2019</td><td>P</td><td>1</td><td> 9</td><td>sre1d</td><td>pH4</td><td>C</td><td>mRNA  </td><td>M</td><td>⋯</td><td>i501</td><td>i702</td><td> 9</td><td>3</td><td>2.09</td><td>1.46</td><td>342</td><td> 326</td><td>9.6</td><td> 9.6</td></tr>\n",
       "\t<tr><td>10_2019_P_M1</td><td>2019</td><td>P</td><td>1</td><td>10</td><td>sre1d</td><td>pH4</td><td>P</td><td>mRNA  </td><td>M</td><td>⋯</td><td>i502</td><td>i702</td><td>10</td><td>4</td><td>2.16</td><td>1.25</td><td>262</td><td> 168</td><td>10 </td><td>10.0</td></tr>\n",
       "\t<tr><td>11_2019_P_M1</td><td>2019</td><td>P</td><td>1</td><td>11</td><td>sre1d</td><td>pH4</td><td>P</td><td>mRNA  </td><td>M</td><td>⋯</td><td>i503</td><td>i702</td><td>11</td><td>5</td><td>2.12</td><td>2.28</td><td>212</td><td> 236</td><td>10 </td><td>10.0</td></tr>\n",
       "\t<tr><td>12_2019_P_M1</td><td>2019</td><td>P</td><td>1</td><td>12</td><td>sre1d</td><td>pH4</td><td>P</td><td>mRNA  </td><td>M</td><td>⋯</td><td>i504</td><td>i702</td><td>12</td><td>6</td><td>2.12</td><td>2.57</td><td>246</td><td> 312</td><td>10 </td><td>10.0</td></tr>\n",
       "\t<tr><td>13_2019_P_M1</td><td>2019</td><td>P</td><td>1</td><td>13</td><td>WT   </td><td>pH8</td><td>C</td><td>mRNA  </td><td>M</td><td>⋯</td><td>i505</td><td>i702</td><td>13</td><td>1</td><td>1.93</td><td>2.28</td><td>465</td><td> 436</td><td>N/A</td><td>10.0</td></tr>\n",
       "\t<tr><td>14_2019_P_M1</td><td>2019</td><td>P</td><td>1</td><td>14</td><td>WT   </td><td>pH8</td><td>C</td><td>mRNA  </td><td>M</td><td>⋯</td><td>i506</td><td>i702</td><td>14</td><td>2</td><td>2.13</td><td>1.88</td><td>170</td><td>  99</td><td>N/A</td><td> 9.9</td></tr>\n",
       "\t<tr><td>15_2019_P_M1</td><td>2019</td><td>P</td><td>1</td><td>15</td><td>WT   </td><td>pH8</td><td>C</td><td>mRNA  </td><td>M</td><td>⋯</td><td>i507</td><td>i702</td><td>15</td><td>3</td><td>2.08</td><td>0.97</td><td>300</td><td> 190</td><td>N/A</td><td>10.0</td></tr>\n",
       "\t<tr><td>16_2019_P_M1</td><td>2019</td><td>P</td><td>1</td><td>16</td><td>WT   </td><td>pH8</td><td>P</td><td>mRNA  </td><td>M</td><td>⋯</td><td>i508</td><td>i702</td><td>16</td><td>4</td><td>2.15</td><td>2.13</td><td>236</td><td> 129</td><td>N/A</td><td>10.0</td></tr>\n",
       "\t<tr><td>17_2019_P_M1</td><td>2019</td><td>P</td><td>1</td><td>17</td><td>WT   </td><td>pH8</td><td>P</td><td>mRNA  </td><td>M</td><td>⋯</td><td>i501</td><td>i703</td><td>17</td><td>5</td><td>2.13</td><td>0.89</td><td>233</td><td> 111</td><td>N/A</td><td>10.0</td></tr>\n",
       "\t<tr><td>18_2019_P_M1</td><td>2019</td><td>P</td><td>1</td><td>18</td><td>WT   </td><td>pH8</td><td>P</td><td>mRNA  </td><td>M</td><td>⋯</td><td>i502</td><td>i703</td><td>18</td><td>6</td><td>2.14</td><td>2.01</td><td>213</td><td> 134</td><td>N/A</td><td>10.0</td></tr>\n",
       "\t<tr><td>19_2019_P_M1</td><td>2019</td><td>P</td><td>1</td><td>19</td><td>sre1d</td><td>pH8</td><td>C</td><td>mRNA  </td><td>M</td><td>⋯</td><td>i503</td><td>i703</td><td>19</td><td>1</td><td>2.14</td><td>2.19</td><td>236</td><td>  80</td><td>N/A</td><td>10.0</td></tr>\n",
       "\t<tr><td>20_2019_P_M1</td><td>2019</td><td>P</td><td>1</td><td>20</td><td>sre1d</td><td>pH8</td><td>C</td><td>mRNA  </td><td>M</td><td>⋯</td><td>i504</td><td>i703</td><td>20</td><td>2</td><td>2.14</td><td>2.39</td><td>172</td><td> 131</td><td>N/A</td><td>10.0</td></tr>\n",
       "\t<tr><td>21_2019_P_M1</td><td>2019</td><td>P</td><td>1</td><td>21</td><td>sre1d</td><td>pH8</td><td>C</td><td>mRNA  </td><td>M</td><td>⋯</td><td>i505</td><td>i703</td><td>21</td><td>3</td><td>2.01</td><td>2.22</td><td>397</td><td> 295</td><td>N/A</td><td>10.0</td></tr>\n",
       "\t<tr><td>22_2019_P_M1</td><td>2019</td><td>P</td><td>1</td><td>22</td><td>sre1d</td><td>pH8</td><td>P</td><td>mRNA  </td><td>M</td><td>⋯</td><td>i506</td><td>i703</td><td>22</td><td>4</td><td>2.22</td><td>2.33</td><td>567</td><td> 499</td><td>10 </td><td>10.0</td></tr>\n",
       "\t<tr><td>23_2019_P_M1</td><td>2019</td><td>P</td><td>1</td><td>23</td><td>sre1d</td><td>pH8</td><td>P</td><td>mRNA  </td><td>M</td><td>⋯</td><td>i507</td><td>i703</td><td>23</td><td>5</td><td>2.13</td><td>2.56</td><td>254</td><td> 206</td><td>N/A</td><td>10.0</td></tr>\n",
       "\t<tr><td>24_2019_P_M1</td><td>2019</td><td>P</td><td>1</td><td>24</td><td>sre1d</td><td>pH8</td><td>P</td><td>mRNA  </td><td>M</td><td>⋯</td><td>i508</td><td>i703</td><td>24</td><td>6</td><td>2.11</td><td>2.16</td><td>215</td><td> 336</td><td>10 </td><td>10.0</td></tr>\n",
       "\t<tr><td>2_2018_P_H1 </td><td>2018</td><td>P</td><td>1</td><td> 2</td><td>WT   </td><td>YPD</td><td>J</td><td>RNaseH</td><td>H</td><td>⋯</td><td>i501</td><td>i704</td><td>25</td><td>2</td><td>  NA</td><td>  NA</td><td> NA</td><td>2120</td><td>10 </td><td>  NA</td></tr>\n",
       "\t<tr><td>3_2018_P_H1 </td><td>2018</td><td>P</td><td>1</td><td> 3</td><td>WT   </td><td>YPD</td><td>J</td><td>RNaseH</td><td>H</td><td>⋯</td><td>i502</td><td>i704</td><td>26</td><td>3</td><td>  NA</td><td>  NA</td><td> NA</td><td>1500</td><td>10 </td><td>  NA</td></tr>\n",
       "\t<tr><td>4_2018_P_H1 </td><td>2018</td><td>P</td><td>1</td><td> 4</td><td>WT   </td><td>YPD</td><td>J</td><td>RNaseH</td><td>H</td><td>⋯</td><td>i503</td><td>i704</td><td>27</td><td>4</td><td>  NA</td><td>  NA</td><td> NA</td><td>1490</td><td>10 </td><td>  NA</td></tr>\n",
       "\t<tr><td>2_2018_P_H2 </td><td>2018</td><td>P</td><td>2</td><td> 2</td><td>WT   </td><td>YPD</td><td>J</td><td>RNaseH</td><td>H</td><td>⋯</td><td>i504</td><td>i704</td><td>28</td><td>2</td><td>  NA</td><td>  NA</td><td> NA</td><td>2120</td><td>10 </td><td>  NA</td></tr>\n",
       "\t<tr><td>3_2018_P_H2 </td><td>2018</td><td>P</td><td>2</td><td> 3</td><td>WT   </td><td>YPD</td><td>J</td><td>RNaseH</td><td>H</td><td>⋯</td><td>i505</td><td>i704</td><td>29</td><td>3</td><td>  NA</td><td>  NA</td><td> NA</td><td>1500</td><td>10 </td><td>  NA</td></tr>\n",
       "\t<tr><td>4_2018_P_H2 </td><td>2018</td><td>P</td><td>2</td><td> 4</td><td>WT   </td><td>YPD</td><td>J</td><td>RNaseH</td><td>H</td><td>⋯</td><td>i506</td><td>i704</td><td>30</td><td>4</td><td>  NA</td><td>  NA</td><td> NA</td><td>1490</td><td>10 </td><td>  NA</td></tr>\n",
       "\t<tr><td>2_2018_P_T1 </td><td>2018</td><td>P</td><td>1</td><td> 2</td><td>WT   </td><td>YPD</td><td>J</td><td>Total </td><td>T</td><td>⋯</td><td>i507</td><td>i704</td><td>31</td><td>2</td><td>  NA</td><td>  NA</td><td> NA</td><td>2120</td><td>10 </td><td>  NA</td></tr>\n",
       "\t<tr><td>3_2018_P_T1 </td><td>2018</td><td>P</td><td>1</td><td> 3</td><td>WT   </td><td>YPD</td><td>J</td><td>Total </td><td>T</td><td>⋯</td><td>i508</td><td>i704</td><td>32</td><td>3</td><td>  NA</td><td>  NA</td><td> NA</td><td>1500</td><td>10 </td><td>  NA</td></tr>\n",
       "\t<tr><td>4_2018_P_T1 </td><td>2018</td><td>P</td><td>1</td><td> 4</td><td>WT   </td><td>YPD</td><td>J</td><td>Total </td><td>T</td><td>⋯</td><td>i501</td><td>i705</td><td>33</td><td>4</td><td>  NA</td><td>  NA</td><td> NA</td><td>1490</td><td>10 </td><td>  NA</td></tr>\n",
       "\t<tr><td>2_2018_P_M1 </td><td>2018</td><td>P</td><td>1</td><td> 2</td><td>WT   </td><td>YPD</td><td>J</td><td>mRNA  </td><td>M</td><td>⋯</td><td>i502</td><td>i705</td><td>34</td><td>2</td><td>  NA</td><td>  NA</td><td> NA</td><td>2120</td><td>10 </td><td>  NA</td></tr>\n",
       "\t<tr><td>3_2018_P_M1 </td><td>2018</td><td>P</td><td>1</td><td> 3</td><td>WT   </td><td>YPD</td><td>J</td><td>mRNA  </td><td>M</td><td>⋯</td><td>i503</td><td>i705</td><td>35</td><td>3</td><td>  NA</td><td>  NA</td><td> NA</td><td>1500</td><td>10 </td><td>  NA</td></tr>\n",
       "\t<tr><td>4_2018_P_M1 </td><td>2018</td><td>P</td><td>1</td><td> 4</td><td>WT   </td><td>YPD</td><td>J</td><td>mRNA  </td><td>M</td><td>⋯</td><td>i504</td><td>i705</td><td>36</td><td>4</td><td>  NA</td><td>  NA</td><td> NA</td><td>1490</td><td>10 </td><td>  NA</td></tr>\n",
       "</tbody>\n",
       "</table>\n"
      ],
      "text/latex": [
       "A spec_tbl_df: 36 × 22\n",
       "\\begin{tabular}{r|llllllllllllllllllllll}\n",
       " Label & sample\\_year & group & enrich\\_rep & RNA\\_sample\\_num & genotype & condition & libprep\\_person & enrichment\\_method & enrichment\\_short & i7\\_index & i5\\_index & i5\\_primer & i7\\_primer & library\\_num & bio\\_replicate & Nanodrop\\_260\\_280 & Nanodrop\\_260\\_230 & Nanodrop\\_concentration\\_ng\\_ul & Bioanalyzer\\_concentration\\_ng\\_ul & RIN\\_normal\\_threshold & RIN\\_lowered\\_threshold\\\\\n",
       " <chr> & <dbl> & <chr> & <dbl> & <dbl> & <chr> & <chr> & <chr> & <chr> & <chr> & <chr> & <chr> & <chr> & <chr> & <dbl> & <dbl> & <dbl> & <dbl> & <dbl> & <dbl> & <chr> & <dbl>\\\\\n",
       "\\hline\n",
       "\t 1\\_2019\\_P\\_M1  & 2019 & P & 1 &  1 & WT    & pH4 & C & mRNA   & M & ATTACTCG & AGGCTATA & i501 & i701 &  1 & 1 & 2.14 & 1.52 & 293 &  197 & N/A &  9.8\\\\\n",
       "\t 2\\_2019\\_P\\_M1  & 2019 & P & 1 &  2 & WT    & pH4 & C & mRNA   & M & ATTACTCG & GCCTCTAT & i502 & i701 &  2 & 2 & 2.12 & 1.79 & 290 &  225 & N/A &  9.9\\\\\n",
       "\t 3\\_2019\\_P\\_M1  & 2019 & P & 1 &  3 & WT    & pH4 & C & mRNA   & M & ATTACTCG & AGGATAGG & i503 & i701 &  3 & 3 & 2.11 & 2.49 & 302 &  241 & N/A &  9.9\\\\\n",
       "\t 4\\_2019\\_P\\_M1  & 2019 & P & 1 &  4 & WT    & pH4 & P & mRNA   & M & ATTACTCG & TCAGAGCC & i504 & i701 &  4 & 4 & 2.13 & 1.15 & 296 &  189 & N/A &  9.7\\\\\n",
       "\t 5\\_2019\\_P\\_M1  & 2019 & P & 1 &  5 & WT    & pH4 & P & mRNA   & M & ATTACTCG & CTTCGCCT & i505 & i701 &  5 & 5 & 2.09 & 2.42 & 337 &  268 & 10  & 10.0\\\\\n",
       "\t 6\\_2019\\_P\\_M1  & 2019 & P & 1 &  6 & WT    & pH4 & P & mRNA   & M & ATTACTCG & TAAGATTA & i506 & i701 &  6 & 6 & 2.08 & 2.40 & 319 &  276 & 10  & 10.0\\\\\n",
       "\t 7\\_2019\\_P\\_M1  & 2019 & P & 1 &  7 & sre1d & pH4 & C & mRNA   & M & ATTACTCG & ACGTCCTG & i507 & i701 &  7 & 1 & 2.13 & 2.23 & 232 &  127 & N/A &  9.9\\\\\n",
       "\t 8\\_2019\\_P\\_M1  & 2019 & P & 1 &  8 & sre1d & pH4 & C & mRNA   & M & ATTACTCG & GTCAGTAC & i508 & i701 &  8 & 2 & 2.08 & 2.24 & 320 &  311 & N/A & 10.0\\\\\n",
       "\t 9\\_2019\\_P\\_M1  & 2019 & P & 1 &  9 & sre1d & pH4 & C & mRNA   & M & TCCGGAGA & AGGCTATA & i501 & i702 &  9 & 3 & 2.09 & 1.46 & 342 &  326 & 9.6 &  9.6\\\\\n",
       "\t 10\\_2019\\_P\\_M1 & 2019 & P & 1 & 10 & sre1d & pH4 & P & mRNA   & M & TCCGGAGA & GCCTCTAT & i502 & i702 & 10 & 4 & 2.16 & 1.25 & 262 &  168 & 10  & 10.0\\\\\n",
       "\t 11\\_2019\\_P\\_M1 & 2019 & P & 1 & 11 & sre1d & pH4 & P & mRNA   & M & TCCGGAGA & AGGATAGG & i503 & i702 & 11 & 5 & 2.12 & 2.28 & 212 &  236 & 10  & 10.0\\\\\n",
       "\t 12\\_2019\\_P\\_M1 & 2019 & P & 1 & 12 & sre1d & pH4 & P & mRNA   & M & TCCGGAGA & TCAGAGCC & i504 & i702 & 12 & 6 & 2.12 & 2.57 & 246 &  312 & 10  & 10.0\\\\\n",
       "\t 13\\_2019\\_P\\_M1 & 2019 & P & 1 & 13 & WT    & pH8 & C & mRNA   & M & TCCGGAGA & CTTCGCCT & i505 & i702 & 13 & 1 & 1.93 & 2.28 & 465 &  436 & N/A & 10.0\\\\\n",
       "\t 14\\_2019\\_P\\_M1 & 2019 & P & 1 & 14 & WT    & pH8 & C & mRNA   & M & TCCGGAGA & TAAGATTA & i506 & i702 & 14 & 2 & 2.13 & 1.88 & 170 &   99 & N/A &  9.9\\\\\n",
       "\t 15\\_2019\\_P\\_M1 & 2019 & P & 1 & 15 & WT    & pH8 & C & mRNA   & M & TCCGGAGA & ACGTCCTG & i507 & i702 & 15 & 3 & 2.08 & 0.97 & 300 &  190 & N/A & 10.0\\\\\n",
       "\t 16\\_2019\\_P\\_M1 & 2019 & P & 1 & 16 & WT    & pH8 & P & mRNA   & M & TCCGGAGA & GTCAGTAC & i508 & i702 & 16 & 4 & 2.15 & 2.13 & 236 &  129 & N/A & 10.0\\\\\n",
       "\t 17\\_2019\\_P\\_M1 & 2019 & P & 1 & 17 & WT    & pH8 & P & mRNA   & M & CGCTCATT & AGGCTATA & i501 & i703 & 17 & 5 & 2.13 & 0.89 & 233 &  111 & N/A & 10.0\\\\\n",
       "\t 18\\_2019\\_P\\_M1 & 2019 & P & 1 & 18 & WT    & pH8 & P & mRNA   & M & CGCTCATT & GCCTCTAT & i502 & i703 & 18 & 6 & 2.14 & 2.01 & 213 &  134 & N/A & 10.0\\\\\n",
       "\t 19\\_2019\\_P\\_M1 & 2019 & P & 1 & 19 & sre1d & pH8 & C & mRNA   & M & CGCTCATT & AGGATAGG & i503 & i703 & 19 & 1 & 2.14 & 2.19 & 236 &   80 & N/A & 10.0\\\\\n",
       "\t 20\\_2019\\_P\\_M1 & 2019 & P & 1 & 20 & sre1d & pH8 & C & mRNA   & M & CGCTCATT & TCAGAGCC & i504 & i703 & 20 & 2 & 2.14 & 2.39 & 172 &  131 & N/A & 10.0\\\\\n",
       "\t 21\\_2019\\_P\\_M1 & 2019 & P & 1 & 21 & sre1d & pH8 & C & mRNA   & M & CGCTCATT & CTTCGCCT & i505 & i703 & 21 & 3 & 2.01 & 2.22 & 397 &  295 & N/A & 10.0\\\\\n",
       "\t 22\\_2019\\_P\\_M1 & 2019 & P & 1 & 22 & sre1d & pH8 & P & mRNA   & M & CGCTCATT & TAAGATTA & i506 & i703 & 22 & 4 & 2.22 & 2.33 & 567 &  499 & 10  & 10.0\\\\\n",
       "\t 23\\_2019\\_P\\_M1 & 2019 & P & 1 & 23 & sre1d & pH8 & P & mRNA   & M & CGCTCATT & ACGTCCTG & i507 & i703 & 23 & 5 & 2.13 & 2.56 & 254 &  206 & N/A & 10.0\\\\\n",
       "\t 24\\_2019\\_P\\_M1 & 2019 & P & 1 & 24 & sre1d & pH8 & P & mRNA   & M & CGCTCATT & GTCAGTAC & i508 & i703 & 24 & 6 & 2.11 & 2.16 & 215 &  336 & 10  & 10.0\\\\\n",
       "\t 2\\_2018\\_P\\_H1  & 2018 & P & 1 &  2 & WT    & YPD & J & RNaseH & H & GAGATTCC & AGGCTATA & i501 & i704 & 25 & 2 &   NA &   NA &  NA & 2120 & 10  &   NA\\\\\n",
       "\t 3\\_2018\\_P\\_H1  & 2018 & P & 1 &  3 & WT    & YPD & J & RNaseH & H & GAGATTCC & GCCTCTAT & i502 & i704 & 26 & 3 &   NA &   NA &  NA & 1500 & 10  &   NA\\\\\n",
       "\t 4\\_2018\\_P\\_H1  & 2018 & P & 1 &  4 & WT    & YPD & J & RNaseH & H & GAGATTCC & AGGATAGG & i503 & i704 & 27 & 4 &   NA &   NA &  NA & 1490 & 10  &   NA\\\\\n",
       "\t 2\\_2018\\_P\\_H2  & 2018 & P & 2 &  2 & WT    & YPD & J & RNaseH & H & GAGATTCC & TCAGAGCC & i504 & i704 & 28 & 2 &   NA &   NA &  NA & 2120 & 10  &   NA\\\\\n",
       "\t 3\\_2018\\_P\\_H2  & 2018 & P & 2 &  3 & WT    & YPD & J & RNaseH & H & GAGATTCC & CTTCGCCT & i505 & i704 & 29 & 3 &   NA &   NA &  NA & 1500 & 10  &   NA\\\\\n",
       "\t 4\\_2018\\_P\\_H2  & 2018 & P & 2 &  4 & WT    & YPD & J & RNaseH & H & GAGATTCC & TAAGATTA & i506 & i704 & 30 & 4 &   NA &   NA &  NA & 1490 & 10  &   NA\\\\\n",
       "\t 2\\_2018\\_P\\_T1  & 2018 & P & 1 &  2 & WT    & YPD & J & Total  & T & GAGATTCC & ACGTCCTG & i507 & i704 & 31 & 2 &   NA &   NA &  NA & 2120 & 10  &   NA\\\\\n",
       "\t 3\\_2018\\_P\\_T1  & 2018 & P & 1 &  3 & WT    & YPD & J & Total  & T & GAGATTCC & GTCAGTAC & i508 & i704 & 32 & 3 &   NA &   NA &  NA & 1500 & 10  &   NA\\\\\n",
       "\t 4\\_2018\\_P\\_T1  & 2018 & P & 1 &  4 & WT    & YPD & J & Total  & T & ATTCAGAA & AGGCTATA & i501 & i705 & 33 & 4 &   NA &   NA &  NA & 1490 & 10  &   NA\\\\\n",
       "\t 2\\_2018\\_P\\_M1  & 2018 & P & 1 &  2 & WT    & YPD & J & mRNA   & M & ATTCAGAA & GCCTCTAT & i502 & i705 & 34 & 2 &   NA &   NA &  NA & 2120 & 10  &   NA\\\\\n",
       "\t 3\\_2018\\_P\\_M1  & 2018 & P & 1 &  3 & WT    & YPD & J & mRNA   & M & ATTCAGAA & AGGATAGG & i503 & i705 & 35 & 3 &   NA &   NA &  NA & 1500 & 10  &   NA\\\\\n",
       "\t 4\\_2018\\_P\\_M1  & 2018 & P & 1 &  4 & WT    & YPD & J & mRNA   & M & ATTCAGAA & TCAGAGCC & i504 & i705 & 36 & 4 &   NA &   NA &  NA & 1490 & 10  &   NA\\\\\n",
       "\\end{tabular}\n"
      ],
      "text/markdown": [
       "\n",
       "A spec_tbl_df: 36 × 22\n",
       "\n",
       "| Label &lt;chr&gt; | sample_year &lt;dbl&gt; | group &lt;chr&gt; | enrich_rep &lt;dbl&gt; | RNA_sample_num &lt;dbl&gt; | genotype &lt;chr&gt; | condition &lt;chr&gt; | libprep_person &lt;chr&gt; | enrichment_method &lt;chr&gt; | enrichment_short &lt;chr&gt; | ⋯ ⋯ | i5_primer &lt;chr&gt; | i7_primer &lt;chr&gt; | library_num &lt;dbl&gt; | bio_replicate &lt;dbl&gt; | Nanodrop_260_280 &lt;dbl&gt; | Nanodrop_260_230 &lt;dbl&gt; | Nanodrop_concentration_ng_ul &lt;dbl&gt; | Bioanalyzer_concentration_ng_ul &lt;dbl&gt; | RIN_normal_threshold &lt;chr&gt; | RIN_lowered_threshold &lt;dbl&gt; |\n",
       "|---|---|---|---|---|---|---|---|---|---|---|---|---|---|---|---|---|---|---|---|---|\n",
       "| 1_2019_P_M1  | 2019 | P | 1 |  1 | WT    | pH4 | C | mRNA   | M | ⋯ | i501 | i701 |  1 | 1 | 2.14 | 1.52 | 293 |  197 | N/A |  9.8 |\n",
       "| 2_2019_P_M1  | 2019 | P | 1 |  2 | WT    | pH4 | C | mRNA   | M | ⋯ | i502 | i701 |  2 | 2 | 2.12 | 1.79 | 290 |  225 | N/A |  9.9 |\n",
       "| 3_2019_P_M1  | 2019 | P | 1 |  3 | WT    | pH4 | C | mRNA   | M | ⋯ | i503 | i701 |  3 | 3 | 2.11 | 2.49 | 302 |  241 | N/A |  9.9 |\n",
       "| 4_2019_P_M1  | 2019 | P | 1 |  4 | WT    | pH4 | P | mRNA   | M | ⋯ | i504 | i701 |  4 | 4 | 2.13 | 1.15 | 296 |  189 | N/A |  9.7 |\n",
       "| 5_2019_P_M1  | 2019 | P | 1 |  5 | WT    | pH4 | P | mRNA   | M | ⋯ | i505 | i701 |  5 | 5 | 2.09 | 2.42 | 337 |  268 | 10  | 10.0 |\n",
       "| 6_2019_P_M1  | 2019 | P | 1 |  6 | WT    | pH4 | P | mRNA   | M | ⋯ | i506 | i701 |  6 | 6 | 2.08 | 2.40 | 319 |  276 | 10  | 10.0 |\n",
       "| 7_2019_P_M1  | 2019 | P | 1 |  7 | sre1d | pH4 | C | mRNA   | M | ⋯ | i507 | i701 |  7 | 1 | 2.13 | 2.23 | 232 |  127 | N/A |  9.9 |\n",
       "| 8_2019_P_M1  | 2019 | P | 1 |  8 | sre1d | pH4 | C | mRNA   | M | ⋯ | i508 | i701 |  8 | 2 | 2.08 | 2.24 | 320 |  311 | N/A | 10.0 |\n",
       "| 9_2019_P_M1  | 2019 | P | 1 |  9 | sre1d | pH4 | C | mRNA   | M | ⋯ | i501 | i702 |  9 | 3 | 2.09 | 1.46 | 342 |  326 | 9.6 |  9.6 |\n",
       "| 10_2019_P_M1 | 2019 | P | 1 | 10 | sre1d | pH4 | P | mRNA   | M | ⋯ | i502 | i702 | 10 | 4 | 2.16 | 1.25 | 262 |  168 | 10  | 10.0 |\n",
       "| 11_2019_P_M1 | 2019 | P | 1 | 11 | sre1d | pH4 | P | mRNA   | M | ⋯ | i503 | i702 | 11 | 5 | 2.12 | 2.28 | 212 |  236 | 10  | 10.0 |\n",
       "| 12_2019_P_M1 | 2019 | P | 1 | 12 | sre1d | pH4 | P | mRNA   | M | ⋯ | i504 | i702 | 12 | 6 | 2.12 | 2.57 | 246 |  312 | 10  | 10.0 |\n",
       "| 13_2019_P_M1 | 2019 | P | 1 | 13 | WT    | pH8 | C | mRNA   | M | ⋯ | i505 | i702 | 13 | 1 | 1.93 | 2.28 | 465 |  436 | N/A | 10.0 |\n",
       "| 14_2019_P_M1 | 2019 | P | 1 | 14 | WT    | pH8 | C | mRNA   | M | ⋯ | i506 | i702 | 14 | 2 | 2.13 | 1.88 | 170 |   99 | N/A |  9.9 |\n",
       "| 15_2019_P_M1 | 2019 | P | 1 | 15 | WT    | pH8 | C | mRNA   | M | ⋯ | i507 | i702 | 15 | 3 | 2.08 | 0.97 | 300 |  190 | N/A | 10.0 |\n",
       "| 16_2019_P_M1 | 2019 | P | 1 | 16 | WT    | pH8 | P | mRNA   | M | ⋯ | i508 | i702 | 16 | 4 | 2.15 | 2.13 | 236 |  129 | N/A | 10.0 |\n",
       "| 17_2019_P_M1 | 2019 | P | 1 | 17 | WT    | pH8 | P | mRNA   | M | ⋯ | i501 | i703 | 17 | 5 | 2.13 | 0.89 | 233 |  111 | N/A | 10.0 |\n",
       "| 18_2019_P_M1 | 2019 | P | 1 | 18 | WT    | pH8 | P | mRNA   | M | ⋯ | i502 | i703 | 18 | 6 | 2.14 | 2.01 | 213 |  134 | N/A | 10.0 |\n",
       "| 19_2019_P_M1 | 2019 | P | 1 | 19 | sre1d | pH8 | C | mRNA   | M | ⋯ | i503 | i703 | 19 | 1 | 2.14 | 2.19 | 236 |   80 | N/A | 10.0 |\n",
       "| 20_2019_P_M1 | 2019 | P | 1 | 20 | sre1d | pH8 | C | mRNA   | M | ⋯ | i504 | i703 | 20 | 2 | 2.14 | 2.39 | 172 |  131 | N/A | 10.0 |\n",
       "| 21_2019_P_M1 | 2019 | P | 1 | 21 | sre1d | pH8 | C | mRNA   | M | ⋯ | i505 | i703 | 21 | 3 | 2.01 | 2.22 | 397 |  295 | N/A | 10.0 |\n",
       "| 22_2019_P_M1 | 2019 | P | 1 | 22 | sre1d | pH8 | P | mRNA   | M | ⋯ | i506 | i703 | 22 | 4 | 2.22 | 2.33 | 567 |  499 | 10  | 10.0 |\n",
       "| 23_2019_P_M1 | 2019 | P | 1 | 23 | sre1d | pH8 | P | mRNA   | M | ⋯ | i507 | i703 | 23 | 5 | 2.13 | 2.56 | 254 |  206 | N/A | 10.0 |\n",
       "| 24_2019_P_M1 | 2019 | P | 1 | 24 | sre1d | pH8 | P | mRNA   | M | ⋯ | i508 | i703 | 24 | 6 | 2.11 | 2.16 | 215 |  336 | 10  | 10.0 |\n",
       "| 2_2018_P_H1  | 2018 | P | 1 |  2 | WT    | YPD | J | RNaseH | H | ⋯ | i501 | i704 | 25 | 2 |   NA |   NA |  NA | 2120 | 10  |   NA |\n",
       "| 3_2018_P_H1  | 2018 | P | 1 |  3 | WT    | YPD | J | RNaseH | H | ⋯ | i502 | i704 | 26 | 3 |   NA |   NA |  NA | 1500 | 10  |   NA |\n",
       "| 4_2018_P_H1  | 2018 | P | 1 |  4 | WT    | YPD | J | RNaseH | H | ⋯ | i503 | i704 | 27 | 4 |   NA |   NA |  NA | 1490 | 10  |   NA |\n",
       "| 2_2018_P_H2  | 2018 | P | 2 |  2 | WT    | YPD | J | RNaseH | H | ⋯ | i504 | i704 | 28 | 2 |   NA |   NA |  NA | 2120 | 10  |   NA |\n",
       "| 3_2018_P_H2  | 2018 | P | 2 |  3 | WT    | YPD | J | RNaseH | H | ⋯ | i505 | i704 | 29 | 3 |   NA |   NA |  NA | 1500 | 10  |   NA |\n",
       "| 4_2018_P_H2  | 2018 | P | 2 |  4 | WT    | YPD | J | RNaseH | H | ⋯ | i506 | i704 | 30 | 4 |   NA |   NA |  NA | 1490 | 10  |   NA |\n",
       "| 2_2018_P_T1  | 2018 | P | 1 |  2 | WT    | YPD | J | Total  | T | ⋯ | i507 | i704 | 31 | 2 |   NA |   NA |  NA | 2120 | 10  |   NA |\n",
       "| 3_2018_P_T1  | 2018 | P | 1 |  3 | WT    | YPD | J | Total  | T | ⋯ | i508 | i704 | 32 | 3 |   NA |   NA |  NA | 1500 | 10  |   NA |\n",
       "| 4_2018_P_T1  | 2018 | P | 1 |  4 | WT    | YPD | J | Total  | T | ⋯ | i501 | i705 | 33 | 4 |   NA |   NA |  NA | 1490 | 10  |   NA |\n",
       "| 2_2018_P_M1  | 2018 | P | 1 |  2 | WT    | YPD | J | mRNA   | M | ⋯ | i502 | i705 | 34 | 2 |   NA |   NA |  NA | 2120 | 10  |   NA |\n",
       "| 3_2018_P_M1  | 2018 | P | 1 |  3 | WT    | YPD | J | mRNA   | M | ⋯ | i503 | i705 | 35 | 3 |   NA |   NA |  NA | 1500 | 10  |   NA |\n",
       "| 4_2018_P_M1  | 2018 | P | 1 |  4 | WT    | YPD | J | mRNA   | M | ⋯ | i504 | i705 | 36 | 4 |   NA |   NA |  NA | 1490 | 10  |   NA |\n",
       "\n"
      ],
      "text/plain": [
       "   Label        sample_year group enrich_rep RNA_sample_num genotype condition\n",
       "1  1_2019_P_M1  2019        P     1           1             WT       pH4      \n",
       "2  2_2019_P_M1  2019        P     1           2             WT       pH4      \n",
       "3  3_2019_P_M1  2019        P     1           3             WT       pH4      \n",
       "4  4_2019_P_M1  2019        P     1           4             WT       pH4      \n",
       "5  5_2019_P_M1  2019        P     1           5             WT       pH4      \n",
       "6  6_2019_P_M1  2019        P     1           6             WT       pH4      \n",
       "7  7_2019_P_M1  2019        P     1           7             sre1d    pH4      \n",
       "8  8_2019_P_M1  2019        P     1           8             sre1d    pH4      \n",
       "9  9_2019_P_M1  2019        P     1           9             sre1d    pH4      \n",
       "10 10_2019_P_M1 2019        P     1          10             sre1d    pH4      \n",
       "11 11_2019_P_M1 2019        P     1          11             sre1d    pH4      \n",
       "12 12_2019_P_M1 2019        P     1          12             sre1d    pH4      \n",
       "13 13_2019_P_M1 2019        P     1          13             WT       pH8      \n",
       "14 14_2019_P_M1 2019        P     1          14             WT       pH8      \n",
       "15 15_2019_P_M1 2019        P     1          15             WT       pH8      \n",
       "16 16_2019_P_M1 2019        P     1          16             WT       pH8      \n",
       "17 17_2019_P_M1 2019        P     1          17             WT       pH8      \n",
       "18 18_2019_P_M1 2019        P     1          18             WT       pH8      \n",
       "19 19_2019_P_M1 2019        P     1          19             sre1d    pH8      \n",
       "20 20_2019_P_M1 2019        P     1          20             sre1d    pH8      \n",
       "21 21_2019_P_M1 2019        P     1          21             sre1d    pH8      \n",
       "22 22_2019_P_M1 2019        P     1          22             sre1d    pH8      \n",
       "23 23_2019_P_M1 2019        P     1          23             sre1d    pH8      \n",
       "24 24_2019_P_M1 2019        P     1          24             sre1d    pH8      \n",
       "25 2_2018_P_H1  2018        P     1           2             WT       YPD      \n",
       "26 3_2018_P_H1  2018        P     1           3             WT       YPD      \n",
       "27 4_2018_P_H1  2018        P     1           4             WT       YPD      \n",
       "28 2_2018_P_H2  2018        P     2           2             WT       YPD      \n",
       "29 3_2018_P_H2  2018        P     2           3             WT       YPD      \n",
       "30 4_2018_P_H2  2018        P     2           4             WT       YPD      \n",
       "31 2_2018_P_T1  2018        P     1           2             WT       YPD      \n",
       "32 3_2018_P_T1  2018        P     1           3             WT       YPD      \n",
       "33 4_2018_P_T1  2018        P     1           4             WT       YPD      \n",
       "34 2_2018_P_M1  2018        P     1           2             WT       YPD      \n",
       "35 3_2018_P_M1  2018        P     1           3             WT       YPD      \n",
       "36 4_2018_P_M1  2018        P     1           4             WT       YPD      \n",
       "   libprep_person enrichment_method enrichment_short ⋯ i5_primer i7_primer\n",
       "1  C              mRNA              M                ⋯ i501      i701     \n",
       "2  C              mRNA              M                ⋯ i502      i701     \n",
       "3  C              mRNA              M                ⋯ i503      i701     \n",
       "4  P              mRNA              M                ⋯ i504      i701     \n",
       "5  P              mRNA              M                ⋯ i505      i701     \n",
       "6  P              mRNA              M                ⋯ i506      i701     \n",
       "7  C              mRNA              M                ⋯ i507      i701     \n",
       "8  C              mRNA              M                ⋯ i508      i701     \n",
       "9  C              mRNA              M                ⋯ i501      i702     \n",
       "10 P              mRNA              M                ⋯ i502      i702     \n",
       "11 P              mRNA              M                ⋯ i503      i702     \n",
       "12 P              mRNA              M                ⋯ i504      i702     \n",
       "13 C              mRNA              M                ⋯ i505      i702     \n",
       "14 C              mRNA              M                ⋯ i506      i702     \n",
       "15 C              mRNA              M                ⋯ i507      i702     \n",
       "16 P              mRNA              M                ⋯ i508      i702     \n",
       "17 P              mRNA              M                ⋯ i501      i703     \n",
       "18 P              mRNA              M                ⋯ i502      i703     \n",
       "19 C              mRNA              M                ⋯ i503      i703     \n",
       "20 C              mRNA              M                ⋯ i504      i703     \n",
       "21 C              mRNA              M                ⋯ i505      i703     \n",
       "22 P              mRNA              M                ⋯ i506      i703     \n",
       "23 P              mRNA              M                ⋯ i507      i703     \n",
       "24 P              mRNA              M                ⋯ i508      i703     \n",
       "25 J              RNaseH            H                ⋯ i501      i704     \n",
       "26 J              RNaseH            H                ⋯ i502      i704     \n",
       "27 J              RNaseH            H                ⋯ i503      i704     \n",
       "28 J              RNaseH            H                ⋯ i504      i704     \n",
       "29 J              RNaseH            H                ⋯ i505      i704     \n",
       "30 J              RNaseH            H                ⋯ i506      i704     \n",
       "31 J              Total             T                ⋯ i507      i704     \n",
       "32 J              Total             T                ⋯ i508      i704     \n",
       "33 J              Total             T                ⋯ i501      i705     \n",
       "34 J              mRNA              M                ⋯ i502      i705     \n",
       "35 J              mRNA              M                ⋯ i503      i705     \n",
       "36 J              mRNA              M                ⋯ i504      i705     \n",
       "   library_num bio_replicate Nanodrop_260_280 Nanodrop_260_230\n",
       "1   1          1             2.14             1.52            \n",
       "2   2          2             2.12             1.79            \n",
       "3   3          3             2.11             2.49            \n",
       "4   4          4             2.13             1.15            \n",
       "5   5          5             2.09             2.42            \n",
       "6   6          6             2.08             2.40            \n",
       "7   7          1             2.13             2.23            \n",
       "8   8          2             2.08             2.24            \n",
       "9   9          3             2.09             1.46            \n",
       "10 10          4             2.16             1.25            \n",
       "11 11          5             2.12             2.28            \n",
       "12 12          6             2.12             2.57            \n",
       "13 13          1             1.93             2.28            \n",
       "14 14          2             2.13             1.88            \n",
       "15 15          3             2.08             0.97            \n",
       "16 16          4             2.15             2.13            \n",
       "17 17          5             2.13             0.89            \n",
       "18 18          6             2.14             2.01            \n",
       "19 19          1             2.14             2.19            \n",
       "20 20          2             2.14             2.39            \n",
       "21 21          3             2.01             2.22            \n",
       "22 22          4             2.22             2.33            \n",
       "23 23          5             2.13             2.56            \n",
       "24 24          6             2.11             2.16            \n",
       "25 25          2               NA               NA            \n",
       "26 26          3               NA               NA            \n",
       "27 27          4               NA               NA            \n",
       "28 28          2               NA               NA            \n",
       "29 29          3               NA               NA            \n",
       "30 30          4               NA               NA            \n",
       "31 31          2               NA               NA            \n",
       "32 32          3               NA               NA            \n",
       "33 33          4               NA               NA            \n",
       "34 34          2               NA               NA            \n",
       "35 35          3               NA               NA            \n",
       "36 36          4               NA               NA            \n",
       "   Nanodrop_concentration_ng_ul Bioanalyzer_concentration_ng_ul\n",
       "1  293                           197                           \n",
       "2  290                           225                           \n",
       "3  302                           241                           \n",
       "4  296                           189                           \n",
       "5  337                           268                           \n",
       "6  319                           276                           \n",
       "7  232                           127                           \n",
       "8  320                           311                           \n",
       "9  342                           326                           \n",
       "10 262                           168                           \n",
       "11 212                           236                           \n",
       "12 246                           312                           \n",
       "13 465                           436                           \n",
       "14 170                            99                           \n",
       "15 300                           190                           \n",
       "16 236                           129                           \n",
       "17 233                           111                           \n",
       "18 213                           134                           \n",
       "19 236                            80                           \n",
       "20 172                           131                           \n",
       "21 397                           295                           \n",
       "22 567                           499                           \n",
       "23 254                           206                           \n",
       "24 215                           336                           \n",
       "25  NA                          2120                           \n",
       "26  NA                          1500                           \n",
       "27  NA                          1490                           \n",
       "28  NA                          2120                           \n",
       "29  NA                          1500                           \n",
       "30  NA                          1490                           \n",
       "31  NA                          2120                           \n",
       "32  NA                          1500                           \n",
       "33  NA                          1490                           \n",
       "34  NA                          2120                           \n",
       "35  NA                          1500                           \n",
       "36  NA                          1490                           \n",
       "   RIN_normal_threshold RIN_lowered_threshold\n",
       "1  N/A                   9.8                 \n",
       "2  N/A                   9.9                 \n",
       "3  N/A                   9.9                 \n",
       "4  N/A                   9.7                 \n",
       "5  10                   10.0                 \n",
       "6  10                   10.0                 \n",
       "7  N/A                   9.9                 \n",
       "8  N/A                  10.0                 \n",
       "9  9.6                   9.6                 \n",
       "10 10                   10.0                 \n",
       "11 10                   10.0                 \n",
       "12 10                   10.0                 \n",
       "13 N/A                  10.0                 \n",
       "14 N/A                   9.9                 \n",
       "15 N/A                  10.0                 \n",
       "16 N/A                  10.0                 \n",
       "17 N/A                  10.0                 \n",
       "18 N/A                  10.0                 \n",
       "19 N/A                  10.0                 \n",
       "20 N/A                  10.0                 \n",
       "21 N/A                  10.0                 \n",
       "22 10                   10.0                 \n",
       "23 N/A                  10.0                 \n",
       "24 10                   10.0                 \n",
       "25 10                     NA                 \n",
       "26 10                     NA                 \n",
       "27 10                     NA                 \n",
       "28 10                     NA                 \n",
       "29 10                     NA                 \n",
       "30 10                     NA                 \n",
       "31 10                     NA                 \n",
       "32 10                     NA                 \n",
       "33 10                     NA                 \n",
       "34 10                     NA                 \n",
       "35 10                     NA                 \n",
       "36 10                     NA                 "
      ]
     },
     "metadata": {},
     "output_type": "display_data"
    }
   ],
   "source": [
    "metadtfile <- '/data/hts_2019_data/hts2019_pilot_rawdata/2019_pilot_metadata.tsv'\n",
    "tools::md5sum(metadtfile)\n",
    "\n",
    "mtdf<-readr::read_tsv(metadtfile)\n",
    "\n",
    "mtdf"
   ]
  },
  {
   "cell_type": "markdown",
   "metadata": {},
   "source": [
    "### filter out 2018 samples"
   ]
  },
  {
   "cell_type": "code",
   "execution_count": 6,
   "metadata": {},
   "outputs": [
    {
     "data": {
      "text/html": [
       "<ol class=list-inline>\n",
       "\t<li>24</li>\n",
       "\t<li>22</li>\n",
       "</ol>\n"
      ],
      "text/latex": [
       "\\begin{enumerate*}\n",
       "\\item 24\n",
       "\\item 22\n",
       "\\end{enumerate*}\n"
      ],
      "text/markdown": [
       "1. 24\n",
       "2. 22\n",
       "\n",
       "\n"
      ],
      "text/plain": [
       "[1] 24 22"
      ]
     },
     "metadata": {},
     "output_type": "display_data"
    }
   ],
   "source": [
    "mtdf %>%\n",
    "    filter(str_detect(Label, \"2019\")) -> \n",
    "        mtdf2019\n",
    "\n",
    "dim(mtdf2019)"
   ]
  },
  {
   "cell_type": "markdown",
   "metadata": {},
   "source": [
    "### Add a label column to the counts object so that it can be merged with the metadata"
   ]
  },
  {
   "cell_type": "code",
   "execution_count": 7,
   "metadata": {},
   "outputs": [
    {
     "data": {
      "text/html": [
       "<ol class=list-inline>\n",
       "\t<li>96</li>\n",
       "\t<li>8500</li>\n",
       "</ol>\n"
      ],
      "text/latex": [
       "\\begin{enumerate*}\n",
       "\\item 96\n",
       "\\item 8500\n",
       "\\end{enumerate*}\n"
      ],
      "text/markdown": [
       "1. 96\n",
       "2. 8500\n",
       "\n",
       "\n"
      ],
      "text/plain": [
       "[1]   96 8500"
      ]
     },
     "metadata": {},
     "output_type": "display_data"
    },
    {
     "data": {
      "text/html": [
       "<ol class=list-inline>\n",
       "\t<li>96</li>\n",
       "\t<li>8501</li>\n",
       "</ol>\n"
      ],
      "text/latex": [
       "\\begin{enumerate*}\n",
       "\\item 96\n",
       "\\item 8501\n",
       "\\end{enumerate*}\n"
      ],
      "text/markdown": [
       "1. 96\n",
       "2. 8501\n",
       "\n",
       "\n"
      ],
      "text/plain": [
       "[1]   96 8501"
      ]
     },
     "metadata": {},
     "output_type": "display_data"
    }
   ],
   "source": [
    "myregex <- \"_S[1-9][0-9]{0,2}_L00[1-4]_ReadsPerGene.out.tab\"\n",
    "\n",
    "\n",
    "### dim before adding label column\n",
    "dim(genecounts2019)\n",
    "\n",
    "genecounts2019 %>% \n",
    "    mutate(Label=str_replace(expid, myregex, \"\")) -> \n",
    "        genecounts2019\n",
    "\n",
    "### dim before adding label column\n",
    "\n",
    "dim(genecounts2019)"
   ]
  },
  {
   "cell_type": "code",
   "execution_count": 8,
   "metadata": {},
   "outputs": [
    {
     "data": {
      "text/html": [
       "<table>\n",
       "<caption>A tibble: 8 × 6</caption>\n",
       "<thead>\n",
       "\t<tr><th scope=col>expid</th><th scope=col>CNAG_00001</th><th scope=col>CNAG_00002</th><th scope=col>CNAG_00003</th><th scope=col>CNAG_00004</th><th scope=col>Label</th></tr>\n",
       "\t<tr><th scope=col>&lt;chr&gt;</th><th scope=col>&lt;int&gt;</th><th scope=col>&lt;int&gt;</th><th scope=col>&lt;int&gt;</th><th scope=col>&lt;int&gt;</th><th scope=col>&lt;chr&gt;</th></tr>\n",
       "</thead>\n",
       "<tbody>\n",
       "\t<tr><td>1_2019_P_M1_S1_L001_ReadsPerGene.out.tab  </td><td>0</td><td>35</td><td>48</td><td>223</td><td>1_2019_P_M1 </td></tr>\n",
       "\t<tr><td>1_2019_P_M1_S1_L002_ReadsPerGene.out.tab  </td><td>0</td><td>43</td><td>46</td><td>227</td><td>1_2019_P_M1 </td></tr>\n",
       "\t<tr><td>1_2019_P_M1_S1_L003_ReadsPerGene.out.tab  </td><td>0</td><td>46</td><td>49</td><td>232</td><td>1_2019_P_M1 </td></tr>\n",
       "\t<tr><td>1_2019_P_M1_S1_L004_ReadsPerGene.out.tab  </td><td>0</td><td>34</td><td>58</td><td>222</td><td>1_2019_P_M1 </td></tr>\n",
       "\t<tr><td>10_2019_P_M1_S10_L001_ReadsPerGene.out.tab</td><td>0</td><td>30</td><td>36</td><td>130</td><td>10_2019_P_M1</td></tr>\n",
       "\t<tr><td>10_2019_P_M1_S10_L002_ReadsPerGene.out.tab</td><td>0</td><td>37</td><td>37</td><td>117</td><td>10_2019_P_M1</td></tr>\n",
       "\t<tr><td>10_2019_P_M1_S10_L003_ReadsPerGene.out.tab</td><td>0</td><td>29</td><td>31</td><td>135</td><td>10_2019_P_M1</td></tr>\n",
       "\t<tr><td>10_2019_P_M1_S10_L004_ReadsPerGene.out.tab</td><td>0</td><td>23</td><td>27</td><td>131</td><td>10_2019_P_M1</td></tr>\n",
       "</tbody>\n",
       "</table>\n"
      ],
      "text/latex": [
       "A tibble: 8 × 6\n",
       "\\begin{tabular}{r|llllll}\n",
       " expid & CNAG\\_00001 & CNAG\\_00002 & CNAG\\_00003 & CNAG\\_00004 & Label\\\\\n",
       " <chr> & <int> & <int> & <int> & <int> & <chr>\\\\\n",
       "\\hline\n",
       "\t 1\\_2019\\_P\\_M1\\_S1\\_L001\\_ReadsPerGene.out.tab   & 0 & 35 & 48 & 223 & 1\\_2019\\_P\\_M1 \\\\\n",
       "\t 1\\_2019\\_P\\_M1\\_S1\\_L002\\_ReadsPerGene.out.tab   & 0 & 43 & 46 & 227 & 1\\_2019\\_P\\_M1 \\\\\n",
       "\t 1\\_2019\\_P\\_M1\\_S1\\_L003\\_ReadsPerGene.out.tab   & 0 & 46 & 49 & 232 & 1\\_2019\\_P\\_M1 \\\\\n",
       "\t 1\\_2019\\_P\\_M1\\_S1\\_L004\\_ReadsPerGene.out.tab   & 0 & 34 & 58 & 222 & 1\\_2019\\_P\\_M1 \\\\\n",
       "\t 10\\_2019\\_P\\_M1\\_S10\\_L001\\_ReadsPerGene.out.tab & 0 & 30 & 36 & 130 & 10\\_2019\\_P\\_M1\\\\\n",
       "\t 10\\_2019\\_P\\_M1\\_S10\\_L002\\_ReadsPerGene.out.tab & 0 & 37 & 37 & 117 & 10\\_2019\\_P\\_M1\\\\\n",
       "\t 10\\_2019\\_P\\_M1\\_S10\\_L003\\_ReadsPerGene.out.tab & 0 & 29 & 31 & 135 & 10\\_2019\\_P\\_M1\\\\\n",
       "\t 10\\_2019\\_P\\_M1\\_S10\\_L004\\_ReadsPerGene.out.tab & 0 & 23 & 27 & 131 & 10\\_2019\\_P\\_M1\\\\\n",
       "\\end{tabular}\n"
      ],
      "text/markdown": [
       "\n",
       "A tibble: 8 × 6\n",
       "\n",
       "| expid &lt;chr&gt; | CNAG_00001 &lt;int&gt; | CNAG_00002 &lt;int&gt; | CNAG_00003 &lt;int&gt; | CNAG_00004 &lt;int&gt; | Label &lt;chr&gt; |\n",
       "|---|---|---|---|---|---|\n",
       "| 1_2019_P_M1_S1_L001_ReadsPerGene.out.tab   | 0 | 35 | 48 | 223 | 1_2019_P_M1  |\n",
       "| 1_2019_P_M1_S1_L002_ReadsPerGene.out.tab   | 0 | 43 | 46 | 227 | 1_2019_P_M1  |\n",
       "| 1_2019_P_M1_S1_L003_ReadsPerGene.out.tab   | 0 | 46 | 49 | 232 | 1_2019_P_M1  |\n",
       "| 1_2019_P_M1_S1_L004_ReadsPerGene.out.tab   | 0 | 34 | 58 | 222 | 1_2019_P_M1  |\n",
       "| 10_2019_P_M1_S10_L001_ReadsPerGene.out.tab | 0 | 30 | 36 | 130 | 10_2019_P_M1 |\n",
       "| 10_2019_P_M1_S10_L002_ReadsPerGene.out.tab | 0 | 37 | 37 | 117 | 10_2019_P_M1 |\n",
       "| 10_2019_P_M1_S10_L003_ReadsPerGene.out.tab | 0 | 29 | 31 | 135 | 10_2019_P_M1 |\n",
       "| 10_2019_P_M1_S10_L004_ReadsPerGene.out.tab | 0 | 23 | 27 | 131 | 10_2019_P_M1 |\n",
       "\n"
      ],
      "text/plain": [
       "  expid                                      CNAG_00001 CNAG_00002 CNAG_00003\n",
       "1 1_2019_P_M1_S1_L001_ReadsPerGene.out.tab   0          35         48        \n",
       "2 1_2019_P_M1_S1_L002_ReadsPerGene.out.tab   0          43         46        \n",
       "3 1_2019_P_M1_S1_L003_ReadsPerGene.out.tab   0          46         49        \n",
       "4 1_2019_P_M1_S1_L004_ReadsPerGene.out.tab   0          34         58        \n",
       "5 10_2019_P_M1_S10_L001_ReadsPerGene.out.tab 0          30         36        \n",
       "6 10_2019_P_M1_S10_L002_ReadsPerGene.out.tab 0          37         37        \n",
       "7 10_2019_P_M1_S10_L003_ReadsPerGene.out.tab 0          29         31        \n",
       "8 10_2019_P_M1_S10_L004_ReadsPerGene.out.tab 0          23         27        \n",
       "  CNAG_00004 Label       \n",
       "1 223        1_2019_P_M1 \n",
       "2 227        1_2019_P_M1 \n",
       "3 232        1_2019_P_M1 \n",
       "4 222        1_2019_P_M1 \n",
       "5 130        10_2019_P_M1\n",
       "6 117        10_2019_P_M1\n",
       "7 135        10_2019_P_M1\n",
       "8 131        10_2019_P_M1"
      ]
     },
     "metadata": {},
     "output_type": "display_data"
    },
    {
     "data": {
      "text/html": [
       "<ol class=list-inline>\n",
       "\t<li>96</li>\n",
       "\t<li>8501</li>\n",
       "</ol>\n"
      ],
      "text/latex": [
       "\\begin{enumerate*}\n",
       "\\item 96\n",
       "\\item 8501\n",
       "\\end{enumerate*}\n"
      ],
      "text/markdown": [
       "1. 96\n",
       "2. 8501\n",
       "\n",
       "\n"
      ],
      "text/plain": [
       "[1]   96 8501"
      ]
     },
     "metadata": {},
     "output_type": "display_data"
    }
   ],
   "source": [
    "### Look at the first five genes across the libraries\n",
    "\n",
    "genecounts2019[1:8, c(1:5, ncol(genecounts2019))]\n",
    "dim(genecounts2019)"
   ]
  },
  {
   "cell_type": "markdown",
   "metadata": {},
   "source": [
    "### Add counts across lanes "
   ]
  },
  {
   "cell_type": "code",
   "execution_count": 9,
   "metadata": {},
   "outputs": [],
   "source": [
    "genecounts2019 %>% \n",
    "    group_by(Label) %>%\n",
    "        summarize_each(sum, -expid) -> \n",
    "            cnt2019"
   ]
  },
  {
   "cell_type": "code",
   "execution_count": 10,
   "metadata": {},
   "outputs": [
    {
     "data": {
      "text/html": [
       "<table>\n",
       "<caption>A tibble: 4 × 5</caption>\n",
       "<thead>\n",
       "\t<tr><th scope=col>Label</th><th scope=col>CNAG_00001</th><th scope=col>CNAG_00002</th><th scope=col>CNAG_00003</th><th scope=col>CNAG_00004</th></tr>\n",
       "\t<tr><th scope=col>&lt;chr&gt;</th><th scope=col>&lt;int&gt;</th><th scope=col>&lt;int&gt;</th><th scope=col>&lt;int&gt;</th><th scope=col>&lt;int&gt;</th></tr>\n",
       "</thead>\n",
       "<tbody>\n",
       "\t<tr><td>1_2019_P_M1 </td><td>0</td><td>158</td><td>201</td><td>904</td></tr>\n",
       "\t<tr><td>10_2019_P_M1</td><td>0</td><td>119</td><td>131</td><td>513</td></tr>\n",
       "\t<tr><td>11_2019_P_M1</td><td>0</td><td> 90</td><td>121</td><td>573</td></tr>\n",
       "\t<tr><td>12_2019_P_M1</td><td>0</td><td> 81</td><td>151</td><td>533</td></tr>\n",
       "</tbody>\n",
       "</table>\n"
      ],
      "text/latex": [
       "A tibble: 4 × 5\n",
       "\\begin{tabular}{r|lllll}\n",
       " Label & CNAG\\_00001 & CNAG\\_00002 & CNAG\\_00003 & CNAG\\_00004\\\\\n",
       " <chr> & <int> & <int> & <int> & <int>\\\\\n",
       "\\hline\n",
       "\t 1\\_2019\\_P\\_M1  & 0 & 158 & 201 & 904\\\\\n",
       "\t 10\\_2019\\_P\\_M1 & 0 & 119 & 131 & 513\\\\\n",
       "\t 11\\_2019\\_P\\_M1 & 0 &  90 & 121 & 573\\\\\n",
       "\t 12\\_2019\\_P\\_M1 & 0 &  81 & 151 & 533\\\\\n",
       "\\end{tabular}\n"
      ],
      "text/markdown": [
       "\n",
       "A tibble: 4 × 5\n",
       "\n",
       "| Label &lt;chr&gt; | CNAG_00001 &lt;int&gt; | CNAG_00002 &lt;int&gt; | CNAG_00003 &lt;int&gt; | CNAG_00004 &lt;int&gt; |\n",
       "|---|---|---|---|---|\n",
       "| 1_2019_P_M1  | 0 | 158 | 201 | 904 |\n",
       "| 10_2019_P_M1 | 0 | 119 | 131 | 513 |\n",
       "| 11_2019_P_M1 | 0 |  90 | 121 | 573 |\n",
       "| 12_2019_P_M1 | 0 |  81 | 151 | 533 |\n",
       "\n"
      ],
      "text/plain": [
       "  Label        CNAG_00001 CNAG_00002 CNAG_00003 CNAG_00004\n",
       "1 1_2019_P_M1  0          158        201        904       \n",
       "2 10_2019_P_M1 0          119        131        513       \n",
       "3 11_2019_P_M1 0           90        121        573       \n",
       "4 12_2019_P_M1 0           81        151        533       "
      ]
     },
     "metadata": {},
     "output_type": "display_data"
    }
   ],
   "source": [
    "cnt2019[1:4, 1:5]"
   ]
  },
  {
   "cell_type": "markdown",
   "metadata": {},
   "source": [
    "### Check to make sure that every label in your count file has an entry in the metadata file"
   ]
  },
  {
   "cell_type": "code",
   "execution_count": 11,
   "metadata": {},
   "outputs": [
    {
     "data": {
      "text/html": [],
      "text/latex": [],
      "text/markdown": [],
      "text/plain": [
       "character(0)"
      ]
     },
     "metadata": {},
     "output_type": "display_data"
    },
    {
     "data": {
      "text/html": [],
      "text/latex": [],
      "text/markdown": [],
      "text/plain": [
       "character(0)"
      ]
     },
     "metadata": {},
     "output_type": "display_data"
    }
   ],
   "source": [
    "setdiff(cnt2019$Label, mtdf2019$Label)\n",
    "setdiff(mtdf2019$Label, cnt2019$Label)"
   ]
  },
  {
   "cell_type": "markdown",
   "metadata": {},
   "source": [
    "### Save objects to image file"
   ]
  },
  {
   "cell_type": "code",
   "execution_count": 13,
   "metadata": {},
   "outputs": [
    {
     "data": {
      "text/html": [
       "'/home/jovyan/work/scratch/analysis_output/img/pilotcnt2019.RData'"
      ],
      "text/latex": [
       "'/home/jovyan/work/scratch/analysis\\_output/img/pilotcnt2019.RData'"
      ],
      "text/markdown": [
       "'/home/jovyan/work/scratch/analysis_output/img/pilotcnt2019.RData'"
      ],
      "text/plain": [
       "[1] \"/home/jovyan/work/scratch/analysis_output/img/pilotcnt2019.RData\""
      ]
     },
     "metadata": {},
     "output_type": "display_data"
    }
   ],
   "source": [
    "curdir <- \"/home/jovyan/work/scratch/analysis_output\"\n",
    "imgdir <- file.path(curdir, \"img\")\n",
    "\n",
    "imgfile <- file.path(imgdir, \"pilotcnt2019.RData\")\n",
    "\n",
    "imgfile"
   ]
  },
  {
   "cell_type": "code",
   "execution_count": 14,
   "metadata": {},
   "outputs": [
    {
     "data": {
      "text/html": [
       "<strong>/home/jovyan/work/scratch/analysis_output/img/pilotcnt2019.RData:</strong> '0d1cdfc8bb97baf52ca4f8f33e2c0ae4'"
      ],
      "text/latex": [
       "\\textbf{/home/jovyan/work/scratch/analysis\\textbackslash{}\\_output/img/pilotcnt2019.RData:} '0d1cdfc8bb97baf52ca4f8f33e2c0ae4'"
      ],
      "text/markdown": [
       "**/home/jovyan/work/scratch/analysis_output/img/pilotcnt2019.RData:** '0d1cdfc8bb97baf52ca4f8f33e2c0ae4'"
      ],
      "text/plain": [
       "/home/jovyan/work/scratch/analysis_output/img/pilotcnt2019.RData \n",
       "                              \"0d1cdfc8bb97baf52ca4f8f33e2c0ae4\" "
      ]
     },
     "metadata": {},
     "output_type": "display_data"
    }
   ],
   "source": [
    "save(cnt2019, mtdf2019, file = imgfile)\n",
    "\n",
    "tools::md5sum(imgfile)"
   ]
  },
  {
   "cell_type": "code",
   "execution_count": 15,
   "metadata": {},
   "outputs": [
    {
     "data": {
      "text/plain": [
       "R version 3.6.0 (2019-04-26)\n",
       "Platform: x86_64-pc-linux-gnu (64-bit)\n",
       "Running under: Debian GNU/Linux 9 (stretch)\n",
       "\n",
       "Matrix products: default\n",
       "BLAS:   /usr/lib/openblas-base/libblas.so.3\n",
       "LAPACK: /usr/lib/libopenblasp-r0.2.19.so\n",
       "\n",
       "locale:\n",
       " [1] LC_CTYPE=en_US.UTF-8       LC_NUMERIC=C              \n",
       " [3] LC_TIME=en_US.UTF-8        LC_COLLATE=en_US.UTF-8    \n",
       " [5] LC_MONETARY=en_US.UTF-8    LC_MESSAGES=en_US.UTF-8   \n",
       " [7] LC_PAPER=en_US.UTF-8       LC_NAME=C                 \n",
       " [9] LC_ADDRESS=C               LC_TELEPHONE=C            \n",
       "[11] LC_MEASUREMENT=en_US.UTF-8 LC_IDENTIFICATION=C       \n",
       "\n",
       "attached base packages:\n",
       "[1] stats     graphics  grDevices utils     datasets  methods   base     \n",
       "\n",
       "other attached packages:\n",
       "[1] forcats_0.4.0   stringr_1.4.0   dplyr_0.8.1     purrr_0.3.2    \n",
       "[5] readr_1.3.1     tidyr_0.8.3     tibble_2.1.2    ggplot2_3.1.1  \n",
       "[9] tidyverse_1.2.1\n",
       "\n",
       "loaded via a namespace (and not attached):\n",
       " [1] Rcpp_1.0.1       cellranger_1.1.0 plyr_1.8.4       pillar_1.4.1    \n",
       " [5] compiler_3.6.0   base64enc_0.1-3  tools_3.6.0      zeallot_0.1.0   \n",
       " [9] digest_0.6.19    uuid_0.1-2       lubridate_1.7.4  jsonlite_1.6    \n",
       "[13] evaluate_0.14    nlme_3.1-139     gtable_0.3.0     lattice_0.20-38 \n",
       "[17] pkgconfig_2.0.2  rlang_0.3.4      cli_1.1.0        rstudioapi_0.10 \n",
       "[21] IRdisplay_0.7.0  IRkernel_1.0.1   haven_2.1.0      withr_2.1.2     \n",
       "[25] xml2_1.2.0       httr_1.4.0       repr_1.0.1       vctrs_0.1.0     \n",
       "[29] hms_0.4.2        generics_0.0.2   grid_3.6.0       tidyselect_0.2.5\n",
       "[33] glue_1.3.1       R6_2.4.0         readxl_1.3.1     pbdZMQ_0.3-3    \n",
       "[37] modelr_0.1.4     magrittr_1.5     backports_1.1.4  scales_1.0.0    \n",
       "[41] htmltools_0.3.6  rvest_0.3.4      assertthat_0.2.1 colorspace_1.4-1\n",
       "[45] stringi_1.4.3    lazyeval_0.2.2   munsell_0.5.0    broom_0.5.2     \n",
       "[49] crayon_1.3.4    "
      ]
     },
     "metadata": {},
     "output_type": "display_data"
    }
   ],
   "source": [
    "sessionInfo()"
   ]
  }
 ],
 "metadata": {
  "kernelspec": {
   "display_name": "R",
   "language": "R",
   "name": "ir"
  },
  "language_info": {
   "codemirror_mode": "r",
   "file_extension": ".r",
   "mimetype": "text/x-r-source",
   "name": "R",
   "pygments_lexer": "r",
   "version": "3.6.0"
  }
 },
 "nbformat": 4,
 "nbformat_minor": 2
}
