{
 "cells": [
  {
   "cell_type": "markdown",
   "metadata": {},
   "source": [
    "# Using `bash` in bioinformatics\n",
    "\n",
    "The Unix commands shown in this notebook are quite intimidating at first. There's a lot of material becaue I try to cover all the stuff you willl need to construct a typicla bioinformatics pipeline. \n",
    "\n",
    "Try to understand the expressions and play aound to see what varying them will do. You do not need to memorize the commands now - you can always come back to this notebook for reference. You will also get more practice when you do the Bioiinformatics sessions to construct Unix pipelines for processing your RNA-seq data sets."
   ]
  },
  {
   "cell_type": "markdown",
   "metadata": {},
   "source": [
    "Hack to handle broken pipes."
   ]
  },
  {
   "cell_type": "code",
   "execution_count": null,
   "metadata": {},
   "outputs": [],
   "source": [
    "cleanup () { \n",
    "    :\n",
    "}\n",
    "\n",
    "trap \"cleanup\" SIGPIPE"
   ]
  },
  {
   "cell_type": "markdown",
   "metadata": {},
   "source": [
    "Treat unset variables as an error, and immediately exit."
   ]
  },
  {
   "cell_type": "code",
   "execution_count": null,
   "metadata": {},
   "outputs": [],
   "source": [
    "set -u"
   ]
  },
  {
   "cell_type": "markdown",
   "metadata": {},
   "source": [
    "## 0.1. Files, directories and working with text\n",
    "\n",
    "Quickly reveiw what the following navigation and file/directory manipulation commands do:\n",
    "\n",
    "```bash\n",
    ">, >>, <, |, ls, cd, pwd, cp, mv, rm, mkdir, rmdir\n",
    "```\n",
    "\n",
    "This session dives quite deep into Unix shell scripting and invovles quite a bit of text processing. We review some basic commands for working with text in Unix."
   ]
  },
  {
   "cell_type": "markdown",
   "metadata": {},
   "source": [
    "#### This is the file we will warm up with\n",
    "\n",
    "We create it using a HEREDOC that allows us to construct multi-line files and redirrect it to the file `junk.txt`"
   ]
  },
  {
   "cell_type": "code",
   "execution_count": null,
   "metadata": {},
   "outputs": [],
   "source": [
    "cat > junk.txt <<EOF \n",
    "1. CCCTAACCCCCTAACCCCCTAACCCTCAGTCGGGGAGGCGACAATAGCTG\n",
    "2. GTCATATGTTCTGTACGTTATTGGCCAACTGATCATACCTGAATCGAGCC\n",
    "3. GAACCGGGATTATCAAAGACGAACATGGTCGGGTCCTTGAACCAAACGAA\n",
    "4. TCTCCGTCCGCTGGCGTGTTTTTCTTTTCTCAAGTGGGCAAGTTACCCGG\n",
    "EOF"
   ]
  },
  {
   "cell_type": "markdown",
   "metadata": {},
   "source": [
    "#### We can see the contents of a file with `cat`"
   ]
  },
  {
   "cell_type": "code",
   "execution_count": null,
   "metadata": {},
   "outputs": [],
   "source": [
    "cat junk.txt"
   ]
  },
  {
   "cell_type": "markdown",
   "metadata": {},
   "source": [
    "#### Using `head` and `tail`"
   ]
  },
  {
   "cell_type": "code",
   "execution_count": null,
   "metadata": {},
   "outputs": [],
   "source": [
    "head -3 junk.txt"
   ]
  },
  {
   "cell_type": "code",
   "execution_count": null,
   "metadata": {},
   "outputs": [],
   "source": [
    "tail -3 junk.txt"
   ]
  },
  {
   "cell_type": "code",
   "execution_count": null,
   "metadata": {},
   "outputs": [],
   "source": [
    "tail +3 junk.txt"
   ]
  },
  {
   "cell_type": "markdown",
   "metadata": {},
   "source": [
    "#### Pipling to chain commnads"
   ]
  },
  {
   "cell_type": "code",
   "execution_count": null,
   "metadata": {},
   "outputs": [],
   "source": [
    "head -3 junk.txt | tail -2"
   ]
  },
  {
   "cell_type": "markdown",
   "metadata": {},
   "source": [
    "#### Searching within a file with `grep`\n",
    "\n",
    "- `grep` takes a REGEX (regular expression) as the query and a file (or files) to search\n",
    "- Normally grep shows lines that match the REGEX argument\n",
    "- The `-v` flag shows the lines that DO NOT match the REGEX argument"
   ]
  },
  {
   "cell_type": "code",
   "execution_count": null,
   "metadata": {},
   "outputs": [],
   "source": [
    "grep \"[2|4]\" junk.txt"
   ]
  },
  {
   "cell_type": "code",
   "execution_count": null,
   "metadata": {},
   "outputs": [],
   "source": [
    "grep -v \"[2|4]\" junk.txt"
   ]
  },
  {
   "cell_type": "markdown",
   "metadata": {},
   "source": [
    "#### Use a regular expression with `grep`"
   ]
  },
  {
   "cell_type": "code",
   "execution_count": null,
   "metadata": {},
   "outputs": [],
   "source": [
    "grep \"CCC.*CCC\" junk.txt"
   ]
  },
  {
   "cell_type": "markdown",
   "metadata": {},
   "source": [
    "#### Get rid of numbers with `cut`\n",
    "\n",
    "`cut` extracts columns separated by delimiters\n",
    "- here the delimiter is a space `-d ' '`\n",
    "- and we cut the second column `-f 2`"
   ]
  },
  {
   "cell_type": "code",
   "execution_count": null,
   "metadata": {},
   "outputs": [],
   "source": [
    "cut -d ' ' -f 2 junk.txt"
   ]
  },
  {
   "cell_type": "markdown",
   "metadata": {},
   "source": [
    "#### Get rid of numbers with `grep`\n",
    "\n",
    "The `-o` flag to `grep` shows only the strings mathcing the regular expression"
   ]
  },
  {
   "cell_type": "code",
   "execution_count": null,
   "metadata": {},
   "outputs": [],
   "source": [
    "grep -o '[A-Z]*' junk.txt"
   ]
  },
  {
   "cell_type": "markdown",
   "metadata": {},
   "source": [
    "#### Convert DNA to RNA with `tr`"
   ]
  },
  {
   "cell_type": "code",
   "execution_count": null,
   "metadata": {},
   "outputs": [],
   "source": [
    "cat junk.txt | tr T U"
   ]
  },
  {
   "cell_type": "markdown",
   "metadata": {},
   "source": [
    "#### Reverse complement with `tr`"
   ]
  },
  {
   "cell_type": "code",
   "execution_count": null,
   "metadata": {},
   "outputs": [],
   "source": [
    "grep -o '[ACTG]*' junk.txt |\n",
    "tr ACGT TGCA |\n",
    "rev"
   ]
  },
  {
   "cell_type": "markdown",
   "metadata": {},
   "source": [
    "#### Split command over multiple lines\n",
    "\n",
    "Use `\\` to continue command to next line"
   ]
  },
  {
   "cell_type": "code",
   "execution_count": null,
   "metadata": {},
   "outputs": [],
   "source": [
    "grep -o '[ACTG]*' junk.txt | tr \\\n",
    "ACGT TGCA | rev"
   ]
  },
  {
   "cell_type": "markdown",
   "metadata": {},
   "source": [
    "Actually the line continuation character is not necesssary if you break at a pipe `|`"
   ]
  },
  {
   "cell_type": "code",
   "execution_count": null,
   "metadata": {},
   "outputs": [],
   "source": [
    "grep -o '[ACTG]*' junk.txt | \n",
    "tr ACGT TGCA | \n",
    "rev"
   ]
  },
  {
   "cell_type": "markdown",
   "metadata": {},
   "source": [
    "## 0.2 Getting files\n",
    "\n",
    "We will download Chromosomes 7 and 8 of Crytococcus neoformans in FASTA format from NCBI Nucleotide. We can find their IDs through a [web query](https://www.ncbi.nlm.nih.gov/nuccore/?term=cryptococcus+neoformans+B-3501A).\n",
    "\n",
    "We find that the IDs are\n",
    "\n",
    "```\n",
    "CM000046.1 for chormosome 7\n",
    "CM000047.1 for chormosome 8\n",
    "```\n",
    "\n",
    "We will use the NCBI Entrez tool `efetch` to download the FASTA files to a folder `seqs`."
   ]
  },
  {
   "cell_type": "code",
   "execution_count": null,
   "metadata": {},
   "outputs": [],
   "source": [
    "cd\n",
    "mkdir -p seqs\n",
    "efetch -db=nuccore -format=fasta -id=CM000046.1 > seqs/CM000046.1.fa\n",
    "efetch -db=nuccore -format=fasta -id=CM000047.1 > seqs/CM000047.1.fa"
   ]
  },
  {
   "cell_type": "code",
   "execution_count": null,
   "metadata": {},
   "outputs": [],
   "source": [
    "ls seqs"
   ]
  },
  {
   "cell_type": "code",
   "execution_count": null,
   "metadata": {},
   "outputs": [],
   "source": [
    "head seqs/CM000046.1.fa"
   ]
  },
  {
   "cell_type": "code",
   "execution_count": null,
   "metadata": {},
   "outputs": [],
   "source": [
    "head seqs/CM000047.1.fa"
   ]
  },
  {
   "cell_type": "markdown",
   "metadata": {},
   "source": [
    "## 0.3 Compressing ard archiving files"
   ]
  },
  {
   "cell_type": "markdown",
   "metadata": {},
   "source": [
    "### Using `zip`, `gzip`, `bzip2`, `bgzip`\n",
    "\n",
    "In Bioinformatics the most common formats are `gzip` and `bgzip`."
   ]
  },
  {
   "cell_type": "code",
   "execution_count": null,
   "metadata": {},
   "outputs": [],
   "source": [
    "cd ~/seqs\n",
    "ls"
   ]
  },
  {
   "cell_type": "markdown",
   "metadata": {},
   "source": [
    "#### Compressing with `gzip`"
   ]
  },
  {
   "cell_type": "code",
   "execution_count": null,
   "metadata": {},
   "outputs": [],
   "source": [
    "gzip *fa\n",
    "ls"
   ]
  },
  {
   "cell_type": "markdown",
   "metadata": {},
   "source": [
    "#### Uncompressing with `gzip`"
   ]
  },
  {
   "cell_type": "code",
   "execution_count": null,
   "metadata": {
    "scrolled": false
   },
   "outputs": [],
   "source": [
    "gunzip *gz\n",
    "ls "
   ]
  },
  {
   "cell_type": "markdown",
   "metadata": {},
   "source": [
    "#### Compressing with `bgzip`\n",
    "\n",
    "`bgzip` (Blocked GNU Zip Format) is commonly used in Bioinformatics, and allows random access of the content. BAM, BCF and VCF file formats are typically `bgzip` compressed.\n",
    "\n",
    "Unfortunately `bgzip` does not take multiple files, and we have to use the `xargs` command to pipe in one file at a time."
   ]
  },
  {
   "cell_type": "code",
   "execution_count": null,
   "metadata": {},
   "outputs": [],
   "source": [
    "xargs --help | grep '\\-n,'"
   ]
  },
  {
   "cell_type": "code",
   "execution_count": null,
   "metadata": {},
   "outputs": [],
   "source": [
    "ls *fa | xargs -n1 bgzip\n",
    "ls"
   ]
  },
  {
   "cell_type": "markdown",
   "metadata": {},
   "source": [
    "#### Note that `bgzip` files can be uncompressed with `gzip`"
   ]
  },
  {
   "cell_type": "code",
   "execution_count": null,
   "metadata": {},
   "outputs": [],
   "source": [
    "gunzip *gz\n",
    "ls"
   ]
  },
  {
   "cell_type": "markdown",
   "metadata": {},
   "source": [
    "### Viewing compressed files\n",
    "\n",
    "Some utilities can work directly with gzipped files. One that we will be using extensively is `zcat`."
   ]
  },
  {
   "cell_type": "code",
   "execution_count": null,
   "metadata": {},
   "outputs": [],
   "source": [
    "ls *fa | xargs -n1 bgzip\n",
    "ls"
   ]
  },
  {
   "cell_type": "code",
   "execution_count": null,
   "metadata": {},
   "outputs": [],
   "source": [
    "zcat CM000046.1.fa.gz | head"
   ]
  },
  {
   "cell_type": "code",
   "execution_count": null,
   "metadata": {},
   "outputs": [],
   "source": [
    "gunzip *gz\n",
    "ls"
   ]
  },
  {
   "cell_type": "markdown",
   "metadata": {},
   "source": [
    "### Archival with `tar`\n",
    "\n",
    "Often we want to compress an entire direcotry (possibly with subdirectories). In Unix, this is most commonly done with `tar`. Flags to note\n",
    "\n",
    "- `c` compress\n",
    "- `x` extract \n",
    "- `z` gzip or gunzip\n",
    "- `f` files\n",
    "- `v` verbose"
   ]
  },
  {
   "cell_type": "code",
   "execution_count": null,
   "metadata": {},
   "outputs": [],
   "source": [
    "tar --help | head -8"
   ]
  },
  {
   "cell_type": "code",
   "execution_count": null,
   "metadata": {},
   "outputs": [],
   "source": [
    "cd \n",
    "ls seqs"
   ]
  },
  {
   "cell_type": "code",
   "execution_count": null,
   "metadata": {},
   "outputs": [],
   "source": [
    "tar czvf seqs.tar.gz seqs\n",
    "ls seqs*"
   ]
  },
  {
   "cell_type": "markdown",
   "metadata": {},
   "source": [
    "#### View contents of archive"
   ]
  },
  {
   "cell_type": "code",
   "execution_count": null,
   "metadata": {},
   "outputs": [],
   "source": [
    "tar tzvf seqs.tar.gz"
   ]
  },
  {
   "cell_type": "markdown",
   "metadata": {},
   "source": [
    "#### Remove direcotry and regenerate from archive"
   ]
  },
  {
   "cell_type": "code",
   "execution_count": null,
   "metadata": {},
   "outputs": [],
   "source": [
    "rm -rf seqs\n",
    "ls seqs*"
   ]
  },
  {
   "cell_type": "code",
   "execution_count": null,
   "metadata": {},
   "outputs": [],
   "source": [
    "tar xzvf seqs.tar.gz\n",
    "ls seqs*"
   ]
  },
  {
   "cell_type": "code",
   "execution_count": null,
   "metadata": {},
   "outputs": [],
   "source": [
    "rm seqs.tar.gz"
   ]
  },
  {
   "cell_type": "markdown",
   "metadata": {},
   "source": [
    "## 0.4 Checksums"
   ]
  },
  {
   "cell_type": "markdown",
   "metadata": {},
   "source": [
    "When working with genomic data, we deal with very large files. There is a small risk that these files will be corrupted over time or during data transfer. To ensure that files are not changed, we use a “checksum” function. This is a function that generates an long, essentially random number called a checksum that represents the contents of the file. When the file contents change, so will the checksum. In theory, there is a very small probability that two different files generate the same checksum, but in practice the probability is too small to worry about.\n",
    "\n",
    "There are several different algorithms for generating the checksums, and at least 3 Unix commands to do so, but they all work very similarly for our purposes.\n",
    "\n",
    "The strategy is:\n",
    "\n",
    "- Generate and store a checksum together with a data file whose integrity you care about\n",
    "- When you use or download the data, re-generate the checksum (using the same algorithm e.g. MD5) and compare with the checksum"
   ]
  },
  {
   "cell_type": "code",
   "execution_count": null,
   "metadata": {},
   "outputs": [],
   "source": [
    "ls ~/seqs"
   ]
  },
  {
   "cell_type": "code",
   "execution_count": null,
   "metadata": {},
   "outputs": [],
   "source": [
    "md5sum ~/seqs/*fa > MD5_CHECKSUM"
   ]
  },
  {
   "cell_type": "markdown",
   "metadata": {},
   "source": [
    "#### We check that the files are unchanged wth the `-c` flag"
   ]
  },
  {
   "cell_type": "code",
   "execution_count": null,
   "metadata": {},
   "outputs": [],
   "source": [
    "md5sum -c MD5_CHECKSUM"
   ]
  },
  {
   "cell_type": "markdown",
   "metadata": {},
   "source": [
    "#### Suppsoe one of the files is corrupted"
   ]
  },
  {
   "cell_type": "code",
   "execution_count": null,
   "metadata": {},
   "outputs": [],
   "source": [
    "echo 'Oops I did it again' >> seqs/CM000047.1.fa"
   ]
  },
  {
   "cell_type": "code",
   "execution_count": null,
   "metadata": {},
   "outputs": [],
   "source": [
    "md5sum -c MD5_CHECKSUM  \\\n",
    "| cat # this is jusst so we can Run All"
   ]
  },
  {
   "cell_type": "markdown",
   "metadata": {},
   "source": [
    "#### Using `diff` to find changes\n",
    "\n",
    "Let's rename the altered file, re-download the orginal and see what was changed."
   ]
  },
  {
   "cell_type": "code",
   "execution_count": null,
   "metadata": {},
   "outputs": [],
   "source": [
    "mv seqs/CM000047.1.fa seqs/CM000047.1.fa.bak"
   ]
  },
  {
   "cell_type": "code",
   "execution_count": null,
   "metadata": {},
   "outputs": [],
   "source": [
    "efetch -db=nuccore -format=fasta -id=CM000047.1 > seqs/CM000047.1.fa"
   ]
  },
  {
   "cell_type": "code",
   "execution_count": null,
   "metadata": {},
   "outputs": [],
   "source": [
    "diff -u seqs/CM000047.1.fa seqs/CM000047.1.fa.bak \\\n",
    "| cat # this is jusst so we can Run All"
   ]
  },
  {
   "cell_type": "markdown",
   "metadata": {},
   "source": [
    "Explanaiton from [official documentation]\n",
    "\n",
    "Header\n",
    "\n",
    "```\n",
    "--- seqs/CM000047.1.fa\t2018-06-21 09:58:18.246185758 -0400\n",
    "+++ seqs/CM000047.1.fa.bak\t2018-06-21 09:55:55.967707764 -0400\n",
    "```\n",
    "\n",
    "Explanation\n",
    "\n",
    "```\n",
    "The unified output format starts with a two-line header, which looks like this:\n",
    "\n",
    "--- from-file from-file-modification-time\n",
    "+++ to-file to-file-modification-time\n",
    "The timestamp looks like ‘2002-02-21 23:30:39.942229878 -0800’ to indicate the date, time with fractional seconds, and time zone. The fractional seconds are omitted on hosts that do not support fractional timestamps.\n",
    "\n",
    "You can change the header’s content with the --label=label option. See Alternate Names.\n",
    "```"
   ]
  },
  {
   "cell_type": "markdown",
   "metadata": {},
   "source": [
    "Hunk \n",
    "\n",
    "```\n",
    "@@ -16820,3 +16820,4 @@\n",
    " CCGTGTCGGCACGCATCTGATTTTTTTCTTATTATTCATAACAACGGCTACAGATCACGCAAGCGCATCG\n",
    " ACTCCGCTGCTGCGAAACACCACGAGTACTGCAACCATTGCTGCGGATGAGCTTAGGGGGTTAGGGGGTT\n",
    " AGGGGGTTAGGGGGTTAGGGGGTTAGGGGGTTAGGGGGTTAGGGGGTTAGGGG\n",
    "+Oops I did it again\n",
    "```\n",
    "\n",
    "Explanation\n",
    "\n",
    "```\n",
    "@@ from-file-line-numbers to-file-line-numbers @@\n",
    " line-from-either-file\n",
    " line-from-either-file…\n",
    " \n",
    " If a hunk contains just one line, only its start line number appears. Otherwise its line numbers look like ‘start,count’. An empty hunk is considered to start at the line that follows the hunk.\n",
    "\n",
    "If a hunk and its context contain two or more lines, its line numbers look like ‘start,count’. Otherwise only its end line number appears. An empty hunk is considered to end at the line that precedes the hunk.\n",
    "\n",
    "The lines common to both files begin with a space character. The lines that actually differ between the two files have one of the following indicator characters in the left print column:\n",
    "\n",
    "‘+’\n",
    "A line was added here to the first file.\n",
    "\n",
    "‘-’\n",
    "A line was removed here from the first file.\n",
    " ```"
   ]
  },
  {
   "cell_type": "markdown",
   "metadata": {},
   "source": [
    "#### Verify\n",
    "\n",
    "We can confirm that a line was added at the position given by `diff`"
   ]
  },
  {
   "cell_type": "code",
   "execution_count": null,
   "metadata": {},
   "outputs": [],
   "source": [
    "cat seqs/CM000047.1.fa | tail +16820 | head -3"
   ]
  },
  {
   "cell_type": "code",
   "execution_count": null,
   "metadata": {},
   "outputs": [],
   "source": [
    "cat seqs/CM000047.1.fa.bak | tail +16820 | head -4"
   ]
  },
  {
   "cell_type": "markdown",
   "metadata": {},
   "source": [
    "## 1. Working with FASTA files"
   ]
  },
  {
   "cell_type": "markdown",
   "metadata": {},
   "source": [
    "### Strucrure of a FASTA file\n",
    "\n",
    "From [NCBI FASTA specification](https://blast.ncbi.nlm.nih.gov/Blast.cgi?CMD=Web&PAGE_TYPE=BlastDocs&DOC_TYPE=BlastHelp)\n",
    "\n",
    "```\n",
    "A sequence in FASTA format begins with a single-line description, followed by lines of sequence data. The description line (defline) is distinguished from the sequence data by a greater-than (\">\") symbol at the beginning. It is recommended that all lines of text be shorter than 80 characters in length. An example sequence in FASTA format is:\n",
    "\n",
    "\t\t>P01013 GENE X PROTEIN (OVALBUMIN-RELATED)\n",
    "\t\tQIKDLLVSSSTDLDTTLVLVNAIYFKGMWKTAFNAEDTREMPFHVTKQESKPVQMMCMNNSFNVATLPAE\n",
    "\t\tKMKILELPFASGDLSMLVLLPDEVSDLERIEKTINFEKLTEWTNPNTMEKRRVKVYLPQMKIEEKYNLTS\n",
    "\t\tVLMALGMTDLFIPSANLTGISSAESLKISQAVHGAFMELSEDGIEMAGSTGVIEDIKHSPESEQFRADHP\n",
    "\t\tFLFLIKHNPTNTIVYFGRYWSP\n",
    "```\n",
    "\n",
    "Note that a FASTA file may contain mulitple sequences, each with its own description line."
   ]
  },
  {
   "cell_type": "markdown",
   "metadata": {},
   "source": [
    "#### Set up variables for files we will be using"
   ]
  },
  {
   "cell_type": "code",
   "execution_count": null,
   "metadata": {},
   "outputs": [],
   "source": [
    "DATA_DIR='/data/hts/2018/Granek_4837_180427A5'\n",
    "FASTA='cneo040623.scaffs.fa.gz'\n",
    "FASTQ='10_MA_C_S3_L003_R1_001.fastq.gz'\n",
    "GTF='Cryptococcus_neoformans.ASM9104v1.39.gtf.gz'"
   ]
  },
  {
   "cell_type": "markdown",
   "metadata": {},
   "source": [
    "#### This is how you get the value of a shell variable"
   ]
  },
  {
   "cell_type": "code",
   "execution_count": null,
   "metadata": {
    "scrolled": true
   },
   "outputs": [],
   "source": [
    "echo $DATA_DIR"
   ]
  },
  {
   "cell_type": "markdown",
   "metadata": {},
   "source": [
    "#### List files in data direcotry"
   ]
  },
  {
   "cell_type": "code",
   "execution_count": null,
   "metadata": {
    "scrolled": true
   },
   "outputs": [],
   "source": [
    "ls $DATA_DIR | head -3"
   ]
  },
  {
   "cell_type": "markdown",
   "metadata": {},
   "source": [
    "#### Inspect the contents of a zipped file.\n",
    "\n",
    "`zcat` is like `cat` but works on gzipped files."
   ]
  },
  {
   "cell_type": "code",
   "execution_count": null,
   "metadata": {},
   "outputs": [],
   "source": [
    "zcat $DATA_DIR/$FASTA | head"
   ]
  },
  {
   "cell_type": "markdown",
   "metadata": {},
   "source": [
    "#### Show headers only"
   ]
  },
  {
   "cell_type": "code",
   "execution_count": null,
   "metadata": {
    "scrolled": false
   },
   "outputs": [],
   "source": [
    "zcat $DATA_DIR/$FASTA   | grep '^>' | head"
   ]
  },
  {
   "cell_type": "markdown",
   "metadata": {},
   "source": [
    "#### Show headers with line numbers"
   ]
  },
  {
   "cell_type": "code",
   "execution_count": null,
   "metadata": {},
   "outputs": [],
   "source": [
    "zcat $DATA_DIR/$FASTA| grep -n '^>' | head"
   ]
  },
  {
   "cell_type": "markdown",
   "metadata": {},
   "source": [
    "#### Count number of headers (one for each crhomosome)"
   ]
  },
  {
   "cell_type": "code",
   "execution_count": null,
   "metadata": {},
   "outputs": [],
   "source": [
    "zcat $DATA_DIR/$FASTA  | grep -c '^>'"
   ]
  },
  {
   "cell_type": "markdown",
   "metadata": {},
   "source": [
    "#### Extract first part of the sequence from chromosome 7"
   ]
  },
  {
   "cell_type": "code",
   "execution_count": null,
   "metadata": {},
   "outputs": [],
   "source": [
    "zcat $DATA_DIR/$FASTA | sed -n '210079,210082p'"
   ]
  },
  {
   "cell_type": "markdown",
   "metadata": {},
   "source": [
    "#### Extract first line of chromosome 7 and save to file"
   ]
  },
  {
   "cell_type": "code",
   "execution_count": null,
   "metadata": {},
   "outputs": [],
   "source": [
    "zcat $DATA_DIR/$FASTA | sed -n '210080p' > dna.txt"
   ]
  },
  {
   "cell_type": "markdown",
   "metadata": {},
   "source": [
    "#### Inspect the file we just saved"
   ]
  },
  {
   "cell_type": "code",
   "execution_count": null,
   "metadata": {},
   "outputs": [],
   "source": [
    "cat dna.txt"
   ]
  },
  {
   "cell_type": "markdown",
   "metadata": {},
   "source": [
    "#### Find complement"
   ]
  },
  {
   "cell_type": "code",
   "execution_count": null,
   "metadata": {},
   "outputs": [],
   "source": [
    "cat dna.txt | tr ACGT TGCA"
   ]
  },
  {
   "cell_type": "markdown",
   "metadata": {},
   "source": [
    "#### Find reverse complement"
   ]
  },
  {
   "cell_type": "code",
   "execution_count": null,
   "metadata": {},
   "outputs": [],
   "source": [
    "cat dna.txt | tr ACGT TGCA | rev"
   ]
  },
  {
   "cell_type": "markdown",
   "metadata": {},
   "source": [
    "#### Delete A and T"
   ]
  },
  {
   "cell_type": "code",
   "execution_count": null,
   "metadata": {},
   "outputs": [],
   "source": [
    "cat dna.txt | tr -d 'AT' "
   ]
  },
  {
   "cell_type": "markdown",
   "metadata": {},
   "source": [
    "### Only count non A and T"
   ]
  },
  {
   "cell_type": "code",
   "execution_count": null,
   "metadata": {},
   "outputs": [],
   "source": [
    "cat dna.txt | tr -d 'AT' | tr -d '\\n' | wc -c"
   ]
  },
  {
   "cell_type": "code",
   "execution_count": null,
   "metadata": {},
   "outputs": [],
   "source": [
    "man tr | grep '\\-d,' -A2"
   ]
  },
  {
   "cell_type": "markdown",
   "metadata": {},
   "source": [
    "#### Count C and G"
   ]
  },
  {
   "cell_type": "code",
   "execution_count": null,
   "metadata": {},
   "outputs": [],
   "source": [
    "grep '[CG]' -o dna.txt | wc -l"
   ]
  },
  {
   "cell_type": "code",
   "execution_count": null,
   "metadata": {
    "scrolled": false
   },
   "outputs": [],
   "source": [
    "man grep | grep '\\-o,' -A2"
   ]
  },
  {
   "cell_type": "markdown",
   "metadata": {},
   "source": [
    "#### Specify data directory as a shell variable"
   ]
  },
  {
   "cell_type": "markdown",
   "metadata": {},
   "source": [
    "## 2. Working with FASTQ files"
   ]
  },
  {
   "cell_type": "markdown",
   "metadata": {},
   "source": [
    "### Structure of a FASTQ file\n",
    "\n",
    "From [Wikipedia](https://en.wikipedia.org/wiki/FASTQ_format)\n",
    "\n",
    "```\n",
    "A FASTQ file normally uses four lines per sequence.\n",
    "\n",
    "Line 1 begins with a '@' character and is followed by a sequence identifier and an optional description (like a FASTA title line).\n",
    "Line 2 is the raw sequence letters.\n",
    "Line 3 begins with a '+' character and is optionally followed by the same sequence identifier (and any description) again.\n",
    "Line 4 encodes the quality values for the sequence in Line 2, and must contain the same number of symbols as letters in the sequence.\n",
    "```"
   ]
  },
  {
   "cell_type": "markdown",
   "metadata": {},
   "source": [
    "#### Specify target file as a shell variable"
   ]
  },
  {
   "cell_type": "markdown",
   "metadata": {},
   "source": [
    "#### Show the contents of a zipped file"
   ]
  },
  {
   "cell_type": "code",
   "execution_count": null,
   "metadata": {},
   "outputs": [],
   "source": [
    "zcat $DATA_DIR/$FASTQ | head -n 10 "
   ]
  },
  {
   "cell_type": "markdown",
   "metadata": {},
   "source": [
    "#### Extracting just the sequence\n",
    "\n",
    "We need to extract every 4th line starting from the 2nd.  We cna use a tool called `sed` (stream editor) to do so."
   ]
  },
  {
   "cell_type": "code",
   "execution_count": null,
   "metadata": {},
   "outputs": [],
   "source": [
    "zcat $DATA_DIR/$FASTQ | sed -n '2~4p;' | head"
   ]
  },
  {
   "cell_type": "markdown",
   "metadata": {},
   "source": [
    "**Explanation**\n",
    "\n",
    "`sed -n '2~4p'`\n",
    "\n",
    "- `-n` means to suppress all output\n",
    "- `2~4p` means print (p) every 4th line starting at line 2"
   ]
  },
  {
   "cell_type": "markdown",
   "metadata": {},
   "source": [
    "#### Joining lines"
   ]
  },
  {
   "cell_type": "markdown",
   "metadata": {},
   "source": [
    "Getting sequence as a single string. We just need to delete newlline (\\n) characters."
   ]
  },
  {
   "cell_type": "markdown",
   "metadata": {},
   "source": [
    "Note: We can break long commands uisng the line continuation character \\"
   ]
  },
  {
   "cell_type": "code",
   "execution_count": null,
   "metadata": {},
   "outputs": [],
   "source": [
    "zcat $DATA_DIR/$FASTQ | \\\n",
    "sed -n '2~4p;' | \\\n",
    "head | \\\n",
    "tr -d '\\n' "
   ]
  },
  {
   "cell_type": "markdown",
   "metadata": {},
   "source": [
    "## 3.Working wtih GTF files"
   ]
  },
  {
   "cell_type": "markdown",
   "metadata": {},
   "source": [
    "### Structure of a GTF file\n",
    "\n",
    "From [UCSD Genome Browser](http://genome.ucsc.edu/FAQ/FAQformat.html#format3)\n",
    "\n",
    "```\n",
    "The GTF (General Transfer Format) is an extension of GFF version 2 \n",
    "and used to represent transcription models. GFF (General Feature Format) \n",
    "consists of one line per feature, each containing 9 columns of data. \n",
    "\n",
    "Fields\n",
    "\n",
    "Fields are tab-separated. Also, all but the final field in each \n",
    "feature line must contain a value; \"empty\" columns are denoted \n",
    "with a '.'\n",
    "\n",
    "    seqname   - name of the chromosome or scaffold; chromosome names \n",
    "                without a 'chr' \n",
    "    source    - name of the program that generated this feature, or \n",
    "                the data source (database or project name)\n",
    "    feature   - feature type name. Current allowed features are\n",
    "                {gene, transcript, exon, CDS, Selenocysteine, start_codon,\n",
    "                stop_codon and UTR}\n",
    "    start     - start position of the feature, with sequence numbering \n",
    "                starting at 1.\n",
    "    end       - end position of the feature, with sequence numbering \n",
    "                starting at 1.\n",
    "    score     - a floating point value indiciating the score of a feature\n",
    "    strand    - defined as + (forward) or - (reverse).\n",
    "    frame     - one of '0', '1' or '2'. Frame indicates the number of base pairs\n",
    "                before you encounter a full codon. '0' indicates the feature \n",
    "                begins with a whole codon. '1' indicates there is an extra\n",
    "                base (the 3rd base of the prior codon) at the start of this feature.\n",
    "                '2' indicates there are two extra bases (2nd and 3rd base of the \n",
    "                prior exon) before the first codon. All values are given with\n",
    "                relation to the 5' end.\n",
    "    attribute - a semicolon-separated list of tag-value pairs (separated by a space), \n",
    "                providing additional information about each feature. A key can be\n",
    "                repeated multiple times.\n",
    "\n",
    "Attributes\n",
    "\n",
    "The following attributes are available. All attributes are semi-colon\n",
    "separated pairs of keys and values.\n",
    "\n",
    "- gene_id: The stable identifier for the gene\n",
    "- gene_version: The stable identifier version for the gene\n",
    "- gene_name: The official symbol of this gene\n",
    "- gene_source: The annotation source for this gene\n",
    "- gene_biotype: The biotype of this gene\n",
    "- transcript_id: The stable identifier for this transcript\n",
    "- transcript_version: The stable identifier version for this transcript\n",
    "- transcript_name: The symbold for this transcript derived from the gene name\n",
    "- transcript_source: The annotation source for this transcript\n",
    "- transcript_biotype: The biotype for this transcript\n",
    "- exon_id: The stable identifier for this exon\n",
    "- exon_version: The stable identifier version for this exon\n",
    "- exon_number: Position of this exon in the transcript\n",
    "- ccds_id: CCDS identifier linked to this transcript\n",
    "- protein_id: Stable identifier for this transcript's protein\n",
    "- protein_version: Stable identifier version for this transcript's protein\n",
    "- tag: A collection of additional key value tags\n",
    "- transcript_support_level: Ranking to assess how well a transcript is supported (from 1 to 5)\n",
    "```"
   ]
  },
  {
   "cell_type": "markdown",
   "metadata": {},
   "source": [
    "#### Inspect the GTF file"
   ]
  },
  {
   "cell_type": "code",
   "execution_count": null,
   "metadata": {},
   "outputs": [],
   "source": [
    "zcat $DATA_DIR/$GTF | head"
   ]
  },
  {
   "cell_type": "markdown",
   "metadata": {},
   "source": [
    "#### Ignore comment lines version 1\n",
    "\n",
    "This uses `tail` to take all lines starting from line 6"
   ]
  },
  {
   "cell_type": "code",
   "execution_count": null,
   "metadata": {},
   "outputs": [],
   "source": [
    "zcat $DATA_DIR/$GTF | tail +6 | head -3"
   ]
  },
  {
   "cell_type": "markdown",
   "metadata": {},
   "source": [
    "#### Ingore comment lines 2\n",
    "\n",
    "This uses `grep` to ignore (`-v`) lines starting with `^#`"
   ]
  },
  {
   "cell_type": "code",
   "execution_count": null,
   "metadata": {},
   "outputs": [],
   "source": [
    "zcat $DATA_DIR/$GTF | grep -v '^#' | head -3"
   ]
  },
  {
   "cell_type": "markdown",
   "metadata": {},
   "source": [
    "#### Find all unique feature types in GTF"
   ]
  },
  {
   "cell_type": "code",
   "execution_count": null,
   "metadata": {},
   "outputs": [],
   "source": [
    "zcat $DATA_DIR/$GTF | grep -v '^#' | cut -f 3 | sort | uniq"
   ]
  },
  {
   "cell_type": "markdown",
   "metadata": {},
   "source": [
    "#### Get counts of all unique feature types in GTF"
   ]
  },
  {
   "cell_type": "code",
   "execution_count": null,
   "metadata": {},
   "outputs": [],
   "source": [
    "zcat $DATA_DIR/$GTF | grep -v '^#' | cut -f 3 | sort | uniq -c"
   ]
  },
  {
   "cell_type": "markdown",
   "metadata": {},
   "source": [
    "#### Find the the attributes of the first 3 exons"
   ]
  },
  {
   "cell_type": "code",
   "execution_count": null,
   "metadata": {
    "scrolled": false
   },
   "outputs": [],
   "source": [
    "zcat $DATA_DIR/$GTF | grep -v '^#' | awk '$3 == \"exon\"' | head -3"
   ]
  },
  {
   "cell_type": "markdown",
   "metadata": {},
   "source": [
    "#### Store attributes of all genes in a file\n",
    "\n",
    "It is common to use Unix commands to do simple processing and save the results to a file, then use a scripting language such as R or Python to furhter process the file."
   ]
  },
  {
   "cell_type": "code",
   "execution_count": null,
   "metadata": {},
   "outputs": [],
   "source": [
    "zcat $DATA_DIR/$GTF | grep -v '^#' | awk '$3 == \"gene\"' | cut -f 9 > genes.txt"
   ]
  },
  {
   "cell_type": "code",
   "execution_count": null,
   "metadata": {},
   "outputs": [],
   "source": [
    "head -6 genes.txt"
   ]
  },
  {
   "cell_type": "markdown",
   "metadata": {},
   "source": [
    "## 4. Looping"
   ]
  },
  {
   "cell_type": "markdown",
   "metadata": {},
   "source": [
    "#### Loop throgh first 10 lines\n",
    "\n",
    "- Creae a counter variable `LINE_NUM` and initialize it to 0\n",
    "- Redirect `genes.txt` to a while loop\n",
    "- Whlie loop reads each line into the variable `LINE`\n",
    "- The `[[ CONDITION ]]` tests if CONDITION is true\n",
    "- If LINE_NUM is less than `-lt` 10 print LINE and increment LINE_NUM\n",
    "- Note that `(( EXPR ))` is used to evaluate numeric expressions"
   ]
  },
  {
   "cell_type": "code",
   "execution_count": null,
   "metadata": {
    "scrolled": false
   },
   "outputs": [],
   "source": [
    "LINE_NUM=0\n",
    "while read LINE\n",
    "do\n",
    "    if [[ $LINE_NUM -lt 10 ]]; then\n",
    "        echo $LINE\n",
    "        (( LINE_NUM++ ))\n",
    "    fi\n",
    "done < genes.txt"
   ]
  },
  {
   "cell_type": "markdown",
   "metadata": {},
   "source": [
    "#### Loop through first 10 tRNAs\n",
    "\n",
    "Almost the same as previous program but we add a new condition to check tha the gene_biotype is tRNA using a REGULAr EXPRESSION via the match operator `=~`\n",
    "\n",
    "`.*gene_biotype[[:space:]]\\\"tRNA\\\".*` means\n",
    "\n",
    "- `.*`: Match any number of any character \n",
    "- `gene_biotype`: Match the string gene_biotype\n",
    "- `[[:space:]]`: Match a single space cahracter\n",
    "- `\\\"tRNA\\\"`: Math the string \"tRNA\" - we escape the double quotes to match linteral double quote characters\n",
    "- `.*`: Match any number of any character "
   ]
  },
  {
   "cell_type": "code",
   "execution_count": null,
   "metadata": {},
   "outputs": [],
   "source": [
    "LINE_NUM=0\n",
    "while read LINE\n",
    "do\n",
    "    if [[ $LINE_NUM -lt 10 ]] && [[ $LINE =~ .*gene_biotype[[:space:]]\\\"tRNA\\\".* ]] ; then\n",
    "        echo $LINE\n",
    "        ((LINE_NUM++))\n",
    "    fi\n",
    "done < genes.txt"
   ]
  },
  {
   "cell_type": "markdown",
   "metadata": {},
   "source": [
    "#### Loop through files in a directory and print the filename followed by the first line\n",
    "\n",
    "- Use a COMMAND EXPRESSION `$(EXPR)` to list files matching the glob pattern\n",
    "- We loop through each file using a `for` statement\n",
    "- For each file, extract the first line with `head -1` and save in variable `FIRST`\n",
    "- The `2>/dev/null` ignores output from the `stderr` stream\n",
    "- We use another COMMAND EXPRESSION to print the filename withou the directory (using `basename`)\n",
    "- We then print the first line storred in `FIRST`"
   ]
  },
  {
   "cell_type": "code",
   "execution_count": null,
   "metadata": {},
   "outputs": [],
   "source": [
    "for FILE in $(ls $DATA_DIR/*_MA_J_S20_*gz)\n",
    "do\n",
    "    FIRST=$(zcat $FILE 2>/dev/null | head -1)\n",
    "    echo $(basename $FILE)\n",
    "    echo $FIRST\n",
    "    echo\n",
    "done"
   ]
  }
 ],
 "metadata": {
  "kernelspec": {
   "display_name": "Bash",
   "language": "bash",
   "name": "bash"
  },
  "language_info": {
   "codemirror_mode": "shell",
   "file_extension": ".sh",
   "mimetype": "text/x-sh",
   "name": "bash"
  }
 },
 "nbformat": 4,
 "nbformat_minor": 2
}
