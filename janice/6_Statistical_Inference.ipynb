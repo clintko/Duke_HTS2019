{
 "cells": [
  {
   "cell_type": "markdown",
   "metadata": {},
   "source": [
    "# Simulations and Statistical Inference"
   ]
  },
  {
   "cell_type": "code",
   "execution_count": 1,
   "metadata": {},
   "outputs": [
    {
     "name": "stderr",
     "output_type": "stream",
     "text": [
      "Registered S3 methods overwritten by 'ggplot2':\n",
      "  method         from \n",
      "  [.quosures     rlang\n",
      "  c.quosures     rlang\n",
      "  print.quosures rlang\n",
      "── \u001b[1mAttaching packages\u001b[22m ─────────────────────────────────────── tidyverse 1.2.1 ──\n",
      "\u001b[32m✔\u001b[39m \u001b[34mggplot2\u001b[39m 3.1.1     \u001b[32m✔\u001b[39m \u001b[34mpurrr  \u001b[39m 0.3.2\n",
      "\u001b[32m✔\u001b[39m \u001b[34mtibble \u001b[39m 2.1.2     \u001b[32m✔\u001b[39m \u001b[34mdplyr  \u001b[39m 0.8.1\n",
      "\u001b[32m✔\u001b[39m \u001b[34mtidyr  \u001b[39m 0.8.3     \u001b[32m✔\u001b[39m \u001b[34mstringr\u001b[39m 1.4.0\n",
      "\u001b[32m✔\u001b[39m \u001b[34mreadr  \u001b[39m 1.3.1     \u001b[32m✔\u001b[39m \u001b[34mforcats\u001b[39m 0.4.0\n",
      "── \u001b[1mConflicts\u001b[22m ────────────────────────────────────────── tidyverse_conflicts() ──\n",
      "\u001b[31m✖\u001b[39m \u001b[34mdplyr\u001b[39m::\u001b[32mfilter()\u001b[39m masks \u001b[34mstats\u001b[39m::filter()\n",
      "\u001b[31m✖\u001b[39m \u001b[34mdplyr\u001b[39m::\u001b[32mlag()\u001b[39m    masks \u001b[34mstats\u001b[39m::lag()\n"
     ]
    }
   ],
   "source": [
    "library(tidyverse)"
   ]
  },
  {
   "cell_type": "code",
   "execution_count": 2,
   "metadata": {},
   "outputs": [],
   "source": [
    "options(repr.plot.width=4, repr.plot.height=3)"
   ]
  },
  {
   "cell_type": "markdown",
   "metadata": {},
   "source": [
    "## Set random number seed for reproducibility"
   ]
  },
  {
   "cell_type": "code",
   "execution_count": 3,
   "metadata": {},
   "outputs": [],
   "source": [
    "set.seed(42)"
   ]
  },
  {
   "cell_type": "markdown",
   "metadata": {},
   "source": [
    "## Generating numbers"
   ]
  },
  {
   "cell_type": "markdown",
   "metadata": {},
   "source": [
    "Using the `c` function"
   ]
  },
  {
   "cell_type": "code",
   "execution_count": 4,
   "metadata": {},
   "outputs": [
    {
     "data": {
      "text/html": [
       "<ol class=list-inline>\n",
       "\t<li>1</li>\n",
       "\t<li>2</li>\n",
       "\t<li>3</li>\n",
       "\t<li>5</li>\n",
       "\t<li>8</li>\n",
       "\t<li>13</li>\n",
       "</ol>\n"
      ],
      "text/latex": [
       "\\begin{enumerate*}\n",
       "\\item 1\n",
       "\\item 2\n",
       "\\item 3\n",
       "\\item 5\n",
       "\\item 8\n",
       "\\item 13\n",
       "\\end{enumerate*}\n"
      ],
      "text/markdown": [
       "1. 1\n",
       "2. 2\n",
       "3. 3\n",
       "4. 5\n",
       "5. 8\n",
       "6. 13\n",
       "\n",
       "\n"
      ],
      "text/plain": [
       "[1]  1  2  3  5  8 13"
      ]
     },
     "metadata": {},
     "output_type": "display_data"
    }
   ],
   "source": [
    "c(1,2,3,5,8,13)"
   ]
  },
  {
   "cell_type": "markdown",
   "metadata": {},
   "source": [
    "Using the `:` operator"
   ]
  },
  {
   "cell_type": "code",
   "execution_count": 5,
   "metadata": {},
   "outputs": [
    {
     "data": {
      "text/html": [
       "<ol class=list-inline>\n",
       "\t<li>1</li>\n",
       "\t<li>2</li>\n",
       "\t<li>3</li>\n",
       "\t<li>4</li>\n",
       "\t<li>5</li>\n",
       "\t<li>6</li>\n",
       "\t<li>7</li>\n",
       "\t<li>8</li>\n",
       "\t<li>9</li>\n",
       "\t<li>10</li>\n",
       "</ol>\n"
      ],
      "text/latex": [
       "\\begin{enumerate*}\n",
       "\\item 1\n",
       "\\item 2\n",
       "\\item 3\n",
       "\\item 4\n",
       "\\item 5\n",
       "\\item 6\n",
       "\\item 7\n",
       "\\item 8\n",
       "\\item 9\n",
       "\\item 10\n",
       "\\end{enumerate*}\n"
      ],
      "text/markdown": [
       "1. 1\n",
       "2. 2\n",
       "3. 3\n",
       "4. 4\n",
       "5. 5\n",
       "6. 6\n",
       "7. 7\n",
       "8. 8\n",
       "9. 9\n",
       "10. 10\n",
       "\n",
       "\n"
      ],
      "text/plain": [
       " [1]  1  2  3  4  5  6  7  8  9 10"
      ]
     },
     "metadata": {},
     "output_type": "display_data"
    }
   ],
   "source": [
    "1:10"
   ]
  },
  {
   "cell_type": "code",
   "execution_count": 6,
   "metadata": {},
   "outputs": [
    {
     "data": {
      "text/html": [
       "<ol class=list-inline>\n",
       "\t<li>10</li>\n",
       "\t<li>9</li>\n",
       "\t<li>8</li>\n",
       "\t<li>7</li>\n",
       "\t<li>6</li>\n",
       "\t<li>5</li>\n",
       "\t<li>4</li>\n",
       "\t<li>3</li>\n",
       "\t<li>2</li>\n",
       "\t<li>1</li>\n",
       "</ol>\n"
      ],
      "text/latex": [
       "\\begin{enumerate*}\n",
       "\\item 10\n",
       "\\item 9\n",
       "\\item 8\n",
       "\\item 7\n",
       "\\item 6\n",
       "\\item 5\n",
       "\\item 4\n",
       "\\item 3\n",
       "\\item 2\n",
       "\\item 1\n",
       "\\end{enumerate*}\n"
      ],
      "text/markdown": [
       "1. 10\n",
       "2. 9\n",
       "3. 8\n",
       "4. 7\n",
       "5. 6\n",
       "6. 5\n",
       "7. 4\n",
       "8. 3\n",
       "9. 2\n",
       "10. 1\n",
       "\n",
       "\n"
      ],
      "text/plain": [
       " [1] 10  9  8  7  6  5  4  3  2  1"
      ]
     },
     "metadata": {},
     "output_type": "display_data"
    }
   ],
   "source": [
    "10:1"
   ]
  },
  {
   "cell_type": "markdown",
   "metadata": {},
   "source": [
    "Using the `seq` function"
   ]
  },
  {
   "cell_type": "code",
   "execution_count": 7,
   "metadata": {},
   "outputs": [
    {
     "data": {
      "text/html": [
       "<ol class=list-inline>\n",
       "\t<li>1</li>\n",
       "\t<li>2</li>\n",
       "\t<li>3</li>\n",
       "\t<li>4</li>\n",
       "\t<li>5</li>\n",
       "\t<li>6</li>\n",
       "\t<li>7</li>\n",
       "\t<li>8</li>\n",
       "\t<li>9</li>\n",
       "\t<li>10</li>\n",
       "</ol>\n"
      ],
      "text/latex": [
       "\\begin{enumerate*}\n",
       "\\item 1\n",
       "\\item 2\n",
       "\\item 3\n",
       "\\item 4\n",
       "\\item 5\n",
       "\\item 6\n",
       "\\item 7\n",
       "\\item 8\n",
       "\\item 9\n",
       "\\item 10\n",
       "\\end{enumerate*}\n"
      ],
      "text/markdown": [
       "1. 1\n",
       "2. 2\n",
       "3. 3\n",
       "4. 4\n",
       "5. 5\n",
       "6. 6\n",
       "7. 7\n",
       "8. 8\n",
       "9. 9\n",
       "10. 10\n",
       "\n",
       "\n"
      ],
      "text/plain": [
       " [1]  1  2  3  4  5  6  7  8  9 10"
      ]
     },
     "metadata": {},
     "output_type": "display_data"
    }
   ],
   "source": [
    "seq(1, 10)"
   ]
  },
  {
   "cell_type": "code",
   "execution_count": 8,
   "metadata": {},
   "outputs": [
    {
     "data": {
      "text/html": [
       "<ol class=list-inline>\n",
       "\t<li>1</li>\n",
       "\t<li>3</li>\n",
       "\t<li>5</li>\n",
       "\t<li>7</li>\n",
       "\t<li>9</li>\n",
       "</ol>\n"
      ],
      "text/latex": [
       "\\begin{enumerate*}\n",
       "\\item 1\n",
       "\\item 3\n",
       "\\item 5\n",
       "\\item 7\n",
       "\\item 9\n",
       "\\end{enumerate*}\n"
      ],
      "text/markdown": [
       "1. 1\n",
       "2. 3\n",
       "3. 5\n",
       "4. 7\n",
       "5. 9\n",
       "\n",
       "\n"
      ],
      "text/plain": [
       "[1] 1 3 5 7 9"
      ]
     },
     "metadata": {},
     "output_type": "display_data"
    }
   ],
   "source": [
    "seq(1, 10, 2)"
   ]
  },
  {
   "cell_type": "code",
   "execution_count": 9,
   "metadata": {},
   "outputs": [
    {
     "data": {
      "text/html": [
       "<ol class=list-inline>\n",
       "\t<li>10</li>\n",
       "\t<li>9</li>\n",
       "\t<li>8</li>\n",
       "\t<li>7</li>\n",
       "\t<li>6</li>\n",
       "\t<li>5</li>\n",
       "\t<li>4</li>\n",
       "\t<li>3</li>\n",
       "\t<li>2</li>\n",
       "\t<li>1</li>\n",
       "</ol>\n"
      ],
      "text/latex": [
       "\\begin{enumerate*}\n",
       "\\item 10\n",
       "\\item 9\n",
       "\\item 8\n",
       "\\item 7\n",
       "\\item 6\n",
       "\\item 5\n",
       "\\item 4\n",
       "\\item 3\n",
       "\\item 2\n",
       "\\item 1\n",
       "\\end{enumerate*}\n"
      ],
      "text/markdown": [
       "1. 10\n",
       "2. 9\n",
       "3. 8\n",
       "4. 7\n",
       "5. 6\n",
       "6. 5\n",
       "7. 4\n",
       "8. 3\n",
       "9. 2\n",
       "10. 1\n",
       "\n",
       "\n"
      ],
      "text/plain": [
       " [1] 10  9  8  7  6  5  4  3  2  1"
      ]
     },
     "metadata": {},
     "output_type": "display_data"
    }
   ],
   "source": [
    "seq(10, 1, -1)"
   ]
  },
  {
   "cell_type": "code",
   "execution_count": 10,
   "metadata": {},
   "outputs": [
    {
     "data": {
      "text/html": [
       "<ol class=list-inline>\n",
       "\t<li>0</li>\n",
       "\t<li>0.1</li>\n",
       "\t<li>0.2</li>\n",
       "\t<li>0.3</li>\n",
       "\t<li>0.4</li>\n",
       "\t<li>0.5</li>\n",
       "\t<li>0.6</li>\n",
       "\t<li>0.7</li>\n",
       "\t<li>0.8</li>\n",
       "\t<li>0.9</li>\n",
       "\t<li>1</li>\n",
       "</ol>\n"
      ],
      "text/latex": [
       "\\begin{enumerate*}\n",
       "\\item 0\n",
       "\\item 0.1\n",
       "\\item 0.2\n",
       "\\item 0.3\n",
       "\\item 0.4\n",
       "\\item 0.5\n",
       "\\item 0.6\n",
       "\\item 0.7\n",
       "\\item 0.8\n",
       "\\item 0.9\n",
       "\\item 1\n",
       "\\end{enumerate*}\n"
      ],
      "text/markdown": [
       "1. 0\n",
       "2. 0.1\n",
       "3. 0.2\n",
       "4. 0.3\n",
       "5. 0.4\n",
       "6. 0.5\n",
       "7. 0.6\n",
       "8. 0.7\n",
       "9. 0.8\n",
       "10. 0.9\n",
       "11. 1\n",
       "\n",
       "\n"
      ],
      "text/plain": [
       " [1] 0.0 0.1 0.2 0.3 0.4 0.5 0.6 0.7 0.8 0.9 1.0"
      ]
     },
     "metadata": {},
     "output_type": "display_data"
    }
   ],
   "source": [
    "seq(0, 1, length.out = 11)"
   ]
  },
  {
   "cell_type": "markdown",
   "metadata": {},
   "source": [
    "## Using `rep`\n",
    "\n",
    "`rep` is useful for generating repeating data patterns."
   ]
  },
  {
   "cell_type": "code",
   "execution_count": 11,
   "metadata": {},
   "outputs": [
    {
     "data": {
      "text/html": [
       "<ol class=list-inline>\n",
       "\t<li>3</li>\n",
       "\t<li>3</li>\n",
       "\t<li>3</li>\n",
       "\t<li>3</li>\n",
       "\t<li>3</li>\n",
       "</ol>\n"
      ],
      "text/latex": [
       "\\begin{enumerate*}\n",
       "\\item 3\n",
       "\\item 3\n",
       "\\item 3\n",
       "\\item 3\n",
       "\\item 3\n",
       "\\end{enumerate*}\n"
      ],
      "text/markdown": [
       "1. 3\n",
       "2. 3\n",
       "3. 3\n",
       "4. 3\n",
       "5. 3\n",
       "\n",
       "\n"
      ],
      "text/plain": [
       "[1] 3 3 3 3 3"
      ]
     },
     "metadata": {},
     "output_type": "display_data"
    }
   ],
   "source": [
    "rep(3, 5)"
   ]
  },
  {
   "cell_type": "code",
   "execution_count": 12,
   "metadata": {},
   "outputs": [
    {
     "data": {
      "text/html": [
       "<ol class=list-inline>\n",
       "\t<li>1</li>\n",
       "\t<li>2</li>\n",
       "\t<li>3</li>\n",
       "\t<li>1</li>\n",
       "\t<li>2</li>\n",
       "\t<li>3</li>\n",
       "\t<li>1</li>\n",
       "\t<li>2</li>\n",
       "\t<li>3</li>\n",
       "\t<li>1</li>\n",
       "\t<li>2</li>\n",
       "\t<li>3</li>\n",
       "\t<li>1</li>\n",
       "\t<li>2</li>\n",
       "\t<li>3</li>\n",
       "</ol>\n"
      ],
      "text/latex": [
       "\\begin{enumerate*}\n",
       "\\item 1\n",
       "\\item 2\n",
       "\\item 3\n",
       "\\item 1\n",
       "\\item 2\n",
       "\\item 3\n",
       "\\item 1\n",
       "\\item 2\n",
       "\\item 3\n",
       "\\item 1\n",
       "\\item 2\n",
       "\\item 3\n",
       "\\item 1\n",
       "\\item 2\n",
       "\\item 3\n",
       "\\end{enumerate*}\n"
      ],
      "text/markdown": [
       "1. 1\n",
       "2. 2\n",
       "3. 3\n",
       "4. 1\n",
       "5. 2\n",
       "6. 3\n",
       "7. 1\n",
       "8. 2\n",
       "9. 3\n",
       "10. 1\n",
       "11. 2\n",
       "12. 3\n",
       "13. 1\n",
       "14. 2\n",
       "15. 3\n",
       "\n",
       "\n"
      ],
      "text/plain": [
       " [1] 1 2 3 1 2 3 1 2 3 1 2 3 1 2 3"
      ]
     },
     "metadata": {},
     "output_type": "display_data"
    }
   ],
   "source": [
    "rep(1:3, times=5)"
   ]
  },
  {
   "cell_type": "code",
   "execution_count": 13,
   "metadata": {},
   "outputs": [
    {
     "data": {
      "text/html": [
       "<ol class=list-inline>\n",
       "\t<li>1</li>\n",
       "\t<li>1</li>\n",
       "\t<li>1</li>\n",
       "\t<li>1</li>\n",
       "\t<li>1</li>\n",
       "\t<li>2</li>\n",
       "\t<li>2</li>\n",
       "\t<li>2</li>\n",
       "\t<li>2</li>\n",
       "\t<li>2</li>\n",
       "\t<li>3</li>\n",
       "\t<li>3</li>\n",
       "\t<li>3</li>\n",
       "\t<li>3</li>\n",
       "\t<li>3</li>\n",
       "</ol>\n"
      ],
      "text/latex": [
       "\\begin{enumerate*}\n",
       "\\item 1\n",
       "\\item 1\n",
       "\\item 1\n",
       "\\item 1\n",
       "\\item 1\n",
       "\\item 2\n",
       "\\item 2\n",
       "\\item 2\n",
       "\\item 2\n",
       "\\item 2\n",
       "\\item 3\n",
       "\\item 3\n",
       "\\item 3\n",
       "\\item 3\n",
       "\\item 3\n",
       "\\end{enumerate*}\n"
      ],
      "text/markdown": [
       "1. 1\n",
       "2. 1\n",
       "3. 1\n",
       "4. 1\n",
       "5. 1\n",
       "6. 2\n",
       "7. 2\n",
       "8. 2\n",
       "9. 2\n",
       "10. 2\n",
       "11. 3\n",
       "12. 3\n",
       "13. 3\n",
       "14. 3\n",
       "15. 3\n",
       "\n",
       "\n"
      ],
      "text/plain": [
       " [1] 1 1 1 1 1 2 2 2 2 2 3 3 3 3 3"
      ]
     },
     "metadata": {},
     "output_type": "display_data"
    }
   ],
   "source": [
    "rep(1:3, each=5)"
   ]
  },
  {
   "cell_type": "code",
   "execution_count": 14,
   "metadata": {},
   "outputs": [
    {
     "data": {
      "text/html": [
       "<ol class=list-inline>\n",
       "\t<li>1</li>\n",
       "\t<li>2</li>\n",
       "\t<li>3</li>\n",
       "\t<li>1</li>\n",
       "\t<li>2</li>\n",
       "\t<li>3</li>\n",
       "\t<li>1</li>\n",
       "\t<li>2</li>\n",
       "\t<li>3</li>\n",
       "\t<li>1</li>\n",
       "</ol>\n"
      ],
      "text/latex": [
       "\\begin{enumerate*}\n",
       "\\item 1\n",
       "\\item 2\n",
       "\\item 3\n",
       "\\item 1\n",
       "\\item 2\n",
       "\\item 3\n",
       "\\item 1\n",
       "\\item 2\n",
       "\\item 3\n",
       "\\item 1\n",
       "\\end{enumerate*}\n"
      ],
      "text/markdown": [
       "1. 1\n",
       "2. 2\n",
       "3. 3\n",
       "4. 1\n",
       "5. 2\n",
       "6. 3\n",
       "7. 1\n",
       "8. 2\n",
       "9. 3\n",
       "10. 1\n",
       "\n",
       "\n"
      ],
      "text/plain": [
       " [1] 1 2 3 1 2 3 1 2 3 1"
      ]
     },
     "metadata": {},
     "output_type": "display_data"
    }
   ],
   "source": [
    "rep(1:3, length.out=10)"
   ]
  },
  {
   "cell_type": "markdown",
   "metadata": {},
   "source": [
    "## Using `sample`"
   ]
  },
  {
   "cell_type": "markdown",
   "metadata": {},
   "source": [
    "Simulate `n` tooses of a coin"
   ]
  },
  {
   "cell_type": "code",
   "execution_count": 15,
   "metadata": {},
   "outputs": [],
   "source": [
    "n <- 10"
   ]
  },
  {
   "cell_type": "code",
   "execution_count": 16,
   "metadata": {},
   "outputs": [
    {
     "data": {
      "text/html": [
       "<ol class=list-inline>\n",
       "\t<li>'H'</li>\n",
       "\t<li>'H'</li>\n",
       "\t<li>'H'</li>\n",
       "\t<li>'H'</li>\n",
       "\t<li>'T'</li>\n",
       "\t<li>'T'</li>\n",
       "\t<li>'T'</li>\n",
       "\t<li>'T'</li>\n",
       "\t<li>'H'</li>\n",
       "\t<li>'T'</li>\n",
       "</ol>\n"
      ],
      "text/latex": [
       "\\begin{enumerate*}\n",
       "\\item 'H'\n",
       "\\item 'H'\n",
       "\\item 'H'\n",
       "\\item 'H'\n",
       "\\item 'T'\n",
       "\\item 'T'\n",
       "\\item 'T'\n",
       "\\item 'T'\n",
       "\\item 'H'\n",
       "\\item 'T'\n",
       "\\end{enumerate*}\n"
      ],
      "text/markdown": [
       "1. 'H'\n",
       "2. 'H'\n",
       "3. 'H'\n",
       "4. 'H'\n",
       "5. 'T'\n",
       "6. 'T'\n",
       "7. 'T'\n",
       "8. 'T'\n",
       "9. 'H'\n",
       "10. 'T'\n",
       "\n",
       "\n"
      ],
      "text/plain": [
       " [1] \"H\" \"H\" \"H\" \"H\" \"T\" \"T\" \"T\" \"T\" \"H\" \"T\""
      ]
     },
     "metadata": {},
     "output_type": "display_data"
    }
   ],
   "source": [
    "t1 <- sample(c('H', 'T'), n, replace = TRUE)\n",
    "t1"
   ]
  },
  {
   "cell_type": "code",
   "execution_count": 17,
   "metadata": {},
   "outputs": [
    {
     "data": {
      "text/plain": [
       "t1\n",
       "H T \n",
       "5 5 "
      ]
     },
     "metadata": {},
     "output_type": "display_data"
    }
   ],
   "source": [
    "table(t1)"
   ]
  },
  {
   "cell_type": "markdown",
   "metadata": {},
   "source": [
    "Simulate `n` tosses of a biased coin"
   ]
  },
  {
   "cell_type": "code",
   "execution_count": 18,
   "metadata": {},
   "outputs": [
    {
     "data": {
      "text/html": [
       "<ol class=list-inline>\n",
       "\t<li>'T'</li>\n",
       "\t<li>'H'</li>\n",
       "\t<li>'H'</li>\n",
       "\t<li>'T'</li>\n",
       "\t<li>'T'</li>\n",
       "\t<li>'H'</li>\n",
       "\t<li>'H'</li>\n",
       "\t<li>'T'</li>\n",
       "\t<li>'T'</li>\n",
       "\t<li>'T'</li>\n",
       "</ol>\n"
      ],
      "text/latex": [
       "\\begin{enumerate*}\n",
       "\\item 'T'\n",
       "\\item 'H'\n",
       "\\item 'H'\n",
       "\\item 'T'\n",
       "\\item 'T'\n",
       "\\item 'H'\n",
       "\\item 'H'\n",
       "\\item 'T'\n",
       "\\item 'T'\n",
       "\\item 'T'\n",
       "\\end{enumerate*}\n"
      ],
      "text/markdown": [
       "1. 'T'\n",
       "2. 'H'\n",
       "3. 'H'\n",
       "4. 'T'\n",
       "5. 'T'\n",
       "6. 'H'\n",
       "7. 'H'\n",
       "8. 'T'\n",
       "9. 'T'\n",
       "10. 'T'\n",
       "\n",
       "\n"
      ],
      "text/plain": [
       " [1] \"T\" \"H\" \"H\" \"T\" \"T\" \"H\" \"H\" \"T\" \"T\" \"T\""
      ]
     },
     "metadata": {},
     "output_type": "display_data"
    }
   ],
   "source": [
    "t2 <- sample(c('H', 'T'), n, replace = TRUE, prob = c(0.3, 0.7))\n",
    "t2"
   ]
  },
  {
   "cell_type": "code",
   "execution_count": 19,
   "metadata": {},
   "outputs": [
    {
     "data": {
      "text/plain": [
       "t2\n",
       "H T \n",
       "4 6 "
      ]
     },
     "metadata": {},
     "output_type": "display_data"
    }
   ],
   "source": [
    "table(t2)"
   ]
  },
  {
   "cell_type": "markdown",
   "metadata": {},
   "source": [
    "Simulate `n` rolls of a 6-sided die"
   ]
  },
  {
   "cell_type": "code",
   "execution_count": 20,
   "metadata": {},
   "outputs": [],
   "source": [
    "n <- 100"
   ]
  },
  {
   "cell_type": "code",
   "execution_count": 21,
   "metadata": {},
   "outputs": [
    {
     "data": {
      "text/html": [
       "<ol class=list-inline>\n",
       "\t<li>3</li>\n",
       "\t<li>1</li>\n",
       "\t<li>1</li>\n",
       "\t<li>3</li>\n",
       "\t<li>4</li>\n",
       "\t<li>5</li>\n",
       "\t<li>5</li>\n",
       "\t<li>5</li>\n",
       "\t<li>4</li>\n",
       "\t<li>2</li>\n",
       "\t<li>4</li>\n",
       "\t<li>3</li>\n",
       "\t<li>2</li>\n",
       "\t<li>1</li>\n",
       "\t<li>2</li>\n",
       "\t<li>6</li>\n",
       "\t<li>3</li>\n",
       "\t<li>6</li>\n",
       "\t<li>2</li>\n",
       "\t<li>4</li>\n",
       "\t<li>4</li>\n",
       "\t<li>6</li>\n",
       "\t<li>2</li>\n",
       "\t<li>5</li>\n",
       "\t<li>4</li>\n",
       "\t<li>5</li>\n",
       "\t<li>4</li>\n",
       "\t<li>2</li>\n",
       "\t<li>2</li>\n",
       "\t<li>3</li>\n",
       "\t<li>1</li>\n",
       "\t<li>5</li>\n",
       "\t<li>2</li>\n",
       "\t<li>2</li>\n",
       "\t<li>6</li>\n",
       "\t<li>6</li>\n",
       "\t<li>2</li>\n",
       "\t<li>4</li>\n",
       "\t<li>3</li>\n",
       "\t<li>6</li>\n",
       "\t<li>5</li>\n",
       "\t<li>2</li>\n",
       "\t<li>6</li>\n",
       "\t<li>2</li>\n",
       "\t<li>2</li>\n",
       "\t<li>5</li>\n",
       "\t<li>1</li>\n",
       "\t<li>1</li>\n",
       "\t<li>4</li>\n",
       "\t<li>5</li>\n",
       "\t<li>2</li>\n",
       "\t<li>1</li>\n",
       "\t<li>5</li>\n",
       "\t<li>4</li>\n",
       "\t<li>4</li>\n",
       "\t<li>1</li>\n",
       "\t<li>3</li>\n",
       "\t<li>3</li>\n",
       "\t<li>5</li>\n",
       "\t<li>5</li>\n",
       "\t<li>4</li>\n",
       "\t<li>6</li>\n",
       "\t<li>5</li>\n",
       "\t<li>4</li>\n",
       "\t<li>6</li>\n",
       "\t<li>2</li>\n",
       "\t<li>2</li>\n",
       "\t<li>1</li>\n",
       "\t<li>2</li>\n",
       "\t<li>5</li>\n",
       "\t<li>6</li>\n",
       "\t<li>5</li>\n",
       "\t<li>4</li>\n",
       "\t<li>1</li>\n",
       "\t<li>4</li>\n",
       "\t<li>2</li>\n",
       "\t<li>2</li>\n",
       "\t<li>3</li>\n",
       "\t<li>5</li>\n",
       "\t<li>5</li>\n",
       "\t<li>6</li>\n",
       "\t<li>3</li>\n",
       "\t<li>6</li>\n",
       "\t<li>4</li>\n",
       "\t<li>5</li>\n",
       "\t<li>1</li>\n",
       "\t<li>4</li>\n",
       "\t<li>1</li>\n",
       "\t<li>1</li>\n",
       "\t<li>5</li>\n",
       "\t<li>6</li>\n",
       "\t<li>3</li>\n",
       "\t<li>1</li>\n",
       "\t<li>2</li>\n",
       "\t<li>5</li>\n",
       "\t<li>6</li>\n",
       "\t<li>1</li>\n",
       "\t<li>5</li>\n",
       "\t<li>6</li>\n",
       "\t<li>5</li>\n",
       "</ol>\n"
      ],
      "text/latex": [
       "\\begin{enumerate*}\n",
       "\\item 3\n",
       "\\item 1\n",
       "\\item 1\n",
       "\\item 3\n",
       "\\item 4\n",
       "\\item 5\n",
       "\\item 5\n",
       "\\item 5\n",
       "\\item 4\n",
       "\\item 2\n",
       "\\item 4\n",
       "\\item 3\n",
       "\\item 2\n",
       "\\item 1\n",
       "\\item 2\n",
       "\\item 6\n",
       "\\item 3\n",
       "\\item 6\n",
       "\\item 2\n",
       "\\item 4\n",
       "\\item 4\n",
       "\\item 6\n",
       "\\item 2\n",
       "\\item 5\n",
       "\\item 4\n",
       "\\item 5\n",
       "\\item 4\n",
       "\\item 2\n",
       "\\item 2\n",
       "\\item 3\n",
       "\\item 1\n",
       "\\item 5\n",
       "\\item 2\n",
       "\\item 2\n",
       "\\item 6\n",
       "\\item 6\n",
       "\\item 2\n",
       "\\item 4\n",
       "\\item 3\n",
       "\\item 6\n",
       "\\item 5\n",
       "\\item 2\n",
       "\\item 6\n",
       "\\item 2\n",
       "\\item 2\n",
       "\\item 5\n",
       "\\item 1\n",
       "\\item 1\n",
       "\\item 4\n",
       "\\item 5\n",
       "\\item 2\n",
       "\\item 1\n",
       "\\item 5\n",
       "\\item 4\n",
       "\\item 4\n",
       "\\item 1\n",
       "\\item 3\n",
       "\\item 3\n",
       "\\item 5\n",
       "\\item 5\n",
       "\\item 4\n",
       "\\item 6\n",
       "\\item 5\n",
       "\\item 4\n",
       "\\item 6\n",
       "\\item 2\n",
       "\\item 2\n",
       "\\item 1\n",
       "\\item 2\n",
       "\\item 5\n",
       "\\item 6\n",
       "\\item 5\n",
       "\\item 4\n",
       "\\item 1\n",
       "\\item 4\n",
       "\\item 2\n",
       "\\item 2\n",
       "\\item 3\n",
       "\\item 5\n",
       "\\item 5\n",
       "\\item 6\n",
       "\\item 3\n",
       "\\item 6\n",
       "\\item 4\n",
       "\\item 5\n",
       "\\item 1\n",
       "\\item 4\n",
       "\\item 1\n",
       "\\item 1\n",
       "\\item 5\n",
       "\\item 6\n",
       "\\item 3\n",
       "\\item 1\n",
       "\\item 2\n",
       "\\item 5\n",
       "\\item 6\n",
       "\\item 1\n",
       "\\item 5\n",
       "\\item 6\n",
       "\\item 5\n",
       "\\end{enumerate*}\n"
      ],
      "text/markdown": [
       "1. 3\n",
       "2. 1\n",
       "3. 1\n",
       "4. 3\n",
       "5. 4\n",
       "6. 5\n",
       "7. 5\n",
       "8. 5\n",
       "9. 4\n",
       "10. 2\n",
       "11. 4\n",
       "12. 3\n",
       "13. 2\n",
       "14. 1\n",
       "15. 2\n",
       "16. 6\n",
       "17. 3\n",
       "18. 6\n",
       "19. 2\n",
       "20. 4\n",
       "21. 4\n",
       "22. 6\n",
       "23. 2\n",
       "24. 5\n",
       "25. 4\n",
       "26. 5\n",
       "27. 4\n",
       "28. 2\n",
       "29. 2\n",
       "30. 3\n",
       "31. 1\n",
       "32. 5\n",
       "33. 2\n",
       "34. 2\n",
       "35. 6\n",
       "36. 6\n",
       "37. 2\n",
       "38. 4\n",
       "39. 3\n",
       "40. 6\n",
       "41. 5\n",
       "42. 2\n",
       "43. 6\n",
       "44. 2\n",
       "45. 2\n",
       "46. 5\n",
       "47. 1\n",
       "48. 1\n",
       "49. 4\n",
       "50. 5\n",
       "51. 2\n",
       "52. 1\n",
       "53. 5\n",
       "54. 4\n",
       "55. 4\n",
       "56. 1\n",
       "57. 3\n",
       "58. 3\n",
       "59. 5\n",
       "60. 5\n",
       "61. 4\n",
       "62. 6\n",
       "63. 5\n",
       "64. 4\n",
       "65. 6\n",
       "66. 2\n",
       "67. 2\n",
       "68. 1\n",
       "69. 2\n",
       "70. 5\n",
       "71. 6\n",
       "72. 5\n",
       "73. 4\n",
       "74. 1\n",
       "75. 4\n",
       "76. 2\n",
       "77. 2\n",
       "78. 3\n",
       "79. 5\n",
       "80. 5\n",
       "81. 6\n",
       "82. 3\n",
       "83. 6\n",
       "84. 4\n",
       "85. 5\n",
       "86. 1\n",
       "87. 4\n",
       "88. 1\n",
       "89. 1\n",
       "90. 5\n",
       "91. 6\n",
       "92. 3\n",
       "93. 1\n",
       "94. 2\n",
       "95. 5\n",
       "96. 6\n",
       "97. 1\n",
       "98. 5\n",
       "99. 6\n",
       "100. 5\n",
       "\n",
       "\n"
      ],
      "text/plain": [
       "  [1] 3 1 1 3 4 5 5 5 4 2 4 3 2 1 2 6 3 6 2 4 4 6 2 5 4 5 4 2 2 3 1 5 2 2 6 6 2\n",
       " [38] 4 3 6 5 2 6 2 2 5 1 1 4 5 2 1 5 4 4 1 3 3 5 5 4 6 5 4 6 2 2 1 2 5 6 5 4 1\n",
       " [75] 4 2 2 3 5 5 6 3 6 4 5 1 4 1 1 5 6 3 1 2 5 6 1 5 6 5"
      ]
     },
     "metadata": {},
     "output_type": "display_data"
    }
   ],
   "source": [
    "d1 <- sample(1:6, n, replace=TRUE)\n",
    "d1"
   ]
  },
  {
   "cell_type": "code",
   "execution_count": 22,
   "metadata": {},
   "outputs": [
    {
     "data": {
      "text/plain": [
       "d1\n",
       " 1  2  3  4  5  6 \n",
       "15 20 11 17 22 15 "
      ]
     },
     "metadata": {},
     "output_type": "display_data"
    }
   ],
   "source": [
    "table(d1)"
   ]
  },
  {
   "cell_type": "markdown",
   "metadata": {},
   "source": [
    "Sampling without replacement. For example, if we wanted to assiggn 16 samples to treatment A or B at random such that exactly half had each treatment."
   ]
  },
  {
   "cell_type": "code",
   "execution_count": 23,
   "metadata": {},
   "outputs": [
    {
     "data": {
      "text/html": [
       "<ol class=list-inline>\n",
       "\t<li>'B'</li>\n",
       "\t<li>'A'</li>\n",
       "\t<li>'B'</li>\n",
       "\t<li>'B'</li>\n",
       "\t<li>'B'</li>\n",
       "\t<li>'B'</li>\n",
       "\t<li>'A'</li>\n",
       "\t<li>'A'</li>\n",
       "\t<li>'A'</li>\n",
       "\t<li>'B'</li>\n",
       "\t<li>'A'</li>\n",
       "\t<li>'B'</li>\n",
       "\t<li>'B'</li>\n",
       "\t<li>'A'</li>\n",
       "\t<li>'A'</li>\n",
       "\t<li>'A'</li>\n",
       "</ol>\n"
      ],
      "text/latex": [
       "\\begin{enumerate*}\n",
       "\\item 'B'\n",
       "\\item 'A'\n",
       "\\item 'B'\n",
       "\\item 'B'\n",
       "\\item 'B'\n",
       "\\item 'B'\n",
       "\\item 'A'\n",
       "\\item 'A'\n",
       "\\item 'A'\n",
       "\\item 'B'\n",
       "\\item 'A'\n",
       "\\item 'B'\n",
       "\\item 'B'\n",
       "\\item 'A'\n",
       "\\item 'A'\n",
       "\\item 'A'\n",
       "\\end{enumerate*}\n"
      ],
      "text/markdown": [
       "1. 'B'\n",
       "2. 'A'\n",
       "3. 'B'\n",
       "4. 'B'\n",
       "5. 'B'\n",
       "6. 'B'\n",
       "7. 'A'\n",
       "8. 'A'\n",
       "9. 'A'\n",
       "10. 'B'\n",
       "11. 'A'\n",
       "12. 'B'\n",
       "13. 'B'\n",
       "14. 'A'\n",
       "15. 'A'\n",
       "16. 'A'\n",
       "\n",
       "\n"
      ],
      "text/plain": [
       " [1] \"B\" \"A\" \"B\" \"B\" \"B\" \"B\" \"A\" \"A\" \"A\" \"B\" \"A\" \"B\" \"B\" \"A\" \"A\" \"A\""
      ]
     },
     "metadata": {},
     "output_type": "display_data"
    }
   ],
   "source": [
    "sample(rep(c('A', 'B'), each=8))"
   ]
  },
  {
   "cell_type": "markdown",
   "metadata": {},
   "source": [
    "## Random number generators"
   ]
  },
  {
   "cell_type": "markdown",
   "metadata": {},
   "source": [
    "### Discrete distributions"
   ]
  },
  {
   "cell_type": "markdown",
   "metadata": {},
   "source": [
    "Sampling from a Bernoullli distribution returns TRUE for success and FALSE for failure."
   ]
  },
  {
   "cell_type": "code",
   "execution_count": 24,
   "metadata": {},
   "outputs": [
    {
     "data": {
      "text/html": [
       "<ol class=list-inline>\n",
       "\t<li>TRUE</li>\n",
       "\t<li>TRUE</li>\n",
       "\t<li>FALSE</li>\n",
       "\t<li>TRUE</li>\n",
       "\t<li>FALSE</li>\n",
       "\t<li>FALSE</li>\n",
       "\t<li>FALSE</li>\n",
       "\t<li>FALSE</li>\n",
       "\t<li>FALSE</li>\n",
       "\t<li>TRUE</li>\n",
       "</ol>\n"
      ],
      "text/latex": [
       "\\begin{enumerate*}\n",
       "\\item TRUE\n",
       "\\item TRUE\n",
       "\\item FALSE\n",
       "\\item TRUE\n",
       "\\item FALSE\n",
       "\\item FALSE\n",
       "\\item FALSE\n",
       "\\item FALSE\n",
       "\\item FALSE\n",
       "\\item TRUE\n",
       "\\end{enumerate*}\n"
      ],
      "text/markdown": [
       "1. TRUE\n",
       "2. TRUE\n",
       "3. FALSE\n",
       "4. TRUE\n",
       "5. FALSE\n",
       "6. FALSE\n",
       "7. FALSE\n",
       "8. FALSE\n",
       "9. FALSE\n",
       "10. TRUE\n",
       "\n",
       "\n"
      ],
      "text/plain": [
       " [1]  TRUE  TRUE FALSE  TRUE FALSE FALSE FALSE FALSE FALSE  TRUE"
      ]
     },
     "metadata": {},
     "output_type": "display_data"
    }
   ],
   "source": [
    "rbernoulli(n=10, p=0.5)"
   ]
  },
  {
   "cell_type": "code",
   "execution_count": 25,
   "metadata": {},
   "outputs": [
    {
     "data": {
      "text/html": [
       "<ol class=list-inline>\n",
       "\t<li>0</li>\n",
       "\t<li>0</li>\n",
       "\t<li>0</li>\n",
       "\t<li>0</li>\n",
       "\t<li>0</li>\n",
       "\t<li>1</li>\n",
       "\t<li>1</li>\n",
       "\t<li>1</li>\n",
       "\t<li>1</li>\n",
       "\t<li>1</li>\n",
       "</ol>\n"
      ],
      "text/latex": [
       "\\begin{enumerate*}\n",
       "\\item 0\n",
       "\\item 0\n",
       "\\item 0\n",
       "\\item 0\n",
       "\\item 0\n",
       "\\item 1\n",
       "\\item 1\n",
       "\\item 1\n",
       "\\item 1\n",
       "\\item 1\n",
       "\\end{enumerate*}\n"
      ],
      "text/markdown": [
       "1. 0\n",
       "2. 0\n",
       "3. 0\n",
       "4. 0\n",
       "5. 0\n",
       "6. 1\n",
       "7. 1\n",
       "8. 1\n",
       "9. 1\n",
       "10. 1\n",
       "\n",
       "\n"
      ],
      "text/plain": [
       " [1] 0 0 0 0 0 1 1 1 1 1"
      ]
     },
     "metadata": {},
     "output_type": "display_data"
    }
   ],
   "source": [
    "as.integer(rbernoulli(n=10, p=0.5))"
   ]
  },
  {
   "cell_type": "markdown",
   "metadata": {},
   "source": [
    "Sampling from a Binomial distribution returns the number of **successes** in `size` trials for `n` experiments."
   ]
  },
  {
   "cell_type": "code",
   "execution_count": 26,
   "metadata": {},
   "outputs": [
    {
     "data": {
      "text/html": [
       "<ol class=list-inline>\n",
       "\t<li>2</li>\n",
       "\t<li>0</li>\n",
       "\t<li>1</li>\n",
       "\t<li>3</li>\n",
       "\t<li>4</li>\n",
       "\t<li>3</li>\n",
       "\t<li>3</li>\n",
       "\t<li>2</li>\n",
       "\t<li>3</li>\n",
       "\t<li>1</li>\n",
       "</ol>\n"
      ],
      "text/latex": [
       "\\begin{enumerate*}\n",
       "\\item 2\n",
       "\\item 0\n",
       "\\item 1\n",
       "\\item 3\n",
       "\\item 4\n",
       "\\item 3\n",
       "\\item 3\n",
       "\\item 2\n",
       "\\item 3\n",
       "\\item 1\n",
       "\\end{enumerate*}\n"
      ],
      "text/markdown": [
       "1. 2\n",
       "2. 0\n",
       "3. 1\n",
       "4. 3\n",
       "5. 4\n",
       "6. 3\n",
       "7. 3\n",
       "8. 2\n",
       "9. 3\n",
       "10. 1\n",
       "\n",
       "\n"
      ],
      "text/plain": [
       " [1] 2 0 1 3 4 3 3 2 3 1"
      ]
     },
     "metadata": {},
     "output_type": "display_data"
    }
   ],
   "source": [
    "rbinom(n=10, p=0.5, size=5)"
   ]
  },
  {
   "cell_type": "markdown",
   "metadata": {},
   "source": [
    "Sampling from a negative binomial distribution returns the number of **failures** until `size` succcesses are observed for `n` experiemnts."
   ]
  },
  {
   "cell_type": "code",
   "execution_count": 26,
   "metadata": {},
   "outputs": [
    {
     "data": {
      "text/html": [
       "<ol class=list-inline>\n",
       "\t<li>5</li>\n",
       "\t<li>10</li>\n",
       "\t<li>5</li>\n",
       "\t<li>1</li>\n",
       "\t<li>0</li>\n",
       "\t<li>9</li>\n",
       "\t<li>4</li>\n",
       "\t<li>2</li>\n",
       "\t<li>4</li>\n",
       "\t<li>6</li>\n",
       "</ol>\n"
      ],
      "text/latex": [
       "\\begin{enumerate*}\n",
       "\\item 5\n",
       "\\item 10\n",
       "\\item 5\n",
       "\\item 1\n",
       "\\item 0\n",
       "\\item 9\n",
       "\\item 4\n",
       "\\item 2\n",
       "\\item 4\n",
       "\\item 6\n",
       "\\end{enumerate*}\n"
      ],
      "text/markdown": [
       "1. 5\n",
       "2. 10\n",
       "3. 5\n",
       "4. 1\n",
       "5. 0\n",
       "6. 9\n",
       "7. 4\n",
       "8. 2\n",
       "9. 4\n",
       "10. 6\n",
       "\n",
       "\n"
      ],
      "text/plain": [
       " [1]  5 10  5  1  0  9  4  2  4  6"
      ]
     },
     "metadata": {},
     "output_type": "display_data"
    }
   ],
   "source": [
    "rnbinom(n=10, size=5, prob=0.5)"
   ]
  },
  {
   "cell_type": "markdown",
   "metadata": {},
   "source": [
    "Sampling from a Poisson distribution returns the number of **successes** in `n` experiments if the average success rate per experiment is `lambda`."
   ]
  },
  {
   "cell_type": "code",
   "execution_count": 27,
   "metadata": {},
   "outputs": [
    {
     "data": {
      "text/html": [
       "<ol class=list-inline>\n",
       "\t<li>3</li>\n",
       "\t<li>2</li>\n",
       "\t<li>3</li>\n",
       "\t<li>5</li>\n",
       "\t<li>3</li>\n",
       "\t<li>1</li>\n",
       "\t<li>3</li>\n",
       "\t<li>6</li>\n",
       "\t<li>2</li>\n",
       "\t<li>5</li>\n",
       "</ol>\n"
      ],
      "text/latex": [
       "\\begin{enumerate*}\n",
       "\\item 3\n",
       "\\item 2\n",
       "\\item 3\n",
       "\\item 5\n",
       "\\item 3\n",
       "\\item 1\n",
       "\\item 3\n",
       "\\item 6\n",
       "\\item 2\n",
       "\\item 5\n",
       "\\end{enumerate*}\n"
      ],
      "text/markdown": [
       "1. 3\n",
       "2. 2\n",
       "3. 3\n",
       "4. 5\n",
       "5. 3\n",
       "6. 1\n",
       "7. 3\n",
       "8. 6\n",
       "9. 2\n",
       "10. 5\n",
       "\n",
       "\n"
      ],
      "text/plain": [
       " [1] 3 2 3 5 3 1 3 6 2 5"
      ]
     },
     "metadata": {},
     "output_type": "display_data"
    }
   ],
   "source": [
    "rpois(n=10, lambda = 3)"
   ]
  },
  {
   "cell_type": "markdown",
   "metadata": {},
   "source": [
    "**Note**:  We can give different parameters for each experiment in these distributions."
   ]
  },
  {
   "cell_type": "code",
   "execution_count": 28,
   "metadata": {},
   "outputs": [
    {
     "data": {
      "text/html": [
       "<ol class=list-inline>\n",
       "\t<li>0</li>\n",
       "\t<li>1</li>\n",
       "\t<li>0</li>\n",
       "\t<li>3</li>\n",
       "\t<li>4</li>\n",
       "\t<li>4</li>\n",
       "\t<li>6</li>\n",
       "\t<li>3</li>\n",
       "\t<li>18</li>\n",
       "\t<li>12</li>\n",
       "</ol>\n"
      ],
      "text/latex": [
       "\\begin{enumerate*}\n",
       "\\item 0\n",
       "\\item 1\n",
       "\\item 0\n",
       "\\item 3\n",
       "\\item 4\n",
       "\\item 4\n",
       "\\item 6\n",
       "\\item 3\n",
       "\\item 18\n",
       "\\item 12\n",
       "\\end{enumerate*}\n"
      ],
      "text/markdown": [
       "1. 0\n",
       "2. 1\n",
       "3. 0\n",
       "4. 3\n",
       "5. 4\n",
       "6. 4\n",
       "7. 6\n",
       "8. 3\n",
       "9. 18\n",
       "10. 12\n",
       "\n",
       "\n"
      ],
      "text/plain": [
       " [1]  0  1  0  3  4  4  6  3 18 12"
      ]
     },
     "metadata": {},
     "output_type": "display_data"
    }
   ],
   "source": [
    "rpois(n=10, lambda=1:10)"
   ]
  },
  {
   "cell_type": "markdown",
   "metadata": {},
   "source": [
    "### Continuous distributions"
   ]
  },
  {
   "cell_type": "markdown",
   "metadata": {},
   "source": [
    "Sampling from a standard uniform distribution."
   ]
  },
  {
   "cell_type": "code",
   "execution_count": 31,
   "metadata": {},
   "outputs": [
    {
     "data": {
      "text/html": [
       "<ol class=list-inline>\n",
       "\t<li>0.149578995071352</li>\n",
       "\t<li>0.499272880377248</li>\n",
       "\t<li>0.940564878052101</li>\n",
       "\t<li>0.334231326589361</li>\n",
       "\t<li>0.188434329582378</li>\n",
       "</ol>\n"
      ],
      "text/latex": [
       "\\begin{enumerate*}\n",
       "\\item 0.149578995071352\n",
       "\\item 0.499272880377248\n",
       "\\item 0.940564878052101\n",
       "\\item 0.334231326589361\n",
       "\\item 0.188434329582378\n",
       "\\end{enumerate*}\n"
      ],
      "text/markdown": [
       "1. 0.149578995071352\n",
       "2. 0.499272880377248\n",
       "3. 0.940564878052101\n",
       "4. 0.334231326589361\n",
       "5. 0.188434329582378\n",
       "\n",
       "\n"
      ],
      "text/plain": [
       "[1] 0.1495790 0.4992729 0.9405649 0.3342313 0.1884343"
      ]
     },
     "metadata": {},
     "output_type": "display_data"
    }
   ],
   "source": [
    "runif(5)"
   ]
  },
  {
   "cell_type": "markdown",
   "metadata": {},
   "source": [
    "Sampling form a uniform distribution, with values between 90 and 100."
   ]
  },
  {
   "cell_type": "code",
   "execution_count": 32,
   "metadata": {},
   "outputs": [
    {
     "data": {
      "text/html": [
       "<ol class=list-inline>\n",
       "\t<li>92.6971617829986</li>\n",
       "\t<li>95.3074407810345</li>\n",
       "\t<li>90.2145022852346</li>\n",
       "\t<li>97.987603074871</li>\n",
       "\t<li>91.1033510020934</li>\n",
       "</ol>\n"
      ],
      "text/latex": [
       "\\begin{enumerate*}\n",
       "\\item 92.6971617829986\n",
       "\\item 95.3074407810345\n",
       "\\item 90.2145022852346\n",
       "\\item 97.987603074871\n",
       "\\item 91.1033510020934\n",
       "\\end{enumerate*}\n"
      ],
      "text/markdown": [
       "1. 92.6971617829986\n",
       "2. 95.3074407810345\n",
       "3. 90.2145022852346\n",
       "4. 97.987603074871\n",
       "5. 91.1033510020934\n",
       "\n",
       "\n"
      ],
      "text/plain": [
       "[1] 92.69716 95.30744 90.21450 97.98760 91.10335"
      ]
     },
     "metadata": {},
     "output_type": "display_data"
    }
   ],
   "source": [
    "runif(5, 90, 100)"
   ]
  },
  {
   "cell_type": "markdown",
   "metadata": {},
   "source": [
    "Sampling from a standard normal distribution."
   ]
  },
  {
   "cell_type": "code",
   "execution_count": 33,
   "metadata": {},
   "outputs": [
    {
     "data": {
      "text/html": [
       "<ol class=list-inline>\n",
       "\t<li>0.0999255557764372</li>\n",
       "\t<li>0.30272833656952</li>\n",
       "\t<li>-1.15864442153663</li>\n",
       "\t<li>1.60487335898257</li>\n",
       "\t<li>-1.10200153102672</li>\n",
       "</ol>\n"
      ],
      "text/latex": [
       "\\begin{enumerate*}\n",
       "\\item 0.0999255557764372\n",
       "\\item 0.30272833656952\n",
       "\\item -1.15864442153663\n",
       "\\item 1.60487335898257\n",
       "\\item -1.10200153102672\n",
       "\\end{enumerate*}\n"
      ],
      "text/markdown": [
       "1. 0.0999255557764372\n",
       "2. 0.30272833656952\n",
       "3. -1.15864442153663\n",
       "4. 1.60487335898257\n",
       "5. -1.10200153102672\n",
       "\n",
       "\n"
      ],
      "text/plain": [
       "[1]  0.09992556  0.30272834 -1.15864442  1.60487336 -1.10200153"
      ]
     },
     "metadata": {},
     "output_type": "display_data"
    }
   ],
   "source": [
    "rnorm(5)"
   ]
  },
  {
   "cell_type": "markdown",
   "metadata": {},
   "source": [
    "## Looping"
   ]
  },
  {
   "cell_type": "code",
   "execution_count": 34,
   "metadata": {},
   "outputs": [
    {
     "name": "stdout",
     "output_type": "stream",
     "text": [
      "[1] -0.1410044\n",
      "[1] -0.5669993\n",
      "[1] 0.4107608\n",
      "[1] -0.5903525\n",
      "[1] 0.4412251\n",
      "[1] 0.09644882\n",
      "[1] -0.1793807\n",
      "[1] -0.255553\n",
      "[1] -0.2180691\n",
      "[1] -0.2066974\n"
     ]
    }
   ],
   "source": [
    "for (i in 1:10) {\n",
    "    print(mean(rnorm(10)))\n",
    "}"
   ]
  },
  {
   "cell_type": "markdown",
   "metadata": {},
   "source": [
    "Saving variables generated in a loop"
   ]
  },
  {
   "cell_type": "code",
   "execution_count": 35,
   "metadata": {},
   "outputs": [
    {
     "data": {
      "text/html": [
       "<ol class=list-inline>\n",
       "\t<li>-0.0142017094366685</li>\n",
       "\t<li>-0.464128997249427</li>\n",
       "\t<li>-0.148753621969897</li>\n",
       "\t<li>-0.00735146390793081</li>\n",
       "\t<li>-0.730132438149668</li>\n",
       "\t<li>-0.382615528522759</li>\n",
       "\t<li>0.496025571553096</li>\n",
       "\t<li>0.0264011867540007</li>\n",
       "\t<li>-0.0207113585500391</li>\n",
       "\t<li>0.438379476367949</li>\n",
       "</ol>\n"
      ],
      "text/latex": [
       "\\begin{enumerate*}\n",
       "\\item -0.0142017094366685\n",
       "\\item -0.464128997249427\n",
       "\\item -0.148753621969897\n",
       "\\item -0.00735146390793081\n",
       "\\item -0.730132438149668\n",
       "\\item -0.382615528522759\n",
       "\\item 0.496025571553096\n",
       "\\item 0.0264011867540007\n",
       "\\item -0.0207113585500391\n",
       "\\item 0.438379476367949\n",
       "\\end{enumerate*}\n"
      ],
      "text/markdown": [
       "1. -0.0142017094366685\n",
       "2. -0.464128997249427\n",
       "3. -0.148753621969897\n",
       "4. -0.00735146390793081\n",
       "5. -0.730132438149668\n",
       "6. -0.382615528522759\n",
       "7. 0.496025571553096\n",
       "8. 0.0264011867540007\n",
       "9. -0.0207113585500391\n",
       "10. 0.438379476367949\n",
       "\n",
       "\n"
      ],
      "text/plain": [
       " [1] -0.014201709 -0.464128997 -0.148753622 -0.007351464 -0.730132438\n",
       " [6] -0.382615529  0.496025572  0.026401187 -0.020711359  0.438379476"
      ]
     },
     "metadata": {},
     "output_type": "display_data"
    }
   ],
   "source": [
    "n <- 10\n",
    "vars <- numeric(n)\n",
    "for (i in 1:n) {\n",
    "    vars[i] <- mean(rnorm(10))\n",
    "}\n",
    "vars"
   ]
  },
  {
   "cell_type": "code",
   "execution_count": 38,
   "metadata": {},
   "outputs": [
    {
     "data": {
      "text/html": [
       "<ol>\n",
       "\t<li>1.28285601248922</li>\n",
       "\t<li><ol class=list-inline>\n",
       "\t<li>1.66378018954505</li>\n",
       "\t<li>0.401436254867987</li>\n",
       "</ol>\n",
       "</li>\n",
       "\t<li><ol class=list-inline>\n",
       "\t<li>-1.5093425111217</li>\n",
       "\t<li>-1.13836587194805</li>\n",
       "\t<li>0.337741204287881</li>\n",
       "</ol>\n",
       "</li>\n",
       "\t<li><ol class=list-inline>\n",
       "\t<li>-1.47262814385863</li>\n",
       "\t<li>-0.291877329483668</li>\n",
       "\t<li>-2.02964531250218</li>\n",
       "\t<li>-0.594044533118403</li>\n",
       "</ol>\n",
       "</li>\n",
       "\t<li><ol class=list-inline>\n",
       "\t<li>-1.05455069953558</li>\n",
       "\t<li>-1.07847961911409</li>\n",
       "\t<li>1.28112323849091</li>\n",
       "\t<li>0.0810282612193334</li>\n",
       "\t<li>-0.99307899011046</li>\n",
       "</ol>\n",
       "</li>\n",
       "\t<li><ol class=list-inline>\n",
       "\t<li>-0.75707153139077</li>\n",
       "\t<li>0.00924351551023881</li>\n",
       "\t<li>1.40932694027844</li>\n",
       "\t<li>0.293275146448466</li>\n",
       "\t<li>0.297134825971617</li>\n",
       "\t<li>-1.40253035970293</li>\n",
       "</ol>\n",
       "</li>\n",
       "\t<li><ol class=list-inline>\n",
       "\t<li>0.104285140622482</li>\n",
       "\t<li>0.371419703354857</li>\n",
       "\t<li>-1.67615738713669</li>\n",
       "\t<li>1.78467147315505</li>\n",
       "\t<li>-2.27698465336006</li>\n",
       "\t<li>-1.58982110493222</li>\n",
       "\t<li>-0.246374254853273</li>\n",
       "</ol>\n",
       "</li>\n",
       "\t<li><ol class=list-inline>\n",
       "\t<li>-0.35374988018924</li>\n",
       "\t<li>0.268372607619405</li>\n",
       "\t<li>0.454175327851366</li>\n",
       "\t<li>-2.68824727377896</li>\n",
       "\t<li>0.866650172377294</li>\n",
       "\t<li>0.168739701377876</li>\n",
       "\t<li>-1.09082406185189</li>\n",
       "\t<li>-0.38034811429265</li>\n",
       "</ol>\n",
       "</li>\n",
       "\t<li><ol class=list-inline>\n",
       "\t<li>-0.948091836164654</li>\n",
       "\t<li>0.721252264089489</li>\n",
       "\t<li>-0.159142456737528</li>\n",
       "\t<li>-1.78755661450632</li>\n",
       "\t<li>1.49377847299869</li>\n",
       "\t<li>1.52389572182853</li>\n",
       "\t<li>0.458664055612706</li>\n",
       "\t<li>-0.812496512482602</li>\n",
       "\t<li>1.05538328565825</li>\n",
       "</ol>\n",
       "</li>\n",
       "\t<li><ol class=list-inline>\n",
       "\t<li>-0.907595054419802</li>\n",
       "\t<li>-0.417152112834271</li>\n",
       "\t<li>1.12843784555488</li>\n",
       "\t<li>0.933612853893915</li>\n",
       "\t<li>0.445603849144031</li>\n",
       "\t<li>-0.0591298458723813</li>\n",
       "\t<li>0.188708474704579</li>\n",
       "\t<li>0.691269579039664</li>\n",
       "\t<li>0.821856282128092</li>\n",
       "\t<li>-0.97625602121755</li>\n",
       "</ol>\n",
       "</li>\n",
       "</ol>\n"
      ],
      "text/latex": [
       "\\begin{enumerate}\n",
       "\\item 1.28285601248922\n",
       "\\item \\begin{enumerate*}\n",
       "\\item 1.66378018954505\n",
       "\\item 0.401436254867987\n",
       "\\end{enumerate*}\n",
       "\n",
       "\\item \\begin{enumerate*}\n",
       "\\item -1.5093425111217\n",
       "\\item -1.13836587194805\n",
       "\\item 0.337741204287881\n",
       "\\end{enumerate*}\n",
       "\n",
       "\\item \\begin{enumerate*}\n",
       "\\item -1.47262814385863\n",
       "\\item -0.291877329483668\n",
       "\\item -2.02964531250218\n",
       "\\item -0.594044533118403\n",
       "\\end{enumerate*}\n",
       "\n",
       "\\item \\begin{enumerate*}\n",
       "\\item -1.05455069953558\n",
       "\\item -1.07847961911409\n",
       "\\item 1.28112323849091\n",
       "\\item 0.0810282612193334\n",
       "\\item -0.99307899011046\n",
       "\\end{enumerate*}\n",
       "\n",
       "\\item \\begin{enumerate*}\n",
       "\\item -0.75707153139077\n",
       "\\item 0.00924351551023881\n",
       "\\item 1.40932694027844\n",
       "\\item 0.293275146448466\n",
       "\\item 0.297134825971617\n",
       "\\item -1.40253035970293\n",
       "\\end{enumerate*}\n",
       "\n",
       "\\item \\begin{enumerate*}\n",
       "\\item 0.104285140622482\n",
       "\\item 0.371419703354857\n",
       "\\item -1.67615738713669\n",
       "\\item 1.78467147315505\n",
       "\\item -2.27698465336006\n",
       "\\item -1.58982110493222\n",
       "\\item -0.246374254853273\n",
       "\\end{enumerate*}\n",
       "\n",
       "\\item \\begin{enumerate*}\n",
       "\\item -0.35374988018924\n",
       "\\item 0.268372607619405\n",
       "\\item 0.454175327851366\n",
       "\\item -2.68824727377896\n",
       "\\item 0.866650172377294\n",
       "\\item 0.168739701377876\n",
       "\\item -1.09082406185189\n",
       "\\item -0.38034811429265\n",
       "\\end{enumerate*}\n",
       "\n",
       "\\item \\begin{enumerate*}\n",
       "\\item -0.948091836164654\n",
       "\\item 0.721252264089489\n",
       "\\item -0.159142456737528\n",
       "\\item -1.78755661450632\n",
       "\\item 1.49377847299869\n",
       "\\item 1.52389572182853\n",
       "\\item 0.458664055612706\n",
       "\\item -0.812496512482602\n",
       "\\item 1.05538328565825\n",
       "\\end{enumerate*}\n",
       "\n",
       "\\item \\begin{enumerate*}\n",
       "\\item -0.907595054419802\n",
       "\\item -0.417152112834271\n",
       "\\item 1.12843784555488\n",
       "\\item 0.933612853893915\n",
       "\\item 0.445603849144031\n",
       "\\item -0.0591298458723813\n",
       "\\item 0.188708474704579\n",
       "\\item 0.691269579039664\n",
       "\\item 0.821856282128092\n",
       "\\item -0.97625602121755\n",
       "\\end{enumerate*}\n",
       "\n",
       "\\end{enumerate}\n"
      ],
      "text/markdown": [
       "1. 1.28285601248922\n",
       "2. 1. 1.66378018954505\n",
       "2. 0.401436254867987\n",
       "\n",
       "\n",
       "\n",
       "3. 1. -1.5093425111217\n",
       "2. -1.13836587194805\n",
       "3. 0.337741204287881\n",
       "\n",
       "\n",
       "\n",
       "4. 1. -1.47262814385863\n",
       "2. -0.291877329483668\n",
       "3. -2.02964531250218\n",
       "4. -0.594044533118403\n",
       "\n",
       "\n",
       "\n",
       "5. 1. -1.05455069953558\n",
       "2. -1.07847961911409\n",
       "3. 1.28112323849091\n",
       "4. 0.0810282612193334\n",
       "5. -0.99307899011046\n",
       "\n",
       "\n",
       "\n",
       "6. 1. -0.75707153139077\n",
       "2. 0.00924351551023881\n",
       "3. 1.40932694027844\n",
       "4. 0.293275146448466\n",
       "5. 0.297134825971617\n",
       "6. -1.40253035970293\n",
       "\n",
       "\n",
       "\n",
       "7. 1. 0.104285140622482\n",
       "2. 0.371419703354857\n",
       "3. -1.67615738713669\n",
       "4. 1.78467147315505\n",
       "5. -2.27698465336006\n",
       "6. -1.58982110493222\n",
       "7. -0.246374254853273\n",
       "\n",
       "\n",
       "\n",
       "8. 1. -0.35374988018924\n",
       "2. 0.268372607619405\n",
       "3. 0.454175327851366\n",
       "4. -2.68824727377896\n",
       "5. 0.866650172377294\n",
       "6. 0.168739701377876\n",
       "7. -1.09082406185189\n",
       "8. -0.38034811429265\n",
       "\n",
       "\n",
       "\n",
       "9. 1. -0.948091836164654\n",
       "2. 0.721252264089489\n",
       "3. -0.159142456737528\n",
       "4. -1.78755661450632\n",
       "5. 1.49377847299869\n",
       "6. 1.52389572182853\n",
       "7. 0.458664055612706\n",
       "8. -0.812496512482602\n",
       "9. 1.05538328565825\n",
       "\n",
       "\n",
       "\n",
       "10. 1. -0.907595054419802\n",
       "2. -0.417152112834271\n",
       "3. 1.12843784555488\n",
       "4. 0.933612853893915\n",
       "5. 0.445603849144031\n",
       "6. -0.0591298458723813\n",
       "7. 0.188708474704579\n",
       "8. 0.691269579039664\n",
       "9. 0.821856282128092\n",
       "10. -0.97625602121755\n",
       "\n",
       "\n",
       "\n",
       "\n",
       "\n"
      ],
      "text/plain": [
       "[[1]]\n",
       "[1] 1.282856\n",
       "\n",
       "[[2]]\n",
       "[1] 1.6637802 0.4014363\n",
       "\n",
       "[[3]]\n",
       "[1] -1.5093425 -1.1383659  0.3377412\n",
       "\n",
       "[[4]]\n",
       "[1] -1.4726281 -0.2918773 -2.0296453 -0.5940445\n",
       "\n",
       "[[5]]\n",
       "[1] -1.05455070 -1.07847962  1.28112324  0.08102826 -0.99307899\n",
       "\n",
       "[[6]]\n",
       "[1] -0.757071531  0.009243516  1.409326940  0.293275146  0.297134826\n",
       "[6] -1.402530360\n",
       "\n",
       "[[7]]\n",
       "[1]  0.1042851  0.3714197 -1.6761574  1.7846715 -2.2769847 -1.5898211 -0.2463743\n",
       "\n",
       "[[8]]\n",
       "[1] -0.3537499  0.2683726  0.4541753 -2.6882473  0.8666502  0.1687397 -1.0908241\n",
       "[8] -0.3803481\n",
       "\n",
       "[[9]]\n",
       "[1] -0.9480918  0.7212523 -0.1591425 -1.7875566  1.4937785  1.5238957  0.4586641\n",
       "[8] -0.8124965  1.0553833\n",
       "\n",
       "[[10]]\n",
       " [1] -0.90759505 -0.41715211  1.12843785  0.93361285  0.44560385 -0.05912985\n",
       " [7]  0.18870847  0.69126958  0.82185628 -0.97625602\n"
      ]
     },
     "metadata": {},
     "output_type": "display_data"
    }
   ],
   "source": [
    "lapply(1:10,FUN = rnorm)"
   ]
  },
  {
   "cell_type": "code",
   "execution_count": 39,
   "metadata": {},
   "outputs": [
    {
     "data": {
      "text/html": [
       "<ol>\n",
       "\t<li>-1.29510116631117</li>\n",
       "\t<li>0.367320839885344</li>\n",
       "\t<li>-0.144715103170605</li>\n",
       "\t<li>-0.489476211039968</li>\n",
       "\t<li>-0.0561630904792034</li>\n",
       "\t<li>0.128509302828184</li>\n",
       "\t<li>0.308968789659845</li>\n",
       "\t<li>-0.00215275841912665</li>\n",
       "\t<li>0.0580611448335979</li>\n",
       "\t<li>-0.450934595073332</li>\n",
       "</ol>\n"
      ],
      "text/latex": [
       "\\begin{enumerate}\n",
       "\\item -1.29510116631117\n",
       "\\item 0.367320839885344\n",
       "\\item -0.144715103170605\n",
       "\\item -0.489476211039968\n",
       "\\item -0.0561630904792034\n",
       "\\item 0.128509302828184\n",
       "\\item 0.308968789659845\n",
       "\\item -0.00215275841912665\n",
       "\\item 0.0580611448335979\n",
       "\\item -0.450934595073332\n",
       "\\end{enumerate}\n"
      ],
      "text/markdown": [
       "1. -1.29510116631117\n",
       "2. 0.367320839885344\n",
       "3. -0.144715103170605\n",
       "4. -0.489476211039968\n",
       "5. -0.0561630904792034\n",
       "6. 0.128509302828184\n",
       "7. 0.308968789659845\n",
       "8. -0.00215275841912665\n",
       "9. 0.0580611448335979\n",
       "10. -0.450934595073332\n",
       "\n",
       "\n"
      ],
      "text/plain": [
       "[[1]]\n",
       "[1] -1.295101\n",
       "\n",
       "[[2]]\n",
       "[1] 0.3673208\n",
       "\n",
       "[[3]]\n",
       "[1] -0.1447151\n",
       "\n",
       "[[4]]\n",
       "[1] -0.4894762\n",
       "\n",
       "[[5]]\n",
       "[1] -0.05616309\n",
       "\n",
       "[[6]]\n",
       "[1] 0.1285093\n",
       "\n",
       "[[7]]\n",
       "[1] 0.3089688\n",
       "\n",
       "[[8]]\n",
       "[1] -0.002152758\n",
       "\n",
       "[[9]]\n",
       "[1] 0.05806114\n",
       "\n",
       "[[10]]\n",
       "[1] -0.4509346\n"
      ]
     },
     "metadata": {},
     "output_type": "display_data"
    }
   ],
   "source": [
    "lapply(1:10, FUN = function(x) mean(rnorm(x)))"
   ]
  },
  {
   "cell_type": "markdown",
   "metadata": {},
   "source": [
    "## Using `replicate`\n",
    "\n",
    "`replicate` is like `rep` but works for a function (such as a random number generator)"
   ]
  },
  {
   "cell_type": "code",
   "execution_count": 32,
   "metadata": {},
   "outputs": [
    {
     "data": {
      "text/html": [
       "<table>\n",
       "<tbody>\n",
       "\t<tr><td>-0.9984839 </td><td> 0.15461594</td><td>-0.88368060</td></tr>\n",
       "\t<tr><td>-2.1072414 </td><td>-0.80160087</td><td> 0.07714041</td></tr>\n",
       "\t<tr><td> 0.8574190 </td><td>-0.04518119</td><td> 0.83720136</td></tr>\n",
       "\t<tr><td> 1.1260757 </td><td>-1.03824075</td><td> 0.09992556</td></tr>\n",
       "\t<tr><td>-0.1983684 </td><td> 1.55953311</td><td> 0.30272834</td></tr>\n",
       "</tbody>\n",
       "</table>\n"
      ],
      "text/latex": [
       "\\begin{tabular}{lll}\n",
       "\t -0.9984839  &  0.15461594 & -0.88368060\\\\\n",
       "\t -2.1072414  & -0.80160087 &  0.07714041\\\\\n",
       "\t  0.8574190  & -0.04518119 &  0.83720136\\\\\n",
       "\t  1.1260757  & -1.03824075 &  0.09992556\\\\\n",
       "\t -0.1983684  &  1.55953311 &  0.30272834\\\\\n",
       "\\end{tabular}\n"
      ],
      "text/markdown": [
       "\n",
       "| -0.9984839  |  0.15461594 | -0.88368060 | \n",
       "| -2.1072414  | -0.80160087 |  0.07714041 | \n",
       "|  0.8574190  | -0.04518119 |  0.83720136 | \n",
       "|  1.1260757  | -1.03824075 |  0.09992556 | \n",
       "| -0.1983684  |  1.55953311 |  0.30272834 | \n",
       "\n",
       "\n"
      ],
      "text/plain": [
       "     [,1]       [,2]        [,3]       \n",
       "[1,] -0.9984839  0.15461594 -0.88368060\n",
       "[2,] -2.1072414 -0.80160087  0.07714041\n",
       "[3,]  0.8574190 -0.04518119  0.83720136\n",
       "[4,]  1.1260757 -1.03824075  0.09992556\n",
       "[5,] -0.1983684  1.55953311  0.30272834"
      ]
     },
     "metadata": {},
     "output_type": "display_data"
    }
   ],
   "source": [
    "replicate(3, rnorm(5))"
   ]
  },
  {
   "cell_type": "markdown",
   "metadata": {},
   "source": [
    "`replicate` is quite useful for simulations. For example, suppose we want to know the distribution of the sample mean  if we sampled 100 numbers from the standard normal distribution 1,000 times."
   ]
  },
  {
   "cell_type": "code",
   "execution_count": 40,
   "metadata": {},
   "outputs": [],
   "source": [
    "n_expts <- 1000\n",
    "n <- 100"
   ]
  },
  {
   "cell_type": "markdown",
   "metadata": {},
   "source": [
    "### Using for loop"
   ]
  },
  {
   "cell_type": "code",
   "execution_count": 41,
   "metadata": {},
   "outputs": [
    {
     "data": {
      "image/png": "[encoded data removed]",
      "text/plain": [
       "Plot with title “Histogram of mus”"
      ]
     },
     "metadata": {},
     "output_type": "display_data"
    }
   ],
   "source": [
    "set.seed(123)\n",
    "mus <- numeric(n_expts)\n",
    "for (i in 1:n_expts) {\n",
    "    mus[i] <- mean(rnorm(n))\n",
    "}\n",
    "hist(mus)"
   ]
  },
  {
   "cell_type": "markdown",
   "metadata": {},
   "source": [
    "### Using replicate"
   ]
  },
  {
   "cell_type": "code",
   "execution_count": 42,
   "metadata": {},
   "outputs": [
    {
     "data": {
      "image/png": "[encoded data removed]",
      "text/plain": [
       "Plot with title “Histogram of mus”"
      ]
     },
     "metadata": {},
     "output_type": "display_data"
    }
   ],
   "source": [
    "set.seed(123)\n",
    "mus <- replicate(n_expts, mean(rnorm(n)))\n",
    "hist(mus)"
   ]
  },
  {
   "cell_type": "markdown",
   "metadata": {},
   "source": [
    "## Making a `data.frame`  or `tibble` of simulated data\n",
    "\n",
    "Let's simulate the following experiment. \n",
    "\n",
    "- There are 10 subjects in Group A and 10 subjects in Group B with random PIDs from 10000-99999\n",
    "- We measure 5 genes in each subject. The genes have the same distribution for each subject, but different genes have different distribtutions:\n",
    "    - gene1 $\\sim N(10, 1)$\n",
    "    - gene2 $\\sim N(11, 2)$\n",
    "    - gene3 $\\sim N(12, 3)$\n",
    "    - gene4 $\\sim N(13, 4)$\n",
    "    - gene5 $\\sim (N(14, 5)$\n",
    "    \n",
    "NB: This is for illustration purposes! Our gene counts (even if 'normalized') are not normally distributed!"
   ]
  },
  {
   "cell_type": "code",
   "execution_count": 43,
   "metadata": {},
   "outputs": [
    {
     "data": {
      "text/html": [
       "<table>\n",
       "<caption>A matrix: 3 × 5 of type dbl</caption>\n",
       "<tbody>\n",
       "\t<tr><td>1.264993</td><td>0.9467906</td><td>1.076689</td><td>-1.503406</td><td>1.069951</td></tr>\n",
       "\t<tr><td>3.830747</td><td>2.4379042</td><td>2.455073</td><td> 1.404136</td><td>3.169101</td></tr>\n",
       "\t<tr><td>2.940622</td><td>4.3374490</td><td>3.873871</td><td> 2.264472</td><td>1.632268</td></tr>\n",
       "</tbody>\n",
       "</table>\n"
      ],
      "text/latex": [
       "A matrix: 3 × 5 of type dbl\n",
       "\\begin{tabular}{lllll}\n",
       "\t 1.264993 & 0.9467906 & 1.076689 & -1.503406 & 1.069951\\\\\n",
       "\t 3.830747 & 2.4379042 & 2.455073 &  1.404136 & 3.169101\\\\\n",
       "\t 2.940622 & 4.3374490 & 3.873871 &  2.264472 & 1.632268\\\\\n",
       "\\end{tabular}\n"
      ],
      "text/markdown": [
       "\n",
       "A matrix: 3 × 5 of type dbl\n",
       "\n",
       "| 1.264993 | 0.9467906 | 1.076689 | -1.503406 | 1.069951 |\n",
       "| 3.830747 | 2.4379042 | 2.455073 |  1.404136 | 3.169101 |\n",
       "| 2.940622 | 4.3374490 | 3.873871 |  2.264472 | 1.632268 |\n",
       "\n"
      ],
      "text/plain": [
       "     [,1]     [,2]      [,3]     [,4]      [,5]    \n",
       "[1,] 1.264993 0.9467906 1.076689 -1.503406 1.069951\n",
       "[2,] 3.830747 2.4379042 2.455073  1.404136 3.169101\n",
       "[3,] 2.940622 4.3374490 3.873871  2.264472 1.632268"
      ]
     },
     "metadata": {},
     "output_type": "display_data"
    }
   ],
   "source": [
    "replicate(5, rnorm(3, 1:5, 1))"
   ]
  },
  {
   "cell_type": "code",
   "execution_count": 44,
   "metadata": {},
   "outputs": [],
   "source": [
    "n <- 10\n",
    "n_genes <- 5\n",
    "min_pid <- 10000\n",
    "max_pid <- 99999\n",
    "groupings <- c('A', 'B')\n",
    "n_groups <- length(groupings)\n",
    "gene_mus <- 10:14\n",
    "gene_sigmas <- 1:5\n",
    "pad_width <- 3"
   ]
  },
  {
   "cell_type": "code",
   "execution_count": 45,
   "metadata": {},
   "outputs": [],
   "source": [
    "pids <- sample(min_pid:max_pid, n_groups*n)\n",
    "groups <- sample(rep(groupings, each=n))\n",
    "genes <- t(replicate(n_groups*n, rnorm(n_genes, gene_mus, gene_sigmas)))\n",
    "gene_names <- paste('gene', str_pad(1:n_genes, width = pad_width, pad='0'), sep='')\n",
    "colnames(genes) <- gene_names"
   ]
  },
  {
   "cell_type": "code",
   "execution_count": 48,
   "metadata": {},
   "outputs": [],
   "source": [
    "df <- tibble(\n",
    "    pid = pids,\n",
    "    grp = groups,\n",
    "    genes\n",
    ")"
   ]
  },
  {
   "cell_type": "code",
   "execution_count": 49,
   "metadata": {},
   "outputs": [
    {
     "data": {
      "text/html": [
       "<table>\n",
       "<caption>A tibble: 3 × 3</caption>\n",
       "<thead>\n",
       "\t<tr><th scope=col>pid</th><th scope=col>grp</th><th scope=col>genes</th></tr>\n",
       "\t<tr><th scope=col>&lt;int&gt;</th><th scope=col>&lt;chr&gt;</th><th scope=col>&lt;dbl[,5]&gt;</th></tr>\n",
       "</thead>\n",
       "<tbody>\n",
       "\t<tr><td>49294</td><td>B</td><td>10.09916, 11.13709, 13.759675,  7.570842, 13.87096</td></tr>\n",
       "\t<tr><td>26965</td><td>A</td><td>10.25517, 12.14361,  9.947208,  9.480991, 17.92670</td></tr>\n",
       "\t<tr><td>53191</td><td>B</td><td>10.11352, 12.14002,  5.118997, 13.185731, 12.12351</td></tr>\n",
       "</tbody>\n",
       "</table>\n"
      ],
      "text/latex": [
       "A tibble: 3 × 3\n",
       "\\begin{tabular}{r|lll}\n",
       " pid & grp & genes\\\\\n",
       " <int> & <chr> & <dbl{[},5{]}>\\\\\n",
       "\\hline\n",
       "\t 49294 & B & 10.09916, 11.13709, 13.759675,  7.570842, 13.87096\\\\\n",
       "\t 26965 & A & 10.25517, 12.14361,  9.947208,  9.480991, 17.92670\\\\\n",
       "\t 53191 & B & 10.11352, 12.14002,  5.118997, 13.185731, 12.12351\\\\\n",
       "\\end{tabular}\n"
      ],
      "text/markdown": [
       "\n",
       "A tibble: 3 × 3\n",
       "\n",
       "| pid &lt;int&gt; | grp &lt;chr&gt; | genes &lt;dbl[,5]&gt; |\n",
       "|---|---|---|\n",
       "| 49294 | B | 10.09916, 11.13709, 13.759675,  7.570842, 13.87096 |\n",
       "| 26965 | A | 10.25517, 12.14361,  9.947208,  9.480991, 17.92670 |\n",
       "| 53191 | B | 10.11352, 12.14002,  5.118997, 13.185731, 12.12351 |\n",
       "\n"
      ],
      "text/plain": [
       "  pid   grp genes                                             \n",
       "1 49294 B   10.09916, 11.13709, 13.759675,  7.570842, 13.87096\n",
       "2 26965 A   10.25517, 12.14361,  9.947208,  9.480991, 17.92670\n",
       "3 53191 B   10.11352, 12.14002,  5.118997, 13.185731, 12.12351"
      ]
     },
     "metadata": {},
     "output_type": "display_data"
    }
   ],
   "source": [
    "sample_n(df, 3)"
   ]
  },
  {
   "cell_type": "markdown",
   "metadata": {},
   "source": [
    "### Breakdown of simulation"
   ]
  },
  {
   "cell_type": "markdown",
   "metadata": {},
   "source": [
    "Set up simulation configration parameters."
   ]
  },
  {
   "cell_type": "code",
   "execution_count": 50,
   "metadata": {},
   "outputs": [],
   "source": [
    "n <- 10\n",
    "n_genes <- 5\n",
    "min_pid <- 10000\n",
    "max_pid <- 99999\n",
    "groupings <- c('A', 'B')\n",
    "n_groups <- length(groupings)\n",
    "gene_mus <- 10:14\n",
    "gene_sigmas <- 1:5\n",
    "pad_width <- 3"
   ]
  },
  {
   "cell_type": "markdown",
   "metadata": {},
   "source": [
    "Create unique PIDs for each subject"
   ]
  },
  {
   "cell_type": "code",
   "execution_count": 51,
   "metadata": {},
   "outputs": [],
   "source": [
    "pids <- sample(min_pid:max_pid, n_groups*n)"
   ]
  },
  {
   "cell_type": "markdown",
   "metadata": {},
   "source": [
    "Assign a group to each subject at random"
   ]
  },
  {
   "cell_type": "code",
   "execution_count": 52,
   "metadata": {},
   "outputs": [],
   "source": [
    "groups <- sample(rep(groupings, each=n))"
   ]
  },
  {
   "cell_type": "markdown",
   "metadata": {},
   "source": [
    "Make up 5 genes from different distributions for each subject"
   ]
  },
  {
   "cell_type": "code",
   "execution_count": 53,
   "metadata": {},
   "outputs": [],
   "source": [
    "genes <- t(replicate(n_groups*n, rnorm(n_genes, gene_mus, gene_sigmas)))"
   ]
  },
  {
   "cell_type": "markdown",
   "metadata": {},
   "source": [
    "Make nice names for each gene"
   ]
  },
  {
   "cell_type": "code",
   "execution_count": 54,
   "metadata": {},
   "outputs": [],
   "source": [
    "gene_names <- paste('gene', str_pad(1:n_genes, width = pad_width, pad='0'), sep='')"
   ]
  },
  {
   "cell_type": "markdown",
   "metadata": {},
   "source": [
    "Assign names to gene columns"
   ]
  },
  {
   "cell_type": "code",
   "execution_count": 55,
   "metadata": {},
   "outputs": [],
   "source": [
    "colnames(genes) <- gene_names"
   ]
  },
  {
   "cell_type": "markdown",
   "metadata": {},
   "source": [
    "Create `tibble` to store simulated data"
   ]
  },
  {
   "cell_type": "code",
   "execution_count": 56,
   "metadata": {},
   "outputs": [],
   "source": [
    "df <- tibble(\n",
    "    pid = pids,\n",
    "    grp = groups,\n",
    "    genes\n",
    ")"
   ]
  },
  {
   "cell_type": "markdown",
   "metadata": {},
   "source": [
    "Peek into `tibble`"
   ]
  },
  {
   "cell_type": "code",
   "execution_count": 57,
   "metadata": {},
   "outputs": [
    {
     "data": {
      "text/html": [
       "<table>\n",
       "<caption>A tibble: 3 × 3</caption>\n",
       "<thead>\n",
       "\t<tr><th scope=col>pid</th><th scope=col>grp</th><th scope=col>genes</th></tr>\n",
       "\t<tr><th scope=col>&lt;int&gt;</th><th scope=col>&lt;chr&gt;</th><th scope=col>&lt;dbl[,5]&gt;</th></tr>\n",
       "</thead>\n",
       "<tbody>\n",
       "\t<tr><td>55227</td><td>B</td><td> 8.510962,  8.346383, 15.730738, 14.985960,  6.310063</td></tr>\n",
       "\t<tr><td>83617</td><td>B</td><td>10.631235,  9.327966, 11.848167,  7.328592,  6.266653</td></tr>\n",
       "\t<tr><td>36196</td><td>A</td><td> 9.175094, 12.733087,  8.621942, 10.099226, 12.858999</td></tr>\n",
       "</tbody>\n",
       "</table>\n"
      ],
      "text/latex": [
       "A tibble: 3 × 3\n",
       "\\begin{tabular}{r|lll}\n",
       " pid & grp & genes\\\\\n",
       " <int> & <chr> & <dbl{[},5{]}>\\\\\n",
       "\\hline\n",
       "\t 55227 & B &  8.510962,  8.346383, 15.730738, 14.985960,  6.310063\\\\\n",
       "\t 83617 & B & 10.631235,  9.327966, 11.848167,  7.328592,  6.266653\\\\\n",
       "\t 36196 & A &  9.175094, 12.733087,  8.621942, 10.099226, 12.858999\\\\\n",
       "\\end{tabular}\n"
      ],
      "text/markdown": [
       "\n",
       "A tibble: 3 × 3\n",
       "\n",
       "| pid &lt;int&gt; | grp &lt;chr&gt; | genes &lt;dbl[,5]&gt; |\n",
       "|---|---|---|\n",
       "| 55227 | B |  8.510962,  8.346383, 15.730738, 14.985960,  6.310063 |\n",
       "| 83617 | B | 10.631235,  9.327966, 11.848167,  7.328592,  6.266653 |\n",
       "| 36196 | A |  9.175094, 12.733087,  8.621942, 10.099226, 12.858999 |\n",
       "\n"
      ],
      "text/plain": [
       "  pid   grp genes                                                \n",
       "1 55227 B    8.510962,  8.346383, 15.730738, 14.985960,  6.310063\n",
       "2 83617 B   10.631235,  9.327966, 11.848167,  7.328592,  6.266653\n",
       "3 36196 A    9.175094, 12.733087,  8.621942, 10.099226, 12.858999"
      ]
     },
     "metadata": {},
     "output_type": "display_data"
    }
   ],
   "source": [
    "sample_n(df, 3)"
   ]
  },
  {
   "cell_type": "code",
   "execution_count": null,
   "metadata": {},
   "outputs": [],
   "source": []
  }
 ],
 "metadata": {
  "kernelspec": {
   "display_name": "R",
   "language": "R",
   "name": "ir"
  },
  "language_info": {
   "codemirror_mode": "r",
   "file_extension": ".r",
   "mimetype": "text/x-r-source",
   "name": "R",
   "pygments_lexer": "r",
   "version": "3.6.0"
  }
 },
 "nbformat": 4,
 "nbformat_minor": 2
}
