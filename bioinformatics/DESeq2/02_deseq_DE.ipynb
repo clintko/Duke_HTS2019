{
 "cells": [
  {
   "cell_type": "markdown",
   "metadata": {},
   "source": [
    "# DESeq2: Basic Differential Expression (DE) analysis"
   ]
  },
  {
   "cell_type": "markdown",
   "metadata": {},
   "source": [
    "## Objective: Carry out a basic set of DE analyses using DESeq2 and visualize the results"
   ]
  },
  {
   "cell_type": "markdown",
   "metadata": {},
   "source": [
    "### Load packages"
   ]
  },
  {
   "cell_type": "code",
   "execution_count": null,
   "metadata": {},
   "outputs": [],
   "source": [
    "library(tidyverse)\n",
    "library(DESeq2)\n",
    "library(dendextend)\n",
    "library(RColorBrewer)"
   ]
  },
  {
   "cell_type": "markdown",
   "metadata": {},
   "source": [
    "### Load the 2019 pilot dds object from image file"
   ]
  },
  {
   "cell_type": "code",
   "execution_count": null,
   "metadata": {},
   "outputs": [],
   "source": [
    "\n",
    "curdir <- \"/home/jovyan/work/scratch/analysis_output\"\n",
    "imgdir <- file.path(curdir, \"img\")\n",
    "\n",
    "imgfile <- file.path(imgdir, \"pilotdds2019.RData\")\n",
    "\n",
    "imgfile\n",
    "\n",
    "attach(imgfile)\n",
    "\n",
    "tools::md5sum(imgfile)\n",
    "\n",
    "### List the objects that have been attached\n",
    "ls(2)\n",
    "\n",
    "dds2019 <- dds2019\n",
    "\n",
    "detach(pos = 2)"
   ]
  },
  {
   "cell_type": "markdown",
   "metadata": {},
   "source": [
    "### Check dimensions of the two objects"
   ]
  },
  {
   "cell_type": "markdown",
   "metadata": {},
   "source": [
    "# Inspect object & Slots of an S4 class"
   ]
  },
  {
   "cell_type": "markdown",
   "metadata": {},
   "source": [
    "Let's has a look at the object we have created."
   ]
  },
  {
   "cell_type": "code",
   "execution_count": null,
   "metadata": {},
   "outputs": [],
   "source": [
    "dds2019"
   ]
  },
  {
   "cell_type": "markdown",
   "metadata": {},
   "source": [
    "see the class of dds object"
   ]
  },
  {
   "cell_type": "code",
   "execution_count": null,
   "metadata": {},
   "outputs": [],
   "source": [
    "class(dds2019)"
   ]
  },
  {
   "cell_type": "markdown",
   "metadata": {},
   "source": [
    "DESeqDataSet is a S4 object. Recall that a S4 object was taught when introducing bioconductor. Note that S4 objects allow users to wrap up multiple elements into a single variables where each element is called a slot."
   ]
  },
  {
   "cell_type": "code",
   "execution_count": null,
   "metadata": {},
   "outputs": [],
   "source": [
    "slotNames(dds2019)"
   ]
  },
  {
   "cell_type": "markdown",
   "metadata": {},
   "source": [
    "The metadata (columnData) is stored in the slot `colData`"
   ]
  },
  {
   "cell_type": "code",
   "execution_count": null,
   "metadata": {},
   "outputs": [],
   "source": [
    "dds2019@colData %>% as.data.frame %>% head(3)"
   ]
  },
  {
   "cell_type": "markdown",
   "metadata": {},
   "source": [
    "The design formula is stored in the slot `design`. The design holds the R formula which expresses how the counts depend on the variables in colData."
   ]
  },
  {
   "cell_type": "code",
   "execution_count": null,
   "metadata": {},
   "outputs": [],
   "source": [
    "dds2019@design"
   ]
  },
  {
   "cell_type": "markdown",
   "metadata": {},
   "source": [
    "The first thing you may want to do is **have a look at the raw counts** you have imported. The `DESeq2::counts` function extracts a matrix of counts (with the genes along the rows and samples along the columns). Let us first verify the dimension of this matrix."
   ]
  },
  {
   "cell_type": "code",
   "execution_count": null,
   "metadata": {},
   "outputs": [],
   "source": [
    "dim(counts(dds2019))"
   ]
  },
  {
   "cell_type": "code",
   "execution_count": null,
   "metadata": {},
   "outputs": [],
   "source": [
    "head(counts(dds2019),3)"
   ]
  },
  {
   "cell_type": "markdown",
   "metadata": {},
   "source": [
    "This slot returns gene specific information (it will be populated later)"
   ]
  },
  {
   "cell_type": "code",
   "execution_count": null,
   "metadata": {},
   "outputs": [],
   "source": [
    "dds2019@dispersionFunction"
   ]
  },
  {
   "cell_type": "markdown",
   "metadata": {},
   "source": [
    "# Estimate Size Factors and Dispersion Parameters"
   ]
  },
  {
   "cell_type": "markdown",
   "metadata": {},
   "source": [
    "You recall that DESeq requires that  we have estimates for sample specific size factors and gene specific dispersion factors. More specifically, recall that DESeq models the count $K_{ij}$ (gene $i$, sample $j$) as negative binomial with mean $\\mu_{ij}$ and dispersion parameter $\\alpha_i$. Here $\\mu_{ij}=s_j q_{ij}$ where $\\log_2(q_{ij}) = \\beta_{0i} + \\beta_{1i} z_j$. Here $s_j$ is the sample $j$ specific size factor.\n",
    "\n",
    "**Summarize of notation**\n",
    "- $K_{ij}$ denotes the observed **number of reads** mapped to gene $i$ for sample $j$\n",
    "- $K_{ij}$ follows a **negative binomial distribution** with\n",
    "    - **Mean** $\\mu_{ij}$\n",
    "    - **Dispersion parameter** $\\alpha_i$\n",
    "- Modelling\n",
    "    - $K_{ij} \\sim NB(\\mu_{ij}, \\alpha_i)$\n",
    "    - $\\mu_{ij} = s_{j}q_{ij}$\n",
    "        - $s_j$ is sample $j$ specific normalization constant\n",
    "    - $\\log_2(q_{ij}) = \\beta_{0i} + \\beta_{1i} z_j$"
   ]
  },
  {
   "cell_type": "markdown",
   "metadata": {},
   "source": [
    "## 01 Size Factors\n",
    " We begin by estimating the size factors $s_1,\\ldots,s_n$:"
   ]
  },
  {
   "cell_type": "code",
   "execution_count": null,
   "metadata": {},
   "outputs": [],
   "source": [
    "dds2019 <- estimateSizeFactors(dds2019)"
   ]
  },
  {
   "cell_type": "markdown",
   "metadata": {},
   "source": [
    "Now, compare the dds object to that of before applying the estimateSizeFactors() function. What has changed? What remains unchanged?"
   ]
  },
  {
   "cell_type": "code",
   "execution_count": null,
   "metadata": {},
   "outputs": [],
   "source": [
    "dds2019"
   ]
  },
  {
   "cell_type": "markdown",
   "metadata": {},
   "source": [
    "Note that there is a **sizeFactor** added to **colData**. Let's look at it more carefully\n",
    "\n",
    "```\n",
    "> dds # (before estimateSizeFactors)\n",
    "class: DESeqDataSet \n",
    "class: DESeqDataSet \n",
    "dim: 8499 24 \n",
    "metadata(1): version\n",
    "assays(1): counts\n",
    "rownames(8499): CNAG_00001 CNAG_00002 ... large_MTrRNA small_MTrRNA\n",
    "rowData names(0):\n",
    "colnames(24): 1_2019_P_M1 2_2019_P_M1 ... 23_2019_P_M1 24_2019_P_M1\n",
    "colData names(22): Label sample_year ... RIN_normal_threshold\n",
    "  RIN_lowered_threshold\n",
    "\n",
    "> dds # (after estimateSizeFactors)\n",
    "class: DESeqDataSet \n",
    "dim: 8499 24 \n",
    "metadata(1): version\n",
    "assays(1): counts\n",
    "rownames(8499): CNAG_00001 CNAG_00002 ... large_MTrRNA small_MTrRNA\n",
    "rowData names(0):\n",
    "colnames(24): 1_2019_P_M1 2_2019_P_M1 ... 23_2019_P_M1 24_2019_P_M1\n",
    "colData names(23): Label sample_year ... RIN_lowered_threshold\n",
    "  sizeFactor"
   ]
  },
  {
   "cell_type": "markdown",
   "metadata": {},
   "source": [
    "You can also get the size factors directly"
   ]
  },
  {
   "cell_type": "code",
   "execution_count": null,
   "metadata": {},
   "outputs": [],
   "source": [
    "sizeFactors(dds2019)"
   ]
  },
  {
   "cell_type": "markdown",
   "metadata": {},
   "source": [
    " It is preferable to limit the number of decimal places. Next show the size factors rounded to 3 decimal places"
   ]
  },
  {
   "cell_type": "code",
   "execution_count": null,
   "metadata": {},
   "outputs": [],
   "source": [
    "round(sizeFactors(dds2019),3)"
   ]
  },
  {
   "cell_type": "markdown",
   "metadata": {},
   "source": [
    "Summarize size factors"
   ]
  },
  {
   "cell_type": "code",
   "execution_count": null,
   "metadata": {},
   "outputs": [],
   "source": [
    "summary(sizeFactors(dds2019))"
   ]
  },
  {
   "cell_type": "markdown",
   "metadata": {},
   "source": [
    "Do you see a trend?"
   ]
  },
  {
   "cell_type": "code",
   "execution_count": null,
   "metadata": {},
   "outputs": [],
   "source": [
    "sizeFactors(dds2019) %>%\n",
    "    as.data.frame %>%\n",
    "        rownames_to_column %>%\n",
    "            mutate(libnum = as.integer(str_remove(rowname, \"_2019_P_M1\"))) -> mydf\n",
    "\n",
    "colnames(mydf)[2] <- \"sizefac\"\n",
    "\n",
    "mydf"
   ]
  },
  {
   "cell_type": "code",
   "execution_count": null,
   "metadata": {},
   "outputs": [],
   "source": [
    "ggplot(mydf, aes(x = libnum, y = sizefac)) + geom_point()"
   ]
  },
  {
   "cell_type": "markdown",
   "metadata": {},
   "source": [
    "Now that the size factors have been estimated, we can get \"normalized\" counts (DESeq2 normalizes against size factor)"
   ]
  },
  {
   "cell_type": "code",
   "execution_count": null,
   "metadata": {},
   "outputs": [],
   "source": [
    "# original counts for libraries 1 and 24\n",
    "counts(dds2019)[1:5,c(1,24)]\n",
    "\n",
    "# normalized count\n",
    "counts(dds2019, normalize = TRUE)[1:5, c(1,24)]\n",
    "\n",
    "# Size factor\n",
    "\n",
    "sizeFactors(dds2019)[c(1,24)]"
   ]
  },
  {
   "cell_type": "code",
   "execution_count": null,
   "metadata": {},
   "outputs": [],
   "source": [
    "# normalized manually using size factors for library 1\n",
    "counts(dds2019)[1:5, 1] / sizeFactors(dds2019)[1]"
   ]
  },
  {
   "cell_type": "code",
   "execution_count": null,
   "metadata": {},
   "outputs": [],
   "source": [
    "# normalized manually using size factors for library 24\n",
    "counts(dds2019)[1:5, 24] / sizeFactors(dds2019)[24]"
   ]
  },
  {
   "cell_type": "markdown",
   "metadata": {},
   "source": [
    "How do you get the raw counts for gene  \"GeneID: CNAG_05845\"?"
   ]
  },
  {
   "cell_type": "code",
   "execution_count": null,
   "metadata": {},
   "outputs": [],
   "source": [
    "counts(dds2019, normalize = TRUE)[\"CNAG_05845\",]"
   ]
  },
  {
   "cell_type": "markdown",
   "metadata": {},
   "source": [
    "## 02 Dispersion Parameters\n",
    "Next, we get the dispersion factors $\\alpha_1,\\ldots,\\alpha_{m}$"
   ]
  },
  {
   "cell_type": "code",
   "execution_count": null,
   "metadata": {},
   "outputs": [],
   "source": [
    "dds2019 <- estimateDispersions(dds2019)"
   ]
  },
  {
   "cell_type": "markdown",
   "metadata": {},
   "source": [
    "Now inspect the dds object again and note that the rowRanges slot has extra information (\"metadata column names(0):\" before versus \"column names(9): baseMean baseVar ... dispOutlier dispMAP\")\n",
    "- before: \n",
    "    - `metadata column names(0):`\n",
    "- after:  \n",
    "    - `column names(9): baseMean baseVar ...`"
   ]
  },
  {
   "cell_type": "code",
   "execution_count": null,
   "metadata": {},
   "outputs": [],
   "source": [
    "dds2019"
   ]
  },
  {
   "cell_type": "markdown",
   "metadata": {},
   "source": [
    "Can you notice the difference?\n",
    "```\n",
    "> dds (before dispersion)\n",
    "class: DESeqDataSet \n",
    "dim: 8499 24 \n",
    "metadata(1): version\n",
    "assays(1): counts\n",
    "rownames(8499): CNAG_00001 CNAG_00002 ... large_MTrRNA small_MTrRNA\n",
    "rowData names(0):\n",
    "colnames(24): 1_2019_P_M1 2_2019_P_M1 ... 23_2019_P_M1 24_2019_P_M1\n",
    "colData names(23): Label sample_year ... RIN_lowered_threshold\n",
    "  sizeFactor\n",
    "  \n",
    "> dds (after dispersion)\n",
    "class: DESeqDataSet \n",
    "dim: 8499 24 \n",
    "metadata(1): version\n",
    "assays(2): counts mu\n",
    "rownames(8499): CNAG_00001 CNAG_00002 ... large_MTrRNA small_MTrRNA\n",
    "rowData names(10): baseMean baseVar ... dispOutlier dispMAP\n",
    "colnames(24): 1_2019_P_M1 2_2019_P_M1 ... 23_2019_P_M1 24_2019_P_M1\n",
    "colData names(23): Label sample_year ... RIN_lowered_threshold\n",
    "  sizeFactor\n",
    "```"
   ]
  },
  {
   "cell_type": "markdown",
   "metadata": {},
   "source": [
    "Note that the dispersionfunction slot is now populated"
   ]
  },
  {
   "cell_type": "code",
   "execution_count": null,
   "metadata": {},
   "outputs": [],
   "source": [
    "dds2019@dispersionFunction"
   ]
  },
  {
   "cell_type": "markdown",
   "metadata": {},
   "source": [
    "We can extract the gene specific dispersion factors using dispersions(). Note that there will be one number per gene. We look at the first four genes (rounded to 4 decimal places)"
   ]
  },
  {
   "cell_type": "code",
   "execution_count": null,
   "metadata": {},
   "outputs": [],
   "source": [
    "alphas <- dispersions(dds2019)"
   ]
  },
  {
   "cell_type": "markdown",
   "metadata": {},
   "source": [
    "Verify that the number of dispersion factors equals the number of genes"
   ]
  },
  {
   "cell_type": "code",
   "execution_count": null,
   "metadata": {},
   "outputs": [],
   "source": [
    "# number of disperion factors\n",
    "length(alphas)"
   ]
  },
  {
   "cell_type": "code",
   "execution_count": null,
   "metadata": {},
   "outputs": [],
   "source": [
    "round(alphas[1:4], 4)"
   ]
  },
  {
   "cell_type": "markdown",
   "metadata": {},
   "source": [
    "Extract the metadata using mcols() for the first four genes\n",
    "\n",
    "| Terms       | Description                                   |\n",
    "|-------------|-----------------------------------------------|\n",
    "| baseMean    |     mean of normalized counts for all samples |\n",
    "| baseVar     | variance of normalized counts for all samples |\n",
    "| allZero     |                all counts for a gene are zero |\n",
    "| dispGeneEst |             gene-wise estimates of dispersion |\n",
    "| dispFit     |                   fitted values of dispersion |\n",
    "| dispersion  |                  final estimate of dispersion |\n",
    "| dispIter    |                          number of iterations |\n",
    "| dispOut     |                 dispersion flagged as outlier |\n",
    "| dispMAP     |                 maximum a posteriori estimate |\n"
   ]
  },
  {
   "cell_type": "code",
   "execution_count": null,
   "metadata": {},
   "outputs": [],
   "source": [
    "mcols(dds2019)[1:4,] %>% as.data.frame"
   ]
  },
  {
   "cell_type": "markdown",
   "metadata": {},
   "source": [
    "Summarize the dispersion factors using a box plot (may want to log transform)"
   ]
  },
  {
   "cell_type": "code",
   "execution_count": null,
   "metadata": {
    "scrolled": false
   },
   "outputs": [],
   "source": [
    "boxplot(log(dispersions(dds2019)))"
   ]
  },
  {
   "cell_type": "markdown",
   "metadata": {},
   "source": [
    "# Differential Expression Analysis\n",
    "We can now conduct a differential expression analysis using the DESeq() function. Keep in mind that to get to this step, we first estimated the size factors and then the dispersion parameters."
   ]
  },
  {
   "cell_type": "code",
   "execution_count": null,
   "metadata": {},
   "outputs": [],
   "source": [
    "### Carry out DE analysis\n",
    "ddsDE <- DESeq(dds2019)"
   ]
  },
  {
   "cell_type": "code",
   "execution_count": null,
   "metadata": {},
   "outputs": [],
   "source": [
    "### Look at object\n",
    "ddsDE"
   ]
  },
  {
   "cell_type": "code",
   "execution_count": null,
   "metadata": {},
   "outputs": [],
   "source": [
    "### Look at some of the results\n",
    "results(ddsDE)"
   ]
  },
  {
   "cell_type": "markdown",
   "metadata": {},
   "source": [
    "Note that currently, the model we have is an additive model, which does not include the interaction term of `Media` and `Strain`"
   ]
  },
  {
   "cell_type": "markdown",
   "metadata": {},
   "source": [
    "### Look at some of the results (tidy version)\n"
   ]
  },
  {
   "cell_type": "code",
   "execution_count": null,
   "metadata": {},
   "outputs": [],
   "source": [
    "results(ddsDE, tidy = TRUE)"
   ]
  },
  {
   "cell_type": "markdown",
   "metadata": {},
   "source": [
    "We can get the results for the differential expression analysis using results(). Here, we can compare two group of samples specified by the contrast. (If not, the default contrast would be the last term in your additive model `design(dds)`)."
   ]
  },
  {
   "cell_type": "code",
   "execution_count": null,
   "metadata": {},
   "outputs": [],
   "source": [
    "# DE with respect to condition\n",
    "myres_condition4v8 <- results(ddsDE, contrast = c(\"condition\", \"pH4\", \"pH8\"))\n",
    "myres_condition4v8"
   ]
  },
  {
   "cell_type": "code",
   "execution_count": null,
   "metadata": {},
   "outputs": [],
   "source": [
    "# DE with respect to condition (flip order)\n",
    "myres_condition8v4 <- results(ddsDE, contrast = c(\"condition\", \"pH8\", \"pH4\"))\n",
    "myres_condition8v4"
   ]
  },
  {
   "cell_type": "code",
   "execution_count": null,
   "metadata": {},
   "outputs": [],
   "source": [
    "### DE with respect to genotype\n",
    "myres_strainvWT <- results(ddsDE, contrast = c(\"genotype\", \"sre1d\", \"WT\"))\n",
    "myres_strainvWT"
   ]
  },
  {
   "cell_type": "markdown",
   "metadata": {},
   "source": [
    "Let's look at the results for the first four genes"
   ]
  },
  {
   "cell_type": "code",
   "execution_count": null,
   "metadata": {},
   "outputs": [],
   "source": [
    "### Tidy the results\n",
    "myres_condition8v4 <- results(ddsDE, contrast = c(\"condition\", \"pH8\", \"pH4\"), tidy = TRUE)\n",
    "myres_condition8v4"
   ]
  },
  {
   "cell_type": "code",
   "execution_count": null,
   "metadata": {},
   "outputs": [],
   "source": [
    "### Tidy the results for DE with respect to condition\n",
    "### Results are sorted in ascending order by adjusted p-value\n",
    "### Here ph4 is the reference level\n",
    "### log2FC > 0 suggests that higher pH (pH8) is associated with increased expression\n",
    "### log2FC < 0 suggests that higher pH (pH8) is associated with lower expression\n",
    "myres_condition8v4 <- results(ddsDE, contrast = c(\"condition\", \"pH8\", \"pH4\"), tidy = TRUE)\n",
    "\n",
    "myres_condition8v4 %>% \n",
    "    arrange(desc(-padj)) %>% \n",
    "        head(10)"
   ]
  },
  {
   "cell_type": "markdown",
   "metadata": {},
   "source": [
    "### Visualize DE effect"
   ]
  },
  {
   "cell_type": "markdown",
   "metadata": {},
   "source": [
    "Looking at the results for these two genes: \n",
    "\n",
    "* The estimated log2FC for CNAG_00275 is negative. We will verify visually that ph8, compared to pH4,  is associated with lower expression\n",
    "\n",
    "* The estimated log2FC for CNAG_00531 is positive. We will verify visually that ph8, compared to pH4, is associated with higher expression\n"
   ]
  },
  {
   "cell_type": "code",
   "execution_count": null,
   "metadata": {},
   "outputs": [],
   "source": [
    "results(ddsDE, tidy = TRUE) %>%\n",
    "    filter(row %in% c(\"CNAG_00275\",\"CNAG_00531\"))"
   ]
  },
  {
   "cell_type": "code",
   "execution_count": null,
   "metadata": {},
   "outputs": [],
   "source": [
    "### This dot plot verify visually that exposure to ph8, compared to pH4,  is associated with lower expression\n",
    "plotCounts(dds2019, \"CNAG_00275\", intgroup = \"condition\")"
   ]
  },
  {
   "cell_type": "code",
   "execution_count": null,
   "metadata": {},
   "outputs": [],
   "source": [
    "### This dot plot verify visually that exposure to ph8, compared to pH4,  is associated with higher expression\n",
    "plotCounts(dds2019, \"CNAG_00531\", intgroup = \"condition\")"
   ]
  },
  {
   "cell_type": "markdown",
   "metadata": {},
   "source": [
    "Volcano plot"
   ]
  },
  {
   "cell_type": "code",
   "execution_count": null,
   "metadata": {},
   "outputs": [],
   "source": [
    "### Volcano plot for con effect\n",
    "ggplot(results(ddsDE, contrast = c(\"condition\", \"pH4\", \"pH8\"), tidy = TRUE), \n",
    "       aes(x = log2FoldChange, y = -log10(padj))) + geom_point()"
   ]
  },
  {
   "cell_type": "code",
   "execution_count": null,
   "metadata": {},
   "outputs": [],
   "source": [
    "### Genotype Effect\n",
    "ggplot(results(ddsDE, contrast = c(\"genotype\", \"sre1d\", \"WT\"), tidy = TRUE), \n",
    "       aes(x = log2FoldChange, y = -log10(padj))) + geom_point()"
   ]
  },
  {
   "cell_type": "markdown",
   "metadata": {},
   "source": [
    "## Clustering"
   ]
  },
  {
   "cell_type": "markdown",
   "metadata": {},
   "source": [
    "### Regularized log transformation\n",
    "The regularized log transform can be obtained using the [rlog() function](https://rdrr.io/bioc/DESeq2/man/rlog.html). Note that an important argument for this function is blind (TRUE by default). The default \"blinds\" the normalization to the design. This is very important so as to not bias the analyses (e.g. class discovery) "
   ]
  },
  {
   "cell_type": "code",
   "execution_count": null,
   "metadata": {},
   "outputs": [],
   "source": [
    "rld <- rlog(dds2019, blind = TRUE)"
   ]
  },
  {
   "cell_type": "markdown",
   "metadata": {},
   "source": [
    "### Dendrogram of samples: showing strain & media of each sample"
   ]
  },
  {
   "cell_type": "markdown",
   "metadata": {},
   "source": [
    "Hierarchical clustering using rlog transformation"
   ]
  },
  {
   "cell_type": "code",
   "execution_count": null,
   "metadata": {},
   "outputs": [],
   "source": [
    "options(repr.plot.width = 9, repr.plot.height = 5)\n",
    "dists <- dist(t(assay(rld)))\n",
    "plot(hclust(dists)) "
   ]
  },
  {
   "cell_type": "markdown",
   "metadata": {},
   "source": [
    "Store the dendrogram of samples using hierarchical clustering"
   ]
  },
  {
   "cell_type": "code",
   "execution_count": null,
   "metadata": {},
   "outputs": [],
   "source": [
    "assay(rld) %>%\n",
    "    t() %>%\n",
    "    dist %>%\n",
    "    hclust(method = \"complete\") %>%\n",
    "    as.dendrogram ->\n",
    "    mydend"
   ]
  },
  {
   "cell_type": "markdown",
   "metadata": {},
   "source": [
    "Dendrogram of samples: showing strain of each sample"
   ]
  },
  {
   "cell_type": "code",
   "execution_count": null,
   "metadata": {},
   "outputs": [],
   "source": [
    "\n",
    "dendplot <- function(mydend, columndata, labvar, colvar, pchvar) {\n",
    "    cols <- factor(columndata[[colvar]][order.dendrogram(mydend)])\n",
    "    collab <- brewer.pal(max(3,nlevels(cols)),\"Set1\")[cols]\n",
    "    pchs <- factor(columndata[[pchvar]][order.dendrogram(mydend)])\n",
    "    pchlab <- seq_len(nlevels(pchs))[pchs]\n",
    "    lablab <- columndata[[labvar]][order.dendrogram(mydend)]\n",
    "    \n",
    "    mydend %>% \n",
    "        set(\"labels_cex\",1) %>% \n",
    "        set(\"labels_col\",collab) %>%\n",
    "        set(\"leaves_pch\",pchlab) %>%\n",
    "        set(\"labels\", lablab)\n",
    "}\n",
    "\n"
   ]
  },
  {
   "cell_type": "code",
   "execution_count": null,
   "metadata": {},
   "outputs": [],
   "source": [
    "options(repr.plot.width = 9, repr.plot.height = 5)\n",
    "dendplot(mydend, dds2019@colData, \n",
    "         \"genotype\",    # variable that show in label\n",
    "         \"genotype\",    # variable that define color\n",
    "         \"condition\") %>% # variable that define shape of points\n",
    "    plot"
   ]
  },
  {
   "cell_type": "markdown",
   "metadata": {},
   "source": [
    "Dendrogram of samples: showing media of each sample"
   ]
  },
  {
   "cell_type": "markdown",
   "metadata": {},
   "source": [
    "### Customize presentation"
   ]
  },
  {
   "cell_type": "code",
   "execution_count": null,
   "metadata": {},
   "outputs": [],
   "source": [
    "### Merge gene expression with meta data\n",
    "myDEplotData <- function(mydds, geneid, mergelab) {\n",
    "    counts(mydds, normalize = TRUE) %>%\n",
    "        as_tibble(rownames=\"gene\") %>%\n",
    "        filter(gene == geneid) %>%\n",
    "        gather(Label, geneexp, -gene) %>%\n",
    "        select(-gene) -> genedat\n",
    "\n",
    "    colData(mydds) %>%\n",
    "        as.data.frame %>%\n",
    "        as_tibble %>%\n",
    "        full_join(genedat, by = mergelab) -> genedat\n",
    "    \n",
    "    return(genedat)\n",
    "}\n",
    "\n",
    "myDEplotData(dds2019, \"CNAG_00003\", \"Label\")[,c(\"Label\", \"genotype\", \"condition\" , \"geneexp\")]\n"
   ]
  },
  {
   "cell_type": "code",
   "execution_count": null,
   "metadata": {},
   "outputs": [],
   "source": [
    "### Basic function\n",
    "\n",
    "myDEplot <- function(mydds, geneid, mergelab) {\n",
    "    mydat <- myDEplotData(mydds, geneid, mergelab)\n",
    "    ggplot(mydat, aes(x = condition, y = geneexp))+ geom_point()\n",
    "}\n",
    "\n"
   ]
  },
  {
   "cell_type": "code",
   "execution_count": null,
   "metadata": {},
   "outputs": [],
   "source": [
    "### Allow for grouping by any factor in dataframe\n",
    "\n",
    "myDEplot <- function(mydds, geneid, grpvar, mergelab) {\n",
    "    mydat <- myDEplotData(mydds, geneid, mergelab)\n",
    "    ggplot(mydat, aes_string(x=grpvar, y = \"geneexp\"))+ geom_point()\n",
    "}\n",
    "\n",
    "myDEplot(dds2019, \"CNAG_00003\", \"genotype\", \"Label\")\n",
    "myDEplot(dds2019, \"CNAG_00003\", \"condition\", \"Label\")\n",
    "\n"
   ]
  },
  {
   "cell_type": "code",
   "execution_count": null,
   "metadata": {},
   "outputs": [],
   "source": [
    "### Add color\n",
    "\n",
    "myDEplot <- function(mydds, geneid, grpvar, mergelab) {\n",
    "    mydat <- myDEplotData(mydds, geneid, mergelab)\n",
    "    ggplot(mydat, aes_string(x=grpvar, y = \"geneexp\", col = grpvar))+ geom_point()\n",
    "}\n",
    "myDEplot(dds2019, \"CNAG_00003\", \"condition\", \"Label\")"
   ]
  },
  {
   "cell_type": "code",
   "execution_count": null,
   "metadata": {},
   "outputs": [],
   "source": [
    "### Alow for coloring with respect to another factor\n",
    "myDEplot <- function(mydds, geneid, grpvar, colvar, mergelab) {\n",
    "    mydat <- myDEplotData(mydds, geneid, mergelab)\n",
    "    ggplot(mydat, aes_string(x=grpvar, y = \"geneexp\", col = colvar))+ geom_point()\n",
    "}\n",
    "myDEplot(dds2019, \"CNAG_00003\", \"condition\", \"genotype\", \"Label\")"
   ]
  },
  {
   "cell_type": "code",
   "execution_count": null,
   "metadata": {},
   "outputs": [],
   "source": [
    "sessionInfo()"
   ]
  }
 ],
 "metadata": {
  "kernelspec": {
   "display_name": "R",
   "language": "R",
   "name": "ir"
  },
  "language_info": {
   "codemirror_mode": "r",
   "file_extension": ".r",
   "mimetype": "text/x-r-source",
   "name": "R",
   "pygments_lexer": "r",
   "version": "3.6.0"
  }
 },
 "nbformat": 4,
 "nbformat_minor": 2
}
