{
 "cells": [
  {
   "cell_type": "markdown",
   "metadata": {},
   "source": [
    "# Hands-On Tidyverse - with count data\n",
    "\n",
    "## Setup"
   ]
  },
  {
   "cell_type": "code",
   "execution_count": null,
   "metadata": {},
   "outputs": [],
   "source": [
    "# Load required packages\n",
    "library(tidyverse)\n",
    "library(foreach)\n",
    "library(stringr)\n",
    "library(haven)\n",
    "\n",
    "library(DESeq2)\n",
    "library(tools)\n",
    "library(limma)\n",
    "library(qvalue)\n",
    "\n",
    "library(ggplot2)\n",
    "library(RColorBrewer)\n",
    "library(gridExtra)\n",
    "library(dendextend)\n",
    "\n",
    "library(plotly)"
   ]
  },
  {
   "cell_type": "code",
   "execution_count": null,
   "metadata": {},
   "outputs": [],
   "source": [
    "# set directories\n",
    "DATDIR <- \"/data/hts2018_pilot/star_counts\"\n",
    "CURDIR <- \"/home/jovyan/work/scratch/analysis_output\"\n",
    "OUTDIR <- file.path(CURDIR, \"out\")\n",
    "IMGDIR <- file.path(CURDIR, \"img\")\n",
    "\n",
    "# Metadata (metadtfile)\n",
    "#METADTFILE <- \"/home/jovyan/work/HTS2018-notebooks/josh/info/2018_pilot_metadata_anon.tsv\""
   ]
  },
  {
   "cell_type": "markdown",
   "metadata": {
    "collapsed": true
   },
   "source": [
    "## Reading in count data\n",
    "\n",
    "The gene counts from the pilot data from the 2018 course are in the directory /data/hts2018_pilot/start_counts.\n",
    "\n",
    "Let's have a look at them:"
   ]
  },
  {
   "cell_type": "code",
   "execution_count": null,
   "metadata": {},
   "outputs": [],
   "source": [
    "list.files(\"/data/hts2018_pilot/star_counts/\")"
   ]
  },
  {
   "cell_type": "markdown",
   "metadata": {},
   "source": [
    "We can also see these in the terminal window (open a terminal window and use the bash command 'ls'). Let's quickly go to the terminal and do this. Also, we can look at the content of the files."
   ]
  },
  {
   "cell_type": "code",
   "execution_count": null,
   "metadata": {},
   "outputs": [],
   "source": []
  },
  {
   "cell_type": "code",
   "execution_count": null,
   "metadata": {},
   "outputs": [],
   "source": [
    "# Save the names in variable\n",
    "stardirs <- list.files(DATDIR)\n",
    "\n",
    "# Look at the beginning of the first file from R\n",
    "cmdstr <- paste(\"head\", file.path(DATDIR, stardirs[1]))\n",
    "cmdout <- system(cmdstr, intern = TRUE)\n",
    "str_split(cmdout, pattern = \"\\t\")\n"
   ]
  },
  {
   "cell_type": "markdown",
   "metadata": {},
   "source": [
    "There are several things to note:\n",
    "    * There are four columns. We only want the first (gene name) and the fourth (count).\n",
    "    * There are no headers.\n",
    "    * This is a tab-delimited file (we can't see this, but what we can see is that it is not a csv)"
   ]
  },
  {
   "cell_type": "markdown",
   "metadata": {},
   "source": [
    "Exercise:\n",
    "  1. How many files are in the directory?\n",
    "  2. Print the first 10 filenames\n",
    "  3. Use the command read_tsv to read in the second file and save it in a tibble called \"sample_2\". Use        the note above to pass the correct options to read_tsv.\n"
   ]
  },
  {
   "cell_type": "code",
   "execution_count": null,
   "metadata": {},
   "outputs": [],
   "source": [
    "\n"
   ]
  },
  {
   "cell_type": "markdown",
   "metadata": {},
   "source": [
    "Our goal is to read in all of these files and collect the first and fourth columns into one large tibble. Let's first do this for two files.\n",
    "\n",
    "Exercise:\n",
    "\n",
    "    1. Read in the first two files, one into a tibble called df1, the other into a  tibble called df2.\n",
    "    2. Remove the middle two columns using dplyr, and rename the remaining two columns 'gene' and the name of the count file.\n",
    "    3. Join the two tibbles together using 'gene' as the key."
   ]
  },
  {
   "cell_type": "code",
   "execution_count": null,
   "metadata": {},
   "outputs": [],
   "source": []
  },
  {
   "cell_type": "markdown",
   "metadata": {},
   "source": [
    "Of course, we don't want to do this manually for every file. We'll use the `foreach` package in R to iterate over the files. This will require defining some of the steps above as functions, so first let's review what a function is."
   ]
  },
  {
   "cell_type": "markdown",
   "metadata": {},
   "source": [
    "### Functions\n",
    "\n",
    "Functions are simply objects that *do* something. In the functional programming paradigm, functions should be self-contained, in that they receive as inputs all the variables they need and do not modify anything else. They 'return' an output.\n"
   ]
  },
  {
   "cell_type": "markdown",
   "metadata": {},
   "source": [
    "#### Example\n",
    "\n",
    "*Good*"
   ]
  },
  {
   "cell_type": "code",
   "execution_count": null,
   "metadata": {},
   "outputs": [],
   "source": [
    "myfunction_add <- function(a,b){\n",
    "    a + b   # In R, the last statement is what is returned\n",
    "}"
   ]
  },
  {
   "cell_type": "code",
   "execution_count": null,
   "metadata": {},
   "outputs": [],
   "source": [
    "myfunction_add(1,2)"
   ]
  },
  {
   "cell_type": "markdown",
   "metadata": {},
   "source": [
    "*Bad*"
   ]
  },
  {
   "cell_type": "code",
   "execution_count": null,
   "metadata": {},
   "outputs": [],
   "source": [
    "a <- 1\n",
    "b <- 2\n",
    "\n",
    "myfunction_add <- function(){\n",
    "    a + b # We are using values from the 'global environment' instead of passing them in\n",
    "    \n",
    "}"
   ]
  },
  {
   "cell_type": "code",
   "execution_count": null,
   "metadata": {},
   "outputs": [],
   "source": [
    "myfunction_add()"
   ]
  },
  {
   "cell_type": "markdown",
   "metadata": {},
   "source": [
    "Exercise:\n",
    "\n",
    "    1. Write a function to multiply two numbers and return the result.\n",
    "    2. Write a function to join two dataframes"
   ]
  },
  {
   "cell_type": "code",
   "execution_count": null,
   "metadata": {},
   "outputs": [],
   "source": [
    "\n",
    "\n",
    "myfile <- function(filedir, filename) {\n",
    "    # Get the absolute paths of a file\n",
    "    #\n",
    "    # Args:\n",
    "    #   filedir  (Character): the directory of the folder\n",
    "    #   filename (Character): the filename\n",
    "    #\n",
    "    # Returns:\n",
    "    #   (Character) the directory of the input file\n",
    "    file.path(filedir, filename)\n",
    "}\n",
    "\n"
   ]
  },
  {
   "cell_type": "code",
   "execution_count": null,
   "metadata": {},
   "outputs": [],
   "source": [
    "coltypes<- \"?--i\"\n",
    "\n",
    "out <- foreach(stardir = stardirs, .combine = mycombine) %do% {\n",
    "    \n",
    "    # get a directory of each count file\n",
    "    cntfile <- myfile(DATDIR, stardir)\n",
    "    \n",
    "    # read in the count file\n",
    "    readr::read_tsv(cntfile, col_names = FALSE, col_types = coltypes) %>%\n",
    "           dplyr::rename_(.dots=setNames(names(.), c(\"gene\",stardir)))\n",
    "           #dplyr::rename(\"gene\" = \"X1\", `stardir` = \"X4\")\n",
    "}"
   ]
  },
  {
   "cell_type": "code",
   "execution_count": null,
   "metadata": {},
   "outputs": [],
   "source": [
    "out %>% head"
   ]
  },
  {
   "cell_type": "markdown",
   "metadata": {},
   "source": [
    "Exercise: Create the 'out' tibble using a for loop instead of foreach."
   ]
  },
  {
   "cell_type": "markdown",
   "metadata": {},
   "source": [
    "### Gather and spread \n",
    "\n",
    "Now, we have a few other things to fix. To begin with, the first four rows are really summaries and not genes."
   ]
  },
  {
   "cell_type": "code",
   "execution_count": null,
   "metadata": {},
   "outputs": [],
   "source": [
    "### Gather and spread the first four rows\n",
    "out %>%\n",
    "    dplyr::slice(1:4) %>%\n",
    "    gather(expid, value, -gene) %>% \n",
    "    spread(gene, value) %>%\n",
    "    rename_(.dots = setNames(names(.), c(\"expid\", \"namb\", \"nmulti\", \"nnofeat\",\"nunmap\"))) ->\n",
    "    nmisc"
   ]
  },
  {
   "cell_type": "code",
   "execution_count": null,
   "metadata": {},
   "outputs": [],
   "source": [
    "nmisc %>% head"
   ]
  },
  {
   "cell_type": "markdown",
   "metadata": {},
   "source": [
    "Let's break this down and see what each step does."
   ]
  },
  {
   "cell_type": "code",
   "execution_count": null,
   "metadata": {},
   "outputs": [],
   "source": [
    "out %>%\n",
    "    dplyr::slice(1:4) -> temp1\n",
    "\n",
    "temp1"
   ]
  },
  {
   "cell_type": "code",
   "execution_count": null,
   "metadata": {},
   "outputs": [],
   "source": [
    "temp1 %>% gather(expid, value, -gene) -> temp2\n",
    "\n",
    "head(temp2)"
   ]
  },
  {
   "cell_type": "code",
   "execution_count": null,
   "metadata": {},
   "outputs": [],
   "source": [
    "temp2 %>%  spread(gene, value) -> temp3\n",
    "\n",
    "head(temp3)"
   ]
  },
  {
   "cell_type": "code",
   "execution_count": null,
   "metadata": {},
   "outputs": [],
   "source": [
    "temp3 %>% rename_(.dots = setNames(names(.), c(\"expid\", \"namb\", \"nmulti\", \"nnofeat\",\"nunmap\"))) %>% head"
   ]
  },
  {
   "cell_type": "code",
   "execution_count": null,
   "metadata": {},
   "outputs": [],
   "source": [
    "### Gather and spread the genes to get a count matrix\n",
    "out %>%\n",
    "    dplyr::slice(-(1:4)) %>%\n",
    "    gather(expid, value, -gene) %>% \n",
    "    spread(gene, value) -> genecounts"
   ]
  },
  {
   "cell_type": "code",
   "execution_count": null,
   "metadata": {},
   "outputs": [],
   "source": [
    "genecounts[1:5,1:5]"
   ]
  },
  {
   "cell_type": "code",
   "execution_count": null,
   "metadata": {},
   "outputs": [],
   "source": [
    "out %>%\n",
    "    dplyr::slice(-(1:4)) %>% t() -> check"
   ]
  },
  {
   "cell_type": "code",
   "execution_count": null,
   "metadata": {},
   "outputs": [],
   "source": [
    "check[1:5,1:5]"
   ]
  },
  {
   "cell_type": "code",
   "execution_count": null,
   "metadata": {},
   "outputs": [],
   "source": []
  }
 ],
 "metadata": {
  "kernelspec": {
   "display_name": "R",
   "language": "R",
   "name": "ir"
  },
  "language_info": {
   "codemirror_mode": "r",
   "file_extension": ".r",
   "mimetype": "text/x-r-source",
   "name": "R",
   "pygments_lexer": "r",
   "version": "3.6.0"
  }
 },
 "nbformat": 4,
 "nbformat_minor": 1
}
