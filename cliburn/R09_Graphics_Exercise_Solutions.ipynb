{
 "cells": [
  {
   "cell_type": "markdown",
   "metadata": {},
   "source": [
    "# R Graphics Exercise (Solutions)"
   ]
  },
  {
   "cell_type": "code",
   "execution_count": 1,
   "metadata": {},
   "outputs": [
    {
     "name": "stderr",
     "output_type": "stream",
     "text": [
      "Registered S3 methods overwritten by 'ggplot2':\n",
      "  method         from \n",
      "  [.quosures     rlang\n",
      "  c.quosures     rlang\n",
      "  print.quosures rlang\n",
      "── \u001b[1mAttaching packages\u001b[22m ─────────────────────────────────────── tidyverse 1.2.1 ──\n",
      "\u001b[32m✔\u001b[39m \u001b[34mggplot2\u001b[39m 3.1.1     \u001b[32m✔\u001b[39m \u001b[34mpurrr  \u001b[39m 0.3.2\n",
      "\u001b[32m✔\u001b[39m \u001b[34mtibble \u001b[39m 2.1.2     \u001b[32m✔\u001b[39m \u001b[34mdplyr  \u001b[39m 0.8.1\n",
      "\u001b[32m✔\u001b[39m \u001b[34mtidyr  \u001b[39m 0.8.3     \u001b[32m✔\u001b[39m \u001b[34mstringr\u001b[39m 1.4.0\n",
      "\u001b[32m✔\u001b[39m \u001b[34mreadr  \u001b[39m 1.3.1     \u001b[32m✔\u001b[39m \u001b[34mforcats\u001b[39m 0.4.0\n",
      "── \u001b[1mConflicts\u001b[22m ────────────────────────────────────────── tidyverse_conflicts() ──\n",
      "\u001b[31m✖\u001b[39m \u001b[34mdplyr\u001b[39m::\u001b[32mfilter()\u001b[39m masks \u001b[34mstats\u001b[39m::filter()\n",
      "\u001b[31m✖\u001b[39m \u001b[34mdplyr\u001b[39m::\u001b[32mlag()\u001b[39m    masks \u001b[34mstats\u001b[39m::lag()\n"
     ]
    }
   ],
   "source": [
    "library(tidyverse)"
   ]
  },
  {
   "cell_type": "code",
   "execution_count": 2,
   "metadata": {},
   "outputs": [],
   "source": [
    "options(repr.plot.width=4, repr.plot.height=3)"
   ]
  },
  {
   "cell_type": "code",
   "execution_count": 3,
   "metadata": {},
   "outputs": [
    {
     "name": "stderr",
     "output_type": "stream",
     "text": [
      "Parsed with column specification:\n",
      "cols(\n",
      "  .default = col_double(),\n",
      "  Label = \u001b[31mcol_character()\u001b[39m,\n",
      "  Media = \u001b[31mcol_character()\u001b[39m,\n",
      "  Strain = \u001b[31mcol_character()\u001b[39m\n",
      ")\n",
      "See spec(...) for full column specifications.\n"
     ]
    }
   ],
   "source": [
    "data <- read_tsv('data/gene_counts_raw.txt')"
   ]
  },
  {
   "cell_type": "markdown",
   "metadata": {},
   "source": [
    "**0**. The `Label` column has 3 pieces of information `Sample`, `Method` andd `Person` in a single cell. Fix this and save the tidy DataFrame as `df`."
   ]
  },
  {
   "cell_type": "code",
   "execution_count": 4,
   "metadata": {},
   "outputs": [
    {
     "data": {
      "text/html": [
       "<table>\n",
       "<caption>A tibble: 3 × 5</caption>\n",
       "<thead>\n",
       "\t<tr><th scope=col>Label</th><th scope=col>Media</th><th scope=col>Strain</th><th scope=col>gene0</th><th scope=col>gene1</th></tr>\n",
       "\t<tr><th scope=col>&lt;chr&gt;</th><th scope=col>&lt;chr&gt;</th><th scope=col>&lt;chr&gt;</th><th scope=col>&lt;dbl&gt;</th><th scope=col>&lt;dbl&gt;</th></tr>\n",
       "</thead>\n",
       "<tbody>\n",
       "\t<tr><td>1_MA_J</td><td>YPD</td><td>H99</td><td>1</td><td>0</td></tr>\n",
       "\t<tr><td>1_RZ_J</td><td>YPD</td><td>H99</td><td>0</td><td>0</td></tr>\n",
       "\t<tr><td>2_MA_C</td><td>YPD</td><td>H99</td><td>0</td><td>0</td></tr>\n",
       "</tbody>\n",
       "</table>\n"
      ],
      "text/latex": [
       "A tibble: 3 × 5\n",
       "\\begin{tabular}{r|lllll}\n",
       " Label & Media & Strain & gene0 & gene1\\\\\n",
       " <chr> & <chr> & <chr> & <dbl> & <dbl>\\\\\n",
       "\\hline\n",
       "\t 1\\_MA\\_J & YPD & H99 & 1 & 0\\\\\n",
       "\t 1\\_RZ\\_J & YPD & H99 & 0 & 0\\\\\n",
       "\t 2\\_MA\\_C & YPD & H99 & 0 & 0\\\\\n",
       "\\end{tabular}\n"
      ],
      "text/markdown": [
       "\n",
       "A tibble: 3 × 5\n",
       "\n",
       "| Label &lt;chr&gt; | Media &lt;chr&gt; | Strain &lt;chr&gt; | gene0 &lt;dbl&gt; | gene1 &lt;dbl&gt; |\n",
       "|---|---|---|---|---|\n",
       "| 1_MA_J | YPD | H99 | 1 | 0 |\n",
       "| 1_RZ_J | YPD | H99 | 0 | 0 |\n",
       "| 2_MA_C | YPD | H99 | 0 | 0 |\n",
       "\n"
      ],
      "text/plain": [
       "  Label  Media Strain gene0 gene1\n",
       "1 1_MA_J YPD   H99    1     0    \n",
       "2 1_RZ_J YPD   H99    0     0    \n",
       "3 2_MA_C YPD   H99    0     0    "
      ]
     },
     "metadata": {},
     "output_type": "display_data"
    }
   ],
   "source": [
    "data[1:3, 1:5]"
   ]
  },
  {
   "cell_type": "code",
   "execution_count": 5,
   "metadata": {},
   "outputs": [
    {
     "data": {
      "text/html": [
       "<table>\n",
       "<caption>A tibble: 3 × 5</caption>\n",
       "<thead>\n",
       "\t<tr><th scope=col>gene995</th><th scope=col>gene996</th><th scope=col>gene997</th><th scope=col>gene998</th><th scope=col>gene999</th></tr>\n",
       "\t<tr><th scope=col>&lt;dbl&gt;</th><th scope=col>&lt;dbl&gt;</th><th scope=col>&lt;dbl&gt;</th><th scope=col>&lt;dbl&gt;</th><th scope=col>&lt;dbl&gt;</th></tr>\n",
       "</thead>\n",
       "<tbody>\n",
       "\t<tr><td>27</td><td>325</td><td>637</td><td>591</td><td> 848</td></tr>\n",
       "\t<tr><td> 7</td><td>227</td><td>508</td><td>345</td><td> 641</td></tr>\n",
       "\t<tr><td>31</td><td>295</td><td>737</td><td>738</td><td>1006</td></tr>\n",
       "</tbody>\n",
       "</table>\n"
      ],
      "text/latex": [
       "A tibble: 3 × 5\n",
       "\\begin{tabular}{r|lllll}\n",
       " gene995 & gene996 & gene997 & gene998 & gene999\\\\\n",
       " <dbl> & <dbl> & <dbl> & <dbl> & <dbl>\\\\\n",
       "\\hline\n",
       "\t 27 & 325 & 637 & 591 &  848\\\\\n",
       "\t  7 & 227 & 508 & 345 &  641\\\\\n",
       "\t 31 & 295 & 737 & 738 & 1006\\\\\n",
       "\\end{tabular}\n"
      ],
      "text/markdown": [
       "\n",
       "A tibble: 3 × 5\n",
       "\n",
       "| gene995 &lt;dbl&gt; | gene996 &lt;dbl&gt; | gene997 &lt;dbl&gt; | gene998 &lt;dbl&gt; | gene999 &lt;dbl&gt; |\n",
       "|---|---|---|---|---|\n",
       "| 27 | 325 | 637 | 591 |  848 |\n",
       "|  7 | 227 | 508 | 345 |  641 |\n",
       "| 31 | 295 | 737 | 738 | 1006 |\n",
       "\n"
      ],
      "text/plain": [
       "  gene995 gene996 gene997 gene998 gene999\n",
       "1 27      325     637     591      848   \n",
       "2  7      227     508     345      641   \n",
       "3 31      295     737     738     1006   "
      ]
     },
     "metadata": {},
     "output_type": "display_data"
    }
   ],
   "source": [
    "n <- ncol(data)\n",
    "data[1:3, (n-4):n]"
   ]
  },
  {
   "cell_type": "code",
   "execution_count": 6,
   "metadata": {},
   "outputs": [
    {
     "data": {
      "text/html": [
       "<table>\n",
       "<caption>A tibble: 3 × 5</caption>\n",
       "<thead>\n",
       "\t<tr><th scope=col>Sample</th><th scope=col>Method</th><th scope=col>Person</th><th scope=col>Media</th><th scope=col>Strain</th></tr>\n",
       "\t<tr><th scope=col>&lt;chr&gt;</th><th scope=col>&lt;chr&gt;</th><th scope=col>&lt;chr&gt;</th><th scope=col>&lt;chr&gt;</th><th scope=col>&lt;chr&gt;</th></tr>\n",
       "</thead>\n",
       "<tbody>\n",
       "\t<tr><td>1</td><td>MA</td><td>J</td><td>YPD</td><td>H99</td></tr>\n",
       "\t<tr><td>1</td><td>RZ</td><td>J</td><td>YPD</td><td>H99</td></tr>\n",
       "\t<tr><td>2</td><td>MA</td><td>C</td><td>YPD</td><td>H99</td></tr>\n",
       "</tbody>\n",
       "</table>\n"
      ],
      "text/latex": [
       "A tibble: 3 × 5\n",
       "\\begin{tabular}{r|lllll}\n",
       " Sample & Method & Person & Media & Strain\\\\\n",
       " <chr> & <chr> & <chr> & <chr> & <chr>\\\\\n",
       "\\hline\n",
       "\t 1 & MA & J & YPD & H99\\\\\n",
       "\t 1 & RZ & J & YPD & H99\\\\\n",
       "\t 2 & MA & C & YPD & H99\\\\\n",
       "\\end{tabular}\n"
      ],
      "text/markdown": [
       "\n",
       "A tibble: 3 × 5\n",
       "\n",
       "| Sample &lt;chr&gt; | Method &lt;chr&gt; | Person &lt;chr&gt; | Media &lt;chr&gt; | Strain &lt;chr&gt; |\n",
       "|---|---|---|---|---|\n",
       "| 1 | MA | J | YPD | H99 |\n",
       "| 1 | RZ | J | YPD | H99 |\n",
       "| 2 | MA | C | YPD | H99 |\n",
       "\n"
      ],
      "text/plain": [
       "  Sample Method Person Media Strain\n",
       "1 1      MA     J      YPD   H99   \n",
       "2 1      RZ     J      YPD   H99   \n",
       "3 2      MA     C      YPD   H99   "
      ]
     },
     "metadata": {},
     "output_type": "display_data"
    }
   ],
   "source": [
    "data %>%\n",
    "separate(Label, sep='_', into=c(\"Sample\", \"Method\", \"Person\")) %>%\n",
    "select(1:5) %>%\n",
    "head(3)"
   ]
  },
  {
   "cell_type": "code",
   "execution_count": 7,
   "metadata": {},
   "outputs": [],
   "source": [
    "data %>%\n",
    "separate(Label, sep='_', into=c(\"Sample\", \"Method\", \"Person\")) -> df"
   ]
  },
  {
   "cell_type": "code",
   "execution_count": 8,
   "metadata": {},
   "outputs": [
    {
     "data": {
      "text/html": [
       "<table>\n",
       "<caption>A tibble: 6 × 8</caption>\n",
       "<thead>\n",
       "\t<tr><th scope=col>Sample</th><th scope=col>Method</th><th scope=col>Person</th><th scope=col>Media</th><th scope=col>Strain</th><th scope=col>gene0</th><th scope=col>gene1</th><th scope=col>gene10</th></tr>\n",
       "\t<tr><th scope=col>&lt;chr&gt;</th><th scope=col>&lt;chr&gt;</th><th scope=col>&lt;chr&gt;</th><th scope=col>&lt;chr&gt;</th><th scope=col>&lt;chr&gt;</th><th scope=col>&lt;dbl&gt;</th><th scope=col>&lt;dbl&gt;</th><th scope=col>&lt;dbl&gt;</th></tr>\n",
       "</thead>\n",
       "<tbody>\n",
       "\t<tr><td>1</td><td>MA </td><td>J</td><td>YPD</td><td>H99</td><td> 1</td><td>0</td><td>13</td></tr>\n",
       "\t<tr><td>1</td><td>RZ </td><td>J</td><td>YPD</td><td>H99</td><td> 0</td><td>0</td><td>14</td></tr>\n",
       "\t<tr><td>2</td><td>MA </td><td>C</td><td>YPD</td><td>H99</td><td> 0</td><td>0</td><td>10</td></tr>\n",
       "\t<tr><td>2</td><td>RZ </td><td>C</td><td>YPD</td><td>H99</td><td>10</td><td>0</td><td>18</td></tr>\n",
       "\t<tr><td>2</td><td>TOT</td><td>C</td><td>YPD</td><td>H99</td><td> 1</td><td>0</td><td> 0</td></tr>\n",
       "\t<tr><td>3</td><td>MA </td><td>J</td><td>YPD</td><td>H99</td><td> 0</td><td>0</td><td> 8</td></tr>\n",
       "</tbody>\n",
       "</table>\n"
      ],
      "text/latex": [
       "A tibble: 6 × 8\n",
       "\\begin{tabular}{r|llllllll}\n",
       " Sample & Method & Person & Media & Strain & gene0 & gene1 & gene10\\\\\n",
       " <chr> & <chr> & <chr> & <chr> & <chr> & <dbl> & <dbl> & <dbl>\\\\\n",
       "\\hline\n",
       "\t 1 & MA  & J & YPD & H99 &  1 & 0 & 13\\\\\n",
       "\t 1 & RZ  & J & YPD & H99 &  0 & 0 & 14\\\\\n",
       "\t 2 & MA  & C & YPD & H99 &  0 & 0 & 10\\\\\n",
       "\t 2 & RZ  & C & YPD & H99 & 10 & 0 & 18\\\\\n",
       "\t 2 & TOT & C & YPD & H99 &  1 & 0 &  0\\\\\n",
       "\t 3 & MA  & J & YPD & H99 &  0 & 0 &  8\\\\\n",
       "\\end{tabular}\n"
      ],
      "text/markdown": [
       "\n",
       "A tibble: 6 × 8\n",
       "\n",
       "| Sample &lt;chr&gt; | Method &lt;chr&gt; | Person &lt;chr&gt; | Media &lt;chr&gt; | Strain &lt;chr&gt; | gene0 &lt;dbl&gt; | gene1 &lt;dbl&gt; | gene10 &lt;dbl&gt; |\n",
       "|---|---|---|---|---|---|---|---|\n",
       "| 1 | MA  | J | YPD | H99 |  1 | 0 | 13 |\n",
       "| 1 | RZ  | J | YPD | H99 |  0 | 0 | 14 |\n",
       "| 2 | MA  | C | YPD | H99 |  0 | 0 | 10 |\n",
       "| 2 | RZ  | C | YPD | H99 | 10 | 0 | 18 |\n",
       "| 2 | TOT | C | YPD | H99 |  1 | 0 |  0 |\n",
       "| 3 | MA  | J | YPD | H99 |  0 | 0 |  8 |\n",
       "\n"
      ],
      "text/plain": [
       "  Sample Method Person Media Strain gene0 gene1 gene10\n",
       "1 1      MA     J      YPD   H99     1    0     13    \n",
       "2 1      RZ     J      YPD   H99     0    0     14    \n",
       "3 2      MA     C      YPD   H99     0    0     10    \n",
       "4 2      RZ     C      YPD   H99    10    0     18    \n",
       "5 2      TOT    C      YPD   H99     1    0      0    \n",
       "6 3      MA     J      YPD   H99     0    0      8    "
      ]
     },
     "metadata": {},
     "output_type": "display_data"
    }
   ],
   "source": [
    "df %>% \n",
    "select(1:8) %>% \n",
    "head"
   ]
  },
  {
   "cell_type": "markdown",
   "metadata": {},
   "source": [
    "**1**. Plot a scatter plot of gene100 against gene 1001. Color points by the method used. Save the image as a PNG file 'fig1.png' in the 'figs' folder."
   ]
  },
  {
   "cell_type": "code",
   "execution_count": 9,
   "metadata": {},
   "outputs": [
    {
     "name": "stderr",
     "output_type": "stream",
     "text": [
      "Saving 6.67 x 6.67 in image\n"
     ]
    },
    {
     "data": {
      "image/png": "[encoded data removed]",
      "text/plain": [
       "plot without title"
      ]
     },
     "metadata": {},
     "output_type": "display_data"
    }
   ],
   "source": [
    "ggplot(df, aes(x=gene100, y=gene1001, color=Method)) + \n",
    "geom_point()\n",
    "ggsave('figs/fig1.png')"
   ]
  },
  {
   "cell_type": "markdown",
   "metadata": {},
   "source": [
    "**2**. Make a boxplot plot of gene100 counts by method."
   ]
  },
  {
   "cell_type": "code",
   "execution_count": 11,
   "metadata": {},
   "outputs": [
    {
     "name": "stderr",
     "output_type": "stream",
     "text": [
      "Saving 6.67 x 6.67 in image\n"
     ]
    },
    {
     "data": {
      "image/png": "[encoded data removed]",
      "text/plain": [
       "plot without title"
      ]
     },
     "metadata": {},
     "output_type": "display_data"
    }
   ],
   "source": [
    "ggplot(df, aes(x=Method, y=gene100)) +\n",
    "geom_boxplot()\n",
    "ggsave('figs/fig2.png')"
   ]
  },
  {
   "cell_type": "markdown",
   "metadata": {},
   "source": [
    "**3**. Make a jitter plot of gene100 counts by Media and color the points by method. Set the jitter width to be 0.2."
   ]
  },
  {
   "cell_type": "code",
   "execution_count": 13,
   "metadata": {},
   "outputs": [
    {
     "name": "stderr",
     "output_type": "stream",
     "text": [
      "Saving 6.67 x 6.67 in image\n"
     ]
    },
    {
     "data": {
      "image/png": "[encoded data removed]",
      "text/plain": [
       "plot without title"
      ]
     },
     "metadata": {},
     "output_type": "display_data"
    }
   ],
   "source": [
    "ggplot(df, aes(x=Media, y=gene100, color=Method)) +\n",
    "geom_jitter(width=0.2)\n",
    "ggsave('figs/fig3.png')"
   ]
  },
  {
   "cell_type": "markdown",
   "metadata": {},
   "source": [
    "**4**. Make a grid of histograms of counts for gene100, with rows showing the person and columns showing the method used."
   ]
  },
  {
   "cell_type": "code",
   "execution_count": 16,
   "metadata": {},
   "outputs": [
    {
     "name": "stderr",
     "output_type": "stream",
     "text": [
      "Saving 6.67 x 6.67 in image\n"
     ]
    },
    {
     "data": {
      "image/png": "[encoded data removed]",
      "text/plain": [
       "plot without title"
      ]
     },
     "metadata": {},
     "output_type": "display_data"
    }
   ],
   "source": [
    "ggplot(df, aes(x=gene100)) +\n",
    "facet_grid(Person ~ Method) +\n",
    "geom_histogram(binwidth=50) \n",
    "ggsave('figs/fig4.png')"
   ]
  },
  {
   "cell_type": "markdown",
   "metadata": {},
   "source": [
    "**5**. Make a row of boxplots of log counts of the top 5 genes where each column shows a different method.\n",
    "\n",
    "**Warning**: This involves quite a bit of data processing."
   ]
  },
  {
   "cell_type": "code",
   "execution_count": 17,
   "metadata": {},
   "outputs": [],
   "source": [
    "genes.top5 <- df %>% \n",
    "select(starts_with('gene')) %>% \n",
    "summarize_all(mean) %>% \n",
    "gather() %>% \n",
    "arrange(desc(value)) %>%\n",
    "head(5)"
   ]
  },
  {
   "cell_type": "code",
   "execution_count": 18,
   "metadata": {},
   "outputs": [
    {
     "data": {
      "text/html": [
       "<table>\n",
       "<caption>A tibble: 5 × 2</caption>\n",
       "<thead>\n",
       "\t<tr><th scope=col>key</th><th scope=col>value</th></tr>\n",
       "\t<tr><th scope=col>&lt;chr&gt;</th><th scope=col>&lt;dbl&gt;</th></tr>\n",
       "</thead>\n",
       "<tbody>\n",
       "\t<tr><td>gene1139</td><td>884531.49</td></tr>\n",
       "\t<tr><td>gene1136</td><td>484816.47</td></tr>\n",
       "\t<tr><td>gene7418</td><td>132744.71</td></tr>\n",
       "\t<tr><td>gene363 </td><td> 62325.08</td></tr>\n",
       "\t<tr><td>gene7387</td><td> 45986.86</td></tr>\n",
       "</tbody>\n",
       "</table>\n"
      ],
      "text/latex": [
       "A tibble: 5 × 2\n",
       "\\begin{tabular}{r|ll}\n",
       " key & value\\\\\n",
       " <chr> & <dbl>\\\\\n",
       "\\hline\n",
       "\t gene1139 & 884531.49\\\\\n",
       "\t gene1136 & 484816.47\\\\\n",
       "\t gene7418 & 132744.71\\\\\n",
       "\t gene363  &  62325.08\\\\\n",
       "\t gene7387 &  45986.86\\\\\n",
       "\\end{tabular}\n"
      ],
      "text/markdown": [
       "\n",
       "A tibble: 5 × 2\n",
       "\n",
       "| key &lt;chr&gt; | value &lt;dbl&gt; |\n",
       "|---|---|\n",
       "| gene1139 | 884531.49 |\n",
       "| gene1136 | 484816.47 |\n",
       "| gene7418 | 132744.71 |\n",
       "| gene363  |  62325.08 |\n",
       "| gene7387 |  45986.86 |\n",
       "\n"
      ],
      "text/plain": [
       "  key      value    \n",
       "1 gene1139 884531.49\n",
       "2 gene1136 484816.47\n",
       "3 gene7418 132744.71\n",
       "4 gene363   62325.08\n",
       "5 gene7387  45986.86"
      ]
     },
     "metadata": {},
     "output_type": "display_data"
    }
   ],
   "source": [
    "genes.top5"
   ]
  },
  {
   "cell_type": "code",
   "execution_count": 19,
   "metadata": {},
   "outputs": [
    {
     "data": {
      "text/html": [
       "<ol class=list-inline>\n",
       "\t<li>'gene1139'</li>\n",
       "\t<li>'gene1136'</li>\n",
       "\t<li>'gene7418'</li>\n",
       "\t<li>'gene363'</li>\n",
       "\t<li>'gene7387'</li>\n",
       "</ol>\n"
      ],
      "text/latex": [
       "\\begin{enumerate*}\n",
       "\\item 'gene1139'\n",
       "\\item 'gene1136'\n",
       "\\item 'gene7418'\n",
       "\\item 'gene363'\n",
       "\\item 'gene7387'\n",
       "\\end{enumerate*}\n"
      ],
      "text/markdown": [
       "1. 'gene1139'\n",
       "2. 'gene1136'\n",
       "3. 'gene7418'\n",
       "4. 'gene363'\n",
       "5. 'gene7387'\n",
       "\n",
       "\n"
      ],
      "text/plain": [
       "[1] \"gene1139\" \"gene1136\" \"gene7418\" \"gene363\"  \"gene7387\""
      ]
     },
     "metadata": {},
     "output_type": "display_data"
    }
   ],
   "source": [
    "genes.top5$key"
   ]
  },
  {
   "cell_type": "code",
   "execution_count": 22,
   "metadata": {},
   "outputs": [
    {
     "name": "stderr",
     "output_type": "stream",
     "text": [
      "Saving 6.67 x 6.67 in image\n"
     ]
    },
    {
     "data": {
      "image/png": "[encoded data removed]",
      "text/plain": [
       "plot without title"
      ]
     },
     "metadata": {},
     "output_type": "display_data"
    }
   ],
   "source": [
    "df %>% \n",
    "select(c('Method', genes.top5$key)) %>%\n",
    "gather(gene, count, -Method) %>%\n",
    "mutate(logcount = log(count)) %>%\n",
    "ggplot(aes(x=gene, y=logcount)) +\n",
    "geom_boxplot() + \n",
    "facet_wrap(~ Method) +\n",
    "theme(axis.text.x = element_text(angle = 90, hjust = 1))\n",
    "ggsave('figs/fig5.png')"
   ]
  },
  {
   "cell_type": "code",
   "execution_count": null,
   "metadata": {},
   "outputs": [],
   "source": []
  }
 ],
 "metadata": {
  "kernelspec": {
   "display_name": "R",
   "language": "R",
   "name": "ir"
  },
  "language_info": {
   "codemirror_mode": "r",
   "file_extension": ".r",
   "mimetype": "text/x-r-source",
   "name": "R",
   "pygments_lexer": "r",
   "version": "3.6.0"
  }
 },
 "nbformat": 4,
 "nbformat_minor": 2
}
