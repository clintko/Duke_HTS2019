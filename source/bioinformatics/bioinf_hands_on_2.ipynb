{
 "cells": [
  {
   "cell_type": "markdown",
   "metadata": {},
   "source": [
    "# Hands On Bioinformatics Exercise #2"
   ]
  },
  {
   "cell_type": "code",
   "execution_count": null,
   "metadata": {},
   "outputs": [],
   "source": [
    "source bioinf_intro_config.sh"
   ]
  },
  {
   "cell_type": "markdown",
   "metadata": {},
   "source": [
    "1. In the [More Complex Globs](glob_loop.ipynb#More-Complex-Globs) section of the *Looping with Globs notebook*, we made a glob to refer to \"2019\" samples 10 through 19, Lanes 1 through 4.  It works, but it is a bit sloppy in places.  There are at least two changes that can make the glob more specific, so it is less likely to accidentally match incorrect filenames.  Try to figure out those changes:\n",
    "\n",
    "<!---\n",
    "ls $RAW_FASTQS/1?_2019_*_L00[1-4]_R1_001.fastq.gz\n",
    "ls $RAW_FASTQS/1[0-9]_2019_P_M1_S*_L00[1-4]_R1_001.fastq.gz\n",
    "-->"
   ]
  },
  {
   "cell_type": "code",
   "execution_count": null,
   "metadata": {},
   "outputs": [],
   "source": [
    "ls $RAW_FASTQS/1?_2019_*_L00[1-4]_R1_001.fastq.gz"
   ]
  },
  {
   "cell_type": "markdown",
   "metadata": {},
   "source": [
    "2. In the [A globy pipeline](glob_loop.ipynb#A-globy-pipeline) section of the *Looping with Globs notebook*, we used a glob to analyze Lanes 1 through 4 of library 21_2019. Run the trimming and mapping pipeline on Lanes 2 and 3 of library 18_2019.\n",
    "\n",
    "3. Now try running the trimming and mapping pipeline on Lanes 2 and 4 of library 7_2019.\n",
    "\n",
    "## Bonus\n",
    "1. Incorporate FASTQC in your analysis pipeline, and run it on Lanes 1, 3, and 4 of 18_2019"
   ]
  }
 ],
 "metadata": {
  "kernelspec": {
   "display_name": "Bash",
   "language": "bash",
   "name": "bash"
  },
  "language_info": {
   "codemirror_mode": "shell",
   "file_extension": ".sh",
   "mimetype": "text/x-sh",
   "name": "bash"
  }
 },
 "nbformat": 4,
 "nbformat_minor": 2
}
