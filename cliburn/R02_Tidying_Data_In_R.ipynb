{
 "cells": [
  {
   "cell_type": "markdown",
   "metadata": {},
   "source": [
    "# Tidying Data in R"
   ]
  },
  {
   "cell_type": "code",
   "execution_count": 2,
   "metadata": {},
   "outputs": [
    {
     "name": "stderr",
     "output_type": "stream",
     "text": [
      "── Attaching packages ─────────────────────────────────────── tidyverse 1.2.1 ──\n",
      "✔ ggplot2 3.1.0     ✔ purrr   0.2.5\n",
      "✔ tibble  1.4.2     ✔ dplyr   0.7.8\n",
      "✔ tidyr   0.8.2     ✔ stringr 1.3.1\n",
      "✔ readr   1.2.1     ✔ forcats 0.3.0\n",
      "── Conflicts ────────────────────────────────────────── tidyverse_conflicts() ──\n",
      "✖ dplyr::filter() masks stats::filter()\n",
      "✖ dplyr::lag()    masks stats::lag()\n"
     ]
    }
   ],
   "source": [
    "library(tidyverse)"
   ]
  },
  {
   "cell_type": "markdown",
   "metadata": {},
   "source": [
    "## What is tidy data?"
   ]
  },
  {
   "cell_type": "code",
   "execution_count": 4,
   "metadata": {},
   "outputs": [],
   "source": []
  },
  {
   "cell_type": "markdown",
   "metadata": {},
   "source": [
    "## Creating toy data"
   ]
  },
  {
   "cell_type": "code",
   "execution_count": null,
   "metadata": {},
   "outputs": [],
   "source": []
  },
  {
   "cell_type": "markdown",
   "metadata": {},
   "source": [
    "## Gather and spread"
   ]
  },
  {
   "cell_type": "code",
   "execution_count": null,
   "metadata": {},
   "outputs": [],
   "source": []
  },
  {
   "cell_type": "markdown",
   "metadata": {},
   "source": [
    "## Separate, extract and unite"
   ]
  },
  {
   "cell_type": "code",
   "execution_count": null,
   "metadata": {},
   "outputs": [],
   "source": []
  },
  {
   "cell_type": "markdown",
   "metadata": {},
   "source": [
    "## Join"
   ]
  },
  {
   "cell_type": "code",
   "execution_count": null,
   "metadata": {},
   "outputs": [],
   "source": []
  },
  {
   "cell_type": "markdown",
   "metadata": {},
   "source": [
    "## Tidying WHO TB data"
   ]
  },
  {
   "cell_type": "code",
   "execution_count": 62,
   "metadata": {},
   "outputs": [
    {
     "data": {
      "text/html": [
       "<table>\n",
       "<thead><tr><th scope=col>country</th><th scope=col>iso2</th><th scope=col>iso3</th><th scope=col>year</th><th scope=col>new_sp_m014</th><th scope=col>new_sp_m1524</th><th scope=col>new_sp_m2534</th><th scope=col>new_sp_m3544</th><th scope=col>new_sp_m4554</th><th scope=col>new_sp_m5564</th><th scope=col>⋯</th><th scope=col>newrel_m4554</th><th scope=col>newrel_m5564</th><th scope=col>newrel_m65</th><th scope=col>newrel_f014</th><th scope=col>newrel_f1524</th><th scope=col>newrel_f2534</th><th scope=col>newrel_f3544</th><th scope=col>newrel_f4554</th><th scope=col>newrel_f5564</th><th scope=col>newrel_f65</th></tr></thead>\n",
       "<tbody>\n",
       "\t<tr><td>Afghanistan</td><td>AF         </td><td>AFG        </td><td>1980       </td><td>NA         </td><td>NA         </td><td>NA         </td><td>NA         </td><td>NA         </td><td>NA         </td><td>⋯          </td><td>NA         </td><td>NA         </td><td>NA         </td><td>NA         </td><td>NA         </td><td>NA         </td><td>NA         </td><td>NA         </td><td>NA         </td><td>NA         </td></tr>\n",
       "\t<tr><td>Afghanistan</td><td>AF         </td><td>AFG        </td><td>1981       </td><td>NA         </td><td>NA         </td><td>NA         </td><td>NA         </td><td>NA         </td><td>NA         </td><td>⋯          </td><td>NA         </td><td>NA         </td><td>NA         </td><td>NA         </td><td>NA         </td><td>NA         </td><td>NA         </td><td>NA         </td><td>NA         </td><td>NA         </td></tr>\n",
       "\t<tr><td>Afghanistan</td><td>AF         </td><td>AFG        </td><td>1982       </td><td>NA         </td><td>NA         </td><td>NA         </td><td>NA         </td><td>NA         </td><td>NA         </td><td>⋯          </td><td>NA         </td><td>NA         </td><td>NA         </td><td>NA         </td><td>NA         </td><td>NA         </td><td>NA         </td><td>NA         </td><td>NA         </td><td>NA         </td></tr>\n",
       "\t<tr><td>Afghanistan</td><td>AF         </td><td>AFG        </td><td>1983       </td><td>NA         </td><td>NA         </td><td>NA         </td><td>NA         </td><td>NA         </td><td>NA         </td><td>⋯          </td><td>NA         </td><td>NA         </td><td>NA         </td><td>NA         </td><td>NA         </td><td>NA         </td><td>NA         </td><td>NA         </td><td>NA         </td><td>NA         </td></tr>\n",
       "\t<tr><td>Afghanistan</td><td>AF         </td><td>AFG        </td><td>1984       </td><td>NA         </td><td>NA         </td><td>NA         </td><td>NA         </td><td>NA         </td><td>NA         </td><td>⋯          </td><td>NA         </td><td>NA         </td><td>NA         </td><td>NA         </td><td>NA         </td><td>NA         </td><td>NA         </td><td>NA         </td><td>NA         </td><td>NA         </td></tr>\n",
       "\t<tr><td>Afghanistan</td><td>AF         </td><td>AFG        </td><td>1985       </td><td>NA         </td><td>NA         </td><td>NA         </td><td>NA         </td><td>NA         </td><td>NA         </td><td>⋯          </td><td>NA         </td><td>NA         </td><td>NA         </td><td>NA         </td><td>NA         </td><td>NA         </td><td>NA         </td><td>NA         </td><td>NA         </td><td>NA         </td></tr>\n",
       "</tbody>\n",
       "</table>\n"
      ],
      "text/latex": [
       "\\begin{tabular}{r|llllllllllllllllllllllllllllllllllllllllllllllllllllllllllll}\n",
       " country & iso2 & iso3 & year & new\\_sp\\_m014 & new\\_sp\\_m1524 & new\\_sp\\_m2534 & new\\_sp\\_m3544 & new\\_sp\\_m4554 & new\\_sp\\_m5564 & ⋯ & newrel\\_m4554 & newrel\\_m5564 & newrel\\_m65 & newrel\\_f014 & newrel\\_f1524 & newrel\\_f2534 & newrel\\_f3544 & newrel\\_f4554 & newrel\\_f5564 & newrel\\_f65\\\\\n",
       "\\hline\n",
       "\t Afghanistan & AF          & AFG         & 1980        & NA          & NA          & NA          & NA          & NA          & NA          & ⋯           & NA          & NA          & NA          & NA          & NA          & NA          & NA          & NA          & NA          & NA         \\\\\n",
       "\t Afghanistan & AF          & AFG         & 1981        & NA          & NA          & NA          & NA          & NA          & NA          & ⋯           & NA          & NA          & NA          & NA          & NA          & NA          & NA          & NA          & NA          & NA         \\\\\n",
       "\t Afghanistan & AF          & AFG         & 1982        & NA          & NA          & NA          & NA          & NA          & NA          & ⋯           & NA          & NA          & NA          & NA          & NA          & NA          & NA          & NA          & NA          & NA         \\\\\n",
       "\t Afghanistan & AF          & AFG         & 1983        & NA          & NA          & NA          & NA          & NA          & NA          & ⋯           & NA          & NA          & NA          & NA          & NA          & NA          & NA          & NA          & NA          & NA         \\\\\n",
       "\t Afghanistan & AF          & AFG         & 1984        & NA          & NA          & NA          & NA          & NA          & NA          & ⋯           & NA          & NA          & NA          & NA          & NA          & NA          & NA          & NA          & NA          & NA         \\\\\n",
       "\t Afghanistan & AF          & AFG         & 1985        & NA          & NA          & NA          & NA          & NA          & NA          & ⋯           & NA          & NA          & NA          & NA          & NA          & NA          & NA          & NA          & NA          & NA         \\\\\n",
       "\\end{tabular}\n"
      ],
      "text/markdown": [
       "\n",
       "country | iso2 | iso3 | year | new_sp_m014 | new_sp_m1524 | new_sp_m2534 | new_sp_m3544 | new_sp_m4554 | new_sp_m5564 | ⋯ | newrel_m4554 | newrel_m5564 | newrel_m65 | newrel_f014 | newrel_f1524 | newrel_f2534 | newrel_f3544 | newrel_f4554 | newrel_f5564 | newrel_f65 | \n",
       "|---|---|---|---|---|---|\n",
       "| Afghanistan | AF          | AFG         | 1980        | NA          | NA          | NA          | NA          | NA          | NA          | ⋯           | NA          | NA          | NA          | NA          | NA          | NA          | NA          | NA          | NA          | NA          | \n",
       "| Afghanistan | AF          | AFG         | 1981        | NA          | NA          | NA          | NA          | NA          | NA          | ⋯           | NA          | NA          | NA          | NA          | NA          | NA          | NA          | NA          | NA          | NA          | \n",
       "| Afghanistan | AF          | AFG         | 1982        | NA          | NA          | NA          | NA          | NA          | NA          | ⋯           | NA          | NA          | NA          | NA          | NA          | NA          | NA          | NA          | NA          | NA          | \n",
       "| Afghanistan | AF          | AFG         | 1983        | NA          | NA          | NA          | NA          | NA          | NA          | ⋯           | NA          | NA          | NA          | NA          | NA          | NA          | NA          | NA          | NA          | NA          | \n",
       "| Afghanistan | AF          | AFG         | 1984        | NA          | NA          | NA          | NA          | NA          | NA          | ⋯           | NA          | NA          | NA          | NA          | NA          | NA          | NA          | NA          | NA          | NA          | \n",
       "| Afghanistan | AF          | AFG         | 1985        | NA          | NA          | NA          | NA          | NA          | NA          | ⋯           | NA          | NA          | NA          | NA          | NA          | NA          | NA          | NA          | NA          | NA          | \n",
       "\n",
       "\n"
      ],
      "text/plain": [
       "  country     iso2 iso3 year new_sp_m014 new_sp_m1524 new_sp_m2534 new_sp_m3544\n",
       "1 Afghanistan AF   AFG  1980 NA          NA           NA           NA          \n",
       "2 Afghanistan AF   AFG  1981 NA          NA           NA           NA          \n",
       "3 Afghanistan AF   AFG  1982 NA          NA           NA           NA          \n",
       "4 Afghanistan AF   AFG  1983 NA          NA           NA           NA          \n",
       "5 Afghanistan AF   AFG  1984 NA          NA           NA           NA          \n",
       "6 Afghanistan AF   AFG  1985 NA          NA           NA           NA          \n",
       "  new_sp_m4554 new_sp_m5564 ⋯ newrel_m4554 newrel_m5564 newrel_m65 newrel_f014\n",
       "1 NA           NA           ⋯ NA           NA           NA         NA         \n",
       "2 NA           NA           ⋯ NA           NA           NA         NA         \n",
       "3 NA           NA           ⋯ NA           NA           NA         NA         \n",
       "4 NA           NA           ⋯ NA           NA           NA         NA         \n",
       "5 NA           NA           ⋯ NA           NA           NA         NA         \n",
       "6 NA           NA           ⋯ NA           NA           NA         NA         \n",
       "  newrel_f1524 newrel_f2534 newrel_f3544 newrel_f4554 newrel_f5564 newrel_f65\n",
       "1 NA           NA           NA           NA           NA           NA        \n",
       "2 NA           NA           NA           NA           NA           NA        \n",
       "3 NA           NA           NA           NA           NA           NA        \n",
       "4 NA           NA           NA           NA           NA           NA        \n",
       "5 NA           NA           NA           NA           NA           NA        \n",
       "6 NA           NA           NA           NA           NA           NA        "
      ]
     },
     "metadata": {},
     "output_type": "display_data"
    }
   ],
   "source": [
    "head(who)"
   ]
  },
  {
   "cell_type": "code",
   "execution_count": 64,
   "metadata": {},
   "outputs": [],
   "source": [
    "who %>% gather(variable, value, -c(country, iso2, iso3, year)) -> who_1"
   ]
  },
  {
   "cell_type": "code",
   "execution_count": 65,
   "metadata": {},
   "outputs": [
    {
     "data": {
      "text/html": [
       "<table>\n",
       "<thead><tr><th scope=col>country</th><th scope=col>iso2</th><th scope=col>iso3</th><th scope=col>year</th><th scope=col>variable</th><th scope=col>value</th></tr></thead>\n",
       "<tbody>\n",
       "\t<tr><td>Afghanistan</td><td>AF         </td><td>AFG        </td><td>1980       </td><td>new_sp_m014</td><td>NA         </td></tr>\n",
       "\t<tr><td>Afghanistan</td><td>AF         </td><td>AFG        </td><td>1981       </td><td>new_sp_m014</td><td>NA         </td></tr>\n",
       "\t<tr><td>Afghanistan</td><td>AF         </td><td>AFG        </td><td>1982       </td><td>new_sp_m014</td><td>NA         </td></tr>\n",
       "\t<tr><td>Afghanistan</td><td>AF         </td><td>AFG        </td><td>1983       </td><td>new_sp_m014</td><td>NA         </td></tr>\n",
       "\t<tr><td>Afghanistan</td><td>AF         </td><td>AFG        </td><td>1984       </td><td>new_sp_m014</td><td>NA         </td></tr>\n",
       "\t<tr><td>Afghanistan</td><td>AF         </td><td>AFG        </td><td>1985       </td><td>new_sp_m014</td><td>NA         </td></tr>\n",
       "</tbody>\n",
       "</table>\n"
      ],
      "text/latex": [
       "\\begin{tabular}{r|llllll}\n",
       " country & iso2 & iso3 & year & variable & value\\\\\n",
       "\\hline\n",
       "\t Afghanistan     & AF              & AFG             & 1980            & new\\_sp\\_m014 & NA             \\\\\n",
       "\t Afghanistan     & AF              & AFG             & 1981            & new\\_sp\\_m014 & NA             \\\\\n",
       "\t Afghanistan     & AF              & AFG             & 1982            & new\\_sp\\_m014 & NA             \\\\\n",
       "\t Afghanistan     & AF              & AFG             & 1983            & new\\_sp\\_m014 & NA             \\\\\n",
       "\t Afghanistan     & AF              & AFG             & 1984            & new\\_sp\\_m014 & NA             \\\\\n",
       "\t Afghanistan     & AF              & AFG             & 1985            & new\\_sp\\_m014 & NA             \\\\\n",
       "\\end{tabular}\n"
      ],
      "text/markdown": [
       "\n",
       "country | iso2 | iso3 | year | variable | value | \n",
       "|---|---|---|---|---|---|\n",
       "| Afghanistan | AF          | AFG         | 1980        | new_sp_m014 | NA          | \n",
       "| Afghanistan | AF          | AFG         | 1981        | new_sp_m014 | NA          | \n",
       "| Afghanistan | AF          | AFG         | 1982        | new_sp_m014 | NA          | \n",
       "| Afghanistan | AF          | AFG         | 1983        | new_sp_m014 | NA          | \n",
       "| Afghanistan | AF          | AFG         | 1984        | new_sp_m014 | NA          | \n",
       "| Afghanistan | AF          | AFG         | 1985        | new_sp_m014 | NA          | \n",
       "\n",
       "\n"
      ],
      "text/plain": [
       "  country     iso2 iso3 year variable    value\n",
       "1 Afghanistan AF   AFG  1980 new_sp_m014 NA   \n",
       "2 Afghanistan AF   AFG  1981 new_sp_m014 NA   \n",
       "3 Afghanistan AF   AFG  1982 new_sp_m014 NA   \n",
       "4 Afghanistan AF   AFG  1983 new_sp_m014 NA   \n",
       "5 Afghanistan AF   AFG  1984 new_sp_m014 NA   \n",
       "6 Afghanistan AF   AFG  1985 new_sp_m014 NA   "
      ]
     },
     "metadata": {},
     "output_type": "display_data"
    }
   ],
   "source": [
    "who_1 %>% head"
   ]
  },
  {
   "cell_type": "code",
   "execution_count": 81,
   "metadata": {},
   "outputs": [],
   "source": [
    "who_1 %>% mutate(variable = str_replace(variable, 'newrel', 'new_rel')) -> who_2"
   ]
  },
  {
   "cell_type": "code",
   "execution_count": 82,
   "metadata": {},
   "outputs": [
    {
     "data": {
      "text/html": [
       "<table>\n",
       "<thead><tr><th scope=col>country</th><th scope=col>iso2</th><th scope=col>iso3</th><th scope=col>year</th><th scope=col>variable</th><th scope=col>value</th></tr></thead>\n",
       "<tbody>\n",
       "\t<tr><td>Qatar                           </td><td>QA                              </td><td>QAT                             </td><td>2008                            </td><td>new_rel_m3544                   </td><td>NA                              </td></tr>\n",
       "\t<tr><td>Gabon                           </td><td>GA                              </td><td>GAB                             </td><td>1981                            </td><td>new_rel_f3544                   </td><td>NA                              </td></tr>\n",
       "\t<tr><td>Montserrat                      </td><td>MS                              </td><td>MSR                             </td><td>2008                            </td><td>new_sp_f3544                    </td><td>NA                              </td></tr>\n",
       "\t<tr><td>Lao People's Democratic Republic</td><td>LA                              </td><td>LAO                             </td><td>1988                            </td><td>new_ep_m1524                    </td><td>NA                              </td></tr>\n",
       "\t<tr><td>Iceland                         </td><td>IS                              </td><td>ISL                             </td><td>1982                            </td><td>new_ep_m65                      </td><td>NA                              </td></tr>\n",
       "</tbody>\n",
       "</table>\n"
      ],
      "text/latex": [
       "\\begin{tabular}{r|llllll}\n",
       " country & iso2 & iso3 & year & variable & value\\\\\n",
       "\\hline\n",
       "\t Qatar                            & QA                               & QAT                              & 2008                             & new\\_rel\\_m3544                & NA                              \\\\\n",
       "\t Gabon                            & GA                               & GAB                              & 1981                             & new\\_rel\\_f3544                & NA                              \\\\\n",
       "\t Montserrat                       & MS                               & MSR                              & 2008                             & new\\_sp\\_f3544                 & NA                              \\\\\n",
       "\t Lao People's Democratic Republic & LA                               & LAO                              & 1988                             & new\\_ep\\_m1524                 & NA                              \\\\\n",
       "\t Iceland                          & IS                               & ISL                              & 1982                             & new\\_ep\\_m65                   & NA                              \\\\\n",
       "\\end{tabular}\n"
      ],
      "text/markdown": [
       "\n",
       "country | iso2 | iso3 | year | variable | value | \n",
       "|---|---|---|---|---|\n",
       "| Qatar                            | QA                               | QAT                              | 2008                             | new_rel_m3544                    | NA                               | \n",
       "| Gabon                            | GA                               | GAB                              | 1981                             | new_rel_f3544                    | NA                               | \n",
       "| Montserrat                       | MS                               | MSR                              | 2008                             | new_sp_f3544                     | NA                               | \n",
       "| Lao People's Democratic Republic | LA                               | LAO                              | 1988                             | new_ep_m1524                     | NA                               | \n",
       "| Iceland                          | IS                               | ISL                              | 1982                             | new_ep_m65                       | NA                               | \n",
       "\n",
       "\n"
      ],
      "text/plain": [
       "  country                          iso2 iso3 year variable      value\n",
       "1 Qatar                            QA   QAT  2008 new_rel_m3544 NA   \n",
       "2 Gabon                            GA   GAB  1981 new_rel_f3544 NA   \n",
       "3 Montserrat                       MS   MSR  2008 new_sp_f3544  NA   \n",
       "4 Lao People's Democratic Republic LA   LAO  1988 new_ep_m1524  NA   \n",
       "5 Iceland                          IS   ISL  1982 new_ep_m65    NA   "
      ]
     },
     "metadata": {},
     "output_type": "display_data"
    }
   ],
   "source": [
    "who_2 %>% sample_n(5)"
   ]
  },
  {
   "cell_type": "code",
   "execution_count": 83,
   "metadata": {},
   "outputs": [],
   "source": [
    "who_2 %>% separate(variable, sep = '_', into=c('type', 'response', 'sex_age')) -> who_3"
   ]
  },
  {
   "cell_type": "code",
   "execution_count": 84,
   "metadata": {},
   "outputs": [
    {
     "data": {
      "text/html": [
       "<table>\n",
       "<thead><tr><th scope=col>country</th><th scope=col>iso2</th><th scope=col>iso3</th><th scope=col>year</th><th scope=col>type</th><th scope=col>response</th><th scope=col>sex_age</th><th scope=col>value</th></tr></thead>\n",
       "<tbody>\n",
       "\t<tr><td>Afghanistan</td><td>AF         </td><td>AFG        </td><td>1980       </td><td>new        </td><td>sp         </td><td>m014       </td><td>NA         </td></tr>\n",
       "\t<tr><td>Afghanistan</td><td>AF         </td><td>AFG        </td><td>1981       </td><td>new        </td><td>sp         </td><td>m014       </td><td>NA         </td></tr>\n",
       "\t<tr><td>Afghanistan</td><td>AF         </td><td>AFG        </td><td>1982       </td><td>new        </td><td>sp         </td><td>m014       </td><td>NA         </td></tr>\n",
       "\t<tr><td>Afghanistan</td><td>AF         </td><td>AFG        </td><td>1983       </td><td>new        </td><td>sp         </td><td>m014       </td><td>NA         </td></tr>\n",
       "\t<tr><td>Afghanistan</td><td>AF         </td><td>AFG        </td><td>1984       </td><td>new        </td><td>sp         </td><td>m014       </td><td>NA         </td></tr>\n",
       "\t<tr><td>Afghanistan</td><td>AF         </td><td>AFG        </td><td>1985       </td><td>new        </td><td>sp         </td><td>m014       </td><td>NA         </td></tr>\n",
       "</tbody>\n",
       "</table>\n"
      ],
      "text/latex": [
       "\\begin{tabular}{r|llllllll}\n",
       " country & iso2 & iso3 & year & type & response & sex\\_age & value\\\\\n",
       "\\hline\n",
       "\t Afghanistan & AF          & AFG         & 1980        & new         & sp          & m014        & NA         \\\\\n",
       "\t Afghanistan & AF          & AFG         & 1981        & new         & sp          & m014        & NA         \\\\\n",
       "\t Afghanistan & AF          & AFG         & 1982        & new         & sp          & m014        & NA         \\\\\n",
       "\t Afghanistan & AF          & AFG         & 1983        & new         & sp          & m014        & NA         \\\\\n",
       "\t Afghanistan & AF          & AFG         & 1984        & new         & sp          & m014        & NA         \\\\\n",
       "\t Afghanistan & AF          & AFG         & 1985        & new         & sp          & m014        & NA         \\\\\n",
       "\\end{tabular}\n"
      ],
      "text/markdown": [
       "\n",
       "country | iso2 | iso3 | year | type | response | sex_age | value | \n",
       "|---|---|---|---|---|---|\n",
       "| Afghanistan | AF          | AFG         | 1980        | new         | sp          | m014        | NA          | \n",
       "| Afghanistan | AF          | AFG         | 1981        | new         | sp          | m014        | NA          | \n",
       "| Afghanistan | AF          | AFG         | 1982        | new         | sp          | m014        | NA          | \n",
       "| Afghanistan | AF          | AFG         | 1983        | new         | sp          | m014        | NA          | \n",
       "| Afghanistan | AF          | AFG         | 1984        | new         | sp          | m014        | NA          | \n",
       "| Afghanistan | AF          | AFG         | 1985        | new         | sp          | m014        | NA          | \n",
       "\n",
       "\n"
      ],
      "text/plain": [
       "  country     iso2 iso3 year type response sex_age value\n",
       "1 Afghanistan AF   AFG  1980 new  sp       m014    NA   \n",
       "2 Afghanistan AF   AFG  1981 new  sp       m014    NA   \n",
       "3 Afghanistan AF   AFG  1982 new  sp       m014    NA   \n",
       "4 Afghanistan AF   AFG  1983 new  sp       m014    NA   \n",
       "5 Afghanistan AF   AFG  1984 new  sp       m014    NA   \n",
       "6 Afghanistan AF   AFG  1985 new  sp       m014    NA   "
      ]
     },
     "metadata": {},
     "output_type": "display_data"
    }
   ],
   "source": [
    "who_3 %>% head"
   ]
  },
  {
   "cell_type": "code",
   "execution_count": 86,
   "metadata": {},
   "outputs": [],
   "source": [
    "who_3 %>% extract(sex_age, \"(^.)(.*)\", into=c(\"sex\", \"age_group\")) -> who_4"
   ]
  },
  {
   "cell_type": "code",
   "execution_count": 87,
   "metadata": {},
   "outputs": [
    {
     "data": {
      "text/html": [
       "<table>\n",
       "<thead><tr><th scope=col>country</th><th scope=col>iso2</th><th scope=col>iso3</th><th scope=col>year</th><th scope=col>type</th><th scope=col>response</th><th scope=col>sex</th><th scope=col>age_group</th><th scope=col>value</th></tr></thead>\n",
       "<tbody>\n",
       "\t<tr><td>Afghanistan</td><td>AF         </td><td>AFG        </td><td>1980       </td><td>new        </td><td>sp         </td><td>m          </td><td>014        </td><td>NA         </td></tr>\n",
       "\t<tr><td>Afghanistan</td><td>AF         </td><td>AFG        </td><td>1981       </td><td>new        </td><td>sp         </td><td>m          </td><td>014        </td><td>NA         </td></tr>\n",
       "\t<tr><td>Afghanistan</td><td>AF         </td><td>AFG        </td><td>1982       </td><td>new        </td><td>sp         </td><td>m          </td><td>014        </td><td>NA         </td></tr>\n",
       "\t<tr><td>Afghanistan</td><td>AF         </td><td>AFG        </td><td>1983       </td><td>new        </td><td>sp         </td><td>m          </td><td>014        </td><td>NA         </td></tr>\n",
       "\t<tr><td>Afghanistan</td><td>AF         </td><td>AFG        </td><td>1984       </td><td>new        </td><td>sp         </td><td>m          </td><td>014        </td><td>NA         </td></tr>\n",
       "\t<tr><td>Afghanistan</td><td>AF         </td><td>AFG        </td><td>1985       </td><td>new        </td><td>sp         </td><td>m          </td><td>014        </td><td>NA         </td></tr>\n",
       "</tbody>\n",
       "</table>\n"
      ],
      "text/latex": [
       "\\begin{tabular}{r|lllllllll}\n",
       " country & iso2 & iso3 & year & type & response & sex & age\\_group & value\\\\\n",
       "\\hline\n",
       "\t Afghanistan & AF          & AFG         & 1980        & new         & sp          & m           & 014         & NA         \\\\\n",
       "\t Afghanistan & AF          & AFG         & 1981        & new         & sp          & m           & 014         & NA         \\\\\n",
       "\t Afghanistan & AF          & AFG         & 1982        & new         & sp          & m           & 014         & NA         \\\\\n",
       "\t Afghanistan & AF          & AFG         & 1983        & new         & sp          & m           & 014         & NA         \\\\\n",
       "\t Afghanistan & AF          & AFG         & 1984        & new         & sp          & m           & 014         & NA         \\\\\n",
       "\t Afghanistan & AF          & AFG         & 1985        & new         & sp          & m           & 014         & NA         \\\\\n",
       "\\end{tabular}\n"
      ],
      "text/markdown": [
       "\n",
       "country | iso2 | iso3 | year | type | response | sex | age_group | value | \n",
       "|---|---|---|---|---|---|\n",
       "| Afghanistan | AF          | AFG         | 1980        | new         | sp          | m           | 014         | NA          | \n",
       "| Afghanistan | AF          | AFG         | 1981        | new         | sp          | m           | 014         | NA          | \n",
       "| Afghanistan | AF          | AFG         | 1982        | new         | sp          | m           | 014         | NA          | \n",
       "| Afghanistan | AF          | AFG         | 1983        | new         | sp          | m           | 014         | NA          | \n",
       "| Afghanistan | AF          | AFG         | 1984        | new         | sp          | m           | 014         | NA          | \n",
       "| Afghanistan | AF          | AFG         | 1985        | new         | sp          | m           | 014         | NA          | \n",
       "\n",
       "\n"
      ],
      "text/plain": [
       "  country     iso2 iso3 year type response sex age_group value\n",
       "1 Afghanistan AF   AFG  1980 new  sp       m   014       NA   \n",
       "2 Afghanistan AF   AFG  1981 new  sp       m   014       NA   \n",
       "3 Afghanistan AF   AFG  1982 new  sp       m   014       NA   \n",
       "4 Afghanistan AF   AFG  1983 new  sp       m   014       NA   \n",
       "5 Afghanistan AF   AFG  1984 new  sp       m   014       NA   \n",
       "6 Afghanistan AF   AFG  1985 new  sp       m   014       NA   "
      ]
     },
     "metadata": {},
     "output_type": "display_data"
    }
   ],
   "source": [
    "who_4 %>% head"
   ]
  },
  {
   "cell_type": "code",
   "execution_count": 88,
   "metadata": {},
   "outputs": [],
   "source": [
    "who_4 %>% drop_na(value) -> who_5"
   ]
  },
  {
   "cell_type": "code",
   "execution_count": 89,
   "metadata": {},
   "outputs": [
    {
     "data": {
      "text/html": [
       "<table>\n",
       "<thead><tr><th scope=col>country</th><th scope=col>iso2</th><th scope=col>iso3</th><th scope=col>year</th><th scope=col>type</th><th scope=col>response</th><th scope=col>sex</th><th scope=col>age_group</th><th scope=col>value</th></tr></thead>\n",
       "<tbody>\n",
       "\t<tr><td>Afghanistan</td><td>AF         </td><td>AFG        </td><td>1997       </td><td>new        </td><td>sp         </td><td>m          </td><td>014        </td><td>  0        </td></tr>\n",
       "\t<tr><td>Afghanistan</td><td>AF         </td><td>AFG        </td><td>1998       </td><td>new        </td><td>sp         </td><td>m          </td><td>014        </td><td> 30        </td></tr>\n",
       "\t<tr><td>Afghanistan</td><td>AF         </td><td>AFG        </td><td>1999       </td><td>new        </td><td>sp         </td><td>m          </td><td>014        </td><td>  8        </td></tr>\n",
       "\t<tr><td>Afghanistan</td><td>AF         </td><td>AFG        </td><td>2000       </td><td>new        </td><td>sp         </td><td>m          </td><td>014        </td><td> 52        </td></tr>\n",
       "\t<tr><td>Afghanistan</td><td>AF         </td><td>AFG        </td><td>2001       </td><td>new        </td><td>sp         </td><td>m          </td><td>014        </td><td>129        </td></tr>\n",
       "\t<tr><td>Afghanistan</td><td>AF         </td><td>AFG        </td><td>2002       </td><td>new        </td><td>sp         </td><td>m          </td><td>014        </td><td> 90        </td></tr>\n",
       "</tbody>\n",
       "</table>\n"
      ],
      "text/latex": [
       "\\begin{tabular}{r|lllllllll}\n",
       " country & iso2 & iso3 & year & type & response & sex & age\\_group & value\\\\\n",
       "\\hline\n",
       "\t Afghanistan & AF          & AFG         & 1997        & new         & sp          & m           & 014         &   0        \\\\\n",
       "\t Afghanistan & AF          & AFG         & 1998        & new         & sp          & m           & 014         &  30        \\\\\n",
       "\t Afghanistan & AF          & AFG         & 1999        & new         & sp          & m           & 014         &   8        \\\\\n",
       "\t Afghanistan & AF          & AFG         & 2000        & new         & sp          & m           & 014         &  52        \\\\\n",
       "\t Afghanistan & AF          & AFG         & 2001        & new         & sp          & m           & 014         & 129        \\\\\n",
       "\t Afghanistan & AF          & AFG         & 2002        & new         & sp          & m           & 014         &  90        \\\\\n",
       "\\end{tabular}\n"
      ],
      "text/markdown": [
       "\n",
       "country | iso2 | iso3 | year | type | response | sex | age_group | value | \n",
       "|---|---|---|---|---|---|\n",
       "| Afghanistan | AF          | AFG         | 1997        | new         | sp          | m           | 014         |   0         | \n",
       "| Afghanistan | AF          | AFG         | 1998        | new         | sp          | m           | 014         |  30         | \n",
       "| Afghanistan | AF          | AFG         | 1999        | new         | sp          | m           | 014         |   8         | \n",
       "| Afghanistan | AF          | AFG         | 2000        | new         | sp          | m           | 014         |  52         | \n",
       "| Afghanistan | AF          | AFG         | 2001        | new         | sp          | m           | 014         | 129         | \n",
       "| Afghanistan | AF          | AFG         | 2002        | new         | sp          | m           | 014         |  90         | \n",
       "\n",
       "\n"
      ],
      "text/plain": [
       "  country     iso2 iso3 year type response sex age_group value\n",
       "1 Afghanistan AF   AFG  1997 new  sp       m   014         0  \n",
       "2 Afghanistan AF   AFG  1998 new  sp       m   014        30  \n",
       "3 Afghanistan AF   AFG  1999 new  sp       m   014         8  \n",
       "4 Afghanistan AF   AFG  2000 new  sp       m   014        52  \n",
       "5 Afghanistan AF   AFG  2001 new  sp       m   014       129  \n",
       "6 Afghanistan AF   AFG  2002 new  sp       m   014        90  "
      ]
     },
     "metadata": {},
     "output_type": "display_data"
    }
   ],
   "source": [
    "who_5 %>% head"
   ]
  },
  {
   "cell_type": "code",
   "execution_count": 96,
   "metadata": {},
   "outputs": [],
   "source": [
    "who_5 %>% mutate(value = as.numeric(value)) -> who_6"
   ]
  },
  {
   "cell_type": "code",
   "execution_count": 97,
   "metadata": {},
   "outputs": [
    {
     "data": {
      "text/html": [
       "<table>\n",
       "<thead><tr><th scope=col>country</th><th scope=col>iso2</th><th scope=col>iso3</th><th scope=col>year</th><th scope=col>type</th><th scope=col>response</th><th scope=col>sex</th><th scope=col>age_group</th><th scope=col>value</th></tr></thead>\n",
       "<tbody>\n",
       "\t<tr><td>Afghanistan</td><td>AF         </td><td>AFG        </td><td>1997       </td><td>new        </td><td>sp         </td><td>m          </td><td>014        </td><td>  0        </td></tr>\n",
       "\t<tr><td>Afghanistan</td><td>AF         </td><td>AFG        </td><td>1998       </td><td>new        </td><td>sp         </td><td>m          </td><td>014        </td><td> 30        </td></tr>\n",
       "\t<tr><td>Afghanistan</td><td>AF         </td><td>AFG        </td><td>1999       </td><td>new        </td><td>sp         </td><td>m          </td><td>014        </td><td>  8        </td></tr>\n",
       "\t<tr><td>Afghanistan</td><td>AF         </td><td>AFG        </td><td>2000       </td><td>new        </td><td>sp         </td><td>m          </td><td>014        </td><td> 52        </td></tr>\n",
       "\t<tr><td>Afghanistan</td><td>AF         </td><td>AFG        </td><td>2001       </td><td>new        </td><td>sp         </td><td>m          </td><td>014        </td><td>129        </td></tr>\n",
       "\t<tr><td>Afghanistan</td><td>AF         </td><td>AFG        </td><td>2002       </td><td>new        </td><td>sp         </td><td>m          </td><td>014        </td><td> 90        </td></tr>\n",
       "</tbody>\n",
       "</table>\n"
      ],
      "text/latex": [
       "\\begin{tabular}{r|lllllllll}\n",
       " country & iso2 & iso3 & year & type & response & sex & age\\_group & value\\\\\n",
       "\\hline\n",
       "\t Afghanistan & AF          & AFG         & 1997        & new         & sp          & m           & 014         &   0        \\\\\n",
       "\t Afghanistan & AF          & AFG         & 1998        & new         & sp          & m           & 014         &  30        \\\\\n",
       "\t Afghanistan & AF          & AFG         & 1999        & new         & sp          & m           & 014         &   8        \\\\\n",
       "\t Afghanistan & AF          & AFG         & 2000        & new         & sp          & m           & 014         &  52        \\\\\n",
       "\t Afghanistan & AF          & AFG         & 2001        & new         & sp          & m           & 014         & 129        \\\\\n",
       "\t Afghanistan & AF          & AFG         & 2002        & new         & sp          & m           & 014         &  90        \\\\\n",
       "\\end{tabular}\n"
      ],
      "text/markdown": [
       "\n",
       "country | iso2 | iso3 | year | type | response | sex | age_group | value | \n",
       "|---|---|---|---|---|---|\n",
       "| Afghanistan | AF          | AFG         | 1997        | new         | sp          | m           | 014         |   0         | \n",
       "| Afghanistan | AF          | AFG         | 1998        | new         | sp          | m           | 014         |  30         | \n",
       "| Afghanistan | AF          | AFG         | 1999        | new         | sp          | m           | 014         |   8         | \n",
       "| Afghanistan | AF          | AFG         | 2000        | new         | sp          | m           | 014         |  52         | \n",
       "| Afghanistan | AF          | AFG         | 2001        | new         | sp          | m           | 014         | 129         | \n",
       "| Afghanistan | AF          | AFG         | 2002        | new         | sp          | m           | 014         |  90         | \n",
       "\n",
       "\n"
      ],
      "text/plain": [
       "  country     iso2 iso3 year type response sex age_group value\n",
       "1 Afghanistan AF   AFG  1997 new  sp       m   014         0  \n",
       "2 Afghanistan AF   AFG  1998 new  sp       m   014        30  \n",
       "3 Afghanistan AF   AFG  1999 new  sp       m   014         8  \n",
       "4 Afghanistan AF   AFG  2000 new  sp       m   014        52  \n",
       "5 Afghanistan AF   AFG  2001 new  sp       m   014       129  \n",
       "6 Afghanistan AF   AFG  2002 new  sp       m   014        90  "
      ]
     },
     "metadata": {},
     "output_type": "display_data"
    }
   ],
   "source": [
    "who_6 %>% head"
   ]
  },
  {
   "cell_type": "markdown",
   "metadata": {},
   "source": [
    "## Joining with population data"
   ]
  },
  {
   "cell_type": "code",
   "execution_count": null,
   "metadata": {},
   "outputs": [],
   "source": []
  }
 ],
 "metadata": {
  "kernelspec": {
   "display_name": "R",
   "language": "R",
   "name": "ir"
  },
  "language_info": {
   "codemirror_mode": "r",
   "file_extension": ".r",
   "mimetype": "text/x-r-source",
   "name": "R",
   "pygments_lexer": "r",
   "version": "3.5.1"
  }
 },
 "nbformat": 4,
 "nbformat_minor": 2
}
