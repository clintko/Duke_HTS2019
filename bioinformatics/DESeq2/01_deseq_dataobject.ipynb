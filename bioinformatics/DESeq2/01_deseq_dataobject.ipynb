{
 "cells": [
  {
   "cell_type": "markdown",
   "metadata": {},
   "source": [
    "# DESeq2: Create Data Objects"
   ]
  },
  {
   "cell_type": "markdown",
   "metadata": {},
   "source": [
    "## Objective: Create a DESeqDataSet object"
   ]
  },
  {
   "cell_type": "markdown",
   "metadata": {},
   "source": [
    "### Initial note"
   ]
  },
  {
   "cell_type": "markdown",
   "metadata": {},
   "source": [
    "First step is to create a countData and colData object (see ? DESeqDataSet)\n",
    "\n",
    "countData: for matrix input: a matrix of non-negative integers\n",
    "\n",
    " colData: for matrix input: a ‘DataFrame’ or ‘data.frame’ with at least\n",
    "          a single column. Rows of colData correspond to columns of\n",
    "          countData\n"
   ]
  },
  {
   "cell_type": "markdown",
   "metadata": {},
   "source": [
    "### Load packages"
   ]
  },
  {
   "cell_type": "code",
   "execution_count": null,
   "metadata": {},
   "outputs": [],
   "source": [
    "library(tidyverse)\n",
    "library(DESeq2)"
   ]
  },
  {
   "cell_type": "markdown",
   "metadata": {},
   "source": [
    "### Load the 2019 pilot count objects from the image file"
   ]
  },
  {
   "cell_type": "code",
   "execution_count": null,
   "metadata": {},
   "outputs": [],
   "source": [
    "curdir <- \"/home/jovyan/work/scratch/analysis_output\"\n",
    "\n",
    "imgdir <- file.path(curdir, \"img\")\n",
    "\n",
    "imgfile <- file.path(imgdir, \"pilotcnt2019.RData\")\n",
    "\n",
    "imgfile\n",
    "\n",
    "attach(imgfile)\n",
    "\n",
    "tools::md5sum(imgfile)\n",
    "\n",
    "### List the objects that have been attached\n",
    "ls(2)\n",
    "\n",
    "cnt2019 <- cnt2019\n",
    "mtdf2019 <- mtdf2019\n",
    "\n",
    "detach(pos = 2)"
   ]
  },
  {
   "cell_type": "markdown",
   "metadata": {},
   "source": [
    "### Check dimensions of the two objects"
   ]
  },
  {
   "cell_type": "code",
   "execution_count": null,
   "metadata": {},
   "outputs": [],
   "source": [
    "dim(cnt2019)\n",
    "dim(mtdf2019)"
   ]
  },
  {
   "cell_type": "code",
   "execution_count": null,
   "metadata": {},
   "outputs": [],
   "source": [
    "mtdf2019 %>% head"
   ]
  },
  {
   "cell_type": "code",
   "execution_count": null,
   "metadata": {},
   "outputs": [],
   "source": [
    "cnt2019[,1:5]"
   ]
  },
  {
   "cell_type": "markdown",
   "metadata": {},
   "source": [
    "### Create columnData object"
   ]
  },
  {
   "cell_type": "code",
   "execution_count": null,
   "metadata": {},
   "outputs": [],
   "source": [
    "# columnData --- metadata\n",
    "mtdf2019 %>%\n",
    "    DataFrame ->\n",
    "        columnData2019\n",
    "\n",
    "### Add the labels as rownames\n",
    "rownames(columnData2019) <- columnData2019[[\"Label\"]]\n",
    "\n",
    "columnData2019[, c(\"Label\", \"genotype\", \"condition\")] %>% head"
   ]
  },
  {
   "cell_type": "code",
   "execution_count": null,
   "metadata": {},
   "outputs": [],
   "source": [
    "### Note that libraries are across rows and libraries across columns\n",
    "### DESeq2 requires that the matrix is transposed as that the gene names become row names\n",
    "cnt2019[1:4,1:5]"
   ]
  },
  {
   "cell_type": "code",
   "execution_count": null,
   "metadata": {},
   "outputs": [],
   "source": [
    "### Transpose the count matrix (so that libraries are across the columns and genes across rows) \n",
    "### Note that as.matrix() converts the tibble to a matrix object\n",
    "cnt2019 %>%\n",
    "    gather(key = gene, value = value, 2:ncol(cnt2019)) %>% \n",
    "            spread_(key = names(cnt2019)[1],value = 'value') %>%\n",
    "                column_to_rownames(\"gene\") %>%\n",
    "                    as.matrix ->\n",
    "                        countData2019\n",
    "\n",
    "countData2019[1:5, 1:6]\n",
    "\n",
    "\n"
   ]
  },
  {
   "cell_type": "markdown",
   "metadata": {},
   "source": [
    "### Reorder the columns of the count matrix according to the order of Label in columnData"
   ]
  },
  {
   "cell_type": "code",
   "execution_count": null,
   "metadata": {},
   "outputs": [],
   "source": [
    "### The two sets coincide\n",
    "setequal(columnData2019[[\"Label\"]], colnames(countData2019))\n"
   ]
  },
  {
   "cell_type": "code",
   "execution_count": null,
   "metadata": {},
   "outputs": [],
   "source": [
    "### but they are identical as they follow different orders\n",
    "identical(columnData2019[[\"Label\"]], colnames(countData2019))"
   ]
  },
  {
   "cell_type": "markdown",
   "metadata": {},
   "source": [
    "### Reorder the columns of countData "
   ]
  },
  {
   "cell_type": "code",
   "execution_count": null,
   "metadata": {},
   "outputs": [],
   "source": [
    "countData2019 <- countData2019[,columnData2019[[\"Label\"]]]"
   ]
  },
  {
   "cell_type": "code",
   "execution_count": null,
   "metadata": {},
   "outputs": [],
   "source": [
    "countData2019[1:4,1:5]"
   ]
  },
  {
   "cell_type": "markdown",
   "metadata": {},
   "source": [
    "### make sure that labels match"
   ]
  },
  {
   "cell_type": "code",
   "execution_count": null,
   "metadata": {},
   "outputs": [],
   "source": [
    "### The two variables coincide\n",
    "setequal(columnData2019[[\"Label\"]], colnames(countData2019))\n",
    "### but they are identical as they follow different orders\n",
    "identical(columnData2019[[\"Label\"]], colnames(countData2019))"
   ]
  },
  {
   "cell_type": "markdown",
   "metadata": {},
   "source": [
    "### Make DESeq object on the basis of the counts"
   ]
  },
  {
   "cell_type": "markdown",
   "metadata": {},
   "source": [
    "The design option allows you to specify an additive or a multiplicitive model"
   ]
  },
  {
   "cell_type": "markdown",
   "metadata": {},
   "source": [
    "Additive model"
   ]
  },
  {
   "cell_type": "code",
   "execution_count": null,
   "metadata": {},
   "outputs": [],
   "source": [
    "dds_add <- DESeqDataSetFromMatrix(\n",
    "    countData2019,                      # Count matrix\n",
    "    columnData2019,                     # metadata\n",
    "    ~ condition + genotype)             # design formula"
   ]
  },
  {
   "cell_type": "markdown",
   "metadata": {},
   "source": [
    "Inspect object"
   ]
  },
  {
   "cell_type": "code",
   "execution_count": null,
   "metadata": {},
   "outputs": [],
   "source": [
    "dds_add"
   ]
  },
  {
   "cell_type": "code",
   "execution_count": null,
   "metadata": {},
   "outputs": [],
   "source": [
    "slotNames(dds_add)"
   ]
  },
  {
   "cell_type": "markdown",
   "metadata": {},
   "source": [
    "Check design"
   ]
  },
  {
   "cell_type": "code",
   "execution_count": null,
   "metadata": {},
   "outputs": [],
   "source": [
    "dds_add@design"
   ]
  },
  {
   "cell_type": "markdown",
   "metadata": {},
   "source": [
    "Check column data"
   ]
  },
  {
   "cell_type": "code",
   "execution_count": null,
   "metadata": {},
   "outputs": [],
   "source": [
    "dds_add@colData"
   ]
  },
  {
   "cell_type": "markdown",
   "metadata": {},
   "source": [
    "Get count matrix"
   ]
  },
  {
   "cell_type": "code",
   "execution_count": null,
   "metadata": {},
   "outputs": [],
   "source": [
    "counts(dds_add)[1:10,1:10]"
   ]
  },
  {
   "cell_type": "markdown",
   "metadata": {},
   "source": [
    "Change design: multiplicative model"
   ]
  },
  {
   "cell_type": "code",
   "execution_count": null,
   "metadata": {},
   "outputs": [],
   "source": [
    "dds_mult <- DESeqDataSetFromMatrix(\n",
    "    countData2019,                       # Count matrix\n",
    "    columnData2019,                      # metadata\n",
    "    ~ condition + genotype + condition:genotype) # design formula"
   ]
  },
  {
   "cell_type": "markdown",
   "metadata": {},
   "source": [
    "In the following demonstration, we will use the additive model. The multiplicitive model will be illustrated in the appendix below."
   ]
  },
  {
   "cell_type": "code",
   "execution_count": null,
   "metadata": {},
   "outputs": [],
   "source": [
    "dds2019 <- dds_add"
   ]
  },
  {
   "cell_type": "code",
   "execution_count": null,
   "metadata": {},
   "outputs": [],
   "source": [
    "curdir <- \"/home/jovyan/work/scratch/analysis_output\"\n",
    "imgdir <- file.path(curdir, \"img\")\n",
    "\n",
    "imgfile <- file.path(imgdir, \"pilotdds2019.RData\")\n",
    "\n",
    "imgfile"
   ]
  },
  {
   "cell_type": "code",
   "execution_count": null,
   "metadata": {},
   "outputs": [],
   "source": [
    "save(dds2019, file = imgfile)\n",
    "tools::md5sum(imgfile)"
   ]
  },
  {
   "cell_type": "code",
   "execution_count": null,
   "metadata": {},
   "outputs": [],
   "source": [
    "sessionInfo()"
   ]
  }
 ],
 "metadata": {
  "kernelspec": {
   "display_name": "R",
   "language": "R",
   "name": "ir"
  },
  "language_info": {
   "codemirror_mode": "r",
   "file_extension": ".r",
   "mimetype": "text/x-r-source",
   "name": "R",
   "pygments_lexer": "r",
   "version": "3.6.0"
  }
 },
 "nbformat": 4,
 "nbformat_minor": 2
}
