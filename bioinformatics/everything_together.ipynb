{
 "cells": [
  {
   "cell_type": "markdown",
   "metadata": {},
   "source": [
    "# All in one pipeline"
   ]
  },
  {
   "cell_type": "markdown",
   "metadata": {},
   "source": [
    "## Load Variables and Make Directories"
   ]
  },
  {
   "cell_type": "code",
   "execution_count": 1,
   "metadata": {},
   "outputs": [],
   "source": [
    "set -u\n",
    "source bioinf_intro_config.sh\n",
    "# clean up\n",
    "rm -rf $CUROUT\n",
    "mkdir -p $STAR_OUT $GENOME_DIR $MYINFO $TRIMMED $QC_RAW $QC_TRIM"
   ]
  },
  {
   "cell_type": "markdown",
   "metadata": {},
   "source": [
    "## Make Adapter File"
   ]
  },
  {
   "cell_type": "code",
   "execution_count": 2,
   "metadata": {},
   "outputs": [],
   "source": [
    "echo \">Adapter\n",
    "AGATCGGAAGAGCACACGTCTGAACTCCAGTCA\n",
    ">AdapterRead2\n",
    "AGATCGGAAGAGCGTCGTGTAGGGAAAGAGTGT\n",
    ">Adapter_rc\n",
    "TGACTGGAGTTCAGACGTGTGCTCTTCCGATCT\n",
    ">AdapterRead2_rc\n",
    "ACACTCTTTCCCTACACGACGCTCTTCCGATCT\" > $ADAPTERS"
   ]
  },
  {
   "cell_type": "markdown",
   "metadata": {},
   "source": [
    "## Download Genome and Annotation"
   ]
  },
  {
   "cell_type": "code",
   "execution_count": 3,
   "metadata": {},
   "outputs": [
    {
     "name": "stdout",
     "output_type": "stream",
     "text": [
      "--2019-06-26 17:01:07--  ftp://ftp.ensemblgenomes.org/pub/release-39/fungi/fasta/fungi_basidiomycota1_collection/cryptococcus_neoformans_var_grubii_h99/dna/Cryptococcus_neoformans_var_grubii_h99.CNA3.dna.toplevel.fa.gz\n",
      "           => ‘/home/jovyan/work/scratch/bioinf_intro/genome/Cryptococcus_neoformans_var_grubii_h99.CNA3.dna.toplevel.fa.gz’\n",
      "Resolving ftp.ensemblgenomes.org (ftp.ensemblgenomes.org)... 193.62.197.94\n",
      "Connecting to ftp.ensemblgenomes.org (ftp.ensemblgenomes.org)|193.62.197.94|:21... connected.\n",
      "Logging in as anonymous ... Logged in!\n",
      "==> SYST ... done.    ==> PWD ... done.\n",
      "==> TYPE I ... done.  ==> CWD (1) /pub/release-39/fungi/fasta/fungi_basidiomycota1_collection/cryptococcus_neoformans_var_grubii_h99/dna ... done.\n",
      "==> SIZE Cryptococcus_neoformans_var_grubii_h99.CNA3.dna.toplevel.fa.gz ... 5922212\n",
      "==> PASV ... done.    ==> RETR Cryptococcus_neoformans_var_grubii_h99.CNA3.dna.toplevel.fa.gz ... done.\n",
      "Length: 5922212 (5.6M) (unauthoritative)\n",
      "\n",
      "Cryptococcus_neofor 100%[===================>]   5.65M  5.21MB/s    in 1.1s    \n",
      "\n",
      "2019-06-26 17:01:09 (5.21 MB/s) - ‘/home/jovyan/work/scratch/bioinf_intro/genome/Cryptococcus_neoformans_var_grubii_h99.CNA3.dna.toplevel.fa.gz’ saved [5922212]\n",
      "\n",
      "--2019-06-26 17:01:09--  ftp://ftp.ensemblgenomes.org/pub/release-39/fungi/gtf/fungi_basidiomycota1_collection/cryptococcus_neoformans_var_grubii_h99/Cryptococcus_neoformans_var_grubii_h99.CNA3.39.gtf.gz\n",
      "           => ‘/home/jovyan/work/scratch/bioinf_intro/genome/Cryptococcus_neoformans_var_grubii_h99.CNA3.39.gtf.gz’\n",
      "Resolving ftp.ensemblgenomes.org (ftp.ensemblgenomes.org)... 193.62.197.94\n",
      "Connecting to ftp.ensemblgenomes.org (ftp.ensemblgenomes.org)|193.62.197.94|:21... connected.\n",
      "Logging in as anonymous ... Logged in!\n",
      "==> SYST ... done.    ==> PWD ... done.\n",
      "==> TYPE I ... done.  ==> CWD (1) /pub/release-39/fungi/gtf/fungi_basidiomycota1_collection/cryptococcus_neoformans_var_grubii_h99 ... done.\n",
      "==> SIZE Cryptococcus_neoformans_var_grubii_h99.CNA3.39.gtf.gz ... 1796344\n",
      "==> PASV ... done.    ==> RETR Cryptococcus_neoformans_var_grubii_h99.CNA3.39.gtf.gz ... done.\n",
      "Length: 1796344 (1.7M) (unauthoritative)\n",
      "\n",
      "Cryptococcus_neofor 100%[===================>]   1.71M  2.46MB/s    in 0.7s    \n",
      "\n",
      "2019-06-26 17:01:11 (2.46 MB/s) - ‘/home/jovyan/work/scratch/bioinf_intro/genome/Cryptococcus_neoformans_var_grubii_h99.CNA3.39.gtf.gz’ saved [1796344]\n",
      "\n"
     ]
    }
   ],
   "source": [
    "for CUR in $FA_URL $GTF_URL ; do\n",
    "    wget --directory-prefix ${GENOME_DIR} ${CUR}\n",
    "done"
   ]
  },
  {
   "cell_type": "code",
   "execution_count": 4,
   "metadata": {},
   "outputs": [],
   "source": [
    "gunzip --force ${GENOME_DIR}/${GTF}.gz\n",
    "gunzip --force ${GENOME_DIR}/${FA}.gz"
   ]
  },
  {
   "cell_type": "markdown",
   "metadata": {},
   "source": [
    "## Index Genome"
   ]
  },
  {
   "cell_type": "code",
   "execution_count": 5,
   "metadata": {},
   "outputs": [
    {
     "name": "stdout",
     "output_type": "stream",
     "text": [
      "Jun 26 17:01:12 ..... started STAR run\n",
      "Jun 26 17:01:12 ... starting to generate Genome files\n",
      "Jun 26 17:01:13 ... starting to sort Suffix Array. This may take a long time...\n",
      "Jun 26 17:01:13 ... sorting Suffix Array chunks and saving them to disk...\n",
      "Jun 26 17:01:34 ... loading chunks from disk, packing SA...\n",
      "Jun 26 17:01:35 ... finished generating suffix array\n",
      "Jun 26 17:01:35 ... generating Suffix Array index\n",
      "Jun 26 17:01:35 ... completed Suffix Array index\n",
      "Jun 26 17:01:35 ..... processing annotations GTF\n",
      "Jun 26 17:01:35 ..... inserting junctions into the genome indices\n",
      "Jun 26 17:01:59 ... writing Genome to disk ...\n",
      "Jun 26 17:01:59 ... writing Suffix Array to disk ...\n",
      "Jun 26 17:01:59 ... writing SAindex to disk\n",
      "Jun 26 17:01:59 ..... finished successfully\n"
     ]
    }
   ],
   "source": [
    "STAR \\\n",
    "    --runThreadN $THREADS \\\n",
    "    --runMode genomeGenerate \\\n",
    "    --genomeDir $GENOME_DIR \\\n",
    "    --genomeFastaFiles ${GENOME_DIR}/${FA} \\\n",
    "    --sjdbGTFfile ${GENOME_DIR}/${GTF} \\\n",
    "    --outFileNamePrefix ${STAR_OUT}/genome_ \\\n",
    "    --sjdbGTFfeatureExon exon \\\n",
    "    --sjdbGTFtagExonParentTranscript transcript_id \\\n",
    "    --sjdbGTFtagExonParentGene gene_id \\\n",
    "    --genomeSAindexNbases 6"
   ]
  },
  {
   "cell_type": "markdown",
   "metadata": {},
   "source": [
    "## Read Quality Control"
   ]
  },
  {
   "cell_type": "code",
   "execution_count": 6,
   "metadata": {},
   "outputs": [],
   "source": [
    "fastqc --quiet --threads $THREADS $RAW_FASTQS/21_2019_P_M1_S21_L00[1-2]_R1_001.fastq.gz --outdir $QC_RAW"
   ]
  },
  {
   "cell_type": "markdown",
   "metadata": {},
   "source": [
    "With globs and `basename` in our toolbox, we are ready to **conquer the world** or at least run multiple FASTQs through our pipeline, without breaking a sweat!"
   ]
  },
  {
   "cell_type": "markdown",
   "metadata": {},
   "source": [
    "## Trim and Map Reads"
   ]
  },
  {
   "cell_type": "code",
   "execution_count": 7,
   "metadata": {},
   "outputs": [
    {
     "name": "stdout",
     "output_type": "stream",
     "text": [
      "---------------- TRIMMING: 21_2019_P_M1_S21_L001_R1 ----------------\n",
      "Command Line: /home/jovyan/work/scratch/bioinf_intro/myinfo/neb_e7600_adapters.fasta /data/hts_2019_data/hts2019_pilot_rawdata/21_2019_P_M1_S21_L001_R1_001.fastq.gz -q 20 -x 0.5 -o /home/jovyan/work/scratch/bioinf_intro/trimmed_fastqs/21_2019_P_M1_S21_L001_R1_001.trim.fastq.gz\n",
      "Scale used: 2.2\n",
      "Phred: 33\n",
      "Threshold used: 751 out of 300000\n",
      "Adapter Adapter (AGATCGGAAGAGCACACGTCTGAACTCCAGTCA): counted 2504 at the 'end' of '/data/hts_2019_data/hts2019_pilot_rawdata/21_2019_P_M1_S21_L001_R1_001.fastq.gz', clip set to 6\n",
      "Files: 1\n",
      "Total reads: 2479050\n",
      "Too short after clip: 1519\n",
      "Clipped 'end' reads: Count: 46013, Mean: 15.47, Sd: 8.24\n",
      "Trimmed 299018 reads by an average of 1.71 bases on quality < 20\n",
      "---------------- MAPPING: 21_2019_P_M1_S21_L001_R1 ----------------\n",
      "Jun 26 17:03:00 ..... started STAR run\n",
      "Jun 26 17:03:00 ..... loading genome\n",
      "Jun 26 17:03:00 ..... started mapping\n",
      "Jun 26 17:03:41 ..... started sorting BAM\n",
      "Jun 26 17:03:46 ..... finished successfully\n",
      "---------------- TRIMMING: 21_2019_P_M1_S21_L002_R1 ----------------\n",
      "Command Line: /home/jovyan/work/scratch/bioinf_intro/myinfo/neb_e7600_adapters.fasta /data/hts_2019_data/hts2019_pilot_rawdata/21_2019_P_M1_S21_L002_R1_001.fastq.gz -q 20 -x 0.5 -o /home/jovyan/work/scratch/bioinf_intro/trimmed_fastqs/21_2019_P_M1_S21_L002_R1_001.trim.fastq.gz\n",
      "Scale used: 2.2\n",
      "Phred: 33\n",
      "Threshold used: 751 out of 300000\n",
      "Adapter Adapter (AGATCGGAAGAGCACACGTCTGAACTCCAGTCA): counted 2515 at the 'end' of '/data/hts_2019_data/hts2019_pilot_rawdata/21_2019_P_M1_S21_L002_R1_001.fastq.gz', clip set to 6\n",
      "Files: 1\n",
      "Total reads: 2437108\n",
      "Too short after clip: 1347\n",
      "Clipped 'end' reads: Count: 44977, Mean: 15.55, Sd: 8.27\n",
      "Trimmed 288960 reads by an average of 1.70 bases on quality < 20\n",
      "---------------- MAPPING: 21_2019_P_M1_S21_L002_R1 ----------------\n",
      "Jun 26 17:04:01 ..... started STAR run\n",
      "Jun 26 17:04:01 ..... loading genome\n",
      "Jun 26 17:04:01 ..... started mapping\n",
      "Jun 26 17:04:41 ..... started sorting BAM\n",
      "Jun 26 17:04:46 ..... finished successfully\n"
     ]
    }
   ],
   "source": [
    "for FASTQ in $RAW_FASTQS/21_2019_P_M1_S21_L00[1-2]_R1_001.fastq.gz\n",
    "    do\n",
    "        FASTQ_BASE=\"$(basename ${FASTQ} '_001.fastq.gz')\"\n",
    "        echo \"---------------- TRIMMING: $FASTQ_BASE ----------------\"\n",
    "        fastq-mcf \\\n",
    "            $MYINFO/neb_e7600_adapters.fasta \\\n",
    "            $RAW_FASTQS/${FASTQ_BASE}_001.fastq.gz \\\n",
    "            -q 20 -x 0.5 \\\n",
    "            -o $TRIMMED/${FASTQ_BASE}_001.trim.fastq.gz\n",
    "        \n",
    "        echo \"---------------- MAPPING: $FASTQ_BASE ----------------\"\n",
    "        STAR \\\n",
    "            --runMode alignReads \\\n",
    "            --twopassMode None \\\n",
    "            --genomeDir $GENOME_DIR \\\n",
    "            --readFilesIn $TRIMMED/${FASTQ_BASE}_001.trim.fastq.gz \\\n",
    "            --readFilesCommand gunzip -c \\\n",
    "            --outFileNamePrefix ${STAR_OUT}/${FASTQ_BASE}_ \\\n",
    "            --quantMode GeneCounts \\\n",
    "            --outSAMtype BAM SortedByCoordinate \\\n",
    "            --runThreadN $THREADS \\\n",
    "            --alignIntronMax 5000 \\\n",
    "            --outSJfilterIntronMaxVsReadN 500 1000 2000    \n",
    "    done"
   ]
  },
  {
   "cell_type": "code",
   "execution_count": 8,
   "metadata": {},
   "outputs": [],
   "source": [
    "fastqc --quiet --threads $THREADS $TRIMMED/21_2019_P_M1_S21_L00[1-2]_R1_001.trim.fastq.gz --outdir $QC_TRIM"
   ]
  },
  {
   "cell_type": "markdown",
   "metadata": {},
   "source": [
    "### And let's check the result"
   ]
  },
  {
   "cell_type": "code",
   "execution_count": 9,
   "metadata": {},
   "outputs": [
    {
     "name": "stdout",
     "output_type": "stream",
     "text": [
      "21_2019_P_M1_S21_L001_R1_Aligned.sortedByCoord.out.bam\n",
      "21_2019_P_M1_S21_L001_R1_Log.final.out\n",
      "21_2019_P_M1_S21_L001_R1_Log.out\n",
      "21_2019_P_M1_S21_L001_R1_Log.progress.out\n",
      "21_2019_P_M1_S21_L001_R1_ReadsPerGene.out.tab\n",
      "21_2019_P_M1_S21_L001_R1_SJ.out.tab\n",
      "21_2019_P_M1_S21_L002_R1_Aligned.sortedByCoord.out.bam\n",
      "21_2019_P_M1_S21_L002_R1_Log.final.out\n",
      "21_2019_P_M1_S21_L002_R1_Log.out\n",
      "21_2019_P_M1_S21_L002_R1_Log.progress.out\n",
      "21_2019_P_M1_S21_L002_R1_ReadsPerGene.out.tab\n",
      "21_2019_P_M1_S21_L002_R1_SJ.out.tab\n",
      "genome_Log.out\n"
     ]
    }
   ],
   "source": [
    "ls ${STAR_OUT}"
   ]
  },
  {
   "cell_type": "code",
   "execution_count": 10,
   "metadata": {},
   "outputs": [
    {
     "name": "stdout",
     "output_type": "stream",
     "text": [
      "==> /home/jovyan/work/scratch/bioinf_intro/star_out/21_2019_P_M1_S21_L001_R1_ReadsPerGene.out.tab <==\n",
      "N_unmapped\t47554\t47554\t47554\n",
      "N_multimapping\t34395\t34395\t34395\n",
      "N_noFeature\t12474\t2182940\t18831\n",
      "N_ambiguous\t206368\t813\t114\n",
      "CNAG_04548\t0\t0\t0\n",
      "CNAG_07303\t0\t0\t0\n",
      "CNAG_07304\t10\t0\t10\n",
      "CNAG_00001\t0\t0\t0\n",
      "CNAG_07305\t2\t0\t2\n",
      "CNAG_00002\t43\t0\t43\n",
      "\n",
      "==> /home/jovyan/work/scratch/bioinf_intro/star_out/21_2019_P_M1_S21_L002_R1_ReadsPerGene.out.tab <==\n",
      "N_unmapped\t46059\t46059\t46059\n",
      "N_multimapping\t33738\t33738\t33738\n",
      "N_noFeature\t12438\t2146527\t18736\n",
      "N_ambiguous\t203237\t786\t143\n",
      "CNAG_04548\t0\t0\t0\n",
      "CNAG_07303\t0\t0\t0\n",
      "CNAG_07304\t6\t0\t6\n",
      "CNAG_00001\t0\t0\t0\n",
      "CNAG_07305\t1\t0\t1\n",
      "CNAG_00002\t51\t0\t51\n"
     ]
    }
   ],
   "source": [
    "head ${STAR_OUT}/21_2019_P_M1_S21_L00?_R1_ReadsPerGene.out.tab"
   ]
  },
  {
   "cell_type": "code",
   "execution_count": 11,
   "metadata": {},
   "outputs": [
    {
     "name": "stdout",
     "output_type": "stream",
     "text": [
      "/home/jovyan/.local/lib/python3.5/site-packages/multiqc/utils/config.py:45: YAMLLoadWarning: calling yaml.load() without Loader=... is deprecated, as the default Loader is unsafe. Please read https://msg.pyyaml.org/load for full details.\n",
      "  configs = yaml.load(f)\n",
      "/home/jovyan/.local/lib/python3.5/site-packages/multiqc/utils/config.py:51: YAMLLoadWarning: calling yaml.load() without Loader=... is deprecated, as the default Loader is unsafe. Please read https://msg.pyyaml.org/load for full details.\n",
      "  sp = yaml.load(f)\n",
      "[INFO   ]         multiqc : This is MultiQC v1.7\n",
      "[INFO   ]         multiqc : Template    : default\n",
      "[INFO   ]         multiqc : Searching '/home/jovyan/work/scratch/bioinf_intro/star_out'\n",
      "\u001b[?25lSearching 13 files..  [####################################]  100%          \u001b[?25h\n",
      "[INFO   ]            star : Found 2 reports and 2 gene count files\n",
      "[INFO   ]         multiqc : Compressing plot data\n",
      "[INFO   ]         multiqc : Report      : ../../scratch/bioinf_intro/star_out/multiqc_report_counts.html\n",
      "[INFO   ]         multiqc : Data        : ../../scratch/bioinf_intro/star_out/multiqc_report_counts_data\n",
      "[INFO   ]         multiqc : MultiQC complete\n",
      "/home/jovyan/.local/lib/python3.5/site-packages/multiqc/utils/config.py:45: YAMLLoadWarning: calling yaml.load() without Loader=... is deprecated, as the default Loader is unsafe. Please read https://msg.pyyaml.org/load for full details.\n",
      "  configs = yaml.load(f)\n",
      "/home/jovyan/.local/lib/python3.5/site-packages/multiqc/utils/config.py:51: YAMLLoadWarning: calling yaml.load() without Loader=... is deprecated, as the default Loader is unsafe. Please read https://msg.pyyaml.org/load for full details.\n",
      "  sp = yaml.load(f)\n",
      "[INFO   ]         multiqc : This is MultiQC v1.7\n",
      "[INFO   ]         multiqc : Template    : default\n",
      "[INFO   ]         multiqc : Searching '/home/jovyan/work/scratch/bioinf_intro/qc_output_raw'\n",
      "[INFO   ]          fastqc : Found 2 reports\n",
      "[INFO   ]         multiqc : Compressing plot data\n",
      "[INFO   ]         multiqc : Report      : ../../scratch/bioinf_intro/star_out/multiqc_report_rawfastq.html\n",
      "[INFO   ]         multiqc : Data        : ../../scratch/bioinf_intro/star_out/multiqc_report_rawfastq_data\n",
      "[INFO   ]         multiqc : MultiQC complete\n",
      "/home/jovyan/.local/lib/python3.5/site-packages/multiqc/utils/config.py:45: YAMLLoadWarning: calling yaml.load() without Loader=... is deprecated, as the default Loader is unsafe. Please read https://msg.pyyaml.org/load for full details.\n",
      "  configs = yaml.load(f)\n",
      "/home/jovyan/.local/lib/python3.5/site-packages/multiqc/utils/config.py:51: YAMLLoadWarning: calling yaml.load() without Loader=... is deprecated, as the default Loader is unsafe. Please read https://msg.pyyaml.org/load for full details.\n",
      "  sp = yaml.load(f)\n",
      "[INFO   ]         multiqc : This is MultiQC v1.7\n",
      "[INFO   ]         multiqc : Template    : default\n",
      "[INFO   ]         multiqc : Searching '/home/jovyan/work/scratch/bioinf_intro/qc_output_trim'\n",
      "[INFO   ]          fastqc : Found 2 reports\n",
      "[INFO   ]         multiqc : Compressing plot data\n",
      "[INFO   ]         multiqc : Report      : ../../scratch/bioinf_intro/star_out/multiqc_report_trimfastq.html\n",
      "[INFO   ]         multiqc : Data        : ../../scratch/bioinf_intro/star_out/multiqc_report_trimfastq_data\n",
      "[INFO   ]         multiqc : MultiQC complete\n"
     ]
    }
   ],
   "source": [
    "multiqc --force ${STAR_OUT} --outdir ${STAR_OUT} --filename multiqc_report_counts.html\n",
    "multiqc --force $QC_RAW --outdir ${STAR_OUT} --filename multiqc_report_rawfastq.html\n",
    "multiqc --force $QC_TRIM --outdir ${STAR_OUT} --filename multiqc_report_trimfastq.html"
   ]
  }
 ],
 "metadata": {
  "kernelspec": {
   "display_name": "Bash",
   "language": "bash",
   "name": "bash"
  },
  "language_info": {
   "codemirror_mode": "shell",
   "file_extension": ".sh",
   "mimetype": "text/x-sh",
   "name": "bash"
  }
 },
 "nbformat": 4,
 "nbformat_minor": 1
}
