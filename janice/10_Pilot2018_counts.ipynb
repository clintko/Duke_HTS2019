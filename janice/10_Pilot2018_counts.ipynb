{
 "cells": [
  {
   "cell_type": "code",
   "execution_count": 1,
   "metadata": {
    "scrolled": true
   },
   "outputs": [
    {
     "name": "stderr",
     "output_type": "stream",
     "text": [
      "Registered S3 methods overwritten by 'ggplot2':\n",
      "  method         from \n",
      "  [.quosures     rlang\n",
      "  c.quosures     rlang\n",
      "  print.quosures rlang\n",
      "── \u001b[1mAttaching packages\u001b[22m ─────────────────────────────────────── tidyverse 1.2.1 ──\n",
      "\u001b[32m✔\u001b[39m \u001b[34mggplot2\u001b[39m 3.1.1     \u001b[32m✔\u001b[39m \u001b[34mpurrr  \u001b[39m 0.3.2\n",
      "\u001b[32m✔\u001b[39m \u001b[34mtibble \u001b[39m 2.1.2     \u001b[32m✔\u001b[39m \u001b[34mdplyr  \u001b[39m 0.8.1\n",
      "\u001b[32m✔\u001b[39m \u001b[34mtidyr  \u001b[39m 0.8.3     \u001b[32m✔\u001b[39m \u001b[34mstringr\u001b[39m 1.4.0\n",
      "\u001b[32m✔\u001b[39m \u001b[34mreadr  \u001b[39m 1.3.1     \u001b[32m✔\u001b[39m \u001b[34mforcats\u001b[39m 0.4.0\n",
      "── \u001b[1mConflicts\u001b[22m ────────────────────────────────────────── tidyverse_conflicts() ──\n",
      "\u001b[31m✖\u001b[39m \u001b[34mdplyr\u001b[39m::\u001b[32mfilter()\u001b[39m masks \u001b[34mstats\u001b[39m::filter()\n",
      "\u001b[31m✖\u001b[39m \u001b[34mdplyr\u001b[39m::\u001b[32mlag()\u001b[39m    masks \u001b[34mstats\u001b[39m::lag()\n",
      "\n",
      "Attaching package: ‘foreach’\n",
      "\n",
      "The following objects are masked from ‘package:purrr’:\n",
      "\n",
      "    accumulate, when\n",
      "\n"
     ]
    }
   ],
   "source": [
    "library(tidyverse)\n",
    "library(foreach)\n",
    "library(ggplot2)\n",
    "library(RColorBrewer)"
   ]
  },
  {
   "cell_type": "code",
   "execution_count": 2,
   "metadata": {},
   "outputs": [],
   "source": [
    "curdir <- \"/home/jovyan/work/scratch/analysis_output\"\n",
    "outdir <- file.path(curdir, \"out\")\n",
    "imgdir <- file.path(curdir, \"img\")"
   ]
  },
  {
   "cell_type": "markdown",
   "metadata": {},
   "source": [
    "### Import Counts"
   ]
  },
  {
   "cell_type": "code",
   "execution_count": 3,
   "metadata": {},
   "outputs": [
    {
     "data": {
      "text/html": [
       "<strong>/home/jovyan/work/scratch/analysis_output/out/hts-pilot-2019.RData:</strong> 'b6bf57aeeec710525e2c2e8707ce37d9'"
      ],
      "text/latex": [
       "\\textbf{/home/jovyan/work/scratch/analysis\\textbackslash{}\\_output/out/hts-pilot-2019.RData:} 'b6bf57aeeec710525e2c2e8707ce37d9'"
      ],
      "text/markdown": [
       "**/home/jovyan/work/scratch/analysis_output/out/hts-pilot-2019.RData:** 'b6bf57aeeec710525e2c2e8707ce37d9'"
      ],
      "text/plain": [
       "/home/jovyan/work/scratch/analysis_output/out/hts-pilot-2019.RData \n",
       "                                \"b6bf57aeeec710525e2c2e8707ce37d9\" "
      ]
     },
     "metadata": {},
     "output_type": "display_data"
    }
   ],
   "source": [
    "sum_cntfile <- file.path(outdir, \"hts-pilot-2019.RData\")\n",
    "attach(sum_cntfile)\n",
    "tools::md5sum(sum_cntfile)"
   ]
  },
  {
   "cell_type": "code",
   "execution_count": 4,
   "metadata": {},
   "outputs": [
    {
     "data": {
      "text/html": [
       "<ol class=list-inline>\n",
       "\t<li>108</li>\n",
       "\t<li>8500</li>\n",
       "</ol>\n"
      ],
      "text/latex": [
       "\\begin{enumerate*}\n",
       "\\item 108\n",
       "\\item 8500\n",
       "\\end{enumerate*}\n"
      ],
      "text/markdown": [
       "1. 108\n",
       "2. 8500\n",
       "\n",
       "\n"
      ],
      "text/plain": [
       "[1]  108 8500"
      ]
     },
     "metadata": {},
     "output_type": "display_data"
    }
   ],
   "source": [
    "dim(genecounts)"
   ]
  },
  {
   "cell_type": "code",
   "execution_count": 5,
   "metadata": {},
   "outputs": [
    {
     "data": {
      "text/html": [
       "<ol class=list-inline>\n",
       "\t<li>108</li>\n",
       "\t<li>10</li>\n",
       "</ol>\n"
      ],
      "text/latex": [
       "\\begin{enumerate*}\n",
       "\\item 108\n",
       "\\item 10\n",
       "\\end{enumerate*}\n"
      ],
      "text/markdown": [
       "1. 108\n",
       "2. 10\n",
       "\n",
       "\n"
      ],
      "text/plain": [
       "[1] 108  10"
      ]
     },
     "metadata": {},
     "output_type": "display_data"
    }
   ],
   "source": [
    "dim(mapresults)"
   ]
  },
  {
   "cell_type": "markdown",
   "metadata": {},
   "source": [
    "### Import metadata file"
   ]
  },
  {
   "cell_type": "code",
   "execution_count": 6,
   "metadata": {},
   "outputs": [
    {
     "data": {
      "text/html": [
       "<strong>/data/hts_2019_data/hts2019_pilot_rawdata/2019_pilot_metadata.tsv:</strong> '757e63c2306c3c68a70b81dfcdbf7f22'"
      ],
      "text/latex": [
       "\\textbf{/data/hts\\textbackslash{}\\_2019\\textbackslash{}\\_data/hts2019\\textbackslash{}\\_pilot\\textbackslash{}\\_rawdata/2019\\textbackslash{}\\_pilot\\textbackslash{}\\_metadata.tsv:} '757e63c2306c3c68a70b81dfcdbf7f22'"
      ],
      "text/markdown": [
       "**/data/hts_2019_data/hts2019_pilot_rawdata/2019_pilot_metadata.tsv:** '757e63c2306c3c68a70b81dfcdbf7f22'"
      ],
      "text/plain": [
       "/data/hts_2019_data/hts2019_pilot_rawdata/2019_pilot_metadata.tsv \n",
       "                               \"757e63c2306c3c68a70b81dfcdbf7f22\" "
      ]
     },
     "metadata": {},
     "output_type": "display_data"
    },
    {
     "name": "stderr",
     "output_type": "stream",
     "text": [
      "Parsed with column specification:\n",
      "cols(\n",
      "  .default = col_character(),\n",
      "  sample_year = \u001b[32mcol_double()\u001b[39m,\n",
      "  enrich_rep = \u001b[32mcol_double()\u001b[39m,\n",
      "  RNA_sample_num = \u001b[32mcol_double()\u001b[39m,\n",
      "  library_num = \u001b[32mcol_double()\u001b[39m,\n",
      "  bio_replicate = \u001b[32mcol_double()\u001b[39m,\n",
      "  Nanodrop_260_280 = \u001b[32mcol_double()\u001b[39m,\n",
      "  Nanodrop_260_230 = \u001b[32mcol_double()\u001b[39m,\n",
      "  Nanodrop_concentration_ng_ul = \u001b[32mcol_double()\u001b[39m,\n",
      "  Bioanalyzer_concentration_ng_ul = \u001b[32mcol_double()\u001b[39m,\n",
      "  RIN_lowered_threshold = \u001b[32mcol_double()\u001b[39m\n",
      ")\n",
      "See spec(...) for full column specifications.\n"
     ]
    },
    {
     "data": {
      "text/html": [
       "<ol class=list-inline>\n",
       "\t<li>36</li>\n",
       "\t<li>22</li>\n",
       "</ol>\n"
      ],
      "text/latex": [
       "\\begin{enumerate*}\n",
       "\\item 36\n",
       "\\item 22\n",
       "\\end{enumerate*}\n"
      ],
      "text/markdown": [
       "1. 36\n",
       "2. 22\n",
       "\n",
       "\n"
      ],
      "text/plain": [
       "[1] 36 22"
      ]
     },
     "metadata": {},
     "output_type": "display_data"
    }
   ],
   "source": [
    "metadtfile <- \"/data/hts_2019_data/hts2019_pilot_rawdata/2019_pilot_metadata.tsv\"\n",
    "tools::md5sum(metadtfile)\n",
    "mtdf<-readr::read_tsv(metadtfile)\n",
    "dim(mtdf)"
   ]
  },
  {
   "cell_type": "code",
   "execution_count": 7,
   "metadata": {},
   "outputs": [
    {
     "data": {
      "text/html": [
       "<table>\n",
       "<caption>A tibble: 6 × 22</caption>\n",
       "<thead>\n",
       "\t<tr><th scope=col>Label</th><th scope=col>sample_year</th><th scope=col>group</th><th scope=col>enrich_rep</th><th scope=col>RNA_sample_num</th><th scope=col>genotype</th><th scope=col>condition</th><th scope=col>libprep_person</th><th scope=col>enrichment_method</th><th scope=col>enrichment_short</th><th scope=col>⋯</th><th scope=col>i5_primer</th><th scope=col>i7_primer</th><th scope=col>library_num</th><th scope=col>bio_replicate</th><th scope=col>Nanodrop_260_280</th><th scope=col>Nanodrop_260_230</th><th scope=col>Nanodrop_concentration_ng_ul</th><th scope=col>Bioanalyzer_concentration_ng_ul</th><th scope=col>RIN_normal_threshold</th><th scope=col>RIN_lowered_threshold</th></tr>\n",
       "\t<tr><th scope=col>&lt;chr&gt;</th><th scope=col>&lt;dbl&gt;</th><th scope=col>&lt;chr&gt;</th><th scope=col>&lt;dbl&gt;</th><th scope=col>&lt;dbl&gt;</th><th scope=col>&lt;chr&gt;</th><th scope=col>&lt;chr&gt;</th><th scope=col>&lt;chr&gt;</th><th scope=col>&lt;chr&gt;</th><th scope=col>&lt;chr&gt;</th><th scope=col>⋯</th><th scope=col>&lt;chr&gt;</th><th scope=col>&lt;chr&gt;</th><th scope=col>&lt;dbl&gt;</th><th scope=col>&lt;dbl&gt;</th><th scope=col>&lt;dbl&gt;</th><th scope=col>&lt;dbl&gt;</th><th scope=col>&lt;dbl&gt;</th><th scope=col>&lt;dbl&gt;</th><th scope=col>&lt;chr&gt;</th><th scope=col>&lt;dbl&gt;</th></tr>\n",
       "</thead>\n",
       "<tbody>\n",
       "\t<tr><td>1_2019_P_M1</td><td>2019</td><td>P</td><td>1</td><td>1</td><td>WT</td><td>pH4</td><td>C</td><td>mRNA</td><td>M</td><td>⋯</td><td>i501</td><td>i701</td><td>1</td><td>1</td><td>2.14</td><td>1.52</td><td>293</td><td>197</td><td>N/A</td><td> 9.8</td></tr>\n",
       "\t<tr><td>2_2019_P_M1</td><td>2019</td><td>P</td><td>1</td><td>2</td><td>WT</td><td>pH4</td><td>C</td><td>mRNA</td><td>M</td><td>⋯</td><td>i502</td><td>i701</td><td>2</td><td>2</td><td>2.12</td><td>1.79</td><td>290</td><td>225</td><td>N/A</td><td> 9.9</td></tr>\n",
       "\t<tr><td>3_2019_P_M1</td><td>2019</td><td>P</td><td>1</td><td>3</td><td>WT</td><td>pH4</td><td>C</td><td>mRNA</td><td>M</td><td>⋯</td><td>i503</td><td>i701</td><td>3</td><td>3</td><td>2.11</td><td>2.49</td><td>302</td><td>241</td><td>N/A</td><td> 9.9</td></tr>\n",
       "\t<tr><td>4_2019_P_M1</td><td>2019</td><td>P</td><td>1</td><td>4</td><td>WT</td><td>pH4</td><td>P</td><td>mRNA</td><td>M</td><td>⋯</td><td>i504</td><td>i701</td><td>4</td><td>4</td><td>2.13</td><td>1.15</td><td>296</td><td>189</td><td>N/A</td><td> 9.7</td></tr>\n",
       "\t<tr><td>5_2019_P_M1</td><td>2019</td><td>P</td><td>1</td><td>5</td><td>WT</td><td>pH4</td><td>P</td><td>mRNA</td><td>M</td><td>⋯</td><td>i505</td><td>i701</td><td>5</td><td>5</td><td>2.09</td><td>2.42</td><td>337</td><td>268</td><td>10 </td><td>10.0</td></tr>\n",
       "\t<tr><td>6_2019_P_M1</td><td>2019</td><td>P</td><td>1</td><td>6</td><td>WT</td><td>pH4</td><td>P</td><td>mRNA</td><td>M</td><td>⋯</td><td>i506</td><td>i701</td><td>6</td><td>6</td><td>2.08</td><td>2.40</td><td>319</td><td>276</td><td>10 </td><td>10.0</td></tr>\n",
       "</tbody>\n",
       "</table>\n"
      ],
      "text/latex": [
       "A tibble: 6 × 22\n",
       "\\begin{tabular}{r|llllllllllllllllllllll}\n",
       " Label & sample\\_year & group & enrich\\_rep & RNA\\_sample\\_num & genotype & condition & libprep\\_person & enrichment\\_method & enrichment\\_short & i7\\_index & i5\\_index & i5\\_primer & i7\\_primer & library\\_num & bio\\_replicate & Nanodrop\\_260\\_280 & Nanodrop\\_260\\_230 & Nanodrop\\_concentration\\_ng\\_ul & Bioanalyzer\\_concentration\\_ng\\_ul & RIN\\_normal\\_threshold & RIN\\_lowered\\_threshold\\\\\n",
       " <chr> & <dbl> & <chr> & <dbl> & <dbl> & <chr> & <chr> & <chr> & <chr> & <chr> & <chr> & <chr> & <chr> & <chr> & <dbl> & <dbl> & <dbl> & <dbl> & <dbl> & <dbl> & <chr> & <dbl>\\\\\n",
       "\\hline\n",
       "\t 1\\_2019\\_P\\_M1 & 2019 & P & 1 & 1 & WT & pH4 & C & mRNA & M & ATTACTCG & AGGCTATA & i501 & i701 & 1 & 1 & 2.14 & 1.52 & 293 & 197 & N/A &  9.8\\\\\n",
       "\t 2\\_2019\\_P\\_M1 & 2019 & P & 1 & 2 & WT & pH4 & C & mRNA & M & ATTACTCG & GCCTCTAT & i502 & i701 & 2 & 2 & 2.12 & 1.79 & 290 & 225 & N/A &  9.9\\\\\n",
       "\t 3\\_2019\\_P\\_M1 & 2019 & P & 1 & 3 & WT & pH4 & C & mRNA & M & ATTACTCG & AGGATAGG & i503 & i701 & 3 & 3 & 2.11 & 2.49 & 302 & 241 & N/A &  9.9\\\\\n",
       "\t 4\\_2019\\_P\\_M1 & 2019 & P & 1 & 4 & WT & pH4 & P & mRNA & M & ATTACTCG & TCAGAGCC & i504 & i701 & 4 & 4 & 2.13 & 1.15 & 296 & 189 & N/A &  9.7\\\\\n",
       "\t 5\\_2019\\_P\\_M1 & 2019 & P & 1 & 5 & WT & pH4 & P & mRNA & M & ATTACTCG & CTTCGCCT & i505 & i701 & 5 & 5 & 2.09 & 2.42 & 337 & 268 & 10  & 10.0\\\\\n",
       "\t 6\\_2019\\_P\\_M1 & 2019 & P & 1 & 6 & WT & pH4 & P & mRNA & M & ATTACTCG & TAAGATTA & i506 & i701 & 6 & 6 & 2.08 & 2.40 & 319 & 276 & 10  & 10.0\\\\\n",
       "\\end{tabular}\n"
      ],
      "text/markdown": [
       "\n",
       "A tibble: 6 × 22\n",
       "\n",
       "| Label &lt;chr&gt; | sample_year &lt;dbl&gt; | group &lt;chr&gt; | enrich_rep &lt;dbl&gt; | RNA_sample_num &lt;dbl&gt; | genotype &lt;chr&gt; | condition &lt;chr&gt; | libprep_person &lt;chr&gt; | enrichment_method &lt;chr&gt; | enrichment_short &lt;chr&gt; | ⋯ ⋯ | i5_primer &lt;chr&gt; | i7_primer &lt;chr&gt; | library_num &lt;dbl&gt; | bio_replicate &lt;dbl&gt; | Nanodrop_260_280 &lt;dbl&gt; | Nanodrop_260_230 &lt;dbl&gt; | Nanodrop_concentration_ng_ul &lt;dbl&gt; | Bioanalyzer_concentration_ng_ul &lt;dbl&gt; | RIN_normal_threshold &lt;chr&gt; | RIN_lowered_threshold &lt;dbl&gt; |\n",
       "|---|---|---|---|---|---|---|---|---|---|---|---|---|---|---|---|---|---|---|---|---|\n",
       "| 1_2019_P_M1 | 2019 | P | 1 | 1 | WT | pH4 | C | mRNA | M | ⋯ | i501 | i701 | 1 | 1 | 2.14 | 1.52 | 293 | 197 | N/A |  9.8 |\n",
       "| 2_2019_P_M1 | 2019 | P | 1 | 2 | WT | pH4 | C | mRNA | M | ⋯ | i502 | i701 | 2 | 2 | 2.12 | 1.79 | 290 | 225 | N/A |  9.9 |\n",
       "| 3_2019_P_M1 | 2019 | P | 1 | 3 | WT | pH4 | C | mRNA | M | ⋯ | i503 | i701 | 3 | 3 | 2.11 | 2.49 | 302 | 241 | N/A |  9.9 |\n",
       "| 4_2019_P_M1 | 2019 | P | 1 | 4 | WT | pH4 | P | mRNA | M | ⋯ | i504 | i701 | 4 | 4 | 2.13 | 1.15 | 296 | 189 | N/A |  9.7 |\n",
       "| 5_2019_P_M1 | 2019 | P | 1 | 5 | WT | pH4 | P | mRNA | M | ⋯ | i505 | i701 | 5 | 5 | 2.09 | 2.42 | 337 | 268 | 10  | 10.0 |\n",
       "| 6_2019_P_M1 | 2019 | P | 1 | 6 | WT | pH4 | P | mRNA | M | ⋯ | i506 | i701 | 6 | 6 | 2.08 | 2.40 | 319 | 276 | 10  | 10.0 |\n",
       "\n"
      ],
      "text/plain": [
       "  Label       sample_year group enrich_rep RNA_sample_num genotype condition\n",
       "1 1_2019_P_M1 2019        P     1          1              WT       pH4      \n",
       "2 2_2019_P_M1 2019        P     1          2              WT       pH4      \n",
       "3 3_2019_P_M1 2019        P     1          3              WT       pH4      \n",
       "4 4_2019_P_M1 2019        P     1          4              WT       pH4      \n",
       "5 5_2019_P_M1 2019        P     1          5              WT       pH4      \n",
       "6 6_2019_P_M1 2019        P     1          6              WT       pH4      \n",
       "  libprep_person enrichment_method enrichment_short ⋯ i5_primer i7_primer\n",
       "1 C              mRNA              M                ⋯ i501      i701     \n",
       "2 C              mRNA              M                ⋯ i502      i701     \n",
       "3 C              mRNA              M                ⋯ i503      i701     \n",
       "4 P              mRNA              M                ⋯ i504      i701     \n",
       "5 P              mRNA              M                ⋯ i505      i701     \n",
       "6 P              mRNA              M                ⋯ i506      i701     \n",
       "  library_num bio_replicate Nanodrop_260_280 Nanodrop_260_230\n",
       "1 1           1             2.14             1.52            \n",
       "2 2           2             2.12             1.79            \n",
       "3 3           3             2.11             2.49            \n",
       "4 4           4             2.13             1.15            \n",
       "5 5           5             2.09             2.42            \n",
       "6 6           6             2.08             2.40            \n",
       "  Nanodrop_concentration_ng_ul Bioanalyzer_concentration_ng_ul\n",
       "1 293                          197                            \n",
       "2 290                          225                            \n",
       "3 302                          241                            \n",
       "4 296                          189                            \n",
       "5 337                          268                            \n",
       "6 319                          276                            \n",
       "  RIN_normal_threshold RIN_lowered_threshold\n",
       "1 N/A                   9.8                 \n",
       "2 N/A                   9.9                 \n",
       "3 N/A                   9.9                 \n",
       "4 N/A                   9.7                 \n",
       "5 10                   10.0                 \n",
       "6 10                   10.0                 "
      ]
     },
     "metadata": {},
     "output_type": "display_data"
    }
   ],
   "source": [
    "head(mtdf)"
   ]
  },
  {
   "cell_type": "code",
   "execution_count": 8,
   "metadata": {},
   "outputs": [
    {
     "name": "stdout",
     "output_type": "stream",
     "text": [
      "Classes ‘spec_tbl_df’, ‘tbl_df’, ‘tbl’ and 'data.frame':\t36 obs. of  22 variables:\n",
      " $ Label                          : chr  \"1_2019_P_M1\" \"2_2019_P_M1\" \"3_2019_P_M1\" \"4_2019_P_M1\" ...\n",
      " $ sample_year                    : num  2019 2019 2019 2019 2019 ...\n",
      " $ group                          : chr  \"P\" \"P\" \"P\" \"P\" ...\n",
      " $ enrich_rep                     : num  1 1 1 1 1 1 1 1 1 1 ...\n",
      " $ RNA_sample_num                 : num  1 2 3 4 5 6 7 8 9 10 ...\n",
      " $ genotype                       : chr  \"WT\" \"WT\" \"WT\" \"WT\" ...\n",
      " $ condition                      : chr  \"pH4\" \"pH4\" \"pH4\" \"pH4\" ...\n",
      " $ libprep_person                 : chr  \"C\" \"C\" \"C\" \"P\" ...\n",
      " $ enrichment_method              : chr  \"mRNA\" \"mRNA\" \"mRNA\" \"mRNA\" ...\n",
      " $ enrichment_short               : chr  \"M\" \"M\" \"M\" \"M\" ...\n",
      " $ i7_index                       : chr  \"ATTACTCG\" \"ATTACTCG\" \"ATTACTCG\" \"ATTACTCG\" ...\n",
      " $ i5_index                       : chr  \"AGGCTATA\" \"GCCTCTAT\" \"AGGATAGG\" \"TCAGAGCC\" ...\n",
      " $ i5_primer                      : chr  \"i501\" \"i502\" \"i503\" \"i504\" ...\n",
      " $ i7_primer                      : chr  \"i701\" \"i701\" \"i701\" \"i701\" ...\n",
      " $ library_num                    : num  1 2 3 4 5 6 7 8 9 10 ...\n",
      " $ bio_replicate                  : num  1 2 3 4 5 6 1 2 3 4 ...\n",
      " $ Nanodrop_260_280               : num  2.14 2.12 2.11 2.13 2.09 2.08 2.13 2.08 2.09 2.16 ...\n",
      " $ Nanodrop_260_230               : num  1.52 1.79 2.49 1.15 2.42 2.4 2.23 2.24 1.46 1.25 ...\n",
      " $ Nanodrop_concentration_ng_ul   : num  293 290 302 296 337 319 232 320 342 262 ...\n",
      " $ Bioanalyzer_concentration_ng_ul: num  197 225 241 189 268 276 127 311 326 168 ...\n",
      " $ RIN_normal_threshold           : chr  \"N/A\" \"N/A\" \"N/A\" \"N/A\" ...\n",
      " $ RIN_lowered_threshold          : num  9.8 9.9 9.9 9.7 10 10 9.9 10 9.6 10 ...\n",
      " - attr(*, \"spec\")=\n",
      "  .. cols(\n",
      "  ..   Label = \u001b[31mcol_character()\u001b[39m,\n",
      "  ..   sample_year = \u001b[32mcol_double()\u001b[39m,\n",
      "  ..   group = \u001b[31mcol_character()\u001b[39m,\n",
      "  ..   enrich_rep = \u001b[32mcol_double()\u001b[39m,\n",
      "  ..   RNA_sample_num = \u001b[32mcol_double()\u001b[39m,\n",
      "  ..   genotype = \u001b[31mcol_character()\u001b[39m,\n",
      "  ..   condition = \u001b[31mcol_character()\u001b[39m,\n",
      "  ..   libprep_person = \u001b[31mcol_character()\u001b[39m,\n",
      "  ..   enrichment_method = \u001b[31mcol_character()\u001b[39m,\n",
      "  ..   enrichment_short = \u001b[31mcol_character()\u001b[39m,\n",
      "  ..   i7_index = \u001b[31mcol_character()\u001b[39m,\n",
      "  ..   i5_index = \u001b[31mcol_character()\u001b[39m,\n",
      "  ..   i5_primer = \u001b[31mcol_character()\u001b[39m,\n",
      "  ..   i7_primer = \u001b[31mcol_character()\u001b[39m,\n",
      "  ..   library_num = \u001b[32mcol_double()\u001b[39m,\n",
      "  ..   bio_replicate = \u001b[32mcol_double()\u001b[39m,\n",
      "  ..   Nanodrop_260_280 = \u001b[32mcol_double()\u001b[39m,\n",
      "  ..   Nanodrop_260_230 = \u001b[32mcol_double()\u001b[39m,\n",
      "  ..   Nanodrop_concentration_ng_ul = \u001b[32mcol_double()\u001b[39m,\n",
      "  ..   Bioanalyzer_concentration_ng_ul = \u001b[32mcol_double()\u001b[39m,\n",
      "  ..   RIN_normal_threshold = \u001b[31mcol_character()\u001b[39m,\n",
      "  ..   RIN_lowered_threshold = \u001b[32mcol_double()\u001b[39m\n",
      "  .. )\n"
     ]
    }
   ],
   "source": [
    "str(mtdf)"
   ]
  },
  {
   "cell_type": "markdown",
   "metadata": {},
   "source": [
    "### Check to see if we can match the labels of counts\n",
    "### to those in the metadata file"
   ]
  },
  {
   "cell_type": "code",
   "execution_count": 9,
   "metadata": {},
   "outputs": [
    {
     "data": {
      "text/html": [
       "<ol class=list-inline>\n",
       "\t<li>'2_2018_P_H1'</li>\n",
       "\t<li>'3_2018_P_H1'</li>\n",
       "\t<li>'4_2018_P_H1'</li>\n",
       "\t<li>'2_2018_P_H2'</li>\n",
       "\t<li>'3_2018_P_H2'</li>\n",
       "\t<li>'4_2018_P_H2'</li>\n",
       "\t<li>'2_2018_P_T1'</li>\n",
       "\t<li>'3_2018_P_T1'</li>\n",
       "\t<li>'4_2018_P_T1'</li>\n",
       "</ol>\n"
      ],
      "text/latex": [
       "\\begin{enumerate*}\n",
       "\\item '2\\_2018\\_P\\_H1'\n",
       "\\item '3\\_2018\\_P\\_H1'\n",
       "\\item '4\\_2018\\_P\\_H1'\n",
       "\\item '2\\_2018\\_P\\_H2'\n",
       "\\item '3\\_2018\\_P\\_H2'\n",
       "\\item '4\\_2018\\_P\\_H2'\n",
       "\\item '2\\_2018\\_P\\_T1'\n",
       "\\item '3\\_2018\\_P\\_T1'\n",
       "\\item '4\\_2018\\_P\\_T1'\n",
       "\\end{enumerate*}\n"
      ],
      "text/markdown": [
       "1. '2_2018_P_H1'\n",
       "2. '3_2018_P_H1'\n",
       "3. '4_2018_P_H1'\n",
       "4. '2_2018_P_H2'\n",
       "5. '3_2018_P_H2'\n",
       "6. '4_2018_P_H2'\n",
       "7. '2_2018_P_T1'\n",
       "8. '3_2018_P_T1'\n",
       "9. '4_2018_P_T1'\n",
       "\n",
       "\n"
      ],
      "text/plain": [
       "[1] \"2_2018_P_H1\" \"3_2018_P_H1\" \"4_2018_P_H1\" \"2_2018_P_H2\" \"3_2018_P_H2\"\n",
       "[6] \"4_2018_P_H2\" \"2_2018_P_T1\" \"3_2018_P_T1\" \"4_2018_P_T1\""
      ]
     },
     "metadata": {},
     "output_type": "display_data"
    }
   ],
   "source": [
    "myregex <- \"_[A-Z](100|[1-9][0-9]?)_L00[1-4]_ReadsPerGene.out.tab\"\n",
    "\n",
    "mtdf$Label %>%\n",
    "    setdiff(gsub(myregex, \"\", mapresults$expid))"
   ]
  },
  {
   "cell_type": "markdown",
   "metadata": {},
   "source": [
    "### Add the \"Label\" to the count matrix and mapping results,\n",
    "### and the merge in phenotype data (by Label)\n",
    "\n",
    "### Add \"Label\" to genecounts"
   ]
  },
  {
   "cell_type": "code",
   "execution_count": 11,
   "metadata": {},
   "outputs": [],
   "source": [
    "genecounts %>%\n",
    "    mutate(Label=gsub(myregex, \"\", c(expid))) ->\n",
    "    annogenecnts"
   ]
  },
  {
   "cell_type": "code",
   "execution_count": 12,
   "metadata": {},
   "outputs": [
    {
     "data": {
      "text/html": [
       "<ol class=list-inline>\n",
       "\t<li>108</li>\n",
       "\t<li>8500</li>\n",
       "</ol>\n"
      ],
      "text/latex": [
       "\\begin{enumerate*}\n",
       "\\item 108\n",
       "\\item 8500\n",
       "\\end{enumerate*}\n"
      ],
      "text/markdown": [
       "1. 108\n",
       "2. 8500\n",
       "\n",
       "\n"
      ],
      "text/plain": [
       "[1]  108 8500"
      ]
     },
     "metadata": {},
     "output_type": "display_data"
    }
   ],
   "source": [
    "dim(genecounts)"
   ]
  },
  {
   "cell_type": "code",
   "execution_count": 13,
   "metadata": {},
   "outputs": [
    {
     "data": {
      "text/html": [
       "<ol class=list-inline>\n",
       "\t<li>108</li>\n",
       "\t<li>8501</li>\n",
       "</ol>\n"
      ],
      "text/latex": [
       "\\begin{enumerate*}\n",
       "\\item 108\n",
       "\\item 8501\n",
       "\\end{enumerate*}\n"
      ],
      "text/markdown": [
       "1. 108\n",
       "2. 8501\n",
       "\n",
       "\n"
      ],
      "text/plain": [
       "[1]  108 8501"
      ]
     },
     "metadata": {},
     "output_type": "display_data"
    }
   ],
   "source": [
    "dim(annogenecnts)"
   ]
  },
  {
   "cell_type": "markdown",
   "metadata": {},
   "source": [
    "### Collapse the gene counts within each label"
   ]
  },
  {
   "cell_type": "code",
   "execution_count": 14,
   "metadata": {},
   "outputs": [
    {
     "data": {
      "text/html": [
       "<ol class=list-inline>\n",
       "\t<li>8499</li>\n",
       "\t<li>28</li>\n",
       "</ol>\n"
      ],
      "text/latex": [
       "\\begin{enumerate*}\n",
       "\\item 8499\n",
       "\\item 28\n",
       "\\end{enumerate*}\n"
      ],
      "text/markdown": [
       "1. 8499\n",
       "2. 28\n",
       "\n",
       "\n"
      ],
      "text/plain": [
       "[1] 8499   28"
      ]
     },
     "metadata": {},
     "output_type": "display_data"
    }
   ],
   "source": [
    "annogenecnts %>%\n",
    "    select(-expid) %>%\n",
    "    group_by(Label) %>%\n",
    "    summarize_all(sum) %>%\n",
    "    gather(gene, value, -Label) %>% \n",
    "    spread(Label, value) ->\n",
    "    annogenecnts0\n",
    "\n",
    "dim(annogenecnts0)"
   ]
  },
  {
   "cell_type": "code",
   "execution_count": 15,
   "metadata": {},
   "outputs": [
    {
     "data": {
      "text/html": [
       "<table>\n",
       "<caption>A tibble: 6 × 6</caption>\n",
       "<thead>\n",
       "\t<tr><th scope=col>gene</th><th scope=col>1_2019_P_M1</th><th scope=col>10_2019_P_M1</th><th scope=col>11_2019_P_M1</th><th scope=col>12_2019_P_M1</th><th scope=col>13_2019_P_M1</th></tr>\n",
       "\t<tr><th scope=col>&lt;chr&gt;</th><th scope=col>&lt;int&gt;</th><th scope=col>&lt;int&gt;</th><th scope=col>&lt;int&gt;</th><th scope=col>&lt;int&gt;</th><th scope=col>&lt;int&gt;</th></tr>\n",
       "</thead>\n",
       "<tbody>\n",
       "\t<tr><td>CNAG_00001</td><td>   0</td><td>   0</td><td>   0</td><td>   0</td><td>   0</td></tr>\n",
       "\t<tr><td>CNAG_00002</td><td> 158</td><td> 119</td><td>  90</td><td>  81</td><td> 188</td></tr>\n",
       "\t<tr><td>CNAG_00003</td><td> 201</td><td> 131</td><td> 121</td><td> 151</td><td> 215</td></tr>\n",
       "\t<tr><td>CNAG_00004</td><td> 904</td><td> 513</td><td> 573</td><td> 533</td><td> 474</td></tr>\n",
       "\t<tr><td>CNAG_00005</td><td>  22</td><td>  24</td><td>  18</td><td>  20</td><td>  25</td></tr>\n",
       "\t<tr><td>CNAG_00006</td><td>5964</td><td>3712</td><td>3353</td><td>3631</td><td>2088</td></tr>\n",
       "</tbody>\n",
       "</table>\n"
      ],
      "text/latex": [
       "A tibble: 6 × 6\n",
       "\\begin{tabular}{r|llllll}\n",
       " gene & 1\\_2019\\_P\\_M1 & 10\\_2019\\_P\\_M1 & 11\\_2019\\_P\\_M1 & 12\\_2019\\_P\\_M1 & 13\\_2019\\_P\\_M1\\\\\n",
       " <chr> & <int> & <int> & <int> & <int> & <int>\\\\\n",
       "\\hline\n",
       "\t CNAG\\_00001 &    0 &    0 &    0 &    0 &    0\\\\\n",
       "\t CNAG\\_00002 &  158 &  119 &   90 &   81 &  188\\\\\n",
       "\t CNAG\\_00003 &  201 &  131 &  121 &  151 &  215\\\\\n",
       "\t CNAG\\_00004 &  904 &  513 &  573 &  533 &  474\\\\\n",
       "\t CNAG\\_00005 &   22 &   24 &   18 &   20 &   25\\\\\n",
       "\t CNAG\\_00006 & 5964 & 3712 & 3353 & 3631 & 2088\\\\\n",
       "\\end{tabular}\n"
      ],
      "text/markdown": [
       "\n",
       "A tibble: 6 × 6\n",
       "\n",
       "| gene &lt;chr&gt; | 1_2019_P_M1 &lt;int&gt; | 10_2019_P_M1 &lt;int&gt; | 11_2019_P_M1 &lt;int&gt; | 12_2019_P_M1 &lt;int&gt; | 13_2019_P_M1 &lt;int&gt; |\n",
       "|---|---|---|---|---|---|\n",
       "| CNAG_00001 |    0 |    0 |    0 |    0 |    0 |\n",
       "| CNAG_00002 |  158 |  119 |   90 |   81 |  188 |\n",
       "| CNAG_00003 |  201 |  131 |  121 |  151 |  215 |\n",
       "| CNAG_00004 |  904 |  513 |  573 |  533 |  474 |\n",
       "| CNAG_00005 |   22 |   24 |   18 |   20 |   25 |\n",
       "| CNAG_00006 | 5964 | 3712 | 3353 | 3631 | 2088 |\n",
       "\n"
      ],
      "text/plain": [
       "  gene       1_2019_P_M1 10_2019_P_M1 11_2019_P_M1 12_2019_P_M1 13_2019_P_M1\n",
       "1 CNAG_00001    0           0            0            0            0        \n",
       "2 CNAG_00002  158         119           90           81          188        \n",
       "3 CNAG_00003  201         131          121          151          215        \n",
       "4 CNAG_00004  904         513          573          533          474        \n",
       "5 CNAG_00005   22          24           18           20           25        \n",
       "6 CNAG_00006 5964        3712         3353         3631         2088        "
      ]
     },
     "metadata": {},
     "output_type": "display_data"
    }
   ],
   "source": [
    "annogenecnts0[1:6, 1:6]"
   ]
  },
  {
   "cell_type": "markdown",
   "metadata": {},
   "source": [
    "### Add \"Label\" to read map results and merge in phenotype data"
   ]
  },
  {
   "cell_type": "code",
   "execution_count": 16,
   "metadata": {},
   "outputs": [
    {
     "data": {
      "text/html": [
       "<ol class=list-inline>\n",
       "\t<li>117</li>\n",
       "\t<li>32</li>\n",
       "</ol>\n"
      ],
      "text/latex": [
       "\\begin{enumerate*}\n",
       "\\item 117\n",
       "\\item 32\n",
       "\\end{enumerate*}\n"
      ],
      "text/markdown": [
       "1. 117\n",
       "2. 32\n",
       "\n",
       "\n"
      ],
      "text/plain": [
       "[1] 117  32"
      ]
     },
     "metadata": {},
     "output_type": "display_data"
    }
   ],
   "source": [
    "mapresults %>%\n",
    "    mutate(Label=str_replace(expid, myregex, \"\")) %>%\n",
    "    full_join(mtdf, by=\"Label\") ->\n",
    "    annomapres\n",
    "\n",
    "dim(annomapres)"
   ]
  },
  {
   "cell_type": "code",
   "execution_count": 17,
   "metadata": {},
   "outputs": [],
   "source": [
    "grpvars<-vars(Label, genotype, condition, sample_year,\n",
    "              libprep_person,enrichment_method)\n",
    "sumvars<-vars(prob.gene,prob.nofeat,prob.unique,depth)\n",
    "\n",
    "annomapres %>%\n",
    "  group_by_at(grpvars) %>%\n",
    "  summarize_at(sumvars,mean) -> annomapres0"
   ]
  },
  {
   "cell_type": "code",
   "execution_count": 18,
   "metadata": {},
   "outputs": [
    {
     "data": {
      "text/html": [
       "<strong>/home/jovyan/work/scratch/analysis_output/out/HTS-Pilot-Annotated-STAR-counts.RData:</strong> '88a4df858ec7c7a29e6d91548b97ae49'"
      ],
      "text/latex": [
       "\\textbf{/home/jovyan/work/scratch/analysis\\textbackslash{}\\_output/out/HTS-Pilot-Annotated-STAR-counts.RData:} '88a4df858ec7c7a29e6d91548b97ae49'"
      ],
      "text/markdown": [
       "**/home/jovyan/work/scratch/analysis_output/out/HTS-Pilot-Annotated-STAR-counts.RData:** '88a4df858ec7c7a29e6d91548b97ae49'"
      ],
      "text/plain": [
       "/home/jovyan/work/scratch/analysis_output/out/HTS-Pilot-Annotated-STAR-counts.RData \n",
       "                                                 \"88a4df858ec7c7a29e6d91548b97ae49\" "
      ]
     },
     "metadata": {},
     "output_type": "display_data"
    }
   ],
   "source": [
    "outfile <- file.path(outdir, \"HTS-Pilot-Annotated-STAR-counts.RData\")\n",
    "save(mtdf, annogenecnts0, annomapres0, annogenecnts, annomapres, file = outfile)\n",
    "tools::md5sum(outfile)"
   ]
  },
  {
   "cell_type": "markdown",
   "metadata": {},
   "source": [
    "### Figures for mapping results"
   ]
  },
  {
   "cell_type": "code",
   "execution_count": 19,
   "metadata": {},
   "outputs": [],
   "source": [
    "mygeom <-  geom_point(position = position_jitter(w = 0.3, h = 0))\n",
    "mypal <- scale_colour_manual(name=\"\",  values =brewer.pal(3,\"Set1\"))\n",
    "mytheme <-  theme(axis.text.x = element_text(angle = 90, hjust = 1)) + theme_bw()\n",
    "myfacet <- facet_grid(genotype ~ group, drop=TRUE, scales=\"free_x\", space=\"free\")"
   ]
  },
  {
   "cell_type": "code",
   "execution_count": 20,
   "metadata": {},
   "outputs": [
    {
     "name": "stderr",
     "output_type": "stream",
     "text": [
      "Warning message:\n",
      "“Removed 9 rows containing missing values (geom_point).”"
     ]
    }
   ],
   "source": [
    "p1 <- ggplot(annomapres, aes(x=factor(Label), y=prob.unique, shape=genotype, color=condition))+\n",
    "        myfacet+mygeom+mytheme+mypal\n",
    "\n",
    "png(file.path(imgdir, \"p1.png\"), height=480*2, width=480*2)\n",
    "plot(p1)\n",
    "graphics.off()"
   ]
  },
  {
   "cell_type": "code",
   "execution_count": 21,
   "metadata": {},
   "outputs": [
    {
     "name": "stderr",
     "output_type": "stream",
     "text": [
      "Warning message:\n",
      "“Removed 9 rows containing missing values (geom_point).”"
     ]
    }
   ],
   "source": [
    "p2 <- ggplot(annomapres, aes(x=Label, y=prob.gene, shape=genotype, color=condition))+\n",
    "        myfacet+mygeom+mytheme+mypal\n",
    "  \n",
    "png(file.path(imgdir, \"p2.png\"), height=480*2, width=480*2)\n",
    "plot(p2)\n",
    "graphics.off()"
   ]
  },
  {
   "cell_type": "code",
   "execution_count": 22,
   "metadata": {},
   "outputs": [
    {
     "name": "stderr",
     "output_type": "stream",
     "text": [
      "Warning message:\n",
      "“Removed 9 rows containing missing values (geom_point).”"
     ]
    }
   ],
   "source": [
    "p3 <- ggplot(annomapres, aes(x=Label, y=prob.nofeat, shape=genotype, color=condition))+\n",
    "        myfacet+mygeom+mytheme+mypal\n",
    "png(file.path(imgdir, \"p3.png\"), height=480*2, width=480*2)\n",
    "plot(p3)\n",
    "graphics.off()"
   ]
  },
  {
   "cell_type": "code",
   "execution_count": 23,
   "metadata": {},
   "outputs": [
    {
     "name": "stderr",
     "output_type": "stream",
     "text": [
      "Warning message:\n",
      "“Removed 9 rows containing missing values (geom_point).”"
     ]
    }
   ],
   "source": [
    "p4 <- ggplot(annomapres, aes(x=Label, y=depth, shape=genotype, color=condition))+\n",
    "        myfacet+mygeom+mytheme+mypal\n",
    "png(file.path(imgdir, \"p4.png\"), height=480*2, width=480*2)\n",
    "plot(p4)\n",
    "graphics.off()"
   ]
  },
  {
   "cell_type": "code",
   "execution_count": null,
   "metadata": {},
   "outputs": [],
   "source": []
  }
 ],
 "metadata": {
  "kernelspec": {
   "display_name": "R",
   "language": "R",
   "name": "ir"
  },
  "language_info": {
   "codemirror_mode": "r",
   "file_extension": ".r",
   "mimetype": "text/x-r-source",
   "name": "R",
   "pygments_lexer": "r",
   "version": "3.5.2"
  }
 },
 "nbformat": 4,
 "nbformat_minor": 2
}
