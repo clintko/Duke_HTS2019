{
 "cells": [
  {
   "cell_type": "markdown",
   "metadata": {},
   "source": [
    "# Outline\n",
    "- Pre-processing\n",
    "- Additive model\n",
    "- Dendrogram/PC\n",
    "- Multiplicitive model"
   ]
  },
  {
   "cell_type": "markdown",
   "metadata": {},
   "source": [
    "### Load packages"
   ]
  },
  {
   "cell_type": "code",
   "execution_count": 1,
   "metadata": {},
   "outputs": [
    {
     "name": "stderr",
     "output_type": "stream",
     "text": [
      "Registered S3 methods overwritten by 'ggplot2':\n",
      "  method         from \n",
      "  [.quosures     rlang\n",
      "  c.quosures     rlang\n",
      "  print.quosures rlang\n",
      "── \u001b[1mAttaching packages\u001b[22m ─────────────────────────────────────── tidyverse 1.2.1 ──\n",
      "\u001b[32m✔\u001b[39m \u001b[34mggplot2\u001b[39m 3.1.1     \u001b[32m✔\u001b[39m \u001b[34mpurrr  \u001b[39m 0.3.2\n",
      "\u001b[32m✔\u001b[39m \u001b[34mtibble \u001b[39m 2.1.2     \u001b[32m✔\u001b[39m \u001b[34mdplyr  \u001b[39m 0.8.1\n",
      "\u001b[32m✔\u001b[39m \u001b[34mtidyr  \u001b[39m 0.8.3     \u001b[32m✔\u001b[39m \u001b[34mstringr\u001b[39m 1.4.0\n",
      "\u001b[32m✔\u001b[39m \u001b[34mreadr  \u001b[39m 1.3.1     \u001b[32m✔\u001b[39m \u001b[34mforcats\u001b[39m 0.4.0\n",
      "── \u001b[1mConflicts\u001b[22m ────────────────────────────────────────── tidyverse_conflicts() ──\n",
      "\u001b[31m✖\u001b[39m \u001b[34mdplyr\u001b[39m::\u001b[32mfilter()\u001b[39m masks \u001b[34mstats\u001b[39m::filter()\n",
      "\u001b[31m✖\u001b[39m \u001b[34mdplyr\u001b[39m::\u001b[32mlag()\u001b[39m    masks \u001b[34mstats\u001b[39m::lag()\n",
      "Loading required package: S4Vectors\n",
      "Loading required package: stats4\n",
      "Loading required package: BiocGenerics\n",
      "Loading required package: parallel\n",
      "\n",
      "Attaching package: ‘BiocGenerics’\n",
      "\n",
      "The following objects are masked from ‘package:parallel’:\n",
      "\n",
      "    clusterApply, clusterApplyLB, clusterCall, clusterEvalQ,\n",
      "    clusterExport, clusterMap, parApply, parCapply, parLapply,\n",
      "    parLapplyLB, parRapply, parSapply, parSapplyLB\n",
      "\n",
      "The following objects are masked from ‘package:dplyr’:\n",
      "\n",
      "    combine, intersect, setdiff, union\n",
      "\n",
      "The following objects are masked from ‘package:stats’:\n",
      "\n",
      "    IQR, mad, sd, var, xtabs\n",
      "\n",
      "The following objects are masked from ‘package:base’:\n",
      "\n",
      "    anyDuplicated, append, as.data.frame, basename, cbind, colnames,\n",
      "    dirname, do.call, duplicated, eval, evalq, Filter, Find, get, grep,\n",
      "    grepl, intersect, is.unsorted, lapply, Map, mapply, match, mget,\n",
      "    order, paste, pmax, pmax.int, pmin, pmin.int, Position, rank,\n",
      "    rbind, Reduce, rownames, sapply, setdiff, sort, table, tapply,\n",
      "    union, unique, unsplit, which, which.max, which.min\n",
      "\n",
      "\n",
      "Attaching package: ‘S4Vectors’\n",
      "\n",
      "The following objects are masked from ‘package:dplyr’:\n",
      "\n",
      "    first, rename\n",
      "\n",
      "The following object is masked from ‘package:tidyr’:\n",
      "\n",
      "    expand\n",
      "\n",
      "The following object is masked from ‘package:base’:\n",
      "\n",
      "    expand.grid\n",
      "\n",
      "Loading required package: IRanges\n",
      "\n",
      "Attaching package: ‘IRanges’\n",
      "\n",
      "The following objects are masked from ‘package:dplyr’:\n",
      "\n",
      "    collapse, desc, slice\n",
      "\n",
      "The following object is masked from ‘package:purrr’:\n",
      "\n",
      "    reduce\n",
      "\n",
      "Loading required package: GenomicRanges\n",
      "Loading required package: GenomeInfoDb\n",
      "Loading required package: SummarizedExperiment\n",
      "Loading required package: Biobase\n",
      "Welcome to Bioconductor\n",
      "\n",
      "    Vignettes contain introductory material; view with\n",
      "    'browseVignettes()'. To cite Bioconductor, see\n",
      "    'citation(\"Biobase\")', and for packages 'citation(\"pkgname\")'.\n",
      "\n",
      "Loading required package: DelayedArray\n",
      "Loading required package: matrixStats\n",
      "\n",
      "Attaching package: ‘matrixStats’\n",
      "\n",
      "The following objects are masked from ‘package:Biobase’:\n",
      "\n",
      "    anyMissing, rowMedians\n",
      "\n",
      "The following object is masked from ‘package:dplyr’:\n",
      "\n",
      "    count\n",
      "\n",
      "Loading required package: BiocParallel\n",
      "\n",
      "Attaching package: ‘DelayedArray’\n",
      "\n",
      "The following objects are masked from ‘package:matrixStats’:\n",
      "\n",
      "    colMaxs, colMins, colRanges, rowMaxs, rowMins, rowRanges\n",
      "\n",
      "The following object is masked from ‘package:purrr’:\n",
      "\n",
      "    simplify\n",
      "\n",
      "The following objects are masked from ‘package:base’:\n",
      "\n",
      "    aperm, apply, rowsum\n",
      "\n"
     ]
    }
   ],
   "source": [
    "library(tidyverse)\n",
    "library(DESeq2)"
   ]
  },
  {
   "cell_type": "markdown",
   "metadata": {},
   "source": [
    "### Load the 2019 pilot count objects from the image file"
   ]
  },
  {
   "cell_type": "code",
   "execution_count": 3,
   "metadata": {},
   "outputs": [
    {
     "data": {
      "text/html": [
       "'/home/jovyan/work/scratch/analysis_output/img/pilotcnt2019.RData'"
      ],
      "text/latex": [
       "'/home/jovyan/work/scratch/analysis\\_output/img/pilotcnt2019.RData'"
      ],
      "text/markdown": [
       "'/home/jovyan/work/scratch/analysis_output/img/pilotcnt2019.RData'"
      ],
      "text/plain": [
       "[1] \"/home/jovyan/work/scratch/analysis_output/img/pilotcnt2019.RData\""
      ]
     },
     "metadata": {},
     "output_type": "display_data"
    },
    {
     "name": "stderr",
     "output_type": "stream",
     "text": [
      "The following objects are masked _by_ .GlobalEnv:\n",
      "\n",
      "    cnt2019, mtdf2019\n",
      "\n"
     ]
    },
    {
     "data": {
      "text/html": [
       "<strong>/home/jovyan/work/scratch/analysis_output/img/pilotcnt2019.RData:</strong> '0d1cdfc8bb97baf52ca4f8f33e2c0ae4'"
      ],
      "text/latex": [
       "\\textbf{/home/jovyan/work/scratch/analysis\\textbackslash{}\\_output/img/pilotcnt2019.RData:} '0d1cdfc8bb97baf52ca4f8f33e2c0ae4'"
      ],
      "text/markdown": [
       "**/home/jovyan/work/scratch/analysis_output/img/pilotcnt2019.RData:** '0d1cdfc8bb97baf52ca4f8f33e2c0ae4'"
      ],
      "text/plain": [
       "/home/jovyan/work/scratch/analysis_output/img/pilotcnt2019.RData \n",
       "                              \"0d1cdfc8bb97baf52ca4f8f33e2c0ae4\" "
      ]
     },
     "metadata": {},
     "output_type": "display_data"
    },
    {
     "data": {
      "text/html": [
       "<ol class=list-inline>\n",
       "\t<li>'cnt2019'</li>\n",
       "\t<li>'mtdf2019'</li>\n",
       "</ol>\n"
      ],
      "text/latex": [
       "\\begin{enumerate*}\n",
       "\\item 'cnt2019'\n",
       "\\item 'mtdf2019'\n",
       "\\end{enumerate*}\n"
      ],
      "text/markdown": [
       "1. 'cnt2019'\n",
       "2. 'mtdf2019'\n",
       "\n",
       "\n"
      ],
      "text/plain": [
       "[1] \"cnt2019\"  \"mtdf2019\""
      ]
     },
     "metadata": {},
     "output_type": "display_data"
    }
   ],
   "source": [
    "curdir <- \"/home/jovyan/work/scratch/analysis_output\"\n",
    "imgdir <- file.path(curdir, \"img\")\n",
    "\n",
    "imgfile <- file.path(imgdir, \"pilotcnt2019.RData\")\n",
    "\n",
    "imgfile\n",
    "\n",
    "attach(imgfile)\n",
    "\n",
    "tools::md5sum(imgfile)\n",
    "\n",
    "### List the objects that have been attached\n",
    "ls(2)\n",
    "\n",
    "cnt2019 <- cnt2019\n",
    "mtdf2019 <- mtdf2019\n",
    "\n",
    "detach(pos = 2)"
   ]
  },
  {
   "cell_type": "markdown",
   "metadata": {},
   "source": [
    "### Check dimensions of the two objects"
   ]
  },
  {
   "cell_type": "code",
   "execution_count": 4,
   "metadata": {},
   "outputs": [
    {
     "data": {
      "text/html": [
       "<ol class=list-inline>\n",
       "\t<li>24</li>\n",
       "\t<li>8500</li>\n",
       "</ol>\n"
      ],
      "text/latex": [
       "\\begin{enumerate*}\n",
       "\\item 24\n",
       "\\item 8500\n",
       "\\end{enumerate*}\n"
      ],
      "text/markdown": [
       "1. 24\n",
       "2. 8500\n",
       "\n",
       "\n"
      ],
      "text/plain": [
       "[1]   24 8500"
      ]
     },
     "metadata": {},
     "output_type": "display_data"
    },
    {
     "data": {
      "text/html": [
       "<ol class=list-inline>\n",
       "\t<li>24</li>\n",
       "\t<li>22</li>\n",
       "</ol>\n"
      ],
      "text/latex": [
       "\\begin{enumerate*}\n",
       "\\item 24\n",
       "\\item 22\n",
       "\\end{enumerate*}\n"
      ],
      "text/markdown": [
       "1. 24\n",
       "2. 22\n",
       "\n",
       "\n"
      ],
      "text/plain": [
       "[1] 24 22"
      ]
     },
     "metadata": {},
     "output_type": "display_data"
    }
   ],
   "source": [
    "dim(cnt2019)\n",
    "dim(mtdf2019)"
   ]
  },
  {
   "cell_type": "code",
   "execution_count": 6,
   "metadata": {},
   "outputs": [
    {
     "data": {
      "text/html": [
       "<table>\n",
       "<caption>A tibble: 6 × 22</caption>\n",
       "<thead>\n",
       "\t<tr><th scope=col>Label</th><th scope=col>sample_year</th><th scope=col>group</th><th scope=col>enrich_rep</th><th scope=col>RNA_sample_num</th><th scope=col>genotype</th><th scope=col>condition</th><th scope=col>libprep_person</th><th scope=col>enrichment_method</th><th scope=col>enrichment_short</th><th scope=col>⋯</th><th scope=col>i5_primer</th><th scope=col>i7_primer</th><th scope=col>library_num</th><th scope=col>bio_replicate</th><th scope=col>Nanodrop_260_280</th><th scope=col>Nanodrop_260_230</th><th scope=col>Nanodrop_concentration_ng_ul</th><th scope=col>Bioanalyzer_concentration_ng_ul</th><th scope=col>RIN_normal_threshold</th><th scope=col>RIN_lowered_threshold</th></tr>\n",
       "\t<tr><th scope=col>&lt;chr&gt;</th><th scope=col>&lt;dbl&gt;</th><th scope=col>&lt;chr&gt;</th><th scope=col>&lt;dbl&gt;</th><th scope=col>&lt;dbl&gt;</th><th scope=col>&lt;chr&gt;</th><th scope=col>&lt;chr&gt;</th><th scope=col>&lt;chr&gt;</th><th scope=col>&lt;chr&gt;</th><th scope=col>&lt;chr&gt;</th><th scope=col>⋯</th><th scope=col>&lt;chr&gt;</th><th scope=col>&lt;chr&gt;</th><th scope=col>&lt;dbl&gt;</th><th scope=col>&lt;dbl&gt;</th><th scope=col>&lt;dbl&gt;</th><th scope=col>&lt;dbl&gt;</th><th scope=col>&lt;dbl&gt;</th><th scope=col>&lt;dbl&gt;</th><th scope=col>&lt;chr&gt;</th><th scope=col>&lt;dbl&gt;</th></tr>\n",
       "</thead>\n",
       "<tbody>\n",
       "\t<tr><td>1_2019_P_M1</td><td>2019</td><td>P</td><td>1</td><td>1</td><td>WT</td><td>pH4</td><td>C</td><td>mRNA</td><td>M</td><td>⋯</td><td>i501</td><td>i701</td><td>1</td><td>1</td><td>2.14</td><td>1.52</td><td>293</td><td>197</td><td>N/A</td><td> 9.8</td></tr>\n",
       "\t<tr><td>2_2019_P_M1</td><td>2019</td><td>P</td><td>1</td><td>2</td><td>WT</td><td>pH4</td><td>C</td><td>mRNA</td><td>M</td><td>⋯</td><td>i502</td><td>i701</td><td>2</td><td>2</td><td>2.12</td><td>1.79</td><td>290</td><td>225</td><td>N/A</td><td> 9.9</td></tr>\n",
       "\t<tr><td>3_2019_P_M1</td><td>2019</td><td>P</td><td>1</td><td>3</td><td>WT</td><td>pH4</td><td>C</td><td>mRNA</td><td>M</td><td>⋯</td><td>i503</td><td>i701</td><td>3</td><td>3</td><td>2.11</td><td>2.49</td><td>302</td><td>241</td><td>N/A</td><td> 9.9</td></tr>\n",
       "\t<tr><td>4_2019_P_M1</td><td>2019</td><td>P</td><td>1</td><td>4</td><td>WT</td><td>pH4</td><td>P</td><td>mRNA</td><td>M</td><td>⋯</td><td>i504</td><td>i701</td><td>4</td><td>4</td><td>2.13</td><td>1.15</td><td>296</td><td>189</td><td>N/A</td><td> 9.7</td></tr>\n",
       "\t<tr><td>5_2019_P_M1</td><td>2019</td><td>P</td><td>1</td><td>5</td><td>WT</td><td>pH4</td><td>P</td><td>mRNA</td><td>M</td><td>⋯</td><td>i505</td><td>i701</td><td>5</td><td>5</td><td>2.09</td><td>2.42</td><td>337</td><td>268</td><td>10 </td><td>10.0</td></tr>\n",
       "\t<tr><td>6_2019_P_M1</td><td>2019</td><td>P</td><td>1</td><td>6</td><td>WT</td><td>pH4</td><td>P</td><td>mRNA</td><td>M</td><td>⋯</td><td>i506</td><td>i701</td><td>6</td><td>6</td><td>2.08</td><td>2.40</td><td>319</td><td>276</td><td>10 </td><td>10.0</td></tr>\n",
       "</tbody>\n",
       "</table>\n"
      ],
      "text/latex": [
       "A tibble: 6 × 22\n",
       "\\begin{tabular}{r|llllllllllllllllllllll}\n",
       " Label & sample\\_year & group & enrich\\_rep & RNA\\_sample\\_num & genotype & condition & libprep\\_person & enrichment\\_method & enrichment\\_short & i7\\_index & i5\\_index & i5\\_primer & i7\\_primer & library\\_num & bio\\_replicate & Nanodrop\\_260\\_280 & Nanodrop\\_260\\_230 & Nanodrop\\_concentration\\_ng\\_ul & Bioanalyzer\\_concentration\\_ng\\_ul & RIN\\_normal\\_threshold & RIN\\_lowered\\_threshold\\\\\n",
       " <chr> & <dbl> & <chr> & <dbl> & <dbl> & <chr> & <chr> & <chr> & <chr> & <chr> & <chr> & <chr> & <chr> & <chr> & <dbl> & <dbl> & <dbl> & <dbl> & <dbl> & <dbl> & <chr> & <dbl>\\\\\n",
       "\\hline\n",
       "\t 1\\_2019\\_P\\_M1 & 2019 & P & 1 & 1 & WT & pH4 & C & mRNA & M & ATTACTCG & AGGCTATA & i501 & i701 & 1 & 1 & 2.14 & 1.52 & 293 & 197 & N/A &  9.8\\\\\n",
       "\t 2\\_2019\\_P\\_M1 & 2019 & P & 1 & 2 & WT & pH4 & C & mRNA & M & ATTACTCG & GCCTCTAT & i502 & i701 & 2 & 2 & 2.12 & 1.79 & 290 & 225 & N/A &  9.9\\\\\n",
       "\t 3\\_2019\\_P\\_M1 & 2019 & P & 1 & 3 & WT & pH4 & C & mRNA & M & ATTACTCG & AGGATAGG & i503 & i701 & 3 & 3 & 2.11 & 2.49 & 302 & 241 & N/A &  9.9\\\\\n",
       "\t 4\\_2019\\_P\\_M1 & 2019 & P & 1 & 4 & WT & pH4 & P & mRNA & M & ATTACTCG & TCAGAGCC & i504 & i701 & 4 & 4 & 2.13 & 1.15 & 296 & 189 & N/A &  9.7\\\\\n",
       "\t 5\\_2019\\_P\\_M1 & 2019 & P & 1 & 5 & WT & pH4 & P & mRNA & M & ATTACTCG & CTTCGCCT & i505 & i701 & 5 & 5 & 2.09 & 2.42 & 337 & 268 & 10  & 10.0\\\\\n",
       "\t 6\\_2019\\_P\\_M1 & 2019 & P & 1 & 6 & WT & pH4 & P & mRNA & M & ATTACTCG & TAAGATTA & i506 & i701 & 6 & 6 & 2.08 & 2.40 & 319 & 276 & 10  & 10.0\\\\\n",
       "\\end{tabular}\n"
      ],
      "text/markdown": [
       "\n",
       "A tibble: 6 × 22\n",
       "\n",
       "| Label &lt;chr&gt; | sample_year &lt;dbl&gt; | group &lt;chr&gt; | enrich_rep &lt;dbl&gt; | RNA_sample_num &lt;dbl&gt; | genotype &lt;chr&gt; | condition &lt;chr&gt; | libprep_person &lt;chr&gt; | enrichment_method &lt;chr&gt; | enrichment_short &lt;chr&gt; | ⋯ ⋯ | i5_primer &lt;chr&gt; | i7_primer &lt;chr&gt; | library_num &lt;dbl&gt; | bio_replicate &lt;dbl&gt; | Nanodrop_260_280 &lt;dbl&gt; | Nanodrop_260_230 &lt;dbl&gt; | Nanodrop_concentration_ng_ul &lt;dbl&gt; | Bioanalyzer_concentration_ng_ul &lt;dbl&gt; | RIN_normal_threshold &lt;chr&gt; | RIN_lowered_threshold &lt;dbl&gt; |\n",
       "|---|---|---|---|---|---|---|---|---|---|---|---|---|---|---|---|---|---|---|---|---|\n",
       "| 1_2019_P_M1 | 2019 | P | 1 | 1 | WT | pH4 | C | mRNA | M | ⋯ | i501 | i701 | 1 | 1 | 2.14 | 1.52 | 293 | 197 | N/A |  9.8 |\n",
       "| 2_2019_P_M1 | 2019 | P | 1 | 2 | WT | pH4 | C | mRNA | M | ⋯ | i502 | i701 | 2 | 2 | 2.12 | 1.79 | 290 | 225 | N/A |  9.9 |\n",
       "| 3_2019_P_M1 | 2019 | P | 1 | 3 | WT | pH4 | C | mRNA | M | ⋯ | i503 | i701 | 3 | 3 | 2.11 | 2.49 | 302 | 241 | N/A |  9.9 |\n",
       "| 4_2019_P_M1 | 2019 | P | 1 | 4 | WT | pH4 | P | mRNA | M | ⋯ | i504 | i701 | 4 | 4 | 2.13 | 1.15 | 296 | 189 | N/A |  9.7 |\n",
       "| 5_2019_P_M1 | 2019 | P | 1 | 5 | WT | pH4 | P | mRNA | M | ⋯ | i505 | i701 | 5 | 5 | 2.09 | 2.42 | 337 | 268 | 10  | 10.0 |\n",
       "| 6_2019_P_M1 | 2019 | P | 1 | 6 | WT | pH4 | P | mRNA | M | ⋯ | i506 | i701 | 6 | 6 | 2.08 | 2.40 | 319 | 276 | 10  | 10.0 |\n",
       "\n"
      ],
      "text/plain": [
       "  Label       sample_year group enrich_rep RNA_sample_num genotype condition\n",
       "1 1_2019_P_M1 2019        P     1          1              WT       pH4      \n",
       "2 2_2019_P_M1 2019        P     1          2              WT       pH4      \n",
       "3 3_2019_P_M1 2019        P     1          3              WT       pH4      \n",
       "4 4_2019_P_M1 2019        P     1          4              WT       pH4      \n",
       "5 5_2019_P_M1 2019        P     1          5              WT       pH4      \n",
       "6 6_2019_P_M1 2019        P     1          6              WT       pH4      \n",
       "  libprep_person enrichment_method enrichment_short ⋯ i5_primer i7_primer\n",
       "1 C              mRNA              M                ⋯ i501      i701     \n",
       "2 C              mRNA              M                ⋯ i502      i701     \n",
       "3 C              mRNA              M                ⋯ i503      i701     \n",
       "4 P              mRNA              M                ⋯ i504      i701     \n",
       "5 P              mRNA              M                ⋯ i505      i701     \n",
       "6 P              mRNA              M                ⋯ i506      i701     \n",
       "  library_num bio_replicate Nanodrop_260_280 Nanodrop_260_230\n",
       "1 1           1             2.14             1.52            \n",
       "2 2           2             2.12             1.79            \n",
       "3 3           3             2.11             2.49            \n",
       "4 4           4             2.13             1.15            \n",
       "5 5           5             2.09             2.42            \n",
       "6 6           6             2.08             2.40            \n",
       "  Nanodrop_concentration_ng_ul Bioanalyzer_concentration_ng_ul\n",
       "1 293                          197                            \n",
       "2 290                          225                            \n",
       "3 302                          241                            \n",
       "4 296                          189                            \n",
       "5 337                          268                            \n",
       "6 319                          276                            \n",
       "  RIN_normal_threshold RIN_lowered_threshold\n",
       "1 N/A                   9.8                 \n",
       "2 N/A                   9.9                 \n",
       "3 N/A                   9.9                 \n",
       "4 N/A                   9.7                 \n",
       "5 10                   10.0                 \n",
       "6 10                   10.0                 "
      ]
     },
     "metadata": {},
     "output_type": "display_data"
    }
   ],
   "source": [
    "mtdf2019 %>% head"
   ]
  },
  {
   "cell_type": "code",
   "execution_count": 7,
   "metadata": {},
   "outputs": [
    {
     "data": {
      "text/html": [
       "<table>\n",
       "<caption>A tibble: 24 × 5</caption>\n",
       "<thead>\n",
       "\t<tr><th scope=col>Label</th><th scope=col>CNAG_00001</th><th scope=col>CNAG_00002</th><th scope=col>CNAG_00003</th><th scope=col>CNAG_00004</th></tr>\n",
       "\t<tr><th scope=col>&lt;chr&gt;</th><th scope=col>&lt;int&gt;</th><th scope=col>&lt;int&gt;</th><th scope=col>&lt;int&gt;</th><th scope=col>&lt;int&gt;</th></tr>\n",
       "</thead>\n",
       "<tbody>\n",
       "\t<tr><td>1_2019_P_M1 </td><td>0</td><td>158</td><td>201</td><td>904</td></tr>\n",
       "\t<tr><td>10_2019_P_M1</td><td>0</td><td>119</td><td>131</td><td>513</td></tr>\n",
       "\t<tr><td>11_2019_P_M1</td><td>0</td><td> 90</td><td>121</td><td>573</td></tr>\n",
       "\t<tr><td>12_2019_P_M1</td><td>0</td><td> 81</td><td>151</td><td>533</td></tr>\n",
       "\t<tr><td>13_2019_P_M1</td><td>0</td><td>188</td><td>215</td><td>474</td></tr>\n",
       "\t<tr><td>14_2019_P_M1</td><td>0</td><td>177</td><td>154</td><td>440</td></tr>\n",
       "\t<tr><td>15_2019_P_M1</td><td>0</td><td>216</td><td>197</td><td>425</td></tr>\n",
       "\t<tr><td>16_2019_P_M1</td><td>0</td><td>224</td><td>195</td><td>548</td></tr>\n",
       "\t<tr><td>17_2019_P_M1</td><td>0</td><td>234</td><td>211</td><td>517</td></tr>\n",
       "\t<tr><td>18_2019_P_M1</td><td>0</td><td>338</td><td>201</td><td>464</td></tr>\n",
       "\t<tr><td>19_2019_P_M1</td><td>0</td><td>191</td><td>118</td><td>458</td></tr>\n",
       "\t<tr><td>2_2019_P_M1 </td><td>0</td><td>204</td><td>156</td><td>902</td></tr>\n",
       "\t<tr><td>20_2019_P_M1</td><td>0</td><td>201</td><td>133</td><td>405</td></tr>\n",
       "\t<tr><td>21_2019_P_M1</td><td>0</td><td>192</td><td>109</td><td>339</td></tr>\n",
       "\t<tr><td>22_2019_P_M1</td><td>0</td><td>166</td><td>113</td><td>406</td></tr>\n",
       "\t<tr><td>23_2019_P_M1</td><td>0</td><td>202</td><td>154</td><td>442</td></tr>\n",
       "\t<tr><td>24_2019_P_M1</td><td>0</td><td>235</td><td>169</td><td>523</td></tr>\n",
       "\t<tr><td>3_2019_P_M1 </td><td>0</td><td>149</td><td>161</td><td>941</td></tr>\n",
       "\t<tr><td>4_2019_P_M1 </td><td>0</td><td>176</td><td>171</td><td>795</td></tr>\n",
       "\t<tr><td>5_2019_P_M1 </td><td>0</td><td>161</td><td>162</td><td>849</td></tr>\n",
       "\t<tr><td>6_2019_P_M1 </td><td>0</td><td>148</td><td>103</td><td>688</td></tr>\n",
       "\t<tr><td>7_2019_P_M1 </td><td>0</td><td>172</td><td>172</td><td>768</td></tr>\n",
       "\t<tr><td>8_2019_P_M1 </td><td>0</td><td>169</td><td>170</td><td>744</td></tr>\n",
       "\t<tr><td>9_2019_P_M1 </td><td>0</td><td>124</td><td>175</td><td>659</td></tr>\n",
       "</tbody>\n",
       "</table>\n"
      ],
      "text/latex": [
       "A tibble: 24 × 5\n",
       "\\begin{tabular}{r|lllll}\n",
       " Label & CNAG\\_00001 & CNAG\\_00002 & CNAG\\_00003 & CNAG\\_00004\\\\\n",
       " <chr> & <int> & <int> & <int> & <int>\\\\\n",
       "\\hline\n",
       "\t 1\\_2019\\_P\\_M1  & 0 & 158 & 201 & 904\\\\\n",
       "\t 10\\_2019\\_P\\_M1 & 0 & 119 & 131 & 513\\\\\n",
       "\t 11\\_2019\\_P\\_M1 & 0 &  90 & 121 & 573\\\\\n",
       "\t 12\\_2019\\_P\\_M1 & 0 &  81 & 151 & 533\\\\\n",
       "\t 13\\_2019\\_P\\_M1 & 0 & 188 & 215 & 474\\\\\n",
       "\t 14\\_2019\\_P\\_M1 & 0 & 177 & 154 & 440\\\\\n",
       "\t 15\\_2019\\_P\\_M1 & 0 & 216 & 197 & 425\\\\\n",
       "\t 16\\_2019\\_P\\_M1 & 0 & 224 & 195 & 548\\\\\n",
       "\t 17\\_2019\\_P\\_M1 & 0 & 234 & 211 & 517\\\\\n",
       "\t 18\\_2019\\_P\\_M1 & 0 & 338 & 201 & 464\\\\\n",
       "\t 19\\_2019\\_P\\_M1 & 0 & 191 & 118 & 458\\\\\n",
       "\t 2\\_2019\\_P\\_M1  & 0 & 204 & 156 & 902\\\\\n",
       "\t 20\\_2019\\_P\\_M1 & 0 & 201 & 133 & 405\\\\\n",
       "\t 21\\_2019\\_P\\_M1 & 0 & 192 & 109 & 339\\\\\n",
       "\t 22\\_2019\\_P\\_M1 & 0 & 166 & 113 & 406\\\\\n",
       "\t 23\\_2019\\_P\\_M1 & 0 & 202 & 154 & 442\\\\\n",
       "\t 24\\_2019\\_P\\_M1 & 0 & 235 & 169 & 523\\\\\n",
       "\t 3\\_2019\\_P\\_M1  & 0 & 149 & 161 & 941\\\\\n",
       "\t 4\\_2019\\_P\\_M1  & 0 & 176 & 171 & 795\\\\\n",
       "\t 5\\_2019\\_P\\_M1  & 0 & 161 & 162 & 849\\\\\n",
       "\t 6\\_2019\\_P\\_M1  & 0 & 148 & 103 & 688\\\\\n",
       "\t 7\\_2019\\_P\\_M1  & 0 & 172 & 172 & 768\\\\\n",
       "\t 8\\_2019\\_P\\_M1  & 0 & 169 & 170 & 744\\\\\n",
       "\t 9\\_2019\\_P\\_M1  & 0 & 124 & 175 & 659\\\\\n",
       "\\end{tabular}\n"
      ],
      "text/markdown": [
       "\n",
       "A tibble: 24 × 5\n",
       "\n",
       "| Label &lt;chr&gt; | CNAG_00001 &lt;int&gt; | CNAG_00002 &lt;int&gt; | CNAG_00003 &lt;int&gt; | CNAG_00004 &lt;int&gt; |\n",
       "|---|---|---|---|---|\n",
       "| 1_2019_P_M1  | 0 | 158 | 201 | 904 |\n",
       "| 10_2019_P_M1 | 0 | 119 | 131 | 513 |\n",
       "| 11_2019_P_M1 | 0 |  90 | 121 | 573 |\n",
       "| 12_2019_P_M1 | 0 |  81 | 151 | 533 |\n",
       "| 13_2019_P_M1 | 0 | 188 | 215 | 474 |\n",
       "| 14_2019_P_M1 | 0 | 177 | 154 | 440 |\n",
       "| 15_2019_P_M1 | 0 | 216 | 197 | 425 |\n",
       "| 16_2019_P_M1 | 0 | 224 | 195 | 548 |\n",
       "| 17_2019_P_M1 | 0 | 234 | 211 | 517 |\n",
       "| 18_2019_P_M1 | 0 | 338 | 201 | 464 |\n",
       "| 19_2019_P_M1 | 0 | 191 | 118 | 458 |\n",
       "| 2_2019_P_M1  | 0 | 204 | 156 | 902 |\n",
       "| 20_2019_P_M1 | 0 | 201 | 133 | 405 |\n",
       "| 21_2019_P_M1 | 0 | 192 | 109 | 339 |\n",
       "| 22_2019_P_M1 | 0 | 166 | 113 | 406 |\n",
       "| 23_2019_P_M1 | 0 | 202 | 154 | 442 |\n",
       "| 24_2019_P_M1 | 0 | 235 | 169 | 523 |\n",
       "| 3_2019_P_M1  | 0 | 149 | 161 | 941 |\n",
       "| 4_2019_P_M1  | 0 | 176 | 171 | 795 |\n",
       "| 5_2019_P_M1  | 0 | 161 | 162 | 849 |\n",
       "| 6_2019_P_M1  | 0 | 148 | 103 | 688 |\n",
       "| 7_2019_P_M1  | 0 | 172 | 172 | 768 |\n",
       "| 8_2019_P_M1  | 0 | 169 | 170 | 744 |\n",
       "| 9_2019_P_M1  | 0 | 124 | 175 | 659 |\n",
       "\n"
      ],
      "text/plain": [
       "   Label        CNAG_00001 CNAG_00002 CNAG_00003 CNAG_00004\n",
       "1  1_2019_P_M1  0          158        201        904       \n",
       "2  10_2019_P_M1 0          119        131        513       \n",
       "3  11_2019_P_M1 0           90        121        573       \n",
       "4  12_2019_P_M1 0           81        151        533       \n",
       "5  13_2019_P_M1 0          188        215        474       \n",
       "6  14_2019_P_M1 0          177        154        440       \n",
       "7  15_2019_P_M1 0          216        197        425       \n",
       "8  16_2019_P_M1 0          224        195        548       \n",
       "9  17_2019_P_M1 0          234        211        517       \n",
       "10 18_2019_P_M1 0          338        201        464       \n",
       "11 19_2019_P_M1 0          191        118        458       \n",
       "12 2_2019_P_M1  0          204        156        902       \n",
       "13 20_2019_P_M1 0          201        133        405       \n",
       "14 21_2019_P_M1 0          192        109        339       \n",
       "15 22_2019_P_M1 0          166        113        406       \n",
       "16 23_2019_P_M1 0          202        154        442       \n",
       "17 24_2019_P_M1 0          235        169        523       \n",
       "18 3_2019_P_M1  0          149        161        941       \n",
       "19 4_2019_P_M1  0          176        171        795       \n",
       "20 5_2019_P_M1  0          161        162        849       \n",
       "21 6_2019_P_M1  0          148        103        688       \n",
       "22 7_2019_P_M1  0          172        172        768       \n",
       "23 8_2019_P_M1  0          169        170        744       \n",
       "24 9_2019_P_M1  0          124        175        659       "
      ]
     },
     "metadata": {},
     "output_type": "display_data"
    }
   ],
   "source": [
    "cnt2019[,1:5]"
   ]
  },
  {
   "cell_type": "markdown",
   "metadata": {},
   "source": []
  },
  {
   "cell_type": "markdown",
   "metadata": {},
   "source": [
    "Prepare columnData DataFrame and countData (matrix object)\n",
    "- columnData --- metadata\n",
    "- countData  --- count matrix"
   ]
  },
  {
   "cell_type": "code",
   "execution_count": 8,
   "metadata": {},
   "outputs": [
    {
     "data": {
      "text/plain": [
       "DataFrame with 6 rows and 3 columns\n",
       "                  Label    genotype   condition\n",
       "            <character> <character> <character>\n",
       "1_2019_P_M1 1_2019_P_M1          WT         pH4\n",
       "2_2019_P_M1 2_2019_P_M1          WT         pH4\n",
       "3_2019_P_M1 3_2019_P_M1          WT         pH4\n",
       "4_2019_P_M1 4_2019_P_M1          WT         pH4\n",
       "5_2019_P_M1 5_2019_P_M1          WT         pH4\n",
       "6_2019_P_M1 6_2019_P_M1          WT         pH4"
      ]
     },
     "metadata": {},
     "output_type": "display_data"
    }
   ],
   "source": [
    "# columnData --- metadata\n",
    "mtdf2019 %>%\n",
    "    DataFrame ->\n",
    "        columnData\n",
    "\n",
    "### Add the labels as rownames\n",
    "rownames(columnData) <- columnData[[\"Label\"]]\n",
    "\n",
    "columnData[, c(\"Label\", \"genotype\", \"condition\")] %>% head"
   ]
  },
  {
   "cell_type": "code",
   "execution_count": null,
   "metadata": {},
   "outputs": [],
   "source": [
    "### Note that libraries are across rows and libraries across columns\n",
    "### DESeq2 requires that the matrix is transposed as that the gene names become row names\n",
    "cnt2019[1:4,1:5]"
   ]
  },
  {
   "cell_type": "code",
   "execution_count": 9,
   "metadata": {},
   "outputs": [
    {
     "data": {
      "text/html": [
       "<table>\n",
       "<caption>A matrix: 5 × 6 of type int</caption>\n",
       "<thead>\n",
       "\t<tr><th></th><th scope=col>1_2019_P_M1</th><th scope=col>10_2019_P_M1</th><th scope=col>11_2019_P_M1</th><th scope=col>12_2019_P_M1</th><th scope=col>13_2019_P_M1</th><th scope=col>14_2019_P_M1</th></tr>\n",
       "</thead>\n",
       "<tbody>\n",
       "\t<tr><th scope=row>CNAG_00001</th><td>  0</td><td>  0</td><td>  0</td><td>  0</td><td>  0</td><td>  0</td></tr>\n",
       "\t<tr><th scope=row>CNAG_00002</th><td>158</td><td>119</td><td> 90</td><td> 81</td><td>188</td><td>177</td></tr>\n",
       "\t<tr><th scope=row>CNAG_00003</th><td>201</td><td>131</td><td>121</td><td>151</td><td>215</td><td>154</td></tr>\n",
       "\t<tr><th scope=row>CNAG_00004</th><td>904</td><td>513</td><td>573</td><td>533</td><td>474</td><td>440</td></tr>\n",
       "\t<tr><th scope=row>CNAG_00005</th><td> 22</td><td> 24</td><td> 18</td><td> 20</td><td> 25</td><td> 13</td></tr>\n",
       "</tbody>\n",
       "</table>\n"
      ],
      "text/latex": [
       "A matrix: 5 × 6 of type int\n",
       "\\begin{tabular}{r|llllll}\n",
       "  & 1\\_2019\\_P\\_M1 & 10\\_2019\\_P\\_M1 & 11\\_2019\\_P\\_M1 & 12\\_2019\\_P\\_M1 & 13\\_2019\\_P\\_M1 & 14\\_2019\\_P\\_M1\\\\\n",
       "\\hline\n",
       "\tCNAG\\_00001 &   0 &   0 &   0 &   0 &   0 &   0\\\\\n",
       "\tCNAG\\_00002 & 158 & 119 &  90 &  81 & 188 & 177\\\\\n",
       "\tCNAG\\_00003 & 201 & 131 & 121 & 151 & 215 & 154\\\\\n",
       "\tCNAG\\_00004 & 904 & 513 & 573 & 533 & 474 & 440\\\\\n",
       "\tCNAG\\_00005 &  22 &  24 &  18 &  20 &  25 &  13\\\\\n",
       "\\end{tabular}\n"
      ],
      "text/markdown": [
       "\n",
       "A matrix: 5 × 6 of type int\n",
       "\n",
       "| <!--/--> | 1_2019_P_M1 | 10_2019_P_M1 | 11_2019_P_M1 | 12_2019_P_M1 | 13_2019_P_M1 | 14_2019_P_M1 |\n",
       "|---|---|---|---|---|---|---|\n",
       "| CNAG_00001 |   0 |   0 |   0 |   0 |   0 |   0 |\n",
       "| CNAG_00002 | 158 | 119 |  90 |  81 | 188 | 177 |\n",
       "| CNAG_00003 | 201 | 131 | 121 | 151 | 215 | 154 |\n",
       "| CNAG_00004 | 904 | 513 | 573 | 533 | 474 | 440 |\n",
       "| CNAG_00005 |  22 |  24 |  18 |  20 |  25 |  13 |\n",
       "\n"
      ],
      "text/plain": [
       "           1_2019_P_M1 10_2019_P_M1 11_2019_P_M1 12_2019_P_M1 13_2019_P_M1\n",
       "CNAG_00001   0           0            0            0            0         \n",
       "CNAG_00002 158         119           90           81          188         \n",
       "CNAG_00003 201         131          121          151          215         \n",
       "CNAG_00004 904         513          573          533          474         \n",
       "CNAG_00005  22          24           18           20           25         \n",
       "           14_2019_P_M1\n",
       "CNAG_00001   0         \n",
       "CNAG_00002 177         \n",
       "CNAG_00003 154         \n",
       "CNAG_00004 440         \n",
       "CNAG_00005  13         "
      ]
     },
     "metadata": {},
     "output_type": "display_data"
    }
   ],
   "source": [
    "### Transpose the count matrix (so that libraries are across the columns and genes across rows) \n",
    "### Note that as.matrix() converts the tibble to a matrix object\n",
    "cnt2019 %>%\n",
    "    gather(key = gene, value = value, 2:ncol(cnt2019)) %>% \n",
    "            spread_(key = names(cnt2019)[1],value = 'value') %>%\n",
    "                column_to_rownames(\"gene\") %>%\n",
    "                    as.matrix ->\n",
    "                        countData\n",
    "\n",
    "countData[1:5, 1:6]\n",
    "\n",
    "\n"
   ]
  },
  {
   "cell_type": "markdown",
   "metadata": {},
   "source": [
    "### Reorder the columns of the count matrix according to the order of Label in columnData"
   ]
  },
  {
   "cell_type": "code",
   "execution_count": 11,
   "metadata": {},
   "outputs": [
    {
     "data": {
      "text/html": [
       "TRUE"
      ],
      "text/latex": [
       "TRUE"
      ],
      "text/markdown": [
       "TRUE"
      ],
      "text/plain": [
       "[1] TRUE"
      ]
     },
     "metadata": {},
     "output_type": "display_data"
    },
    {
     "data": {
      "text/html": [
       "FALSE"
      ],
      "text/latex": [
       "FALSE"
      ],
      "text/markdown": [
       "FALSE"
      ],
      "text/plain": [
       "[1] FALSE"
      ]
     },
     "metadata": {},
     "output_type": "display_data"
    }
   ],
   "source": [
    "### The two variables coincide\n",
    "setequal(columnData[[\"Label\"]], colnames(countData))\n",
    "### but they are identical as they follow different orders\n",
    "identical(columnData[[\"Label\"]], colnames(countData))"
   ]
  },
  {
   "cell_type": "markdown",
   "metadata": {},
   "source": [
    "### Reorder the columns of countData "
   ]
  },
  {
   "cell_type": "code",
   "execution_count": 13,
   "metadata": {},
   "outputs": [],
   "source": [
    "countData <- countData[,columnData[[\"Label\"]]]"
   ]
  },
  {
   "cell_type": "code",
   "execution_count": 14,
   "metadata": {},
   "outputs": [
    {
     "data": {
      "text/html": [
       "<table>\n",
       "<caption>A matrix: 4 × 5 of type int</caption>\n",
       "<thead>\n",
       "\t<tr><th></th><th scope=col>1_2019_P_M1</th><th scope=col>2_2019_P_M1</th><th scope=col>3_2019_P_M1</th><th scope=col>4_2019_P_M1</th><th scope=col>5_2019_P_M1</th></tr>\n",
       "</thead>\n",
       "<tbody>\n",
       "\t<tr><th scope=row>CNAG_00001</th><td>  0</td><td>  0</td><td>  0</td><td>  0</td><td>  0</td></tr>\n",
       "\t<tr><th scope=row>CNAG_00002</th><td>158</td><td>204</td><td>149</td><td>176</td><td>161</td></tr>\n",
       "\t<tr><th scope=row>CNAG_00003</th><td>201</td><td>156</td><td>161</td><td>171</td><td>162</td></tr>\n",
       "\t<tr><th scope=row>CNAG_00004</th><td>904</td><td>902</td><td>941</td><td>795</td><td>849</td></tr>\n",
       "</tbody>\n",
       "</table>\n"
      ],
      "text/latex": [
       "A matrix: 4 × 5 of type int\n",
       "\\begin{tabular}{r|lllll}\n",
       "  & 1\\_2019\\_P\\_M1 & 2\\_2019\\_P\\_M1 & 3\\_2019\\_P\\_M1 & 4\\_2019\\_P\\_M1 & 5\\_2019\\_P\\_M1\\\\\n",
       "\\hline\n",
       "\tCNAG\\_00001 &   0 &   0 &   0 &   0 &   0\\\\\n",
       "\tCNAG\\_00002 & 158 & 204 & 149 & 176 & 161\\\\\n",
       "\tCNAG\\_00003 & 201 & 156 & 161 & 171 & 162\\\\\n",
       "\tCNAG\\_00004 & 904 & 902 & 941 & 795 & 849\\\\\n",
       "\\end{tabular}\n"
      ],
      "text/markdown": [
       "\n",
       "A matrix: 4 × 5 of type int\n",
       "\n",
       "| <!--/--> | 1_2019_P_M1 | 2_2019_P_M1 | 3_2019_P_M1 | 4_2019_P_M1 | 5_2019_P_M1 |\n",
       "|---|---|---|---|---|---|\n",
       "| CNAG_00001 |   0 |   0 |   0 |   0 |   0 |\n",
       "| CNAG_00002 | 158 | 204 | 149 | 176 | 161 |\n",
       "| CNAG_00003 | 201 | 156 | 161 | 171 | 162 |\n",
       "| CNAG_00004 | 904 | 902 | 941 | 795 | 849 |\n",
       "\n"
      ],
      "text/plain": [
       "           1_2019_P_M1 2_2019_P_M1 3_2019_P_M1 4_2019_P_M1 5_2019_P_M1\n",
       "CNAG_00001   0           0           0           0           0        \n",
       "CNAG_00002 158         204         149         176         161        \n",
       "CNAG_00003 201         156         161         171         162        \n",
       "CNAG_00004 904         902         941         795         849        "
      ]
     },
     "metadata": {},
     "output_type": "display_data"
    }
   ],
   "source": [
    "countData[1:4,1:5]"
   ]
  },
  {
   "cell_type": "markdown",
   "metadata": {},
   "source": [
    "### make sure that labels match"
   ]
  },
  {
   "cell_type": "code",
   "execution_count": 15,
   "metadata": {},
   "outputs": [
    {
     "data": {
      "text/html": [
       "TRUE"
      ],
      "text/latex": [
       "TRUE"
      ],
      "text/markdown": [
       "TRUE"
      ],
      "text/plain": [
       "[1] TRUE"
      ]
     },
     "metadata": {},
     "output_type": "display_data"
    },
    {
     "data": {
      "text/html": [
       "TRUE"
      ],
      "text/latex": [
       "TRUE"
      ],
      "text/markdown": [
       "TRUE"
      ],
      "text/plain": [
       "[1] TRUE"
      ]
     },
     "metadata": {},
     "output_type": "display_data"
    }
   ],
   "source": [
    "### The two variables coincide\n",
    "setequal(columnData[[\"Label\"]], colnames(countData))\n",
    "### but they are identical as they follow different orders\n",
    "identical(columnData[[\"Label\"]], colnames(countData))"
   ]
  },
  {
   "cell_type": "markdown",
   "metadata": {},
   "source": [
    "### Make DESeq object on the basis of the counts"
   ]
  },
  {
   "cell_type": "markdown",
   "metadata": {},
   "source": [
    "The design option allows you to specify an additive or a multiplicitive model"
   ]
  },
  {
   "cell_type": "markdown",
   "metadata": {},
   "source": [
    "Additive model"
   ]
  },
  {
   "cell_type": "code",
   "execution_count": 16,
   "metadata": {},
   "outputs": [
    {
     "name": "stderr",
     "output_type": "stream",
     "text": [
      "Warning message in DESeqDataSet(se, design = design, ignoreRank):\n",
      "“some variables in design formula are characters, converting to factors”"
     ]
    }
   ],
   "source": [
    "dds_add <- DESeqDataSetFromMatrix(\n",
    "    countData,                       # Count matrix\n",
    "    columnData,                      # metadata\n",
    "    ~ condition + genotype) # design formula"
   ]
  },
  {
   "cell_type": "markdown",
   "metadata": {},
   "source": [
    "Multiplicative model"
   ]
  },
  {
   "cell_type": "code",
   "execution_count": 18,
   "metadata": {},
   "outputs": [
    {
     "name": "stderr",
     "output_type": "stream",
     "text": [
      "Warning message in DESeqDataSet(se, design = design, ignoreRank):\n",
      "“some variables in design formula are characters, converting to factors”"
     ]
    }
   ],
   "source": [
    "dds_mult <- DESeqDataSetFromMatrix(\n",
    "    countData,                       # Count matrix\n",
    "    columnData,                      # metadata\n",
    "    ~ condition + genotype + condition:genotype) # design formula"
   ]
  },
  {
   "cell_type": "markdown",
   "metadata": {},
   "source": [
    "In the following demonstration, we will use the additive model. The multiplicitive model will be illustrated in the appendix below."
   ]
  },
  {
   "cell_type": "code",
   "execution_count": 19,
   "metadata": {},
   "outputs": [],
   "source": [
    "dds <- dds_add"
   ]
  },
  {
   "cell_type": "markdown",
   "metadata": {},
   "source": [
    "# Inspect object & Slots of an S4 class"
   ]
  },
  {
   "cell_type": "markdown",
   "metadata": {},
   "source": [
    "Let's has a look at the object we have created."
   ]
  },
  {
   "cell_type": "code",
   "execution_count": 20,
   "metadata": {},
   "outputs": [
    {
     "data": {
      "text/plain": [
       "class: DESeqDataSet \n",
       "dim: 8499 24 \n",
       "metadata(1): version\n",
       "assays(1): counts\n",
       "rownames(8499): CNAG_00001 CNAG_00002 ... large_MTrRNA small_MTrRNA\n",
       "rowData names(0):\n",
       "colnames(24): 1_2019_P_M1 2_2019_P_M1 ... 23_2019_P_M1 24_2019_P_M1\n",
       "colData names(22): Label sample_year ... RIN_normal_threshold\n",
       "  RIN_lowered_threshold"
      ]
     },
     "metadata": {},
     "output_type": "display_data"
    }
   ],
   "source": [
    "dds"
   ]
  },
  {
   "cell_type": "markdown",
   "metadata": {},
   "source": [
    "see the class of dds object"
   ]
  },
  {
   "cell_type": "code",
   "execution_count": 21,
   "metadata": {},
   "outputs": [
    {
     "data": {
      "text/html": [
       "'DESeqDataSet'"
      ],
      "text/latex": [
       "'DESeqDataSet'"
      ],
      "text/markdown": [
       "'DESeqDataSet'"
      ],
      "text/plain": [
       "[1] \"DESeqDataSet\"\n",
       "attr(,\"package\")\n",
       "[1] \"DESeq2\""
      ]
     },
     "metadata": {},
     "output_type": "display_data"
    }
   ],
   "source": [
    "class(dds)"
   ]
  },
  {
   "cell_type": "markdown",
   "metadata": {},
   "source": [
    "DESeqDataSet is a S4 object. Recall that a S4 object was taught when introducing bioconductor. Note that S4 objects allow users to wrap up multiple elements into a single variables where each element is called a slot."
   ]
  },
  {
   "cell_type": "code",
   "execution_count": 22,
   "metadata": {},
   "outputs": [
    {
     "data": {
      "text/html": [
       "<ol class=list-inline>\n",
       "\t<li>'design'</li>\n",
       "\t<li>'dispersionFunction'</li>\n",
       "\t<li>'rowRanges'</li>\n",
       "\t<li>'colData'</li>\n",
       "\t<li>'assays'</li>\n",
       "\t<li>'NAMES'</li>\n",
       "\t<li>'elementMetadata'</li>\n",
       "\t<li>'metadata'</li>\n",
       "</ol>\n"
      ],
      "text/latex": [
       "\\begin{enumerate*}\n",
       "\\item 'design'\n",
       "\\item 'dispersionFunction'\n",
       "\\item 'rowRanges'\n",
       "\\item 'colData'\n",
       "\\item 'assays'\n",
       "\\item 'NAMES'\n",
       "\\item 'elementMetadata'\n",
       "\\item 'metadata'\n",
       "\\end{enumerate*}\n"
      ],
      "text/markdown": [
       "1. 'design'\n",
       "2. 'dispersionFunction'\n",
       "3. 'rowRanges'\n",
       "4. 'colData'\n",
       "5. 'assays'\n",
       "6. 'NAMES'\n",
       "7. 'elementMetadata'\n",
       "8. 'metadata'\n",
       "\n",
       "\n"
      ],
      "text/plain": [
       "[1] \"design\"             \"dispersionFunction\" \"rowRanges\"         \n",
       "[4] \"colData\"            \"assays\"             \"NAMES\"             \n",
       "[7] \"elementMetadata\"    \"metadata\"          "
      ]
     },
     "metadata": {},
     "output_type": "display_data"
    }
   ],
   "source": [
    "slotNames(dds)"
   ]
  },
  {
   "cell_type": "markdown",
   "metadata": {},
   "source": [
    "The metadata (columnData) is stored in the slot `colData`"
   ]
  },
  {
   "cell_type": "code",
   "execution_count": 23,
   "metadata": {},
   "outputs": [
    {
     "data": {
      "text/html": [
       "<table>\n",
       "<caption>A data.frame: 3 × 22</caption>\n",
       "<thead>\n",
       "\t<tr><th></th><th scope=col>Label</th><th scope=col>sample_year</th><th scope=col>group</th><th scope=col>enrich_rep</th><th scope=col>RNA_sample_num</th><th scope=col>genotype</th><th scope=col>condition</th><th scope=col>libprep_person</th><th scope=col>enrichment_method</th><th scope=col>enrichment_short</th><th scope=col>⋯</th><th scope=col>i5_primer</th><th scope=col>i7_primer</th><th scope=col>library_num</th><th scope=col>bio_replicate</th><th scope=col>Nanodrop_260_280</th><th scope=col>Nanodrop_260_230</th><th scope=col>Nanodrop_concentration_ng_ul</th><th scope=col>Bioanalyzer_concentration_ng_ul</th><th scope=col>RIN_normal_threshold</th><th scope=col>RIN_lowered_threshold</th></tr>\n",
       "\t<tr><th></th><th scope=col>&lt;chr&gt;</th><th scope=col>&lt;dbl&gt;</th><th scope=col>&lt;chr&gt;</th><th scope=col>&lt;dbl&gt;</th><th scope=col>&lt;dbl&gt;</th><th scope=col>&lt;fct&gt;</th><th scope=col>&lt;fct&gt;</th><th scope=col>&lt;chr&gt;</th><th scope=col>&lt;chr&gt;</th><th scope=col>&lt;chr&gt;</th><th scope=col>⋯</th><th scope=col>&lt;chr&gt;</th><th scope=col>&lt;chr&gt;</th><th scope=col>&lt;dbl&gt;</th><th scope=col>&lt;dbl&gt;</th><th scope=col>&lt;dbl&gt;</th><th scope=col>&lt;dbl&gt;</th><th scope=col>&lt;dbl&gt;</th><th scope=col>&lt;dbl&gt;</th><th scope=col>&lt;chr&gt;</th><th scope=col>&lt;dbl&gt;</th></tr>\n",
       "</thead>\n",
       "<tbody>\n",
       "\t<tr><th scope=row>1_2019_P_M1</th><td>1_2019_P_M1</td><td>2019</td><td>P</td><td>1</td><td>1</td><td>WT</td><td>pH4</td><td>C</td><td>mRNA</td><td>M</td><td>⋯</td><td>i501</td><td>i701</td><td>1</td><td>1</td><td>2.14</td><td>1.52</td><td>293</td><td>197</td><td>N/A</td><td>9.8</td></tr>\n",
       "\t<tr><th scope=row>2_2019_P_M1</th><td>2_2019_P_M1</td><td>2019</td><td>P</td><td>1</td><td>2</td><td>WT</td><td>pH4</td><td>C</td><td>mRNA</td><td>M</td><td>⋯</td><td>i502</td><td>i701</td><td>2</td><td>2</td><td>2.12</td><td>1.79</td><td>290</td><td>225</td><td>N/A</td><td>9.9</td></tr>\n",
       "\t<tr><th scope=row>3_2019_P_M1</th><td>3_2019_P_M1</td><td>2019</td><td>P</td><td>1</td><td>3</td><td>WT</td><td>pH4</td><td>C</td><td>mRNA</td><td>M</td><td>⋯</td><td>i503</td><td>i701</td><td>3</td><td>3</td><td>2.11</td><td>2.49</td><td>302</td><td>241</td><td>N/A</td><td>9.9</td></tr>\n",
       "</tbody>\n",
       "</table>\n"
      ],
      "text/latex": [
       "A data.frame: 3 × 22\n",
       "\\begin{tabular}{r|llllllllllllllllllllll}\n",
       "  & Label & sample\\_year & group & enrich\\_rep & RNA\\_sample\\_num & genotype & condition & libprep\\_person & enrichment\\_method & enrichment\\_short & i7\\_index & i5\\_index & i5\\_primer & i7\\_primer & library\\_num & bio\\_replicate & Nanodrop\\_260\\_280 & Nanodrop\\_260\\_230 & Nanodrop\\_concentration\\_ng\\_ul & Bioanalyzer\\_concentration\\_ng\\_ul & RIN\\_normal\\_threshold & RIN\\_lowered\\_threshold\\\\\n",
       "  & <chr> & <dbl> & <chr> & <dbl> & <dbl> & <fct> & <fct> & <chr> & <chr> & <chr> & <chr> & <chr> & <chr> & <chr> & <dbl> & <dbl> & <dbl> & <dbl> & <dbl> & <dbl> & <chr> & <dbl>\\\\\n",
       "\\hline\n",
       "\t1\\_2019\\_P\\_M1 & 1\\_2019\\_P\\_M1 & 2019 & P & 1 & 1 & WT & pH4 & C & mRNA & M & ATTACTCG & AGGCTATA & i501 & i701 & 1 & 1 & 2.14 & 1.52 & 293 & 197 & N/A & 9.8\\\\\n",
       "\t2\\_2019\\_P\\_M1 & 2\\_2019\\_P\\_M1 & 2019 & P & 1 & 2 & WT & pH4 & C & mRNA & M & ATTACTCG & GCCTCTAT & i502 & i701 & 2 & 2 & 2.12 & 1.79 & 290 & 225 & N/A & 9.9\\\\\n",
       "\t3\\_2019\\_P\\_M1 & 3\\_2019\\_P\\_M1 & 2019 & P & 1 & 3 & WT & pH4 & C & mRNA & M & ATTACTCG & AGGATAGG & i503 & i701 & 3 & 3 & 2.11 & 2.49 & 302 & 241 & N/A & 9.9\\\\\n",
       "\\end{tabular}\n"
      ],
      "text/markdown": [
       "\n",
       "A data.frame: 3 × 22\n",
       "\n",
       "| <!--/--> | Label &lt;chr&gt; | sample_year &lt;dbl&gt; | group &lt;chr&gt; | enrich_rep &lt;dbl&gt; | RNA_sample_num &lt;dbl&gt; | genotype &lt;fct&gt; | condition &lt;fct&gt; | libprep_person &lt;chr&gt; | enrichment_method &lt;chr&gt; | enrichment_short &lt;chr&gt; | ⋯ ⋯ | i5_primer &lt;chr&gt; | i7_primer &lt;chr&gt; | library_num &lt;dbl&gt; | bio_replicate &lt;dbl&gt; | Nanodrop_260_280 &lt;dbl&gt; | Nanodrop_260_230 &lt;dbl&gt; | Nanodrop_concentration_ng_ul &lt;dbl&gt; | Bioanalyzer_concentration_ng_ul &lt;dbl&gt; | RIN_normal_threshold &lt;chr&gt; | RIN_lowered_threshold &lt;dbl&gt; |\n",
       "|---|---|---|---|---|---|---|---|---|---|---|---|---|---|---|---|---|---|---|---|---|---|\n",
       "| 1_2019_P_M1 | 1_2019_P_M1 | 2019 | P | 1 | 1 | WT | pH4 | C | mRNA | M | ⋯ | i501 | i701 | 1 | 1 | 2.14 | 1.52 | 293 | 197 | N/A | 9.8 |\n",
       "| 2_2019_P_M1 | 2_2019_P_M1 | 2019 | P | 1 | 2 | WT | pH4 | C | mRNA | M | ⋯ | i502 | i701 | 2 | 2 | 2.12 | 1.79 | 290 | 225 | N/A | 9.9 |\n",
       "| 3_2019_P_M1 | 3_2019_P_M1 | 2019 | P | 1 | 3 | WT | pH4 | C | mRNA | M | ⋯ | i503 | i701 | 3 | 3 | 2.11 | 2.49 | 302 | 241 | N/A | 9.9 |\n",
       "\n"
      ],
      "text/plain": [
       "            Label       sample_year group enrich_rep RNA_sample_num genotype\n",
       "1_2019_P_M1 1_2019_P_M1 2019        P     1          1              WT      \n",
       "2_2019_P_M1 2_2019_P_M1 2019        P     1          2              WT      \n",
       "3_2019_P_M1 3_2019_P_M1 2019        P     1          3              WT      \n",
       "            condition libprep_person enrichment_method enrichment_short ⋯\n",
       "1_2019_P_M1 pH4       C              mRNA              M                ⋯\n",
       "2_2019_P_M1 pH4       C              mRNA              M                ⋯\n",
       "3_2019_P_M1 pH4       C              mRNA              M                ⋯\n",
       "            i5_primer i7_primer library_num bio_replicate Nanodrop_260_280\n",
       "1_2019_P_M1 i501      i701      1           1             2.14            \n",
       "2_2019_P_M1 i502      i701      2           2             2.12            \n",
       "3_2019_P_M1 i503      i701      3           3             2.11            \n",
       "            Nanodrop_260_230 Nanodrop_concentration_ng_ul\n",
       "1_2019_P_M1 1.52             293                         \n",
       "2_2019_P_M1 1.79             290                         \n",
       "3_2019_P_M1 2.49             302                         \n",
       "            Bioanalyzer_concentration_ng_ul RIN_normal_threshold\n",
       "1_2019_P_M1 197                             N/A                 \n",
       "2_2019_P_M1 225                             N/A                 \n",
       "3_2019_P_M1 241                             N/A                 \n",
       "            RIN_lowered_threshold\n",
       "1_2019_P_M1 9.8                  \n",
       "2_2019_P_M1 9.9                  \n",
       "3_2019_P_M1 9.9                  "
      ]
     },
     "metadata": {},
     "output_type": "display_data"
    }
   ],
   "source": [
    "dds@colData %>% as.data.frame %>% head(3)"
   ]
  },
  {
   "cell_type": "markdown",
   "metadata": {},
   "source": [
    "The design formula is stored in the slot `design`. The design holds the R formula which expresses how the counts depend on the variables in colData."
   ]
  },
  {
   "cell_type": "code",
   "execution_count": 24,
   "metadata": {},
   "outputs": [
    {
     "data": {
      "text/plain": [
       "~condition + genotype"
      ]
     },
     "metadata": {},
     "output_type": "display_data"
    }
   ],
   "source": [
    "dds@design"
   ]
  },
  {
   "cell_type": "markdown",
   "metadata": {},
   "source": [
    "The first thing you may want to do is **have a look at the raw counts** you have imported. The `DESeq2::counts` function extracts a matrix of counts (with the genes along the rows and samples along the columns). Let us first verify the dimension of this matrix."
   ]
  },
  {
   "cell_type": "code",
   "execution_count": 25,
   "metadata": {},
   "outputs": [
    {
     "data": {
      "text/html": [
       "<ol class=list-inline>\n",
       "\t<li>8499</li>\n",
       "\t<li>24</li>\n",
       "</ol>\n"
      ],
      "text/latex": [
       "\\begin{enumerate*}\n",
       "\\item 8499\n",
       "\\item 24\n",
       "\\end{enumerate*}\n"
      ],
      "text/markdown": [
       "1. 8499\n",
       "2. 24\n",
       "\n",
       "\n"
      ],
      "text/plain": [
       "[1] 8499   24"
      ]
     },
     "metadata": {},
     "output_type": "display_data"
    }
   ],
   "source": [
    "dim(counts(dds))"
   ]
  },
  {
   "cell_type": "code",
   "execution_count": 26,
   "metadata": {},
   "outputs": [
    {
     "data": {
      "text/html": [
       "<table>\n",
       "<caption>A matrix: 3 × 24 of type int</caption>\n",
       "<thead>\n",
       "\t<tr><th></th><th scope=col>1_2019_P_M1</th><th scope=col>2_2019_P_M1</th><th scope=col>3_2019_P_M1</th><th scope=col>4_2019_P_M1</th><th scope=col>5_2019_P_M1</th><th scope=col>6_2019_P_M1</th><th scope=col>7_2019_P_M1</th><th scope=col>8_2019_P_M1</th><th scope=col>9_2019_P_M1</th><th scope=col>10_2019_P_M1</th><th scope=col>⋯</th><th scope=col>15_2019_P_M1</th><th scope=col>16_2019_P_M1</th><th scope=col>17_2019_P_M1</th><th scope=col>18_2019_P_M1</th><th scope=col>19_2019_P_M1</th><th scope=col>20_2019_P_M1</th><th scope=col>21_2019_P_M1</th><th scope=col>22_2019_P_M1</th><th scope=col>23_2019_P_M1</th><th scope=col>24_2019_P_M1</th></tr>\n",
       "</thead>\n",
       "<tbody>\n",
       "\t<tr><th scope=row>CNAG_00001</th><td>  0</td><td>  0</td><td>  0</td><td>  0</td><td>  0</td><td>  0</td><td>  0</td><td>  0</td><td>  0</td><td>  0</td><td>⋯</td><td>  0</td><td>  0</td><td>  0</td><td>  0</td><td>  0</td><td>  0</td><td>  0</td><td>  0</td><td>  0</td><td>  0</td></tr>\n",
       "\t<tr><th scope=row>CNAG_00002</th><td>158</td><td>204</td><td>149</td><td>176</td><td>161</td><td>148</td><td>172</td><td>169</td><td>124</td><td>119</td><td>⋯</td><td>216</td><td>224</td><td>234</td><td>338</td><td>191</td><td>201</td><td>192</td><td>166</td><td>202</td><td>235</td></tr>\n",
       "\t<tr><th scope=row>CNAG_00003</th><td>201</td><td>156</td><td>161</td><td>171</td><td>162</td><td>103</td><td>172</td><td>170</td><td>175</td><td>131</td><td>⋯</td><td>197</td><td>195</td><td>211</td><td>201</td><td>118</td><td>133</td><td>109</td><td>113</td><td>154</td><td>169</td></tr>\n",
       "</tbody>\n",
       "</table>\n"
      ],
      "text/latex": [
       "A matrix: 3 × 24 of type int\n",
       "\\begin{tabular}{r|llllllllllllllllllllllll}\n",
       "  & 1\\_2019\\_P\\_M1 & 2\\_2019\\_P\\_M1 & 3\\_2019\\_P\\_M1 & 4\\_2019\\_P\\_M1 & 5\\_2019\\_P\\_M1 & 6\\_2019\\_P\\_M1 & 7\\_2019\\_P\\_M1 & 8\\_2019\\_P\\_M1 & 9\\_2019\\_P\\_M1 & 10\\_2019\\_P\\_M1 & 11\\_2019\\_P\\_M1 & 12\\_2019\\_P\\_M1 & 13\\_2019\\_P\\_M1 & 14\\_2019\\_P\\_M1 & 15\\_2019\\_P\\_M1 & 16\\_2019\\_P\\_M1 & 17\\_2019\\_P\\_M1 & 18\\_2019\\_P\\_M1 & 19\\_2019\\_P\\_M1 & 20\\_2019\\_P\\_M1 & 21\\_2019\\_P\\_M1 & 22\\_2019\\_P\\_M1 & 23\\_2019\\_P\\_M1 & 24\\_2019\\_P\\_M1\\\\\n",
       "\\hline\n",
       "\tCNAG\\_00001 &   0 &   0 &   0 &   0 &   0 &   0 &   0 &   0 &   0 &   0 &   0 &   0 &   0 &   0 &   0 &   0 &   0 &   0 &   0 &   0 &   0 &   0 &   0 &   0\\\\\n",
       "\tCNAG\\_00002 & 158 & 204 & 149 & 176 & 161 & 148 & 172 & 169 & 124 & 119 &  90 &  81 & 188 & 177 & 216 & 224 & 234 & 338 & 191 & 201 & 192 & 166 & 202 & 235\\\\\n",
       "\tCNAG\\_00003 & 201 & 156 & 161 & 171 & 162 & 103 & 172 & 170 & 175 & 131 & 121 & 151 & 215 & 154 & 197 & 195 & 211 & 201 & 118 & 133 & 109 & 113 & 154 & 169\\\\\n",
       "\\end{tabular}\n"
      ],
      "text/markdown": [
       "\n",
       "A matrix: 3 × 24 of type int\n",
       "\n",
       "| <!--/--> | 1_2019_P_M1 | 2_2019_P_M1 | 3_2019_P_M1 | 4_2019_P_M1 | 5_2019_P_M1 | 6_2019_P_M1 | 7_2019_P_M1 | 8_2019_P_M1 | 9_2019_P_M1 | 10_2019_P_M1 | ⋯ | 15_2019_P_M1 | 16_2019_P_M1 | 17_2019_P_M1 | 18_2019_P_M1 | 19_2019_P_M1 | 20_2019_P_M1 | 21_2019_P_M1 | 22_2019_P_M1 | 23_2019_P_M1 | 24_2019_P_M1 |\n",
       "|---|---|---|---|---|---|---|---|---|---|---|---|---|---|---|---|---|---|---|---|---|---|\n",
       "| CNAG_00001 |   0 |   0 |   0 |   0 |   0 |   0 |   0 |   0 |   0 |   0 | ⋯ |   0 |   0 |   0 |   0 |   0 |   0 |   0 |   0 |   0 |   0 |\n",
       "| CNAG_00002 | 158 | 204 | 149 | 176 | 161 | 148 | 172 | 169 | 124 | 119 | ⋯ | 216 | 224 | 234 | 338 | 191 | 201 | 192 | 166 | 202 | 235 |\n",
       "| CNAG_00003 | 201 | 156 | 161 | 171 | 162 | 103 | 172 | 170 | 175 | 131 | ⋯ | 197 | 195 | 211 | 201 | 118 | 133 | 109 | 113 | 154 | 169 |\n",
       "\n"
      ],
      "text/plain": [
       "           1_2019_P_M1 2_2019_P_M1 3_2019_P_M1 4_2019_P_M1 5_2019_P_M1\n",
       "CNAG_00001   0           0           0           0           0        \n",
       "CNAG_00002 158         204         149         176         161        \n",
       "CNAG_00003 201         156         161         171         162        \n",
       "           6_2019_P_M1 7_2019_P_M1 8_2019_P_M1 9_2019_P_M1 10_2019_P_M1 ⋯\n",
       "CNAG_00001   0           0           0           0           0          ⋯\n",
       "CNAG_00002 148         172         169         124         119          ⋯\n",
       "CNAG_00003 103         172         170         175         131          ⋯\n",
       "           15_2019_P_M1 16_2019_P_M1 17_2019_P_M1 18_2019_P_M1 19_2019_P_M1\n",
       "CNAG_00001   0            0            0            0            0         \n",
       "CNAG_00002 216          224          234          338          191         \n",
       "CNAG_00003 197          195          211          201          118         \n",
       "           20_2019_P_M1 21_2019_P_M1 22_2019_P_M1 23_2019_P_M1 24_2019_P_M1\n",
       "CNAG_00001   0            0            0            0            0         \n",
       "CNAG_00002 201          192          166          202          235         \n",
       "CNAG_00003 133          109          113          154          169         "
      ]
     },
     "metadata": {},
     "output_type": "display_data"
    }
   ],
   "source": [
    "head(counts(dds),3)"
   ]
  },
  {
   "cell_type": "markdown",
   "metadata": {},
   "source": [
    "This slot returns gene specific information (it will be populated later)"
   ]
  },
  {
   "cell_type": "code",
   "execution_count": 27,
   "metadata": {},
   "outputs": [
    {
     "data": {
      "text/html": [
       "<pre class=language-r><code>function () \n",
       "NULL</code></pre>"
      ],
      "text/latex": [
       "\\begin{minted}{r}\n",
       "function () \n",
       "NULL\n",
       "\\end{minted}"
      ],
      "text/markdown": [
       "```r\n",
       "function () \n",
       "NULL\n",
       "```"
      ],
      "text/plain": [
       "function () \n",
       "NULL\n",
       "<bytecode: 0x56024db24780>"
      ]
     },
     "metadata": {},
     "output_type": "display_data"
    }
   ],
   "source": [
    "dds@dispersionFunction"
   ]
  },
  {
   "cell_type": "markdown",
   "metadata": {},
   "source": [
    "# Estimate Size Factors and Dispersion Parameters"
   ]
  },
  {
   "cell_type": "markdown",
   "metadata": {},
   "source": [
    "You recall that DESeq requires that  we have estimates for sample specific size factors and gene specific dispersion factors. More specifically, recall that DESeq models the count $K_{ij}$ (gene $i$, sample $j$) as negative binomial with mean $\\mu_{ij}$ and dispersion parameter $\\alpha_i$. Here $\\mu_{ij}=s_j q_{ij}$ where $\\log_2(q_{ij}) = \\beta_{0i} + \\beta_{1i} z_j$. Here $s_j$ is the sample $j$ specific size factor.\n",
    "\n",
    "**Summarize of notation**\n",
    "- $K_{ij}$ denotes the observed **number of reads** mapped to gene $i$ for sample $j$\n",
    "- $K_{ij}$ follows a **negative binomial distribution** with\n",
    "    - **Mean** $\\mu_{ij}$\n",
    "    - **Dispersion parameter** $\\alpha_i$\n",
    "- Modelling\n",
    "    - $K_{ij} \\sim NB(\\mu_{ij}, \\alpha_i)$\n",
    "    - $\\mu_{ij} = s_{j}q_{ij}$\n",
    "        - $s_j$ is sample $j$ specific normalization constant\n",
    "    - $\\log_2(q_{ij}) = \\beta_{0i} + \\beta_{1i} z_j$"
   ]
  },
  {
   "cell_type": "markdown",
   "metadata": {},
   "source": [
    "## 01 Size Factors\n",
    " We begin by estimating the size factors $s_1,\\ldots,s_n$:"
   ]
  },
  {
   "cell_type": "code",
   "execution_count": 28,
   "metadata": {},
   "outputs": [],
   "source": [
    "dds <- estimateSizeFactors(dds)"
   ]
  },
  {
   "cell_type": "markdown",
   "metadata": {},
   "source": [
    "Now, compare the dds object to that of before applying the estimateSizeFactors() function. What has changed? What remains unchanged?"
   ]
  },
  {
   "cell_type": "code",
   "execution_count": 29,
   "metadata": {},
   "outputs": [
    {
     "data": {
      "text/plain": [
       "class: DESeqDataSet \n",
       "dim: 8499 24 \n",
       "metadata(1): version\n",
       "assays(1): counts\n",
       "rownames(8499): CNAG_00001 CNAG_00002 ... large_MTrRNA small_MTrRNA\n",
       "rowData names(0):\n",
       "colnames(24): 1_2019_P_M1 2_2019_P_M1 ... 23_2019_P_M1 24_2019_P_M1\n",
       "colData names(23): Label sample_year ... RIN_lowered_threshold\n",
       "  sizeFactor"
      ]
     },
     "metadata": {},
     "output_type": "display_data"
    }
   ],
   "source": [
    "dds"
   ]
  },
  {
   "cell_type": "markdown",
   "metadata": {},
   "source": [
    "Note that there is a **sizeFactor** added to **colData**. Let's look at it more carefully\n",
    "\n",
    "```\n",
    "> dds # (before estimateSizeFactors)\n",
    "class: DESeqDataSet \n",
    "dim: 8497 24 \n",
    "metadata(1): version\n",
    "assays(1): counts\n",
    "rownames(8497): CNAG_00001 CNAG_00002 ... ENSRNA049551964 ENSRNA049551993\n",
    "rowData names(0):\n",
    "colnames(24): 1_RZ_J 10_RZ_C ... 47_RZ_P 9_RZ_C\n",
    "colData names(10): Label Strain ... prob.unique depth\n",
    "\n",
    "> dds # (after estimateSizeFactors)\n",
    "class: DESeqDataSet \n",
    "dim: 8497 24 \n",
    "metadata(1): version\n",
    "assays(1): counts\n",
    "rownames(8497): CNAG_00001 CNAG_00002 ... ENSRNA049551964 ENSRNA049551993\n",
    "rowData names(0):\n",
    "colnames(24): 1_RZ_J 10_RZ_C ... 47_RZ_P 9_RZ_C\n",
    "colData names(11): Label Strain ... depth sizeFactor <------ \n",
    "```"
   ]
  },
  {
   "cell_type": "markdown",
   "metadata": {},
   "source": [
    "You can also get the size factors directly"
   ]
  },
  {
   "cell_type": "code",
   "execution_count": 30,
   "metadata": {},
   "outputs": [
    {
     "data": {
      "text/html": [
       "<dl class=dl-horizontal>\n",
       "\t<dt>1_2019_P_M1</dt>\n",
       "\t\t<dd>1.5916393221245</dd>\n",
       "\t<dt>2_2019_P_M1</dt>\n",
       "\t\t<dd>1.65871103315141</dd>\n",
       "\t<dt>3_2019_P_M1</dt>\n",
       "\t\t<dd>1.51289455728943</dd>\n",
       "\t<dt>4_2019_P_M1</dt>\n",
       "\t\t<dd>1.41966861598247</dd>\n",
       "\t<dt>5_2019_P_M1</dt>\n",
       "\t\t<dd>1.43738473025559</dd>\n",
       "\t<dt>6_2019_P_M1</dt>\n",
       "\t\t<dd>1.23710002282889</dd>\n",
       "\t<dt>7_2019_P_M1</dt>\n",
       "\t\t<dd>1.40148291158442</dd>\n",
       "\t<dt>8_2019_P_M1</dt>\n",
       "\t\t<dd>1.44217254922035</dd>\n",
       "\t<dt>9_2019_P_M1</dt>\n",
       "\t\t<dd>1.17444094436861</dd>\n",
       "\t<dt>10_2019_P_M1</dt>\n",
       "\t\t<dd>1.07636468283386</dd>\n",
       "\t<dt>11_2019_P_M1</dt>\n",
       "\t\t<dd>1.04216270302148</dd>\n",
       "\t<dt>12_2019_P_M1</dt>\n",
       "\t\t<dd>0.971238282275506</dd>\n",
       "\t<dt>13_2019_P_M1</dt>\n",
       "\t\t<dd>0.770986843971703</dd>\n",
       "\t<dt>14_2019_P_M1</dt>\n",
       "\t\t<dd>0.752382049912615</dd>\n",
       "\t<dt>15_2019_P_M1</dt>\n",
       "\t\t<dd>0.717679610028228</dd>\n",
       "\t<dt>16_2019_P_M1</dt>\n",
       "\t\t<dd>0.897840290244175</dd>\n",
       "\t<dt>17_2019_P_M1</dt>\n",
       "\t\t<dd>0.89364164432414</dd>\n",
       "\t<dt>18_2019_P_M1</dt>\n",
       "\t\t<dd>0.931618100592125</dd>\n",
       "\t<dt>19_2019_P_M1</dt>\n",
       "\t\t<dd>0.749435710766038</dd>\n",
       "\t<dt>20_2019_P_M1</dt>\n",
       "\t\t<dd>0.775571527912074</dd>\n",
       "\t<dt>21_2019_P_M1</dt>\n",
       "\t\t<dd>0.583832529967166</dd>\n",
       "\t<dt>22_2019_P_M1</dt>\n",
       "\t\t<dd>0.634399759403834</dd>\n",
       "\t<dt>23_2019_P_M1</dt>\n",
       "\t\t<dd>0.755186085659437</dd>\n",
       "\t<dt>24_2019_P_M1</dt>\n",
       "\t\t<dd>0.808836405192349</dd>\n",
       "</dl>\n"
      ],
      "text/latex": [
       "\\begin{description*}\n",
       "\\item[1\\textbackslash{}\\_2019\\textbackslash{}\\_P\\textbackslash{}\\_M1] 1.5916393221245\n",
       "\\item[2\\textbackslash{}\\_2019\\textbackslash{}\\_P\\textbackslash{}\\_M1] 1.65871103315141\n",
       "\\item[3\\textbackslash{}\\_2019\\textbackslash{}\\_P\\textbackslash{}\\_M1] 1.51289455728943\n",
       "\\item[4\\textbackslash{}\\_2019\\textbackslash{}\\_P\\textbackslash{}\\_M1] 1.41966861598247\n",
       "\\item[5\\textbackslash{}\\_2019\\textbackslash{}\\_P\\textbackslash{}\\_M1] 1.43738473025559\n",
       "\\item[6\\textbackslash{}\\_2019\\textbackslash{}\\_P\\textbackslash{}\\_M1] 1.23710002282889\n",
       "\\item[7\\textbackslash{}\\_2019\\textbackslash{}\\_P\\textbackslash{}\\_M1] 1.40148291158442\n",
       "\\item[8\\textbackslash{}\\_2019\\textbackslash{}\\_P\\textbackslash{}\\_M1] 1.44217254922035\n",
       "\\item[9\\textbackslash{}\\_2019\\textbackslash{}\\_P\\textbackslash{}\\_M1] 1.17444094436861\n",
       "\\item[10\\textbackslash{}\\_2019\\textbackslash{}\\_P\\textbackslash{}\\_M1] 1.07636468283386\n",
       "\\item[11\\textbackslash{}\\_2019\\textbackslash{}\\_P\\textbackslash{}\\_M1] 1.04216270302148\n",
       "\\item[12\\textbackslash{}\\_2019\\textbackslash{}\\_P\\textbackslash{}\\_M1] 0.971238282275506\n",
       "\\item[13\\textbackslash{}\\_2019\\textbackslash{}\\_P\\textbackslash{}\\_M1] 0.770986843971703\n",
       "\\item[14\\textbackslash{}\\_2019\\textbackslash{}\\_P\\textbackslash{}\\_M1] 0.752382049912615\n",
       "\\item[15\\textbackslash{}\\_2019\\textbackslash{}\\_P\\textbackslash{}\\_M1] 0.717679610028228\n",
       "\\item[16\\textbackslash{}\\_2019\\textbackslash{}\\_P\\textbackslash{}\\_M1] 0.897840290244175\n",
       "\\item[17\\textbackslash{}\\_2019\\textbackslash{}\\_P\\textbackslash{}\\_M1] 0.89364164432414\n",
       "\\item[18\\textbackslash{}\\_2019\\textbackslash{}\\_P\\textbackslash{}\\_M1] 0.931618100592125\n",
       "\\item[19\\textbackslash{}\\_2019\\textbackslash{}\\_P\\textbackslash{}\\_M1] 0.749435710766038\n",
       "\\item[20\\textbackslash{}\\_2019\\textbackslash{}\\_P\\textbackslash{}\\_M1] 0.775571527912074\n",
       "\\item[21\\textbackslash{}\\_2019\\textbackslash{}\\_P\\textbackslash{}\\_M1] 0.583832529967166\n",
       "\\item[22\\textbackslash{}\\_2019\\textbackslash{}\\_P\\textbackslash{}\\_M1] 0.634399759403834\n",
       "\\item[23\\textbackslash{}\\_2019\\textbackslash{}\\_P\\textbackslash{}\\_M1] 0.755186085659437\n",
       "\\item[24\\textbackslash{}\\_2019\\textbackslash{}\\_P\\textbackslash{}\\_M1] 0.808836405192349\n",
       "\\end{description*}\n"
      ],
      "text/markdown": [
       "1_2019_P_M1\n",
       ":   1.59163932212452_2019_P_M1\n",
       ":   1.658711033151413_2019_P_M1\n",
       ":   1.512894557289434_2019_P_M1\n",
       ":   1.419668615982475_2019_P_M1\n",
       ":   1.437384730255596_2019_P_M1\n",
       ":   1.237100022828897_2019_P_M1\n",
       ":   1.401482911584428_2019_P_M1\n",
       ":   1.442172549220359_2019_P_M1\n",
       ":   1.1744409443686110_2019_P_M1\n",
       ":   1.0763646828338611_2019_P_M1\n",
       ":   1.0421627030214812_2019_P_M1\n",
       ":   0.97123828227550613_2019_P_M1\n",
       ":   0.77098684397170314_2019_P_M1\n",
       ":   0.75238204991261515_2019_P_M1\n",
       ":   0.71767961002822816_2019_P_M1\n",
       ":   0.89784029024417517_2019_P_M1\n",
       ":   0.8936416443241418_2019_P_M1\n",
       ":   0.93161810059212519_2019_P_M1\n",
       ":   0.74943571076603820_2019_P_M1\n",
       ":   0.77557152791207421_2019_P_M1\n",
       ":   0.58383252996716622_2019_P_M1\n",
       ":   0.63439975940383423_2019_P_M1\n",
       ":   0.75518608565943724_2019_P_M1\n",
       ":   0.808836405192349\n",
       "\n"
      ],
      "text/plain": [
       " 1_2019_P_M1  2_2019_P_M1  3_2019_P_M1  4_2019_P_M1  5_2019_P_M1  6_2019_P_M1 \n",
       "   1.5916393    1.6587110    1.5128946    1.4196686    1.4373847    1.2371000 \n",
       " 7_2019_P_M1  8_2019_P_M1  9_2019_P_M1 10_2019_P_M1 11_2019_P_M1 12_2019_P_M1 \n",
       "   1.4014829    1.4421725    1.1744409    1.0763647    1.0421627    0.9712383 \n",
       "13_2019_P_M1 14_2019_P_M1 15_2019_P_M1 16_2019_P_M1 17_2019_P_M1 18_2019_P_M1 \n",
       "   0.7709868    0.7523820    0.7176796    0.8978403    0.8936416    0.9316181 \n",
       "19_2019_P_M1 20_2019_P_M1 21_2019_P_M1 22_2019_P_M1 23_2019_P_M1 24_2019_P_M1 \n",
       "   0.7494357    0.7755715    0.5838325    0.6343998    0.7551861    0.8088364 "
      ]
     },
     "metadata": {},
     "output_type": "display_data"
    }
   ],
   "source": [
    "sizeFactors(dds)"
   ]
  },
  {
   "cell_type": "markdown",
   "metadata": {},
   "source": [
    " It is preferable to limit the number of decimal places. Next show the size factors rounded to 3 decimal places"
   ]
  },
  {
   "cell_type": "code",
   "execution_count": 31,
   "metadata": {},
   "outputs": [
    {
     "data": {
      "text/html": [
       "<dl class=dl-horizontal>\n",
       "\t<dt>1_2019_P_M1</dt>\n",
       "\t\t<dd>1.592</dd>\n",
       "\t<dt>2_2019_P_M1</dt>\n",
       "\t\t<dd>1.659</dd>\n",
       "\t<dt>3_2019_P_M1</dt>\n",
       "\t\t<dd>1.513</dd>\n",
       "\t<dt>4_2019_P_M1</dt>\n",
       "\t\t<dd>1.42</dd>\n",
       "\t<dt>5_2019_P_M1</dt>\n",
       "\t\t<dd>1.437</dd>\n",
       "\t<dt>6_2019_P_M1</dt>\n",
       "\t\t<dd>1.237</dd>\n",
       "\t<dt>7_2019_P_M1</dt>\n",
       "\t\t<dd>1.401</dd>\n",
       "\t<dt>8_2019_P_M1</dt>\n",
       "\t\t<dd>1.442</dd>\n",
       "\t<dt>9_2019_P_M1</dt>\n",
       "\t\t<dd>1.174</dd>\n",
       "\t<dt>10_2019_P_M1</dt>\n",
       "\t\t<dd>1.076</dd>\n",
       "\t<dt>11_2019_P_M1</dt>\n",
       "\t\t<dd>1.042</dd>\n",
       "\t<dt>12_2019_P_M1</dt>\n",
       "\t\t<dd>0.971</dd>\n",
       "\t<dt>13_2019_P_M1</dt>\n",
       "\t\t<dd>0.771</dd>\n",
       "\t<dt>14_2019_P_M1</dt>\n",
       "\t\t<dd>0.752</dd>\n",
       "\t<dt>15_2019_P_M1</dt>\n",
       "\t\t<dd>0.718</dd>\n",
       "\t<dt>16_2019_P_M1</dt>\n",
       "\t\t<dd>0.898</dd>\n",
       "\t<dt>17_2019_P_M1</dt>\n",
       "\t\t<dd>0.894</dd>\n",
       "\t<dt>18_2019_P_M1</dt>\n",
       "\t\t<dd>0.932</dd>\n",
       "\t<dt>19_2019_P_M1</dt>\n",
       "\t\t<dd>0.749</dd>\n",
       "\t<dt>20_2019_P_M1</dt>\n",
       "\t\t<dd>0.776</dd>\n",
       "\t<dt>21_2019_P_M1</dt>\n",
       "\t\t<dd>0.584</dd>\n",
       "\t<dt>22_2019_P_M1</dt>\n",
       "\t\t<dd>0.634</dd>\n",
       "\t<dt>23_2019_P_M1</dt>\n",
       "\t\t<dd>0.755</dd>\n",
       "\t<dt>24_2019_P_M1</dt>\n",
       "\t\t<dd>0.809</dd>\n",
       "</dl>\n"
      ],
      "text/latex": [
       "\\begin{description*}\n",
       "\\item[1\\textbackslash{}\\_2019\\textbackslash{}\\_P\\textbackslash{}\\_M1] 1.592\n",
       "\\item[2\\textbackslash{}\\_2019\\textbackslash{}\\_P\\textbackslash{}\\_M1] 1.659\n",
       "\\item[3\\textbackslash{}\\_2019\\textbackslash{}\\_P\\textbackslash{}\\_M1] 1.513\n",
       "\\item[4\\textbackslash{}\\_2019\\textbackslash{}\\_P\\textbackslash{}\\_M1] 1.42\n",
       "\\item[5\\textbackslash{}\\_2019\\textbackslash{}\\_P\\textbackslash{}\\_M1] 1.437\n",
       "\\item[6\\textbackslash{}\\_2019\\textbackslash{}\\_P\\textbackslash{}\\_M1] 1.237\n",
       "\\item[7\\textbackslash{}\\_2019\\textbackslash{}\\_P\\textbackslash{}\\_M1] 1.401\n",
       "\\item[8\\textbackslash{}\\_2019\\textbackslash{}\\_P\\textbackslash{}\\_M1] 1.442\n",
       "\\item[9\\textbackslash{}\\_2019\\textbackslash{}\\_P\\textbackslash{}\\_M1] 1.174\n",
       "\\item[10\\textbackslash{}\\_2019\\textbackslash{}\\_P\\textbackslash{}\\_M1] 1.076\n",
       "\\item[11\\textbackslash{}\\_2019\\textbackslash{}\\_P\\textbackslash{}\\_M1] 1.042\n",
       "\\item[12\\textbackslash{}\\_2019\\textbackslash{}\\_P\\textbackslash{}\\_M1] 0.971\n",
       "\\item[13\\textbackslash{}\\_2019\\textbackslash{}\\_P\\textbackslash{}\\_M1] 0.771\n",
       "\\item[14\\textbackslash{}\\_2019\\textbackslash{}\\_P\\textbackslash{}\\_M1] 0.752\n",
       "\\item[15\\textbackslash{}\\_2019\\textbackslash{}\\_P\\textbackslash{}\\_M1] 0.718\n",
       "\\item[16\\textbackslash{}\\_2019\\textbackslash{}\\_P\\textbackslash{}\\_M1] 0.898\n",
       "\\item[17\\textbackslash{}\\_2019\\textbackslash{}\\_P\\textbackslash{}\\_M1] 0.894\n",
       "\\item[18\\textbackslash{}\\_2019\\textbackslash{}\\_P\\textbackslash{}\\_M1] 0.932\n",
       "\\item[19\\textbackslash{}\\_2019\\textbackslash{}\\_P\\textbackslash{}\\_M1] 0.749\n",
       "\\item[20\\textbackslash{}\\_2019\\textbackslash{}\\_P\\textbackslash{}\\_M1] 0.776\n",
       "\\item[21\\textbackslash{}\\_2019\\textbackslash{}\\_P\\textbackslash{}\\_M1] 0.584\n",
       "\\item[22\\textbackslash{}\\_2019\\textbackslash{}\\_P\\textbackslash{}\\_M1] 0.634\n",
       "\\item[23\\textbackslash{}\\_2019\\textbackslash{}\\_P\\textbackslash{}\\_M1] 0.755\n",
       "\\item[24\\textbackslash{}\\_2019\\textbackslash{}\\_P\\textbackslash{}\\_M1] 0.809\n",
       "\\end{description*}\n"
      ],
      "text/markdown": [
       "1_2019_P_M1\n",
       ":   1.5922_2019_P_M1\n",
       ":   1.6593_2019_P_M1\n",
       ":   1.5134_2019_P_M1\n",
       ":   1.425_2019_P_M1\n",
       ":   1.4376_2019_P_M1\n",
       ":   1.2377_2019_P_M1\n",
       ":   1.4018_2019_P_M1\n",
       ":   1.4429_2019_P_M1\n",
       ":   1.17410_2019_P_M1\n",
       ":   1.07611_2019_P_M1\n",
       ":   1.04212_2019_P_M1\n",
       ":   0.97113_2019_P_M1\n",
       ":   0.77114_2019_P_M1\n",
       ":   0.75215_2019_P_M1\n",
       ":   0.71816_2019_P_M1\n",
       ":   0.89817_2019_P_M1\n",
       ":   0.89418_2019_P_M1\n",
       ":   0.93219_2019_P_M1\n",
       ":   0.74920_2019_P_M1\n",
       ":   0.77621_2019_P_M1\n",
       ":   0.58422_2019_P_M1\n",
       ":   0.63423_2019_P_M1\n",
       ":   0.75524_2019_P_M1\n",
       ":   0.809\n",
       "\n"
      ],
      "text/plain": [
       " 1_2019_P_M1  2_2019_P_M1  3_2019_P_M1  4_2019_P_M1  5_2019_P_M1  6_2019_P_M1 \n",
       "       1.592        1.659        1.513        1.420        1.437        1.237 \n",
       " 7_2019_P_M1  8_2019_P_M1  9_2019_P_M1 10_2019_P_M1 11_2019_P_M1 12_2019_P_M1 \n",
       "       1.401        1.442        1.174        1.076        1.042        0.971 \n",
       "13_2019_P_M1 14_2019_P_M1 15_2019_P_M1 16_2019_P_M1 17_2019_P_M1 18_2019_P_M1 \n",
       "       0.771        0.752        0.718        0.898        0.894        0.932 \n",
       "19_2019_P_M1 20_2019_P_M1 21_2019_P_M1 22_2019_P_M1 23_2019_P_M1 24_2019_P_M1 \n",
       "       0.749        0.776        0.584        0.634        0.755        0.809 "
      ]
     },
     "metadata": {},
     "output_type": "display_data"
    }
   ],
   "source": [
    "round(sizeFactors(dds),3)"
   ]
  },
  {
   "cell_type": "markdown",
   "metadata": {},
   "source": [
    "Now that the size factors have been estimated, we can get \"normalized\" counts. Here we print three data frames together to easily compare them."
   ]
  },
  {
   "cell_type": "code",
   "execution_count": 32,
   "metadata": {},
   "outputs": [
    {
     "data": {
      "text/html": [
       "<table>\n",
       "<caption>A matrix: 3 × 24 of type int</caption>\n",
       "<thead>\n",
       "\t<tr><th></th><th scope=col>1_2019_P_M1</th><th scope=col>2_2019_P_M1</th><th scope=col>3_2019_P_M1</th><th scope=col>4_2019_P_M1</th><th scope=col>5_2019_P_M1</th><th scope=col>6_2019_P_M1</th><th scope=col>7_2019_P_M1</th><th scope=col>8_2019_P_M1</th><th scope=col>9_2019_P_M1</th><th scope=col>10_2019_P_M1</th><th scope=col>⋯</th><th scope=col>15_2019_P_M1</th><th scope=col>16_2019_P_M1</th><th scope=col>17_2019_P_M1</th><th scope=col>18_2019_P_M1</th><th scope=col>19_2019_P_M1</th><th scope=col>20_2019_P_M1</th><th scope=col>21_2019_P_M1</th><th scope=col>22_2019_P_M1</th><th scope=col>23_2019_P_M1</th><th scope=col>24_2019_P_M1</th></tr>\n",
       "</thead>\n",
       "<tbody>\n",
       "\t<tr><th scope=row>CNAG_00001</th><td>  0</td><td>  0</td><td>  0</td><td>  0</td><td>  0</td><td>  0</td><td>  0</td><td>  0</td><td>  0</td><td>  0</td><td>⋯</td><td>  0</td><td>  0</td><td>  0</td><td>  0</td><td>  0</td><td>  0</td><td>  0</td><td>  0</td><td>  0</td><td>  0</td></tr>\n",
       "\t<tr><th scope=row>CNAG_00002</th><td>158</td><td>204</td><td>149</td><td>176</td><td>161</td><td>148</td><td>172</td><td>169</td><td>124</td><td>119</td><td>⋯</td><td>216</td><td>224</td><td>234</td><td>338</td><td>191</td><td>201</td><td>192</td><td>166</td><td>202</td><td>235</td></tr>\n",
       "\t<tr><th scope=row>CNAG_00003</th><td>201</td><td>156</td><td>161</td><td>171</td><td>162</td><td>103</td><td>172</td><td>170</td><td>175</td><td>131</td><td>⋯</td><td>197</td><td>195</td><td>211</td><td>201</td><td>118</td><td>133</td><td>109</td><td>113</td><td>154</td><td>169</td></tr>\n",
       "</tbody>\n",
       "</table>\n"
      ],
      "text/latex": [
       "A matrix: 3 × 24 of type int\n",
       "\\begin{tabular}{r|llllllllllllllllllllllll}\n",
       "  & 1\\_2019\\_P\\_M1 & 2\\_2019\\_P\\_M1 & 3\\_2019\\_P\\_M1 & 4\\_2019\\_P\\_M1 & 5\\_2019\\_P\\_M1 & 6\\_2019\\_P\\_M1 & 7\\_2019\\_P\\_M1 & 8\\_2019\\_P\\_M1 & 9\\_2019\\_P\\_M1 & 10\\_2019\\_P\\_M1 & 11\\_2019\\_P\\_M1 & 12\\_2019\\_P\\_M1 & 13\\_2019\\_P\\_M1 & 14\\_2019\\_P\\_M1 & 15\\_2019\\_P\\_M1 & 16\\_2019\\_P\\_M1 & 17\\_2019\\_P\\_M1 & 18\\_2019\\_P\\_M1 & 19\\_2019\\_P\\_M1 & 20\\_2019\\_P\\_M1 & 21\\_2019\\_P\\_M1 & 22\\_2019\\_P\\_M1 & 23\\_2019\\_P\\_M1 & 24\\_2019\\_P\\_M1\\\\\n",
       "\\hline\n",
       "\tCNAG\\_00001 &   0 &   0 &   0 &   0 &   0 &   0 &   0 &   0 &   0 &   0 &   0 &   0 &   0 &   0 &   0 &   0 &   0 &   0 &   0 &   0 &   0 &   0 &   0 &   0\\\\\n",
       "\tCNAG\\_00002 & 158 & 204 & 149 & 176 & 161 & 148 & 172 & 169 & 124 & 119 &  90 &  81 & 188 & 177 & 216 & 224 & 234 & 338 & 191 & 201 & 192 & 166 & 202 & 235\\\\\n",
       "\tCNAG\\_00003 & 201 & 156 & 161 & 171 & 162 & 103 & 172 & 170 & 175 & 131 & 121 & 151 & 215 & 154 & 197 & 195 & 211 & 201 & 118 & 133 & 109 & 113 & 154 & 169\\\\\n",
       "\\end{tabular}\n"
      ],
      "text/markdown": [
       "\n",
       "A matrix: 3 × 24 of type int\n",
       "\n",
       "| <!--/--> | 1_2019_P_M1 | 2_2019_P_M1 | 3_2019_P_M1 | 4_2019_P_M1 | 5_2019_P_M1 | 6_2019_P_M1 | 7_2019_P_M1 | 8_2019_P_M1 | 9_2019_P_M1 | 10_2019_P_M1 | ⋯ | 15_2019_P_M1 | 16_2019_P_M1 | 17_2019_P_M1 | 18_2019_P_M1 | 19_2019_P_M1 | 20_2019_P_M1 | 21_2019_P_M1 | 22_2019_P_M1 | 23_2019_P_M1 | 24_2019_P_M1 |\n",
       "|---|---|---|---|---|---|---|---|---|---|---|---|---|---|---|---|---|---|---|---|---|---|\n",
       "| CNAG_00001 |   0 |   0 |   0 |   0 |   0 |   0 |   0 |   0 |   0 |   0 | ⋯ |   0 |   0 |   0 |   0 |   0 |   0 |   0 |   0 |   0 |   0 |\n",
       "| CNAG_00002 | 158 | 204 | 149 | 176 | 161 | 148 | 172 | 169 | 124 | 119 | ⋯ | 216 | 224 | 234 | 338 | 191 | 201 | 192 | 166 | 202 | 235 |\n",
       "| CNAG_00003 | 201 | 156 | 161 | 171 | 162 | 103 | 172 | 170 | 175 | 131 | ⋯ | 197 | 195 | 211 | 201 | 118 | 133 | 109 | 113 | 154 | 169 |\n",
       "\n"
      ],
      "text/plain": [
       "           1_2019_P_M1 2_2019_P_M1 3_2019_P_M1 4_2019_P_M1 5_2019_P_M1\n",
       "CNAG_00001   0           0           0           0           0        \n",
       "CNAG_00002 158         204         149         176         161        \n",
       "CNAG_00003 201         156         161         171         162        \n",
       "           6_2019_P_M1 7_2019_P_M1 8_2019_P_M1 9_2019_P_M1 10_2019_P_M1 ⋯\n",
       "CNAG_00001   0           0           0           0           0          ⋯\n",
       "CNAG_00002 148         172         169         124         119          ⋯\n",
       "CNAG_00003 103         172         170         175         131          ⋯\n",
       "           15_2019_P_M1 16_2019_P_M1 17_2019_P_M1 18_2019_P_M1 19_2019_P_M1\n",
       "CNAG_00001   0            0            0            0            0         \n",
       "CNAG_00002 216          224          234          338          191         \n",
       "CNAG_00003 197          195          211          201          118         \n",
       "           20_2019_P_M1 21_2019_P_M1 22_2019_P_M1 23_2019_P_M1 24_2019_P_M1\n",
       "CNAG_00001   0            0            0            0            0         \n",
       "CNAG_00002 201          192          166          202          235         \n",
       "CNAG_00003 133          109          113          154          169         "
      ]
     },
     "metadata": {},
     "output_type": "display_data"
    },
    {
     "data": {
      "text/html": [
       "<table>\n",
       "<caption>A matrix: 3 × 24 of type dbl</caption>\n",
       "<thead>\n",
       "\t<tr><th></th><th scope=col>1_2019_P_M1</th><th scope=col>2_2019_P_M1</th><th scope=col>3_2019_P_M1</th><th scope=col>4_2019_P_M1</th><th scope=col>5_2019_P_M1</th><th scope=col>6_2019_P_M1</th><th scope=col>7_2019_P_M1</th><th scope=col>8_2019_P_M1</th><th scope=col>9_2019_P_M1</th><th scope=col>10_2019_P_M1</th><th scope=col>⋯</th><th scope=col>15_2019_P_M1</th><th scope=col>16_2019_P_M1</th><th scope=col>17_2019_P_M1</th><th scope=col>18_2019_P_M1</th><th scope=col>19_2019_P_M1</th><th scope=col>20_2019_P_M1</th><th scope=col>21_2019_P_M1</th><th scope=col>22_2019_P_M1</th><th scope=col>23_2019_P_M1</th><th scope=col>24_2019_P_M1</th></tr>\n",
       "</thead>\n",
       "<tbody>\n",
       "\t<tr><th scope=row>CNAG_00001</th><td>  0.00000</td><td>  0.00000</td><td>  0.00000</td><td>  0.0000</td><td>  0.0000</td><td>  0.00000</td><td>  0.0000</td><td>  0.0000</td><td>  0.0000</td><td>  0.0000</td><td>⋯</td><td>  0.0000</td><td>  0.0000</td><td>  0.0000</td><td>  0.0000</td><td>  0.0000</td><td>  0.0000</td><td>  0.0000</td><td>  0.0000</td><td>  0.0000</td><td>  0.0000</td></tr>\n",
       "\t<tr><th scope=row>CNAG_00002</th><td> 99.26872</td><td>122.98706</td><td> 98.48671</td><td>123.9726</td><td>112.0090</td><td>119.63463</td><td>122.7271</td><td>117.1843</td><td>105.5822</td><td>110.5573</td><td>⋯</td><td>300.9700</td><td>249.4876</td><td>261.8499</td><td>362.8096</td><td>254.8584</td><td>259.1637</td><td>328.8614</td><td>261.6647</td><td>267.4837</td><td>290.5408</td></tr>\n",
       "\t<tr><th scope=row>CNAG_00003</th><td>126.28489</td><td> 94.04893</td><td>106.41852</td><td>120.4506</td><td>112.7047</td><td> 83.25923</td><td>122.7271</td><td>117.8777</td><td>149.0071</td><td>121.7060</td><td>⋯</td><td>274.4957</td><td>217.1878</td><td>236.1125</td><td>215.7536</td><td>157.4518</td><td>171.4864</td><td>186.6974</td><td>178.1211</td><td>203.9232</td><td>208.9421</td></tr>\n",
       "</tbody>\n",
       "</table>\n"
      ],
      "text/latex": [
       "A matrix: 3 × 24 of type dbl\n",
       "\\begin{tabular}{r|llllllllllllllllllllllll}\n",
       "  & 1\\_2019\\_P\\_M1 & 2\\_2019\\_P\\_M1 & 3\\_2019\\_P\\_M1 & 4\\_2019\\_P\\_M1 & 5\\_2019\\_P\\_M1 & 6\\_2019\\_P\\_M1 & 7\\_2019\\_P\\_M1 & 8\\_2019\\_P\\_M1 & 9\\_2019\\_P\\_M1 & 10\\_2019\\_P\\_M1 & 11\\_2019\\_P\\_M1 & 12\\_2019\\_P\\_M1 & 13\\_2019\\_P\\_M1 & 14\\_2019\\_P\\_M1 & 15\\_2019\\_P\\_M1 & 16\\_2019\\_P\\_M1 & 17\\_2019\\_P\\_M1 & 18\\_2019\\_P\\_M1 & 19\\_2019\\_P\\_M1 & 20\\_2019\\_P\\_M1 & 21\\_2019\\_P\\_M1 & 22\\_2019\\_P\\_M1 & 23\\_2019\\_P\\_M1 & 24\\_2019\\_P\\_M1\\\\\n",
       "\\hline\n",
       "\tCNAG\\_00001 &   0.00000 &   0.00000 &   0.00000 &   0.0000 &   0.0000 &   0.00000 &   0.0000 &   0.0000 &   0.0000 &   0.0000 &   0.00000 &   0.00000 &   0.0000 &   0.0000 &   0.0000 &   0.0000 &   0.0000 &   0.0000 &   0.0000 &   0.0000 &   0.0000 &   0.0000 &   0.0000 &   0.0000\\\\\n",
       "\tCNAG\\_00002 &  99.26872 & 122.98706 &  98.48671 & 123.9726 & 112.0090 & 119.63463 & 122.7271 & 117.1843 & 105.5822 & 110.5573 &  86.35888 &  83.39869 & 243.8433 & 235.2528 & 300.9700 & 249.4876 & 261.8499 & 362.8096 & 254.8584 & 259.1637 & 328.8614 & 261.6647 & 267.4837 & 290.5408\\\\\n",
       "\tCNAG\\_00003 & 126.28489 &  94.04893 & 106.41852 & 120.4506 & 112.7047 &  83.25923 & 122.7271 & 117.8777 & 149.0071 & 121.7060 & 116.10471 & 155.47163 & 278.8634 & 204.6832 & 274.4957 & 217.1878 & 236.1125 & 215.7536 & 157.4518 & 171.4864 & 186.6974 & 178.1211 & 203.9232 & 208.9421\\\\\n",
       "\\end{tabular}\n"
      ],
      "text/markdown": [
       "\n",
       "A matrix: 3 × 24 of type dbl\n",
       "\n",
       "| <!--/--> | 1_2019_P_M1 | 2_2019_P_M1 | 3_2019_P_M1 | 4_2019_P_M1 | 5_2019_P_M1 | 6_2019_P_M1 | 7_2019_P_M1 | 8_2019_P_M1 | 9_2019_P_M1 | 10_2019_P_M1 | ⋯ | 15_2019_P_M1 | 16_2019_P_M1 | 17_2019_P_M1 | 18_2019_P_M1 | 19_2019_P_M1 | 20_2019_P_M1 | 21_2019_P_M1 | 22_2019_P_M1 | 23_2019_P_M1 | 24_2019_P_M1 |\n",
       "|---|---|---|---|---|---|---|---|---|---|---|---|---|---|---|---|---|---|---|---|---|---|\n",
       "| CNAG_00001 |   0.00000 |   0.00000 |   0.00000 |   0.0000 |   0.0000 |   0.00000 |   0.0000 |   0.0000 |   0.0000 |   0.0000 | ⋯ |   0.0000 |   0.0000 |   0.0000 |   0.0000 |   0.0000 |   0.0000 |   0.0000 |   0.0000 |   0.0000 |   0.0000 |\n",
       "| CNAG_00002 |  99.26872 | 122.98706 |  98.48671 | 123.9726 | 112.0090 | 119.63463 | 122.7271 | 117.1843 | 105.5822 | 110.5573 | ⋯ | 300.9700 | 249.4876 | 261.8499 | 362.8096 | 254.8584 | 259.1637 | 328.8614 | 261.6647 | 267.4837 | 290.5408 |\n",
       "| CNAG_00003 | 126.28489 |  94.04893 | 106.41852 | 120.4506 | 112.7047 |  83.25923 | 122.7271 | 117.8777 | 149.0071 | 121.7060 | ⋯ | 274.4957 | 217.1878 | 236.1125 | 215.7536 | 157.4518 | 171.4864 | 186.6974 | 178.1211 | 203.9232 | 208.9421 |\n",
       "\n"
      ],
      "text/plain": [
       "           1_2019_P_M1 2_2019_P_M1 3_2019_P_M1 4_2019_P_M1 5_2019_P_M1\n",
       "CNAG_00001   0.00000     0.00000     0.00000     0.0000      0.0000   \n",
       "CNAG_00002  99.26872   122.98706    98.48671   123.9726    112.0090   \n",
       "CNAG_00003 126.28489    94.04893   106.41852   120.4506    112.7047   \n",
       "           6_2019_P_M1 7_2019_P_M1 8_2019_P_M1 9_2019_P_M1 10_2019_P_M1 ⋯\n",
       "CNAG_00001   0.00000     0.0000      0.0000      0.0000      0.0000     ⋯\n",
       "CNAG_00002 119.63463   122.7271    117.1843    105.5822    110.5573     ⋯\n",
       "CNAG_00003  83.25923   122.7271    117.8777    149.0071    121.7060     ⋯\n",
       "           15_2019_P_M1 16_2019_P_M1 17_2019_P_M1 18_2019_P_M1 19_2019_P_M1\n",
       "CNAG_00001   0.0000       0.0000       0.0000       0.0000       0.0000    \n",
       "CNAG_00002 300.9700     249.4876     261.8499     362.8096     254.8584    \n",
       "CNAG_00003 274.4957     217.1878     236.1125     215.7536     157.4518    \n",
       "           20_2019_P_M1 21_2019_P_M1 22_2019_P_M1 23_2019_P_M1 24_2019_P_M1\n",
       "CNAG_00001   0.0000       0.0000       0.0000       0.0000       0.0000    \n",
       "CNAG_00002 259.1637     328.8614     261.6647     267.4837     290.5408    \n",
       "CNAG_00003 171.4864     186.6974     178.1211     203.9232     208.9421    "
      ]
     },
     "metadata": {},
     "output_type": "display_data"
    },
    {
     "data": {
      "text/html": [
       "<table>\n",
       "<caption>A matrix: 3 × 24 of type dbl</caption>\n",
       "<thead>\n",
       "\t<tr><th></th><th scope=col>1_2019_P_M1</th><th scope=col>2_2019_P_M1</th><th scope=col>3_2019_P_M1</th><th scope=col>4_2019_P_M1</th><th scope=col>5_2019_P_M1</th><th scope=col>6_2019_P_M1</th><th scope=col>7_2019_P_M1</th><th scope=col>8_2019_P_M1</th><th scope=col>9_2019_P_M1</th><th scope=col>10_2019_P_M1</th><th scope=col>⋯</th><th scope=col>15_2019_P_M1</th><th scope=col>16_2019_P_M1</th><th scope=col>17_2019_P_M1</th><th scope=col>18_2019_P_M1</th><th scope=col>19_2019_P_M1</th><th scope=col>20_2019_P_M1</th><th scope=col>21_2019_P_M1</th><th scope=col>22_2019_P_M1</th><th scope=col>23_2019_P_M1</th><th scope=col>24_2019_P_M1</th></tr>\n",
       "</thead>\n",
       "<tbody>\n",
       "\t<tr><th scope=row>CNAG_00001</th><td>  0.00000</td><td>  0.00000</td><td>  0.00000</td><td>  0.0000</td><td>  0.0000</td><td>  0.00000</td><td>  0.0000</td><td>  0.0000</td><td>  0.0000</td><td>  0.0000</td><td>⋯</td><td>  0.0000</td><td>  0.0000</td><td>  0.0000</td><td>  0.0000</td><td>  0.0000</td><td>  0.0000</td><td>  0.0000</td><td>  0.0000</td><td>  0.0000</td><td>  0.0000</td></tr>\n",
       "\t<tr><th scope=row>CNAG_00002</th><td> 99.26872</td><td>122.98706</td><td> 98.48671</td><td>123.9726</td><td>112.0090</td><td>119.63463</td><td>122.7271</td><td>117.1843</td><td>105.5822</td><td>110.5573</td><td>⋯</td><td>300.9700</td><td>249.4876</td><td>261.8499</td><td>362.8096</td><td>254.8584</td><td>259.1637</td><td>328.8614</td><td>261.6647</td><td>267.4837</td><td>290.5408</td></tr>\n",
       "\t<tr><th scope=row>CNAG_00003</th><td>126.28489</td><td> 94.04893</td><td>106.41852</td><td>120.4506</td><td>112.7047</td><td> 83.25923</td><td>122.7271</td><td>117.8777</td><td>149.0071</td><td>121.7060</td><td>⋯</td><td>274.4957</td><td>217.1878</td><td>236.1125</td><td>215.7536</td><td>157.4518</td><td>171.4864</td><td>186.6974</td><td>178.1211</td><td>203.9232</td><td>208.9421</td></tr>\n",
       "</tbody>\n",
       "</table>\n"
      ],
      "text/latex": [
       "A matrix: 3 × 24 of type dbl\n",
       "\\begin{tabular}{r|llllllllllllllllllllllll}\n",
       "  & 1\\_2019\\_P\\_M1 & 2\\_2019\\_P\\_M1 & 3\\_2019\\_P\\_M1 & 4\\_2019\\_P\\_M1 & 5\\_2019\\_P\\_M1 & 6\\_2019\\_P\\_M1 & 7\\_2019\\_P\\_M1 & 8\\_2019\\_P\\_M1 & 9\\_2019\\_P\\_M1 & 10\\_2019\\_P\\_M1 & 11\\_2019\\_P\\_M1 & 12\\_2019\\_P\\_M1 & 13\\_2019\\_P\\_M1 & 14\\_2019\\_P\\_M1 & 15\\_2019\\_P\\_M1 & 16\\_2019\\_P\\_M1 & 17\\_2019\\_P\\_M1 & 18\\_2019\\_P\\_M1 & 19\\_2019\\_P\\_M1 & 20\\_2019\\_P\\_M1 & 21\\_2019\\_P\\_M1 & 22\\_2019\\_P\\_M1 & 23\\_2019\\_P\\_M1 & 24\\_2019\\_P\\_M1\\\\\n",
       "\\hline\n",
       "\tCNAG\\_00001 &   0.00000 &   0.00000 &   0.00000 &   0.0000 &   0.0000 &   0.00000 &   0.0000 &   0.0000 &   0.0000 &   0.0000 &   0.00000 &   0.00000 &   0.0000 &   0.0000 &   0.0000 &   0.0000 &   0.0000 &   0.0000 &   0.0000 &   0.0000 &   0.0000 &   0.0000 &   0.0000 &   0.0000\\\\\n",
       "\tCNAG\\_00002 &  99.26872 & 122.98706 &  98.48671 & 123.9726 & 112.0090 & 119.63463 & 122.7271 & 117.1843 & 105.5822 & 110.5573 &  86.35888 &  83.39869 & 243.8433 & 235.2528 & 300.9700 & 249.4876 & 261.8499 & 362.8096 & 254.8584 & 259.1637 & 328.8614 & 261.6647 & 267.4837 & 290.5408\\\\\n",
       "\tCNAG\\_00003 & 126.28489 &  94.04893 & 106.41852 & 120.4506 & 112.7047 &  83.25923 & 122.7271 & 117.8777 & 149.0071 & 121.7060 & 116.10471 & 155.47163 & 278.8634 & 204.6832 & 274.4957 & 217.1878 & 236.1125 & 215.7536 & 157.4518 & 171.4864 & 186.6974 & 178.1211 & 203.9232 & 208.9421\\\\\n",
       "\\end{tabular}\n"
      ],
      "text/markdown": [
       "\n",
       "A matrix: 3 × 24 of type dbl\n",
       "\n",
       "| <!--/--> | 1_2019_P_M1 | 2_2019_P_M1 | 3_2019_P_M1 | 4_2019_P_M1 | 5_2019_P_M1 | 6_2019_P_M1 | 7_2019_P_M1 | 8_2019_P_M1 | 9_2019_P_M1 | 10_2019_P_M1 | ⋯ | 15_2019_P_M1 | 16_2019_P_M1 | 17_2019_P_M1 | 18_2019_P_M1 | 19_2019_P_M1 | 20_2019_P_M1 | 21_2019_P_M1 | 22_2019_P_M1 | 23_2019_P_M1 | 24_2019_P_M1 |\n",
       "|---|---|---|---|---|---|---|---|---|---|---|---|---|---|---|---|---|---|---|---|---|---|\n",
       "| CNAG_00001 |   0.00000 |   0.00000 |   0.00000 |   0.0000 |   0.0000 |   0.00000 |   0.0000 |   0.0000 |   0.0000 |   0.0000 | ⋯ |   0.0000 |   0.0000 |   0.0000 |   0.0000 |   0.0000 |   0.0000 |   0.0000 |   0.0000 |   0.0000 |   0.0000 |\n",
       "| CNAG_00002 |  99.26872 | 122.98706 |  98.48671 | 123.9726 | 112.0090 | 119.63463 | 122.7271 | 117.1843 | 105.5822 | 110.5573 | ⋯ | 300.9700 | 249.4876 | 261.8499 | 362.8096 | 254.8584 | 259.1637 | 328.8614 | 261.6647 | 267.4837 | 290.5408 |\n",
       "| CNAG_00003 | 126.28489 |  94.04893 | 106.41852 | 120.4506 | 112.7047 |  83.25923 | 122.7271 | 117.8777 | 149.0071 | 121.7060 | ⋯ | 274.4957 | 217.1878 | 236.1125 | 215.7536 | 157.4518 | 171.4864 | 186.6974 | 178.1211 | 203.9232 | 208.9421 |\n",
       "\n"
      ],
      "text/plain": [
       "           1_2019_P_M1 2_2019_P_M1 3_2019_P_M1 4_2019_P_M1 5_2019_P_M1\n",
       "CNAG_00001   0.00000     0.00000     0.00000     0.0000      0.0000   \n",
       "CNAG_00002  99.26872   122.98706    98.48671   123.9726    112.0090   \n",
       "CNAG_00003 126.28489    94.04893   106.41852   120.4506    112.7047   \n",
       "           6_2019_P_M1 7_2019_P_M1 8_2019_P_M1 9_2019_P_M1 10_2019_P_M1 ⋯\n",
       "CNAG_00001   0.00000     0.0000      0.0000      0.0000      0.0000     ⋯\n",
       "CNAG_00002 119.63463   122.7271    117.1843    105.5822    110.5573     ⋯\n",
       "CNAG_00003  83.25923   122.7271    117.8777    149.0071    121.7060     ⋯\n",
       "           15_2019_P_M1 16_2019_P_M1 17_2019_P_M1 18_2019_P_M1 19_2019_P_M1\n",
       "CNAG_00001   0.0000       0.0000       0.0000       0.0000       0.0000    \n",
       "CNAG_00002 300.9700     249.4876     261.8499     362.8096     254.8584    \n",
       "CNAG_00003 274.4957     217.1878     236.1125     215.7536     157.4518    \n",
       "           20_2019_P_M1 21_2019_P_M1 22_2019_P_M1 23_2019_P_M1 24_2019_P_M1\n",
       "CNAG_00001   0.0000       0.0000       0.0000       0.0000       0.0000    \n",
       "CNAG_00002 259.1637     328.8614     261.6647     267.4837     290.5408    \n",
       "CNAG_00003 171.4864     186.6974     178.1211     203.9232     208.9421    "
      ]
     },
     "metadata": {},
     "output_type": "display_data"
    }
   ],
   "source": [
    "# original count\n",
    "head(counts(dds), 3)\n",
    "\n",
    "# normalized count\n",
    "head(counts(dds, normalize = TRUE), 3)\n",
    "\n",
    "# normalized manually using size factors\n",
    "counts(dds)[1:3,] %>% \n",
    "    apply(., 1, function(row){row / sizeFactors(dds)}) %>%\n",
    "    t"
   ]
  },
  {
   "cell_type": "markdown",
   "metadata": {},
   "source": [
    "**Exercise:** How do you get the raw counts for gene  \"GeneID: CNAG_05845\"?"
   ]
  },
  {
   "cell_type": "code",
   "execution_count": 33,
   "metadata": {},
   "outputs": [
    {
     "data": {
      "text/html": [
       "<dl class=dl-horizontal>\n",
       "\t<dt>1_2019_P_M1</dt>\n",
       "\t\t<dd>1753.53797886484</dd>\n",
       "\t<dt>2_2019_P_M1</dt>\n",
       "\t\t<dd>1483.68217900155</dd>\n",
       "\t<dt>3_2019_P_M1</dt>\n",
       "\t\t<dd>1395.99946990619</dd>\n",
       "\t<dt>4_2019_P_M1</dt>\n",
       "\t\t<dd>1526.41255544016</dd>\n",
       "\t<dt>5_2019_P_M1</dt>\n",
       "\t\t<dd>1540.99313383281</dd>\n",
       "\t<dt>6_2019_P_M1</dt>\n",
       "\t\t<dd>1662.7596492127</dd>\n",
       "\t<dt>7_2019_P_M1</dt>\n",
       "\t\t<dd>1483.42871883441</dd>\n",
       "\t<dt>8_2019_P_M1</dt>\n",
       "\t\t<dd>1396.50418466832</dd>\n",
       "\t<dt>9_2019_P_M1</dt>\n",
       "\t\t<dd>1611.83072599508</dd>\n",
       "\t<dt>10_2019_P_M1</dt>\n",
       "\t\t<dd>1532.00864567435</dd>\n",
       "\t<dt>11_2019_P_M1</dt>\n",
       "\t\t<dd>1625.46596139805</dd>\n",
       "\t<dt>12_2019_P_M1</dt>\n",
       "\t\t<dd>1693.71412764532</dd>\n",
       "\t<dt>13_2019_P_M1</dt>\n",
       "\t\t<dd>1629.08097566201</dd>\n",
       "\t<dt>14_2019_P_M1</dt>\n",
       "\t\t<dd>1600.25083019968</dd>\n",
       "\t<dt>15_2019_P_M1</dt>\n",
       "\t\t<dd>1574.51874654145</dd>\n",
       "\t<dt>16_2019_P_M1</dt>\n",
       "\t\t<dd>1551.50087953968</dd>\n",
       "\t<dt>17_2019_P_M1</dt>\n",
       "\t\t<dd>1732.23798357198</dd>\n",
       "\t<dt>18_2019_P_M1</dt>\n",
       "\t\t<dd>1523.15632242235</dd>\n",
       "\t<dt>19_2019_P_M1</dt>\n",
       "\t\t<dd>1822.70471019287</dd>\n",
       "\t<dt>20_2019_P_M1</dt>\n",
       "\t\t<dd>1799.96293025118</dd>\n",
       "\t<dt>21_2019_P_M1</dt>\n",
       "\t\t<dd>1872.1121963887</dd>\n",
       "\t<dt>22_2019_P_M1</dt>\n",
       "\t\t<dd>1692.93885137862</dd>\n",
       "\t<dt>23_2019_P_M1</dt>\n",
       "\t\t<dd>1832.66088488836</dd>\n",
       "\t<dt>24_2019_P_M1</dt>\n",
       "\t\t<dd>1791.46239053794</dd>\n",
       "</dl>\n"
      ],
      "text/latex": [
       "\\begin{description*}\n",
       "\\item[1\\textbackslash{}\\_2019\\textbackslash{}\\_P\\textbackslash{}\\_M1] 1753.53797886484\n",
       "\\item[2\\textbackslash{}\\_2019\\textbackslash{}\\_P\\textbackslash{}\\_M1] 1483.68217900155\n",
       "\\item[3\\textbackslash{}\\_2019\\textbackslash{}\\_P\\textbackslash{}\\_M1] 1395.99946990619\n",
       "\\item[4\\textbackslash{}\\_2019\\textbackslash{}\\_P\\textbackslash{}\\_M1] 1526.41255544016\n",
       "\\item[5\\textbackslash{}\\_2019\\textbackslash{}\\_P\\textbackslash{}\\_M1] 1540.99313383281\n",
       "\\item[6\\textbackslash{}\\_2019\\textbackslash{}\\_P\\textbackslash{}\\_M1] 1662.7596492127\n",
       "\\item[7\\textbackslash{}\\_2019\\textbackslash{}\\_P\\textbackslash{}\\_M1] 1483.42871883441\n",
       "\\item[8\\textbackslash{}\\_2019\\textbackslash{}\\_P\\textbackslash{}\\_M1] 1396.50418466832\n",
       "\\item[9\\textbackslash{}\\_2019\\textbackslash{}\\_P\\textbackslash{}\\_M1] 1611.83072599508\n",
       "\\item[10\\textbackslash{}\\_2019\\textbackslash{}\\_P\\textbackslash{}\\_M1] 1532.00864567435\n",
       "\\item[11\\textbackslash{}\\_2019\\textbackslash{}\\_P\\textbackslash{}\\_M1] 1625.46596139805\n",
       "\\item[12\\textbackslash{}\\_2019\\textbackslash{}\\_P\\textbackslash{}\\_M1] 1693.71412764532\n",
       "\\item[13\\textbackslash{}\\_2019\\textbackslash{}\\_P\\textbackslash{}\\_M1] 1629.08097566201\n",
       "\\item[14\\textbackslash{}\\_2019\\textbackslash{}\\_P\\textbackslash{}\\_M1] 1600.25083019968\n",
       "\\item[15\\textbackslash{}\\_2019\\textbackslash{}\\_P\\textbackslash{}\\_M1] 1574.51874654145\n",
       "\\item[16\\textbackslash{}\\_2019\\textbackslash{}\\_P\\textbackslash{}\\_M1] 1551.50087953968\n",
       "\\item[17\\textbackslash{}\\_2019\\textbackslash{}\\_P\\textbackslash{}\\_M1] 1732.23798357198\n",
       "\\item[18\\textbackslash{}\\_2019\\textbackslash{}\\_P\\textbackslash{}\\_M1] 1523.15632242235\n",
       "\\item[19\\textbackslash{}\\_2019\\textbackslash{}\\_P\\textbackslash{}\\_M1] 1822.70471019287\n",
       "\\item[20\\textbackslash{}\\_2019\\textbackslash{}\\_P\\textbackslash{}\\_M1] 1799.96293025118\n",
       "\\item[21\\textbackslash{}\\_2019\\textbackslash{}\\_P\\textbackslash{}\\_M1] 1872.1121963887\n",
       "\\item[22\\textbackslash{}\\_2019\\textbackslash{}\\_P\\textbackslash{}\\_M1] 1692.93885137862\n",
       "\\item[23\\textbackslash{}\\_2019\\textbackslash{}\\_P\\textbackslash{}\\_M1] 1832.66088488836\n",
       "\\item[24\\textbackslash{}\\_2019\\textbackslash{}\\_P\\textbackslash{}\\_M1] 1791.46239053794\n",
       "\\end{description*}\n"
      ],
      "text/markdown": [
       "1_2019_P_M1\n",
       ":   1753.537978864842_2019_P_M1\n",
       ":   1483.682179001553_2019_P_M1\n",
       ":   1395.999469906194_2019_P_M1\n",
       ":   1526.412555440165_2019_P_M1\n",
       ":   1540.993133832816_2019_P_M1\n",
       ":   1662.75964921277_2019_P_M1\n",
       ":   1483.428718834418_2019_P_M1\n",
       ":   1396.504184668329_2019_P_M1\n",
       ":   1611.8307259950810_2019_P_M1\n",
       ":   1532.0086456743511_2019_P_M1\n",
       ":   1625.4659613980512_2019_P_M1\n",
       ":   1693.7141276453213_2019_P_M1\n",
       ":   1629.0809756620114_2019_P_M1\n",
       ":   1600.2508301996815_2019_P_M1\n",
       ":   1574.5187465414516_2019_P_M1\n",
       ":   1551.5008795396817_2019_P_M1\n",
       ":   1732.2379835719818_2019_P_M1\n",
       ":   1523.1563224223519_2019_P_M1\n",
       ":   1822.7047101928720_2019_P_M1\n",
       ":   1799.9629302511821_2019_P_M1\n",
       ":   1872.112196388722_2019_P_M1\n",
       ":   1692.9388513786223_2019_P_M1\n",
       ":   1832.6608848883624_2019_P_M1\n",
       ":   1791.46239053794\n",
       "\n"
      ],
      "text/plain": [
       " 1_2019_P_M1  2_2019_P_M1  3_2019_P_M1  4_2019_P_M1  5_2019_P_M1  6_2019_P_M1 \n",
       "    1753.538     1483.682     1395.999     1526.413     1540.993     1662.760 \n",
       " 7_2019_P_M1  8_2019_P_M1  9_2019_P_M1 10_2019_P_M1 11_2019_P_M1 12_2019_P_M1 \n",
       "    1483.429     1396.504     1611.831     1532.009     1625.466     1693.714 \n",
       "13_2019_P_M1 14_2019_P_M1 15_2019_P_M1 16_2019_P_M1 17_2019_P_M1 18_2019_P_M1 \n",
       "    1629.081     1600.251     1574.519     1551.501     1732.238     1523.156 \n",
       "19_2019_P_M1 20_2019_P_M1 21_2019_P_M1 22_2019_P_M1 23_2019_P_M1 24_2019_P_M1 \n",
       "    1822.705     1799.963     1872.112     1692.939     1832.661     1791.462 "
      ]
     },
     "metadata": {},
     "output_type": "display_data"
    }
   ],
   "source": [
    "counts(dds, normalize = TRUE)[\"CNAG_05845\",]"
   ]
  },
  {
   "cell_type": "code",
   "execution_count": 39,
   "metadata": {},
   "outputs": [
    {
     "data": {
      "text/html": [
       "<dl class=dl-horizontal>\n",
       "\t<dt>1_2019_P_M1</dt>\n",
       "\t\t<dd>1753.53797886484</dd>\n",
       "\t<dt>2_2019_P_M1</dt>\n",
       "\t\t<dd>1483.68217900155</dd>\n",
       "\t<dt>3_2019_P_M1</dt>\n",
       "\t\t<dd>1395.99946990619</dd>\n",
       "\t<dt>4_2019_P_M1</dt>\n",
       "\t\t<dd>1526.41255544016</dd>\n",
       "\t<dt>5_2019_P_M1</dt>\n",
       "\t\t<dd>1540.99313383281</dd>\n",
       "\t<dt>6_2019_P_M1</dt>\n",
       "\t\t<dd>1662.7596492127</dd>\n",
       "\t<dt>7_2019_P_M1</dt>\n",
       "\t\t<dd>1483.42871883441</dd>\n",
       "\t<dt>8_2019_P_M1</dt>\n",
       "\t\t<dd>1396.50418466832</dd>\n",
       "\t<dt>9_2019_P_M1</dt>\n",
       "\t\t<dd>1611.83072599508</dd>\n",
       "\t<dt>10_2019_P_M1</dt>\n",
       "\t\t<dd>1532.00864567435</dd>\n",
       "\t<dt>11_2019_P_M1</dt>\n",
       "\t\t<dd>1625.46596139805</dd>\n",
       "\t<dt>12_2019_P_M1</dt>\n",
       "\t\t<dd>1693.71412764532</dd>\n",
       "\t<dt>13_2019_P_M1</dt>\n",
       "\t\t<dd>1629.08097566201</dd>\n",
       "\t<dt>14_2019_P_M1</dt>\n",
       "\t\t<dd>1600.25083019968</dd>\n",
       "\t<dt>15_2019_P_M1</dt>\n",
       "\t\t<dd>1574.51874654145</dd>\n",
       "\t<dt>16_2019_P_M1</dt>\n",
       "\t\t<dd>1551.50087953968</dd>\n",
       "\t<dt>17_2019_P_M1</dt>\n",
       "\t\t<dd>1732.23798357198</dd>\n",
       "\t<dt>18_2019_P_M1</dt>\n",
       "\t\t<dd>1523.15632242235</dd>\n",
       "\t<dt>19_2019_P_M1</dt>\n",
       "\t\t<dd>1822.70471019287</dd>\n",
       "\t<dt>20_2019_P_M1</dt>\n",
       "\t\t<dd>1799.96293025118</dd>\n",
       "\t<dt>21_2019_P_M1</dt>\n",
       "\t\t<dd>1872.1121963887</dd>\n",
       "\t<dt>22_2019_P_M1</dt>\n",
       "\t\t<dd>1692.93885137862</dd>\n",
       "\t<dt>23_2019_P_M1</dt>\n",
       "\t\t<dd>1832.66088488836</dd>\n",
       "\t<dt>24_2019_P_M1</dt>\n",
       "\t\t<dd>1791.46239053794</dd>\n",
       "</dl>\n"
      ],
      "text/latex": [
       "\\begin{description*}\n",
       "\\item[1\\textbackslash{}\\_2019\\textbackslash{}\\_P\\textbackslash{}\\_M1] 1753.53797886484\n",
       "\\item[2\\textbackslash{}\\_2019\\textbackslash{}\\_P\\textbackslash{}\\_M1] 1483.68217900155\n",
       "\\item[3\\textbackslash{}\\_2019\\textbackslash{}\\_P\\textbackslash{}\\_M1] 1395.99946990619\n",
       "\\item[4\\textbackslash{}\\_2019\\textbackslash{}\\_P\\textbackslash{}\\_M1] 1526.41255544016\n",
       "\\item[5\\textbackslash{}\\_2019\\textbackslash{}\\_P\\textbackslash{}\\_M1] 1540.99313383281\n",
       "\\item[6\\textbackslash{}\\_2019\\textbackslash{}\\_P\\textbackslash{}\\_M1] 1662.7596492127\n",
       "\\item[7\\textbackslash{}\\_2019\\textbackslash{}\\_P\\textbackslash{}\\_M1] 1483.42871883441\n",
       "\\item[8\\textbackslash{}\\_2019\\textbackslash{}\\_P\\textbackslash{}\\_M1] 1396.50418466832\n",
       "\\item[9\\textbackslash{}\\_2019\\textbackslash{}\\_P\\textbackslash{}\\_M1] 1611.83072599508\n",
       "\\item[10\\textbackslash{}\\_2019\\textbackslash{}\\_P\\textbackslash{}\\_M1] 1532.00864567435\n",
       "\\item[11\\textbackslash{}\\_2019\\textbackslash{}\\_P\\textbackslash{}\\_M1] 1625.46596139805\n",
       "\\item[12\\textbackslash{}\\_2019\\textbackslash{}\\_P\\textbackslash{}\\_M1] 1693.71412764532\n",
       "\\item[13\\textbackslash{}\\_2019\\textbackslash{}\\_P\\textbackslash{}\\_M1] 1629.08097566201\n",
       "\\item[14\\textbackslash{}\\_2019\\textbackslash{}\\_P\\textbackslash{}\\_M1] 1600.25083019968\n",
       "\\item[15\\textbackslash{}\\_2019\\textbackslash{}\\_P\\textbackslash{}\\_M1] 1574.51874654145\n",
       "\\item[16\\textbackslash{}\\_2019\\textbackslash{}\\_P\\textbackslash{}\\_M1] 1551.50087953968\n",
       "\\item[17\\textbackslash{}\\_2019\\textbackslash{}\\_P\\textbackslash{}\\_M1] 1732.23798357198\n",
       "\\item[18\\textbackslash{}\\_2019\\textbackslash{}\\_P\\textbackslash{}\\_M1] 1523.15632242235\n",
       "\\item[19\\textbackslash{}\\_2019\\textbackslash{}\\_P\\textbackslash{}\\_M1] 1822.70471019287\n",
       "\\item[20\\textbackslash{}\\_2019\\textbackslash{}\\_P\\textbackslash{}\\_M1] 1799.96293025118\n",
       "\\item[21\\textbackslash{}\\_2019\\textbackslash{}\\_P\\textbackslash{}\\_M1] 1872.1121963887\n",
       "\\item[22\\textbackslash{}\\_2019\\textbackslash{}\\_P\\textbackslash{}\\_M1] 1692.93885137862\n",
       "\\item[23\\textbackslash{}\\_2019\\textbackslash{}\\_P\\textbackslash{}\\_M1] 1832.66088488836\n",
       "\\item[24\\textbackslash{}\\_2019\\textbackslash{}\\_P\\textbackslash{}\\_M1] 1791.46239053794\n",
       "\\end{description*}\n"
      ],
      "text/markdown": [
       "1_2019_P_M1\n",
       ":   1753.537978864842_2019_P_M1\n",
       ":   1483.682179001553_2019_P_M1\n",
       ":   1395.999469906194_2019_P_M1\n",
       ":   1526.412555440165_2019_P_M1\n",
       ":   1540.993133832816_2019_P_M1\n",
       ":   1662.75964921277_2019_P_M1\n",
       ":   1483.428718834418_2019_P_M1\n",
       ":   1396.504184668329_2019_P_M1\n",
       ":   1611.8307259950810_2019_P_M1\n",
       ":   1532.0086456743511_2019_P_M1\n",
       ":   1625.4659613980512_2019_P_M1\n",
       ":   1693.7141276453213_2019_P_M1\n",
       ":   1629.0809756620114_2019_P_M1\n",
       ":   1600.2508301996815_2019_P_M1\n",
       ":   1574.5187465414516_2019_P_M1\n",
       ":   1551.5008795396817_2019_P_M1\n",
       ":   1732.2379835719818_2019_P_M1\n",
       ":   1523.1563224223519_2019_P_M1\n",
       ":   1822.7047101928720_2019_P_M1\n",
       ":   1799.9629302511821_2019_P_M1\n",
       ":   1872.112196388722_2019_P_M1\n",
       ":   1692.9388513786223_2019_P_M1\n",
       ":   1832.6608848883624_2019_P_M1\n",
       ":   1791.46239053794\n",
       "\n"
      ],
      "text/plain": [
       " 1_2019_P_M1  2_2019_P_M1  3_2019_P_M1  4_2019_P_M1  5_2019_P_M1  6_2019_P_M1 \n",
       "    1753.538     1483.682     1395.999     1526.413     1540.993     1662.760 \n",
       " 7_2019_P_M1  8_2019_P_M1  9_2019_P_M1 10_2019_P_M1 11_2019_P_M1 12_2019_P_M1 \n",
       "    1483.429     1396.504     1611.831     1532.009     1625.466     1693.714 \n",
       "13_2019_P_M1 14_2019_P_M1 15_2019_P_M1 16_2019_P_M1 17_2019_P_M1 18_2019_P_M1 \n",
       "    1629.081     1600.251     1574.519     1551.501     1732.238     1523.156 \n",
       "19_2019_P_M1 20_2019_P_M1 21_2019_P_M1 22_2019_P_M1 23_2019_P_M1 24_2019_P_M1 \n",
       "    1822.705     1799.963     1872.112     1692.939     1832.661     1791.462 "
      ]
     },
     "metadata": {},
     "output_type": "display_data"
    }
   ],
   "source": [
    "### Divide \n",
    "counts(dds, normalize = FALSE)[\"CNAG_05845\",]/sizeFactors(dds)"
   ]
  },
  {
   "cell_type": "markdown",
   "metadata": {},
   "source": [
    "**Exercise:** Get a summary (mean, median, quantiles etc ) of the size factors"
   ]
  },
  {
   "cell_type": "code",
   "execution_count": 34,
   "metadata": {},
   "outputs": [
    {
     "data": {
      "text/plain": [
       "   Min. 1st Qu.  Median    Mean 3rd Qu.    Max. \n",
       " 0.5838  0.7670  0.9514  1.0515  1.4060  1.6587 "
      ]
     },
     "metadata": {},
     "output_type": "display_data"
    }
   ],
   "source": [
    "summary(sizeFactors(dds))"
   ]
  },
  {
   "cell_type": "markdown",
   "metadata": {},
   "source": [
    "Before going to the next step, let's look at the dispersionFunction slot"
   ]
  },
  {
   "cell_type": "code",
   "execution_count": 35,
   "metadata": {},
   "outputs": [
    {
     "data": {
      "text/html": [
       "<pre class=language-r><code>function () \n",
       "NULL</code></pre>"
      ],
      "text/latex": [
       "\\begin{minted}{r}\n",
       "function () \n",
       "NULL\n",
       "\\end{minted}"
      ],
      "text/markdown": [
       "```r\n",
       "function () \n",
       "NULL\n",
       "```"
      ],
      "text/plain": [
       "function () \n",
       "NULL\n",
       "<bytecode: 0x56024db24780>"
      ]
     },
     "metadata": {},
     "output_type": "display_data"
    }
   ],
   "source": [
    "# still empty\n",
    "dds@dispersionFunction"
   ]
  },
  {
   "cell_type": "markdown",
   "metadata": {},
   "source": [
    "## 02 Dispersion Parameters\n",
    "Next, we get the dispersion factors $\\alpha_1,\\ldots,\\alpha_{m}$"
   ]
  },
  {
   "cell_type": "code",
   "execution_count": 40,
   "metadata": {},
   "outputs": [
    {
     "name": "stderr",
     "output_type": "stream",
     "text": [
      "gene-wise dispersion estimates\n",
      "mean-dispersion relationship\n",
      "final dispersion estimates\n"
     ]
    }
   ],
   "source": [
    "dds <- estimateDispersions(dds)"
   ]
  },
  {
   "cell_type": "markdown",
   "metadata": {},
   "source": [
    "Now inspect the dds object again and note that the rowRanges slot has extra information (\"metadata column names(0):\" before versus \"column names(9): baseMean baseVar ... dispOutlier dispMAP\")\n",
    "- before: \n",
    "    - `metadata column names(0):`\n",
    "- after:  \n",
    "    - `column names(9): baseMean baseVar ...`"
   ]
  },
  {
   "cell_type": "code",
   "execution_count": 41,
   "metadata": {},
   "outputs": [
    {
     "data": {
      "text/plain": [
       "class: DESeqDataSet \n",
       "dim: 8499 24 \n",
       "metadata(1): version\n",
       "assays(2): counts mu\n",
       "rownames(8499): CNAG_00001 CNAG_00002 ... large_MTrRNA small_MTrRNA\n",
       "rowData names(10): baseMean baseVar ... dispOutlier dispMAP\n",
       "colnames(24): 1_2019_P_M1 2_2019_P_M1 ... 23_2019_P_M1 24_2019_P_M1\n",
       "colData names(23): Label sample_year ... RIN_lowered_threshold\n",
       "  sizeFactor"
      ]
     },
     "metadata": {},
     "output_type": "display_data"
    }
   ],
   "source": [
    "dds"
   ]
  },
  {
   "cell_type": "markdown",
   "metadata": {},
   "source": [
    "Can you notice the difference?\n",
    "```\n",
    "> dds (before dispersion)\n",
    "class: DESeqDataSet \n",
    "dim: 8497 24 \n",
    "metadata(1): version\n",
    "assays(1): counts\n",
    "rownames(8497): CNAG_00001 CNAG_00002 ... ENSRNA049551964 ENSRNA049551993\n",
    "rowData names(0):\n",
    "colnames(24): 1_RZ_J 10_RZ_C ... 47_RZ_P 9_RZ_C\n",
    "colData names(11): Label Strain ... depth sizeFactor\n",
    "\n",
    "> dds (after dispersion)\n",
    "class: DESeqDataSet \n",
    "dim: 8497 24 \n",
    "metadata(1): version\n",
    "assays(2): counts mu\n",
    "rownames(8497): CNAG_00001 CNAG_00002 ... ENSRNA049551964 ENSRNA049551993\n",
    "rowData names(9): baseMean baseVar ... dispOutlier dispMAP <------\n",
    "colnames(24): 1_RZ_J 10_RZ_C ... 47_RZ_P 9_RZ_C\n",
    "colData names(11): Label Strain ... depth sizeFactor\n",
    "```"
   ]
  },
  {
   "cell_type": "markdown",
   "metadata": {},
   "source": [
    "Note that the dispersionfunction slot is now populated"
   ]
  },
  {
   "cell_type": "code",
   "execution_count": 42,
   "metadata": {},
   "outputs": [
    {
     "data": {
      "text/html": [
       "<pre class=language-r><code>structure(function (q) \n",
       "coefs[1] + coefs[2]/q, coefficients = c(asymptDisp = 0.0141803487671824, \n",
       "extraPois = 0.87630661036897), fitType = \"parametric\", varLogDispEsts = 0.902466256228483, dispPriorVar = 0.802549300169356)</code></pre>"
      ],
      "text/latex": [
       "\\begin{minted}{r}\n",
       "structure(function (q) \n",
       "coefs{[}1{]} + coefs{[}2{]}/q, coefficients = c(asymptDisp = 0.0141803487671824, \n",
       "extraPois = 0.87630661036897), fitType = \"parametric\", varLogDispEsts = 0.902466256228483, dispPriorVar = 0.802549300169356)\n",
       "\\end{minted}"
      ],
      "text/markdown": [
       "```r\n",
       "structure(function (q) \n",
       "coefs[1] + coefs[2]/q, coefficients = c(asymptDisp = 0.0141803487671824, \n",
       "extraPois = 0.87630661036897), fitType = \"parametric\", varLogDispEsts = 0.902466256228483, dispPriorVar = 0.802549300169356)\n",
       "```"
      ],
      "text/plain": [
       "function (q) \n",
       "coefs[1] + coefs[2]/q\n",
       "<bytecode: 0x56025d4b6210>\n",
       "<environment: 0x56025d4b6868>\n",
       "attr(,\"coefficients\")\n",
       "asymptDisp  extraPois \n",
       "0.01418035 0.87630661 \n",
       "attr(,\"fitType\")\n",
       "[1] \"parametric\"\n",
       "attr(,\"varLogDispEsts\")\n",
       "[1] 0.9024663\n",
       "attr(,\"dispPriorVar\")\n",
       "[1] 0.8025493"
      ]
     },
     "metadata": {},
     "output_type": "display_data"
    }
   ],
   "source": [
    "dds@dispersionFunction"
   ]
  },
  {
   "cell_type": "markdown",
   "metadata": {},
   "source": [
    "We can extract the gene specific dispersion factors using dispersions(). Note that there will be one number per gene. We look at the first four genes (rounded to 4 decimal places)"
   ]
  },
  {
   "cell_type": "code",
   "execution_count": 43,
   "metadata": {},
   "outputs": [],
   "source": [
    "alphas <- dispersions(dds)"
   ]
  },
  {
   "cell_type": "markdown",
   "metadata": {},
   "source": [
    "Verify that the number of dispersion factors equals the number of genes"
   ]
  },
  {
   "cell_type": "code",
   "execution_count": 44,
   "metadata": {},
   "outputs": [
    {
     "data": {
      "text/html": [
       "8499"
      ],
      "text/latex": [
       "8499"
      ],
      "text/markdown": [
       "8499"
      ],
      "text/plain": [
       "[1] 8499"
      ]
     },
     "metadata": {},
     "output_type": "display_data"
    }
   ],
   "source": [
    "# number of disperion factors\n",
    "length(alphas)"
   ]
  },
  {
   "cell_type": "code",
   "execution_count": 45,
   "metadata": {},
   "outputs": [
    {
     "data": {
      "text/html": [
       "8499"
      ],
      "text/latex": [
       "8499"
      ],
      "text/markdown": [
       "8499"
      ],
      "text/plain": [
       "[1] 8499"
      ]
     },
     "metadata": {},
     "output_type": "display_data"
    }
   ],
   "source": [
    "# number of genes\n",
    "nrow(dds)"
   ]
  },
  {
   "cell_type": "markdown",
   "metadata": {},
   "source": [
    "Print the dispersion factors for the first four genes rounded to four decimal points"
   ]
  },
  {
   "cell_type": "code",
   "execution_count": 46,
   "metadata": {},
   "outputs": [
    {
     "data": {
      "text/html": [
       "<ol class=list-inline>\n",
       "\t<li>&lt;NA&gt;</li>\n",
       "\t<li>0.0132</li>\n",
       "\t<li>0.0231</li>\n",
       "\t<li>0.0044</li>\n",
       "</ol>\n"
      ],
      "text/latex": [
       "\\begin{enumerate*}\n",
       "\\item <NA>\n",
       "\\item 0.0132\n",
       "\\item 0.0231\n",
       "\\item 0.0044\n",
       "\\end{enumerate*}\n"
      ],
      "text/markdown": [
       "1. &lt;NA&gt;\n",
       "2. 0.0132\n",
       "3. 0.0231\n",
       "4. 0.0044\n",
       "\n",
       "\n"
      ],
      "text/plain": [
       "[1]     NA 0.0132 0.0231 0.0044"
      ]
     },
     "metadata": {},
     "output_type": "display_data"
    }
   ],
   "source": [
    "round(alphas[1:4], 4)"
   ]
  },
  {
   "cell_type": "markdown",
   "metadata": {},
   "source": [
    "Extract the metadata using mcols() for the first four genes\n",
    "\n",
    "| Terms       | Description                                   |\n",
    "|-------------|-----------------------------------------------|\n",
    "| baseMean    |     mean of normalized counts for all samples |\n",
    "| baseVar     | variance of normalized counts for all samples |\n",
    "| allZero     |                all counts for a gene are zero |\n",
    "| dispGeneEst |             gene-wise estimates of dispersion |\n",
    "| dispFit     |                   fitted values of dispersion |\n",
    "| dispersion  |                  final estimate of dispersion |\n",
    "| dispIter    |                          number of iterations |\n",
    "| dispOut     |                 dispersion flagged as outlier |\n",
    "| dispMAP     |                 maximum a posteriori estimate |\n"
   ]
  },
  {
   "cell_type": "code",
   "execution_count": 47,
   "metadata": {},
   "outputs": [
    {
     "data": {
      "text/html": [
       "<table>\n",
       "<caption>A data.frame: 4 × 10</caption>\n",
       "<thead>\n",
       "\t<tr><th></th><th scope=col>baseMean</th><th scope=col>baseVar</th><th scope=col>allZero</th><th scope=col>dispGeneEst</th><th scope=col>dispGeneIter</th><th scope=col>dispFit</th><th scope=col>dispersion</th><th scope=col>dispIter</th><th scope=col>dispOutlier</th><th scope=col>dispMAP</th></tr>\n",
       "\t<tr><th></th><th scope=col>&lt;dbl&gt;</th><th scope=col>&lt;dbl&gt;</th><th scope=col>&lt;lgl&gt;</th><th scope=col>&lt;dbl&gt;</th><th scope=col>&lt;dbl&gt;</th><th scope=col>&lt;dbl&gt;</th><th scope=col>&lt;dbl&gt;</th><th scope=col>&lt;dbl&gt;</th><th scope=col>&lt;lgl&gt;</th><th scope=col>&lt;dbl&gt;</th></tr>\n",
       "</thead>\n",
       "<tbody>\n",
       "\t<tr><th scope=row>CNAG_00001</th><td>  0.0000</td><td>   0.000</td><td> TRUE</td><td>         NA</td><td>NA</td><td>        NA</td><td>         NA</td><td>NA</td><td>   NA</td><td>         NA</td></tr>\n",
       "\t<tr><th scope=row>CNAG_00002</th><td>192.4564</td><td>8133.183</td><td>FALSE</td><td>0.012090962</td><td> 9</td><td>0.01873362</td><td>0.013202310</td><td> 9</td><td>FALSE</td><td>0.013202310</td></tr>\n",
       "\t<tr><th scope=row>CNAG_00003</th><td>164.9908</td><td>3089.489</td><td>FALSE</td><td>0.023820456</td><td>10</td><td>0.01949159</td><td>0.023065791</td><td> 7</td><td>FALSE</td><td>0.023065791</td></tr>\n",
       "\t<tr><th scope=row>CNAG_00004</th><td>571.0547</td><td>1819.185</td><td>FALSE</td><td>0.003107148</td><td> 5</td><td>0.01571489</td><td>0.004430586</td><td>12</td><td>FALSE</td><td>0.004430586</td></tr>\n",
       "</tbody>\n",
       "</table>\n"
      ],
      "text/latex": [
       "A data.frame: 4 × 10\n",
       "\\begin{tabular}{r|llllllllll}\n",
       "  & baseMean & baseVar & allZero & dispGeneEst & dispGeneIter & dispFit & dispersion & dispIter & dispOutlier & dispMAP\\\\\n",
       "  & <dbl> & <dbl> & <lgl> & <dbl> & <dbl> & <dbl> & <dbl> & <dbl> & <lgl> & <dbl>\\\\\n",
       "\\hline\n",
       "\tCNAG\\_00001 &   0.0000 &    0.000 &  TRUE &          NA & NA &         NA &          NA & NA &    NA &          NA\\\\\n",
       "\tCNAG\\_00002 & 192.4564 & 8133.183 & FALSE & 0.012090962 &  9 & 0.01873362 & 0.013202310 &  9 & FALSE & 0.013202310\\\\\n",
       "\tCNAG\\_00003 & 164.9908 & 3089.489 & FALSE & 0.023820456 & 10 & 0.01949159 & 0.023065791 &  7 & FALSE & 0.023065791\\\\\n",
       "\tCNAG\\_00004 & 571.0547 & 1819.185 & FALSE & 0.003107148 &  5 & 0.01571489 & 0.004430586 & 12 & FALSE & 0.004430586\\\\\n",
       "\\end{tabular}\n"
      ],
      "text/markdown": [
       "\n",
       "A data.frame: 4 × 10\n",
       "\n",
       "| <!--/--> | baseMean &lt;dbl&gt; | baseVar &lt;dbl&gt; | allZero &lt;lgl&gt; | dispGeneEst &lt;dbl&gt; | dispGeneIter &lt;dbl&gt; | dispFit &lt;dbl&gt; | dispersion &lt;dbl&gt; | dispIter &lt;dbl&gt; | dispOutlier &lt;lgl&gt; | dispMAP &lt;dbl&gt; |\n",
       "|---|---|---|---|---|---|---|---|---|---|---|\n",
       "| CNAG_00001 |   0.0000 |    0.000 |  TRUE |          NA | NA |         NA |          NA | NA |    NA |          NA |\n",
       "| CNAG_00002 | 192.4564 | 8133.183 | FALSE | 0.012090962 |  9 | 0.01873362 | 0.013202310 |  9 | FALSE | 0.013202310 |\n",
       "| CNAG_00003 | 164.9908 | 3089.489 | FALSE | 0.023820456 | 10 | 0.01949159 | 0.023065791 |  7 | FALSE | 0.023065791 |\n",
       "| CNAG_00004 | 571.0547 | 1819.185 | FALSE | 0.003107148 |  5 | 0.01571489 | 0.004430586 | 12 | FALSE | 0.004430586 |\n",
       "\n"
      ],
      "text/plain": [
       "           baseMean baseVar  allZero dispGeneEst dispGeneIter dispFit   \n",
       "CNAG_00001   0.0000    0.000  TRUE            NA NA                   NA\n",
       "CNAG_00002 192.4564 8133.183 FALSE   0.012090962  9           0.01873362\n",
       "CNAG_00003 164.9908 3089.489 FALSE   0.023820456 10           0.01949159\n",
       "CNAG_00004 571.0547 1819.185 FALSE   0.003107148  5           0.01571489\n",
       "           dispersion  dispIter dispOutlier dispMAP    \n",
       "CNAG_00001          NA NA          NA                NA\n",
       "CNAG_00002 0.013202310  9       FALSE       0.013202310\n",
       "CNAG_00003 0.023065791  7       FALSE       0.023065791\n",
       "CNAG_00004 0.004430586 12       FALSE       0.004430586"
      ]
     },
     "metadata": {},
     "output_type": "display_data"
    }
   ],
   "source": [
    "mcols(dds)[1:4,] %>% as.data.frame"
   ]
  },
  {
   "cell_type": "markdown",
   "metadata": {},
   "source": [
    "**Exercise:** Provide statistical summaries of the dispersion factors"
   ]
  },
  {
   "cell_type": "code",
   "execution_count": 48,
   "metadata": {},
   "outputs": [
    {
     "data": {
      "text/plain": [
       "   Min. 1st Qu.  Median    Mean 3rd Qu.    Max.    NA's \n",
       " 0.0011  0.0073  0.0138  0.1764  0.0288 24.0000     348 "
      ]
     },
     "metadata": {},
     "output_type": "display_data"
    }
   ],
   "source": [
    "summary(dispersions(dds))"
   ]
  },
  {
   "cell_type": "markdown",
   "metadata": {},
   "source": [
    "**Exercise:** Summarize the dispersion factors using a box plot (may want to log transform)"
   ]
  },
  {
   "cell_type": "code",
   "execution_count": 49,
   "metadata": {
    "scrolled": false
   },
   "outputs": [
    {
     "data": {
      "image/png": "[encoded data removed]",
      "text/plain": [
       "plot without title"
      ]
     },
     "metadata": {},
     "output_type": "display_data"
    }
   ],
   "source": [
    "boxplot(log(dispersions(dds)))"
   ]
  },
  {
   "cell_type": "markdown",
   "metadata": {},
   "source": [
    "# Differential Expression Analysis\n",
    "We can now conduct a differential expression analysis using the DESeq() function. Keep in mind that to get to this step, we first estimated the size factors and then the dispersion parameters."
   ]
  },
  {
   "cell_type": "code",
   "execution_count": 50,
   "metadata": {},
   "outputs": [
    {
     "name": "stderr",
     "output_type": "stream",
     "text": [
      "using pre-existing size factors\n",
      "estimating dispersions\n",
      "found already estimated dispersions, replacing these\n",
      "gene-wise dispersion estimates\n",
      "mean-dispersion relationship\n",
      "final dispersion estimates\n",
      "fitting model and testing\n"
     ]
    }
   ],
   "source": [
    "### Carry out DE analysis\n",
    "ddsDE <- DESeq(dds)"
   ]
  },
  {
   "cell_type": "code",
   "execution_count": 52,
   "metadata": {},
   "outputs": [
    {
     "data": {
      "text/plain": [
       "class: DESeqDataSet \n",
       "dim: 8499 24 \n",
       "metadata(1): version\n",
       "assays(4): counts mu H cooks\n",
       "rownames(8499): CNAG_00001 CNAG_00002 ... large_MTrRNA small_MTrRNA\n",
       "rowData names(26): baseMean baseVar ... deviance maxCooks\n",
       "colnames(24): 1_2019_P_M1 2_2019_P_M1 ... 23_2019_P_M1 24_2019_P_M1\n",
       "colData names(23): Label sample_year ... RIN_lowered_threshold\n",
       "  sizeFactor"
      ]
     },
     "metadata": {},
     "output_type": "display_data"
    }
   ],
   "source": [
    "### Look at object\n",
    "ddsDE"
   ]
  },
  {
   "cell_type": "code",
   "execution_count": 54,
   "metadata": {},
   "outputs": [
    {
     "data": {
      "text/plain": [
       "log2 fold change (MLE): genotype WT vs sre1d \n",
       "Wald test p-value: genotype WT vs sre1d \n",
       "DataFrame with 8499 rows and 6 columns\n",
       "                        baseMean     log2FoldChange              lfcSE\n",
       "                       <numeric>          <numeric>          <numeric>\n",
       "CNAG_00001                     0                 NA                 NA\n",
       "CNAG_00002      192.456384076694 0.0459290105698189 0.0812849125012254\n",
       "CNAG_00003      164.990819436254 0.0432979308487266  0.101045100070341\n",
       "CNAG_00004      571.054651467718 0.0347715410374543 0.0464312203030827\n",
       "CNAG_00005      28.7106195205257 -0.377056805602812  0.192347436642309\n",
       "...                          ...                ...                ...\n",
       "ENSRNA049551942                0                 NA                 NA\n",
       "ENSRNA049551964                0                 NA                 NA\n",
       "ENSRNA049551993                0                 NA                 NA\n",
       "large_MTrRNA    5333.97356461621 -0.396337460272526   0.13434088145007\n",
       "small_MTrRNA    1705.75472334291 -0.436802837852531  0.295538981353034\n",
       "                             stat              pvalue                padj\n",
       "                        <numeric>           <numeric>           <numeric>\n",
       "CNAG_00001                     NA                  NA                  NA\n",
       "CNAG_00002      0.565037337883909   0.572048368119426   0.675469542016723\n",
       "CNAG_00003      0.428501043777338   0.668286373790347   0.756450803050288\n",
       "CNAG_00004      0.748882773497678   0.453927864041203   0.566263547566551\n",
       "CNAG_00005      -1.96029025488907  0.0499618744055703   0.094333851813714\n",
       "...                           ...                 ...                 ...\n",
       "ENSRNA049551942                NA                  NA                  NA\n",
       "ENSRNA049551964                NA                  NA                  NA\n",
       "ENSRNA049551993                NA                  NA                  NA\n",
       "large_MTrRNA    -2.95023715785154 0.00317530091247218 0.00896807960414441\n",
       "small_MTrRNA     -1.4779872213566   0.139411198621898   0.221714577729148"
      ]
     },
     "metadata": {},
     "output_type": "display_data"
    }
   ],
   "source": [
    "### Look at some f the results\n",
    "results(ddsDE)"
   ]
  },
  {
   "cell_type": "markdown",
   "metadata": {},
   "source": [
    "Note that currently, the model we have is an additive model, which does not include the interaction term of `Media` and `Strain`"
   ]
  },
  {
   "cell_type": "code",
   "execution_count": 55,
   "metadata": {},
   "outputs": [
    {
     "data": {
      "text/plain": [
       "~condition + genotype"
      ]
     },
     "metadata": {},
     "output_type": "display_data"
    },
    {
     "data": {
      "text/plain": [
       "DataFrame with 24 rows and 22 columns\n",
       "                    Label sample_year       group enrich_rep RNA_sample_num\n",
       "              <character>   <numeric> <character>  <numeric>      <numeric>\n",
       "1_2019_P_M1   1_2019_P_M1        2019           P          1              1\n",
       "2_2019_P_M1   2_2019_P_M1        2019           P          1              2\n",
       "3_2019_P_M1   3_2019_P_M1        2019           P          1              3\n",
       "4_2019_P_M1   4_2019_P_M1        2019           P          1              4\n",
       "5_2019_P_M1   5_2019_P_M1        2019           P          1              5\n",
       "...                   ...         ...         ...        ...            ...\n",
       "20_2019_P_M1 20_2019_P_M1        2019           P          1             20\n",
       "21_2019_P_M1 21_2019_P_M1        2019           P          1             21\n",
       "22_2019_P_M1 22_2019_P_M1        2019           P          1             22\n",
       "23_2019_P_M1 23_2019_P_M1        2019           P          1             23\n",
       "24_2019_P_M1 24_2019_P_M1        2019           P          1             24\n",
       "                genotype   condition libprep_person enrichment_method\n",
       "             <character> <character>    <character>       <character>\n",
       "1_2019_P_M1           WT         pH4              C              mRNA\n",
       "2_2019_P_M1           WT         pH4              C              mRNA\n",
       "3_2019_P_M1           WT         pH4              C              mRNA\n",
       "4_2019_P_M1           WT         pH4              P              mRNA\n",
       "5_2019_P_M1           WT         pH4              P              mRNA\n",
       "...                  ...         ...            ...               ...\n",
       "20_2019_P_M1       sre1d         pH8              C              mRNA\n",
       "21_2019_P_M1       sre1d         pH8              C              mRNA\n",
       "22_2019_P_M1       sre1d         pH8              P              mRNA\n",
       "23_2019_P_M1       sre1d         pH8              P              mRNA\n",
       "24_2019_P_M1       sre1d         pH8              P              mRNA\n",
       "             enrichment_short    i7_index    i5_index   i5_primer   i7_primer\n",
       "                  <character> <character> <character> <character> <character>\n",
       "1_2019_P_M1                 M    ATTACTCG    AGGCTATA        i501        i701\n",
       "2_2019_P_M1                 M    ATTACTCG    GCCTCTAT        i502        i701\n",
       "3_2019_P_M1                 M    ATTACTCG    AGGATAGG        i503        i701\n",
       "4_2019_P_M1                 M    ATTACTCG    TCAGAGCC        i504        i701\n",
       "5_2019_P_M1                 M    ATTACTCG    CTTCGCCT        i505        i701\n",
       "...                       ...         ...         ...         ...         ...\n",
       "20_2019_P_M1                M    CGCTCATT    TCAGAGCC        i504        i703\n",
       "21_2019_P_M1                M    CGCTCATT    CTTCGCCT        i505        i703\n",
       "22_2019_P_M1                M    CGCTCATT    TAAGATTA        i506        i703\n",
       "23_2019_P_M1                M    CGCTCATT    ACGTCCTG        i507        i703\n",
       "24_2019_P_M1                M    CGCTCATT    GTCAGTAC        i508        i703\n",
       "             library_num bio_replicate Nanodrop_260_280 Nanodrop_260_230\n",
       "               <numeric>     <numeric>        <numeric>        <numeric>\n",
       "1_2019_P_M1            1             1             2.14             1.52\n",
       "2_2019_P_M1            2             2             2.12             1.79\n",
       "3_2019_P_M1            3             3             2.11             2.49\n",
       "4_2019_P_M1            4             4             2.13             1.15\n",
       "5_2019_P_M1            5             5             2.09             2.42\n",
       "...                  ...           ...              ...              ...\n",
       "20_2019_P_M1          20             2             2.14             2.39\n",
       "21_2019_P_M1          21             3             2.01             2.22\n",
       "22_2019_P_M1          22             4             2.22             2.33\n",
       "23_2019_P_M1          23             5             2.13             2.56\n",
       "24_2019_P_M1          24             6             2.11             2.16\n",
       "             Nanodrop_concentration_ng_ul Bioanalyzer_concentration_ng_ul\n",
       "                                <numeric>                       <numeric>\n",
       "1_2019_P_M1                           293                             197\n",
       "2_2019_P_M1                           290                             225\n",
       "3_2019_P_M1                           302                             241\n",
       "4_2019_P_M1                           296                             189\n",
       "5_2019_P_M1                           337                             268\n",
       "...                                   ...                             ...\n",
       "20_2019_P_M1                          172                             131\n",
       "21_2019_P_M1                          397                             295\n",
       "22_2019_P_M1                          567                             499\n",
       "23_2019_P_M1                          254                             206\n",
       "24_2019_P_M1                          215                             336\n",
       "             RIN_normal_threshold RIN_lowered_threshold\n",
       "                      <character>             <numeric>\n",
       "1_2019_P_M1                   N/A                   9.8\n",
       "2_2019_P_M1                   N/A                   9.9\n",
       "3_2019_P_M1                   N/A                   9.9\n",
       "4_2019_P_M1                   N/A                   9.7\n",
       "5_2019_P_M1                    10                    10\n",
       "...                           ...                   ...\n",
       "20_2019_P_M1                  N/A                    10\n",
       "21_2019_P_M1                  N/A                    10\n",
       "22_2019_P_M1                   10                    10\n",
       "23_2019_P_M1                  N/A                    10\n",
       "24_2019_P_M1                   10                    10"
      ]
     },
     "metadata": {},
     "output_type": "display_data"
    }
   ],
   "source": [
    "design(dds)\n",
    "columnData"
   ]
  },
  {
   "cell_type": "markdown",
   "metadata": {},
   "source": [
    "We can get the results for the differential expression analysis using results(). Here, we can compare two group of samples specified by the contrast. (If not, the default contrast would be the last term in your additive model `design(dds)`)."
   ]
  },
  {
   "cell_type": "code",
   "execution_count": 61,
   "metadata": {},
   "outputs": [
    {
     "data": {
      "text/plain": [
       "log2 fold change (MLE): condition pH4 vs pH8 \n",
       "Wald test p-value: condition pH4 vs pH8 \n",
       "DataFrame with 8499 rows and 6 columns\n",
       "                        baseMean      log2FoldChange              lfcSE\n",
       "                       <numeric>           <numeric>          <numeric>\n",
       "CNAG_00001                     0                  NA                 NA\n",
       "CNAG_00002      192.456384076694   -1.34351851614176 0.0813854454817818\n",
       "CNAG_00003      164.990819436254  -0.831905577724638  0.101018400723969\n",
       "CNAG_00004      571.054651467718 -0.0871138906737344 0.0465166816365353\n",
       "CNAG_00005      28.7106195205257   -1.29275886849841  0.192729463777133\n",
       "...                          ...                 ...                ...\n",
       "ENSRNA049551942                0                  NA                 NA\n",
       "ENSRNA049551964                0                  NA                 NA\n",
       "ENSRNA049551993                0                  NA                 NA\n",
       "large_MTrRNA    5333.97356461621  -0.948564278537808  0.134340883270906\n",
       "small_MTrRNA    1705.75472334291  -0.691472418621256  0.295538979277226\n",
       "                             stat               pvalue                 padj\n",
       "                        <numeric>            <numeric>            <numeric>\n",
       "CNAG_00001                     NA                   NA                   NA\n",
       "CNAG_00002      -16.5080931631996 3.20862403991611e-61 2.87085560366149e-60\n",
       "CNAG_00003      -8.23518855735805 1.79275046151211e-16 4.79576928512805e-16\n",
       "CNAG_00004      -1.87274516601186   0.0611035831980367    0.074895534834165\n",
       "CNAG_00005      -6.70763485334717 1.97804137561036e-11 4.32020773113613e-11\n",
       "...                           ...                  ...                  ...\n",
       "ENSRNA049551942                NA                   NA                   NA\n",
       "ENSRNA049551964                NA                   NA                   NA\n",
       "ENSRNA049551993                NA                   NA                   NA\n",
       "large_MTrRNA    -7.06087570248421 1.65456549165796e-12 3.75246614426935e-12\n",
       "small_MTrRNA    -2.33969955608675   0.0192992582107572   0.0250291573072207"
      ]
     },
     "metadata": {},
     "output_type": "display_data"
    }
   ],
   "source": [
    "# DE with respect to condition\n",
    "myres_condition4v8 <- results(ddsDE, contrast = c(\"condition\", \"pH4\", \"pH8\"))\n",
    "myres_condition4v8"
   ]
  },
  {
   "cell_type": "code",
   "execution_count": 66,
   "metadata": {},
   "outputs": [
    {
     "data": {
      "text/plain": [
       "log2 fold change (MLE): condition pH8 vs pH4 \n",
       "Wald test p-value: condition pH8 vs pH4 \n",
       "DataFrame with 8499 rows and 6 columns\n",
       "                        baseMean     log2FoldChange              lfcSE\n",
       "                       <numeric>          <numeric>          <numeric>\n",
       "CNAG_00001                     0                 NA                 NA\n",
       "CNAG_00002      192.456384076694   1.34351851614176 0.0813854454817818\n",
       "CNAG_00003      164.990819436254  0.831905577724638  0.101018400723969\n",
       "CNAG_00004      571.054651467718 0.0871138906737344 0.0465166816365353\n",
       "CNAG_00005      28.7106195205257   1.29275886849841  0.192729463777133\n",
       "...                          ...                ...                ...\n",
       "ENSRNA049551942                0                 NA                 NA\n",
       "ENSRNA049551964                0                 NA                 NA\n",
       "ENSRNA049551993                0                 NA                 NA\n",
       "large_MTrRNA    5333.97356461621  0.948564278537808  0.134340883270906\n",
       "small_MTrRNA    1705.75472334291  0.691472418621256  0.295538979277226\n",
       "                            stat               pvalue                 padj\n",
       "                       <numeric>            <numeric>            <numeric>\n",
       "CNAG_00001                    NA                   NA                   NA\n",
       "CNAG_00002      16.5080931631996 3.20862403991611e-61 2.87085560366149e-60\n",
       "CNAG_00003      8.23518855735805 1.79275046151211e-16 4.79576928512805e-16\n",
       "CNAG_00004      1.87274516601186   0.0611035831980367    0.074895534834165\n",
       "CNAG_00005      6.70763485334717 1.97804137561036e-11 4.32020773113613e-11\n",
       "...                          ...                  ...                  ...\n",
       "ENSRNA049551942               NA                   NA                   NA\n",
       "ENSRNA049551964               NA                   NA                   NA\n",
       "ENSRNA049551993               NA                   NA                   NA\n",
       "large_MTrRNA    7.06087570248421 1.65456549165796e-12 3.75246614426935e-12\n",
       "small_MTrRNA    2.33969955608675   0.0192992582107572   0.0250291573072207"
      ]
     },
     "metadata": {},
     "output_type": "display_data"
    }
   ],
   "source": [
    "# DE with respect to condition (flip order)\n",
    "myres_condition8v4 <- results(ddsDE, contrast = c(\"condition\", \"pH8\", \"pH4\"))\n",
    "myres_condition8v4"
   ]
  },
  {
   "cell_type": "code",
   "execution_count": 67,
   "metadata": {},
   "outputs": [
    {
     "data": {
      "text/plain": [
       "log2 fold change (MLE): genotype sre1d vs WT \n",
       "Wald test p-value: genotype sre1d vs WT \n",
       "DataFrame with 8499 rows and 6 columns\n",
       "                        baseMean      log2FoldChange              lfcSE\n",
       "                       <numeric>           <numeric>          <numeric>\n",
       "CNAG_00001                     0                  NA                 NA\n",
       "CNAG_00002      192.456384076694 -0.0459290105698189 0.0812849125012254\n",
       "CNAG_00003      164.990819436254 -0.0432979308487266  0.101045100070341\n",
       "CNAG_00004      571.054651467718 -0.0347715410374543 0.0464312203030827\n",
       "CNAG_00005      28.7106195205257   0.377056805602812  0.192347436642309\n",
       "...                          ...                 ...                ...\n",
       "ENSRNA049551942                0                  NA                 NA\n",
       "ENSRNA049551964                0                  NA                 NA\n",
       "ENSRNA049551993                0                  NA                 NA\n",
       "large_MTrRNA    5333.97356461621   0.396337460272526   0.13434088145007\n",
       "small_MTrRNA    1705.75472334291   0.436802837852531  0.295538981353034\n",
       "                              stat              pvalue                padj\n",
       "                         <numeric>           <numeric>           <numeric>\n",
       "CNAG_00001                      NA                  NA                  NA\n",
       "CNAG_00002      -0.565037337883909   0.572048368119426   0.675469542016723\n",
       "CNAG_00003      -0.428501043777338   0.668286373790347   0.756450803050288\n",
       "CNAG_00004      -0.748882773497678   0.453927864041203   0.566263547566551\n",
       "CNAG_00005        1.96029025488907  0.0499618744055703   0.094333851813714\n",
       "...                            ...                 ...                 ...\n",
       "ENSRNA049551942                 NA                  NA                  NA\n",
       "ENSRNA049551964                 NA                  NA                  NA\n",
       "ENSRNA049551993                 NA                  NA                  NA\n",
       "large_MTrRNA      2.95023715785154 0.00317530091247218 0.00896807960414441\n",
       "small_MTrRNA       1.4779872213566   0.139411198621898   0.221714577729148"
      ]
     },
     "metadata": {},
     "output_type": "display_data"
    }
   ],
   "source": [
    "### DE with respect to genotype\n",
    "myres_strainvWT <- results(ddsDE, contrast = c(\"genotype\", \"sre1d\", \"WT\"))\n",
    "myres_strainvWT"
   ]
  },
  {
   "cell_type": "markdown",
   "metadata": {},
   "source": [
    "Let's look at the results for the first four genes"
   ]
  },
  {
   "cell_type": "code",
   "execution_count": 84,
   "metadata": {},
   "outputs": [
    {
     "data": {
      "text/html": [
       "<table>\n",
       "<caption>A data.frame: 8499 × 7</caption>\n",
       "<thead>\n",
       "\t<tr><th scope=col>row</th><th scope=col>baseMean</th><th scope=col>log2FoldChange</th><th scope=col>lfcSE</th><th scope=col>stat</th><th scope=col>pvalue</th><th scope=col>padj</th></tr>\n",
       "\t<tr><th scope=col>&lt;chr&gt;</th><th scope=col>&lt;dbl&gt;</th><th scope=col>&lt;dbl&gt;</th><th scope=col>&lt;dbl&gt;</th><th scope=col>&lt;dbl&gt;</th><th scope=col>&lt;dbl&gt;</th><th scope=col>&lt;dbl&gt;</th></tr>\n",
       "</thead>\n",
       "<tbody>\n",
       "\t<tr><td>CNAG_00001</td><td>   0.00000</td><td>          NA</td><td>        NA</td><td>         NA</td><td>           NA</td><td>           NA</td></tr>\n",
       "\t<tr><td>CNAG_00002</td><td> 192.45638</td><td> 1.343518516</td><td>0.08138545</td><td> 16.5080932</td><td> 3.208624e-61</td><td> 2.870856e-60</td></tr>\n",
       "\t<tr><td>CNAG_00003</td><td> 164.99082</td><td> 0.831905578</td><td>0.10101840</td><td>  8.2351886</td><td> 1.792750e-16</td><td> 4.795769e-16</td></tr>\n",
       "\t<tr><td>CNAG_00004</td><td> 571.05465</td><td> 0.087113891</td><td>0.04651668</td><td>  1.8727452</td><td> 6.110358e-02</td><td> 7.489553e-02</td></tr>\n",
       "\t<tr><td>CNAG_00005</td><td>  28.71062</td><td> 1.292758868</td><td>0.19272946</td><td>  6.7076349</td><td> 1.978041e-11</td><td> 4.320208e-11</td></tr>\n",
       "\t<tr><td>CNAG_00006</td><td>3147.39964</td><td>-0.139327775</td><td>0.04956000</td><td> -2.8112951</td><td> 4.934250e-03</td><td> 6.756102e-03</td></tr>\n",
       "\t<tr><td>CNAG_00007</td><td>1484.87545</td><td>-0.747920328</td><td>0.08053624</td><td> -9.2867544</td><td> 1.590647e-20</td><td> 4.927921e-20</td></tr>\n",
       "\t<tr><td>CNAG_00008</td><td> 938.01932</td><td>-0.079110196</td><td>0.04765929</td><td> -1.6599115</td><td> 9.693226e-02</td><td> 1.159517e-01</td></tr>\n",
       "\t<tr><td>CNAG_00009</td><td> 305.19881</td><td>-0.558838066</td><td>0.09968395</td><td> -5.6060989</td><td> 2.069377e-08</td><td> 3.933651e-08</td></tr>\n",
       "\t<tr><td>CNAG_00010</td><td> 989.04227</td><td> 0.537893668</td><td>0.06321490</td><td>  8.5089694</td><td> 1.754861e-17</td><td> 4.868574e-17</td></tr>\n",
       "\t<tr><td>CNAG_00011</td><td>1001.75238</td><td>-2.148894367</td><td>0.08634115</td><td>-24.8884142</td><td>9.932146e-137</td><td>2.998405e-135</td></tr>\n",
       "\t<tr><td>CNAG_00012</td><td> 773.99385</td><td> 0.161412817</td><td>0.05766095</td><td>  2.7993437</td><td> 5.120661e-03</td><td> 6.994889e-03</td></tr>\n",
       "\t<tr><td>CNAG_00013</td><td> 485.75319</td><td>-0.722966497</td><td>0.07965037</td><td> -9.0767500</td><td> 1.118652e-19</td><td> 3.374959e-19</td></tr>\n",
       "\t<tr><td>CNAG_00014</td><td> 180.53988</td><td>-0.295886560</td><td>0.06870554</td><td> -4.3065895</td><td> 1.657908e-05</td><td> 2.684468e-05</td></tr>\n",
       "\t<tr><td>CNAG_00015</td><td> 318.87538</td><td>-0.328599588</td><td>0.05019105</td><td> -6.5469752</td><td> 5.871409e-11</td><td> 1.252823e-10</td></tr>\n",
       "\t<tr><td>CNAG_00016</td><td> 901.25567</td><td> 0.312717596</td><td>0.04460378</td><td>  7.0110118</td><td> 2.366008e-12</td><td> 5.340717e-12</td></tr>\n",
       "\t<tr><td>CNAG_00017</td><td> 184.65031</td><td> 0.316683243</td><td>0.08573971</td><td>  3.6935425</td><td> 2.211516e-04</td><td> 3.341873e-04</td></tr>\n",
       "\t<tr><td>CNAG_00018</td><td> 876.12980</td><td> 0.155211001</td><td>0.03742605</td><td>  4.1471376</td><td> 3.366577e-05</td><td> 5.348074e-05</td></tr>\n",
       "\t<tr><td>CNAG_00019</td><td>1208.90542</td><td> 0.747123679</td><td>0.05412045</td><td> 13.8048310</td><td> 2.383308e-43</td><td> 1.414883e-42</td></tr>\n",
       "\t<tr><td>CNAG_00020</td><td> 968.39030</td><td>-0.470164125</td><td>0.06206999</td><td> -7.5747418</td><td> 3.598425e-14</td><td> 8.737196e-14</td></tr>\n",
       "\t<tr><td>CNAG_00021</td><td> 539.92676</td><td> 0.007922036</td><td>0.05395599</td><td>  0.1468240</td><td> 8.832709e-01</td><td> 8.975865e-01</td></tr>\n",
       "\t<tr><td>CNAG_00022</td><td> 746.84601</td><td> 0.020299074</td><td>0.06152583</td><td>  0.3299277</td><td> 7.414546e-01</td><td> 7.689054e-01</td></tr>\n",
       "\t<tr><td>CNAG_00023</td><td> 278.87826</td><td> 0.232063963</td><td>0.26610452</td><td>  0.8720782</td><td> 3.831657e-01</td><td> 4.210277e-01</td></tr>\n",
       "\t<tr><td>CNAG_00024</td><td>7703.04647</td><td> 0.997043384</td><td>0.04323929</td><td> 23.0587381</td><td>1.202071e-117</td><td>2.760023e-116</td></tr>\n",
       "\t<tr><td>CNAG_00025</td><td>2021.99612</td><td> 0.881055403</td><td>0.09609371</td><td>  9.1687104</td><td> 4.787115e-20</td><td> 1.463607e-19</td></tr>\n",
       "\t<tr><td>CNAG_00026</td><td>2237.77134</td><td> 0.167433512</td><td>0.06091140</td><td>  2.7488043</td><td> 5.981308e-03</td><td> 8.132384e-03</td></tr>\n",
       "\t<tr><td>CNAG_00027</td><td> 425.60765</td><td>-0.929646998</td><td>0.06112216</td><td>-15.2096555</td><td> 3.051445e-52</td><td> 2.273522e-51</td></tr>\n",
       "\t<tr><td>CNAG_00028</td><td> 381.48552</td><td>-0.817422940</td><td>0.05910049</td><td>-13.8310684</td><td> 1.655433e-43</td><td> 9.892547e-43</td></tr>\n",
       "\t<tr><td>CNAG_00029</td><td>  52.66523</td><td>-3.316030881</td><td>0.16631275</td><td>-19.9385244</td><td> 1.885448e-88</td><td> 2.729713e-87</td></tr>\n",
       "\t<tr><td>CNAG_00030</td><td>  76.57328</td><td>-1.103647498</td><td>0.12592110</td><td> -8.7645955</td><td> 1.874484e-18</td><td> 5.414216e-18</td></tr>\n",
       "\t<tr><td>⋮</td><td>⋮</td><td>⋮</td><td>⋮</td><td>⋮</td><td>⋮</td><td>⋮</td></tr>\n",
       "\t<tr><td>ENSRNA049550980</td><td>   0.000</td><td>       NA</td><td>       NA</td><td>      NA</td><td>          NA</td><td>          NA</td></tr>\n",
       "\t<tr><td>ENSRNA049551037</td><td>   0.000</td><td>       NA</td><td>       NA</td><td>      NA</td><td>          NA</td><td>          NA</td></tr>\n",
       "\t<tr><td>ENSRNA049551063</td><td>   0.000</td><td>       NA</td><td>       NA</td><td>      NA</td><td>          NA</td><td>          NA</td></tr>\n",
       "\t<tr><td>ENSRNA049551074</td><td>   0.000</td><td>       NA</td><td>       NA</td><td>      NA</td><td>          NA</td><td>          NA</td></tr>\n",
       "\t<tr><td>ENSRNA049551126</td><td>   0.000</td><td>       NA</td><td>       NA</td><td>      NA</td><td>          NA</td><td>          NA</td></tr>\n",
       "\t<tr><td>ENSRNA049551197</td><td>   0.000</td><td>       NA</td><td>       NA</td><td>      NA</td><td>          NA</td><td>          NA</td></tr>\n",
       "\t<tr><td>ENSRNA049551244</td><td>   0.000</td><td>       NA</td><td>       NA</td><td>      NA</td><td>          NA</td><td>          NA</td></tr>\n",
       "\t<tr><td>ENSRNA049551269</td><td>   0.000</td><td>       NA</td><td>       NA</td><td>      NA</td><td>          NA</td><td>          NA</td></tr>\n",
       "\t<tr><td>ENSRNA049551298</td><td>   0.000</td><td>       NA</td><td>       NA</td><td>      NA</td><td>          NA</td><td>          NA</td></tr>\n",
       "\t<tr><td>ENSRNA049551337</td><td>   0.000</td><td>       NA</td><td>       NA</td><td>      NA</td><td>          NA</td><td>          NA</td></tr>\n",
       "\t<tr><td>ENSRNA049551365</td><td>   0.000</td><td>       NA</td><td>       NA</td><td>      NA</td><td>          NA</td><td>          NA</td></tr>\n",
       "\t<tr><td>ENSRNA049551391</td><td>   0.000</td><td>       NA</td><td>       NA</td><td>      NA</td><td>          NA</td><td>          NA</td></tr>\n",
       "\t<tr><td>ENSRNA049551484</td><td>   0.000</td><td>       NA</td><td>       NA</td><td>      NA</td><td>          NA</td><td>          NA</td></tr>\n",
       "\t<tr><td>ENSRNA049551550</td><td>   0.000</td><td>       NA</td><td>       NA</td><td>      NA</td><td>          NA</td><td>          NA</td></tr>\n",
       "\t<tr><td>ENSRNA049551574</td><td>   0.000</td><td>       NA</td><td>       NA</td><td>      NA</td><td>          NA</td><td>          NA</td></tr>\n",
       "\t<tr><td>ENSRNA049551598</td><td>   0.000</td><td>       NA</td><td>       NA</td><td>      NA</td><td>          NA</td><td>          NA</td></tr>\n",
       "\t<tr><td>ENSRNA049551636</td><td>   0.000</td><td>       NA</td><td>       NA</td><td>      NA</td><td>          NA</td><td>          NA</td></tr>\n",
       "\t<tr><td>ENSRNA049551673</td><td>   0.000</td><td>       NA</td><td>       NA</td><td>      NA</td><td>          NA</td><td>          NA</td></tr>\n",
       "\t<tr><td>ENSRNA049551717</td><td>   0.000</td><td>       NA</td><td>       NA</td><td>      NA</td><td>          NA</td><td>          NA</td></tr>\n",
       "\t<tr><td>ENSRNA049551745</td><td>   0.000</td><td>       NA</td><td>       NA</td><td>      NA</td><td>          NA</td><td>          NA</td></tr>\n",
       "\t<tr><td>ENSRNA049551774</td><td>   0.000</td><td>       NA</td><td>       NA</td><td>      NA</td><td>          NA</td><td>          NA</td></tr>\n",
       "\t<tr><td>ENSRNA049551798</td><td>   0.000</td><td>       NA</td><td>       NA</td><td>      NA</td><td>          NA</td><td>          NA</td></tr>\n",
       "\t<tr><td>ENSRNA049551814</td><td>   0.000</td><td>       NA</td><td>       NA</td><td>      NA</td><td>          NA</td><td>          NA</td></tr>\n",
       "\t<tr><td>ENSRNA049551862</td><td>   0.000</td><td>       NA</td><td>       NA</td><td>      NA</td><td>          NA</td><td>          NA</td></tr>\n",
       "\t<tr><td>ENSRNA049551899</td><td>   0.000</td><td>       NA</td><td>       NA</td><td>      NA</td><td>          NA</td><td>          NA</td></tr>\n",
       "\t<tr><td>ENSRNA049551942</td><td>   0.000</td><td>       NA</td><td>       NA</td><td>      NA</td><td>          NA</td><td>          NA</td></tr>\n",
       "\t<tr><td>ENSRNA049551964</td><td>   0.000</td><td>       NA</td><td>       NA</td><td>      NA</td><td>          NA</td><td>          NA</td></tr>\n",
       "\t<tr><td>ENSRNA049551993</td><td>   0.000</td><td>       NA</td><td>       NA</td><td>      NA</td><td>          NA</td><td>          NA</td></tr>\n",
       "\t<tr><td>large_MTrRNA   </td><td>5333.974</td><td>0.9485643</td><td>0.1343409</td><td>7.060876</td><td>1.654565e-12</td><td>3.752466e-12</td></tr>\n",
       "\t<tr><td>small_MTrRNA   </td><td>1705.755</td><td>0.6914724</td><td>0.2955390</td><td>2.339700</td><td>1.929926e-02</td><td>2.502916e-02</td></tr>\n",
       "</tbody>\n",
       "</table>\n"
      ],
      "text/latex": [
       "A data.frame: 8499 × 7\n",
       "\\begin{tabular}{r|lllllll}\n",
       " row & baseMean & log2FoldChange & lfcSE & stat & pvalue & padj\\\\\n",
       " <chr> & <dbl> & <dbl> & <dbl> & <dbl> & <dbl> & <dbl>\\\\\n",
       "\\hline\n",
       "\t CNAG\\_00001 &    0.00000 &           NA &         NA &          NA &            NA &            NA\\\\\n",
       "\t CNAG\\_00002 &  192.45638 &  1.343518516 & 0.08138545 &  16.5080932 &  3.208624e-61 &  2.870856e-60\\\\\n",
       "\t CNAG\\_00003 &  164.99082 &  0.831905578 & 0.10101840 &   8.2351886 &  1.792750e-16 &  4.795769e-16\\\\\n",
       "\t CNAG\\_00004 &  571.05465 &  0.087113891 & 0.04651668 &   1.8727452 &  6.110358e-02 &  7.489553e-02\\\\\n",
       "\t CNAG\\_00005 &   28.71062 &  1.292758868 & 0.19272946 &   6.7076349 &  1.978041e-11 &  4.320208e-11\\\\\n",
       "\t CNAG\\_00006 & 3147.39964 & -0.139327775 & 0.04956000 &  -2.8112951 &  4.934250e-03 &  6.756102e-03\\\\\n",
       "\t CNAG\\_00007 & 1484.87545 & -0.747920328 & 0.08053624 &  -9.2867544 &  1.590647e-20 &  4.927921e-20\\\\\n",
       "\t CNAG\\_00008 &  938.01932 & -0.079110196 & 0.04765929 &  -1.6599115 &  9.693226e-02 &  1.159517e-01\\\\\n",
       "\t CNAG\\_00009 &  305.19881 & -0.558838066 & 0.09968395 &  -5.6060989 &  2.069377e-08 &  3.933651e-08\\\\\n",
       "\t CNAG\\_00010 &  989.04227 &  0.537893668 & 0.06321490 &   8.5089694 &  1.754861e-17 &  4.868574e-17\\\\\n",
       "\t CNAG\\_00011 & 1001.75238 & -2.148894367 & 0.08634115 & -24.8884142 & 9.932146e-137 & 2.998405e-135\\\\\n",
       "\t CNAG\\_00012 &  773.99385 &  0.161412817 & 0.05766095 &   2.7993437 &  5.120661e-03 &  6.994889e-03\\\\\n",
       "\t CNAG\\_00013 &  485.75319 & -0.722966497 & 0.07965037 &  -9.0767500 &  1.118652e-19 &  3.374959e-19\\\\\n",
       "\t CNAG\\_00014 &  180.53988 & -0.295886560 & 0.06870554 &  -4.3065895 &  1.657908e-05 &  2.684468e-05\\\\\n",
       "\t CNAG\\_00015 &  318.87538 & -0.328599588 & 0.05019105 &  -6.5469752 &  5.871409e-11 &  1.252823e-10\\\\\n",
       "\t CNAG\\_00016 &  901.25567 &  0.312717596 & 0.04460378 &   7.0110118 &  2.366008e-12 &  5.340717e-12\\\\\n",
       "\t CNAG\\_00017 &  184.65031 &  0.316683243 & 0.08573971 &   3.6935425 &  2.211516e-04 &  3.341873e-04\\\\\n",
       "\t CNAG\\_00018 &  876.12980 &  0.155211001 & 0.03742605 &   4.1471376 &  3.366577e-05 &  5.348074e-05\\\\\n",
       "\t CNAG\\_00019 & 1208.90542 &  0.747123679 & 0.05412045 &  13.8048310 &  2.383308e-43 &  1.414883e-42\\\\\n",
       "\t CNAG\\_00020 &  968.39030 & -0.470164125 & 0.06206999 &  -7.5747418 &  3.598425e-14 &  8.737196e-14\\\\\n",
       "\t CNAG\\_00021 &  539.92676 &  0.007922036 & 0.05395599 &   0.1468240 &  8.832709e-01 &  8.975865e-01\\\\\n",
       "\t CNAG\\_00022 &  746.84601 &  0.020299074 & 0.06152583 &   0.3299277 &  7.414546e-01 &  7.689054e-01\\\\\n",
       "\t CNAG\\_00023 &  278.87826 &  0.232063963 & 0.26610452 &   0.8720782 &  3.831657e-01 &  4.210277e-01\\\\\n",
       "\t CNAG\\_00024 & 7703.04647 &  0.997043384 & 0.04323929 &  23.0587381 & 1.202071e-117 & 2.760023e-116\\\\\n",
       "\t CNAG\\_00025 & 2021.99612 &  0.881055403 & 0.09609371 &   9.1687104 &  4.787115e-20 &  1.463607e-19\\\\\n",
       "\t CNAG\\_00026 & 2237.77134 &  0.167433512 & 0.06091140 &   2.7488043 &  5.981308e-03 &  8.132384e-03\\\\\n",
       "\t CNAG\\_00027 &  425.60765 & -0.929646998 & 0.06112216 & -15.2096555 &  3.051445e-52 &  2.273522e-51\\\\\n",
       "\t CNAG\\_00028 &  381.48552 & -0.817422940 & 0.05910049 & -13.8310684 &  1.655433e-43 &  9.892547e-43\\\\\n",
       "\t CNAG\\_00029 &   52.66523 & -3.316030881 & 0.16631275 & -19.9385244 &  1.885448e-88 &  2.729713e-87\\\\\n",
       "\t CNAG\\_00030 &   76.57328 & -1.103647498 & 0.12592110 &  -8.7645955 &  1.874484e-18 &  5.414216e-18\\\\\n",
       "\t ⋮ & ⋮ & ⋮ & ⋮ & ⋮ & ⋮ & ⋮\\\\\n",
       "\t ENSRNA049550980 &    0.000 &        NA &        NA &       NA &           NA &           NA\\\\\n",
       "\t ENSRNA049551037 &    0.000 &        NA &        NA &       NA &           NA &           NA\\\\\n",
       "\t ENSRNA049551063 &    0.000 &        NA &        NA &       NA &           NA &           NA\\\\\n",
       "\t ENSRNA049551074 &    0.000 &        NA &        NA &       NA &           NA &           NA\\\\\n",
       "\t ENSRNA049551126 &    0.000 &        NA &        NA &       NA &           NA &           NA\\\\\n",
       "\t ENSRNA049551197 &    0.000 &        NA &        NA &       NA &           NA &           NA\\\\\n",
       "\t ENSRNA049551244 &    0.000 &        NA &        NA &       NA &           NA &           NA\\\\\n",
       "\t ENSRNA049551269 &    0.000 &        NA &        NA &       NA &           NA &           NA\\\\\n",
       "\t ENSRNA049551298 &    0.000 &        NA &        NA &       NA &           NA &           NA\\\\\n",
       "\t ENSRNA049551337 &    0.000 &        NA &        NA &       NA &           NA &           NA\\\\\n",
       "\t ENSRNA049551365 &    0.000 &        NA &        NA &       NA &           NA &           NA\\\\\n",
       "\t ENSRNA049551391 &    0.000 &        NA &        NA &       NA &           NA &           NA\\\\\n",
       "\t ENSRNA049551484 &    0.000 &        NA &        NA &       NA &           NA &           NA\\\\\n",
       "\t ENSRNA049551550 &    0.000 &        NA &        NA &       NA &           NA &           NA\\\\\n",
       "\t ENSRNA049551574 &    0.000 &        NA &        NA &       NA &           NA &           NA\\\\\n",
       "\t ENSRNA049551598 &    0.000 &        NA &        NA &       NA &           NA &           NA\\\\\n",
       "\t ENSRNA049551636 &    0.000 &        NA &        NA &       NA &           NA &           NA\\\\\n",
       "\t ENSRNA049551673 &    0.000 &        NA &        NA &       NA &           NA &           NA\\\\\n",
       "\t ENSRNA049551717 &    0.000 &        NA &        NA &       NA &           NA &           NA\\\\\n",
       "\t ENSRNA049551745 &    0.000 &        NA &        NA &       NA &           NA &           NA\\\\\n",
       "\t ENSRNA049551774 &    0.000 &        NA &        NA &       NA &           NA &           NA\\\\\n",
       "\t ENSRNA049551798 &    0.000 &        NA &        NA &       NA &           NA &           NA\\\\\n",
       "\t ENSRNA049551814 &    0.000 &        NA &        NA &       NA &           NA &           NA\\\\\n",
       "\t ENSRNA049551862 &    0.000 &        NA &        NA &       NA &           NA &           NA\\\\\n",
       "\t ENSRNA049551899 &    0.000 &        NA &        NA &       NA &           NA &           NA\\\\\n",
       "\t ENSRNA049551942 &    0.000 &        NA &        NA &       NA &           NA &           NA\\\\\n",
       "\t ENSRNA049551964 &    0.000 &        NA &        NA &       NA &           NA &           NA\\\\\n",
       "\t ENSRNA049551993 &    0.000 &        NA &        NA &       NA &           NA &           NA\\\\\n",
       "\t large\\_MTrRNA    & 5333.974 & 0.9485643 & 0.1343409 & 7.060876 & 1.654565e-12 & 3.752466e-12\\\\\n",
       "\t small\\_MTrRNA    & 1705.755 & 0.6914724 & 0.2955390 & 2.339700 & 1.929926e-02 & 2.502916e-02\\\\\n",
       "\\end{tabular}\n"
      ],
      "text/markdown": [
       "\n",
       "A data.frame: 8499 × 7\n",
       "\n",
       "| row &lt;chr&gt; | baseMean &lt;dbl&gt; | log2FoldChange &lt;dbl&gt; | lfcSE &lt;dbl&gt; | stat &lt;dbl&gt; | pvalue &lt;dbl&gt; | padj &lt;dbl&gt; |\n",
       "|---|---|---|---|---|---|---|\n",
       "| CNAG_00001 |    0.00000 |           NA |         NA |          NA |            NA |            NA |\n",
       "| CNAG_00002 |  192.45638 |  1.343518516 | 0.08138545 |  16.5080932 |  3.208624e-61 |  2.870856e-60 |\n",
       "| CNAG_00003 |  164.99082 |  0.831905578 | 0.10101840 |   8.2351886 |  1.792750e-16 |  4.795769e-16 |\n",
       "| CNAG_00004 |  571.05465 |  0.087113891 | 0.04651668 |   1.8727452 |  6.110358e-02 |  7.489553e-02 |\n",
       "| CNAG_00005 |   28.71062 |  1.292758868 | 0.19272946 |   6.7076349 |  1.978041e-11 |  4.320208e-11 |\n",
       "| CNAG_00006 | 3147.39964 | -0.139327775 | 0.04956000 |  -2.8112951 |  4.934250e-03 |  6.756102e-03 |\n",
       "| CNAG_00007 | 1484.87545 | -0.747920328 | 0.08053624 |  -9.2867544 |  1.590647e-20 |  4.927921e-20 |\n",
       "| CNAG_00008 |  938.01932 | -0.079110196 | 0.04765929 |  -1.6599115 |  9.693226e-02 |  1.159517e-01 |\n",
       "| CNAG_00009 |  305.19881 | -0.558838066 | 0.09968395 |  -5.6060989 |  2.069377e-08 |  3.933651e-08 |\n",
       "| CNAG_00010 |  989.04227 |  0.537893668 | 0.06321490 |   8.5089694 |  1.754861e-17 |  4.868574e-17 |\n",
       "| CNAG_00011 | 1001.75238 | -2.148894367 | 0.08634115 | -24.8884142 | 9.932146e-137 | 2.998405e-135 |\n",
       "| CNAG_00012 |  773.99385 |  0.161412817 | 0.05766095 |   2.7993437 |  5.120661e-03 |  6.994889e-03 |\n",
       "| CNAG_00013 |  485.75319 | -0.722966497 | 0.07965037 |  -9.0767500 |  1.118652e-19 |  3.374959e-19 |\n",
       "| CNAG_00014 |  180.53988 | -0.295886560 | 0.06870554 |  -4.3065895 |  1.657908e-05 |  2.684468e-05 |\n",
       "| CNAG_00015 |  318.87538 | -0.328599588 | 0.05019105 |  -6.5469752 |  5.871409e-11 |  1.252823e-10 |\n",
       "| CNAG_00016 |  901.25567 |  0.312717596 | 0.04460378 |   7.0110118 |  2.366008e-12 |  5.340717e-12 |\n",
       "| CNAG_00017 |  184.65031 |  0.316683243 | 0.08573971 |   3.6935425 |  2.211516e-04 |  3.341873e-04 |\n",
       "| CNAG_00018 |  876.12980 |  0.155211001 | 0.03742605 |   4.1471376 |  3.366577e-05 |  5.348074e-05 |\n",
       "| CNAG_00019 | 1208.90542 |  0.747123679 | 0.05412045 |  13.8048310 |  2.383308e-43 |  1.414883e-42 |\n",
       "| CNAG_00020 |  968.39030 | -0.470164125 | 0.06206999 |  -7.5747418 |  3.598425e-14 |  8.737196e-14 |\n",
       "| CNAG_00021 |  539.92676 |  0.007922036 | 0.05395599 |   0.1468240 |  8.832709e-01 |  8.975865e-01 |\n",
       "| CNAG_00022 |  746.84601 |  0.020299074 | 0.06152583 |   0.3299277 |  7.414546e-01 |  7.689054e-01 |\n",
       "| CNAG_00023 |  278.87826 |  0.232063963 | 0.26610452 |   0.8720782 |  3.831657e-01 |  4.210277e-01 |\n",
       "| CNAG_00024 | 7703.04647 |  0.997043384 | 0.04323929 |  23.0587381 | 1.202071e-117 | 2.760023e-116 |\n",
       "| CNAG_00025 | 2021.99612 |  0.881055403 | 0.09609371 |   9.1687104 |  4.787115e-20 |  1.463607e-19 |\n",
       "| CNAG_00026 | 2237.77134 |  0.167433512 | 0.06091140 |   2.7488043 |  5.981308e-03 |  8.132384e-03 |\n",
       "| CNAG_00027 |  425.60765 | -0.929646998 | 0.06112216 | -15.2096555 |  3.051445e-52 |  2.273522e-51 |\n",
       "| CNAG_00028 |  381.48552 | -0.817422940 | 0.05910049 | -13.8310684 |  1.655433e-43 |  9.892547e-43 |\n",
       "| CNAG_00029 |   52.66523 | -3.316030881 | 0.16631275 | -19.9385244 |  1.885448e-88 |  2.729713e-87 |\n",
       "| CNAG_00030 |   76.57328 | -1.103647498 | 0.12592110 |  -8.7645955 |  1.874484e-18 |  5.414216e-18 |\n",
       "| ⋮ | ⋮ | ⋮ | ⋮ | ⋮ | ⋮ | ⋮ |\n",
       "| ENSRNA049550980 |    0.000 |        NA |        NA |       NA |           NA |           NA |\n",
       "| ENSRNA049551037 |    0.000 |        NA |        NA |       NA |           NA |           NA |\n",
       "| ENSRNA049551063 |    0.000 |        NA |        NA |       NA |           NA |           NA |\n",
       "| ENSRNA049551074 |    0.000 |        NA |        NA |       NA |           NA |           NA |\n",
       "| ENSRNA049551126 |    0.000 |        NA |        NA |       NA |           NA |           NA |\n",
       "| ENSRNA049551197 |    0.000 |        NA |        NA |       NA |           NA |           NA |\n",
       "| ENSRNA049551244 |    0.000 |        NA |        NA |       NA |           NA |           NA |\n",
       "| ENSRNA049551269 |    0.000 |        NA |        NA |       NA |           NA |           NA |\n",
       "| ENSRNA049551298 |    0.000 |        NA |        NA |       NA |           NA |           NA |\n",
       "| ENSRNA049551337 |    0.000 |        NA |        NA |       NA |           NA |           NA |\n",
       "| ENSRNA049551365 |    0.000 |        NA |        NA |       NA |           NA |           NA |\n",
       "| ENSRNA049551391 |    0.000 |        NA |        NA |       NA |           NA |           NA |\n",
       "| ENSRNA049551484 |    0.000 |        NA |        NA |       NA |           NA |           NA |\n",
       "| ENSRNA049551550 |    0.000 |        NA |        NA |       NA |           NA |           NA |\n",
       "| ENSRNA049551574 |    0.000 |        NA |        NA |       NA |           NA |           NA |\n",
       "| ENSRNA049551598 |    0.000 |        NA |        NA |       NA |           NA |           NA |\n",
       "| ENSRNA049551636 |    0.000 |        NA |        NA |       NA |           NA |           NA |\n",
       "| ENSRNA049551673 |    0.000 |        NA |        NA |       NA |           NA |           NA |\n",
       "| ENSRNA049551717 |    0.000 |        NA |        NA |       NA |           NA |           NA |\n",
       "| ENSRNA049551745 |    0.000 |        NA |        NA |       NA |           NA |           NA |\n",
       "| ENSRNA049551774 |    0.000 |        NA |        NA |       NA |           NA |           NA |\n",
       "| ENSRNA049551798 |    0.000 |        NA |        NA |       NA |           NA |           NA |\n",
       "| ENSRNA049551814 |    0.000 |        NA |        NA |       NA |           NA |           NA |\n",
       "| ENSRNA049551862 |    0.000 |        NA |        NA |       NA |           NA |           NA |\n",
       "| ENSRNA049551899 |    0.000 |        NA |        NA |       NA |           NA |           NA |\n",
       "| ENSRNA049551942 |    0.000 |        NA |        NA |       NA |           NA |           NA |\n",
       "| ENSRNA049551964 |    0.000 |        NA |        NA |       NA |           NA |           NA |\n",
       "| ENSRNA049551993 |    0.000 |        NA |        NA |       NA |           NA |           NA |\n",
       "| large_MTrRNA    | 5333.974 | 0.9485643 | 0.1343409 | 7.060876 | 1.654565e-12 | 3.752466e-12 |\n",
       "| small_MTrRNA    | 1705.755 | 0.6914724 | 0.2955390 | 2.339700 | 1.929926e-02 | 2.502916e-02 |\n",
       "\n"
      ],
      "text/plain": [
       "     row             baseMean   log2FoldChange lfcSE      stat       \n",
       "1    CNAG_00001         0.00000           NA           NA          NA\n",
       "2    CNAG_00002       192.45638  1.343518516   0.08138545  16.5080932\n",
       "3    CNAG_00003       164.99082  0.831905578   0.10101840   8.2351886\n",
       "4    CNAG_00004       571.05465  0.087113891   0.04651668   1.8727452\n",
       "5    CNAG_00005        28.71062  1.292758868   0.19272946   6.7076349\n",
       "6    CNAG_00006      3147.39964 -0.139327775   0.04956000  -2.8112951\n",
       "7    CNAG_00007      1484.87545 -0.747920328   0.08053624  -9.2867544\n",
       "8    CNAG_00008       938.01932 -0.079110196   0.04765929  -1.6599115\n",
       "9    CNAG_00009       305.19881 -0.558838066   0.09968395  -5.6060989\n",
       "10   CNAG_00010       989.04227  0.537893668   0.06321490   8.5089694\n",
       "11   CNAG_00011      1001.75238 -2.148894367   0.08634115 -24.8884142\n",
       "12   CNAG_00012       773.99385  0.161412817   0.05766095   2.7993437\n",
       "13   CNAG_00013       485.75319 -0.722966497   0.07965037  -9.0767500\n",
       "14   CNAG_00014       180.53988 -0.295886560   0.06870554  -4.3065895\n",
       "15   CNAG_00015       318.87538 -0.328599588   0.05019105  -6.5469752\n",
       "16   CNAG_00016       901.25567  0.312717596   0.04460378   7.0110118\n",
       "17   CNAG_00017       184.65031  0.316683243   0.08573971   3.6935425\n",
       "18   CNAG_00018       876.12980  0.155211001   0.03742605   4.1471376\n",
       "19   CNAG_00019      1208.90542  0.747123679   0.05412045  13.8048310\n",
       "20   CNAG_00020       968.39030 -0.470164125   0.06206999  -7.5747418\n",
       "21   CNAG_00021       539.92676  0.007922036   0.05395599   0.1468240\n",
       "22   CNAG_00022       746.84601  0.020299074   0.06152583   0.3299277\n",
       "23   CNAG_00023       278.87826  0.232063963   0.26610452   0.8720782\n",
       "24   CNAG_00024      7703.04647  0.997043384   0.04323929  23.0587381\n",
       "25   CNAG_00025      2021.99612  0.881055403   0.09609371   9.1687104\n",
       "26   CNAG_00026      2237.77134  0.167433512   0.06091140   2.7488043\n",
       "27   CNAG_00027       425.60765 -0.929646998   0.06112216 -15.2096555\n",
       "28   CNAG_00028       381.48552 -0.817422940   0.05910049 -13.8310684\n",
       "29   CNAG_00029        52.66523 -3.316030881   0.16631275 -19.9385244\n",
       "30   CNAG_00030        76.57328 -1.103647498   0.12592110  -8.7645955\n",
       "⋮    ⋮               ⋮          ⋮              ⋮          ⋮          \n",
       "8470 ENSRNA049550980    0.000          NA             NA        NA   \n",
       "8471 ENSRNA049551037    0.000          NA             NA        NA   \n",
       "8472 ENSRNA049551063    0.000          NA             NA        NA   \n",
       "8473 ENSRNA049551074    0.000          NA             NA        NA   \n",
       "8474 ENSRNA049551126    0.000          NA             NA        NA   \n",
       "8475 ENSRNA049551197    0.000          NA             NA        NA   \n",
       "8476 ENSRNA049551244    0.000          NA             NA        NA   \n",
       "8477 ENSRNA049551269    0.000          NA             NA        NA   \n",
       "8478 ENSRNA049551298    0.000          NA             NA        NA   \n",
       "8479 ENSRNA049551337    0.000          NA             NA        NA   \n",
       "8480 ENSRNA049551365    0.000          NA             NA        NA   \n",
       "8481 ENSRNA049551391    0.000          NA             NA        NA   \n",
       "8482 ENSRNA049551484    0.000          NA             NA        NA   \n",
       "8483 ENSRNA049551550    0.000          NA             NA        NA   \n",
       "8484 ENSRNA049551574    0.000          NA             NA        NA   \n",
       "8485 ENSRNA049551598    0.000          NA             NA        NA   \n",
       "8486 ENSRNA049551636    0.000          NA             NA        NA   \n",
       "8487 ENSRNA049551673    0.000          NA             NA        NA   \n",
       "8488 ENSRNA049551717    0.000          NA             NA        NA   \n",
       "8489 ENSRNA049551745    0.000          NA             NA        NA   \n",
       "8490 ENSRNA049551774    0.000          NA             NA        NA   \n",
       "8491 ENSRNA049551798    0.000          NA             NA        NA   \n",
       "8492 ENSRNA049551814    0.000          NA             NA        NA   \n",
       "8493 ENSRNA049551862    0.000          NA             NA        NA   \n",
       "8494 ENSRNA049551899    0.000          NA             NA        NA   \n",
       "8495 ENSRNA049551942    0.000          NA             NA        NA   \n",
       "8496 ENSRNA049551964    0.000          NA             NA        NA   \n",
       "8497 ENSRNA049551993    0.000          NA             NA        NA   \n",
       "8498 large_MTrRNA    5333.974   0.9485643      0.1343409  7.060876   \n",
       "8499 small_MTrRNA    1705.755   0.6914724      0.2955390  2.339700   \n",
       "     pvalue        padj         \n",
       "1               NA            NA\n",
       "2     3.208624e-61  2.870856e-60\n",
       "3     1.792750e-16  4.795769e-16\n",
       "4     6.110358e-02  7.489553e-02\n",
       "5     1.978041e-11  4.320208e-11\n",
       "6     4.934250e-03  6.756102e-03\n",
       "7     1.590647e-20  4.927921e-20\n",
       "8     9.693226e-02  1.159517e-01\n",
       "9     2.069377e-08  3.933651e-08\n",
       "10    1.754861e-17  4.868574e-17\n",
       "11   9.932146e-137 2.998405e-135\n",
       "12    5.120661e-03  6.994889e-03\n",
       "13    1.118652e-19  3.374959e-19\n",
       "14    1.657908e-05  2.684468e-05\n",
       "15    5.871409e-11  1.252823e-10\n",
       "16    2.366008e-12  5.340717e-12\n",
       "17    2.211516e-04  3.341873e-04\n",
       "18    3.366577e-05  5.348074e-05\n",
       "19    2.383308e-43  1.414883e-42\n",
       "20    3.598425e-14  8.737196e-14\n",
       "21    8.832709e-01  8.975865e-01\n",
       "22    7.414546e-01  7.689054e-01\n",
       "23    3.831657e-01  4.210277e-01\n",
       "24   1.202071e-117 2.760023e-116\n",
       "25    4.787115e-20  1.463607e-19\n",
       "26    5.981308e-03  8.132384e-03\n",
       "27    3.051445e-52  2.273522e-51\n",
       "28    1.655433e-43  9.892547e-43\n",
       "29    1.885448e-88  2.729713e-87\n",
       "30    1.874484e-18  5.414216e-18\n",
       "⋮    ⋮             ⋮            \n",
       "8470           NA            NA \n",
       "8471           NA            NA \n",
       "8472           NA            NA \n",
       "8473           NA            NA \n",
       "8474           NA            NA \n",
       "8475           NA            NA \n",
       "8476           NA            NA \n",
       "8477           NA            NA \n",
       "8478           NA            NA \n",
       "8479           NA            NA \n",
       "8480           NA            NA \n",
       "8481           NA            NA \n",
       "8482           NA            NA \n",
       "8483           NA            NA \n",
       "8484           NA            NA \n",
       "8485           NA            NA \n",
       "8486           NA            NA \n",
       "8487           NA            NA \n",
       "8488           NA            NA \n",
       "8489           NA            NA \n",
       "8490           NA            NA \n",
       "8491           NA            NA \n",
       "8492           NA            NA \n",
       "8493           NA            NA \n",
       "8494           NA            NA \n",
       "8495           NA            NA \n",
       "8496           NA            NA \n",
       "8497           NA            NA \n",
       "8498 1.654565e-12  3.752466e-12 \n",
       "8499 1.929926e-02  2.502916e-02 "
      ]
     },
     "metadata": {},
     "output_type": "display_data"
    }
   ],
   "source": [
    "### Tidy the results\n",
    "myres_condition8v4 <- results(ddsDE, contrast = c(\"condition\", \"pH8\", \"pH4\"), tidy = TRUE)\n",
    "myres_condition8v4"
   ]
  },
  {
   "cell_type": "code",
   "execution_count": 86,
   "metadata": {},
   "outputs": [
    {
     "data": {
      "text/html": [
       "<table>\n",
       "<caption>A data.frame: 100 × 7</caption>\n",
       "<thead>\n",
       "\t<tr><th scope=col>row</th><th scope=col>baseMean</th><th scope=col>log2FoldChange</th><th scope=col>lfcSE</th><th scope=col>stat</th><th scope=col>pvalue</th><th scope=col>padj</th></tr>\n",
       "\t<tr><th scope=col>&lt;chr&gt;</th><th scope=col>&lt;dbl&gt;</th><th scope=col>&lt;dbl&gt;</th><th scope=col>&lt;dbl&gt;</th><th scope=col>&lt;dbl&gt;</th><th scope=col>&lt;dbl&gt;</th><th scope=col>&lt;dbl&gt;</th></tr>\n",
       "</thead>\n",
       "<tbody>\n",
       "\t<tr><td>CNAG_00275</td><td> 1072.9219</td><td>-4.048106</td><td>0.10667356</td><td>-37.94854</td><td>0</td><td>0</td></tr>\n",
       "\t<tr><td>CNAG_00309</td><td>  539.1312</td><td>-3.331524</td><td>0.08444635</td><td>-39.45137</td><td>0</td><td>0</td></tr>\n",
       "\t<tr><td>CNAG_00409</td><td> 1093.4775</td><td>-5.030655</td><td>0.07452918</td><td>-67.49913</td><td>0</td><td>0</td></tr>\n",
       "\t<tr><td>CNAG_00531</td><td>15371.8856</td><td> 3.563691</td><td>0.05663035</td><td> 62.92900</td><td>0</td><td>0</td></tr>\n",
       "\t<tr><td>CNAG_00601</td><td>  506.4752</td><td> 4.661577</td><td>0.09625726</td><td> 48.42832</td><td>0</td><td>0</td></tr>\n",
       "\t<tr><td>CNAG_00897</td><td>12255.8281</td><td> 4.856924</td><td>0.07970883</td><td> 60.93332</td><td>0</td><td>0</td></tr>\n",
       "\t<tr><td>CNAG_01272</td><td>49334.5209</td><td> 1.961009</td><td>0.04521777</td><td> 43.36812</td><td>0</td><td>0</td></tr>\n",
       "\t<tr><td>CNAG_01275</td><td> 2534.1015</td><td> 2.273088</td><td>0.04888985</td><td> 46.49406</td><td>0</td><td>0</td></tr>\n",
       "\t<tr><td>CNAG_01344</td><td> 3528.6160</td><td>-1.582122</td><td>0.04028591</td><td>-39.27234</td><td>0</td><td>0</td></tr>\n",
       "\t<tr><td>CNAG_01713</td><td> 9652.4535</td><td> 2.016486</td><td>0.05310869</td><td> 37.96904</td><td>0</td><td>0</td></tr>\n",
       "\t<tr><td>CNAG_01728</td><td> 1941.4330</td><td> 1.213160</td><td>0.03103129</td><td> 39.09474</td><td>0</td><td>0</td></tr>\n",
       "\t<tr><td>CNAG_02093</td><td> 1403.0112</td><td> 1.954574</td><td>0.04614366</td><td> 42.35845</td><td>0</td><td>0</td></tr>\n",
       "\t<tr><td>CNAG_02327</td><td>  719.3513</td><td>-3.194224</td><td>0.05806007</td><td>-55.01585</td><td>0</td><td>0</td></tr>\n",
       "\t<tr><td>CNAG_02356</td><td>  471.4115</td><td>-2.036762</td><td>0.04641007</td><td>-43.88620</td><td>0</td><td>0</td></tr>\n",
       "\t<tr><td>CNAG_02360</td><td> 3323.5585</td><td> 2.152345</td><td>0.04476595</td><td> 48.07996</td><td>0</td><td>0</td></tr>\n",
       "\t<tr><td>CNAG_02427</td><td> 1082.9529</td><td> 2.506583</td><td>0.04744886</td><td> 52.82704</td><td>0</td><td>0</td></tr>\n",
       "\t<tr><td>CNAG_02655</td><td> 5088.3692</td><td> 1.907865</td><td>0.04902024</td><td> 38.91995</td><td>0</td><td>0</td></tr>\n",
       "\t<tr><td>CNAG_02681</td><td> 1487.9842</td><td> 2.039963</td><td>0.04193402</td><td> 48.64698</td><td>0</td><td>0</td></tr>\n",
       "\t<tr><td>CNAG_02692</td><td> 3544.5580</td><td>-1.888463</td><td>0.04534978</td><td>-41.64217</td><td>0</td><td>0</td></tr>\n",
       "\t<tr><td>CNAG_02820</td><td> 1090.7721</td><td> 1.998074</td><td>0.04963874</td><td> 40.25232</td><td>0</td><td>0</td></tr>\n",
       "\t<tr><td>CNAG_02851</td><td>  562.4377</td><td>-3.552157</td><td>0.08397483</td><td>-42.30026</td><td>0</td><td>0</td></tr>\n",
       "\t<tr><td>CNAG_03048</td><td>  804.6911</td><td>-2.924003</td><td>0.06464150</td><td>-45.23415</td><td>0</td><td>0</td></tr>\n",
       "\t<tr><td>CNAG_03370</td><td> 6449.2674</td><td> 2.457745</td><td>0.04639709</td><td> 52.97197</td><td>0</td><td>0</td></tr>\n",
       "\t<tr><td>CNAG_03677</td><td> 9151.4785</td><td> 2.724855</td><td>0.06233972</td><td> 43.70977</td><td>0</td><td>0</td></tr>\n",
       "\t<tr><td>CNAG_03847</td><td> 3875.1529</td><td> 2.658356</td><td>0.06191473</td><td> 42.93576</td><td>0</td><td>0</td></tr>\n",
       "\t<tr><td>CNAG_04110</td><td> 1128.7818</td><td>-3.492281</td><td>0.07372291</td><td>-47.37036</td><td>0</td><td>0</td></tr>\n",
       "\t<tr><td>CNAG_04338</td><td> 2583.5900</td><td> 2.868364</td><td>0.05391712</td><td> 53.19951</td><td>0</td><td>0</td></tr>\n",
       "\t<tr><td>CNAG_04749</td><td>  748.9395</td><td>-3.332723</td><td>0.05444172</td><td>-61.21635</td><td>0</td><td>0</td></tr>\n",
       "\t<tr><td>CNAG_04944</td><td> 5488.7848</td><td> 1.732887</td><td>0.04016372</td><td> 43.14558</td><td>0</td><td>0</td></tr>\n",
       "\t<tr><td>CNAG_05042</td><td>  397.4520</td><td>-3.773610</td><td>0.07898513</td><td>-47.77621</td><td>0</td><td>0</td></tr>\n",
       "\t<tr><td>⋮</td><td>⋮</td><td>⋮</td><td>⋮</td><td>⋮</td><td>⋮</td><td>⋮</td></tr>\n",
       "\t<tr><td>CNAG_04436</td><td>  923.3861</td><td> 1.902678</td><td>0.05559342</td><td> 34.22489</td><td>1.031130e-256</td><td>1.183767e-254</td></tr>\n",
       "\t<tr><td>CNAG_03068</td><td>  502.8365</td><td> 4.104811</td><td>0.12001243</td><td> 34.20322</td><td>2.165939e-256</td><td>2.452023e-254</td></tr>\n",
       "\t<tr><td>CNAG_02205</td><td> 1039.4713</td><td> 2.909869</td><td>0.08544116</td><td> 34.05699</td><td>3.198342e-254</td><td>3.571190e-252</td></tr>\n",
       "\t<tr><td>CNAG_00400</td><td> 2318.2975</td><td> 1.605907</td><td>0.04724795</td><td> 33.98894</td><td>3.245908e-253</td><td>3.575323e-251</td></tr>\n",
       "\t<tr><td>CNAG_02860</td><td>12734.1608</td><td> 1.579674</td><td>0.04653794</td><td> 33.94380</td><td>1.505931e-252</td><td>1.636646e-250</td></tr>\n",
       "\t<tr><td>CNAG_00484</td><td>  389.9424</td><td>-2.211635</td><td>0.06564704</td><td>-33.68979</td><td>8.158065e-249</td><td>8.749525e-247</td></tr>\n",
       "\t<tr><td>CNAG_01844</td><td>  322.8226</td><td>-4.322988</td><td>0.12922550</td><td>-33.45306</td><td>2.323355e-245</td><td>2.459438e-243</td></tr>\n",
       "\t<tr><td>CNAG_02344</td><td>  179.1172</td><td>-3.120664</td><td>0.09357959</td><td>-33.34770</td><td>7.865010e-244</td><td>8.218936e-242</td></tr>\n",
       "\t<tr><td>CNAG_06028</td><td>  287.9349</td><td>-2.684903</td><td>0.08067673</td><td>-33.27977</td><td>7.575587e-243</td><td>7.816280e-241</td></tr>\n",
       "\t<tr><td>CNAG_06692</td><td>  312.9414</td><td>-1.928364</td><td>0.05795364</td><td>-33.27424</td><td>9.107021e-243</td><td>9.278916e-241</td></tr>\n",
       "\t<tr><td>CNAG_12215</td><td>  482.5171</td><td> 2.770982</td><td>0.08354321</td><td> 33.16825</td><td>3.090328e-241</td><td>3.109785e-239</td></tr>\n",
       "\t<tr><td>CNAG_00237</td><td> 5984.1931</td><td> 1.787121</td><td>0.05404411</td><td> 33.06782</td><td>8.625894e-240</td><td>8.574349e-238</td></tr>\n",
       "\t<tr><td>CNAG_00638</td><td> 4422.9738</td><td> 1.582244</td><td>0.04822951</td><td> 32.80656</td><td>4.747573e-236</td><td>4.662345e-234</td></tr>\n",
       "\t<tr><td>CNAG_04951</td><td> 3668.8243</td><td> 1.840793</td><td>0.05619936</td><td> 32.75469</td><td>2.603821e-235</td><td>2.526637e-233</td></tr>\n",
       "\t<tr><td>CNAG_05632</td><td> 1411.6433</td><td> 4.238909</td><td>0.12952672</td><td> 32.72614</td><td>6.636302e-235</td><td>6.363823e-233</td></tr>\n",
       "\t<tr><td>CNAG_02076</td><td>  854.8858</td><td>-2.045306</td><td>0.06258577</td><td>-32.68005</td><td>3.000334e-234</td><td>2.843689e-232</td></tr>\n",
       "\t<tr><td>CNAG_01382</td><td>  811.2949</td><td> 1.383909</td><td>0.04253452</td><td> 32.53613</td><td>3.289333e-232</td><td>3.081765e-230</td></tr>\n",
       "\t<tr><td>CNAG_00308</td><td>  416.4409</td><td>-2.393310</td><td>0.07375366</td><td>-32.45005</td><td>5.408025e-231</td><td>5.009183e-229</td></tr>\n",
       "\t<tr><td>CNAG_05657</td><td>  213.5299</td><td>-2.463627</td><td>0.07633945</td><td>-32.27200</td><td>1.729051e-228</td><td>1.583539e-226</td></tr>\n",
       "\t<tr><td>CNAG_04888</td><td>  267.4843</td><td>-3.477225</td><td>0.10887038</td><td>-31.93913</td><td>7.647443e-224</td><td>6.926034e-222</td></tr>\n",
       "\t<tr><td>CNAG_05725</td><td>22070.7339</td><td> 2.267601</td><td>0.07109706</td><td> 31.89444</td><td>3.188710e-223</td><td>2.856173e-221</td></tr>\n",
       "\t<tr><td>CNAG_05583</td><td>  504.0265</td><td>-2.347079</td><td>0.07369047</td><td>-31.85052</td><td>1.294801e-222</td><td>1.147166e-220</td></tr>\n",
       "\t<tr><td>CNAG_01078</td><td>  273.9651</td><td>-4.095443</td><td>0.12880507</td><td>-31.79566</td><td>7.431245e-222</td><td>6.513127e-220</td></tr>\n",
       "\t<tr><td>CNAG_06489</td><td> 2784.9721</td><td> 1.496827</td><td>0.04718822</td><td> 31.72035</td><td>8.143540e-221</td><td>7.061489e-219</td></tr>\n",
       "\t<tr><td>CNAG_00360</td><td> 1409.2988</td><td> 1.260795</td><td>0.04005144</td><td> 31.47940</td><td>1.662931e-217</td><td>1.426795e-215</td></tr>\n",
       "\t<tr><td>CNAG_01232</td><td> 8783.8121</td><td> 2.234490</td><td>0.07119597</td><td> 31.38506</td><td>3.235574e-216</td><td>2.747204e-214</td></tr>\n",
       "\t<tr><td>CNAG_06191</td><td>  471.6902</td><td>-2.414296</td><td>0.07708258</td><td>-31.32091</td><td>2.423208e-215</td><td>2.036244e-213</td></tr>\n",
       "\t<tr><td>CNAG_02933</td><td> 2296.9183</td><td>-2.922879</td><td>0.09350818</td><td>-31.25800</td><td>1.738233e-214</td><td>1.445749e-212</td></tr>\n",
       "\t<tr><td>CNAG_04401</td><td> 2726.4276</td><td> 1.037202</td><td>0.03320237</td><td> 31.23881</td><td>3.168474e-214</td><td>2.608711e-212</td></tr>\n",
       "\t<tr><td>CNAG_06596</td><td>  229.5455</td><td>-2.979989</td><td>0.09545392</td><td>-31.21914</td><td>5.859943e-214</td><td>4.776439e-212</td></tr>\n",
       "</tbody>\n",
       "</table>\n"
      ],
      "text/latex": [
       "A data.frame: 100 × 7\n",
       "\\begin{tabular}{r|lllllll}\n",
       " row & baseMean & log2FoldChange & lfcSE & stat & pvalue & padj\\\\\n",
       " <chr> & <dbl> & <dbl> & <dbl> & <dbl> & <dbl> & <dbl>\\\\\n",
       "\\hline\n",
       "\t CNAG\\_00275 &  1072.9219 & -4.048106 & 0.10667356 & -37.94854 & 0 & 0\\\\\n",
       "\t CNAG\\_00309 &   539.1312 & -3.331524 & 0.08444635 & -39.45137 & 0 & 0\\\\\n",
       "\t CNAG\\_00409 &  1093.4775 & -5.030655 & 0.07452918 & -67.49913 & 0 & 0\\\\\n",
       "\t CNAG\\_00531 & 15371.8856 &  3.563691 & 0.05663035 &  62.92900 & 0 & 0\\\\\n",
       "\t CNAG\\_00601 &   506.4752 &  4.661577 & 0.09625726 &  48.42832 & 0 & 0\\\\\n",
       "\t CNAG\\_00897 & 12255.8281 &  4.856924 & 0.07970883 &  60.93332 & 0 & 0\\\\\n",
       "\t CNAG\\_01272 & 49334.5209 &  1.961009 & 0.04521777 &  43.36812 & 0 & 0\\\\\n",
       "\t CNAG\\_01275 &  2534.1015 &  2.273088 & 0.04888985 &  46.49406 & 0 & 0\\\\\n",
       "\t CNAG\\_01344 &  3528.6160 & -1.582122 & 0.04028591 & -39.27234 & 0 & 0\\\\\n",
       "\t CNAG\\_01713 &  9652.4535 &  2.016486 & 0.05310869 &  37.96904 & 0 & 0\\\\\n",
       "\t CNAG\\_01728 &  1941.4330 &  1.213160 & 0.03103129 &  39.09474 & 0 & 0\\\\\n",
       "\t CNAG\\_02093 &  1403.0112 &  1.954574 & 0.04614366 &  42.35845 & 0 & 0\\\\\n",
       "\t CNAG\\_02327 &   719.3513 & -3.194224 & 0.05806007 & -55.01585 & 0 & 0\\\\\n",
       "\t CNAG\\_02356 &   471.4115 & -2.036762 & 0.04641007 & -43.88620 & 0 & 0\\\\\n",
       "\t CNAG\\_02360 &  3323.5585 &  2.152345 & 0.04476595 &  48.07996 & 0 & 0\\\\\n",
       "\t CNAG\\_02427 &  1082.9529 &  2.506583 & 0.04744886 &  52.82704 & 0 & 0\\\\\n",
       "\t CNAG\\_02655 &  5088.3692 &  1.907865 & 0.04902024 &  38.91995 & 0 & 0\\\\\n",
       "\t CNAG\\_02681 &  1487.9842 &  2.039963 & 0.04193402 &  48.64698 & 0 & 0\\\\\n",
       "\t CNAG\\_02692 &  3544.5580 & -1.888463 & 0.04534978 & -41.64217 & 0 & 0\\\\\n",
       "\t CNAG\\_02820 &  1090.7721 &  1.998074 & 0.04963874 &  40.25232 & 0 & 0\\\\\n",
       "\t CNAG\\_02851 &   562.4377 & -3.552157 & 0.08397483 & -42.30026 & 0 & 0\\\\\n",
       "\t CNAG\\_03048 &   804.6911 & -2.924003 & 0.06464150 & -45.23415 & 0 & 0\\\\\n",
       "\t CNAG\\_03370 &  6449.2674 &  2.457745 & 0.04639709 &  52.97197 & 0 & 0\\\\\n",
       "\t CNAG\\_03677 &  9151.4785 &  2.724855 & 0.06233972 &  43.70977 & 0 & 0\\\\\n",
       "\t CNAG\\_03847 &  3875.1529 &  2.658356 & 0.06191473 &  42.93576 & 0 & 0\\\\\n",
       "\t CNAG\\_04110 &  1128.7818 & -3.492281 & 0.07372291 & -47.37036 & 0 & 0\\\\\n",
       "\t CNAG\\_04338 &  2583.5900 &  2.868364 & 0.05391712 &  53.19951 & 0 & 0\\\\\n",
       "\t CNAG\\_04749 &   748.9395 & -3.332723 & 0.05444172 & -61.21635 & 0 & 0\\\\\n",
       "\t CNAG\\_04944 &  5488.7848 &  1.732887 & 0.04016372 &  43.14558 & 0 & 0\\\\\n",
       "\t CNAG\\_05042 &   397.4520 & -3.773610 & 0.07898513 & -47.77621 & 0 & 0\\\\\n",
       "\t ⋮ & ⋮ & ⋮ & ⋮ & ⋮ & ⋮ & ⋮\\\\\n",
       "\t CNAG\\_04436 &   923.3861 &  1.902678 & 0.05559342 &  34.22489 & 1.031130e-256 & 1.183767e-254\\\\\n",
       "\t CNAG\\_03068 &   502.8365 &  4.104811 & 0.12001243 &  34.20322 & 2.165939e-256 & 2.452023e-254\\\\\n",
       "\t CNAG\\_02205 &  1039.4713 &  2.909869 & 0.08544116 &  34.05699 & 3.198342e-254 & 3.571190e-252\\\\\n",
       "\t CNAG\\_00400 &  2318.2975 &  1.605907 & 0.04724795 &  33.98894 & 3.245908e-253 & 3.575323e-251\\\\\n",
       "\t CNAG\\_02860 & 12734.1608 &  1.579674 & 0.04653794 &  33.94380 & 1.505931e-252 & 1.636646e-250\\\\\n",
       "\t CNAG\\_00484 &   389.9424 & -2.211635 & 0.06564704 & -33.68979 & 8.158065e-249 & 8.749525e-247\\\\\n",
       "\t CNAG\\_01844 &   322.8226 & -4.322988 & 0.12922550 & -33.45306 & 2.323355e-245 & 2.459438e-243\\\\\n",
       "\t CNAG\\_02344 &   179.1172 & -3.120664 & 0.09357959 & -33.34770 & 7.865010e-244 & 8.218936e-242\\\\\n",
       "\t CNAG\\_06028 &   287.9349 & -2.684903 & 0.08067673 & -33.27977 & 7.575587e-243 & 7.816280e-241\\\\\n",
       "\t CNAG\\_06692 &   312.9414 & -1.928364 & 0.05795364 & -33.27424 & 9.107021e-243 & 9.278916e-241\\\\\n",
       "\t CNAG\\_12215 &   482.5171 &  2.770982 & 0.08354321 &  33.16825 & 3.090328e-241 & 3.109785e-239\\\\\n",
       "\t CNAG\\_00237 &  5984.1931 &  1.787121 & 0.05404411 &  33.06782 & 8.625894e-240 & 8.574349e-238\\\\\n",
       "\t CNAG\\_00638 &  4422.9738 &  1.582244 & 0.04822951 &  32.80656 & 4.747573e-236 & 4.662345e-234\\\\\n",
       "\t CNAG\\_04951 &  3668.8243 &  1.840793 & 0.05619936 &  32.75469 & 2.603821e-235 & 2.526637e-233\\\\\n",
       "\t CNAG\\_05632 &  1411.6433 &  4.238909 & 0.12952672 &  32.72614 & 6.636302e-235 & 6.363823e-233\\\\\n",
       "\t CNAG\\_02076 &   854.8858 & -2.045306 & 0.06258577 & -32.68005 & 3.000334e-234 & 2.843689e-232\\\\\n",
       "\t CNAG\\_01382 &   811.2949 &  1.383909 & 0.04253452 &  32.53613 & 3.289333e-232 & 3.081765e-230\\\\\n",
       "\t CNAG\\_00308 &   416.4409 & -2.393310 & 0.07375366 & -32.45005 & 5.408025e-231 & 5.009183e-229\\\\\n",
       "\t CNAG\\_05657 &   213.5299 & -2.463627 & 0.07633945 & -32.27200 & 1.729051e-228 & 1.583539e-226\\\\\n",
       "\t CNAG\\_04888 &   267.4843 & -3.477225 & 0.10887038 & -31.93913 & 7.647443e-224 & 6.926034e-222\\\\\n",
       "\t CNAG\\_05725 & 22070.7339 &  2.267601 & 0.07109706 &  31.89444 & 3.188710e-223 & 2.856173e-221\\\\\n",
       "\t CNAG\\_05583 &   504.0265 & -2.347079 & 0.07369047 & -31.85052 & 1.294801e-222 & 1.147166e-220\\\\\n",
       "\t CNAG\\_01078 &   273.9651 & -4.095443 & 0.12880507 & -31.79566 & 7.431245e-222 & 6.513127e-220\\\\\n",
       "\t CNAG\\_06489 &  2784.9721 &  1.496827 & 0.04718822 &  31.72035 & 8.143540e-221 & 7.061489e-219\\\\\n",
       "\t CNAG\\_00360 &  1409.2988 &  1.260795 & 0.04005144 &  31.47940 & 1.662931e-217 & 1.426795e-215\\\\\n",
       "\t CNAG\\_01232 &  8783.8121 &  2.234490 & 0.07119597 &  31.38506 & 3.235574e-216 & 2.747204e-214\\\\\n",
       "\t CNAG\\_06191 &   471.6902 & -2.414296 & 0.07708258 & -31.32091 & 2.423208e-215 & 2.036244e-213\\\\\n",
       "\t CNAG\\_02933 &  2296.9183 & -2.922879 & 0.09350818 & -31.25800 & 1.738233e-214 & 1.445749e-212\\\\\n",
       "\t CNAG\\_04401 &  2726.4276 &  1.037202 & 0.03320237 &  31.23881 & 3.168474e-214 & 2.608711e-212\\\\\n",
       "\t CNAG\\_06596 &   229.5455 & -2.979989 & 0.09545392 & -31.21914 & 5.859943e-214 & 4.776439e-212\\\\\n",
       "\\end{tabular}\n"
      ],
      "text/markdown": [
       "\n",
       "A data.frame: 100 × 7\n",
       "\n",
       "| row &lt;chr&gt; | baseMean &lt;dbl&gt; | log2FoldChange &lt;dbl&gt; | lfcSE &lt;dbl&gt; | stat &lt;dbl&gt; | pvalue &lt;dbl&gt; | padj &lt;dbl&gt; |\n",
       "|---|---|---|---|---|---|---|\n",
       "| CNAG_00275 |  1072.9219 | -4.048106 | 0.10667356 | -37.94854 | 0 | 0 |\n",
       "| CNAG_00309 |   539.1312 | -3.331524 | 0.08444635 | -39.45137 | 0 | 0 |\n",
       "| CNAG_00409 |  1093.4775 | -5.030655 | 0.07452918 | -67.49913 | 0 | 0 |\n",
       "| CNAG_00531 | 15371.8856 |  3.563691 | 0.05663035 |  62.92900 | 0 | 0 |\n",
       "| CNAG_00601 |   506.4752 |  4.661577 | 0.09625726 |  48.42832 | 0 | 0 |\n",
       "| CNAG_00897 | 12255.8281 |  4.856924 | 0.07970883 |  60.93332 | 0 | 0 |\n",
       "| CNAG_01272 | 49334.5209 |  1.961009 | 0.04521777 |  43.36812 | 0 | 0 |\n",
       "| CNAG_01275 |  2534.1015 |  2.273088 | 0.04888985 |  46.49406 | 0 | 0 |\n",
       "| CNAG_01344 |  3528.6160 | -1.582122 | 0.04028591 | -39.27234 | 0 | 0 |\n",
       "| CNAG_01713 |  9652.4535 |  2.016486 | 0.05310869 |  37.96904 | 0 | 0 |\n",
       "| CNAG_01728 |  1941.4330 |  1.213160 | 0.03103129 |  39.09474 | 0 | 0 |\n",
       "| CNAG_02093 |  1403.0112 |  1.954574 | 0.04614366 |  42.35845 | 0 | 0 |\n",
       "| CNAG_02327 |   719.3513 | -3.194224 | 0.05806007 | -55.01585 | 0 | 0 |\n",
       "| CNAG_02356 |   471.4115 | -2.036762 | 0.04641007 | -43.88620 | 0 | 0 |\n",
       "| CNAG_02360 |  3323.5585 |  2.152345 | 0.04476595 |  48.07996 | 0 | 0 |\n",
       "| CNAG_02427 |  1082.9529 |  2.506583 | 0.04744886 |  52.82704 | 0 | 0 |\n",
       "| CNAG_02655 |  5088.3692 |  1.907865 | 0.04902024 |  38.91995 | 0 | 0 |\n",
       "| CNAG_02681 |  1487.9842 |  2.039963 | 0.04193402 |  48.64698 | 0 | 0 |\n",
       "| CNAG_02692 |  3544.5580 | -1.888463 | 0.04534978 | -41.64217 | 0 | 0 |\n",
       "| CNAG_02820 |  1090.7721 |  1.998074 | 0.04963874 |  40.25232 | 0 | 0 |\n",
       "| CNAG_02851 |   562.4377 | -3.552157 | 0.08397483 | -42.30026 | 0 | 0 |\n",
       "| CNAG_03048 |   804.6911 | -2.924003 | 0.06464150 | -45.23415 | 0 | 0 |\n",
       "| CNAG_03370 |  6449.2674 |  2.457745 | 0.04639709 |  52.97197 | 0 | 0 |\n",
       "| CNAG_03677 |  9151.4785 |  2.724855 | 0.06233972 |  43.70977 | 0 | 0 |\n",
       "| CNAG_03847 |  3875.1529 |  2.658356 | 0.06191473 |  42.93576 | 0 | 0 |\n",
       "| CNAG_04110 |  1128.7818 | -3.492281 | 0.07372291 | -47.37036 | 0 | 0 |\n",
       "| CNAG_04338 |  2583.5900 |  2.868364 | 0.05391712 |  53.19951 | 0 | 0 |\n",
       "| CNAG_04749 |   748.9395 | -3.332723 | 0.05444172 | -61.21635 | 0 | 0 |\n",
       "| CNAG_04944 |  5488.7848 |  1.732887 | 0.04016372 |  43.14558 | 0 | 0 |\n",
       "| CNAG_05042 |   397.4520 | -3.773610 | 0.07898513 | -47.77621 | 0 | 0 |\n",
       "| ⋮ | ⋮ | ⋮ | ⋮ | ⋮ | ⋮ | ⋮ |\n",
       "| CNAG_04436 |   923.3861 |  1.902678 | 0.05559342 |  34.22489 | 1.031130e-256 | 1.183767e-254 |\n",
       "| CNAG_03068 |   502.8365 |  4.104811 | 0.12001243 |  34.20322 | 2.165939e-256 | 2.452023e-254 |\n",
       "| CNAG_02205 |  1039.4713 |  2.909869 | 0.08544116 |  34.05699 | 3.198342e-254 | 3.571190e-252 |\n",
       "| CNAG_00400 |  2318.2975 |  1.605907 | 0.04724795 |  33.98894 | 3.245908e-253 | 3.575323e-251 |\n",
       "| CNAG_02860 | 12734.1608 |  1.579674 | 0.04653794 |  33.94380 | 1.505931e-252 | 1.636646e-250 |\n",
       "| CNAG_00484 |   389.9424 | -2.211635 | 0.06564704 | -33.68979 | 8.158065e-249 | 8.749525e-247 |\n",
       "| CNAG_01844 |   322.8226 | -4.322988 | 0.12922550 | -33.45306 | 2.323355e-245 | 2.459438e-243 |\n",
       "| CNAG_02344 |   179.1172 | -3.120664 | 0.09357959 | -33.34770 | 7.865010e-244 | 8.218936e-242 |\n",
       "| CNAG_06028 |   287.9349 | -2.684903 | 0.08067673 | -33.27977 | 7.575587e-243 | 7.816280e-241 |\n",
       "| CNAG_06692 |   312.9414 | -1.928364 | 0.05795364 | -33.27424 | 9.107021e-243 | 9.278916e-241 |\n",
       "| CNAG_12215 |   482.5171 |  2.770982 | 0.08354321 |  33.16825 | 3.090328e-241 | 3.109785e-239 |\n",
       "| CNAG_00237 |  5984.1931 |  1.787121 | 0.05404411 |  33.06782 | 8.625894e-240 | 8.574349e-238 |\n",
       "| CNAG_00638 |  4422.9738 |  1.582244 | 0.04822951 |  32.80656 | 4.747573e-236 | 4.662345e-234 |\n",
       "| CNAG_04951 |  3668.8243 |  1.840793 | 0.05619936 |  32.75469 | 2.603821e-235 | 2.526637e-233 |\n",
       "| CNAG_05632 |  1411.6433 |  4.238909 | 0.12952672 |  32.72614 | 6.636302e-235 | 6.363823e-233 |\n",
       "| CNAG_02076 |   854.8858 | -2.045306 | 0.06258577 | -32.68005 | 3.000334e-234 | 2.843689e-232 |\n",
       "| CNAG_01382 |   811.2949 |  1.383909 | 0.04253452 |  32.53613 | 3.289333e-232 | 3.081765e-230 |\n",
       "| CNAG_00308 |   416.4409 | -2.393310 | 0.07375366 | -32.45005 | 5.408025e-231 | 5.009183e-229 |\n",
       "| CNAG_05657 |   213.5299 | -2.463627 | 0.07633945 | -32.27200 | 1.729051e-228 | 1.583539e-226 |\n",
       "| CNAG_04888 |   267.4843 | -3.477225 | 0.10887038 | -31.93913 | 7.647443e-224 | 6.926034e-222 |\n",
       "| CNAG_05725 | 22070.7339 |  2.267601 | 0.07109706 |  31.89444 | 3.188710e-223 | 2.856173e-221 |\n",
       "| CNAG_05583 |   504.0265 | -2.347079 | 0.07369047 | -31.85052 | 1.294801e-222 | 1.147166e-220 |\n",
       "| CNAG_01078 |   273.9651 | -4.095443 | 0.12880507 | -31.79566 | 7.431245e-222 | 6.513127e-220 |\n",
       "| CNAG_06489 |  2784.9721 |  1.496827 | 0.04718822 |  31.72035 | 8.143540e-221 | 7.061489e-219 |\n",
       "| CNAG_00360 |  1409.2988 |  1.260795 | 0.04005144 |  31.47940 | 1.662931e-217 | 1.426795e-215 |\n",
       "| CNAG_01232 |  8783.8121 |  2.234490 | 0.07119597 |  31.38506 | 3.235574e-216 | 2.747204e-214 |\n",
       "| CNAG_06191 |   471.6902 | -2.414296 | 0.07708258 | -31.32091 | 2.423208e-215 | 2.036244e-213 |\n",
       "| CNAG_02933 |  2296.9183 | -2.922879 | 0.09350818 | -31.25800 | 1.738233e-214 | 1.445749e-212 |\n",
       "| CNAG_04401 |  2726.4276 |  1.037202 | 0.03320237 |  31.23881 | 3.168474e-214 | 2.608711e-212 |\n",
       "| CNAG_06596 |   229.5455 | -2.979989 | 0.09545392 | -31.21914 | 5.859943e-214 | 4.776439e-212 |\n",
       "\n"
      ],
      "text/plain": [
       "    row        baseMean   log2FoldChange lfcSE      stat      pvalue       \n",
       "1   CNAG_00275  1072.9219 -4.048106      0.10667356 -37.94854 0            \n",
       "2   CNAG_00309   539.1312 -3.331524      0.08444635 -39.45137 0            \n",
       "3   CNAG_00409  1093.4775 -5.030655      0.07452918 -67.49913 0            \n",
       "4   CNAG_00531 15371.8856  3.563691      0.05663035  62.92900 0            \n",
       "5   CNAG_00601   506.4752  4.661577      0.09625726  48.42832 0            \n",
       "6   CNAG_00897 12255.8281  4.856924      0.07970883  60.93332 0            \n",
       "7   CNAG_01272 49334.5209  1.961009      0.04521777  43.36812 0            \n",
       "8   CNAG_01275  2534.1015  2.273088      0.04888985  46.49406 0            \n",
       "9   CNAG_01344  3528.6160 -1.582122      0.04028591 -39.27234 0            \n",
       "10  CNAG_01713  9652.4535  2.016486      0.05310869  37.96904 0            \n",
       "11  CNAG_01728  1941.4330  1.213160      0.03103129  39.09474 0            \n",
       "12  CNAG_02093  1403.0112  1.954574      0.04614366  42.35845 0            \n",
       "13  CNAG_02327   719.3513 -3.194224      0.05806007 -55.01585 0            \n",
       "14  CNAG_02356   471.4115 -2.036762      0.04641007 -43.88620 0            \n",
       "15  CNAG_02360  3323.5585  2.152345      0.04476595  48.07996 0            \n",
       "16  CNAG_02427  1082.9529  2.506583      0.04744886  52.82704 0            \n",
       "17  CNAG_02655  5088.3692  1.907865      0.04902024  38.91995 0            \n",
       "18  CNAG_02681  1487.9842  2.039963      0.04193402  48.64698 0            \n",
       "19  CNAG_02692  3544.5580 -1.888463      0.04534978 -41.64217 0            \n",
       "20  CNAG_02820  1090.7721  1.998074      0.04963874  40.25232 0            \n",
       "21  CNAG_02851   562.4377 -3.552157      0.08397483 -42.30026 0            \n",
       "22  CNAG_03048   804.6911 -2.924003      0.06464150 -45.23415 0            \n",
       "23  CNAG_03370  6449.2674  2.457745      0.04639709  52.97197 0            \n",
       "24  CNAG_03677  9151.4785  2.724855      0.06233972  43.70977 0            \n",
       "25  CNAG_03847  3875.1529  2.658356      0.06191473  42.93576 0            \n",
       "26  CNAG_04110  1128.7818 -3.492281      0.07372291 -47.37036 0            \n",
       "27  CNAG_04338  2583.5900  2.868364      0.05391712  53.19951 0            \n",
       "28  CNAG_04749   748.9395 -3.332723      0.05444172 -61.21635 0            \n",
       "29  CNAG_04944  5488.7848  1.732887      0.04016372  43.14558 0            \n",
       "30  CNAG_05042   397.4520 -3.773610      0.07898513 -47.77621 0            \n",
       "⋮   ⋮          ⋮          ⋮              ⋮          ⋮         ⋮            \n",
       "71  CNAG_04436   923.3861  1.902678      0.05559342  34.22489 1.031130e-256\n",
       "72  CNAG_03068   502.8365  4.104811      0.12001243  34.20322 2.165939e-256\n",
       "73  CNAG_02205  1039.4713  2.909869      0.08544116  34.05699 3.198342e-254\n",
       "74  CNAG_00400  2318.2975  1.605907      0.04724795  33.98894 3.245908e-253\n",
       "75  CNAG_02860 12734.1608  1.579674      0.04653794  33.94380 1.505931e-252\n",
       "76  CNAG_00484   389.9424 -2.211635      0.06564704 -33.68979 8.158065e-249\n",
       "77  CNAG_01844   322.8226 -4.322988      0.12922550 -33.45306 2.323355e-245\n",
       "78  CNAG_02344   179.1172 -3.120664      0.09357959 -33.34770 7.865010e-244\n",
       "79  CNAG_06028   287.9349 -2.684903      0.08067673 -33.27977 7.575587e-243\n",
       "80  CNAG_06692   312.9414 -1.928364      0.05795364 -33.27424 9.107021e-243\n",
       "81  CNAG_12215   482.5171  2.770982      0.08354321  33.16825 3.090328e-241\n",
       "82  CNAG_00237  5984.1931  1.787121      0.05404411  33.06782 8.625894e-240\n",
       "83  CNAG_00638  4422.9738  1.582244      0.04822951  32.80656 4.747573e-236\n",
       "84  CNAG_04951  3668.8243  1.840793      0.05619936  32.75469 2.603821e-235\n",
       "85  CNAG_05632  1411.6433  4.238909      0.12952672  32.72614 6.636302e-235\n",
       "86  CNAG_02076   854.8858 -2.045306      0.06258577 -32.68005 3.000334e-234\n",
       "87  CNAG_01382   811.2949  1.383909      0.04253452  32.53613 3.289333e-232\n",
       "88  CNAG_00308   416.4409 -2.393310      0.07375366 -32.45005 5.408025e-231\n",
       "89  CNAG_05657   213.5299 -2.463627      0.07633945 -32.27200 1.729051e-228\n",
       "90  CNAG_04888   267.4843 -3.477225      0.10887038 -31.93913 7.647443e-224\n",
       "91  CNAG_05725 22070.7339  2.267601      0.07109706  31.89444 3.188710e-223\n",
       "92  CNAG_05583   504.0265 -2.347079      0.07369047 -31.85052 1.294801e-222\n",
       "93  CNAG_01078   273.9651 -4.095443      0.12880507 -31.79566 7.431245e-222\n",
       "94  CNAG_06489  2784.9721  1.496827      0.04718822  31.72035 8.143540e-221\n",
       "95  CNAG_00360  1409.2988  1.260795      0.04005144  31.47940 1.662931e-217\n",
       "96  CNAG_01232  8783.8121  2.234490      0.07119597  31.38506 3.235574e-216\n",
       "97  CNAG_06191   471.6902 -2.414296      0.07708258 -31.32091 2.423208e-215\n",
       "98  CNAG_02933  2296.9183 -2.922879      0.09350818 -31.25800 1.738233e-214\n",
       "99  CNAG_04401  2726.4276  1.037202      0.03320237  31.23881 3.168474e-214\n",
       "100 CNAG_06596   229.5455 -2.979989      0.09545392 -31.21914 5.859943e-214\n",
       "    padj         \n",
       "1   0            \n",
       "2   0            \n",
       "3   0            \n",
       "4   0            \n",
       "5   0            \n",
       "6   0            \n",
       "7   0            \n",
       "8   0            \n",
       "9   0            \n",
       "10  0            \n",
       "11  0            \n",
       "12  0            \n",
       "13  0            \n",
       "14  0            \n",
       "15  0            \n",
       "16  0            \n",
       "17  0            \n",
       "18  0            \n",
       "19  0            \n",
       "20  0            \n",
       "21  0            \n",
       "22  0            \n",
       "23  0            \n",
       "24  0            \n",
       "25  0            \n",
       "26  0            \n",
       "27  0            \n",
       "28  0            \n",
       "29  0            \n",
       "30  0            \n",
       "⋮   ⋮            \n",
       "71  1.183767e-254\n",
       "72  2.452023e-254\n",
       "73  3.571190e-252\n",
       "74  3.575323e-251\n",
       "75  1.636646e-250\n",
       "76  8.749525e-247\n",
       "77  2.459438e-243\n",
       "78  8.218936e-242\n",
       "79  7.816280e-241\n",
       "80  9.278916e-241\n",
       "81  3.109785e-239\n",
       "82  8.574349e-238\n",
       "83  4.662345e-234\n",
       "84  2.526637e-233\n",
       "85  6.363823e-233\n",
       "86  2.843689e-232\n",
       "87  3.081765e-230\n",
       "88  5.009183e-229\n",
       "89  1.583539e-226\n",
       "90  6.926034e-222\n",
       "91  2.856173e-221\n",
       "92  1.147166e-220\n",
       "93  6.513127e-220\n",
       "94  7.061489e-219\n",
       "95  1.426795e-215\n",
       "96  2.747204e-214\n",
       "97  2.036244e-213\n",
       "98  1.445749e-212\n",
       "99  2.608711e-212\n",
       "100 4.776439e-212"
      ]
     },
     "metadata": {},
     "output_type": "display_data"
    }
   ],
   "source": [
    "### Tidy the results and sort in ascending order by adjusted p-value\n",
    "myres_condition8v4 <- results(ddsDE, contrast = c(\"condition\", \"pH8\", \"pH4\"), tidy = TRUE)\n",
    "\n",
    "myres_condition8v4 %>% \n",
    "    arrange(desc(-padj)) %>% \n",
    "        head(100)"
   ]
  },
  {
   "cell_type": "code",
   "execution_count": 137,
   "metadata": {},
   "outputs": [
    {
     "data": {
      "image/png": "[encoded data removed]",
      "text/plain": [
       "plot without title"
      ]
     },
     "metadata": {},
     "output_type": "display_data"
    }
   ],
   "source": [
    "myDEplotData <- function(mydds, geneid, mergelab) {\n",
    "    counts(mydds, normalize = TRUE) %>%\n",
    "        as_tibble(rownames=\"gene\") %>%\n",
    "        filter(gene == geneid) %>%\n",
    "        gather(Label, geneexp, -gene) %>%\n",
    "        select(-gene) -> genedat\n",
    "\n",
    "    colData(mydds) %>%\n",
    "        as.data.frame %>%\n",
    "        as_tibble %>%\n",
    "        full_join(genedat, by = mergelab) -> genedat\n",
    "    \n",
    "    return(genedat)\n",
    "}\n",
    "\n",
    "#myDEplotData(dds, \"CNAG_00003\", \"Label\")[,c(\"Label\", \"genotype\", \"condition\" , \"geneexp\")]\n",
    "\n",
    "myDEplot0 <- function(mydds, geneid, grpvar, mergelab) {\n",
    "    mydat <- myDEplotData(mydds, geneid, mergelab)\n",
    "    ggplot(mydat, aes(x = condition, y = geneexp))+ geom_point()\n",
    "}\n",
    "\n",
    "\n",
    "\n",
    "myDEplot1 <- function(mydds, geneid, grpvar, mergelab) {\n",
    "    mydat <- myDEplotData(mydds, geneid, mergelab)\n",
    "    ggplot(mydat, aes_string(x=grpvar, y = \"geneexp\"))+ geom_point()\n",
    "}\n",
    "\n",
    "\n",
    "myDEplot2 <- function(mydds, geneid, grpvar, mergelab) {\n",
    "    mydat <- myDEplotData(mydds, geneid, mergelab)\n",
    "    ggplot(mydat, aes_string(x=grpvar, y = \"geneexp\", col = grpvar))+ geom_point()\n",
    "}\n",
    "\n",
    "myDEplot3 <- function(mydds, geneid, grpvar, colvar, mergelab) {\n",
    "    mydat <- myDEplotData(mydds, geneid, mergelab)\n",
    "    ggplot(mydat, aes_string(x=grpvar, y = \"geneexp\", col = colvar))+ geom_point()\n",
    "}\n",
    "\n",
    "\n",
    "myDEplot3(dds, \"CNAG_00003\", \"genotype\", \"condition\", \"Label\")\n",
    "\n",
    "\n",
    "\n"
   ]
  },
  {
   "cell_type": "code",
   "execution_count": 118,
   "metadata": {},
   "outputs": [
    {
     "data": {
      "image/png": "[encoded data removed]",
      "text/plain": [
       "Plot with title “CNAG_00002”"
      ]
     },
     "metadata": {},
     "output_type": "display_data"
    }
   ],
   "source": [
    "#plotCounts(dds, \"CNAG_00002\")"
   ]
  },
  {
   "cell_type": "code",
   "execution_count": null,
   "metadata": {},
   "outputs": [],
   "source": [
    "[,c(\"Label\", \"genotype\", \"condition\" , \"geneexp\")]"
   ]
  },
  {
   "cell_type": "code",
   "execution_count": 68,
   "metadata": {},
   "outputs": [
    {
     "data": {
      "text/plain": [
       "log2 fold change (MLE): genotype sre1d vs WT \n",
       "Wald test p-value: genotype sre1d vs WT \n",
       "DataFrame with 4 rows and 6 columns\n",
       "                   baseMean      log2FoldChange              lfcSE\n",
       "                  <numeric>           <numeric>          <numeric>\n",
       "CNAG_00001                0                  NA                 NA\n",
       "CNAG_00002 192.456384076694 -0.0459290105698189 0.0812849125012254\n",
       "CNAG_00003 164.990819436254 -0.0432979308487266  0.101045100070341\n",
       "CNAG_00004 571.054651467718 -0.0347715410374543 0.0464312203030827\n",
       "                         stat            pvalue              padj\n",
       "                    <numeric>         <numeric>         <numeric>\n",
       "CNAG_00001                 NA                NA                NA\n",
       "CNAG_00002 -0.565037337883909 0.572048368119426 0.675469542016723\n",
       "CNAG_00003 -0.428501043777338 0.668286373790347 0.756450803050288\n",
       "CNAG_00004 -0.748882773497678 0.453927864041203 0.566263547566551"
      ]
     },
     "metadata": {},
     "output_type": "display_data"
    }
   ],
   "source": [
    "# first four genes\n",
    "myres_strainvWT[1:4,]"
   ]
  },
  {
   "cell_type": "markdown",
   "metadata": {},
   "source": [
    " You can get the descriptions for the columns from the DE analysis"
   ]
  },
  {
   "cell_type": "code",
   "execution_count": 70,
   "metadata": {},
   "outputs": [
    {
     "data": {
      "text/html": [
       "<table>\n",
       "<caption>A data.frame: 6 × 1</caption>\n",
       "<thead>\n",
       "\t<tr><th scope=col>desc</th></tr>\n",
       "\t<tr><th scope=col>&lt;fct&gt;</th></tr>\n",
       "</thead>\n",
       "<tbody>\n",
       "\t<tr><td>mean of normalized counts for all samples   </td></tr>\n",
       "\t<tr><td>log2 fold change (MLE): genotype sre1d vs WT</td></tr>\n",
       "\t<tr><td>standard error: genotype sre1d vs WT        </td></tr>\n",
       "\t<tr><td>Wald statistic: genotype sre1d vs WT        </td></tr>\n",
       "\t<tr><td>Wald test p-value: genotype sre1d vs WT     </td></tr>\n",
       "\t<tr><td>BH adjusted p-values                        </td></tr>\n",
       "</tbody>\n",
       "</table>\n"
      ],
      "text/latex": [
       "A data.frame: 6 × 1\n",
       "\\begin{tabular}{r|l}\n",
       " desc\\\\\n",
       " <fct>\\\\\n",
       "\\hline\n",
       "\t mean of normalized counts for all samples   \\\\\n",
       "\t log2 fold change (MLE): genotype sre1d vs WT\\\\\n",
       "\t standard error: genotype sre1d vs WT        \\\\\n",
       "\t Wald statistic: genotype sre1d vs WT        \\\\\n",
       "\t Wald test p-value: genotype sre1d vs WT     \\\\\n",
       "\t BH adjusted p-values                        \\\\\n",
       "\\end{tabular}\n"
      ],
      "text/markdown": [
       "\n",
       "A data.frame: 6 × 1\n",
       "\n",
       "| desc &lt;fct&gt; |\n",
       "|---|\n",
       "| mean of normalized counts for all samples    |\n",
       "| log2 fold change (MLE): genotype sre1d vs WT |\n",
       "| standard error: genotype sre1d vs WT         |\n",
       "| Wald statistic: genotype sre1d vs WT         |\n",
       "| Wald test p-value: genotype sre1d vs WT      |\n",
       "| BH adjusted p-values                         |\n",
       "\n"
      ],
      "text/plain": [
       "  desc                                        \n",
       "1 mean of normalized counts for all samples   \n",
       "2 log2 fold change (MLE): genotype sre1d vs WT\n",
       "3 standard error: genotype sre1d vs WT        \n",
       "4 Wald statistic: genotype sre1d vs WT        \n",
       "5 Wald test p-value: genotype sre1d vs WT     \n",
       "6 BH adjusted p-values                        "
      ]
     },
     "metadata": {},
     "output_type": "display_data"
    }
   ],
   "source": [
    "data.frame(desc = mcols(myres_strainvWT)$description) "
   ]
  },
  {
   "cell_type": "markdown",
   "metadata": {},
   "source": [
    "manually calculate the baseMean to see if a gene"
   ]
  },
  {
   "cell_type": "code",
   "execution_count": 74,
   "metadata": {},
   "outputs": [
    {
     "data": {
      "text/html": [
       "<table>\n",
       "<caption>A matrix: 1 × 24 of type dbl</caption>\n",
       "<thead>\n",
       "\t<tr><th scope=col>1_2019_P_M1</th><th scope=col>2_2019_P_M1</th><th scope=col>3_2019_P_M1</th><th scope=col>4_2019_P_M1</th><th scope=col>5_2019_P_M1</th><th scope=col>6_2019_P_M1</th><th scope=col>7_2019_P_M1</th><th scope=col>8_2019_P_M1</th><th scope=col>9_2019_P_M1</th><th scope=col>10_2019_P_M1</th><th scope=col>⋯</th><th scope=col>15_2019_P_M1</th><th scope=col>16_2019_P_M1</th><th scope=col>17_2019_P_M1</th><th scope=col>18_2019_P_M1</th><th scope=col>19_2019_P_M1</th><th scope=col>20_2019_P_M1</th><th scope=col>21_2019_P_M1</th><th scope=col>22_2019_P_M1</th><th scope=col>23_2019_P_M1</th><th scope=col>24_2019_P_M1</th></tr>\n",
       "</thead>\n",
       "<tbody>\n",
       "\t<tr><td>99.26872</td><td>122.9871</td><td>98.48671</td><td>123.9726</td><td>112.009</td><td>119.6346</td><td>122.7271</td><td>117.1843</td><td>105.5822</td><td>110.5573</td><td>⋯</td><td>300.97</td><td>249.4876</td><td>261.8499</td><td>362.8096</td><td>254.8584</td><td>259.1637</td><td>328.8614</td><td>261.6647</td><td>267.4837</td><td>290.5408</td></tr>\n",
       "</tbody>\n",
       "</table>\n"
      ],
      "text/latex": [
       "A matrix: 1 × 24 of type dbl\n",
       "\\begin{tabular}{llllllllllllllllllllllll}\n",
       " 1\\_2019\\_P\\_M1 & 2\\_2019\\_P\\_M1 & 3\\_2019\\_P\\_M1 & 4\\_2019\\_P\\_M1 & 5\\_2019\\_P\\_M1 & 6\\_2019\\_P\\_M1 & 7\\_2019\\_P\\_M1 & 8\\_2019\\_P\\_M1 & 9\\_2019\\_P\\_M1 & 10\\_2019\\_P\\_M1 & 11\\_2019\\_P\\_M1 & 12\\_2019\\_P\\_M1 & 13\\_2019\\_P\\_M1 & 14\\_2019\\_P\\_M1 & 15\\_2019\\_P\\_M1 & 16\\_2019\\_P\\_M1 & 17\\_2019\\_P\\_M1 & 18\\_2019\\_P\\_M1 & 19\\_2019\\_P\\_M1 & 20\\_2019\\_P\\_M1 & 21\\_2019\\_P\\_M1 & 22\\_2019\\_P\\_M1 & 23\\_2019\\_P\\_M1 & 24\\_2019\\_P\\_M1\\\\\n",
       "\\hline\n",
       "\t 99.26872 & 122.9871 & 98.48671 & 123.9726 & 112.009 & 119.6346 & 122.7271 & 117.1843 & 105.5822 & 110.5573 & 86.35888 & 83.39869 & 243.8433 & 235.2528 & 300.97 & 249.4876 & 261.8499 & 362.8096 & 254.8584 & 259.1637 & 328.8614 & 261.6647 & 267.4837 & 290.5408\\\\\n",
       "\\end{tabular}\n"
      ],
      "text/markdown": [
       "\n",
       "A matrix: 1 × 24 of type dbl\n",
       "\n",
       "| 1_2019_P_M1 | 2_2019_P_M1 | 3_2019_P_M1 | 4_2019_P_M1 | 5_2019_P_M1 | 6_2019_P_M1 | 7_2019_P_M1 | 8_2019_P_M1 | 9_2019_P_M1 | 10_2019_P_M1 | ⋯ | 15_2019_P_M1 | 16_2019_P_M1 | 17_2019_P_M1 | 18_2019_P_M1 | 19_2019_P_M1 | 20_2019_P_M1 | 21_2019_P_M1 | 22_2019_P_M1 | 23_2019_P_M1 | 24_2019_P_M1 |\n",
       "|---|---|---|---|---|---|---|---|---|---|---|---|---|---|---|---|---|---|---|---|---|\n",
       "| 99.26872 | 122.9871 | 98.48671 | 123.9726 | 112.009 | 119.6346 | 122.7271 | 117.1843 | 105.5822 | 110.5573 | ⋯ | 300.97 | 249.4876 | 261.8499 | 362.8096 | 254.8584 | 259.1637 | 328.8614 | 261.6647 | 267.4837 | 290.5408 |\n",
       "\n"
      ],
      "text/plain": [
       "     1_2019_P_M1 2_2019_P_M1 3_2019_P_M1 4_2019_P_M1 5_2019_P_M1 6_2019_P_M1\n",
       "[1,] 99.26872    122.9871    98.48671    123.9726    112.009     119.6346   \n",
       "     7_2019_P_M1 8_2019_P_M1 9_2019_P_M1 10_2019_P_M1 ⋯ 15_2019_P_M1\n",
       "[1,] 122.7271    117.1843    105.5822    110.5573     ⋯ 300.97      \n",
       "     16_2019_P_M1 17_2019_P_M1 18_2019_P_M1 19_2019_P_M1 20_2019_P_M1\n",
       "[1,] 249.4876     261.8499     362.8096     254.8584     259.1637    \n",
       "     21_2019_P_M1 22_2019_P_M1 23_2019_P_M1 24_2019_P_M1\n",
       "[1,] 328.8614     261.6647     267.4837     290.5408    "
      ]
     },
     "metadata": {},
     "output_type": "display_data"
    }
   ],
   "source": [
    "t(counts(dds, normalize = TRUE)[\"CNAG_00002\",])"
   ]
  },
  {
   "cell_type": "code",
   "execution_count": 73,
   "metadata": {},
   "outputs": [
    {
     "data": {
      "text/html": [
       "192.456384076694"
      ],
      "text/latex": [
       "192.456384076694"
      ],
      "text/markdown": [
       "192.456384076694"
      ],
      "text/plain": [
       "[1] 192.4564"
      ]
     },
     "metadata": {},
     "output_type": "display_data"
    }
   ],
   "source": [
    "mean(counts(dds, normalize = TRUE)[\"CNAG_00002\",])"
   ]
  },
  {
   "cell_type": "code",
   "execution_count": 83,
   "metadata": {},
   "outputs": [
    {
     "data": {
      "text/plain": [
       "log2 fold change (MLE): condition pH8 vs pH4 \n",
       "Wald test p-value: condition pH8 vs pH4 \n",
       "DataFrame with 8499 rows and 6 columns\n",
       "                        baseMean     log2FoldChange              lfcSE\n",
       "                       <numeric>          <numeric>          <numeric>\n",
       "CNAG_00001                     0                 NA                 NA\n",
       "CNAG_00002      192.456384076694   1.34351851614176 0.0813854454817818\n",
       "CNAG_00003      164.990819436254  0.831905577724638  0.101018400723969\n",
       "CNAG_00004      571.054651467718 0.0871138906737344 0.0465166816365353\n",
       "CNAG_00005      28.7106195205257   1.29275886849841  0.192729463777133\n",
       "...                          ...                ...                ...\n",
       "ENSRNA049551942                0                 NA                 NA\n",
       "ENSRNA049551964                0                 NA                 NA\n",
       "ENSRNA049551993                0                 NA                 NA\n",
       "large_MTrRNA    5333.97356461621  0.948564278537808  0.134340883270906\n",
       "small_MTrRNA    1705.75472334291  0.691472418621256  0.295538979277226\n",
       "                            stat               pvalue                 padj\n",
       "                       <numeric>            <numeric>            <numeric>\n",
       "CNAG_00001                    NA                   NA                   NA\n",
       "CNAG_00002      16.5080931631996 3.20862403991611e-61 2.87085560366149e-60\n",
       "CNAG_00003      8.23518855735805 1.79275046151211e-16 4.79576928512805e-16\n",
       "CNAG_00004      1.87274516601186   0.0611035831980367    0.074895534834165\n",
       "CNAG_00005      6.70763485334717 1.97804137561036e-11 4.32020773113613e-11\n",
       "...                          ...                  ...                  ...\n",
       "ENSRNA049551942               NA                   NA                   NA\n",
       "ENSRNA049551964               NA                   NA                   NA\n",
       "ENSRNA049551993               NA                   NA                   NA\n",
       "large_MTrRNA    7.06087570248421 1.65456549165796e-12 3.75246614426935e-12\n",
       "small_MTrRNA    2.33969955608675   0.0192992582107572   0.0250291573072207"
      ]
     },
     "metadata": {},
     "output_type": "display_data"
    }
   ],
   "source": [
    "myres_condition8v4"
   ]
  },
  {
   "cell_type": "markdown",
   "metadata": {},
   "source": [
    "##  P-values"
   ]
  },
  {
   "cell_type": "markdown",
   "metadata": {},
   "source": [
    "Here we will play with the p-value of the results. Below we demonstrate how the p-value is adjusted using BH method"
   ]
  },
  {
   "cell_type": "markdown",
   "metadata": {},
   "source": [
    "One can extract the unadjusted p-values as follows"
   ]
  },
  {
   "cell_type": "code",
   "execution_count": 75,
   "metadata": {},
   "outputs": [
    {
     "data": {
      "text/html": [
       "8499"
      ],
      "text/latex": [
       "8499"
      ],
      "text/markdown": [
       "8499"
      ],
      "text/plain": [
       "[1] 8499"
      ]
     },
     "metadata": {},
     "output_type": "display_data"
    },
    {
     "data": {
      "text/html": [
       "<ol class=list-inline>\n",
       "\t<li>&lt;NA&gt;</li>\n",
       "\t<li>0.572048368119426</li>\n",
       "\t<li>0.668286373790347</li>\n",
       "\t<li>0.453927864041203</li>\n",
       "</ol>\n"
      ],
      "text/latex": [
       "\\begin{enumerate*}\n",
       "\\item <NA>\n",
       "\\item 0.572048368119426\n",
       "\\item 0.668286373790347\n",
       "\\item 0.453927864041203\n",
       "\\end{enumerate*}\n"
      ],
      "text/markdown": [
       "1. &lt;NA&gt;\n",
       "2. 0.572048368119426\n",
       "3. 0.668286373790347\n",
       "4. 0.453927864041203\n",
       "\n",
       "\n"
      ],
      "text/plain": [
       "[1]        NA 0.5720484 0.6682864 0.4539279"
      ]
     },
     "metadata": {},
     "output_type": "display_data"
    }
   ],
   "source": [
    "pvalues <- myres_strain$pvalue\n",
    "length(pvalues)\n",
    "pvalues[1:4]"
   ]
  },
  {
   "cell_type": "markdown",
   "metadata": {},
   "source": [
    "The BH adjusted p-values can be extracted as"
   ]
  },
  {
   "cell_type": "code",
   "execution_count": 76,
   "metadata": {},
   "outputs": [
    {
     "data": {
      "text/html": [
       "8499"
      ],
      "text/latex": [
       "8499"
      ],
      "text/markdown": [
       "8499"
      ],
      "text/plain": [
       "[1] 8499"
      ]
     },
     "metadata": {},
     "output_type": "display_data"
    },
    {
     "data": {
      "text/html": [
       "<ol class=list-inline>\n",
       "\t<li>&lt;NA&gt;</li>\n",
       "\t<li>0.675469542016723</li>\n",
       "\t<li>0.756450803050288</li>\n",
       "\t<li>0.566263547566551</li>\n",
       "</ol>\n"
      ],
      "text/latex": [
       "\\begin{enumerate*}\n",
       "\\item <NA>\n",
       "\\item 0.675469542016723\n",
       "\\item 0.756450803050288\n",
       "\\item 0.566263547566551\n",
       "\\end{enumerate*}\n"
      ],
      "text/markdown": [
       "1. &lt;NA&gt;\n",
       "2. 0.675469542016723\n",
       "3. 0.756450803050288\n",
       "4. 0.566263547566551\n",
       "\n",
       "\n"
      ],
      "text/plain": [
       "[1]        NA 0.6754695 0.7564508 0.5662635"
      ]
     },
     "metadata": {},
     "output_type": "display_data"
    }
   ],
   "source": [
    "adjp <- myres_strain$padj\n",
    "length(adjp)\n",
    "adjp[1:4]"
   ]
  },
  {
   "cell_type": "markdown",
   "metadata": {},
   "source": [
    "Calculate BH adjusted P-values by \"hand\" using the p.adjust() function. Note that you will not replicate the results you get under the padj column (when looking at the first four rows)"
   ]
  },
  {
   "cell_type": "code",
   "execution_count": 77,
   "metadata": {},
   "outputs": [
    {
     "data": {
      "text/html": [
       "<table>\n",
       "<caption>A data.frame: 4 × 2</caption>\n",
       "<thead>\n",
       "\t<tr><th scope=col>BH</th><th scope=col>adjp</th></tr>\n",
       "\t<tr><th scope=col>&lt;dbl&gt;</th><th scope=col>&lt;dbl&gt;</th></tr>\n",
       "</thead>\n",
       "<tbody>\n",
       "\t<tr><td>       NA</td><td>       NA</td></tr>\n",
       "\t<tr><td>0.6754695</td><td>0.6754695</td></tr>\n",
       "\t<tr><td>0.7564508</td><td>0.7564508</td></tr>\n",
       "\t<tr><td>0.5662635</td><td>0.5662635</td></tr>\n",
       "</tbody>\n",
       "</table>\n"
      ],
      "text/latex": [
       "A data.frame: 4 × 2\n",
       "\\begin{tabular}{r|ll}\n",
       " BH & adjp\\\\\n",
       " <dbl> & <dbl>\\\\\n",
       "\\hline\n",
       "\t        NA &        NA\\\\\n",
       "\t 0.6754695 & 0.6754695\\\\\n",
       "\t 0.7564508 & 0.7564508\\\\\n",
       "\t 0.5662635 & 0.5662635\\\\\n",
       "\\end{tabular}\n"
      ],
      "text/markdown": [
       "\n",
       "A data.frame: 4 × 2\n",
       "\n",
       "| BH &lt;dbl&gt; | adjp &lt;dbl&gt; |\n",
       "|---|---|\n",
       "|        NA |        NA |\n",
       "| 0.6754695 | 0.6754695 |\n",
       "| 0.7564508 | 0.7564508 |\n",
       "| 0.5662635 | 0.5662635 |\n",
       "\n"
      ],
      "text/plain": [
       "  BH        adjp     \n",
       "1        NA        NA\n",
       "2 0.6754695 0.6754695\n",
       "3 0.7564508 0.7564508\n",
       "4 0.5662635 0.5662635"
      ]
     },
     "metadata": {},
     "output_type": "display_data"
    }
   ],
   "source": [
    "pvalues <- myres_strain$pvalue\n",
    "BH <- p.adjust(pvalues,\"BH\")\n",
    "data.frame(BH = BH[1:4], adjp = adjp[1:4])"
   ]
  },
  {
   "cell_type": "markdown",
   "metadata": {},
   "source": [
    "The DESeq2::results function applies \"independent\" filtering. This is enabled by default. Let's disable and then reexamine the adjusted P-values"
   ]
  },
  {
   "cell_type": "code",
   "execution_count": 78,
   "metadata": {},
   "outputs": [],
   "source": [
    "myres1 <- results(ddsDE, independentFiltering = FALSE)"
   ]
  },
  {
   "cell_type": "code",
   "execution_count": 79,
   "metadata": {},
   "outputs": [
    {
     "data": {
      "text/plain": [
       "log2 fold change (MLE): genotype WT vs sre1d \n",
       "Wald test p-value: genotype WT vs sre1d \n",
       "DataFrame with 8499 rows and 6 columns\n",
       "                        baseMean     log2FoldChange              lfcSE\n",
       "                       <numeric>          <numeric>          <numeric>\n",
       "CNAG_00001                     0                 NA                 NA\n",
       "CNAG_00002      192.456384076694 0.0459290105698189 0.0812849125012254\n",
       "CNAG_00003      164.990819436254 0.0432979308487266  0.101045100070341\n",
       "CNAG_00004      571.054651467718 0.0347715410374543 0.0464312203030827\n",
       "CNAG_00005      28.7106195205257 -0.377056805602812  0.192347436642309\n",
       "...                          ...                ...                ...\n",
       "ENSRNA049551942                0                 NA                 NA\n",
       "ENSRNA049551964                0                 NA                 NA\n",
       "ENSRNA049551993                0                 NA                 NA\n",
       "large_MTrRNA    5333.97356461621 -0.396337460272526   0.13434088145007\n",
       "small_MTrRNA    1705.75472334291 -0.436802837852531  0.295538981353034\n",
       "                             stat              pvalue                padj\n",
       "                        <numeric>           <numeric>           <numeric>\n",
       "CNAG_00001                     NA                  NA                  NA\n",
       "CNAG_00002      0.565037337883909   0.572048368119426   0.675469542016723\n",
       "CNAG_00003      0.428501043777338   0.668286373790347   0.756450803050288\n",
       "CNAG_00004      0.748882773497678   0.453927864041203   0.566263547566551\n",
       "CNAG_00005      -1.96029025488907  0.0499618744055703   0.094333851813714\n",
       "...                           ...                 ...                 ...\n",
       "ENSRNA049551942                NA                  NA                  NA\n",
       "ENSRNA049551964                NA                  NA                  NA\n",
       "ENSRNA049551993                NA                  NA                  NA\n",
       "large_MTrRNA    -2.95023715785154 0.00317530091247218 0.00896807960414441\n",
       "small_MTrRNA     -1.4779872213566   0.139411198621898   0.221714577729148"
      ]
     },
     "metadata": {},
     "output_type": "display_data"
    }
   ],
   "source": [
    "myres1"
   ]
  },
  {
   "cell_type": "markdown",
   "metadata": {},
   "source": [
    " We can now replicate the results"
   ]
  },
  {
   "cell_type": "code",
   "execution_count": null,
   "metadata": {},
   "outputs": [],
   "source": [
    "pvalues1 <- myres1$pvalue\n",
    "BH1 <- p.adjust(pvalues1[!is.na(pvalues)], \"BH\")\n",
    "data.frame(\n",
    "    BH   = BH1[1:4],\n",
    "    adjp = myres1$padj[1:4])"
   ]
  },
  {
   "cell_type": "markdown",
   "metadata": {},
   "source": [
    "##  Subset and reorder the results"
   ]
  },
  {
   "cell_type": "code",
   "execution_count": null,
   "metadata": {},
   "outputs": [],
   "source": [
    "class(myres_strain)"
   ]
  },
  {
   "cell_type": "code",
   "execution_count": null,
   "metadata": {},
   "outputs": [],
   "source": [
    "summary(myres_strain, 0.05)"
   ]
  },
  {
   "cell_type": "markdown",
   "metadata": {},
   "source": [
    " You can sort the results by say the unadjusted P-values"
   ]
  },
  {
   "cell_type": "code",
   "execution_count": null,
   "metadata": {},
   "outputs": [],
   "source": [
    "results(ddsDE, contrast = c(\"Strain\", \"H99\", \"mar1d\"), tidy = TRUE) %>%\n",
    "    arrange(padj) %>% \n",
    "    head(4)"
   ]
  },
  {
   "cell_type": "markdown",
   "metadata": {},
   "source": [
    "To get the list of genes with unadjusted P-values < 0.00001 and absolute log2 FC of more than 4"
   ]
  },
  {
   "cell_type": "code",
   "execution_count": null,
   "metadata": {},
   "outputs": [],
   "source": [
    "results(ddsDE, contrast = c(\"Strain\", \"H99\", \"mar1d\"), tidy = TRUE) %>%\n",
    "    filter(padj < 0.00001) %>%\n",
    "    filter(abs(log2FoldChange) > 4)"
   ]
  },
  {
   "cell_type": "markdown",
   "metadata": {},
   "source": [
    "The P-values for the four top genes are beyond machine precision. You can use the format.pval() function to properly format the P-values. PLEASE promote ending the practice of publishing P-values below machine precision.  (that would be akin to stating the weight of an object that weighs less than one pound with a scale whose minimum weight spec is 1 pound)."
   ]
  },
  {
   "cell_type": "code",
   "execution_count": null,
   "metadata": {},
   "outputs": [],
   "source": [
    "results(ddsDE, contrast = c(\"Strain\", \"H99\", \"mar1d\"), tidy = TRUE) %>%\n",
    "    filter(padj < 0.00001) %>%\n",
    "        filter(abs(log2FoldChange) > 4) %>%\n",
    "            mutate(pval = format.pval(pvalue))"
   ]
  },
  {
   "cell_type": "markdown",
   "metadata": {},
   "source": [
    "Let's look at a volcano plot"
   ]
  },
  {
   "cell_type": "code",
   "execution_count": null,
   "metadata": {},
   "outputs": [],
   "source": [
    "plot(myres_strain$log2FoldChange,\n",
    "     -log10(myres_strain$padj),\n",
    "     pch  = 19, \n",
    "     cex  = 0.3,\n",
    "     xlab = \"Log2 FC\",\n",
    "     ylab = \"-log10(BH Adjusted P-value)\")"
   ]
  },
  {
   "cell_type": "markdown",
   "metadata": {},
   "source": [
    "Exercise: Annotate the hits with adjusted P-values < 0.05 and absolute log2 FC greater than 2 in red"
   ]
  },
  {
   "cell_type": "code",
   "execution_count": null,
   "metadata": {},
   "outputs": [],
   "source": [
    "plot(myres_strain$log2FoldChange,\n",
    "     -log10(myres_strain$padj),\n",
    "     pch  = 19,\n",
    "     cex  = 0.3,\n",
    "     xlab = \"Log2 FC\",\n",
    "     ylab = \"-log10(BH Adjusted P-value)\",\n",
    "     col  = ifelse(myres_strain$padj < 0.05 & abs(myres_strain$log2FoldChange) > 2,\n",
    "                   \"red\",\n",
    "                   \"black\"))"
   ]
  },
  {
   "cell_type": "markdown",
   "metadata": {},
   "source": [
    "# Converting/Normalizing Counts to \"Expressions\""
   ]
  },
  {
   "cell_type": "markdown",
   "metadata": {},
   "source": [
    "##  Normalized Counts\n",
    "We have already shown how to \"normalize\" the counts using the estimated size factors"
   ]
  },
  {
   "cell_type": "code",
   "execution_count": null,
   "metadata": {},
   "outputs": [],
   "source": [
    "head(counts(dds, normalize = TRUE), 3)"
   ]
  },
  {
   "cell_type": "markdown",
   "metadata": {},
   "source": [
    "Plot the counts stratified by treatment for the 2nd gene. Later we will compare the expression values in more detail in the section of regularized log transformation (rlog transformation). In the section of rlog transformation, the media and strain will be indicated/labeled in the plot."
   ]
  },
  {
   "cell_type": "code",
   "execution_count": null,
   "metadata": {},
   "outputs": [],
   "source": [
    "results(ddsDE, contrast = c(\"Strain\", \"H99\", \"mar1d\"), tidy = TRUE) %>%\n",
    "    arrange(padj) %>% \n",
    "    head(4)"
   ]
  },
  {
   "cell_type": "code",
   "execution_count": null,
   "metadata": {},
   "outputs": [],
   "source": [
    "options(repr.plot.width = 8, repr.plot.height = 4)\n",
    "par(mfrow = c(1, 2))\n",
    "plotCounts(dds, 2,            intgroup = \"Strain\")\n",
    "plotCounts(dds, \"CNAG_03398\", intgroup = \"Strain\")\n",
    "par(mfrow = c(1, 1))"
   ]
  },
  {
   "cell_type": "code",
   "execution_count": null,
   "metadata": {},
   "outputs": [],
   "source": [
    "results(ddsDE, contrast = c(\"Media\", \"YPD\", \"TC\"), tidy = TRUE) %>%\n",
    "    arrange(padj) %>% \n",
    "    head(4)"
   ]
  },
  {
   "cell_type": "code",
   "execution_count": null,
   "metadata": {},
   "outputs": [],
   "source": [
    "options(repr.plot.width = 8, repr.plot.height = 4)\n",
    "par(mfrow = c(1, 2))\n",
    "plotCounts(dds, 2,            intgroup = \"Media\")\n",
    "plotCounts(dds, \"CNAG_03398\", intgroup = \"Media\")\n",
    "par(mfrow = c(1, 1))"
   ]
  },
  {
   "cell_type": "markdown",
   "metadata": {},
   "source": [
    "#  FPM\n",
    "Another approach is to FPM: fragments per million mapped fragments"
   ]
  },
  {
   "cell_type": "code",
   "execution_count": null,
   "metadata": {},
   "outputs": [],
   "source": [
    "head(fpm(dds), 3)"
   ]
  },
  {
   "cell_type": "markdown",
   "metadata": {},
   "source": [
    "Let's calculate the FPM manually. For gene $i$ sample $j$, the FPM is defined as $\\frac{K_{ij}}{D_j}\\times 10^{6}$ where $D_j=\\sum_{i=1} K_{ij}$ is the read depth for sample $j$. First get the read depth for each sample"
   ]
  },
  {
   "cell_type": "code",
   "execution_count": null,
   "metadata": {},
   "outputs": [],
   "source": [
    "D <- colSums(counts(dds)) # colSums: sum of each column, where each column represents a sample\n",
    "D"
   ]
  },
  {
   "cell_type": "markdown",
   "metadata": {},
   "source": [
    "By default, the fpm() function uses a robust approach. We will disable this right now as to replicate the standard FPM. Let's look at gene 1"
   ]
  },
  {
   "cell_type": "code",
   "execution_count": null,
   "metadata": {},
   "outputs": [],
   "source": [
    "fpm1 <- fpm(dds, robust = FALSE)[1,]\n",
    "fpm1"
   ]
  },
  {
   "cell_type": "markdown",
   "metadata": {},
   "source": [
    "Now get the raw counts for gene 1"
   ]
  },
  {
   "cell_type": "code",
   "execution_count": null,
   "metadata": {},
   "outputs": [],
   "source": [
    "cnt1 <- counts(dds)[1,]\n",
    "cnt1"
   ]
  },
  {
   "cell_type": "markdown",
   "metadata": {},
   "source": [
    " Now calculate the FPM for gene 1"
   ]
  },
  {
   "cell_type": "code",
   "execution_count": null,
   "metadata": {
    "scrolled": false
   },
   "outputs": [],
   "source": [
    "myfpm1 <- cnt1 / D * 1e6\n",
    "myfpm1"
   ]
  },
  {
   "cell_type": "markdown",
   "metadata": {},
   "source": [
    "Let's summarize what we have done:"
   ]
  },
  {
   "cell_type": "code",
   "execution_count": null,
   "metadata": {},
   "outputs": [],
   "source": [
    "tmp <- bind_rows(D, cnt1, myfpm1, fpm1)\n",
    "tmp <- t(tmp)\n",
    "colnames(tmp) <- c(\"col_sums\", \"count_gene1\", \"FPM_gene1_manual\", \"FPM_gene1_DESeq\")\n",
    "tmp"
   ]
  },
  {
   "cell_type": "markdown",
   "metadata": {},
   "source": [
    "This is how you check if two numeric columns are \"equal\"? One approach is to calculate the maximum absoute difference"
   ]
  },
  {
   "cell_type": "code",
   "execution_count": null,
   "metadata": {},
   "outputs": [],
   "source": [
    "max(abs(fpm1 - myfpm1))"
   ]
  },
  {
   "cell_type": "markdown",
   "metadata": {},
   "source": [
    "The above approach is also helpful in establishing if the difference is \"small\". Another approach to test for equality to use the all.equal() function"
   ]
  },
  {
   "cell_type": "code",
   "execution_count": null,
   "metadata": {},
   "outputs": [],
   "source": [
    "all.equal(fpm1, myfpm1)"
   ]
  },
  {
   "cell_type": "markdown",
   "metadata": {},
   "source": [
    " It is generally a bad idea to compare numeric vectors using == (e.g., fpm1==myfpm1)"
   ]
  },
  {
   "cell_type": "markdown",
   "metadata": {},
   "source": [
    "### FPKM"
   ]
  },
  {
   "cell_type": "markdown",
   "metadata": {},
   "source": [
    " To calculate the FPKM (fragments per kilobase per million mapped fragments) we need to add annotation to assign the feature lengths. More specifically, for gene $i$ sample $j$, the FPKM is defined as $\\frac{K_{ij}}{\\ell_i D_j}\\times 10^3 \\times 10^{6}$ where $\\ell_i$ is the \"length\" of gene $i$ (fragments for each $10^3$ bases in the gene for every  $\\frac{D_j}{10^6}$ fragments. More on this later."
   ]
  },
  {
   "cell_type": "markdown",
   "metadata": {},
   "source": [
    "# Regularized log transformation\n",
    "The regularized log transform can be obtained using the [rlog() function](https://rdrr.io/bioc/DESeq2/man/rlog.html). Note that an important argument for this function is blind (TRUE by default). The default \"blinds\" the normalization to the design. This is very important so as to not bias the analyses (e.g. class discovery) "
   ]
  },
  {
   "cell_type": "code",
   "execution_count": null,
   "metadata": {},
   "outputs": [],
   "source": [
    "rld <- rlog(dds, blind = TRUE)"
   ]
  },
  {
   "cell_type": "markdown",
   "metadata": {},
   "source": [
    "## Dendrogram of samples: showing strain & media of each sample"
   ]
  },
  {
   "cell_type": "markdown",
   "metadata": {},
   "source": [
    "Hierarchical clustering using rlog transformation"
   ]
  },
  {
   "cell_type": "code",
   "execution_count": null,
   "metadata": {},
   "outputs": [],
   "source": [
    "options(repr.plot.width = 9, repr.plot.height = 5)\n",
    "dists <- dist(t(assay(rld)))\n",
    "plot(hclust(dists)) "
   ]
  },
  {
   "cell_type": "markdown",
   "metadata": {},
   "source": [
    "Store the dendrogram of samples using hierarchical clustering"
   ]
  },
  {
   "cell_type": "code",
   "execution_count": null,
   "metadata": {},
   "outputs": [],
   "source": [
    "assay(rld) %>%\n",
    "    t() %>%\n",
    "    dist %>%\n",
    "    hclust(method = \"complete\") %>%\n",
    "    as.dendrogram ->\n",
    "    mydend"
   ]
  },
  {
   "cell_type": "markdown",
   "metadata": {},
   "source": [
    "Dendrogram of samples: showing strain of each sample"
   ]
  },
  {
   "cell_type": "code",
   "execution_count": null,
   "metadata": {},
   "outputs": [],
   "source": [
    "options(repr.plot.width = 9, repr.plot.height = 5)\n",
    "dendplot(mydend, columnData, \n",
    "         \"Strain\",    # variable that show in label\n",
    "         \"Strain\",    # variable that define color\n",
    "         \"Media\") %>% # variable that define shape of points\n",
    "    plot"
   ]
  },
  {
   "cell_type": "markdown",
   "metadata": {},
   "source": [
    "Dendrogram of samples: showing media of each sample"
   ]
  },
  {
   "cell_type": "code",
   "execution_count": null,
   "metadata": {},
   "outputs": [],
   "source": [
    "dendplot(mydend, columnData, \"Media\", \"Strain\", \"Media\") %>% plot"
   ]
  },
  {
   "cell_type": "markdown",
   "metadata": {},
   "source": [
    "Dendrogram of samples: showing sample label"
   ]
  },
  {
   "cell_type": "code",
   "execution_count": null,
   "metadata": {},
   "outputs": [],
   "source": [
    "dendplot(mydend, columnData, \"Label\", \"Media\", \"Strain\") %>% plot"
   ]
  },
  {
   "cell_type": "markdown",
   "metadata": {},
   "source": [
    "PC Analysis using the rlog transformation"
   ]
  },
  {
   "cell_type": "code",
   "execution_count": null,
   "metadata": {},
   "outputs": [],
   "source": [
    "library(ggplot2)\n",
    "options(repr.plot.width = 7, repr.plot.height = 4)\n",
    "plotPCA(rld, intgroup = \"Media\") + geom_text(label=columnData$Label, color=\"black\")"
   ]
  },
  {
   "cell_type": "markdown",
   "metadata": {},
   "source": [
    "Store the plot into a pdf"
   ]
  },
  {
   "cell_type": "code",
   "execution_count": null,
   "metadata": {},
   "outputs": [],
   "source": [
    "pdf(file.path(IMGDIR, \"dendrogram.pdf\"))\n",
    "dendplot(mydend, columnData, \"Strain\", \"Strain\", \"Media\") %>% plot\n",
    "dendplot(mydend, columnData, \"Media\", \"Strain\", \"Media\") %>% plot\n",
    "dendplot(mydend, columnData, \"Label\", \"Strain\", \"Media\") %>% plot\n",
    "graphics.off()"
   ]
  },
  {
   "cell_type": "markdown",
   "metadata": {},
   "source": [
    "# Variance Stabilizing Transformation (vst) and mean-variance modelling at the observational level (voom)"
   ]
  },
  {
   "cell_type": "markdown",
   "metadata": {},
   "source": [
    " Two other normalization approaches for RNA-Seq count data are provided by the functions DESeq2::vst and limma::voom (note that for the latter one needs the limma package).From ? DESeq2::vst\n",
    "\"This function calculates a variance stabilizing transformation (VST) from the fitted dispersion-mean relation(s) and then transforms the count data (normalized by division by the size factors or normalization factors), yielding a matrix of values which are now approximately homoskedastic (having constant variance along the range of mean values). The transformation also normalizes with respect to library size.\"Compared to DESeq2::rlog\n",
    "\"The ‘rlog’ is less sensitive to size factors, which can be an issue when size factors vary widely. These transformations are useful when checking for outliers or as input for machine learning techniques such as clustering or linear discriminant analysis.\"From ? limma::voom\n",
    "\"Transform count data to log2-counts per million (logCPM), estimate the mean-variance relationship and use this to compute appropriate observation-level weights. The data are then ready for linear modelling.\" Get VST transformation"
   ]
  },
  {
   "cell_type": "code",
   "execution_count": null,
   "metadata": {},
   "outputs": [],
   "source": [
    "VST <- vst(dds)\n",
    "class(VST)"
   ]
  },
  {
   "cell_type": "markdown",
   "metadata": {},
   "source": [
    "Get the VST matrix"
   ]
  },
  {
   "cell_type": "code",
   "execution_count": null,
   "metadata": {},
   "outputs": [],
   "source": [
    "VSTmat <- assay(VST)\n",
    "dim(VSTmat)\n",
    "VSTmat[1:10,]"
   ]
  },
  {
   "cell_type": "markdown",
   "metadata": {},
   "source": [
    "Get voom transformation (note that according to ? limma::voom, the function is expecting raw counts"
   ]
  },
  {
   "cell_type": "code",
   "execution_count": null,
   "metadata": {},
   "outputs": [],
   "source": [
    "VOOM <- limma::voom(counts(dds))"
   ]
  },
  {
   "cell_type": "markdown",
   "metadata": {},
   "source": [
    "Get the VOOM matrix"
   ]
  },
  {
   "cell_type": "code",
   "execution_count": null,
   "metadata": {},
   "outputs": [],
   "source": [
    "VOOMmat <- VOOM$E\n",
    "dim(VOOMmat)\n",
    "VOOMmat[1:10,]"
   ]
  },
  {
   "cell_type": "markdown",
   "metadata": {},
   "source": [
    "# Appendix: Multiplicitive Model"
   ]
  },
  {
   "cell_type": "code",
   "execution_count": null,
   "metadata": {},
   "outputs": [],
   "source": [
    "### Make DESeq object on the basis of the counts\n",
    "dds_mult <- DESeqDataSetFromMatrix(countData, columnData, ~ Media + Strain + Media:Strain)\n",
    "### Estimate Size Factors\n",
    "dds_mult <- estimateSizeFactors(dds_mult)\n",
    "### Estimate Dispersion parameters (for each gene)\n",
    "dds_mult <- estimateDispersions(dds_mult)\n",
    "### Fit NB MLE model\n",
    "dds_mult <- DESeq(dds_mult)\n",
    "### Rlog \"normalized\" expressions\n",
    "rld <- rlog(dds_mult)"
   ]
  },
  {
   "cell_type": "code",
   "execution_count": null,
   "metadata": {},
   "outputs": [],
   "source": [
    "options(repr.plot.width = 8, repr.plot.height = 5)\n",
    "grid.arrange(\n",
    "    myinteractplot(rld, \"CNAG_03398\", \"Strain\"),\n",
    "    myinteractplot(rld, \"CNAG_03623\", \"Strain\"),\n",
    "    myinteractplot(rld, \"CNAG_00727\", \"Strain\"),\n",
    "    myinteractplot(rld, \"CNAG_02587\", \"Strain\"),\n",
    "    ncol=2)"
   ]
  },
  {
   "cell_type": "code",
   "execution_count": null,
   "metadata": {},
   "outputs": [],
   "source": [
    "options(repr.plot.width = 8, repr.plot.height = 5)\n",
    "grid.arrange(\n",
    "    myinteractplot(rld, \"CNAG_03398\", \"media\"),\n",
    "    myinteractplot(rld, \"CNAG_12988\", \"media\"),\n",
    "    myinteractplot(rld, \"CNAG_00183\", \"media\"),\n",
    "    myinteractplot(rld, \"CNAG_02083\", \"media\"),\n",
    "    ncol=2)"
   ]
  },
  {
   "cell_type": "markdown",
   "metadata": {},
   "source": [
    "# Appendix: Get Session Information"
   ]
  },
  {
   "cell_type": "code",
   "execution_count": null,
   "metadata": {},
   "outputs": [],
   "source": [
    "sessionInfo()"
   ]
  },
  {
   "cell_type": "code",
   "execution_count": 87,
   "metadata": {},
   "outputs": [
    {
     "data": {
      "text/plain": [
       "DataFrame with 24 rows and 23 columns\n",
       "                    Label sample_year       group enrich_rep RNA_sample_num\n",
       "              <character>   <numeric> <character>  <numeric>      <numeric>\n",
       "1_2019_P_M1   1_2019_P_M1        2019           P          1              1\n",
       "2_2019_P_M1   2_2019_P_M1        2019           P          1              2\n",
       "3_2019_P_M1   3_2019_P_M1        2019           P          1              3\n",
       "4_2019_P_M1   4_2019_P_M1        2019           P          1              4\n",
       "5_2019_P_M1   5_2019_P_M1        2019           P          1              5\n",
       "...                   ...         ...         ...        ...            ...\n",
       "20_2019_P_M1 20_2019_P_M1        2019           P          1             20\n",
       "21_2019_P_M1 21_2019_P_M1        2019           P          1             21\n",
       "22_2019_P_M1 22_2019_P_M1        2019           P          1             22\n",
       "23_2019_P_M1 23_2019_P_M1        2019           P          1             23\n",
       "24_2019_P_M1 24_2019_P_M1        2019           P          1             24\n",
       "             genotype condition libprep_person enrichment_method\n",
       "             <factor>  <factor>    <character>       <character>\n",
       "1_2019_P_M1        WT       pH4              C              mRNA\n",
       "2_2019_P_M1        WT       pH4              C              mRNA\n",
       "3_2019_P_M1        WT       pH4              C              mRNA\n",
       "4_2019_P_M1        WT       pH4              P              mRNA\n",
       "5_2019_P_M1        WT       pH4              P              mRNA\n",
       "...               ...       ...            ...               ...\n",
       "20_2019_P_M1    sre1d       pH8              C              mRNA\n",
       "21_2019_P_M1    sre1d       pH8              C              mRNA\n",
       "22_2019_P_M1    sre1d       pH8              P              mRNA\n",
       "23_2019_P_M1    sre1d       pH8              P              mRNA\n",
       "24_2019_P_M1    sre1d       pH8              P              mRNA\n",
       "             enrichment_short    i7_index    i5_index   i5_primer   i7_primer\n",
       "                  <character> <character> <character> <character> <character>\n",
       "1_2019_P_M1                 M    ATTACTCG    AGGCTATA        i501        i701\n",
       "2_2019_P_M1                 M    ATTACTCG    GCCTCTAT        i502        i701\n",
       "3_2019_P_M1                 M    ATTACTCG    AGGATAGG        i503        i701\n",
       "4_2019_P_M1                 M    ATTACTCG    TCAGAGCC        i504        i701\n",
       "5_2019_P_M1                 M    ATTACTCG    CTTCGCCT        i505        i701\n",
       "...                       ...         ...         ...         ...         ...\n",
       "20_2019_P_M1                M    CGCTCATT    TCAGAGCC        i504        i703\n",
       "21_2019_P_M1                M    CGCTCATT    CTTCGCCT        i505        i703\n",
       "22_2019_P_M1                M    CGCTCATT    TAAGATTA        i506        i703\n",
       "23_2019_P_M1                M    CGCTCATT    ACGTCCTG        i507        i703\n",
       "24_2019_P_M1                M    CGCTCATT    GTCAGTAC        i508        i703\n",
       "             library_num bio_replicate Nanodrop_260_280 Nanodrop_260_230\n",
       "               <numeric>     <numeric>        <numeric>        <numeric>\n",
       "1_2019_P_M1            1             1             2.14             1.52\n",
       "2_2019_P_M1            2             2             2.12             1.79\n",
       "3_2019_P_M1            3             3             2.11             2.49\n",
       "4_2019_P_M1            4             4             2.13             1.15\n",
       "5_2019_P_M1            5             5             2.09             2.42\n",
       "...                  ...           ...              ...              ...\n",
       "20_2019_P_M1          20             2             2.14             2.39\n",
       "21_2019_P_M1          21             3             2.01             2.22\n",
       "22_2019_P_M1          22             4             2.22             2.33\n",
       "23_2019_P_M1          23             5             2.13             2.56\n",
       "24_2019_P_M1          24             6             2.11             2.16\n",
       "             Nanodrop_concentration_ng_ul Bioanalyzer_concentration_ng_ul\n",
       "                                <numeric>                       <numeric>\n",
       "1_2019_P_M1                           293                             197\n",
       "2_2019_P_M1                           290                             225\n",
       "3_2019_P_M1                           302                             241\n",
       "4_2019_P_M1                           296                             189\n",
       "5_2019_P_M1                           337                             268\n",
       "...                                   ...                             ...\n",
       "20_2019_P_M1                          172                             131\n",
       "21_2019_P_M1                          397                             295\n",
       "22_2019_P_M1                          567                             499\n",
       "23_2019_P_M1                          254                             206\n",
       "24_2019_P_M1                          215                             336\n",
       "             RIN_normal_threshold RIN_lowered_threshold        sizeFactor\n",
       "                      <character>             <numeric>         <numeric>\n",
       "1_2019_P_M1                   N/A                   9.8   1.5916393221245\n",
       "2_2019_P_M1                   N/A                   9.9  1.65871103315141\n",
       "3_2019_P_M1                   N/A                   9.9  1.51289455728943\n",
       "4_2019_P_M1                   N/A                   9.7  1.41966861598247\n",
       "5_2019_P_M1                    10                    10  1.43738473025559\n",
       "...                           ...                   ...               ...\n",
       "20_2019_P_M1                  N/A                    10 0.775571527912074\n",
       "21_2019_P_M1                  N/A                    10 0.583832529967166\n",
       "22_2019_P_M1                   10                    10 0.634399759403834\n",
       "23_2019_P_M1                  N/A                    10 0.755186085659437\n",
       "24_2019_P_M1                   10                    10 0.808836405192349"
      ]
     },
     "metadata": {},
     "output_type": "display_data"
    }
   ],
   "source": [
    "dds@colData"
   ]
  },
  {
   "cell_type": "code",
   "execution_count": null,
   "metadata": {},
   "outputs": [],
   "source": []
  }
 ],
 "metadata": {
  "kernelspec": {
   "display_name": "R",
   "language": "R",
   "name": "ir"
  },
  "language_info": {
   "codemirror_mode": "r",
   "file_extension": ".r",
   "mimetype": "text/x-r-source",
   "name": "R",
   "pygments_lexer": "r",
   "version": "3.6.0"
  }
 },
 "nbformat": 4,
 "nbformat_minor": 2
}
