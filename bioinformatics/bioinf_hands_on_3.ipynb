{
 "cells": [
  {
   "cell_type": "markdown",
   "metadata": {},
   "source": [
    "# Hands On Bioinformatics Exercise #3"
   ]
  },
  {
   "cell_type": "markdown",
   "metadata": {},
   "source": [
    "1. Explore IGV by trying out the suggestions in the [Configurations to explore](igv_visualization.ipynb#Configurations-to-explore) and [Look around](igv_visualization.ipynb#Look-around) sections of the IGV notebook.  Play with other settings!\n",
    "\n",
    "2. In the [IGV visualization](igv_visualization.ipynb) notebook we looked at the data from lanes 1 and 2 of library *21_2019*.  Pick one or more other libraries, generate a BAM(s), download, and view in IGV.\n",
    "\n",
    "## Bonus\n",
    "1. Generate BAMs from an libraries with different treatment (pH4: 1-12, pH8:13-24) and/or different genotype (WT: 1-6 and 13-18, mutant: 7-12 and 19-24) and compare them in IGV\n",
    "2. [Seqmonk](https://www.bioinformatics.babraham.ac.uk/projects/seqmonk/) is an alternative to IGV.  Download it and try it out.\n",
    "3. Try to convert the loop in the [A globy pipeline](glob_loop.ipynb#A-globy-pipeline) section of the *Looping with Globs* notebook into a function and run it with one or more FASTQs."
   ]
  }
 ],
 "metadata": {
  "kernelspec": {
   "display_name": "Bash",
   "language": "bash",
   "name": "bash"
  },
  "language_info": {
   "codemirror_mode": "shell",
   "file_extension": ".sh",
   "mimetype": "text/x-sh",
   "name": "bash"
  }
 },
 "nbformat": 4,
 "nbformat_minor": 2
}
