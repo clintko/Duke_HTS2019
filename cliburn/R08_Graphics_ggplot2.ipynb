{
 "cells": [
  {
   "cell_type": "markdown",
   "metadata": {},
   "source": [
    "# R Graphics"
   ]
  },
  {
   "cell_type": "code",
   "execution_count": null,
   "metadata": {},
   "outputs": [],
   "source": [
    "library(tidyverse)"
   ]
  },
  {
   "cell_type": "code",
   "execution_count": null,
   "metadata": {},
   "outputs": [],
   "source": [
    "options.orig <- options(repr.plot.width=6, repr.plot.height=4)"
   ]
  },
  {
   "cell_type": "markdown",
   "metadata": {},
   "source": [
    "## Simulate some data for plotting"
   ]
  },
  {
   "cell_type": "code",
   "execution_count": null,
   "metadata": {},
   "outputs": [],
   "source": [
    "n <- 100\n",
    "x <- sort(runif(n))\n",
    "y <- x^2 + x + 3 + 0.2*rnorm(n)\n",
    "z <- x^2\n",
    "g <- as.factor(sample(1:4, n, replace=T))\n",
    "df <- tibble(x=x, y=y, z=z, g=g)"
   ]
  },
  {
   "cell_type": "markdown",
   "metadata": {},
   "source": [
    "## Grammar of Graphics"
   ]
  },
  {
   "cell_type": "markdown",
   "metadata": {},
   "source": [
    "`ggplot2` uses a Grammar of Graphics convention to define plots. See [The fundamentals of `gggplot2` explained](https://www.aridhia.com/technical-tutorials/the-fundamentals-of-ggplot-explained/) for a simple epxlanation.\n",
    "\n",
    "The main concents are\n",
    "\n",
    "- **data source**\n",
    "- **map** data elements to visual characteristics (aes)\n",
    "- **type of visual elements** in plot (geom)\n",
    "- **layers** (+)\n",
    "- **facet** to automatically show \"group by\" plots\n",
    "- **scale** to controls how the mapping is made\n",
    "- **statistics** to add summary data to the plot\n",
    "- **themes** to define the look and feel of the plot\n",
    "\n"
   ]
  },
  {
   "cell_type": "code",
   "execution_count": null,
   "metadata": {},
   "outputs": [],
   "source": [
    "g0 <- ggplot(df, aes(x=x, y=y)) \n",
    "\n",
    "g1 <- g0 +\n",
    "geom_point(aes(col=z)) +\n",
    "geom_smooth(method='lm', \n",
    "            formula=y ~ poly(x, 2, raw=TRUE))\n",
    "\n",
    "g2 <- g1 + \n",
    "labs(title=\"ggplot2\", \n",
    "     subtitle=\"Graphics example\",\n",
    "     caption=\"HTS 2018\",\n",
    "     x=\"x-coordinate\",\n",
    "     y=\"y-coordiante\")\n",
    "\n",
    "g3 <- g2 +\n",
    "guides(col=FALSE)"
   ]
  },
  {
   "cell_type": "code",
   "execution_count": null,
   "metadata": {},
   "outputs": [],
   "source": [
    "g0"
   ]
  },
  {
   "cell_type": "code",
   "execution_count": null,
   "metadata": {},
   "outputs": [],
   "source": [
    "g1"
   ]
  },
  {
   "cell_type": "code",
   "execution_count": null,
   "metadata": {},
   "outputs": [],
   "source": [
    "g2"
   ]
  },
  {
   "cell_type": "code",
   "execution_count": null,
   "metadata": {},
   "outputs": [],
   "source": [
    "g3"
   ]
  },
  {
   "cell_type": "markdown",
   "metadata": {},
   "source": [
    "### Interpration\n",
    "\n",
    "- What is the data source?\n",
    "- What mappings are applid to the plot as a whole? To the points?\n",
    "- What labels are specified and where do they appear?\n",
    "- Wthat geometric objects are used for plotitng?\n",
    "- What statistics are added to the plot?\n",
    "- How was layering used to build the plot incrementally?\n",
    "- How were partially completed plot stages saved?"
   ]
  },
  {
   "cell_type": "markdown",
   "metadata": {},
   "source": [
    "### Themes"
   ]
  },
  {
   "cell_type": "code",
   "execution_count": null,
   "metadata": {},
   "outputs": [],
   "source": [
    "g3 + theme_minimal()"
   ]
  },
  {
   "cell_type": "code",
   "execution_count": null,
   "metadata": {},
   "outputs": [],
   "source": [
    "g3 + theme_linedraw()"
   ]
  },
  {
   "cell_type": "code",
   "execution_count": null,
   "metadata": {},
   "outputs": [],
   "source": [
    "g3 + theme_dark()"
   ]
  },
  {
   "cell_type": "markdown",
   "metadata": {},
   "source": [
    "### Facets"
   ]
  },
  {
   "cell_type": "code",
   "execution_count": null,
   "metadata": {},
   "outputs": [],
   "source": [
    "g3 + facet_wrap(facets='g', nrow = 2)"
   ]
  },
  {
   "cell_type": "code",
   "execution_count": null,
   "metadata": {},
   "outputs": [],
   "source": [
    "g3 + facet_grid(~ g)"
   ]
  },
  {
   "cell_type": "code",
   "execution_count": null,
   "metadata": {},
   "outputs": [],
   "source": [
    "g3 + facet_grid(g ~ .)"
   ]
  },
  {
   "cell_type": "markdown",
   "metadata": {},
   "source": [
    "### Scales"
   ]
  },
  {
   "cell_type": "code",
   "execution_count": null,
   "metadata": {},
   "outputs": [],
   "source": [
    "g4 <- ggplot(df, aes(x=x, y=y, col=as.factor(g)) ) +\n",
    "geom_point() +\n",
    "geom_smooth(method='lm', \n",
    "            formula=y ~ poly(x, 2, raw=TRUE)) +\n",
    "labs(title=\"ggplot2\", \n",
    "     subtitle=\"Graphics example\",\n",
    "     caption=\"HTS 2018\",\n",
    "     x=\"x-coordinate\",\n",
    "     y=\"y-coordiante\") +\n",
    "facet_grid(~ g) +\n",
    "guides(col=FALSE)"
   ]
  },
  {
   "cell_type": "markdown",
   "metadata": {},
   "source": [
    "#### Colors"
   ]
  },
  {
   "cell_type": "code",
   "execution_count": null,
   "metadata": {},
   "outputs": [],
   "source": [
    "g4"
   ]
  },
  {
   "cell_type": "code",
   "execution_count": null,
   "metadata": {},
   "outputs": [],
   "source": [
    "g4 + scale_color_brewer()"
   ]
  },
  {
   "cell_type": "code",
   "execution_count": null,
   "metadata": {},
   "outputs": [],
   "source": [
    "g4 + scale_color_brewer(type = 'seq', palette = 'Reds')"
   ]
  },
  {
   "cell_type": "code",
   "execution_count": null,
   "metadata": {},
   "outputs": [],
   "source": [
    "g4 + scale_color_brewer(type = 'qual', palette = 2)"
   ]
  },
  {
   "cell_type": "markdown",
   "metadata": {},
   "source": [
    "#### Palettes available from `brewer`\n",
    "\n",
    "The 3 plots show color maps that are\n",
    "\n",
    "1. Sequential\n",
    "2. Qualitiative\n",
    "3. Divergent"
   ]
  },
  {
   "cell_type": "code",
   "execution_count": null,
   "metadata": {},
   "outputs": [],
   "source": [
    "library(RColorBrewer)"
   ]
  },
  {
   "cell_type": "code",
   "execution_count": null,
   "metadata": {},
   "outputs": [],
   "source": [
    "options.orig <- options(repr.plot.width=6, repr.plot.height=12)\n",
    "display.brewer.all() "
   ]
  },
  {
   "cell_type": "code",
   "execution_count": null,
   "metadata": {},
   "outputs": [],
   "source": [
    "options.orig <- options(repr.plot.width=6, repr.plot.height=4)"
   ]
  },
  {
   "cell_type": "markdown",
   "metadata": {},
   "source": [
    "#### Scales can be used for changing the mapping of `color`, `fill`, `hue`, `size`, `coordinates` ...\n",
    "\n",
    "Here we scale the y-coordinate to show log values."
   ]
  },
  {
   "cell_type": "code",
   "execution_count": null,
   "metadata": {},
   "outputs": [],
   "source": [
    "g4 + scale_y_log10()"
   ]
  },
  {
   "cell_type": "markdown",
   "metadata": {},
   "source": [
    "### Geoms"
   ]
  },
  {
   "cell_type": "code",
   "execution_count": null,
   "metadata": {},
   "outputs": [],
   "source": [
    "g0 + geom_point()"
   ]
  },
  {
   "cell_type": "code",
   "execution_count": null,
   "metadata": {},
   "outputs": [],
   "source": [
    "g0 + geom_line()"
   ]
  },
  {
   "cell_type": "code",
   "execution_count": null,
   "metadata": {},
   "outputs": [],
   "source": [
    "ggplot(df, aes(x=z, fill=g)) + \n",
    "geom_density(aes(alpha=0.1)) +\n",
    "guides(alpha=F)"
   ]
  },
  {
   "cell_type": "code",
   "execution_count": null,
   "metadata": {},
   "outputs": [],
   "source": [
    "g0 + \n",
    "geom_density_2d() + \n",
    "geom_rug()"
   ]
  },
  {
   "cell_type": "code",
   "execution_count": null,
   "metadata": {},
   "outputs": [],
   "source": [
    "head(df)"
   ]
  },
  {
   "cell_type": "markdown",
   "metadata": {},
   "source": [
    "#### `geom_bar` shows counts by default"
   ]
  },
  {
   "cell_type": "code",
   "execution_count": null,
   "metadata": {},
   "outputs": [],
   "source": [
    "ggplot(df, aes(x=g)) + \n",
    "geom_bar() +\n",
    "labs(y=\"Sum of y\") "
   ]
  },
  {
   "cell_type": "markdown",
   "metadata": {},
   "source": [
    "#### Specify `weight` parameter to sum over a column by group"
   ]
  },
  {
   "cell_type": "code",
   "execution_count": null,
   "metadata": {},
   "outputs": [],
   "source": [
    "ggplot(df, aes(x=g, weight=y) )+ \n",
    "geom_bar() +\n",
    "labs(y=\"Sum of y\") "
   ]
  },
  {
   "cell_type": "markdown",
   "metadata": {},
   "source": [
    "#### If you already have counts, specify `stat=identity`"
   ]
  },
  {
   "cell_type": "code",
   "execution_count": null,
   "metadata": {},
   "outputs": [],
   "source": [
    "df_ <- tibble(x=c('A', 'B', 'C'), y=c(10, 14, 18))"
   ]
  },
  {
   "cell_type": "code",
   "execution_count": null,
   "metadata": {},
   "outputs": [],
   "source": [
    "head(df_)"
   ]
  },
  {
   "cell_type": "code",
   "execution_count": null,
   "metadata": {},
   "outputs": [],
   "source": [
    "ggplot(df_, aes(x=x, y=y, fill=x)) + \n",
    "geom_bar(stat='identity') + \n",
    "guides(fill=F)"
   ]
  },
  {
   "cell_type": "code",
   "execution_count": null,
   "metadata": {},
   "outputs": [],
   "source": [
    "ggplot(df, aes(x=g, y=z, fill=g)) + \n",
    "geom_boxplot() +\n",
    "geom_jitter(width=0.2)  + \n",
    "guides(fill=FALSE)"
   ]
  },
  {
   "cell_type": "code",
   "execution_count": null,
   "metadata": {},
   "outputs": [],
   "source": [
    "ggplot(df, aes(x=g, y=z, fill=g)) + \n",
    "geom_boxplot() +\n",
    "geom_jitter(width=0.2) +\n",
    "coord_flip() +\n",
    "guides(fill=FALSE)"
   ]
  },
  {
   "cell_type": "markdown",
   "metadata": {},
   "source": [
    "## Saving plots"
   ]
  },
  {
   "cell_type": "code",
   "execution_count": null,
   "metadata": {},
   "outputs": [],
   "source": [
    "ggsave('figs/box.png')"
   ]
  },
  {
   "cell_type": "code",
   "execution_count": null,
   "metadata": {},
   "outputs": [],
   "source": [
    "ggsave('figs/g3.pdf', g3)"
   ]
  },
  {
   "cell_type": "markdown",
   "metadata": {},
   "source": [
    "### Retrieve saved files"
   ]
  },
  {
   "cell_type": "markdown",
   "metadata": {},
   "source": [
    "<img src=\"figs/box.png\" alt=\"drawing\" width=\"200px\"/>"
   ]
  },
  {
   "cell_type": "markdown",
   "metadata": {},
   "source": [
    "<img src=\"figs/g3.pdf\" alt=\"drawing\" width=\"200px\"/>"
   ]
  },
  {
   "cell_type": "code",
   "execution_count": null,
   "metadata": {},
   "outputs": [],
   "source": []
  }
 ],
 "metadata": {
  "kernelspec": {
   "display_name": "R",
   "language": "R",
   "name": "ir"
  },
  "language_info": {
   "codemirror_mode": "r",
   "file_extension": ".r",
   "mimetype": "text/x-r-source",
   "name": "R",
   "pygments_lexer": "r",
   "version": "3.5.1"
  }
 },
 "nbformat": 4,
 "nbformat_minor": 2
}
