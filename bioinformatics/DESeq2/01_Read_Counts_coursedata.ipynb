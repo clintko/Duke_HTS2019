{
 "cells": [
  {
   "cell_type": "markdown",
   "metadata": {},
   "source": [
    "### Load paths and libraries"
   ]
  },
  {
   "cell_type": "code",
   "execution_count": 2,
   "metadata": {},
   "outputs": [
    {
     "name": "stderr",
     "output_type": "stream",
     "text": [
      "Registered S3 methods overwritten by 'ggplot2':\n",
      "  method         from \n",
      "  [.quosures     rlang\n",
      "  c.quosures     rlang\n",
      "  print.quosures rlang\n",
      "── \u001b[1mAttaching packages\u001b[22m ─────────────────────────────────────── tidyverse 1.2.1 ──\n",
      "\u001b[32m✔\u001b[39m \u001b[34mggplot2\u001b[39m 3.1.1     \u001b[32m✔\u001b[39m \u001b[34mpurrr  \u001b[39m 0.3.2\n",
      "\u001b[32m✔\u001b[39m \u001b[34mtibble \u001b[39m 2.1.2     \u001b[32m✔\u001b[39m \u001b[34mdplyr  \u001b[39m 0.8.1\n",
      "\u001b[32m✔\u001b[39m \u001b[34mtidyr  \u001b[39m 0.8.3     \u001b[32m✔\u001b[39m \u001b[34mstringr\u001b[39m 1.4.0\n",
      "\u001b[32m✔\u001b[39m \u001b[34mreadr  \u001b[39m 1.3.1     \u001b[32m✔\u001b[39m \u001b[34mforcats\u001b[39m 0.4.0\n",
      "── \u001b[1mConflicts\u001b[22m ────────────────────────────────────────── tidyverse_conflicts() ──\n",
      "\u001b[31m✖\u001b[39m \u001b[34mpurrr\u001b[39m::\u001b[32maccumulate()\u001b[39m masks \u001b[34mforeach\u001b[39m::accumulate()\n",
      "\u001b[31m✖\u001b[39m \u001b[34mdplyr\u001b[39m::\u001b[32mfilter()\u001b[39m     masks \u001b[34mstats\u001b[39m::filter()\n",
      "\u001b[31m✖\u001b[39m \u001b[34mdplyr\u001b[39m::\u001b[32mlag()\u001b[39m        masks \u001b[34mstats\u001b[39m::lag()\n",
      "\u001b[31m✖\u001b[39m \u001b[34mpurrr\u001b[39m::\u001b[32mwhen()\u001b[39m       masks \u001b[34mforeach\u001b[39m::when()\n"
     ]
    }
   ],
   "source": [
    "library(foreach)\n",
    "library(tidyverse)"
   ]
  },
  {
   "cell_type": "code",
   "execution_count": 3,
   "metadata": {},
   "outputs": [],
   "source": [
    "data_root_dir <- \"/data/hts_2019_data/\"\n",
    "raw_fastq_dir <- paste(data_root_dir, \"hts2019_pilot_rawdata\", sep = \"\")\n",
    "metadata_file <- file.path(raw_fastq_dir, \"2019_pilot_metadata.tsv\")\n",
    "count_dir <- paste(data_root_dir, \"hts2019_pilot_counts\", sep = \"\")"
   ]
  },
  {
   "cell_type": "markdown",
   "metadata": {},
   "source": [
    "# Create directories\n",
    "\n",
    "Below is an illustration of our folder structure.\n",
    "```\n",
    "scratch\n",
    "└── bioinf_intro\n",
    "└── analysis_output\n",
    "    ├── out -> the folder to store all our output data files\n",
    "    └── img -> the folder to store all our images  \n",
    "```"
   ]
  },
  {
   "cell_type": "code",
   "execution_count": 4,
   "metadata": {},
   "outputs": [],
   "source": [
    "curdir <- \"/home/jovyan/work/scratch/analysis_output\"\n",
    "outdir <- file.path(curdir, \"out\")\n",
    "imgdir <- file.path(curdir, \"img\")"
   ]
  },
  {
   "cell_type": "code",
   "execution_count": 5,
   "metadata": {},
   "outputs": [
    {
     "data": {
      "text/html": [],
      "text/latex": [],
      "text/markdown": [],
      "text/plain": [
       "character(0)"
      ]
     },
     "metadata": {},
     "output_type": "display_data"
    },
    {
     "data": {
      "text/html": [],
      "text/latex": [],
      "text/markdown": [],
      "text/plain": [
       "character(0)"
      ]
     },
     "metadata": {},
     "output_type": "display_data"
    }
   ],
   "source": [
    "system(paste(\"mkdir -p\", outdir), intern = TRUE)\n",
    "system(paste(\"mkdir -p\", imgdir), intern = TRUE)"
   ]
  },
  {
   "cell_type": "code",
   "execution_count": 6,
   "metadata": {},
   "outputs": [],
   "source": [
    "count_suffix <- \"_ReadsPerGene.out.tab\""
   ]
  },
  {
   "cell_type": "code",
   "execution_count": 7,
   "metadata": {},
   "outputs": [],
   "source": [
    "list.files(count_dir, pattern = paste0(count_suffix,\"$\"), full.names = FALSE) -> countfiles"
   ]
  },
  {
   "cell_type": "markdown",
   "metadata": {},
   "source": [
    "### Load STAR Count Data"
   ]
  },
  {
   "cell_type": "code",
   "execution_count": 6,
   "metadata": {},
   "outputs": [
    {
     "data": {
      "text/html": [
       "<dl class=dl-horizontal>\n",
       "\t<dt>1_2019_P_M1_S1_L001_ReadsPerGene.out.tab</dt>\n",
       "\t\t<dd>'1_2019_P_M1_S1_L001_ReadsPerGene.out.tab'</dd>\n",
       "\t<dt>1_2019_P_M1_S1_L002_ReadsPerGene.out.tab</dt>\n",
       "\t\t<dd>'1_2019_P_M1_S1_L002_ReadsPerGene.out.tab'</dd>\n",
       "\t<dt>1_2019_P_M1_S1_L003_ReadsPerGene.out.tab</dt>\n",
       "\t\t<dd>'1_2019_P_M1_S1_L003_ReadsPerGene.out.tab'</dd>\n",
       "\t<dt>1_2019_P_M1_S1_L004_ReadsPerGene.out.tab</dt>\n",
       "\t\t<dd>'1_2019_P_M1_S1_L004_ReadsPerGene.out.tab'</dd>\n",
       "\t<dt>10_2019_P_M1_S10_L001_ReadsPerGene.out.tab</dt>\n",
       "\t\t<dd>'10_2019_P_M1_S10_L001_ReadsPerGene.out.tab'</dd>\n",
       "\t<dt>10_2019_P_M1_S10_L002_ReadsPerGene.out.tab</dt>\n",
       "\t\t<dd>'10_2019_P_M1_S10_L002_ReadsPerGene.out.tab'</dd>\n",
       "\t<dt>10_2019_P_M1_S10_L003_ReadsPerGene.out.tab</dt>\n",
       "\t\t<dd>'10_2019_P_M1_S10_L003_ReadsPerGene.out.tab'</dd>\n",
       "\t<dt>10_2019_P_M1_S10_L004_ReadsPerGene.out.tab</dt>\n",
       "\t\t<dd>'10_2019_P_M1_S10_L004_ReadsPerGene.out.tab'</dd>\n",
       "\t<dt>11_2019_P_M1_S11_L001_ReadsPerGene.out.tab</dt>\n",
       "\t\t<dd>'11_2019_P_M1_S11_L001_ReadsPerGene.out.tab'</dd>\n",
       "\t<dt>11_2019_P_M1_S11_L002_ReadsPerGene.out.tab</dt>\n",
       "\t\t<dd>'11_2019_P_M1_S11_L002_ReadsPerGene.out.tab'</dd>\n",
       "\t<dt>11_2019_P_M1_S11_L003_ReadsPerGene.out.tab</dt>\n",
       "\t\t<dd>'11_2019_P_M1_S11_L003_ReadsPerGene.out.tab'</dd>\n",
       "\t<dt>11_2019_P_M1_S11_L004_ReadsPerGene.out.tab</dt>\n",
       "\t\t<dd>'11_2019_P_M1_S11_L004_ReadsPerGene.out.tab'</dd>\n",
       "\t<dt>12_2019_P_M1_S12_L001_ReadsPerGene.out.tab</dt>\n",
       "\t\t<dd>'12_2019_P_M1_S12_L001_ReadsPerGene.out.tab'</dd>\n",
       "\t<dt>12_2019_P_M1_S12_L002_ReadsPerGene.out.tab</dt>\n",
       "\t\t<dd>'12_2019_P_M1_S12_L002_ReadsPerGene.out.tab'</dd>\n",
       "\t<dt>12_2019_P_M1_S12_L003_ReadsPerGene.out.tab</dt>\n",
       "\t\t<dd>'12_2019_P_M1_S12_L003_ReadsPerGene.out.tab'</dd>\n",
       "\t<dt>12_2019_P_M1_S12_L004_ReadsPerGene.out.tab</dt>\n",
       "\t\t<dd>'12_2019_P_M1_S12_L004_ReadsPerGene.out.tab'</dd>\n",
       "\t<dt>13_2019_P_M1_S13_L001_ReadsPerGene.out.tab</dt>\n",
       "\t\t<dd>'13_2019_P_M1_S13_L001_ReadsPerGene.out.tab'</dd>\n",
       "\t<dt>13_2019_P_M1_S13_L002_ReadsPerGene.out.tab</dt>\n",
       "\t\t<dd>'13_2019_P_M1_S13_L002_ReadsPerGene.out.tab'</dd>\n",
       "\t<dt>13_2019_P_M1_S13_L003_ReadsPerGene.out.tab</dt>\n",
       "\t\t<dd>'13_2019_P_M1_S13_L003_ReadsPerGene.out.tab'</dd>\n",
       "\t<dt>13_2019_P_M1_S13_L004_ReadsPerGene.out.tab</dt>\n",
       "\t\t<dd>'13_2019_P_M1_S13_L004_ReadsPerGene.out.tab'</dd>\n",
       "\t<dt>14_2019_P_M1_S14_L001_ReadsPerGene.out.tab</dt>\n",
       "\t\t<dd>'14_2019_P_M1_S14_L001_ReadsPerGene.out.tab'</dd>\n",
       "\t<dt>14_2019_P_M1_S14_L002_ReadsPerGene.out.tab</dt>\n",
       "\t\t<dd>'14_2019_P_M1_S14_L002_ReadsPerGene.out.tab'</dd>\n",
       "\t<dt>14_2019_P_M1_S14_L003_ReadsPerGene.out.tab</dt>\n",
       "\t\t<dd>'14_2019_P_M1_S14_L003_ReadsPerGene.out.tab'</dd>\n",
       "\t<dt>14_2019_P_M1_S14_L004_ReadsPerGene.out.tab</dt>\n",
       "\t\t<dd>'14_2019_P_M1_S14_L004_ReadsPerGene.out.tab'</dd>\n",
       "\t<dt>15_2019_P_M1_S15_L001_ReadsPerGene.out.tab</dt>\n",
       "\t\t<dd>'15_2019_P_M1_S15_L001_ReadsPerGene.out.tab'</dd>\n",
       "\t<dt>15_2019_P_M1_S15_L002_ReadsPerGene.out.tab</dt>\n",
       "\t\t<dd>'15_2019_P_M1_S15_L002_ReadsPerGene.out.tab'</dd>\n",
       "\t<dt>15_2019_P_M1_S15_L003_ReadsPerGene.out.tab</dt>\n",
       "\t\t<dd>'15_2019_P_M1_S15_L003_ReadsPerGene.out.tab'</dd>\n",
       "\t<dt>15_2019_P_M1_S15_L004_ReadsPerGene.out.tab</dt>\n",
       "\t\t<dd>'15_2019_P_M1_S15_L004_ReadsPerGene.out.tab'</dd>\n",
       "\t<dt>16_2019_P_M1_S16_L001_ReadsPerGene.out.tab</dt>\n",
       "\t\t<dd>'16_2019_P_M1_S16_L001_ReadsPerGene.out.tab'</dd>\n",
       "\t<dt>16_2019_P_M1_S16_L002_ReadsPerGene.out.tab</dt>\n",
       "\t\t<dd>'16_2019_P_M1_S16_L002_ReadsPerGene.out.tab'</dd>\n",
       "\t<dt>16_2019_P_M1_S16_L003_ReadsPerGene.out.tab</dt>\n",
       "\t\t<dd>'16_2019_P_M1_S16_L003_ReadsPerGene.out.tab'</dd>\n",
       "\t<dt>16_2019_P_M1_S16_L004_ReadsPerGene.out.tab</dt>\n",
       "\t\t<dd>'16_2019_P_M1_S16_L004_ReadsPerGene.out.tab'</dd>\n",
       "\t<dt>17_2019_P_M1_S17_L001_ReadsPerGene.out.tab</dt>\n",
       "\t\t<dd>'17_2019_P_M1_S17_L001_ReadsPerGene.out.tab'</dd>\n",
       "\t<dt>17_2019_P_M1_S17_L002_ReadsPerGene.out.tab</dt>\n",
       "\t\t<dd>'17_2019_P_M1_S17_L002_ReadsPerGene.out.tab'</dd>\n",
       "\t<dt>17_2019_P_M1_S17_L003_ReadsPerGene.out.tab</dt>\n",
       "\t\t<dd>'17_2019_P_M1_S17_L003_ReadsPerGene.out.tab'</dd>\n",
       "\t<dt>17_2019_P_M1_S17_L004_ReadsPerGene.out.tab</dt>\n",
       "\t\t<dd>'17_2019_P_M1_S17_L004_ReadsPerGene.out.tab'</dd>\n",
       "\t<dt>18_2019_P_M1_S18_L001_ReadsPerGene.out.tab</dt>\n",
       "\t\t<dd>'18_2019_P_M1_S18_L001_ReadsPerGene.out.tab'</dd>\n",
       "\t<dt>18_2019_P_M1_S18_L002_ReadsPerGene.out.tab</dt>\n",
       "\t\t<dd>'18_2019_P_M1_S18_L002_ReadsPerGene.out.tab'</dd>\n",
       "\t<dt>18_2019_P_M1_S18_L003_ReadsPerGene.out.tab</dt>\n",
       "\t\t<dd>'18_2019_P_M1_S18_L003_ReadsPerGene.out.tab'</dd>\n",
       "\t<dt>18_2019_P_M1_S18_L004_ReadsPerGene.out.tab</dt>\n",
       "\t\t<dd>'18_2019_P_M1_S18_L004_ReadsPerGene.out.tab'</dd>\n",
       "\t<dt>19_2019_P_M1_S19_L001_ReadsPerGene.out.tab</dt>\n",
       "\t\t<dd>'19_2019_P_M1_S19_L001_ReadsPerGene.out.tab'</dd>\n",
       "\t<dt>19_2019_P_M1_S19_L002_ReadsPerGene.out.tab</dt>\n",
       "\t\t<dd>'19_2019_P_M1_S19_L002_ReadsPerGene.out.tab'</dd>\n",
       "\t<dt>19_2019_P_M1_S19_L003_ReadsPerGene.out.tab</dt>\n",
       "\t\t<dd>'19_2019_P_M1_S19_L003_ReadsPerGene.out.tab'</dd>\n",
       "\t<dt>19_2019_P_M1_S19_L004_ReadsPerGene.out.tab</dt>\n",
       "\t\t<dd>'19_2019_P_M1_S19_L004_ReadsPerGene.out.tab'</dd>\n",
       "\t<dt>2_2018_P_M1_S34_L001_ReadsPerGene.out.tab</dt>\n",
       "\t\t<dd>'2_2018_P_M1_S34_L001_ReadsPerGene.out.tab'</dd>\n",
       "\t<dt>2_2018_P_M1_S34_L002_ReadsPerGene.out.tab</dt>\n",
       "\t\t<dd>'2_2018_P_M1_S34_L002_ReadsPerGene.out.tab'</dd>\n",
       "\t<dt>2_2018_P_M1_S34_L003_ReadsPerGene.out.tab</dt>\n",
       "\t\t<dd>'2_2018_P_M1_S34_L003_ReadsPerGene.out.tab'</dd>\n",
       "\t<dt>2_2018_P_M1_S34_L004_ReadsPerGene.out.tab</dt>\n",
       "\t\t<dd>'2_2018_P_M1_S34_L004_ReadsPerGene.out.tab'</dd>\n",
       "\t<dt>2_2019_P_M1_S2_L001_ReadsPerGene.out.tab</dt>\n",
       "\t\t<dd>'2_2019_P_M1_S2_L001_ReadsPerGene.out.tab'</dd>\n",
       "\t<dt>2_2019_P_M1_S2_L002_ReadsPerGene.out.tab</dt>\n",
       "\t\t<dd>'2_2019_P_M1_S2_L002_ReadsPerGene.out.tab'</dd>\n",
       "\t<dt>2_2019_P_M1_S2_L003_ReadsPerGene.out.tab</dt>\n",
       "\t\t<dd>'2_2019_P_M1_S2_L003_ReadsPerGene.out.tab'</dd>\n",
       "\t<dt>2_2019_P_M1_S2_L004_ReadsPerGene.out.tab</dt>\n",
       "\t\t<dd>'2_2019_P_M1_S2_L004_ReadsPerGene.out.tab'</dd>\n",
       "\t<dt>20_2019_P_M1_S20_L001_ReadsPerGene.out.tab</dt>\n",
       "\t\t<dd>'20_2019_P_M1_S20_L001_ReadsPerGene.out.tab'</dd>\n",
       "\t<dt>20_2019_P_M1_S20_L002_ReadsPerGene.out.tab</dt>\n",
       "\t\t<dd>'20_2019_P_M1_S20_L002_ReadsPerGene.out.tab'</dd>\n",
       "\t<dt>20_2019_P_M1_S20_L003_ReadsPerGene.out.tab</dt>\n",
       "\t\t<dd>'20_2019_P_M1_S20_L003_ReadsPerGene.out.tab'</dd>\n",
       "\t<dt>20_2019_P_M1_S20_L004_ReadsPerGene.out.tab</dt>\n",
       "\t\t<dd>'20_2019_P_M1_S20_L004_ReadsPerGene.out.tab'</dd>\n",
       "\t<dt>21_2019_P_M1_S21_L001_ReadsPerGene.out.tab</dt>\n",
       "\t\t<dd>'21_2019_P_M1_S21_L001_ReadsPerGene.out.tab'</dd>\n",
       "\t<dt>21_2019_P_M1_S21_L002_ReadsPerGene.out.tab</dt>\n",
       "\t\t<dd>'21_2019_P_M1_S21_L002_ReadsPerGene.out.tab'</dd>\n",
       "\t<dt>21_2019_P_M1_S21_L003_ReadsPerGene.out.tab</dt>\n",
       "\t\t<dd>'21_2019_P_M1_S21_L003_ReadsPerGene.out.tab'</dd>\n",
       "\t<dt>21_2019_P_M1_S21_L004_ReadsPerGene.out.tab</dt>\n",
       "\t\t<dd>'21_2019_P_M1_S21_L004_ReadsPerGene.out.tab'</dd>\n",
       "\t<dt>22_2019_P_M1_S22_L001_ReadsPerGene.out.tab</dt>\n",
       "\t\t<dd>'22_2019_P_M1_S22_L001_ReadsPerGene.out.tab'</dd>\n",
       "\t<dt>22_2019_P_M1_S22_L002_ReadsPerGene.out.tab</dt>\n",
       "\t\t<dd>'22_2019_P_M1_S22_L002_ReadsPerGene.out.tab'</dd>\n",
       "\t<dt>22_2019_P_M1_S22_L003_ReadsPerGene.out.tab</dt>\n",
       "\t\t<dd>'22_2019_P_M1_S22_L003_ReadsPerGene.out.tab'</dd>\n",
       "\t<dt>22_2019_P_M1_S22_L004_ReadsPerGene.out.tab</dt>\n",
       "\t\t<dd>'22_2019_P_M1_S22_L004_ReadsPerGene.out.tab'</dd>\n",
       "\t<dt>23_2019_P_M1_S23_L001_ReadsPerGene.out.tab</dt>\n",
       "\t\t<dd>'23_2019_P_M1_S23_L001_ReadsPerGene.out.tab'</dd>\n",
       "\t<dt>23_2019_P_M1_S23_L002_ReadsPerGene.out.tab</dt>\n",
       "\t\t<dd>'23_2019_P_M1_S23_L002_ReadsPerGene.out.tab'</dd>\n",
       "\t<dt>23_2019_P_M1_S23_L003_ReadsPerGene.out.tab</dt>\n",
       "\t\t<dd>'23_2019_P_M1_S23_L003_ReadsPerGene.out.tab'</dd>\n",
       "\t<dt>23_2019_P_M1_S23_L004_ReadsPerGene.out.tab</dt>\n",
       "\t\t<dd>'23_2019_P_M1_S23_L004_ReadsPerGene.out.tab'</dd>\n",
       "\t<dt>24_2019_P_M1_S24_L001_ReadsPerGene.out.tab</dt>\n",
       "\t\t<dd>'24_2019_P_M1_S24_L001_ReadsPerGene.out.tab'</dd>\n",
       "\t<dt>24_2019_P_M1_S24_L002_ReadsPerGene.out.tab</dt>\n",
       "\t\t<dd>'24_2019_P_M1_S24_L002_ReadsPerGene.out.tab'</dd>\n",
       "\t<dt>24_2019_P_M1_S24_L003_ReadsPerGene.out.tab</dt>\n",
       "\t\t<dd>'24_2019_P_M1_S24_L003_ReadsPerGene.out.tab'</dd>\n",
       "\t<dt>24_2019_P_M1_S24_L004_ReadsPerGene.out.tab</dt>\n",
       "\t\t<dd>'24_2019_P_M1_S24_L004_ReadsPerGene.out.tab'</dd>\n",
       "\t<dt>3_2018_P_M1_S35_L001_ReadsPerGene.out.tab</dt>\n",
       "\t\t<dd>'3_2018_P_M1_S35_L001_ReadsPerGene.out.tab'</dd>\n",
       "\t<dt>3_2018_P_M1_S35_L002_ReadsPerGene.out.tab</dt>\n",
       "\t\t<dd>'3_2018_P_M1_S35_L002_ReadsPerGene.out.tab'</dd>\n",
       "\t<dt>3_2018_P_M1_S35_L003_ReadsPerGene.out.tab</dt>\n",
       "\t\t<dd>'3_2018_P_M1_S35_L003_ReadsPerGene.out.tab'</dd>\n",
       "\t<dt>3_2018_P_M1_S35_L004_ReadsPerGene.out.tab</dt>\n",
       "\t\t<dd>'3_2018_P_M1_S35_L004_ReadsPerGene.out.tab'</dd>\n",
       "\t<dt>3_2019_P_M1_S3_L001_ReadsPerGene.out.tab</dt>\n",
       "\t\t<dd>'3_2019_P_M1_S3_L001_ReadsPerGene.out.tab'</dd>\n",
       "\t<dt>3_2019_P_M1_S3_L002_ReadsPerGene.out.tab</dt>\n",
       "\t\t<dd>'3_2019_P_M1_S3_L002_ReadsPerGene.out.tab'</dd>\n",
       "\t<dt>3_2019_P_M1_S3_L003_ReadsPerGene.out.tab</dt>\n",
       "\t\t<dd>'3_2019_P_M1_S3_L003_ReadsPerGene.out.tab'</dd>\n",
       "\t<dt>3_2019_P_M1_S3_L004_ReadsPerGene.out.tab</dt>\n",
       "\t\t<dd>'3_2019_P_M1_S3_L004_ReadsPerGene.out.tab'</dd>\n",
       "\t<dt>4_2018_P_M1_S36_L001_ReadsPerGene.out.tab</dt>\n",
       "\t\t<dd>'4_2018_P_M1_S36_L001_ReadsPerGene.out.tab'</dd>\n",
       "\t<dt>4_2018_P_M1_S36_L002_ReadsPerGene.out.tab</dt>\n",
       "\t\t<dd>'4_2018_P_M1_S36_L002_ReadsPerGene.out.tab'</dd>\n",
       "\t<dt>4_2018_P_M1_S36_L003_ReadsPerGene.out.tab</dt>\n",
       "\t\t<dd>'4_2018_P_M1_S36_L003_ReadsPerGene.out.tab'</dd>\n",
       "\t<dt>4_2018_P_M1_S36_L004_ReadsPerGene.out.tab</dt>\n",
       "\t\t<dd>'4_2018_P_M1_S36_L004_ReadsPerGene.out.tab'</dd>\n",
       "\t<dt>4_2019_P_M1_S4_L001_ReadsPerGene.out.tab</dt>\n",
       "\t\t<dd>'4_2019_P_M1_S4_L001_ReadsPerGene.out.tab'</dd>\n",
       "\t<dt>4_2019_P_M1_S4_L002_ReadsPerGene.out.tab</dt>\n",
       "\t\t<dd>'4_2019_P_M1_S4_L002_ReadsPerGene.out.tab'</dd>\n",
       "\t<dt>4_2019_P_M1_S4_L003_ReadsPerGene.out.tab</dt>\n",
       "\t\t<dd>'4_2019_P_M1_S4_L003_ReadsPerGene.out.tab'</dd>\n",
       "\t<dt>4_2019_P_M1_S4_L004_ReadsPerGene.out.tab</dt>\n",
       "\t\t<dd>'4_2019_P_M1_S4_L004_ReadsPerGene.out.tab'</dd>\n",
       "\t<dt>5_2019_P_M1_S5_L001_ReadsPerGene.out.tab</dt>\n",
       "\t\t<dd>'5_2019_P_M1_S5_L001_ReadsPerGene.out.tab'</dd>\n",
       "\t<dt>5_2019_P_M1_S5_L002_ReadsPerGene.out.tab</dt>\n",
       "\t\t<dd>'5_2019_P_M1_S5_L002_ReadsPerGene.out.tab'</dd>\n",
       "\t<dt>5_2019_P_M1_S5_L003_ReadsPerGene.out.tab</dt>\n",
       "\t\t<dd>'5_2019_P_M1_S5_L003_ReadsPerGene.out.tab'</dd>\n",
       "\t<dt>5_2019_P_M1_S5_L004_ReadsPerGene.out.tab</dt>\n",
       "\t\t<dd>'5_2019_P_M1_S5_L004_ReadsPerGene.out.tab'</dd>\n",
       "\t<dt>6_2019_P_M1_S6_L001_ReadsPerGene.out.tab</dt>\n",
       "\t\t<dd>'6_2019_P_M1_S6_L001_ReadsPerGene.out.tab'</dd>\n",
       "\t<dt>6_2019_P_M1_S6_L002_ReadsPerGene.out.tab</dt>\n",
       "\t\t<dd>'6_2019_P_M1_S6_L002_ReadsPerGene.out.tab'</dd>\n",
       "\t<dt>6_2019_P_M1_S6_L003_ReadsPerGene.out.tab</dt>\n",
       "\t\t<dd>'6_2019_P_M1_S6_L003_ReadsPerGene.out.tab'</dd>\n",
       "\t<dt>6_2019_P_M1_S6_L004_ReadsPerGene.out.tab</dt>\n",
       "\t\t<dd>'6_2019_P_M1_S6_L004_ReadsPerGene.out.tab'</dd>\n",
       "\t<dt>7_2019_P_M1_S7_L001_ReadsPerGene.out.tab</dt>\n",
       "\t\t<dd>'7_2019_P_M1_S7_L001_ReadsPerGene.out.tab'</dd>\n",
       "\t<dt>7_2019_P_M1_S7_L002_ReadsPerGene.out.tab</dt>\n",
       "\t\t<dd>'7_2019_P_M1_S7_L002_ReadsPerGene.out.tab'</dd>\n",
       "\t<dt>7_2019_P_M1_S7_L003_ReadsPerGene.out.tab</dt>\n",
       "\t\t<dd>'7_2019_P_M1_S7_L003_ReadsPerGene.out.tab'</dd>\n",
       "\t<dt>7_2019_P_M1_S7_L004_ReadsPerGene.out.tab</dt>\n",
       "\t\t<dd>'7_2019_P_M1_S7_L004_ReadsPerGene.out.tab'</dd>\n",
       "\t<dt>8_2019_P_M1_S8_L001_ReadsPerGene.out.tab</dt>\n",
       "\t\t<dd>'8_2019_P_M1_S8_L001_ReadsPerGene.out.tab'</dd>\n",
       "\t<dt>8_2019_P_M1_S8_L002_ReadsPerGene.out.tab</dt>\n",
       "\t\t<dd>'8_2019_P_M1_S8_L002_ReadsPerGene.out.tab'</dd>\n",
       "\t<dt>8_2019_P_M1_S8_L003_ReadsPerGene.out.tab</dt>\n",
       "\t\t<dd>'8_2019_P_M1_S8_L003_ReadsPerGene.out.tab'</dd>\n",
       "\t<dt>8_2019_P_M1_S8_L004_ReadsPerGene.out.tab</dt>\n",
       "\t\t<dd>'8_2019_P_M1_S8_L004_ReadsPerGene.out.tab'</dd>\n",
       "\t<dt>9_2019_P_M1_S9_L001_ReadsPerGene.out.tab</dt>\n",
       "\t\t<dd>'9_2019_P_M1_S9_L001_ReadsPerGene.out.tab'</dd>\n",
       "\t<dt>9_2019_P_M1_S9_L002_ReadsPerGene.out.tab</dt>\n",
       "\t\t<dd>'9_2019_P_M1_S9_L002_ReadsPerGene.out.tab'</dd>\n",
       "\t<dt>9_2019_P_M1_S9_L003_ReadsPerGene.out.tab</dt>\n",
       "\t\t<dd>'9_2019_P_M1_S9_L003_ReadsPerGene.out.tab'</dd>\n",
       "\t<dt>9_2019_P_M1_S9_L004_ReadsPerGene.out.tab</dt>\n",
       "\t\t<dd>'9_2019_P_M1_S9_L004_ReadsPerGene.out.tab'</dd>\n",
       "</dl>\n"
      ],
      "text/latex": [
       "\\begin{description*}\n",
       "\\item[1\\textbackslash{}\\_2019\\textbackslash{}\\_P\\textbackslash{}\\_M1\\textbackslash{}\\_S1\\textbackslash{}\\_L001\\textbackslash{}\\_ReadsPerGene.out.tab] '1\\_2019\\_P\\_M1\\_S1\\_L001\\_ReadsPerGene.out.tab'\n",
       "\\item[1\\textbackslash{}\\_2019\\textbackslash{}\\_P\\textbackslash{}\\_M1\\textbackslash{}\\_S1\\textbackslash{}\\_L002\\textbackslash{}\\_ReadsPerGene.out.tab] '1\\_2019\\_P\\_M1\\_S1\\_L002\\_ReadsPerGene.out.tab'\n",
       "\\item[1\\textbackslash{}\\_2019\\textbackslash{}\\_P\\textbackslash{}\\_M1\\textbackslash{}\\_S1\\textbackslash{}\\_L003\\textbackslash{}\\_ReadsPerGene.out.tab] '1\\_2019\\_P\\_M1\\_S1\\_L003\\_ReadsPerGene.out.tab'\n",
       "\\item[1\\textbackslash{}\\_2019\\textbackslash{}\\_P\\textbackslash{}\\_M1\\textbackslash{}\\_S1\\textbackslash{}\\_L004\\textbackslash{}\\_ReadsPerGene.out.tab] '1\\_2019\\_P\\_M1\\_S1\\_L004\\_ReadsPerGene.out.tab'\n",
       "\\item[10\\textbackslash{}\\_2019\\textbackslash{}\\_P\\textbackslash{}\\_M1\\textbackslash{}\\_S10\\textbackslash{}\\_L001\\textbackslash{}\\_ReadsPerGene.out.tab] '10\\_2019\\_P\\_M1\\_S10\\_L001\\_ReadsPerGene.out.tab'\n",
       "\\item[10\\textbackslash{}\\_2019\\textbackslash{}\\_P\\textbackslash{}\\_M1\\textbackslash{}\\_S10\\textbackslash{}\\_L002\\textbackslash{}\\_ReadsPerGene.out.tab] '10\\_2019\\_P\\_M1\\_S10\\_L002\\_ReadsPerGene.out.tab'\n",
       "\\item[10\\textbackslash{}\\_2019\\textbackslash{}\\_P\\textbackslash{}\\_M1\\textbackslash{}\\_S10\\textbackslash{}\\_L003\\textbackslash{}\\_ReadsPerGene.out.tab] '10\\_2019\\_P\\_M1\\_S10\\_L003\\_ReadsPerGene.out.tab'\n",
       "\\item[10\\textbackslash{}\\_2019\\textbackslash{}\\_P\\textbackslash{}\\_M1\\textbackslash{}\\_S10\\textbackslash{}\\_L004\\textbackslash{}\\_ReadsPerGene.out.tab] '10\\_2019\\_P\\_M1\\_S10\\_L004\\_ReadsPerGene.out.tab'\n",
       "\\item[11\\textbackslash{}\\_2019\\textbackslash{}\\_P\\textbackslash{}\\_M1\\textbackslash{}\\_S11\\textbackslash{}\\_L001\\textbackslash{}\\_ReadsPerGene.out.tab] '11\\_2019\\_P\\_M1\\_S11\\_L001\\_ReadsPerGene.out.tab'\n",
       "\\item[11\\textbackslash{}\\_2019\\textbackslash{}\\_P\\textbackslash{}\\_M1\\textbackslash{}\\_S11\\textbackslash{}\\_L002\\textbackslash{}\\_ReadsPerGene.out.tab] '11\\_2019\\_P\\_M1\\_S11\\_L002\\_ReadsPerGene.out.tab'\n",
       "\\item[11\\textbackslash{}\\_2019\\textbackslash{}\\_P\\textbackslash{}\\_M1\\textbackslash{}\\_S11\\textbackslash{}\\_L003\\textbackslash{}\\_ReadsPerGene.out.tab] '11\\_2019\\_P\\_M1\\_S11\\_L003\\_ReadsPerGene.out.tab'\n",
       "\\item[11\\textbackslash{}\\_2019\\textbackslash{}\\_P\\textbackslash{}\\_M1\\textbackslash{}\\_S11\\textbackslash{}\\_L004\\textbackslash{}\\_ReadsPerGene.out.tab] '11\\_2019\\_P\\_M1\\_S11\\_L004\\_ReadsPerGene.out.tab'\n",
       "\\item[12\\textbackslash{}\\_2019\\textbackslash{}\\_P\\textbackslash{}\\_M1\\textbackslash{}\\_S12\\textbackslash{}\\_L001\\textbackslash{}\\_ReadsPerGene.out.tab] '12\\_2019\\_P\\_M1\\_S12\\_L001\\_ReadsPerGene.out.tab'\n",
       "\\item[12\\textbackslash{}\\_2019\\textbackslash{}\\_P\\textbackslash{}\\_M1\\textbackslash{}\\_S12\\textbackslash{}\\_L002\\textbackslash{}\\_ReadsPerGene.out.tab] '12\\_2019\\_P\\_M1\\_S12\\_L002\\_ReadsPerGene.out.tab'\n",
       "\\item[12\\textbackslash{}\\_2019\\textbackslash{}\\_P\\textbackslash{}\\_M1\\textbackslash{}\\_S12\\textbackslash{}\\_L003\\textbackslash{}\\_ReadsPerGene.out.tab] '12\\_2019\\_P\\_M1\\_S12\\_L003\\_ReadsPerGene.out.tab'\n",
       "\\item[12\\textbackslash{}\\_2019\\textbackslash{}\\_P\\textbackslash{}\\_M1\\textbackslash{}\\_S12\\textbackslash{}\\_L004\\textbackslash{}\\_ReadsPerGene.out.tab] '12\\_2019\\_P\\_M1\\_S12\\_L004\\_ReadsPerGene.out.tab'\n",
       "\\item[13\\textbackslash{}\\_2019\\textbackslash{}\\_P\\textbackslash{}\\_M1\\textbackslash{}\\_S13\\textbackslash{}\\_L001\\textbackslash{}\\_ReadsPerGene.out.tab] '13\\_2019\\_P\\_M1\\_S13\\_L001\\_ReadsPerGene.out.tab'\n",
       "\\item[13\\textbackslash{}\\_2019\\textbackslash{}\\_P\\textbackslash{}\\_M1\\textbackslash{}\\_S13\\textbackslash{}\\_L002\\textbackslash{}\\_ReadsPerGene.out.tab] '13\\_2019\\_P\\_M1\\_S13\\_L002\\_ReadsPerGene.out.tab'\n",
       "\\item[13\\textbackslash{}\\_2019\\textbackslash{}\\_P\\textbackslash{}\\_M1\\textbackslash{}\\_S13\\textbackslash{}\\_L003\\textbackslash{}\\_ReadsPerGene.out.tab] '13\\_2019\\_P\\_M1\\_S13\\_L003\\_ReadsPerGene.out.tab'\n",
       "\\item[13\\textbackslash{}\\_2019\\textbackslash{}\\_P\\textbackslash{}\\_M1\\textbackslash{}\\_S13\\textbackslash{}\\_L004\\textbackslash{}\\_ReadsPerGene.out.tab] '13\\_2019\\_P\\_M1\\_S13\\_L004\\_ReadsPerGene.out.tab'\n",
       "\\item[14\\textbackslash{}\\_2019\\textbackslash{}\\_P\\textbackslash{}\\_M1\\textbackslash{}\\_S14\\textbackslash{}\\_L001\\textbackslash{}\\_ReadsPerGene.out.tab] '14\\_2019\\_P\\_M1\\_S14\\_L001\\_ReadsPerGene.out.tab'\n",
       "\\item[14\\textbackslash{}\\_2019\\textbackslash{}\\_P\\textbackslash{}\\_M1\\textbackslash{}\\_S14\\textbackslash{}\\_L002\\textbackslash{}\\_ReadsPerGene.out.tab] '14\\_2019\\_P\\_M1\\_S14\\_L002\\_ReadsPerGene.out.tab'\n",
       "\\item[14\\textbackslash{}\\_2019\\textbackslash{}\\_P\\textbackslash{}\\_M1\\textbackslash{}\\_S14\\textbackslash{}\\_L003\\textbackslash{}\\_ReadsPerGene.out.tab] '14\\_2019\\_P\\_M1\\_S14\\_L003\\_ReadsPerGene.out.tab'\n",
       "\\item[14\\textbackslash{}\\_2019\\textbackslash{}\\_P\\textbackslash{}\\_M1\\textbackslash{}\\_S14\\textbackslash{}\\_L004\\textbackslash{}\\_ReadsPerGene.out.tab] '14\\_2019\\_P\\_M1\\_S14\\_L004\\_ReadsPerGene.out.tab'\n",
       "\\item[15\\textbackslash{}\\_2019\\textbackslash{}\\_P\\textbackslash{}\\_M1\\textbackslash{}\\_S15\\textbackslash{}\\_L001\\textbackslash{}\\_ReadsPerGene.out.tab] '15\\_2019\\_P\\_M1\\_S15\\_L001\\_ReadsPerGene.out.tab'\n",
       "\\item[15\\textbackslash{}\\_2019\\textbackslash{}\\_P\\textbackslash{}\\_M1\\textbackslash{}\\_S15\\textbackslash{}\\_L002\\textbackslash{}\\_ReadsPerGene.out.tab] '15\\_2019\\_P\\_M1\\_S15\\_L002\\_ReadsPerGene.out.tab'\n",
       "\\item[15\\textbackslash{}\\_2019\\textbackslash{}\\_P\\textbackslash{}\\_M1\\textbackslash{}\\_S15\\textbackslash{}\\_L003\\textbackslash{}\\_ReadsPerGene.out.tab] '15\\_2019\\_P\\_M1\\_S15\\_L003\\_ReadsPerGene.out.tab'\n",
       "\\item[15\\textbackslash{}\\_2019\\textbackslash{}\\_P\\textbackslash{}\\_M1\\textbackslash{}\\_S15\\textbackslash{}\\_L004\\textbackslash{}\\_ReadsPerGene.out.tab] '15\\_2019\\_P\\_M1\\_S15\\_L004\\_ReadsPerGene.out.tab'\n",
       "\\item[16\\textbackslash{}\\_2019\\textbackslash{}\\_P\\textbackslash{}\\_M1\\textbackslash{}\\_S16\\textbackslash{}\\_L001\\textbackslash{}\\_ReadsPerGene.out.tab] '16\\_2019\\_P\\_M1\\_S16\\_L001\\_ReadsPerGene.out.tab'\n",
       "\\item[16\\textbackslash{}\\_2019\\textbackslash{}\\_P\\textbackslash{}\\_M1\\textbackslash{}\\_S16\\textbackslash{}\\_L002\\textbackslash{}\\_ReadsPerGene.out.tab] '16\\_2019\\_P\\_M1\\_S16\\_L002\\_ReadsPerGene.out.tab'\n",
       "\\item[16\\textbackslash{}\\_2019\\textbackslash{}\\_P\\textbackslash{}\\_M1\\textbackslash{}\\_S16\\textbackslash{}\\_L003\\textbackslash{}\\_ReadsPerGene.out.tab] '16\\_2019\\_P\\_M1\\_S16\\_L003\\_ReadsPerGene.out.tab'\n",
       "\\item[16\\textbackslash{}\\_2019\\textbackslash{}\\_P\\textbackslash{}\\_M1\\textbackslash{}\\_S16\\textbackslash{}\\_L004\\textbackslash{}\\_ReadsPerGene.out.tab] '16\\_2019\\_P\\_M1\\_S16\\_L004\\_ReadsPerGene.out.tab'\n",
       "\\item[17\\textbackslash{}\\_2019\\textbackslash{}\\_P\\textbackslash{}\\_M1\\textbackslash{}\\_S17\\textbackslash{}\\_L001\\textbackslash{}\\_ReadsPerGene.out.tab] '17\\_2019\\_P\\_M1\\_S17\\_L001\\_ReadsPerGene.out.tab'\n",
       "\\item[17\\textbackslash{}\\_2019\\textbackslash{}\\_P\\textbackslash{}\\_M1\\textbackslash{}\\_S17\\textbackslash{}\\_L002\\textbackslash{}\\_ReadsPerGene.out.tab] '17\\_2019\\_P\\_M1\\_S17\\_L002\\_ReadsPerGene.out.tab'\n",
       "\\item[17\\textbackslash{}\\_2019\\textbackslash{}\\_P\\textbackslash{}\\_M1\\textbackslash{}\\_S17\\textbackslash{}\\_L003\\textbackslash{}\\_ReadsPerGene.out.tab] '17\\_2019\\_P\\_M1\\_S17\\_L003\\_ReadsPerGene.out.tab'\n",
       "\\item[17\\textbackslash{}\\_2019\\textbackslash{}\\_P\\textbackslash{}\\_M1\\textbackslash{}\\_S17\\textbackslash{}\\_L004\\textbackslash{}\\_ReadsPerGene.out.tab] '17\\_2019\\_P\\_M1\\_S17\\_L004\\_ReadsPerGene.out.tab'\n",
       "\\item[18\\textbackslash{}\\_2019\\textbackslash{}\\_P\\textbackslash{}\\_M1\\textbackslash{}\\_S18\\textbackslash{}\\_L001\\textbackslash{}\\_ReadsPerGene.out.tab] '18\\_2019\\_P\\_M1\\_S18\\_L001\\_ReadsPerGene.out.tab'\n",
       "\\item[18\\textbackslash{}\\_2019\\textbackslash{}\\_P\\textbackslash{}\\_M1\\textbackslash{}\\_S18\\textbackslash{}\\_L002\\textbackslash{}\\_ReadsPerGene.out.tab] '18\\_2019\\_P\\_M1\\_S18\\_L002\\_ReadsPerGene.out.tab'\n",
       "\\item[18\\textbackslash{}\\_2019\\textbackslash{}\\_P\\textbackslash{}\\_M1\\textbackslash{}\\_S18\\textbackslash{}\\_L003\\textbackslash{}\\_ReadsPerGene.out.tab] '18\\_2019\\_P\\_M1\\_S18\\_L003\\_ReadsPerGene.out.tab'\n",
       "\\item[18\\textbackslash{}\\_2019\\textbackslash{}\\_P\\textbackslash{}\\_M1\\textbackslash{}\\_S18\\textbackslash{}\\_L004\\textbackslash{}\\_ReadsPerGene.out.tab] '18\\_2019\\_P\\_M1\\_S18\\_L004\\_ReadsPerGene.out.tab'\n",
       "\\item[19\\textbackslash{}\\_2019\\textbackslash{}\\_P\\textbackslash{}\\_M1\\textbackslash{}\\_S19\\textbackslash{}\\_L001\\textbackslash{}\\_ReadsPerGene.out.tab] '19\\_2019\\_P\\_M1\\_S19\\_L001\\_ReadsPerGene.out.tab'\n",
       "\\item[19\\textbackslash{}\\_2019\\textbackslash{}\\_P\\textbackslash{}\\_M1\\textbackslash{}\\_S19\\textbackslash{}\\_L002\\textbackslash{}\\_ReadsPerGene.out.tab] '19\\_2019\\_P\\_M1\\_S19\\_L002\\_ReadsPerGene.out.tab'\n",
       "\\item[19\\textbackslash{}\\_2019\\textbackslash{}\\_P\\textbackslash{}\\_M1\\textbackslash{}\\_S19\\textbackslash{}\\_L003\\textbackslash{}\\_ReadsPerGene.out.tab] '19\\_2019\\_P\\_M1\\_S19\\_L003\\_ReadsPerGene.out.tab'\n",
       "\\item[19\\textbackslash{}\\_2019\\textbackslash{}\\_P\\textbackslash{}\\_M1\\textbackslash{}\\_S19\\textbackslash{}\\_L004\\textbackslash{}\\_ReadsPerGene.out.tab] '19\\_2019\\_P\\_M1\\_S19\\_L004\\_ReadsPerGene.out.tab'\n",
       "\\item[2\\textbackslash{}\\_2018\\textbackslash{}\\_P\\textbackslash{}\\_M1\\textbackslash{}\\_S34\\textbackslash{}\\_L001\\textbackslash{}\\_ReadsPerGene.out.tab] '2\\_2018\\_P\\_M1\\_S34\\_L001\\_ReadsPerGene.out.tab'\n",
       "\\item[2\\textbackslash{}\\_2018\\textbackslash{}\\_P\\textbackslash{}\\_M1\\textbackslash{}\\_S34\\textbackslash{}\\_L002\\textbackslash{}\\_ReadsPerGene.out.tab] '2\\_2018\\_P\\_M1\\_S34\\_L002\\_ReadsPerGene.out.tab'\n",
       "\\item[2\\textbackslash{}\\_2018\\textbackslash{}\\_P\\textbackslash{}\\_M1\\textbackslash{}\\_S34\\textbackslash{}\\_L003\\textbackslash{}\\_ReadsPerGene.out.tab] '2\\_2018\\_P\\_M1\\_S34\\_L003\\_ReadsPerGene.out.tab'\n",
       "\\item[2\\textbackslash{}\\_2018\\textbackslash{}\\_P\\textbackslash{}\\_M1\\textbackslash{}\\_S34\\textbackslash{}\\_L004\\textbackslash{}\\_ReadsPerGene.out.tab] '2\\_2018\\_P\\_M1\\_S34\\_L004\\_ReadsPerGene.out.tab'\n",
       "\\item[2\\textbackslash{}\\_2019\\textbackslash{}\\_P\\textbackslash{}\\_M1\\textbackslash{}\\_S2\\textbackslash{}\\_L001\\textbackslash{}\\_ReadsPerGene.out.tab] '2\\_2019\\_P\\_M1\\_S2\\_L001\\_ReadsPerGene.out.tab'\n",
       "\\item[2\\textbackslash{}\\_2019\\textbackslash{}\\_P\\textbackslash{}\\_M1\\textbackslash{}\\_S2\\textbackslash{}\\_L002\\textbackslash{}\\_ReadsPerGene.out.tab] '2\\_2019\\_P\\_M1\\_S2\\_L002\\_ReadsPerGene.out.tab'\n",
       "\\item[2\\textbackslash{}\\_2019\\textbackslash{}\\_P\\textbackslash{}\\_M1\\textbackslash{}\\_S2\\textbackslash{}\\_L003\\textbackslash{}\\_ReadsPerGene.out.tab] '2\\_2019\\_P\\_M1\\_S2\\_L003\\_ReadsPerGene.out.tab'\n",
       "\\item[2\\textbackslash{}\\_2019\\textbackslash{}\\_P\\textbackslash{}\\_M1\\textbackslash{}\\_S2\\textbackslash{}\\_L004\\textbackslash{}\\_ReadsPerGene.out.tab] '2\\_2019\\_P\\_M1\\_S2\\_L004\\_ReadsPerGene.out.tab'\n",
       "\\item[20\\textbackslash{}\\_2019\\textbackslash{}\\_P\\textbackslash{}\\_M1\\textbackslash{}\\_S20\\textbackslash{}\\_L001\\textbackslash{}\\_ReadsPerGene.out.tab] '20\\_2019\\_P\\_M1\\_S20\\_L001\\_ReadsPerGene.out.tab'\n",
       "\\item[20\\textbackslash{}\\_2019\\textbackslash{}\\_P\\textbackslash{}\\_M1\\textbackslash{}\\_S20\\textbackslash{}\\_L002\\textbackslash{}\\_ReadsPerGene.out.tab] '20\\_2019\\_P\\_M1\\_S20\\_L002\\_ReadsPerGene.out.tab'\n",
       "\\item[20\\textbackslash{}\\_2019\\textbackslash{}\\_P\\textbackslash{}\\_M1\\textbackslash{}\\_S20\\textbackslash{}\\_L003\\textbackslash{}\\_ReadsPerGene.out.tab] '20\\_2019\\_P\\_M1\\_S20\\_L003\\_ReadsPerGene.out.tab'\n",
       "\\item[20\\textbackslash{}\\_2019\\textbackslash{}\\_P\\textbackslash{}\\_M1\\textbackslash{}\\_S20\\textbackslash{}\\_L004\\textbackslash{}\\_ReadsPerGene.out.tab] '20\\_2019\\_P\\_M1\\_S20\\_L004\\_ReadsPerGene.out.tab'\n",
       "\\item[21\\textbackslash{}\\_2019\\textbackslash{}\\_P\\textbackslash{}\\_M1\\textbackslash{}\\_S21\\textbackslash{}\\_L001\\textbackslash{}\\_ReadsPerGene.out.tab] '21\\_2019\\_P\\_M1\\_S21\\_L001\\_ReadsPerGene.out.tab'\n",
       "\\item[21\\textbackslash{}\\_2019\\textbackslash{}\\_P\\textbackslash{}\\_M1\\textbackslash{}\\_S21\\textbackslash{}\\_L002\\textbackslash{}\\_ReadsPerGene.out.tab] '21\\_2019\\_P\\_M1\\_S21\\_L002\\_ReadsPerGene.out.tab'\n",
       "\\item[21\\textbackslash{}\\_2019\\textbackslash{}\\_P\\textbackslash{}\\_M1\\textbackslash{}\\_S21\\textbackslash{}\\_L003\\textbackslash{}\\_ReadsPerGene.out.tab] '21\\_2019\\_P\\_M1\\_S21\\_L003\\_ReadsPerGene.out.tab'\n",
       "\\item[21\\textbackslash{}\\_2019\\textbackslash{}\\_P\\textbackslash{}\\_M1\\textbackslash{}\\_S21\\textbackslash{}\\_L004\\textbackslash{}\\_ReadsPerGene.out.tab] '21\\_2019\\_P\\_M1\\_S21\\_L004\\_ReadsPerGene.out.tab'\n",
       "\\item[22\\textbackslash{}\\_2019\\textbackslash{}\\_P\\textbackslash{}\\_M1\\textbackslash{}\\_S22\\textbackslash{}\\_L001\\textbackslash{}\\_ReadsPerGene.out.tab] '22\\_2019\\_P\\_M1\\_S22\\_L001\\_ReadsPerGene.out.tab'\n",
       "\\item[22\\textbackslash{}\\_2019\\textbackslash{}\\_P\\textbackslash{}\\_M1\\textbackslash{}\\_S22\\textbackslash{}\\_L002\\textbackslash{}\\_ReadsPerGene.out.tab] '22\\_2019\\_P\\_M1\\_S22\\_L002\\_ReadsPerGene.out.tab'\n",
       "\\item[22\\textbackslash{}\\_2019\\textbackslash{}\\_P\\textbackslash{}\\_M1\\textbackslash{}\\_S22\\textbackslash{}\\_L003\\textbackslash{}\\_ReadsPerGene.out.tab] '22\\_2019\\_P\\_M1\\_S22\\_L003\\_ReadsPerGene.out.tab'\n",
       "\\item[22\\textbackslash{}\\_2019\\textbackslash{}\\_P\\textbackslash{}\\_M1\\textbackslash{}\\_S22\\textbackslash{}\\_L004\\textbackslash{}\\_ReadsPerGene.out.tab] '22\\_2019\\_P\\_M1\\_S22\\_L004\\_ReadsPerGene.out.tab'\n",
       "\\item[23\\textbackslash{}\\_2019\\textbackslash{}\\_P\\textbackslash{}\\_M1\\textbackslash{}\\_S23\\textbackslash{}\\_L001\\textbackslash{}\\_ReadsPerGene.out.tab] '23\\_2019\\_P\\_M1\\_S23\\_L001\\_ReadsPerGene.out.tab'\n",
       "\\item[23\\textbackslash{}\\_2019\\textbackslash{}\\_P\\textbackslash{}\\_M1\\textbackslash{}\\_S23\\textbackslash{}\\_L002\\textbackslash{}\\_ReadsPerGene.out.tab] '23\\_2019\\_P\\_M1\\_S23\\_L002\\_ReadsPerGene.out.tab'\n",
       "\\item[23\\textbackslash{}\\_2019\\textbackslash{}\\_P\\textbackslash{}\\_M1\\textbackslash{}\\_S23\\textbackslash{}\\_L003\\textbackslash{}\\_ReadsPerGene.out.tab] '23\\_2019\\_P\\_M1\\_S23\\_L003\\_ReadsPerGene.out.tab'\n",
       "\\item[23\\textbackslash{}\\_2019\\textbackslash{}\\_P\\textbackslash{}\\_M1\\textbackslash{}\\_S23\\textbackslash{}\\_L004\\textbackslash{}\\_ReadsPerGene.out.tab] '23\\_2019\\_P\\_M1\\_S23\\_L004\\_ReadsPerGene.out.tab'\n",
       "\\item[24\\textbackslash{}\\_2019\\textbackslash{}\\_P\\textbackslash{}\\_M1\\textbackslash{}\\_S24\\textbackslash{}\\_L001\\textbackslash{}\\_ReadsPerGene.out.tab] '24\\_2019\\_P\\_M1\\_S24\\_L001\\_ReadsPerGene.out.tab'\n",
       "\\item[24\\textbackslash{}\\_2019\\textbackslash{}\\_P\\textbackslash{}\\_M1\\textbackslash{}\\_S24\\textbackslash{}\\_L002\\textbackslash{}\\_ReadsPerGene.out.tab] '24\\_2019\\_P\\_M1\\_S24\\_L002\\_ReadsPerGene.out.tab'\n",
       "\\item[24\\textbackslash{}\\_2019\\textbackslash{}\\_P\\textbackslash{}\\_M1\\textbackslash{}\\_S24\\textbackslash{}\\_L003\\textbackslash{}\\_ReadsPerGene.out.tab] '24\\_2019\\_P\\_M1\\_S24\\_L003\\_ReadsPerGene.out.tab'\n",
       "\\item[24\\textbackslash{}\\_2019\\textbackslash{}\\_P\\textbackslash{}\\_M1\\textbackslash{}\\_S24\\textbackslash{}\\_L004\\textbackslash{}\\_ReadsPerGene.out.tab] '24\\_2019\\_P\\_M1\\_S24\\_L004\\_ReadsPerGene.out.tab'\n",
       "\\item[3\\textbackslash{}\\_2018\\textbackslash{}\\_P\\textbackslash{}\\_M1\\textbackslash{}\\_S35\\textbackslash{}\\_L001\\textbackslash{}\\_ReadsPerGene.out.tab] '3\\_2018\\_P\\_M1\\_S35\\_L001\\_ReadsPerGene.out.tab'\n",
       "\\item[3\\textbackslash{}\\_2018\\textbackslash{}\\_P\\textbackslash{}\\_M1\\textbackslash{}\\_S35\\textbackslash{}\\_L002\\textbackslash{}\\_ReadsPerGene.out.tab] '3\\_2018\\_P\\_M1\\_S35\\_L002\\_ReadsPerGene.out.tab'\n",
       "\\item[3\\textbackslash{}\\_2018\\textbackslash{}\\_P\\textbackslash{}\\_M1\\textbackslash{}\\_S35\\textbackslash{}\\_L003\\textbackslash{}\\_ReadsPerGene.out.tab] '3\\_2018\\_P\\_M1\\_S35\\_L003\\_ReadsPerGene.out.tab'\n",
       "\\item[3\\textbackslash{}\\_2018\\textbackslash{}\\_P\\textbackslash{}\\_M1\\textbackslash{}\\_S35\\textbackslash{}\\_L004\\textbackslash{}\\_ReadsPerGene.out.tab] '3\\_2018\\_P\\_M1\\_S35\\_L004\\_ReadsPerGene.out.tab'\n",
       "\\item[3\\textbackslash{}\\_2019\\textbackslash{}\\_P\\textbackslash{}\\_M1\\textbackslash{}\\_S3\\textbackslash{}\\_L001\\textbackslash{}\\_ReadsPerGene.out.tab] '3\\_2019\\_P\\_M1\\_S3\\_L001\\_ReadsPerGene.out.tab'\n",
       "\\item[3\\textbackslash{}\\_2019\\textbackslash{}\\_P\\textbackslash{}\\_M1\\textbackslash{}\\_S3\\textbackslash{}\\_L002\\textbackslash{}\\_ReadsPerGene.out.tab] '3\\_2019\\_P\\_M1\\_S3\\_L002\\_ReadsPerGene.out.tab'\n",
       "\\item[3\\textbackslash{}\\_2019\\textbackslash{}\\_P\\textbackslash{}\\_M1\\textbackslash{}\\_S3\\textbackslash{}\\_L003\\textbackslash{}\\_ReadsPerGene.out.tab] '3\\_2019\\_P\\_M1\\_S3\\_L003\\_ReadsPerGene.out.tab'\n",
       "\\item[3\\textbackslash{}\\_2019\\textbackslash{}\\_P\\textbackslash{}\\_M1\\textbackslash{}\\_S3\\textbackslash{}\\_L004\\textbackslash{}\\_ReadsPerGene.out.tab] '3\\_2019\\_P\\_M1\\_S3\\_L004\\_ReadsPerGene.out.tab'\n",
       "\\item[4\\textbackslash{}\\_2018\\textbackslash{}\\_P\\textbackslash{}\\_M1\\textbackslash{}\\_S36\\textbackslash{}\\_L001\\textbackslash{}\\_ReadsPerGene.out.tab] '4\\_2018\\_P\\_M1\\_S36\\_L001\\_ReadsPerGene.out.tab'\n",
       "\\item[4\\textbackslash{}\\_2018\\textbackslash{}\\_P\\textbackslash{}\\_M1\\textbackslash{}\\_S36\\textbackslash{}\\_L002\\textbackslash{}\\_ReadsPerGene.out.tab] '4\\_2018\\_P\\_M1\\_S36\\_L002\\_ReadsPerGene.out.tab'\n",
       "\\item[4\\textbackslash{}\\_2018\\textbackslash{}\\_P\\textbackslash{}\\_M1\\textbackslash{}\\_S36\\textbackslash{}\\_L003\\textbackslash{}\\_ReadsPerGene.out.tab] '4\\_2018\\_P\\_M1\\_S36\\_L003\\_ReadsPerGene.out.tab'\n",
       "\\item[4\\textbackslash{}\\_2018\\textbackslash{}\\_P\\textbackslash{}\\_M1\\textbackslash{}\\_S36\\textbackslash{}\\_L004\\textbackslash{}\\_ReadsPerGene.out.tab] '4\\_2018\\_P\\_M1\\_S36\\_L004\\_ReadsPerGene.out.tab'\n",
       "\\item[4\\textbackslash{}\\_2019\\textbackslash{}\\_P\\textbackslash{}\\_M1\\textbackslash{}\\_S4\\textbackslash{}\\_L001\\textbackslash{}\\_ReadsPerGene.out.tab] '4\\_2019\\_P\\_M1\\_S4\\_L001\\_ReadsPerGene.out.tab'\n",
       "\\item[4\\textbackslash{}\\_2019\\textbackslash{}\\_P\\textbackslash{}\\_M1\\textbackslash{}\\_S4\\textbackslash{}\\_L002\\textbackslash{}\\_ReadsPerGene.out.tab] '4\\_2019\\_P\\_M1\\_S4\\_L002\\_ReadsPerGene.out.tab'\n",
       "\\item[4\\textbackslash{}\\_2019\\textbackslash{}\\_P\\textbackslash{}\\_M1\\textbackslash{}\\_S4\\textbackslash{}\\_L003\\textbackslash{}\\_ReadsPerGene.out.tab] '4\\_2019\\_P\\_M1\\_S4\\_L003\\_ReadsPerGene.out.tab'\n",
       "\\item[4\\textbackslash{}\\_2019\\textbackslash{}\\_P\\textbackslash{}\\_M1\\textbackslash{}\\_S4\\textbackslash{}\\_L004\\textbackslash{}\\_ReadsPerGene.out.tab] '4\\_2019\\_P\\_M1\\_S4\\_L004\\_ReadsPerGene.out.tab'\n",
       "\\item[5\\textbackslash{}\\_2019\\textbackslash{}\\_P\\textbackslash{}\\_M1\\textbackslash{}\\_S5\\textbackslash{}\\_L001\\textbackslash{}\\_ReadsPerGene.out.tab] '5\\_2019\\_P\\_M1\\_S5\\_L001\\_ReadsPerGene.out.tab'\n",
       "\\item[5\\textbackslash{}\\_2019\\textbackslash{}\\_P\\textbackslash{}\\_M1\\textbackslash{}\\_S5\\textbackslash{}\\_L002\\textbackslash{}\\_ReadsPerGene.out.tab] '5\\_2019\\_P\\_M1\\_S5\\_L002\\_ReadsPerGene.out.tab'\n",
       "\\item[5\\textbackslash{}\\_2019\\textbackslash{}\\_P\\textbackslash{}\\_M1\\textbackslash{}\\_S5\\textbackslash{}\\_L003\\textbackslash{}\\_ReadsPerGene.out.tab] '5\\_2019\\_P\\_M1\\_S5\\_L003\\_ReadsPerGene.out.tab'\n",
       "\\item[5\\textbackslash{}\\_2019\\textbackslash{}\\_P\\textbackslash{}\\_M1\\textbackslash{}\\_S5\\textbackslash{}\\_L004\\textbackslash{}\\_ReadsPerGene.out.tab] '5\\_2019\\_P\\_M1\\_S5\\_L004\\_ReadsPerGene.out.tab'\n",
       "\\item[6\\textbackslash{}\\_2019\\textbackslash{}\\_P\\textbackslash{}\\_M1\\textbackslash{}\\_S6\\textbackslash{}\\_L001\\textbackslash{}\\_ReadsPerGene.out.tab] '6\\_2019\\_P\\_M1\\_S6\\_L001\\_ReadsPerGene.out.tab'\n",
       "\\item[6\\textbackslash{}\\_2019\\textbackslash{}\\_P\\textbackslash{}\\_M1\\textbackslash{}\\_S6\\textbackslash{}\\_L002\\textbackslash{}\\_ReadsPerGene.out.tab] '6\\_2019\\_P\\_M1\\_S6\\_L002\\_ReadsPerGene.out.tab'\n",
       "\\item[6\\textbackslash{}\\_2019\\textbackslash{}\\_P\\textbackslash{}\\_M1\\textbackslash{}\\_S6\\textbackslash{}\\_L003\\textbackslash{}\\_ReadsPerGene.out.tab] '6\\_2019\\_P\\_M1\\_S6\\_L003\\_ReadsPerGene.out.tab'\n",
       "\\item[6\\textbackslash{}\\_2019\\textbackslash{}\\_P\\textbackslash{}\\_M1\\textbackslash{}\\_S6\\textbackslash{}\\_L004\\textbackslash{}\\_ReadsPerGene.out.tab] '6\\_2019\\_P\\_M1\\_S6\\_L004\\_ReadsPerGene.out.tab'\n",
       "\\item[7\\textbackslash{}\\_2019\\textbackslash{}\\_P\\textbackslash{}\\_M1\\textbackslash{}\\_S7\\textbackslash{}\\_L001\\textbackslash{}\\_ReadsPerGene.out.tab] '7\\_2019\\_P\\_M1\\_S7\\_L001\\_ReadsPerGene.out.tab'\n",
       "\\item[7\\textbackslash{}\\_2019\\textbackslash{}\\_P\\textbackslash{}\\_M1\\textbackslash{}\\_S7\\textbackslash{}\\_L002\\textbackslash{}\\_ReadsPerGene.out.tab] '7\\_2019\\_P\\_M1\\_S7\\_L002\\_ReadsPerGene.out.tab'\n",
       "\\item[7\\textbackslash{}\\_2019\\textbackslash{}\\_P\\textbackslash{}\\_M1\\textbackslash{}\\_S7\\textbackslash{}\\_L003\\textbackslash{}\\_ReadsPerGene.out.tab] '7\\_2019\\_P\\_M1\\_S7\\_L003\\_ReadsPerGene.out.tab'\n",
       "\\item[7\\textbackslash{}\\_2019\\textbackslash{}\\_P\\textbackslash{}\\_M1\\textbackslash{}\\_S7\\textbackslash{}\\_L004\\textbackslash{}\\_ReadsPerGene.out.tab] '7\\_2019\\_P\\_M1\\_S7\\_L004\\_ReadsPerGene.out.tab'\n",
       "\\item[8\\textbackslash{}\\_2019\\textbackslash{}\\_P\\textbackslash{}\\_M1\\textbackslash{}\\_S8\\textbackslash{}\\_L001\\textbackslash{}\\_ReadsPerGene.out.tab] '8\\_2019\\_P\\_M1\\_S8\\_L001\\_ReadsPerGene.out.tab'\n",
       "\\item[8\\textbackslash{}\\_2019\\textbackslash{}\\_P\\textbackslash{}\\_M1\\textbackslash{}\\_S8\\textbackslash{}\\_L002\\textbackslash{}\\_ReadsPerGene.out.tab] '8\\_2019\\_P\\_M1\\_S8\\_L002\\_ReadsPerGene.out.tab'\n",
       "\\item[8\\textbackslash{}\\_2019\\textbackslash{}\\_P\\textbackslash{}\\_M1\\textbackslash{}\\_S8\\textbackslash{}\\_L003\\textbackslash{}\\_ReadsPerGene.out.tab] '8\\_2019\\_P\\_M1\\_S8\\_L003\\_ReadsPerGene.out.tab'\n",
       "\\item[8\\textbackslash{}\\_2019\\textbackslash{}\\_P\\textbackslash{}\\_M1\\textbackslash{}\\_S8\\textbackslash{}\\_L004\\textbackslash{}\\_ReadsPerGene.out.tab] '8\\_2019\\_P\\_M1\\_S8\\_L004\\_ReadsPerGene.out.tab'\n",
       "\\item[9\\textbackslash{}\\_2019\\textbackslash{}\\_P\\textbackslash{}\\_M1\\textbackslash{}\\_S9\\textbackslash{}\\_L001\\textbackslash{}\\_ReadsPerGene.out.tab] '9\\_2019\\_P\\_M1\\_S9\\_L001\\_ReadsPerGene.out.tab'\n",
       "\\item[9\\textbackslash{}\\_2019\\textbackslash{}\\_P\\textbackslash{}\\_M1\\textbackslash{}\\_S9\\textbackslash{}\\_L002\\textbackslash{}\\_ReadsPerGene.out.tab] '9\\_2019\\_P\\_M1\\_S9\\_L002\\_ReadsPerGene.out.tab'\n",
       "\\item[9\\textbackslash{}\\_2019\\textbackslash{}\\_P\\textbackslash{}\\_M1\\textbackslash{}\\_S9\\textbackslash{}\\_L003\\textbackslash{}\\_ReadsPerGene.out.tab] '9\\_2019\\_P\\_M1\\_S9\\_L003\\_ReadsPerGene.out.tab'\n",
       "\\item[9\\textbackslash{}\\_2019\\textbackslash{}\\_P\\textbackslash{}\\_M1\\textbackslash{}\\_S9\\textbackslash{}\\_L004\\textbackslash{}\\_ReadsPerGene.out.tab] '9\\_2019\\_P\\_M1\\_S9\\_L004\\_ReadsPerGene.out.tab'\n",
       "\\end{description*}\n"
      ],
      "text/markdown": [
       "1_2019_P_M1_S1_L001_ReadsPerGene.out.tab\n",
       ":   '1_2019_P_M1_S1_L001_ReadsPerGene.out.tab'1_2019_P_M1_S1_L002_ReadsPerGene.out.tab\n",
       ":   '1_2019_P_M1_S1_L002_ReadsPerGene.out.tab'1_2019_P_M1_S1_L003_ReadsPerGene.out.tab\n",
       ":   '1_2019_P_M1_S1_L003_ReadsPerGene.out.tab'1_2019_P_M1_S1_L004_ReadsPerGene.out.tab\n",
       ":   '1_2019_P_M1_S1_L004_ReadsPerGene.out.tab'10_2019_P_M1_S10_L001_ReadsPerGene.out.tab\n",
       ":   '10_2019_P_M1_S10_L001_ReadsPerGene.out.tab'10_2019_P_M1_S10_L002_ReadsPerGene.out.tab\n",
       ":   '10_2019_P_M1_S10_L002_ReadsPerGene.out.tab'10_2019_P_M1_S10_L003_ReadsPerGene.out.tab\n",
       ":   '10_2019_P_M1_S10_L003_ReadsPerGene.out.tab'10_2019_P_M1_S10_L004_ReadsPerGene.out.tab\n",
       ":   '10_2019_P_M1_S10_L004_ReadsPerGene.out.tab'11_2019_P_M1_S11_L001_ReadsPerGene.out.tab\n",
       ":   '11_2019_P_M1_S11_L001_ReadsPerGene.out.tab'11_2019_P_M1_S11_L002_ReadsPerGene.out.tab\n",
       ":   '11_2019_P_M1_S11_L002_ReadsPerGene.out.tab'11_2019_P_M1_S11_L003_ReadsPerGene.out.tab\n",
       ":   '11_2019_P_M1_S11_L003_ReadsPerGene.out.tab'11_2019_P_M1_S11_L004_ReadsPerGene.out.tab\n",
       ":   '11_2019_P_M1_S11_L004_ReadsPerGene.out.tab'12_2019_P_M1_S12_L001_ReadsPerGene.out.tab\n",
       ":   '12_2019_P_M1_S12_L001_ReadsPerGene.out.tab'12_2019_P_M1_S12_L002_ReadsPerGene.out.tab\n",
       ":   '12_2019_P_M1_S12_L002_ReadsPerGene.out.tab'12_2019_P_M1_S12_L003_ReadsPerGene.out.tab\n",
       ":   '12_2019_P_M1_S12_L003_ReadsPerGene.out.tab'12_2019_P_M1_S12_L004_ReadsPerGene.out.tab\n",
       ":   '12_2019_P_M1_S12_L004_ReadsPerGene.out.tab'13_2019_P_M1_S13_L001_ReadsPerGene.out.tab\n",
       ":   '13_2019_P_M1_S13_L001_ReadsPerGene.out.tab'13_2019_P_M1_S13_L002_ReadsPerGene.out.tab\n",
       ":   '13_2019_P_M1_S13_L002_ReadsPerGene.out.tab'13_2019_P_M1_S13_L003_ReadsPerGene.out.tab\n",
       ":   '13_2019_P_M1_S13_L003_ReadsPerGene.out.tab'13_2019_P_M1_S13_L004_ReadsPerGene.out.tab\n",
       ":   '13_2019_P_M1_S13_L004_ReadsPerGene.out.tab'14_2019_P_M1_S14_L001_ReadsPerGene.out.tab\n",
       ":   '14_2019_P_M1_S14_L001_ReadsPerGene.out.tab'14_2019_P_M1_S14_L002_ReadsPerGene.out.tab\n",
       ":   '14_2019_P_M1_S14_L002_ReadsPerGene.out.tab'14_2019_P_M1_S14_L003_ReadsPerGene.out.tab\n",
       ":   '14_2019_P_M1_S14_L003_ReadsPerGene.out.tab'14_2019_P_M1_S14_L004_ReadsPerGene.out.tab\n",
       ":   '14_2019_P_M1_S14_L004_ReadsPerGene.out.tab'15_2019_P_M1_S15_L001_ReadsPerGene.out.tab\n",
       ":   '15_2019_P_M1_S15_L001_ReadsPerGene.out.tab'15_2019_P_M1_S15_L002_ReadsPerGene.out.tab\n",
       ":   '15_2019_P_M1_S15_L002_ReadsPerGene.out.tab'15_2019_P_M1_S15_L003_ReadsPerGene.out.tab\n",
       ":   '15_2019_P_M1_S15_L003_ReadsPerGene.out.tab'15_2019_P_M1_S15_L004_ReadsPerGene.out.tab\n",
       ":   '15_2019_P_M1_S15_L004_ReadsPerGene.out.tab'16_2019_P_M1_S16_L001_ReadsPerGene.out.tab\n",
       ":   '16_2019_P_M1_S16_L001_ReadsPerGene.out.tab'16_2019_P_M1_S16_L002_ReadsPerGene.out.tab\n",
       ":   '16_2019_P_M1_S16_L002_ReadsPerGene.out.tab'16_2019_P_M1_S16_L003_ReadsPerGene.out.tab\n",
       ":   '16_2019_P_M1_S16_L003_ReadsPerGene.out.tab'16_2019_P_M1_S16_L004_ReadsPerGene.out.tab\n",
       ":   '16_2019_P_M1_S16_L004_ReadsPerGene.out.tab'17_2019_P_M1_S17_L001_ReadsPerGene.out.tab\n",
       ":   '17_2019_P_M1_S17_L001_ReadsPerGene.out.tab'17_2019_P_M1_S17_L002_ReadsPerGene.out.tab\n",
       ":   '17_2019_P_M1_S17_L002_ReadsPerGene.out.tab'17_2019_P_M1_S17_L003_ReadsPerGene.out.tab\n",
       ":   '17_2019_P_M1_S17_L003_ReadsPerGene.out.tab'17_2019_P_M1_S17_L004_ReadsPerGene.out.tab\n",
       ":   '17_2019_P_M1_S17_L004_ReadsPerGene.out.tab'18_2019_P_M1_S18_L001_ReadsPerGene.out.tab\n",
       ":   '18_2019_P_M1_S18_L001_ReadsPerGene.out.tab'18_2019_P_M1_S18_L002_ReadsPerGene.out.tab\n",
       ":   '18_2019_P_M1_S18_L002_ReadsPerGene.out.tab'18_2019_P_M1_S18_L003_ReadsPerGene.out.tab\n",
       ":   '18_2019_P_M1_S18_L003_ReadsPerGene.out.tab'18_2019_P_M1_S18_L004_ReadsPerGene.out.tab\n",
       ":   '18_2019_P_M1_S18_L004_ReadsPerGene.out.tab'19_2019_P_M1_S19_L001_ReadsPerGene.out.tab\n",
       ":   '19_2019_P_M1_S19_L001_ReadsPerGene.out.tab'19_2019_P_M1_S19_L002_ReadsPerGene.out.tab\n",
       ":   '19_2019_P_M1_S19_L002_ReadsPerGene.out.tab'19_2019_P_M1_S19_L003_ReadsPerGene.out.tab\n",
       ":   '19_2019_P_M1_S19_L003_ReadsPerGene.out.tab'19_2019_P_M1_S19_L004_ReadsPerGene.out.tab\n",
       ":   '19_2019_P_M1_S19_L004_ReadsPerGene.out.tab'2_2018_P_M1_S34_L001_ReadsPerGene.out.tab\n",
       ":   '2_2018_P_M1_S34_L001_ReadsPerGene.out.tab'2_2018_P_M1_S34_L002_ReadsPerGene.out.tab\n",
       ":   '2_2018_P_M1_S34_L002_ReadsPerGene.out.tab'2_2018_P_M1_S34_L003_ReadsPerGene.out.tab\n",
       ":   '2_2018_P_M1_S34_L003_ReadsPerGene.out.tab'2_2018_P_M1_S34_L004_ReadsPerGene.out.tab\n",
       ":   '2_2018_P_M1_S34_L004_ReadsPerGene.out.tab'2_2019_P_M1_S2_L001_ReadsPerGene.out.tab\n",
       ":   '2_2019_P_M1_S2_L001_ReadsPerGene.out.tab'2_2019_P_M1_S2_L002_ReadsPerGene.out.tab\n",
       ":   '2_2019_P_M1_S2_L002_ReadsPerGene.out.tab'2_2019_P_M1_S2_L003_ReadsPerGene.out.tab\n",
       ":   '2_2019_P_M1_S2_L003_ReadsPerGene.out.tab'2_2019_P_M1_S2_L004_ReadsPerGene.out.tab\n",
       ":   '2_2019_P_M1_S2_L004_ReadsPerGene.out.tab'20_2019_P_M1_S20_L001_ReadsPerGene.out.tab\n",
       ":   '20_2019_P_M1_S20_L001_ReadsPerGene.out.tab'20_2019_P_M1_S20_L002_ReadsPerGene.out.tab\n",
       ":   '20_2019_P_M1_S20_L002_ReadsPerGene.out.tab'20_2019_P_M1_S20_L003_ReadsPerGene.out.tab\n",
       ":   '20_2019_P_M1_S20_L003_ReadsPerGene.out.tab'20_2019_P_M1_S20_L004_ReadsPerGene.out.tab\n",
       ":   '20_2019_P_M1_S20_L004_ReadsPerGene.out.tab'21_2019_P_M1_S21_L001_ReadsPerGene.out.tab\n",
       ":   '21_2019_P_M1_S21_L001_ReadsPerGene.out.tab'21_2019_P_M1_S21_L002_ReadsPerGene.out.tab\n",
       ":   '21_2019_P_M1_S21_L002_ReadsPerGene.out.tab'21_2019_P_M1_S21_L003_ReadsPerGene.out.tab\n",
       ":   '21_2019_P_M1_S21_L003_ReadsPerGene.out.tab'21_2019_P_M1_S21_L004_ReadsPerGene.out.tab\n",
       ":   '21_2019_P_M1_S21_L004_ReadsPerGene.out.tab'22_2019_P_M1_S22_L001_ReadsPerGene.out.tab\n",
       ":   '22_2019_P_M1_S22_L001_ReadsPerGene.out.tab'22_2019_P_M1_S22_L002_ReadsPerGene.out.tab\n",
       ":   '22_2019_P_M1_S22_L002_ReadsPerGene.out.tab'22_2019_P_M1_S22_L003_ReadsPerGene.out.tab\n",
       ":   '22_2019_P_M1_S22_L003_ReadsPerGene.out.tab'22_2019_P_M1_S22_L004_ReadsPerGene.out.tab\n",
       ":   '22_2019_P_M1_S22_L004_ReadsPerGene.out.tab'23_2019_P_M1_S23_L001_ReadsPerGene.out.tab\n",
       ":   '23_2019_P_M1_S23_L001_ReadsPerGene.out.tab'23_2019_P_M1_S23_L002_ReadsPerGene.out.tab\n",
       ":   '23_2019_P_M1_S23_L002_ReadsPerGene.out.tab'23_2019_P_M1_S23_L003_ReadsPerGene.out.tab\n",
       ":   '23_2019_P_M1_S23_L003_ReadsPerGene.out.tab'23_2019_P_M1_S23_L004_ReadsPerGene.out.tab\n",
       ":   '23_2019_P_M1_S23_L004_ReadsPerGene.out.tab'24_2019_P_M1_S24_L001_ReadsPerGene.out.tab\n",
       ":   '24_2019_P_M1_S24_L001_ReadsPerGene.out.tab'24_2019_P_M1_S24_L002_ReadsPerGene.out.tab\n",
       ":   '24_2019_P_M1_S24_L002_ReadsPerGene.out.tab'24_2019_P_M1_S24_L003_ReadsPerGene.out.tab\n",
       ":   '24_2019_P_M1_S24_L003_ReadsPerGene.out.tab'24_2019_P_M1_S24_L004_ReadsPerGene.out.tab\n",
       ":   '24_2019_P_M1_S24_L004_ReadsPerGene.out.tab'3_2018_P_M1_S35_L001_ReadsPerGene.out.tab\n",
       ":   '3_2018_P_M1_S35_L001_ReadsPerGene.out.tab'3_2018_P_M1_S35_L002_ReadsPerGene.out.tab\n",
       ":   '3_2018_P_M1_S35_L002_ReadsPerGene.out.tab'3_2018_P_M1_S35_L003_ReadsPerGene.out.tab\n",
       ":   '3_2018_P_M1_S35_L003_ReadsPerGene.out.tab'3_2018_P_M1_S35_L004_ReadsPerGene.out.tab\n",
       ":   '3_2018_P_M1_S35_L004_ReadsPerGene.out.tab'3_2019_P_M1_S3_L001_ReadsPerGene.out.tab\n",
       ":   '3_2019_P_M1_S3_L001_ReadsPerGene.out.tab'3_2019_P_M1_S3_L002_ReadsPerGene.out.tab\n",
       ":   '3_2019_P_M1_S3_L002_ReadsPerGene.out.tab'3_2019_P_M1_S3_L003_ReadsPerGene.out.tab\n",
       ":   '3_2019_P_M1_S3_L003_ReadsPerGene.out.tab'3_2019_P_M1_S3_L004_ReadsPerGene.out.tab\n",
       ":   '3_2019_P_M1_S3_L004_ReadsPerGene.out.tab'4_2018_P_M1_S36_L001_ReadsPerGene.out.tab\n",
       ":   '4_2018_P_M1_S36_L001_ReadsPerGene.out.tab'4_2018_P_M1_S36_L002_ReadsPerGene.out.tab\n",
       ":   '4_2018_P_M1_S36_L002_ReadsPerGene.out.tab'4_2018_P_M1_S36_L003_ReadsPerGene.out.tab\n",
       ":   '4_2018_P_M1_S36_L003_ReadsPerGene.out.tab'4_2018_P_M1_S36_L004_ReadsPerGene.out.tab\n",
       ":   '4_2018_P_M1_S36_L004_ReadsPerGene.out.tab'4_2019_P_M1_S4_L001_ReadsPerGene.out.tab\n",
       ":   '4_2019_P_M1_S4_L001_ReadsPerGene.out.tab'4_2019_P_M1_S4_L002_ReadsPerGene.out.tab\n",
       ":   '4_2019_P_M1_S4_L002_ReadsPerGene.out.tab'4_2019_P_M1_S4_L003_ReadsPerGene.out.tab\n",
       ":   '4_2019_P_M1_S4_L003_ReadsPerGene.out.tab'4_2019_P_M1_S4_L004_ReadsPerGene.out.tab\n",
       ":   '4_2019_P_M1_S4_L004_ReadsPerGene.out.tab'5_2019_P_M1_S5_L001_ReadsPerGene.out.tab\n",
       ":   '5_2019_P_M1_S5_L001_ReadsPerGene.out.tab'5_2019_P_M1_S5_L002_ReadsPerGene.out.tab\n",
       ":   '5_2019_P_M1_S5_L002_ReadsPerGene.out.tab'5_2019_P_M1_S5_L003_ReadsPerGene.out.tab\n",
       ":   '5_2019_P_M1_S5_L003_ReadsPerGene.out.tab'5_2019_P_M1_S5_L004_ReadsPerGene.out.tab\n",
       ":   '5_2019_P_M1_S5_L004_ReadsPerGene.out.tab'6_2019_P_M1_S6_L001_ReadsPerGene.out.tab\n",
       ":   '6_2019_P_M1_S6_L001_ReadsPerGene.out.tab'6_2019_P_M1_S6_L002_ReadsPerGene.out.tab\n",
       ":   '6_2019_P_M1_S6_L002_ReadsPerGene.out.tab'6_2019_P_M1_S6_L003_ReadsPerGene.out.tab\n",
       ":   '6_2019_P_M1_S6_L003_ReadsPerGene.out.tab'6_2019_P_M1_S6_L004_ReadsPerGene.out.tab\n",
       ":   '6_2019_P_M1_S6_L004_ReadsPerGene.out.tab'7_2019_P_M1_S7_L001_ReadsPerGene.out.tab\n",
       ":   '7_2019_P_M1_S7_L001_ReadsPerGene.out.tab'7_2019_P_M1_S7_L002_ReadsPerGene.out.tab\n",
       ":   '7_2019_P_M1_S7_L002_ReadsPerGene.out.tab'7_2019_P_M1_S7_L003_ReadsPerGene.out.tab\n",
       ":   '7_2019_P_M1_S7_L003_ReadsPerGene.out.tab'7_2019_P_M1_S7_L004_ReadsPerGene.out.tab\n",
       ":   '7_2019_P_M1_S7_L004_ReadsPerGene.out.tab'8_2019_P_M1_S8_L001_ReadsPerGene.out.tab\n",
       ":   '8_2019_P_M1_S8_L001_ReadsPerGene.out.tab'8_2019_P_M1_S8_L002_ReadsPerGene.out.tab\n",
       ":   '8_2019_P_M1_S8_L002_ReadsPerGene.out.tab'8_2019_P_M1_S8_L003_ReadsPerGene.out.tab\n",
       ":   '8_2019_P_M1_S8_L003_ReadsPerGene.out.tab'8_2019_P_M1_S8_L004_ReadsPerGene.out.tab\n",
       ":   '8_2019_P_M1_S8_L004_ReadsPerGene.out.tab'9_2019_P_M1_S9_L001_ReadsPerGene.out.tab\n",
       ":   '9_2019_P_M1_S9_L001_ReadsPerGene.out.tab'9_2019_P_M1_S9_L002_ReadsPerGene.out.tab\n",
       ":   '9_2019_P_M1_S9_L002_ReadsPerGene.out.tab'9_2019_P_M1_S9_L003_ReadsPerGene.out.tab\n",
       ":   '9_2019_P_M1_S9_L003_ReadsPerGene.out.tab'9_2019_P_M1_S9_L004_ReadsPerGene.out.tab\n",
       ":   '9_2019_P_M1_S9_L004_ReadsPerGene.out.tab'\n",
       "\n"
      ],
      "text/plain": [
       "1_2019_P_M1_S1_L001_ReadsPerGene.out.tab\n",
       "1_2019_P_M1_S1_L002_ReadsPerGene.out.tab\n",
       "1_2019_P_M1_S1_L003_ReadsPerGene.out.tab\n",
       "1_2019_P_M1_S1_L004_ReadsPerGene.out.tab\n",
       "10_2019_P_M1_S10_L001_ReadsPerGene.out.tab\n",
       "10_2019_P_M1_S10_L002_ReadsPerGene.out.tab\n",
       "10_2019_P_M1_S10_L003_ReadsPerGene.out.tab\n",
       "10_2019_P_M1_S10_L004_ReadsPerGene.out.tab\n",
       "11_2019_P_M1_S11_L001_ReadsPerGene.out.tab\n",
       "11_2019_P_M1_S11_L002_ReadsPerGene.out.tab\n",
       "11_2019_P_M1_S11_L003_ReadsPerGene.out.tab\n",
       "11_2019_P_M1_S11_L004_ReadsPerGene.out.tab\n",
       "12_2019_P_M1_S12_L001_ReadsPerGene.out.tab\n",
       "12_2019_P_M1_S12_L002_ReadsPerGene.out.tab\n",
       "12_2019_P_M1_S12_L003_ReadsPerGene.out.tab\n",
       "12_2019_P_M1_S12_L004_ReadsPerGene.out.tab\n",
       "13_2019_P_M1_S13_L001_ReadsPerGene.out.tab\n",
       "13_2019_P_M1_S13_L002_ReadsPerGene.out.tab\n",
       "13_2019_P_M1_S13_L003_ReadsPerGene.out.tab\n",
       "13_2019_P_M1_S13_L004_ReadsPerGene.out.tab\n",
       "14_2019_P_M1_S14_L001_ReadsPerGene.out.tab\n",
       "14_2019_P_M1_S14_L002_ReadsPerGene.out.tab\n",
       "14_2019_P_M1_S14_L003_ReadsPerGene.out.tab\n",
       "14_2019_P_M1_S14_L004_ReadsPerGene.out.tab\n",
       "15_2019_P_M1_S15_L001_ReadsPerGene.out.tab\n",
       "15_2019_P_M1_S15_L002_ReadsPerGene.out.tab\n",
       "15_2019_P_M1_S15_L003_ReadsPerGene.out.tab\n",
       "15_2019_P_M1_S15_L004_ReadsPerGene.out.tab\n",
       "16_2019_P_M1_S16_L001_ReadsPerGene.out.tab\n",
       "16_2019_P_M1_S16_L002_ReadsPerGene.out.tab\n",
       "16_2019_P_M1_S16_L003_ReadsPerGene.out.tab\n",
       "16_2019_P_M1_S16_L004_ReadsPerGene.out.tab\n",
       "17_2019_P_M1_S17_L001_ReadsPerGene.out.tab\n",
       "17_2019_P_M1_S17_L002_ReadsPerGene.out.tab\n",
       "17_2019_P_M1_S17_L003_ReadsPerGene.out.tab\n",
       "17_2019_P_M1_S17_L004_ReadsPerGene.out.tab\n",
       "18_2019_P_M1_S18_L001_ReadsPerGene.out.tab\n",
       "18_2019_P_M1_S18_L002_ReadsPerGene.out.tab\n",
       "18_2019_P_M1_S18_L003_ReadsPerGene.out.tab\n",
       "18_2019_P_M1_S18_L004_ReadsPerGene.out.tab\n",
       "19_2019_P_M1_S19_L001_ReadsPerGene.out.tab\n",
       "19_2019_P_M1_S19_L002_ReadsPerGene.out.tab\n",
       "19_2019_P_M1_S19_L003_ReadsPerGene.out.tab\n",
       "19_2019_P_M1_S19_L004_ReadsPerGene.out.tab\n",
       "2_2018_P_M1_S34_L001_ReadsPerGene.out.tab\n",
       "2_2018_P_M1_S34_L002_ReadsPerGene.out.tab\n",
       "2_2018_P_M1_S34_L003_ReadsPerGene.out.tab\n",
       "2_2018_P_M1_S34_L004_ReadsPerGene.out.tab\n",
       "2_2019_P_M1_S2_L001_ReadsPerGene.out.tab\n",
       "2_2019_P_M1_S2_L002_ReadsPerGene.out.tab\n",
       "2_2019_P_M1_S2_L003_ReadsPerGene.out.tab\n",
       "2_2019_P_M1_S2_L004_ReadsPerGene.out.tab\n",
       "20_2019_P_M1_S20_L001_ReadsPerGene.out.tab\n",
       "20_2019_P_M1_S20_L002_ReadsPerGene.out.tab\n",
       "20_2019_P_M1_S20_L003_ReadsPerGene.out.tab\n",
       "20_2019_P_M1_S20_L004_ReadsPerGene.out.tab\n",
       "21_2019_P_M1_S21_L001_ReadsPerGene.out.tab\n",
       "21_2019_P_M1_S21_L002_ReadsPerGene.out.tab\n",
       "21_2019_P_M1_S21_L003_ReadsPerGene.out.tab\n",
       "21_2019_P_M1_S21_L004_ReadsPerGene.out.tab\n",
       "22_2019_P_M1_S22_L001_ReadsPerGene.out.tab\n",
       "22_2019_P_M1_S22_L002_ReadsPerGene.out.tab\n",
       "22_2019_P_M1_S22_L003_ReadsPerGene.out.tab\n",
       "22_2019_P_M1_S22_L004_ReadsPerGene.out.tab\n",
       "23_2019_P_M1_S23_L001_ReadsPerGene.out.tab\n",
       "23_2019_P_M1_S23_L002_ReadsPerGene.out.tab\n",
       "23_2019_P_M1_S23_L003_ReadsPerGene.out.tab\n",
       "23_2019_P_M1_S23_L004_ReadsPerGene.out.tab\n",
       "24_2019_P_M1_S24_L001_ReadsPerGene.out.tab\n",
       "24_2019_P_M1_S24_L002_ReadsPerGene.out.tab\n",
       "24_2019_P_M1_S24_L003_ReadsPerGene.out.tab\n",
       "24_2019_P_M1_S24_L004_ReadsPerGene.out.tab\n",
       "3_2018_P_M1_S35_L001_ReadsPerGene.out.tab\n",
       "3_2018_P_M1_S35_L002_ReadsPerGene.out.tab\n",
       "3_2018_P_M1_S35_L003_ReadsPerGene.out.tab\n",
       "3_2018_P_M1_S35_L004_ReadsPerGene.out.tab\n",
       "3_2019_P_M1_S3_L001_ReadsPerGene.out.tab\n",
       "3_2019_P_M1_S3_L002_ReadsPerGene.out.tab\n",
       "3_2019_P_M1_S3_L003_ReadsPerGene.out.tab\n",
       "3_2019_P_M1_S3_L004_ReadsPerGene.out.tab\n",
       "4_2018_P_M1_S36_L001_ReadsPerGene.out.tab\n",
       "4_2018_P_M1_S36_L002_ReadsPerGene.out.tab\n",
       "4_2018_P_M1_S36_L003_ReadsPerGene.out.tab\n",
       "4_2018_P_M1_S36_L004_ReadsPerGene.out.tab\n",
       "4_2019_P_M1_S4_L001_ReadsPerGene.out.tab\n",
       "4_2019_P_M1_S4_L002_ReadsPerGene.out.tab\n",
       "4_2019_P_M1_S4_L003_ReadsPerGene.out.tab\n",
       "4_2019_P_M1_S4_L004_ReadsPerGene.out.tab\n",
       "5_2019_P_M1_S5_L001_ReadsPerGene.out.tab\n",
       "5_2019_P_M1_S5_L002_ReadsPerGene.out.tab\n",
       "5_2019_P_M1_S5_L003_ReadsPerGene.out.tab\n",
       "5_2019_P_M1_S5_L004_ReadsPerGene.out.tab\n",
       "6_2019_P_M1_S6_L001_ReadsPerGene.out.tab\n",
       "6_2019_P_M1_S6_L002_ReadsPerGene.out.tab\n",
       "6_2019_P_M1_S6_L003_ReadsPerGene.out.tab\n",
       "6_2019_P_M1_S6_L004_ReadsPerGene.out.tab\n",
       "7_2019_P_M1_S7_L001_ReadsPerGene.out.tab\n",
       "7_2019_P_M1_S7_L002_ReadsPerGene.out.tab\n",
       "7_2019_P_M1_S7_L003_ReadsPerGene.out.tab\n",
       "7_2019_P_M1_S7_L004_ReadsPerGene.out.tab\n",
       "8_2019_P_M1_S8_L001_ReadsPerGene.out.tab\n",
       "8_2019_P_M1_S8_L002_ReadsPerGene.out.tab\n",
       "8_2019_P_M1_S8_L003_ReadsPerGene.out.tab\n",
       "8_2019_P_M1_S8_L004_ReadsPerGene.out.tab\n",
       "9_2019_P_M1_S9_L001_ReadsPerGene.out.tab\n",
       "9_2019_P_M1_S9_L002_ReadsPerGene.out.tab\n",
       "9_2019_P_M1_S9_L003_ReadsPerGene.out.tab\n",
       "9_2019_P_M1_S9_L004_ReadsPerGene.out.tab"
      ]
     },
     "metadata": {},
     "output_type": "display_data"
    }
   ],
   "source": [
    "list.files(count_dir, pattern = paste0(count_suffix,\"$\"), full.names = FALSE) -> countfiles\n",
    "countfiles"
   ]
  },
  {
   "cell_type": "code",
   "execution_count": 8,
   "metadata": {},
   "outputs": [
    {
     "data": {
      "text/html": [
       "144"
      ],
      "text/latex": [
       "144"
      ],
      "text/markdown": [
       "144"
      ],
      "text/plain": [
       "[1] 144"
      ]
     },
     "metadata": {},
     "output_type": "display_data"
    }
   ],
   "source": [
    "length(countfiles)"
   ]
  },
  {
   "cell_type": "markdown",
   "metadata": {},
   "source": [
    "So there are 96 files about 2019 pilot data under this folder. Each file is generated from a fastq file using STAR."
   ]
  },
  {
   "cell_type": "code",
   "execution_count": 9,
   "metadata": {
    "scrolled": true
   },
   "outputs": [],
   "source": [
    "mycombine <- function(df1, df2) {\n",
    "    # Combine two data frames by gene names\n",
    "    #\n",
    "    # Args:\n",
    "    #   df1 (Dataframe): the first count data\n",
    "    #   df2 (Dataframe): the second count data\n",
    "    #\n",
    "    # Returns:\n",
    "    #   (Dataframe) The combined data frame of df1 and df2\n",
    "    full_join(df1, df2, by = \"gene\")\n",
    "}\n",
    "\n",
    "\n",
    "mystarfile <- function(rootdir, stardir) {\n",
    "    # Get the absolute paths of a file\n",
    "    #\n",
    "    # Args:\n",
    "    #   rootdir  (Character): the directory of the folder\n",
    "    #   stardir (Character): the filename\n",
    "    #\n",
    "    # Returns:\n",
    "    #   (Character) the directory of the input file\n",
    "    file.path(rootdir, stardir)\n",
    "}\n",
    "\n",
    "# Data type for each column\n",
    "coltypes <- list(col_character(), col_integer(), col_integer(), col_integer())"
   ]
  },
  {
   "cell_type": "markdown",
   "metadata": {},
   "source": [
    "read the count files and combine them"
   ]
  },
  {
   "cell_type": "code",
   "execution_count": 10,
   "metadata": {},
   "outputs": [
    {
     "name": "stderr",
     "output_type": "stream",
     "text": [
      "Warning message:\n",
      "“rename_() is deprecated. \n",
      "Please use rename() instead\n",
      "\n",
      "The 'programming' vignette or the tidyeval book can help you\n",
      "to program with rename() : https://tidyeval.tidyverse.org\n",
      "\u001b[90mThis warning is displayed once per session.\u001b[39m”"
     ]
    }
   ],
   "source": [
    "out <- foreach(file = countfiles, .combine = mycombine) %do% {\n",
    "    cntfile <- mystarfile(count_dir, file)\n",
    "    readr::read_tsv(cntfile, col_names = FALSE, col_types = coltypes ) %>%\n",
    "        dplyr::select(X1, X4) %>%\n",
    "            dplyr::rename_(.dots=setNames(names(.), c(\"gene\", file)))\n",
    "}\n"
   ]
  },
  {
   "cell_type": "code",
   "execution_count": 10,
   "metadata": {},
   "outputs": [
    {
     "data": {
      "text/html": [
       "<ol class=list-inline>\n",
       "\t<li>8503</li>\n",
       "\t<li>109</li>\n",
       "</ol>\n"
      ],
      "text/latex": [
       "\\begin{enumerate*}\n",
       "\\item 8503\n",
       "\\item 109\n",
       "\\end{enumerate*}\n"
      ],
      "text/markdown": [
       "1. 8503\n",
       "2. 109\n",
       "\n",
       "\n"
      ],
      "text/plain": [
       "[1] 8503  109"
      ]
     },
     "metadata": {},
     "output_type": "display_data"
    }
   ],
   "source": [
    "dim(out)"
   ]
  },
  {
   "cell_type": "code",
   "execution_count": 11,
   "metadata": {},
   "outputs": [
    {
     "data": {
      "text/html": [
       "<table>\n",
       "<caption>A tibble: 6 × 6</caption>\n",
       "<thead>\n",
       "\t<tr><th scope=col>gene</th><th scope=col>1_2019_P_M1_S1_L001_ReadsPerGene.out.tab</th><th scope=col>1_2019_P_M1_S1_L002_ReadsPerGene.out.tab</th><th scope=col>1_2019_P_M1_S1_L003_ReadsPerGene.out.tab</th><th scope=col>1_2019_P_M1_S1_L004_ReadsPerGene.out.tab</th><th scope=col>10_2019_P_M1_S10_L001_ReadsPerGene.out.tab</th></tr>\n",
       "\t<tr><th scope=col>&lt;chr&gt;</th><th scope=col>&lt;int&gt;</th><th scope=col>&lt;int&gt;</th><th scope=col>&lt;int&gt;</th><th scope=col>&lt;int&gt;</th><th scope=col>&lt;int&gt;</th></tr>\n",
       "</thead>\n",
       "<tbody>\n",
       "\t<tr><td>N_unmapped    </td><td>21162</td><td>19644</td><td>19307</td><td>17356</td><td> 6456</td></tr>\n",
       "\t<tr><td>N_multimapping</td><td>95540</td><td>94070</td><td>97787</td><td>98723</td><td>75280</td></tr>\n",
       "\t<tr><td>N_noFeature   </td><td>26923</td><td>26053</td><td>27257</td><td>26775</td><td>26470</td></tr>\n",
       "\t<tr><td>N_ambiguous   </td><td>  606</td><td>  638</td><td>  615</td><td>  607</td><td>  464</td></tr>\n",
       "\t<tr><td>CNAG_04548    </td><td>    0</td><td>    0</td><td>    0</td><td>    0</td><td>    0</td></tr>\n",
       "\t<tr><td>CNAG_07303    </td><td>    0</td><td>    0</td><td>    0</td><td>    0</td><td>    0</td></tr>\n",
       "</tbody>\n",
       "</table>\n"
      ],
      "text/latex": [
       "A tibble: 6 × 6\n",
       "\\begin{tabular}{r|llllll}\n",
       " gene & 1\\_2019\\_P\\_M1\\_S1\\_L001\\_ReadsPerGene.out.tab & 1\\_2019\\_P\\_M1\\_S1\\_L002\\_ReadsPerGene.out.tab & 1\\_2019\\_P\\_M1\\_S1\\_L003\\_ReadsPerGene.out.tab & 1\\_2019\\_P\\_M1\\_S1\\_L004\\_ReadsPerGene.out.tab & 10\\_2019\\_P\\_M1\\_S10\\_L001\\_ReadsPerGene.out.tab\\\\\n",
       " <chr> & <int> & <int> & <int> & <int> & <int>\\\\\n",
       "\\hline\n",
       "\t N\\_unmapped     & 21162 & 19644 & 19307 & 17356 &  6456\\\\\n",
       "\t N\\_multimapping & 95540 & 94070 & 97787 & 98723 & 75280\\\\\n",
       "\t N\\_noFeature    & 26923 & 26053 & 27257 & 26775 & 26470\\\\\n",
       "\t N\\_ambiguous    &   606 &   638 &   615 &   607 &   464\\\\\n",
       "\t CNAG\\_04548     &     0 &     0 &     0 &     0 &     0\\\\\n",
       "\t CNAG\\_07303     &     0 &     0 &     0 &     0 &     0\\\\\n",
       "\\end{tabular}\n"
      ],
      "text/markdown": [
       "\n",
       "A tibble: 6 × 6\n",
       "\n",
       "| gene &lt;chr&gt; | 1_2019_P_M1_S1_L001_ReadsPerGene.out.tab &lt;int&gt; | 1_2019_P_M1_S1_L002_ReadsPerGene.out.tab &lt;int&gt; | 1_2019_P_M1_S1_L003_ReadsPerGene.out.tab &lt;int&gt; | 1_2019_P_M1_S1_L004_ReadsPerGene.out.tab &lt;int&gt; | 10_2019_P_M1_S10_L001_ReadsPerGene.out.tab &lt;int&gt; |\n",
       "|---|---|---|---|---|---|\n",
       "| N_unmapped     | 21162 | 19644 | 19307 | 17356 |  6456 |\n",
       "| N_multimapping | 95540 | 94070 | 97787 | 98723 | 75280 |\n",
       "| N_noFeature    | 26923 | 26053 | 27257 | 26775 | 26470 |\n",
       "| N_ambiguous    |   606 |   638 |   615 |   607 |   464 |\n",
       "| CNAG_04548     |     0 |     0 |     0 |     0 |     0 |\n",
       "| CNAG_07303     |     0 |     0 |     0 |     0 |     0 |\n",
       "\n"
      ],
      "text/plain": [
       "  gene           1_2019_P_M1_S1_L001_ReadsPerGene.out.tab\n",
       "1 N_unmapped     21162                                   \n",
       "2 N_multimapping 95540                                   \n",
       "3 N_noFeature    26923                                   \n",
       "4 N_ambiguous      606                                   \n",
       "5 CNAG_04548         0                                   \n",
       "6 CNAG_07303         0                                   \n",
       "  1_2019_P_M1_S1_L002_ReadsPerGene.out.tab\n",
       "1 19644                                   \n",
       "2 94070                                   \n",
       "3 26053                                   \n",
       "4   638                                   \n",
       "5     0                                   \n",
       "6     0                                   \n",
       "  1_2019_P_M1_S1_L003_ReadsPerGene.out.tab\n",
       "1 19307                                   \n",
       "2 97787                                   \n",
       "3 27257                                   \n",
       "4   615                                   \n",
       "5     0                                   \n",
       "6     0                                   \n",
       "  1_2019_P_M1_S1_L004_ReadsPerGene.out.tab\n",
       "1 17356                                   \n",
       "2 98723                                   \n",
       "3 26775                                   \n",
       "4   607                                   \n",
       "5     0                                   \n",
       "6     0                                   \n",
       "  10_2019_P_M1_S10_L001_ReadsPerGene.out.tab\n",
       "1  6456                                     \n",
       "2 75280                                     \n",
       "3 26470                                     \n",
       "4   464                                     \n",
       "5     0                                     \n",
       "6     0                                     "
      ]
     },
     "metadata": {},
     "output_type": "display_data"
    }
   ],
   "source": [
    "out[1:6, 1:6]"
   ]
  },
  {
   "cell_type": "markdown",
   "metadata": {},
   "source": [
    "### Gather and spread the genes to get a count matrix (genecounts)"
   ]
  },
  {
   "cell_type": "code",
   "execution_count": 12,
   "metadata": {},
   "outputs": [
    {
     "data": {
      "text/html": [
       "<table>\n",
       "<caption>A tibble: 6 × 6</caption>\n",
       "<thead>\n",
       "\t<tr><th scope=col>expid</th><th scope=col>CNAG_00001</th><th scope=col>CNAG_00002</th><th scope=col>CNAG_00003</th><th scope=col>CNAG_00004</th><th scope=col>CNAG_00005</th></tr>\n",
       "\t<tr><th scope=col>&lt;chr&gt;</th><th scope=col>&lt;int&gt;</th><th scope=col>&lt;int&gt;</th><th scope=col>&lt;int&gt;</th><th scope=col>&lt;int&gt;</th><th scope=col>&lt;int&gt;</th></tr>\n",
       "</thead>\n",
       "<tbody>\n",
       "\t<tr><td>1_2019_P_M1_S1_L001_ReadsPerGene.out.tab  </td><td>0</td><td>35</td><td>48</td><td>223</td><td>5</td></tr>\n",
       "\t<tr><td>1_2019_P_M1_S1_L002_ReadsPerGene.out.tab  </td><td>0</td><td>43</td><td>46</td><td>227</td><td>7</td></tr>\n",
       "\t<tr><td>1_2019_P_M1_S1_L003_ReadsPerGene.out.tab  </td><td>0</td><td>46</td><td>49</td><td>232</td><td>8</td></tr>\n",
       "\t<tr><td>1_2019_P_M1_S1_L004_ReadsPerGene.out.tab  </td><td>0</td><td>34</td><td>58</td><td>222</td><td>2</td></tr>\n",
       "\t<tr><td>10_2019_P_M1_S10_L001_ReadsPerGene.out.tab</td><td>0</td><td>30</td><td>36</td><td>130</td><td>5</td></tr>\n",
       "\t<tr><td>10_2019_P_M1_S10_L002_ReadsPerGene.out.tab</td><td>0</td><td>37</td><td>37</td><td>117</td><td>7</td></tr>\n",
       "</tbody>\n",
       "</table>\n"
      ],
      "text/latex": [
       "A tibble: 6 × 6\n",
       "\\begin{tabular}{r|llllll}\n",
       " expid & CNAG\\_00001 & CNAG\\_00002 & CNAG\\_00003 & CNAG\\_00004 & CNAG\\_00005\\\\\n",
       " <chr> & <int> & <int> & <int> & <int> & <int>\\\\\n",
       "\\hline\n",
       "\t 1\\_2019\\_P\\_M1\\_S1\\_L001\\_ReadsPerGene.out.tab   & 0 & 35 & 48 & 223 & 5\\\\\n",
       "\t 1\\_2019\\_P\\_M1\\_S1\\_L002\\_ReadsPerGene.out.tab   & 0 & 43 & 46 & 227 & 7\\\\\n",
       "\t 1\\_2019\\_P\\_M1\\_S1\\_L003\\_ReadsPerGene.out.tab   & 0 & 46 & 49 & 232 & 8\\\\\n",
       "\t 1\\_2019\\_P\\_M1\\_S1\\_L004\\_ReadsPerGene.out.tab   & 0 & 34 & 58 & 222 & 2\\\\\n",
       "\t 10\\_2019\\_P\\_M1\\_S10\\_L001\\_ReadsPerGene.out.tab & 0 & 30 & 36 & 130 & 5\\\\\n",
       "\t 10\\_2019\\_P\\_M1\\_S10\\_L002\\_ReadsPerGene.out.tab & 0 & 37 & 37 & 117 & 7\\\\\n",
       "\\end{tabular}\n"
      ],
      "text/markdown": [
       "\n",
       "A tibble: 6 × 6\n",
       "\n",
       "| expid &lt;chr&gt; | CNAG_00001 &lt;int&gt; | CNAG_00002 &lt;int&gt; | CNAG_00003 &lt;int&gt; | CNAG_00004 &lt;int&gt; | CNAG_00005 &lt;int&gt; |\n",
       "|---|---|---|---|---|---|\n",
       "| 1_2019_P_M1_S1_L001_ReadsPerGene.out.tab   | 0 | 35 | 48 | 223 | 5 |\n",
       "| 1_2019_P_M1_S1_L002_ReadsPerGene.out.tab   | 0 | 43 | 46 | 227 | 7 |\n",
       "| 1_2019_P_M1_S1_L003_ReadsPerGene.out.tab   | 0 | 46 | 49 | 232 | 8 |\n",
       "| 1_2019_P_M1_S1_L004_ReadsPerGene.out.tab   | 0 | 34 | 58 | 222 | 2 |\n",
       "| 10_2019_P_M1_S10_L001_ReadsPerGene.out.tab | 0 | 30 | 36 | 130 | 5 |\n",
       "| 10_2019_P_M1_S10_L002_ReadsPerGene.out.tab | 0 | 37 | 37 | 117 | 7 |\n",
       "\n"
      ],
      "text/plain": [
       "  expid                                      CNAG_00001 CNAG_00002 CNAG_00003\n",
       "1 1_2019_P_M1_S1_L001_ReadsPerGene.out.tab   0          35         48        \n",
       "2 1_2019_P_M1_S1_L002_ReadsPerGene.out.tab   0          43         46        \n",
       "3 1_2019_P_M1_S1_L003_ReadsPerGene.out.tab   0          46         49        \n",
       "4 1_2019_P_M1_S1_L004_ReadsPerGene.out.tab   0          34         58        \n",
       "5 10_2019_P_M1_S10_L001_ReadsPerGene.out.tab 0          30         36        \n",
       "6 10_2019_P_M1_S10_L002_ReadsPerGene.out.tab 0          37         37        \n",
       "  CNAG_00004 CNAG_00005\n",
       "1 223        5         \n",
       "2 227        7         \n",
       "3 232        8         \n",
       "4 222        2         \n",
       "5 130        5         \n",
       "6 117        7         "
      ]
     },
     "metadata": {},
     "output_type": "display_data"
    }
   ],
   "source": [
    "out %>%\n",
    "    slice(-(1:4)) %>%\n",
    "    gather(expid, value, -gene) %>% \n",
    "    spread(gene, value) -> genecounts\n",
    "\n",
    "genecounts[1:6, 1:6]"
   ]
  },
  {
   "cell_type": "markdown",
   "metadata": {},
   "source": [
    "### Gather and spread the first four rows to nmisc"
   ]
  },
  {
   "cell_type": "markdown",
   "metadata": {},
   "source": [
    "For nmisc, we will take the first 4 rows of out since those are the summarizing features. Next, we want to transform the data frame so that it is in statistical format (the samples are the rows and the feature types are the columns). Using a combination of gather and spread, we can transpose our matrix into the desired format."
   ]
  },
  {
   "cell_type": "code",
   "execution_count": 13,
   "metadata": {},
   "outputs": [
    {
     "data": {
      "text/html": [
       "<table>\n",
       "<caption>A tibble: 6 × 5</caption>\n",
       "<thead>\n",
       "\t<tr><th scope=col>expid</th><th scope=col>namb</th><th scope=col>nmulti</th><th scope=col>nnofeat</th><th scope=col>nunmap</th></tr>\n",
       "\t<tr><th scope=col>&lt;chr&gt;</th><th scope=col>&lt;int&gt;</th><th scope=col>&lt;int&gt;</th><th scope=col>&lt;int&gt;</th><th scope=col>&lt;int&gt;</th></tr>\n",
       "</thead>\n",
       "<tbody>\n",
       "\t<tr><td>1_2019_P_M1_S1_L001_ReadsPerGene.out.tab  </td><td>606</td><td>95540</td><td>26923</td><td>21162</td></tr>\n",
       "\t<tr><td>1_2019_P_M1_S1_L002_ReadsPerGene.out.tab  </td><td>638</td><td>94070</td><td>26053</td><td>19644</td></tr>\n",
       "\t<tr><td>1_2019_P_M1_S1_L003_ReadsPerGene.out.tab  </td><td>615</td><td>97787</td><td>27257</td><td>19307</td></tr>\n",
       "\t<tr><td>1_2019_P_M1_S1_L004_ReadsPerGene.out.tab  </td><td>607</td><td>98723</td><td>26775</td><td>17356</td></tr>\n",
       "\t<tr><td>10_2019_P_M1_S10_L001_ReadsPerGene.out.tab</td><td>464</td><td>75280</td><td>26470</td><td> 6456</td></tr>\n",
       "\t<tr><td>10_2019_P_M1_S10_L002_ReadsPerGene.out.tab</td><td>445</td><td>73190</td><td>25919</td><td> 6097</td></tr>\n",
       "</tbody>\n",
       "</table>\n"
      ],
      "text/latex": [
       "A tibble: 6 × 5\n",
       "\\begin{tabular}{r|lllll}\n",
       " expid & namb & nmulti & nnofeat & nunmap\\\\\n",
       " <chr> & <int> & <int> & <int> & <int>\\\\\n",
       "\\hline\n",
       "\t 1\\_2019\\_P\\_M1\\_S1\\_L001\\_ReadsPerGene.out.tab   & 606 & 95540 & 26923 & 21162\\\\\n",
       "\t 1\\_2019\\_P\\_M1\\_S1\\_L002\\_ReadsPerGene.out.tab   & 638 & 94070 & 26053 & 19644\\\\\n",
       "\t 1\\_2019\\_P\\_M1\\_S1\\_L003\\_ReadsPerGene.out.tab   & 615 & 97787 & 27257 & 19307\\\\\n",
       "\t 1\\_2019\\_P\\_M1\\_S1\\_L004\\_ReadsPerGene.out.tab   & 607 & 98723 & 26775 & 17356\\\\\n",
       "\t 10\\_2019\\_P\\_M1\\_S10\\_L001\\_ReadsPerGene.out.tab & 464 & 75280 & 26470 &  6456\\\\\n",
       "\t 10\\_2019\\_P\\_M1\\_S10\\_L002\\_ReadsPerGene.out.tab & 445 & 73190 & 25919 &  6097\\\\\n",
       "\\end{tabular}\n"
      ],
      "text/markdown": [
       "\n",
       "A tibble: 6 × 5\n",
       "\n",
       "| expid &lt;chr&gt; | namb &lt;int&gt; | nmulti &lt;int&gt; | nnofeat &lt;int&gt; | nunmap &lt;int&gt; |\n",
       "|---|---|---|---|---|\n",
       "| 1_2019_P_M1_S1_L001_ReadsPerGene.out.tab   | 606 | 95540 | 26923 | 21162 |\n",
       "| 1_2019_P_M1_S1_L002_ReadsPerGene.out.tab   | 638 | 94070 | 26053 | 19644 |\n",
       "| 1_2019_P_M1_S1_L003_ReadsPerGene.out.tab   | 615 | 97787 | 27257 | 19307 |\n",
       "| 1_2019_P_M1_S1_L004_ReadsPerGene.out.tab   | 607 | 98723 | 26775 | 17356 |\n",
       "| 10_2019_P_M1_S10_L001_ReadsPerGene.out.tab | 464 | 75280 | 26470 |  6456 |\n",
       "| 10_2019_P_M1_S10_L002_ReadsPerGene.out.tab | 445 | 73190 | 25919 |  6097 |\n",
       "\n"
      ],
      "text/plain": [
       "  expid                                      namb nmulti nnofeat nunmap\n",
       "1 1_2019_P_M1_S1_L001_ReadsPerGene.out.tab   606  95540  26923   21162 \n",
       "2 1_2019_P_M1_S1_L002_ReadsPerGene.out.tab   638  94070  26053   19644 \n",
       "3 1_2019_P_M1_S1_L003_ReadsPerGene.out.tab   615  97787  27257   19307 \n",
       "4 1_2019_P_M1_S1_L004_ReadsPerGene.out.tab   607  98723  26775   17356 \n",
       "5 10_2019_P_M1_S10_L001_ReadsPerGene.out.tab 464  75280  26470    6456 \n",
       "6 10_2019_P_M1_S10_L002_ReadsPerGene.out.tab 445  73190  25919    6097 "
      ]
     },
     "metadata": {},
     "output_type": "display_data"
    }
   ],
   "source": [
    "out %>%\n",
    "    slice(1:4) %>%\n",
    "    gather(expid, value, -gene) %>% \n",
    "    spread(gene, value) %>%\n",
    "    rename_(.dots=setNames(names(.), c(\"expid\", \"namb\", \"nmulti\", \"nnofeat\",\"nunmap\"))) -> nmisc\n",
    "\n",
    "nmisc[1:6, ]"
   ]
  },
  {
   "cell_type": "markdown",
   "metadata": {},
   "source": [
    "### Gather and spread the gene rows"
   ]
  },
  {
   "cell_type": "markdown",
   "metadata": {},
   "source": [
    "For each samples, we want to sum up all the counts, so we can create a variable denoting the number of total genes mapped for each sample by summing across the rows."
   ]
  },
  {
   "cell_type": "code",
   "execution_count": 14,
   "metadata": {},
   "outputs": [
    {
     "data": {
      "text/html": [
       "<table>\n",
       "<caption>A tibble: 6 × 2</caption>\n",
       "<thead>\n",
       "\t<tr><th scope=col>expid</th><th scope=col>ngenemap</th></tr>\n",
       "\t<tr><th scope=col>&lt;chr&gt;</th><th scope=col>&lt;dbl&gt;</th></tr>\n",
       "</thead>\n",
       "<tbody>\n",
       "\t<tr><td>1_2019_P_M1_S1_L001_ReadsPerGene.out.tab  </td><td>4660549</td></tr>\n",
       "\t<tr><td>1_2019_P_M1_S1_L002_ReadsPerGene.out.tab  </td><td>4591006</td></tr>\n",
       "\t<tr><td>1_2019_P_M1_S1_L003_ReadsPerGene.out.tab  </td><td>4715846</td></tr>\n",
       "\t<tr><td>1_2019_P_M1_S1_L004_ReadsPerGene.out.tab  </td><td>4681095</td></tr>\n",
       "\t<tr><td>10_2019_P_M1_S10_L001_ReadsPerGene.out.tab</td><td>3261459</td></tr>\n",
       "\t<tr><td>10_2019_P_M1_S10_L002_ReadsPerGene.out.tab</td><td>3208423</td></tr>\n",
       "</tbody>\n",
       "</table>\n"
      ],
      "text/latex": [
       "A tibble: 6 × 2\n",
       "\\begin{tabular}{r|ll}\n",
       " expid & ngenemap\\\\\n",
       " <chr> & <dbl>\\\\\n",
       "\\hline\n",
       "\t 1\\_2019\\_P\\_M1\\_S1\\_L001\\_ReadsPerGene.out.tab   & 4660549\\\\\n",
       "\t 1\\_2019\\_P\\_M1\\_S1\\_L002\\_ReadsPerGene.out.tab   & 4591006\\\\\n",
       "\t 1\\_2019\\_P\\_M1\\_S1\\_L003\\_ReadsPerGene.out.tab   & 4715846\\\\\n",
       "\t 1\\_2019\\_P\\_M1\\_S1\\_L004\\_ReadsPerGene.out.tab   & 4681095\\\\\n",
       "\t 10\\_2019\\_P\\_M1\\_S10\\_L001\\_ReadsPerGene.out.tab & 3261459\\\\\n",
       "\t 10\\_2019\\_P\\_M1\\_S10\\_L002\\_ReadsPerGene.out.tab & 3208423\\\\\n",
       "\\end{tabular}\n"
      ],
      "text/markdown": [
       "\n",
       "A tibble: 6 × 2\n",
       "\n",
       "| expid &lt;chr&gt; | ngenemap &lt;dbl&gt; |\n",
       "|---|---|\n",
       "| 1_2019_P_M1_S1_L001_ReadsPerGene.out.tab   | 4660549 |\n",
       "| 1_2019_P_M1_S1_L002_ReadsPerGene.out.tab   | 4591006 |\n",
       "| 1_2019_P_M1_S1_L003_ReadsPerGene.out.tab   | 4715846 |\n",
       "| 1_2019_P_M1_S1_L004_ReadsPerGene.out.tab   | 4681095 |\n",
       "| 10_2019_P_M1_S10_L001_ReadsPerGene.out.tab | 3261459 |\n",
       "| 10_2019_P_M1_S10_L002_ReadsPerGene.out.tab | 3208423 |\n",
       "\n"
      ],
      "text/plain": [
       "  expid                                      ngenemap\n",
       "1 1_2019_P_M1_S1_L001_ReadsPerGene.out.tab   4660549 \n",
       "2 1_2019_P_M1_S1_L002_ReadsPerGene.out.tab   4591006 \n",
       "3 1_2019_P_M1_S1_L003_ReadsPerGene.out.tab   4715846 \n",
       "4 1_2019_P_M1_S1_L004_ReadsPerGene.out.tab   4681095 \n",
       "5 10_2019_P_M1_S10_L001_ReadsPerGene.out.tab 3261459 \n",
       "6 10_2019_P_M1_S10_L002_ReadsPerGene.out.tab 3208423 "
      ]
     },
     "metadata": {},
     "output_type": "display_data"
    }
   ],
   "source": [
    "out %>%\n",
    "    slice(-(1:4)) %>%\n",
    "    gather(expid, value, -gene) %>% \n",
    "    spread(gene, value) %>%\n",
    "    mutate(ngenemap=rowSums(.[-1])) %>%\n",
    "    select(expid, ngenemap) -> ngene\n",
    "\n",
    "ngene[1:6, ]"
   ]
  },
  {
   "cell_type": "markdown",
   "metadata": {},
   "source": [
    "### merge in the 4 misc counts and add summaries"
   ]
  },
  {
   "cell_type": "markdown",
   "metadata": {},
   "source": [
    "So far, we can create a comprehensive data frame mapresults which will combine ngene with nmisc. This data frame will have summarizing mapping features in addition to proportion features."
   ]
  },
  {
   "cell_type": "code",
   "execution_count": 15,
   "metadata": {},
   "outputs": [
    {
     "data": {
      "text/html": [
       "<table>\n",
       "<caption>A tibble: 6 × 10</caption>\n",
       "<thead>\n",
       "\t<tr><th scope=col>expid</th><th scope=col>ngenemap</th><th scope=col>namb</th><th scope=col>nmulti</th><th scope=col>nnofeat</th><th scope=col>nunmap</th><th scope=col>depth</th><th scope=col>prob.gene</th><th scope=col>prob.nofeat</th><th scope=col>prob.unique</th></tr>\n",
       "\t<tr><th scope=col>&lt;chr&gt;</th><th scope=col>&lt;dbl&gt;</th><th scope=col>&lt;int&gt;</th><th scope=col>&lt;int&gt;</th><th scope=col>&lt;int&gt;</th><th scope=col>&lt;int&gt;</th><th scope=col>&lt;int&gt;</th><th scope=col>&lt;dbl&gt;</th><th scope=col>&lt;dbl&gt;</th><th scope=col>&lt;dbl&gt;</th></tr>\n",
       "</thead>\n",
       "<tbody>\n",
       "\t<tr><td>1_2019_P_M1_S1_L001_ReadsPerGene.out.tab  </td><td>4660549</td><td>606</td><td>95540</td><td>26923</td><td>21162</td><td>4804780</td><td>0.9699818</td><td>0.005603378</td><td>0.9755851</td></tr>\n",
       "\t<tr><td>1_2019_P_M1_S1_L002_ReadsPerGene.out.tab  </td><td>4591006</td><td>638</td><td>94070</td><td>26053</td><td>19644</td><td>4731411</td><td>0.9703249</td><td>0.005506391</td><td>0.9758313</td></tr>\n",
       "\t<tr><td>1_2019_P_M1_S1_L003_ReadsPerGene.out.tab  </td><td>4715846</td><td>615</td><td>97787</td><td>27257</td><td>19307</td><td>4860812</td><td>0.9701766</td><td>0.005607499</td><td>0.9757841</td></tr>\n",
       "\t<tr><td>1_2019_P_M1_S1_L004_ReadsPerGene.out.tab  </td><td>4681095</td><td>607</td><td>98723</td><td>26775</td><td>17356</td><td>4824556</td><td>0.9702644</td><td>0.005549733</td><td>0.9758141</td></tr>\n",
       "\t<tr><td>10_2019_P_M1_S10_L001_ReadsPerGene.out.tab</td><td>3261459</td><td>464</td><td>75280</td><td>26470</td><td> 6456</td><td>3370129</td><td>0.9677549</td><td>0.007854299</td><td>0.9756092</td></tr>\n",
       "\t<tr><td>10_2019_P_M1_S10_L002_ReadsPerGene.out.tab</td><td>3208423</td><td>445</td><td>73190</td><td>25919</td><td> 6097</td><td>3314074</td><td>0.9681205</td><td>0.007820888</td><td>0.9759414</td></tr>\n",
       "</tbody>\n",
       "</table>\n"
      ],
      "text/latex": [
       "A tibble: 6 × 10\n",
       "\\begin{tabular}{r|llllllllll}\n",
       " expid & ngenemap & namb & nmulti & nnofeat & nunmap & depth & prob.gene & prob.nofeat & prob.unique\\\\\n",
       " <chr> & <dbl> & <int> & <int> & <int> & <int> & <int> & <dbl> & <dbl> & <dbl>\\\\\n",
       "\\hline\n",
       "\t 1\\_2019\\_P\\_M1\\_S1\\_L001\\_ReadsPerGene.out.tab   & 4660549 & 606 & 95540 & 26923 & 21162 & 4804780 & 0.9699818 & 0.005603378 & 0.9755851\\\\\n",
       "\t 1\\_2019\\_P\\_M1\\_S1\\_L002\\_ReadsPerGene.out.tab   & 4591006 & 638 & 94070 & 26053 & 19644 & 4731411 & 0.9703249 & 0.005506391 & 0.9758313\\\\\n",
       "\t 1\\_2019\\_P\\_M1\\_S1\\_L003\\_ReadsPerGene.out.tab   & 4715846 & 615 & 97787 & 27257 & 19307 & 4860812 & 0.9701766 & 0.005607499 & 0.9757841\\\\\n",
       "\t 1\\_2019\\_P\\_M1\\_S1\\_L004\\_ReadsPerGene.out.tab   & 4681095 & 607 & 98723 & 26775 & 17356 & 4824556 & 0.9702644 & 0.005549733 & 0.9758141\\\\\n",
       "\t 10\\_2019\\_P\\_M1\\_S10\\_L001\\_ReadsPerGene.out.tab & 3261459 & 464 & 75280 & 26470 &  6456 & 3370129 & 0.9677549 & 0.007854299 & 0.9756092\\\\\n",
       "\t 10\\_2019\\_P\\_M1\\_S10\\_L002\\_ReadsPerGene.out.tab & 3208423 & 445 & 73190 & 25919 &  6097 & 3314074 & 0.9681205 & 0.007820888 & 0.9759414\\\\\n",
       "\\end{tabular}\n"
      ],
      "text/markdown": [
       "\n",
       "A tibble: 6 × 10\n",
       "\n",
       "| expid &lt;chr&gt; | ngenemap &lt;dbl&gt; | namb &lt;int&gt; | nmulti &lt;int&gt; | nnofeat &lt;int&gt; | nunmap &lt;int&gt; | depth &lt;int&gt; | prob.gene &lt;dbl&gt; | prob.nofeat &lt;dbl&gt; | prob.unique &lt;dbl&gt; |\n",
       "|---|---|---|---|---|---|---|---|---|---|\n",
       "| 1_2019_P_M1_S1_L001_ReadsPerGene.out.tab   | 4660549 | 606 | 95540 | 26923 | 21162 | 4804780 | 0.9699818 | 0.005603378 | 0.9755851 |\n",
       "| 1_2019_P_M1_S1_L002_ReadsPerGene.out.tab   | 4591006 | 638 | 94070 | 26053 | 19644 | 4731411 | 0.9703249 | 0.005506391 | 0.9758313 |\n",
       "| 1_2019_P_M1_S1_L003_ReadsPerGene.out.tab   | 4715846 | 615 | 97787 | 27257 | 19307 | 4860812 | 0.9701766 | 0.005607499 | 0.9757841 |\n",
       "| 1_2019_P_M1_S1_L004_ReadsPerGene.out.tab   | 4681095 | 607 | 98723 | 26775 | 17356 | 4824556 | 0.9702644 | 0.005549733 | 0.9758141 |\n",
       "| 10_2019_P_M1_S10_L001_ReadsPerGene.out.tab | 3261459 | 464 | 75280 | 26470 |  6456 | 3370129 | 0.9677549 | 0.007854299 | 0.9756092 |\n",
       "| 10_2019_P_M1_S10_L002_ReadsPerGene.out.tab | 3208423 | 445 | 73190 | 25919 |  6097 | 3314074 | 0.9681205 | 0.007820888 | 0.9759414 |\n",
       "\n"
      ],
      "text/plain": [
       "  expid                                      ngenemap namb nmulti nnofeat\n",
       "1 1_2019_P_M1_S1_L001_ReadsPerGene.out.tab   4660549  606  95540  26923  \n",
       "2 1_2019_P_M1_S1_L002_ReadsPerGene.out.tab   4591006  638  94070  26053  \n",
       "3 1_2019_P_M1_S1_L003_ReadsPerGene.out.tab   4715846  615  97787  27257  \n",
       "4 1_2019_P_M1_S1_L004_ReadsPerGene.out.tab   4681095  607  98723  26775  \n",
       "5 10_2019_P_M1_S10_L001_ReadsPerGene.out.tab 3261459  464  75280  26470  \n",
       "6 10_2019_P_M1_S10_L002_ReadsPerGene.out.tab 3208423  445  73190  25919  \n",
       "  nunmap depth   prob.gene prob.nofeat prob.unique\n",
       "1 21162  4804780 0.9699818 0.005603378 0.9755851  \n",
       "2 19644  4731411 0.9703249 0.005506391 0.9758313  \n",
       "3 19307  4860812 0.9701766 0.005607499 0.9757841  \n",
       "4 17356  4824556 0.9702644 0.005549733 0.9758141  \n",
       "5  6456  3370129 0.9677549 0.007854299 0.9756092  \n",
       "6  6097  3314074 0.9681205 0.007820888 0.9759414  "
      ]
     },
     "metadata": {},
     "output_type": "display_data"
    }
   ],
   "source": [
    "ngene %>%\n",
    "    full_join(nmisc, by=\"expid\") %>%\n",
    "    mutate(depth = as.integer(ngenemap + namb + nmulti + nnofeat + nunmap)) %>%\n",
    "    mutate(prob.gene = ngenemap / depth) %>%\n",
    "    mutate(prob.nofeat = nnofeat / depth) %>%\n",
    "    mutate(prob.unique = (ngenemap+nnofeat) / depth) -> mapresults\n",
    "\n",
    "mapresults[1:6, ]"
   ]
  },
  {
   "cell_type": "code",
   "execution_count": 16,
   "metadata": {},
   "outputs": [
    {
     "data": {
      "text/html": [
       "<strong>/home/jovyan/work/scratch/analysis_output/out/hts-pilot-2019.RData:</strong> 'f617195665ef950ffb36a89f2d18a9ca'"
      ],
      "text/latex": [
       "\\textbf{/home/jovyan/work/scratch/analysis\\textbackslash{}\\_output/out/hts-pilot-2019.RData:} 'f617195665ef950ffb36a89f2d18a9ca'"
      ],
      "text/markdown": [
       "**/home/jovyan/work/scratch/analysis_output/out/hts-pilot-2019.RData:** 'f617195665ef950ffb36a89f2d18a9ca'"
      ],
      "text/plain": [
       "/home/jovyan/work/scratch/analysis_output/out/hts-pilot-2019.RData \n",
       "                                \"f617195665ef950ffb36a89f2d18a9ca\" "
      ]
     },
     "metadata": {},
     "output_type": "display_data"
    }
   ],
   "source": [
    "outfile <- file.path(outdir, \"hts-pilot-2019.RData\")\n",
    "save(mapresults, genecounts, file=outfile)\n",
    "tools::md5sum(outfile)"
   ]
  },
  {
   "cell_type": "code",
   "execution_count": null,
   "metadata": {},
   "outputs": [],
   "source": []
  }
 ],
 "metadata": {
  "kernelspec": {
   "display_name": "R",
   "language": "R",
   "name": "ir"
  },
  "language_info": {
   "codemirror_mode": "r",
   "file_extension": ".r",
   "mimetype": "text/x-r-source",
   "name": "R",
   "pygments_lexer": "r",
   "version": "3.6.0"
  }
 },
 "nbformat": 4,
 "nbformat_minor": 2
}
