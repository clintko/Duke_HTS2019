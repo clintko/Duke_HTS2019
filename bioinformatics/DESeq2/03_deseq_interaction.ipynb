{
 "cells": [
  {
   "cell_type": "markdown",
   "metadata": {},
   "source": [
    "# DESeq2: Basic Differential Expression (DE) analysis"
   ]
  },
  {
   "cell_type": "markdown",
   "metadata": {},
   "source": [
    "## Objective: Carry out a basic set of DE interaction analysis using DESeq2 and visualize the results"
   ]
  },
  {
   "cell_type": "markdown",
   "metadata": {},
   "source": [
    "## The objective is to identify genes whose differential effect due to treatment depends on the genotype "
   ]
  },
  {
   "cell_type": "markdown",
   "metadata": {},
   "source": [
    "### Load packages"
   ]
  },
  {
   "cell_type": "code",
   "execution_count": 1,
   "metadata": {},
   "outputs": [
    {
     "name": "stderr",
     "output_type": "stream",
     "text": [
      "Registered S3 methods overwritten by 'ggplot2':\n",
      "  method         from \n",
      "  [.quosures     rlang\n",
      "  c.quosures     rlang\n",
      "  print.quosures rlang\n",
      "── \u001b[1mAttaching packages\u001b[22m ─────────────────────────────────────── tidyverse 1.2.1 ──\n",
      "\u001b[32m✔\u001b[39m \u001b[34mggplot2\u001b[39m 3.1.1     \u001b[32m✔\u001b[39m \u001b[34mpurrr  \u001b[39m 0.3.2\n",
      "\u001b[32m✔\u001b[39m \u001b[34mtibble \u001b[39m 2.1.2     \u001b[32m✔\u001b[39m \u001b[34mdplyr  \u001b[39m 0.8.1\n",
      "\u001b[32m✔\u001b[39m \u001b[34mtidyr  \u001b[39m 0.8.3     \u001b[32m✔\u001b[39m \u001b[34mstringr\u001b[39m 1.4.0\n",
      "\u001b[32m✔\u001b[39m \u001b[34mreadr  \u001b[39m 1.3.1     \u001b[32m✔\u001b[39m \u001b[34mforcats\u001b[39m 0.4.0\n",
      "── \u001b[1mConflicts\u001b[22m ────────────────────────────────────────── tidyverse_conflicts() ──\n",
      "\u001b[31m✖\u001b[39m \u001b[34mdplyr\u001b[39m::\u001b[32mfilter()\u001b[39m masks \u001b[34mstats\u001b[39m::filter()\n",
      "\u001b[31m✖\u001b[39m \u001b[34mdplyr\u001b[39m::\u001b[32mlag()\u001b[39m    masks \u001b[34mstats\u001b[39m::lag()\n",
      "Loading required package: S4Vectors\n",
      "Loading required package: stats4\n",
      "Loading required package: BiocGenerics\n",
      "Loading required package: parallel\n",
      "\n",
      "Attaching package: ‘BiocGenerics’\n",
      "\n",
      "The following objects are masked from ‘package:parallel’:\n",
      "\n",
      "    clusterApply, clusterApplyLB, clusterCall, clusterEvalQ,\n",
      "    clusterExport, clusterMap, parApply, parCapply, parLapply,\n",
      "    parLapplyLB, parRapply, parSapply, parSapplyLB\n",
      "\n",
      "The following objects are masked from ‘package:dplyr’:\n",
      "\n",
      "    combine, intersect, setdiff, union\n",
      "\n",
      "The following objects are masked from ‘package:stats’:\n",
      "\n",
      "    IQR, mad, sd, var, xtabs\n",
      "\n",
      "The following objects are masked from ‘package:base’:\n",
      "\n",
      "    anyDuplicated, append, as.data.frame, basename, cbind, colnames,\n",
      "    dirname, do.call, duplicated, eval, evalq, Filter, Find, get, grep,\n",
      "    grepl, intersect, is.unsorted, lapply, Map, mapply, match, mget,\n",
      "    order, paste, pmax, pmax.int, pmin, pmin.int, Position, rank,\n",
      "    rbind, Reduce, rownames, sapply, setdiff, sort, table, tapply,\n",
      "    union, unique, unsplit, which, which.max, which.min\n",
      "\n",
      "\n",
      "Attaching package: ‘S4Vectors’\n",
      "\n",
      "The following objects are masked from ‘package:dplyr’:\n",
      "\n",
      "    first, rename\n",
      "\n",
      "The following object is masked from ‘package:tidyr’:\n",
      "\n",
      "    expand\n",
      "\n",
      "The following object is masked from ‘package:base’:\n",
      "\n",
      "    expand.grid\n",
      "\n",
      "Loading required package: IRanges\n",
      "\n",
      "Attaching package: ‘IRanges’\n",
      "\n",
      "The following objects are masked from ‘package:dplyr’:\n",
      "\n",
      "    collapse, desc, slice\n",
      "\n",
      "The following object is masked from ‘package:purrr’:\n",
      "\n",
      "    reduce\n",
      "\n",
      "Loading required package: GenomicRanges\n",
      "Loading required package: GenomeInfoDb\n",
      "Loading required package: SummarizedExperiment\n",
      "Loading required package: Biobase\n",
      "Welcome to Bioconductor\n",
      "\n",
      "    Vignettes contain introductory material; view with\n",
      "    'browseVignettes()'. To cite Bioconductor, see\n",
      "    'citation(\"Biobase\")', and for packages 'citation(\"pkgname\")'.\n",
      "\n",
      "Loading required package: DelayedArray\n",
      "Loading required package: matrixStats\n",
      "\n",
      "Attaching package: ‘matrixStats’\n",
      "\n",
      "The following objects are masked from ‘package:Biobase’:\n",
      "\n",
      "    anyMissing, rowMedians\n",
      "\n",
      "The following object is masked from ‘package:dplyr’:\n",
      "\n",
      "    count\n",
      "\n",
      "Loading required package: BiocParallel\n",
      "\n",
      "Attaching package: ‘DelayedArray’\n",
      "\n",
      "The following objects are masked from ‘package:matrixStats’:\n",
      "\n",
      "    colMaxs, colMins, colRanges, rowMaxs, rowMins, rowRanges\n",
      "\n",
      "The following object is masked from ‘package:purrr’:\n",
      "\n",
      "    simplify\n",
      "\n",
      "The following objects are masked from ‘package:base’:\n",
      "\n",
      "    aperm, apply, rowsum\n",
      "\n",
      "\n",
      "---------------------\n",
      "Welcome to dendextend version 1.12.0\n",
      "Type citation('dendextend') for how to cite the package.\n",
      "\n",
      "Type browseVignettes(package = 'dendextend') for the package vignette.\n",
      "The github page is: https://github.com/talgalili/dendextend/\n",
      "\n",
      "Suggestions and bug-reports can be submitted at: https://github.com/talgalili/dendextend/issues\n",
      "Or contact: <tal.galili@gmail.com>\n",
      "\n",
      "\tTo suppress this message use:  suppressPackageStartupMessages(library(dendextend))\n",
      "---------------------\n",
      "\n",
      "\n",
      "Attaching package: ‘dendextend’\n",
      "\n",
      "The following object is masked from ‘package:stats’:\n",
      "\n",
      "    cutree\n",
      "\n"
     ]
    }
   ],
   "source": [
    "library(tidyverse)\n",
    "library(DESeq2)\n",
    "library(dendextend)\n",
    "library(RColorBrewer)"
   ]
  },
  {
   "cell_type": "markdown",
   "metadata": {},
   "source": [
    "### Load the 2019 pilot dds object from image file"
   ]
  },
  {
   "cell_type": "code",
   "execution_count": 2,
   "metadata": {},
   "outputs": [
    {
     "data": {
      "text/html": [
       "'/home/jovyan/work/scratch/analysis_output/img/pilotdds2019.RData'"
      ],
      "text/latex": [
       "'/home/jovyan/work/scratch/analysis\\_output/img/pilotdds2019.RData'"
      ],
      "text/markdown": [
       "'/home/jovyan/work/scratch/analysis_output/img/pilotdds2019.RData'"
      ],
      "text/plain": [
       "[1] \"/home/jovyan/work/scratch/analysis_output/img/pilotdds2019.RData\""
      ]
     },
     "metadata": {},
     "output_type": "display_data"
    },
    {
     "data": {
      "text/html": [
       "<strong>/home/jovyan/work/scratch/analysis_output/img/pilotdds2019.RData:</strong> '6632de5c8a2eed06d8c40c958e6f5d03'"
      ],
      "text/latex": [
       "\\textbf{/home/jovyan/work/scratch/analysis\\textbackslash{}\\_output/img/pilotdds2019.RData:} '6632de5c8a2eed06d8c40c958e6f5d03'"
      ],
      "text/markdown": [
       "**/home/jovyan/work/scratch/analysis_output/img/pilotdds2019.RData:** '6632de5c8a2eed06d8c40c958e6f5d03'"
      ],
      "text/plain": [
       "/home/jovyan/work/scratch/analysis_output/img/pilotdds2019.RData \n",
       "                              \"6632de5c8a2eed06d8c40c958e6f5d03\" "
      ]
     },
     "metadata": {},
     "output_type": "display_data"
    },
    {
     "data": {
      "text/html": [
       "'dds2019'"
      ],
      "text/latex": [
       "'dds2019'"
      ],
      "text/markdown": [
       "'dds2019'"
      ],
      "text/plain": [
       "[1] \"dds2019\""
      ]
     },
     "metadata": {},
     "output_type": "display_data"
    }
   ],
   "source": [
    "curdir <- \"/home/jovyan/work/scratch/analysis_output\"\n",
    "imgdir <- file.path(curdir, \"img\")\n",
    "\n",
    "imgfile <- file.path(imgdir, \"pilotdds2019.RData\")\n",
    "\n",
    "imgfile\n",
    "\n",
    "attach(imgfile)\n",
    "\n",
    "tools::md5sum(imgfile)\n",
    "\n",
    "### List the objects that have been attached\n",
    "ls(2)\n",
    "\n",
    "dds2019 <- dds2019\n",
    "\n",
    "detach(pos = 2)"
   ]
  },
  {
   "cell_type": "markdown",
   "metadata": {},
   "source": [
    "## Before carrying out an interaction analysis, let's review the steps for conducting a DE analysis"
   ]
  },
  {
   "cell_type": "markdown",
   "metadata": {},
   "source": [
    "### Inspect the dds2019 object"
   ]
  },
  {
   "cell_type": "code",
   "execution_count": 3,
   "metadata": {},
   "outputs": [
    {
     "data": {
      "text/plain": [
       "class: DESeqDataSet \n",
       "dim: 8499 24 \n",
       "metadata(1): version\n",
       "assays(1): counts\n",
       "rownames(8499): CNAG_00001 CNAG_00002 ... large_MTrRNA small_MTrRNA\n",
       "rowData names(0):\n",
       "colnames(24): 1_2019_P_M1 2_2019_P_M1 ... 23_2019_P_M1 24_2019_P_M1\n",
       "colData names(22): Label sample_year ... RIN_normal_threshold\n",
       "  RIN_lowered_threshold"
      ]
     },
     "metadata": {},
     "output_type": "display_data"
    }
   ],
   "source": [
    "dds2019"
   ]
  },
  {
   "cell_type": "markdown",
   "metadata": {},
   "source": [
    "### Note that the design is additive "
   ]
  },
  {
   "cell_type": "code",
   "execution_count": 4,
   "metadata": {},
   "outputs": [
    {
     "data": {
      "text/plain": [
       "~condition + genotype"
      ]
     },
     "metadata": {},
     "output_type": "display_data"
    }
   ],
   "source": [
    "design(dds2019)"
   ]
  },
  {
   "cell_type": "markdown",
   "metadata": {},
   "source": [
    "### The steps for a basic analysis are: estimate size factors, estimate dispersion parameters, and then carry out DE analysis"
   ]
  },
  {
   "cell_type": "code",
   "execution_count": 5,
   "metadata": {},
   "outputs": [
    {
     "name": "stderr",
     "output_type": "stream",
     "text": [
      "gene-wise dispersion estimates\n",
      "mean-dispersion relationship\n",
      "final dispersion estimates\n",
      "using pre-existing size factors\n",
      "estimating dispersions\n",
      "found already estimated dispersions, replacing these\n",
      "gene-wise dispersion estimates\n",
      "mean-dispersion relationship\n",
      "final dispersion estimates\n",
      "fitting model and testing\n"
     ]
    }
   ],
   "source": [
    "### First copy dds2019 to ddsadd\n",
    "ddsadd <- dds2019\n",
    "### Estimate Size Factors\n",
    "ddsadd <- estimateSizeFactors(ddsadd)\n",
    "### Estimate Dispersion parameters (for each gene)\n",
    "ddsadd <- estimateDispersions(ddsadd)\n",
    "### Fit NB MLE model\n",
    "ddsadd <- DESeq(ddsadd)\n",
    "### Rlog \"normalized\" expressions\n",
    "#rldadd <- rlog(ddsadd, blind = TRUE)"
   ]
  },
  {
   "cell_type": "markdown",
   "metadata": {},
   "source": [
    "### Identify differentially expressed genes with respect to condition using pH4 as reference"
   ]
  },
  {
   "cell_type": "code",
   "execution_count": 6,
   "metadata": {},
   "outputs": [
    {
     "data": {
      "text/html": [
       "<table>\n",
       "<caption>A data.frame: 5 × 7</caption>\n",
       "<thead>\n",
       "\t<tr><th scope=col>row</th><th scope=col>baseMean</th><th scope=col>log2FoldChange</th><th scope=col>lfcSE</th><th scope=col>stat</th><th scope=col>pvalue</th><th scope=col>padj</th></tr>\n",
       "\t<tr><th scope=col>&lt;chr&gt;</th><th scope=col>&lt;dbl&gt;</th><th scope=col>&lt;dbl&gt;</th><th scope=col>&lt;dbl&gt;</th><th scope=col>&lt;dbl&gt;</th><th scope=col>&lt;dbl&gt;</th><th scope=col>&lt;dbl&gt;</th></tr>\n",
       "</thead>\n",
       "<tbody>\n",
       "\t<tr><td>CNAG_00275</td><td> 1072.9219</td><td>-4.048106</td><td>0.10667356</td><td>-37.94854</td><td>0</td><td>0</td></tr>\n",
       "\t<tr><td>CNAG_00309</td><td>  539.1312</td><td>-3.331524</td><td>0.08444635</td><td>-39.45137</td><td>0</td><td>0</td></tr>\n",
       "\t<tr><td>CNAG_00409</td><td> 1093.4775</td><td>-5.030655</td><td>0.07452918</td><td>-67.49913</td><td>0</td><td>0</td></tr>\n",
       "\t<tr><td>CNAG_00531</td><td>15371.8856</td><td> 3.563691</td><td>0.05663035</td><td> 62.92900</td><td>0</td><td>0</td></tr>\n",
       "\t<tr><td>CNAG_00601</td><td>  506.4752</td><td> 4.661577</td><td>0.09625726</td><td> 48.42832</td><td>0</td><td>0</td></tr>\n",
       "</tbody>\n",
       "</table>\n"
      ],
      "text/latex": [
       "A data.frame: 5 × 7\n",
       "\\begin{tabular}{r|lllllll}\n",
       " row & baseMean & log2FoldChange & lfcSE & stat & pvalue & padj\\\\\n",
       " <chr> & <dbl> & <dbl> & <dbl> & <dbl> & <dbl> & <dbl>\\\\\n",
       "\\hline\n",
       "\t CNAG\\_00275 &  1072.9219 & -4.048106 & 0.10667356 & -37.94854 & 0 & 0\\\\\n",
       "\t CNAG\\_00309 &   539.1312 & -3.331524 & 0.08444635 & -39.45137 & 0 & 0\\\\\n",
       "\t CNAG\\_00409 &  1093.4775 & -5.030655 & 0.07452918 & -67.49913 & 0 & 0\\\\\n",
       "\t CNAG\\_00531 & 15371.8856 &  3.563691 & 0.05663035 &  62.92900 & 0 & 0\\\\\n",
       "\t CNAG\\_00601 &   506.4752 &  4.661577 & 0.09625726 &  48.42832 & 0 & 0\\\\\n",
       "\\end{tabular}\n"
      ],
      "text/markdown": [
       "\n",
       "A data.frame: 5 × 7\n",
       "\n",
       "| row &lt;chr&gt; | baseMean &lt;dbl&gt; | log2FoldChange &lt;dbl&gt; | lfcSE &lt;dbl&gt; | stat &lt;dbl&gt; | pvalue &lt;dbl&gt; | padj &lt;dbl&gt; |\n",
       "|---|---|---|---|---|---|---|\n",
       "| CNAG_00275 |  1072.9219 | -4.048106 | 0.10667356 | -37.94854 | 0 | 0 |\n",
       "| CNAG_00309 |   539.1312 | -3.331524 | 0.08444635 | -39.45137 | 0 | 0 |\n",
       "| CNAG_00409 |  1093.4775 | -5.030655 | 0.07452918 | -67.49913 | 0 | 0 |\n",
       "| CNAG_00531 | 15371.8856 |  3.563691 | 0.05663035 |  62.92900 | 0 | 0 |\n",
       "| CNAG_00601 |   506.4752 |  4.661577 | 0.09625726 |  48.42832 | 0 | 0 |\n",
       "\n"
      ],
      "text/plain": [
       "  row        baseMean   log2FoldChange lfcSE      stat      pvalue padj\n",
       "1 CNAG_00275  1072.9219 -4.048106      0.10667356 -37.94854 0      0   \n",
       "2 CNAG_00309   539.1312 -3.331524      0.08444635 -39.45137 0      0   \n",
       "3 CNAG_00409  1093.4775 -5.030655      0.07452918 -67.49913 0      0   \n",
       "4 CNAG_00531 15371.8856  3.563691      0.05663035  62.92900 0      0   \n",
       "5 CNAG_00601   506.4752  4.661577      0.09625726  48.42832 0      0   "
      ]
     },
     "metadata": {},
     "output_type": "display_data"
    }
   ],
   "source": [
    "results(ddsadd, contrast = c(\"condition\", \"pH8\", \"pH4\"), tidy = TRUE) %>%\n",
    "    arrange(desc(-padj)) %>% \n",
    "        head(5)"
   ]
  },
  {
   "cell_type": "code",
   "execution_count": 7,
   "metadata": {},
   "outputs": [],
   "source": [
    "## Interaction analysis"
   ]
  },
  {
   "cell_type": "code",
   "execution_count": 8,
   "metadata": {},
   "outputs": [],
   "source": [
    "### The first step is to specify the design"
   ]
  },
  {
   "cell_type": "code",
   "execution_count": 9,
   "metadata": {},
   "outputs": [
    {
     "data": {
      "text/plain": [
       "~condition + genotype"
      ]
     },
     "metadata": {},
     "output_type": "display_data"
    }
   ],
   "source": [
    "### Additive design\n",
    "ddsmult <- dds2019\n",
    "design(ddsmult)"
   ]
  },
  {
   "cell_type": "markdown",
   "metadata": {},
   "source": [
    "Update the design by adding the term genotype:condition"
   ]
  },
  {
   "cell_type": "code",
   "execution_count": 10,
   "metadata": {},
   "outputs": [
    {
     "data": {
      "text/plain": [
       "~genotype + condition + genotype:condition"
      ]
     },
     "metadata": {},
     "output_type": "display_data"
    }
   ],
   "source": [
    "design(ddsmult) <- formula(~ genotype + condition + genotype:condition)\n",
    "design(ddsmult)"
   ]
  },
  {
   "cell_type": "code",
   "execution_count": 11,
   "metadata": {},
   "outputs": [],
   "source": [
    "### Now repeat the steps: estimate size factors, estimate dispersion followed by the analysis"
   ]
  },
  {
   "cell_type": "code",
   "execution_count": 12,
   "metadata": {},
   "outputs": [
    {
     "name": "stderr",
     "output_type": "stream",
     "text": [
      "gene-wise dispersion estimates\n",
      "mean-dispersion relationship\n",
      "final dispersion estimates\n",
      "using pre-existing size factors\n",
      "estimating dispersions\n",
      "found already estimated dispersions, replacing these\n",
      "gene-wise dispersion estimates\n",
      "mean-dispersion relationship\n",
      "final dispersion estimates\n",
      "fitting model and testing\n"
     ]
    }
   ],
   "source": [
    "### Estimate Size Factors\n",
    "ddsmult <- estimateSizeFactors(ddsmult)\n",
    "### Estimate Dispersion parameters (for each gene)\n",
    "ddsmult <- estimateDispersions(ddsmult)\n",
    "### Fit NB MLE model\n",
    "ddsmultres <- DESeq(ddsmult)\n",
    "### Rlog \"normalized\" expressions\n",
    "#rldmult <- rlog(ddsmult, blind = TRUE)"
   ]
  },
  {
   "cell_type": "markdown",
   "metadata": {},
   "source": [
    "Look at the results (compare the first line to that of the DE analysis"
   ]
  },
  {
   "cell_type": "code",
   "execution_count": 13,
   "metadata": {},
   "outputs": [
    {
     "data": {
      "text/plain": [
       "log2 fold change (MLE): genotypeWT.conditionpH8 \n",
       "Wald test p-value: genotypeWT.conditionpH8 \n",
       "DataFrame with 8499 rows and 6 columns\n",
       "                        baseMean     log2FoldChange              lfcSE\n",
       "                       <numeric>          <numeric>          <numeric>\n",
       "CNAG_00001                     0                 NA                 NA\n",
       "CNAG_00002      192.456384076694 -0.103408237109234  0.162208795540166\n",
       "CNAG_00003      164.990819436254  0.639703164323634  0.158566362520624\n",
       "CNAG_00004      571.054651467718 -0.149923491484726 0.0875861185206605\n",
       "CNAG_00005      28.7106195205257   0.38872615882583  0.383575916608188\n",
       "...                          ...                ...                ...\n",
       "ENSRNA049551942                0                 NA                 NA\n",
       "ENSRNA049551964                0                 NA                 NA\n",
       "ENSRNA049551993                0                 NA                 NA\n",
       "large_MTrRNA    5333.97356461621   0.25675256982063  0.261942681080193\n",
       "small_MTrRNA    1705.75472334291   1.15038162089038  0.552570647394538\n",
       "                              stat               pvalue                padj\n",
       "                         <numeric>            <numeric>           <numeric>\n",
       "CNAG_00001                      NA                   NA                  NA\n",
       "CNAG_00002      -0.637500801142613    0.523798688279165   0.686004971590578\n",
       "CNAG_00003        4.03429298720548 5.47669483738396e-05 0.00040044394310704\n",
       "CNAG_00004       -1.71172662993806   0.0869470586782988   0.188582930952285\n",
       "CNAG_00005        1.01342691757914    0.310856287600497   0.484502484273056\n",
       "...                            ...                  ...                 ...\n",
       "ENSRNA049551942                 NA                   NA                  NA\n",
       "ENSRNA049551964                 NA                   NA                  NA\n",
       "ENSRNA049551993                 NA                   NA                  NA\n",
       "large_MTrRNA     0.980186080259394    0.326994274282426   0.501378918298731\n",
       "small_MTrRNA      2.08187247425215   0.0373541196234004  0.0979329138148396"
      ]
     },
     "metadata": {},
     "output_type": "display_data"
    }
   ],
   "source": [
    "results(ddsmultres)"
   ]
  },
  {
   "cell_type": "markdown",
   "metadata": {},
   "source": [
    "List the top 5 hits with respect to adjusted P-value"
   ]
  },
  {
   "cell_type": "code",
   "execution_count": 14,
   "metadata": {},
   "outputs": [
    {
     "data": {
      "text/html": [
       "<table>\n",
       "<caption>A data.frame: 5 × 7</caption>\n",
       "<thead>\n",
       "\t<tr><th scope=col>row</th><th scope=col>baseMean</th><th scope=col>log2FoldChange</th><th scope=col>lfcSE</th><th scope=col>stat</th><th scope=col>pvalue</th><th scope=col>padj</th></tr>\n",
       "\t<tr><th scope=col>&lt;chr&gt;</th><th scope=col>&lt;dbl&gt;</th><th scope=col>&lt;dbl&gt;</th><th scope=col>&lt;dbl&gt;</th><th scope=col>&lt;dbl&gt;</th><th scope=col>&lt;dbl&gt;</th><th scope=col>&lt;dbl&gt;</th></tr>\n",
       "</thead>\n",
       "<tbody>\n",
       "\t<tr><td>CNAG_06237</td><td>2425.9011</td><td> 1.445970</td><td>0.06535452</td><td> 22.12503</td><td>1.815272e-108</td><td>1.479628e-104</td></tr>\n",
       "\t<tr><td>CNAG_01768</td><td>5493.5145</td><td>-2.012335</td><td>0.09770819</td><td>-20.59535</td><td> 3.020861e-94</td><td> 1.231152e-90</td></tr>\n",
       "\t<tr><td>CNAG_04901</td><td> 475.3418</td><td>-3.273870</td><td>0.16064794</td><td>-20.37916</td><td> 2.560031e-92</td><td> 6.955603e-89</td></tr>\n",
       "\t<tr><td>CNAG_06658</td><td>2332.5964</td><td>-1.550563</td><td>0.08436115</td><td>-18.38006</td><td> 1.897740e-75</td><td> 3.867120e-72</td></tr>\n",
       "\t<tr><td>CNAG_03518</td><td> 399.4864</td><td> 3.091738</td><td>0.16854953</td><td> 18.34320</td><td> 3.741012e-75</td><td> 6.098599e-72</td></tr>\n",
       "</tbody>\n",
       "</table>\n"
      ],
      "text/latex": [
       "A data.frame: 5 × 7\n",
       "\\begin{tabular}{r|lllllll}\n",
       " row & baseMean & log2FoldChange & lfcSE & stat & pvalue & padj\\\\\n",
       " <chr> & <dbl> & <dbl> & <dbl> & <dbl> & <dbl> & <dbl>\\\\\n",
       "\\hline\n",
       "\t CNAG\\_06237 & 2425.9011 &  1.445970 & 0.06535452 &  22.12503 & 1.815272e-108 & 1.479628e-104\\\\\n",
       "\t CNAG\\_01768 & 5493.5145 & -2.012335 & 0.09770819 & -20.59535 &  3.020861e-94 &  1.231152e-90\\\\\n",
       "\t CNAG\\_04901 &  475.3418 & -3.273870 & 0.16064794 & -20.37916 &  2.560031e-92 &  6.955603e-89\\\\\n",
       "\t CNAG\\_06658 & 2332.5964 & -1.550563 & 0.08436115 & -18.38006 &  1.897740e-75 &  3.867120e-72\\\\\n",
       "\t CNAG\\_03518 &  399.4864 &  3.091738 & 0.16854953 &  18.34320 &  3.741012e-75 &  6.098599e-72\\\\\n",
       "\\end{tabular}\n"
      ],
      "text/markdown": [
       "\n",
       "A data.frame: 5 × 7\n",
       "\n",
       "| row &lt;chr&gt; | baseMean &lt;dbl&gt; | log2FoldChange &lt;dbl&gt; | lfcSE &lt;dbl&gt; | stat &lt;dbl&gt; | pvalue &lt;dbl&gt; | padj &lt;dbl&gt; |\n",
       "|---|---|---|---|---|---|---|\n",
       "| CNAG_06237 | 2425.9011 |  1.445970 | 0.06535452 |  22.12503 | 1.815272e-108 | 1.479628e-104 |\n",
       "| CNAG_01768 | 5493.5145 | -2.012335 | 0.09770819 | -20.59535 |  3.020861e-94 |  1.231152e-90 |\n",
       "| CNAG_04901 |  475.3418 | -3.273870 | 0.16064794 | -20.37916 |  2.560031e-92 |  6.955603e-89 |\n",
       "| CNAG_06658 | 2332.5964 | -1.550563 | 0.08436115 | -18.38006 |  1.897740e-75 |  3.867120e-72 |\n",
       "| CNAG_03518 |  399.4864 |  3.091738 | 0.16854953 |  18.34320 |  3.741012e-75 |  6.098599e-72 |\n",
       "\n"
      ],
      "text/plain": [
       "  row        baseMean  log2FoldChange lfcSE      stat      pvalue       \n",
       "1 CNAG_06237 2425.9011  1.445970      0.06535452  22.12503 1.815272e-108\n",
       "2 CNAG_01768 5493.5145 -2.012335      0.09770819 -20.59535  3.020861e-94\n",
       "3 CNAG_04901  475.3418 -3.273870      0.16064794 -20.37916  2.560031e-92\n",
       "4 CNAG_06658 2332.5964 -1.550563      0.08436115 -18.38006  1.897740e-75\n",
       "5 CNAG_03518  399.4864  3.091738      0.16854953  18.34320  3.741012e-75\n",
       "  padj         \n",
       "1 1.479628e-104\n",
       "2  1.231152e-90\n",
       "3  6.955603e-89\n",
       "4  3.867120e-72\n",
       "5  6.098599e-72"
      ]
     },
     "metadata": {},
     "output_type": "display_data"
    }
   ],
   "source": [
    "results(ddsmultres, tidy = TRUE) %>%\n",
    "    arrange(desc(-padj)) %>%\n",
    "        head(5)"
   ]
  },
  {
   "cell_type": "markdown",
   "metadata": {},
   "source": [
    "Visualize the results"
   ]
  },
  {
   "cell_type": "code",
   "execution_count": 15,
   "metadata": {},
   "outputs": [],
   "source": [
    "### Merge gene expression with meta data\n",
    "myDEplotData <- function(mydds, geneid, mergelab) {\n",
    "    counts(mydds, normalize = TRUE) %>%\n",
    "        as_tibble(rownames=\"gene\") %>%\n",
    "        filter(gene == geneid) %>%\n",
    "        gather(Label, geneexp, -gene) %>%\n",
    "        select(-gene) -> genedat\n",
    "\n",
    "    colData(mydds) %>%\n",
    "        as.data.frame %>%\n",
    "        as_tibble %>%\n",
    "        full_join(genedat, by = mergelab) -> genedat\n",
    "    \n",
    "    return(genedat)\n",
    "}\n",
    "\n",
    "\n",
    "### Alow for coloring with respect to another factor\n",
    "myDEplot <- function(mydds, geneid, grpvar, colvar, mergelab) {\n",
    "    mydat <- myDEplotData(mydds, geneid, mergelab)\n",
    "    ggplot(mydat, aes_string(x=grpvar, y = \"geneexp\", col = colvar))+ geom_point()\n",
    "}"
   ]
  },
  {
   "cell_type": "markdown",
   "metadata": {},
   "source": [
    "Compare the DE effect of condition within WT compares to sre1d. This suggests that the DE with respect to condition depends on genotype. "
   ]
  },
  {
   "cell_type": "code",
   "execution_count": 16,
   "metadata": {},
   "outputs": [
    {
     "data": {
      "image/png": "[encoded data removed]",
      "text/plain": [
       "plot without title"
      ]
     },
     "metadata": {},
     "output_type": "display_data"
    }
   ],
   "source": [
    "myDEplot(ddsmult, \"CNAG_03518\", \"genotype\", \"condition\", \"Label\")"
   ]
  },
  {
   "cell_type": "markdown",
   "metadata": {},
   "source": [
    "##Exercise: Compare the size factors and dispersion estimates between ddsmult and ddsad"
   ]
  },
  {
   "cell_type": "markdown",
   "metadata": {},
   "source": [
    "## Estimate DE effect due to condition given genotype"
   ]
  },
  {
   "cell_type": "markdown",
   "metadata": {},
   "source": [
    "### Define a group variable"
   ]
  },
  {
   "cell_type": "code",
   "execution_count": 26,
   "metadata": {},
   "outputs": [
    {
     "data": {
      "text/html": [
       "<ol class=list-inline>\n",
       "\t<li>pH4WT</li>\n",
       "\t<li>pH4WT</li>\n",
       "\t<li>pH4WT</li>\n",
       "\t<li>pH4WT</li>\n",
       "\t<li>pH4WT</li>\n",
       "\t<li>pH4WT</li>\n",
       "\t<li>pH4sre1d</li>\n",
       "\t<li>pH4sre1d</li>\n",
       "\t<li>pH4sre1d</li>\n",
       "\t<li>pH4sre1d</li>\n",
       "\t<li>pH4sre1d</li>\n",
       "\t<li>pH4sre1d</li>\n",
       "\t<li>pH8WT</li>\n",
       "\t<li>pH8WT</li>\n",
       "\t<li>pH8WT</li>\n",
       "\t<li>pH8WT</li>\n",
       "\t<li>pH8WT</li>\n",
       "\t<li>pH8WT</li>\n",
       "\t<li>pH8sre1d</li>\n",
       "\t<li>pH8sre1d</li>\n",
       "\t<li>pH8sre1d</li>\n",
       "\t<li>pH8sre1d</li>\n",
       "\t<li>pH8sre1d</li>\n",
       "\t<li>pH8sre1d</li>\n",
       "</ol>\n",
       "\n",
       "<details>\n",
       "\t<summary style=display:list-item;cursor:pointer>\n",
       "\t\t<strong>Levels</strong>:\n",
       "\t</summary>\n",
       "\t<ol class=list-inline>\n",
       "\t\t<li>'pH4sre1d'</li>\n",
       "\t\t<li>'pH4WT'</li>\n",
       "\t\t<li>'pH8sre1d'</li>\n",
       "\t\t<li>'pH8WT'</li>\n",
       "\t</ol>\n",
       "</details>"
      ],
      "text/latex": [
       "\\begin{enumerate*}\n",
       "\\item pH4WT\n",
       "\\item pH4WT\n",
       "\\item pH4WT\n",
       "\\item pH4WT\n",
       "\\item pH4WT\n",
       "\\item pH4WT\n",
       "\\item pH4sre1d\n",
       "\\item pH4sre1d\n",
       "\\item pH4sre1d\n",
       "\\item pH4sre1d\n",
       "\\item pH4sre1d\n",
       "\\item pH4sre1d\n",
       "\\item pH8WT\n",
       "\\item pH8WT\n",
       "\\item pH8WT\n",
       "\\item pH8WT\n",
       "\\item pH8WT\n",
       "\\item pH8WT\n",
       "\\item pH8sre1d\n",
       "\\item pH8sre1d\n",
       "\\item pH8sre1d\n",
       "\\item pH8sre1d\n",
       "\\item pH8sre1d\n",
       "\\item pH8sre1d\n",
       "\\end{enumerate*}\n",
       "\n",
       "\\emph{Levels}: \\begin{enumerate*}\n",
       "\\item 'pH4sre1d'\n",
       "\\item 'pH4WT'\n",
       "\\item 'pH8sre1d'\n",
       "\\item 'pH8WT'\n",
       "\\end{enumerate*}\n"
      ],
      "text/markdown": [
       "1. pH4WT\n",
       "2. pH4WT\n",
       "3. pH4WT\n",
       "4. pH4WT\n",
       "5. pH4WT\n",
       "6. pH4WT\n",
       "7. pH4sre1d\n",
       "8. pH4sre1d\n",
       "9. pH4sre1d\n",
       "10. pH4sre1d\n",
       "11. pH4sre1d\n",
       "12. pH4sre1d\n",
       "13. pH8WT\n",
       "14. pH8WT\n",
       "15. pH8WT\n",
       "16. pH8WT\n",
       "17. pH8WT\n",
       "18. pH8WT\n",
       "19. pH8sre1d\n",
       "20. pH8sre1d\n",
       "21. pH8sre1d\n",
       "22. pH8sre1d\n",
       "23. pH8sre1d\n",
       "24. pH8sre1d\n",
       "\n",
       "\n",
       "\n",
       "**Levels**: 1. 'pH4sre1d'\n",
       "2. 'pH4WT'\n",
       "3. 'pH8sre1d'\n",
       "4. 'pH8WT'\n",
       "\n",
       "\n"
      ],
      "text/plain": [
       " [1] pH4WT    pH4WT    pH4WT    pH4WT    pH4WT    pH4WT    pH4sre1d pH4sre1d\n",
       " [9] pH4sre1d pH4sre1d pH4sre1d pH4sre1d pH8WT    pH8WT    pH8WT    pH8WT   \n",
       "[17] pH8WT    pH8WT    pH8sre1d pH8sre1d pH8sre1d pH8sre1d pH8sre1d pH8sre1d\n",
       "Levels: pH4sre1d pH4WT pH8sre1d pH8WT"
      ]
     },
     "metadata": {},
     "output_type": "display_data"
    }
   ],
   "source": [
    "ddsgrp <- dds2019\n",
    "### DESeq2 requires factors\n",
    "ddsgrp$group <- as.factor(paste0(ddsgrp$condition, ddsgrp$genotype))\n",
    "ddsgrp$group"
   ]
  },
  {
   "cell_type": "markdown",
   "metadata": {},
   "source": [
    "### Set design"
   ]
  },
  {
   "cell_type": "code",
   "execution_count": 27,
   "metadata": {},
   "outputs": [
    {
     "data": {
      "text/plain": [
       "~group"
      ]
     },
     "metadata": {},
     "output_type": "display_data"
    }
   ],
   "source": [
    "design(ddsgrp) <- formula(~group)\n",
    "ddsgrp@design"
   ]
  },
  {
   "cell_type": "code",
   "execution_count": 28,
   "metadata": {},
   "outputs": [
    {
     "data": {
      "text/plain": [
       "class: DESeqDataSet \n",
       "dim: 8499 24 \n",
       "metadata(1): version\n",
       "assays(1): counts\n",
       "rownames(8499): CNAG_00001 CNAG_00002 ... large_MTrRNA small_MTrRNA\n",
       "rowData names(0):\n",
       "colnames(24): 1_2019_P_M1 2_2019_P_M1 ... 23_2019_P_M1 24_2019_P_M1\n",
       "colData names(22): Label sample_year ... RIN_normal_threshold\n",
       "  RIN_lowered_threshold"
      ]
     },
     "metadata": {},
     "output_type": "display_data"
    },
    {
     "name": "stderr",
     "output_type": "stream",
     "text": [
      "gene-wise dispersion estimates\n",
      "mean-dispersion relationship\n",
      "final dispersion estimates\n",
      "using pre-existing size factors\n",
      "estimating dispersions\n",
      "found already estimated dispersions, replacing these\n",
      "gene-wise dispersion estimates\n",
      "mean-dispersion relationship\n",
      "final dispersion estimates\n",
      "fitting model and testing\n"
     ]
    }
   ],
   "source": [
    "ddsgrp\n",
    "### Estimate Size Factors\n",
    "ddsgrp <- estimateSizeFactors(ddsgrp)\n",
    "### Estimate Dispersion parameters (for each gene)\n",
    "ddsgrp <- estimateDispersions(ddsgrp)\n",
    "### Fit NB MLE model\n",
    "ddsgrpres <- DESeq(ddsgrp)\n",
    "### Rlog \"normalized\" expressions\n",
    "#rldmult <- rlog(ddsmult, blind = TRUE)"
   ]
  },
  {
   "cell_type": "markdown",
   "metadata": {},
   "source": [
    "### Generate results for CNAG_03518"
   ]
  },
  {
   "cell_type": "code",
   "execution_count": 31,
   "metadata": {},
   "outputs": [],
   "source": [
    "### Results for interaction analysis\n",
    "r0<-results(ddsgrpres, tidy=TRUE)\n",
    "### Contrast treatments within WT strain\n",
    "r1<-results(ddsgrpres, contrast = c(\"group\", \"pH8WT\", \"pH4WT\"), tidy=TRUE)\n",
    "### Contrast treatments within sre1d strain\n",
    "r2<-results(ddsgrpres, contrast = c(\"group\", \"pH8sre1d\", \"pH4sre1d\"), tidy=TRUE)"
   ]
  },
  {
   "cell_type": "code",
   "execution_count": 33,
   "metadata": {},
   "outputs": [
    {
     "data": {
      "text/html": [
       "<table>\n",
       "<caption>A data.frame: 1 × 7</caption>\n",
       "<thead>\n",
       "\t<tr><th scope=col>row</th><th scope=col>baseMean</th><th scope=col>log2FoldChange</th><th scope=col>lfcSE</th><th scope=col>stat</th><th scope=col>pvalue</th><th scope=col>padj</th></tr>\n",
       "\t<tr><th scope=col>&lt;chr&gt;</th><th scope=col>&lt;dbl&gt;</th><th scope=col>&lt;dbl&gt;</th><th scope=col>&lt;dbl&gt;</th><th scope=col>&lt;dbl&gt;</th><th scope=col>&lt;dbl&gt;</th><th scope=col>&lt;dbl&gt;</th></tr>\n",
       "</thead>\n",
       "<tbody>\n",
       "\t<tr><td>CNAG_03518</td><td>399.4864</td><td>-4.15704</td><td>0.1141264</td><td>-36.42487</td><td>1.720166e-290</td><td>3.78948e-288</td></tr>\n",
       "</tbody>\n",
       "</table>\n"
      ],
      "text/latex": [
       "A data.frame: 1 × 7\n",
       "\\begin{tabular}{r|lllllll}\n",
       " row & baseMean & log2FoldChange & lfcSE & stat & pvalue & padj\\\\\n",
       " <chr> & <dbl> & <dbl> & <dbl> & <dbl> & <dbl> & <dbl>\\\\\n",
       "\\hline\n",
       "\t CNAG\\_03518 & 399.4864 & -4.15704 & 0.1141264 & -36.42487 & 1.720166e-290 & 3.78948e-288\\\\\n",
       "\\end{tabular}\n"
      ],
      "text/markdown": [
       "\n",
       "A data.frame: 1 × 7\n",
       "\n",
       "| row &lt;chr&gt; | baseMean &lt;dbl&gt; | log2FoldChange &lt;dbl&gt; | lfcSE &lt;dbl&gt; | stat &lt;dbl&gt; | pvalue &lt;dbl&gt; | padj &lt;dbl&gt; |\n",
       "|---|---|---|---|---|---|---|\n",
       "| CNAG_03518 | 399.4864 | -4.15704 | 0.1141264 | -36.42487 | 1.720166e-290 | 3.78948e-288 |\n",
       "\n"
      ],
      "text/plain": [
       "  row        baseMean log2FoldChange lfcSE     stat      pvalue       \n",
       "1 CNAG_03518 399.4864 -4.15704       0.1141264 -36.42487 1.720166e-290\n",
       "  padj        \n",
       "1 3.78948e-288"
      ]
     },
     "metadata": {},
     "output_type": "display_data"
    },
    {
     "data": {
      "text/html": [
       "<table>\n",
       "<caption>A data.frame: 1 × 7</caption>\n",
       "<thead>\n",
       "\t<tr><th scope=col>row</th><th scope=col>baseMean</th><th scope=col>log2FoldChange</th><th scope=col>lfcSE</th><th scope=col>stat</th><th scope=col>pvalue</th><th scope=col>padj</th></tr>\n",
       "\t<tr><th scope=col>&lt;chr&gt;</th><th scope=col>&lt;dbl&gt;</th><th scope=col>&lt;dbl&gt;</th><th scope=col>&lt;dbl&gt;</th><th scope=col>&lt;dbl&gt;</th><th scope=col>&lt;dbl&gt;</th><th scope=col>&lt;dbl&gt;</th></tr>\n",
       "</thead>\n",
       "<tbody>\n",
       "\t<tr><td>CNAG_03518</td><td>399.4864</td><td>-1.106679</td><td>0.1195981</td><td>-9.253317</td><td>2.176323e-20</td><td>9.58358e-20</td></tr>\n",
       "</tbody>\n",
       "</table>\n"
      ],
      "text/latex": [
       "A data.frame: 1 × 7\n",
       "\\begin{tabular}{r|lllllll}\n",
       " row & baseMean & log2FoldChange & lfcSE & stat & pvalue & padj\\\\\n",
       " <chr> & <dbl> & <dbl> & <dbl> & <dbl> & <dbl> & <dbl>\\\\\n",
       "\\hline\n",
       "\t CNAG\\_03518 & 399.4864 & -1.106679 & 0.1195981 & -9.253317 & 2.176323e-20 & 9.58358e-20\\\\\n",
       "\\end{tabular}\n"
      ],
      "text/markdown": [
       "\n",
       "A data.frame: 1 × 7\n",
       "\n",
       "| row &lt;chr&gt; | baseMean &lt;dbl&gt; | log2FoldChange &lt;dbl&gt; | lfcSE &lt;dbl&gt; | stat &lt;dbl&gt; | pvalue &lt;dbl&gt; | padj &lt;dbl&gt; |\n",
       "|---|---|---|---|---|---|---|\n",
       "| CNAG_03518 | 399.4864 | -1.106679 | 0.1195981 | -9.253317 | 2.176323e-20 | 9.58358e-20 |\n",
       "\n"
      ],
      "text/plain": [
       "  row        baseMean log2FoldChange lfcSE     stat      pvalue      \n",
       "1 CNAG_03518 399.4864 -1.106679      0.1195981 -9.253317 2.176323e-20\n",
       "  padj       \n",
       "1 9.58358e-20"
      ]
     },
     "metadata": {},
     "output_type": "display_data"
    },
    {
     "data": {
      "text/html": [
       "<table>\n",
       "<caption>A data.frame: 1 × 7</caption>\n",
       "<thead>\n",
       "\t<tr><th scope=col>row</th><th scope=col>baseMean</th><th scope=col>log2FoldChange</th><th scope=col>lfcSE</th><th scope=col>stat</th><th scope=col>pvalue</th><th scope=col>padj</th></tr>\n",
       "\t<tr><th scope=col>&lt;chr&gt;</th><th scope=col>&lt;dbl&gt;</th><th scope=col>&lt;dbl&gt;</th><th scope=col>&lt;dbl&gt;</th><th scope=col>&lt;dbl&gt;</th><th scope=col>&lt;dbl&gt;</th><th scope=col>&lt;dbl&gt;</th></tr>\n",
       "</thead>\n",
       "<tbody>\n",
       "\t<tr><td>CNAG_03518</td><td>399.4864</td><td>-4.198417</td><td>0.1187655</td><td>-35.35049</td><td>9.853941e-274</td><td>1.460354e-271</td></tr>\n",
       "</tbody>\n",
       "</table>\n"
      ],
      "text/latex": [
       "A data.frame: 1 × 7\n",
       "\\begin{tabular}{r|lllllll}\n",
       " row & baseMean & log2FoldChange & lfcSE & stat & pvalue & padj\\\\\n",
       " <chr> & <dbl> & <dbl> & <dbl> & <dbl> & <dbl> & <dbl>\\\\\n",
       "\\hline\n",
       "\t CNAG\\_03518 & 399.4864 & -4.198417 & 0.1187655 & -35.35049 & 9.853941e-274 & 1.460354e-271\\\\\n",
       "\\end{tabular}\n"
      ],
      "text/markdown": [
       "\n",
       "A data.frame: 1 × 7\n",
       "\n",
       "| row &lt;chr&gt; | baseMean &lt;dbl&gt; | log2FoldChange &lt;dbl&gt; | lfcSE &lt;dbl&gt; | stat &lt;dbl&gt; | pvalue &lt;dbl&gt; | padj &lt;dbl&gt; |\n",
       "|---|---|---|---|---|---|---|\n",
       "| CNAG_03518 | 399.4864 | -4.198417 | 0.1187655 | -35.35049 | 9.853941e-274 | 1.460354e-271 |\n",
       "\n"
      ],
      "text/plain": [
       "  row        baseMean log2FoldChange lfcSE     stat      pvalue       \n",
       "1 CNAG_03518 399.4864 -4.198417      0.1187655 -35.35049 9.853941e-274\n",
       "  padj         \n",
       "1 1.460354e-271"
      ]
     },
     "metadata": {},
     "output_type": "display_data"
    }
   ],
   "source": [
    "r0 %>% filter(row == \"CNAG_03518\")\n",
    "r1 %>% filter(row == \"CNAG_03518\")\n",
    "r2 %>% filter(row == \"CNAG_03518\")"
   ]
  },
  {
   "cell_type": "code",
   "execution_count": 17,
   "metadata": {},
   "outputs": [
    {
     "data": {
      "text/plain": [
       "R version 3.6.0 (2019-04-26)\n",
       "Platform: x86_64-pc-linux-gnu (64-bit)\n",
       "Running under: Debian GNU/Linux 9 (stretch)\n",
       "\n",
       "Matrix products: default\n",
       "BLAS:   /usr/lib/openblas-base/libblas.so.3\n",
       "LAPACK: /usr/lib/libopenblasp-r0.2.19.so\n",
       "\n",
       "locale:\n",
       " [1] LC_CTYPE=en_US.UTF-8       LC_NUMERIC=C              \n",
       " [3] LC_TIME=en_US.UTF-8        LC_COLLATE=en_US.UTF-8    \n",
       " [5] LC_MONETARY=en_US.UTF-8    LC_MESSAGES=en_US.UTF-8   \n",
       " [7] LC_PAPER=en_US.UTF-8       LC_NAME=C                 \n",
       " [9] LC_ADDRESS=C               LC_TELEPHONE=C            \n",
       "[11] LC_MEASUREMENT=en_US.UTF-8 LC_IDENTIFICATION=C       \n",
       "\n",
       "attached base packages:\n",
       "[1] parallel  stats4    stats     graphics  grDevices utils     datasets \n",
       "[8] methods   base     \n",
       "\n",
       "other attached packages:\n",
       " [1] RColorBrewer_1.1-2          dendextend_1.12.0          \n",
       " [3] DESeq2_1.24.0               SummarizedExperiment_1.14.0\n",
       " [5] DelayedArray_0.10.0         BiocParallel_1.18.0        \n",
       " [7] matrixStats_0.54.0          Biobase_2.44.0             \n",
       " [9] GenomicRanges_1.36.0        GenomeInfoDb_1.20.0        \n",
       "[11] IRanges_2.18.1              S4Vectors_0.22.0           \n",
       "[13] BiocGenerics_0.30.0         forcats_0.4.0              \n",
       "[15] stringr_1.4.0               dplyr_0.8.1                \n",
       "[17] purrr_0.3.2                 readr_1.3.1                \n",
       "[19] tidyr_0.8.3                 tibble_2.1.2               \n",
       "[21] ggplot2_3.1.1               tidyverse_1.2.1            \n",
       "\n",
       "loaded via a namespace (and not attached):\n",
       " [1] colorspace_1.4-1       IRdisplay_0.7.0        htmlTable_1.13.1      \n",
       " [4] XVector_0.24.0         base64enc_0.1-3        rstudioapi_0.10       \n",
       " [7] bit64_0.9-7            AnnotationDbi_1.46.0   lubridate_1.7.4       \n",
       "[10] xml2_1.2.0             splines_3.6.0          geneplotter_1.62.0    \n",
       "[13] knitr_1.23             zeallot_0.1.0          IRkernel_1.0.1        \n",
       "[16] Formula_1.2-3          jsonlite_1.6           broom_0.5.2           \n",
       "[19] annotate_1.62.0        cluster_2.0.8          compiler_3.6.0        \n",
       "[22] httr_1.4.0             backports_1.1.4        assertthat_0.2.1      \n",
       "[25] Matrix_1.2-17          lazyeval_0.2.2         cli_1.1.0             \n",
       "[28] acepack_1.4.1          htmltools_0.3.6        tools_3.6.0           \n",
       "[31] gtable_0.3.0           glue_1.3.1             GenomeInfoDbData_1.2.1\n",
       "[34] Rcpp_1.0.1             cellranger_1.1.0       vctrs_0.1.0           \n",
       "[37] nlme_3.1-139           xfun_0.7               rvest_0.3.4           \n",
       "[40] XML_3.98-1.19          zlibbioc_1.30.0        scales_1.0.0          \n",
       "[43] hms_0.4.2              memoise_1.1.0          gridExtra_2.3         \n",
       "[46] rpart_4.1-15           latticeExtra_0.6-28    stringi_1.4.3         \n",
       "[49] RSQLite_2.1.1          genefilter_1.66.0      checkmate_1.9.3       \n",
       "[52] repr_1.0.1             rlang_0.3.4            pkgconfig_2.0.2       \n",
       "[55] bitops_1.0-6           evaluate_0.14          lattice_0.20-38       \n",
       "[58] labeling_0.3           htmlwidgets_1.3        bit_1.1-14            \n",
       "[61] tidyselect_0.2.5       plyr_1.8.4             magrittr_1.5          \n",
       "[64] R6_2.4.0               generics_0.0.2         Hmisc_4.2-0           \n",
       "[67] pbdZMQ_0.3-3           DBI_1.0.0              pillar_1.4.1          \n",
       "[70] haven_2.1.0            foreign_0.8-71         withr_2.1.2           \n",
       "[73] survival_2.44-1.1      RCurl_1.95-4.12        nnet_7.3-12           \n",
       "[76] modelr_0.1.4           crayon_1.3.4           uuid_0.1-2            \n",
       "[79] viridis_0.5.1          locfit_1.5-9.1         grid_3.6.0            \n",
       "[82] readxl_1.3.1           data.table_1.12.2      blob_1.1.1            \n",
       "[85] digest_0.6.19          xtable_1.8-4           munsell_0.5.0         \n",
       "[88] viridisLite_0.3.0     "
      ]
     },
     "metadata": {},
     "output_type": "display_data"
    }
   ],
   "source": [
    "sessionInfo()"
   ]
  },
  {
   "cell_type": "code",
   "execution_count": null,
   "metadata": {},
   "outputs": [],
   "source": []
  }
 ],
 "metadata": {
  "kernelspec": {
   "display_name": "R",
   "language": "R",
   "name": "ir"
  },
  "language_info": {
   "codemirror_mode": "r",
   "file_extension": ".r",
   "mimetype": "text/x-r-source",
   "name": "R",
   "pygments_lexer": "r",
   "version": "3.6.0"
  }
 },
 "nbformat": 4,
 "nbformat_minor": 2
}
