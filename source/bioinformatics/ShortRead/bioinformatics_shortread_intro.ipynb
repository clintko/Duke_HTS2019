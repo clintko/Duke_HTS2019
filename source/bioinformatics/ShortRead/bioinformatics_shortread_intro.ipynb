{
 "cells": [
  {
   "cell_type": "markdown",
   "metadata": {},
   "source": [
    "# Biostrings and ShortRead"
   ]
  },
  {
   "cell_type": "markdown",
   "metadata": {},
   "source": [
    "## Setup"
   ]
  },
  {
   "cell_type": "code",
   "execution_count": null,
   "metadata": {},
   "outputs": [],
   "source": [
    "library(ShortRead)\n",
    "library(Biostrings)\n",
    "library(tidyverse) # for %>%\n",
    "library(gdata) # for humanReadable\n",
    "set.seed(100)"
   ]
  },
  {
   "cell_type": "code",
   "execution_count": null,
   "metadata": {},
   "outputs": [],
   "source": [
    "### Specify FASTQ file\n",
    "myfqdir <- \"/data/hts_2019_data/hts2019_pilot_rawdata/\"\n",
    "myfqname <- \"4_2018_P_H1_S27_L001_R1_001.fastq.gz\"\n",
    "\n",
    "myfqfile <- file.path(myfqdir, myfqname)\n",
    "tools::md5sum(myfqfile)\n",
    "\n",
    "# Set up ouput directory\n",
    "outdir = path.expand(\"~/work/scratch/shortreadtutorial\")\n",
    "dir.create(outdir)"
   ]
  },
  {
   "cell_type": "markdown",
   "metadata": {},
   "source": [
    "## FASTQ Basics"
   ]
  },
  {
   "cell_type": "code",
   "execution_count": null,
   "metadata": {},
   "outputs": [],
   "source": [
    "### Read entire FASTQ file into memory\n",
    "myfq <- readFastq(myfqfile)\n",
    "\n",
    "### Check class\n",
    "class(myfq)"
   ]
  },
  {
   "cell_type": "code",
   "execution_count": null,
   "metadata": {},
   "outputs": [],
   "source": [
    "### Get Summary for FASTQ file\n",
    "myfq"
   ]
  },
  {
   "cell_type": "code",
   "execution_count": null,
   "metadata": {},
   "outputs": [],
   "source": [
    "### Get number of reads\n",
    "length(myfq)"
   ]
  },
  {
   "cell_type": "code",
   "execution_count": null,
   "metadata": {},
   "outputs": [],
   "source": [
    "### Subset based on first three records\n",
    "myfq[1:3]"
   ]
  },
  {
   "cell_type": "code",
   "execution_count": null,
   "metadata": {},
   "outputs": [],
   "source": [
    "### Subset based on three randomly selected records\n",
    "myfq[sample(seq_len(length(myfq)),3, replace=FALSE)]"
   ]
  },
  {
   "cell_type": "code",
   "execution_count": null,
   "metadata": {},
   "outputs": [],
   "source": [
    "### Get sequences, phred scores and read ids for reads 1,2, 3 and 1 (add duplicate on\n",
    "### purpose\n",
    "myrecs <- myfq[c(1,2,3,1)]\n",
    "\n",
    "ShortRead::sread(myrecs) -> myseqs\n",
    "\n",
    "Biostrings::quality(myrecs) -> myphreds\n",
    "\n",
    "ShortRead::id(myrecs) -> myids\n",
    "\n",
    "### Compare classes\n",
    "class(myfq)\n",
    "class(myseqs)\n",
    "class(myphreds)"
   ]
  },
  {
   "cell_type": "markdown",
   "metadata": {},
   "source": [
    "### Get read ids"
   ]
  },
  {
   "cell_type": "code",
   "execution_count": null,
   "metadata": {},
   "outputs": [],
   "source": [
    "myids"
   ]
  },
  {
   "cell_type": "markdown",
   "metadata": {},
   "source": [
    "### Get sequencing reads"
   ]
  },
  {
   "cell_type": "code",
   "execution_count": null,
   "metadata": {},
   "outputs": [],
   "source": [
    "myseqs"
   ]
  },
  {
   "cell_type": "markdown",
   "metadata": {},
   "source": [
    "### Get phred scores"
   ]
  },
  {
   "cell_type": "code",
   "execution_count": null,
   "metadata": {},
   "outputs": [],
   "source": [
    "myphreds"
   ]
  },
  {
   "cell_type": "markdown",
   "metadata": {},
   "source": [
    "### Explore classes"
   ]
  },
  {
   "cell_type": "code",
   "execution_count": null,
   "metadata": {},
   "outputs": [],
   "source": [
    "###? DNAStringSet"
   ]
  },
  {
   "cell_type": "markdown",
   "metadata": {},
   "source": [
    "### Get slot names for objects"
   ]
  },
  {
   "cell_type": "code",
   "execution_count": null,
   "metadata": {},
   "outputs": [],
   "source": [
    "slotNames(myseqs)"
   ]
  },
  {
   "cell_type": "markdown",
   "metadata": {},
   "source": [
    "### bash command to read the first 12 lines from the fastqfile"
   ]
  },
  {
   "cell_type": "code",
   "execution_count": null,
   "metadata": {},
   "outputs": [],
   "source": [
    "mycmd <- paste(\"zcat \", myfqfile, \"| head -n 12\")\n",
    "mycmd"
   ]
  },
  {
   "cell_type": "code",
   "execution_count": null,
   "metadata": {},
   "outputs": [],
   "source": [
    "system(mycmd, intern = TRUE)"
   ]
  },
  {
   "cell_type": "markdown",
   "metadata": {},
   "source": [
    "### Read Quality Scores"
   ]
  },
  {
   "cell_type": "code",
   "execution_count": null,
   "metadata": {},
   "outputs": [],
   "source": [
    "### Check encoding of phred scores\n",
    "myphreds %>% encoding"
   ]
  },
  {
   "cell_type": "code",
   "execution_count": null,
   "metadata": {},
   "outputs": [],
   "source": [
    "as(quality(myrecs), \"matrix\")\n"
   ]
  },
  {
   "cell_type": "markdown",
   "metadata": {},
   "source": [
    "### Read Sequences"
   ]
  },
  {
   "cell_type": "code",
   "execution_count": null,
   "metadata": {},
   "outputs": [],
   "source": [
    "### Get the sequences as character strings\n",
    "as.character(myseqs)"
   ]
  },
  {
   "cell_type": "code",
   "execution_count": null,
   "metadata": {},
   "outputs": [],
   "source": [
    "### Check for duplicate reads\n",
    "myseqs %>% duplicated"
   ]
  },
  {
   "cell_type": "code",
   "execution_count": null,
   "metadata": {},
   "outputs": [],
   "source": [
    "### Find Unique reads\n",
    "myseqs %>% unique"
   ]
  },
  {
   "cell_type": "code",
   "execution_count": null,
   "metadata": {},
   "outputs": [],
   "source": [
    "### Get rid of duplicate reads\n",
    "myseqs %>% unique -> myseqs"
   ]
  },
  {
   "cell_type": "code",
   "execution_count": null,
   "metadata": {},
   "outputs": [],
   "source": [
    "### letter frequency counting\n",
    "Biostrings::alphabetFrequency(myseqs)\n",
    "Biostrings::letterFrequency(myseqs, c(\"A\",\"T\"))"
   ]
  },
  {
   "cell_type": "markdown",
   "metadata": {},
   "source": [
    "### Sequence Transformations"
   ]
  },
  {
   "cell_type": "code",
   "execution_count": null,
   "metadata": {},
   "outputs": [],
   "source": [
    "### Reverse reads\n",
    "myseqs %>% reverse"
   ]
  },
  {
   "cell_type": "code",
   "execution_count": null,
   "metadata": {},
   "outputs": [],
   "source": [
    "### complement reads\n",
    "myseqs %>% complement"
   ]
  },
  {
   "cell_type": "code",
   "execution_count": null,
   "metadata": {},
   "outputs": [],
   "source": [
    "### Reverse complement reads\n",
    "myseqs %>% reverseComplement"
   ]
  },
  {
   "cell_type": "code",
   "execution_count": null,
   "metadata": {},
   "outputs": [],
   "source": [
    "### Translate to AA\n",
    "myseqs %>% translate"
   ]
  },
  {
   "cell_type": "code",
   "execution_count": null,
   "metadata": {},
   "outputs": [],
   "source": [
    "myseqs"
   ]
  },
  {
   "cell_type": "markdown",
   "metadata": {},
   "source": [
    "### Subset the sequences"
   ]
  },
  {
   "cell_type": "code",
   "execution_count": null,
   "metadata": {},
   "outputs": [],
   "source": [
    "myseqs"
   ]
  },
  {
   "cell_type": "code",
   "execution_count": null,
   "metadata": {},
   "outputs": [],
   "source": [
    "Biostrings::subseq(myseqs, start=1, width=9)"
   ]
  },
  {
   "cell_type": "code",
   "execution_count": null,
   "metadata": {},
   "outputs": [],
   "source": [
    "### Translate to AA\n",
    "myseqs %>% \n",
    "    subseq(start=7) %>%\n",
    "    translate"
   ]
  },
  {
   "cell_type": "code",
   "execution_count": null,
   "metadata": {},
   "outputs": [],
   "source": [
    "### Translate to AA\n",
    "myseqs %>% \n",
    "    subseq(start=7, end=75) %>%\n",
    "    translate"
   ]
  },
  {
   "cell_type": "markdown",
   "metadata": {},
   "source": [
    "## Searching"
   ]
  },
  {
   "cell_type": "code",
   "execution_count": null,
   "metadata": {},
   "outputs": [],
   "source": [
    "as.character(myseqs)"
   ]
  },
  {
   "cell_type": "code",
   "execution_count": null,
   "metadata": {},
   "outputs": [],
   "source": [
    "mypattern0 <- \"CATGA\"\n",
    "matchPattern(pattern = mypattern0, myseqs[[1]], max.mismatch=0)"
   ]
  },
  {
   "cell_type": "code",
   "execution_count": null,
   "metadata": {},
   "outputs": [],
   "source": [
    "# change a base to introduce a mismatch\n",
    "mypattern1 <- \"CAGGA\"\n",
    "matchPattern(pattern = mypattern1, myseqs[[1]], max.mismatch=0)"
   ]
  },
  {
   "cell_type": "code",
   "execution_count": null,
   "metadata": {},
   "outputs": [],
   "source": [
    "# search allowing a single mismatch \n",
    "matchPattern(pattern = mypattern1, myseqs[[1]], max.mismatch=1)"
   ]
  },
  {
   "cell_type": "markdown",
   "metadata": {},
   "source": [
    "### Search multiple sequences\n",
    "use `vmatchPattern` to search multiple sequences"
   ]
  },
  {
   "cell_type": "code",
   "execution_count": null,
   "metadata": {},
   "outputs": [],
   "source": [
    "vmatchPattern(pattern = mypattern0, myseqs, max.mismatch=0)"
   ]
  },
  {
   "cell_type": "markdown",
   "metadata": {},
   "source": [
    "if we allow mismatches in our pattern we find hits in other sequences"
   ]
  },
  {
   "cell_type": "code",
   "execution_count": null,
   "metadata": {},
   "outputs": [],
   "source": [
    "vmatchPattern(pattern = mypattern0, myseqs, max.mismatch=2)"
   ]
  },
  {
   "cell_type": "markdown",
   "metadata": {},
   "source": [
    "### Count sequence matches"
   ]
  },
  {
   "cell_type": "code",
   "execution_count": null,
   "metadata": {},
   "outputs": [],
   "source": [
    "vcountPattern(pattern = mypattern0, myseqs, max.mismatch = 0)"
   ]
  },
  {
   "cell_type": "code",
   "execution_count": null,
   "metadata": {},
   "outputs": [],
   "source": [
    "vcountPattern(pattern = mypattern0, myseqs, max.mismatch = 1)"
   ]
  },
  {
   "cell_type": "code",
   "execution_count": null,
   "metadata": {},
   "outputs": [],
   "source": [
    "vcountPattern(pattern = mypattern0, myseqs, max.mismatch = 2)"
   ]
  },
  {
   "cell_type": "markdown",
   "metadata": {},
   "source": [
    "### Pairwise Alignment"
   ]
  },
  {
   "cell_type": "code",
   "execution_count": null,
   "metadata": {},
   "outputs": [],
   "source": [
    "pairwiseAlignment(pattern = mypattern0, myseqs[1])"
   ]
  },
  {
   "cell_type": "code",
   "execution_count": null,
   "metadata": {},
   "outputs": [],
   "source": [
    "pairwiseAlignment(pattern=\"ACACGTCTGAACTCCAGTCA\", myseqs[1])"
   ]
  },
  {
   "cell_type": "code",
   "execution_count": null,
   "metadata": {},
   "outputs": [],
   "source": [
    "pairwiseAlignment(pattern=\"ACACGTCTGAACAGTCA\", myseqs[2])"
   ]
  },
  {
   "cell_type": "markdown",
   "metadata": {},
   "source": [
    "## Streaming and Sampling"
   ]
  },
  {
   "cell_type": "code",
   "execution_count": null,
   "metadata": {},
   "outputs": [],
   "source": [
    "object.size(myfq) %>% humanReadable"
   ]
  },
  {
   "cell_type": "code",
   "execution_count": null,
   "metadata": {},
   "outputs": [],
   "source": [
    "file.size(myfqfile) %>% humanReadable"
   ]
  },
  {
   "cell_type": "markdown",
   "metadata": {},
   "source": [
    "### Streaming\n",
    "Stream a FASTQ rather than loading the whole thing into memory.\n",
    "\n",
    "After initializing the streamer, each `yield` call will return the next `n=5` reads from the FASTQ"
   ]
  },
  {
   "cell_type": "code",
   "execution_count": null,
   "metadata": {},
   "outputs": [],
   "source": [
    "mystream <- FastqStreamer(myfqfile, n = 5)\n",
    "mystream"
   ]
  },
  {
   "cell_type": "code",
   "execution_count": null,
   "metadata": {},
   "outputs": [],
   "source": [
    "object.size(mystream) %>% humanReadable"
   ]
  },
  {
   "cell_type": "code",
   "execution_count": null,
   "metadata": {},
   "outputs": [],
   "source": [
    "### The first yield will retrieve records 1 through 5\n",
    "cur_reads <- yield(mystream)\n",
    "cur_reads"
   ]
  },
  {
   "cell_type": "code",
   "execution_count": null,
   "metadata": {},
   "outputs": [],
   "source": [
    "object.size(cur_reads) %>% humanReadable"
   ]
  },
  {
   "cell_type": "code",
   "execution_count": null,
   "metadata": {},
   "outputs": [],
   "source": [
    "ShortRead::id(cur_reads)"
   ]
  },
  {
   "cell_type": "code",
   "execution_count": null,
   "metadata": {},
   "outputs": [],
   "source": []
  },
  {
   "cell_type": "code",
   "execution_count": null,
   "metadata": {},
   "outputs": [],
   "source": [
    "### Check status of stream (this yield added 5 for a total of 0+5 = 5 records)\n",
    "mystream"
   ]
  },
  {
   "cell_type": "code",
   "execution_count": null,
   "metadata": {},
   "outputs": [],
   "source": [
    "### The second yield will retrieve records 6 through 10\n",
    "cur_reads <- yield(mystream)\n",
    "ShortRead::id(cur_reads)"
   ]
  },
  {
   "cell_type": "code",
   "execution_count": null,
   "metadata": {},
   "outputs": [],
   "source": [
    "### Check status of stream (this yield added 5 for a total of 5+5 = 10 records)\n",
    "mystream"
   ]
  },
  {
   "cell_type": "code",
   "execution_count": null,
   "metadata": {},
   "outputs": [],
   "source": [
    "### Be sure to close the stream\n",
    "close(mystream)"
   ]
  },
  {
   "cell_type": "code",
   "execution_count": null,
   "metadata": {},
   "outputs": [],
   "source": [
    "### Check status of stream\n",
    "mystream"
   ]
  },
  {
   "cell_type": "markdown",
   "metadata": {},
   "source": [
    "#### Double Check"
   ]
  },
  {
   "cell_type": "code",
   "execution_count": null,
   "metadata": {},
   "outputs": [],
   "source": [
    "mystream <- FastqStreamer(myfqfile, 5)\n",
    "cur_reads <- yield(mystream)\n",
    "ShortRead::id(cur_reads)\n",
    "close(mystream)"
   ]
  },
  {
   "cell_type": "code",
   "execution_count": null,
   "metadata": {},
   "outputs": [],
   "source": [
    "mystream <- FastqStreamer(myfqfile, 5)\n",
    "cur_reads <- yield(mystream)\n",
    "ShortRead::id(cur_reads)\n",
    "close(mystream)"
   ]
  },
  {
   "cell_type": "markdown",
   "metadata": {},
   "source": [
    "### Sampling\n",
    "Random sampling without reading in entire file upfront.\n",
    "\n",
    "After initializing the sampler, each `yield` call returns `n=5` random reads from the FASTQ"
   ]
  },
  {
   "cell_type": "code",
   "execution_count": null,
   "metadata": {},
   "outputs": [],
   "source": [
    "mysampler <- FastqSampler(myfqfile, n=5)\n",
    "\n",
    "sample_reads <- yield(mysampler)\n",
    "ShortRead::id(sample_reads)\n",
    "\n",
    "close(mysampler)"
   ]
  },
  {
   "cell_type": "code",
   "execution_count": null,
   "metadata": {},
   "outputs": [],
   "source": [
    "mysampler <- FastqSampler(myfqfile, n=5)\n",
    "\n",
    "sample_reads = yield(mysampler)\n",
    "ShortRead::id(sample_reads)\n",
    "\n",
    "close(mysampler)"
   ]
  },
  {
   "cell_type": "code",
   "execution_count": null,
   "metadata": {},
   "outputs": [],
   "source": [
    "### Reproducible random sampling\n",
    "set.seed(18381)\n",
    "mysampler <- FastqSampler(myfqfile, n=5)\n",
    "\n",
    "sample_reads = yield(mysampler)\n",
    "ShortRead::id(sample_reads)\n",
    "\n",
    "close(mysampler)"
   ]
  },
  {
   "cell_type": "code",
   "execution_count": null,
   "metadata": {},
   "outputs": [],
   "source": [
    "### Reproducible random sampling\n",
    "set.seed(18381)\n",
    "mysampler <- FastqSampler(myfqfile, n=5)\n",
    "\n",
    "sample_reads = yield(mysampler)\n",
    "ShortRead::id(sample_reads)\n",
    "\n",
    "close(mysampler)"
   ]
  },
  {
   "cell_type": "code",
   "execution_count": null,
   "metadata": {},
   "outputs": [],
   "source": [
    "mysampler <- FastqSampler(myfqfile, n=5)\n",
    "sample_reads = yield(mysampler)\n",
    "object.size(mysampler) %>% humanReadable\n",
    "object.size(sample_reads)%>% humanReadable\n",
    "close(mysampler)"
   ]
  },
  {
   "cell_type": "markdown",
   "metadata": {},
   "source": [
    "### Iterate over fastq file in chunks of 5000 reads"
   ]
  },
  {
   "cell_type": "code",
   "execution_count": null,
   "metadata": {},
   "outputs": [],
   "source": [
    "fq <- FastqStreamer(myfqfile, 5000)\n",
    "\n",
    "while (length(reads <- yield(fq))) {\n",
    "    print(reads)\n",
    "}\n",
    "\n",
    "close(fq)"
   ]
  },
  {
   "cell_type": "markdown",
   "metadata": {},
   "source": [
    "## QC Report"
   ]
  },
  {
   "cell_type": "markdown",
   "metadata": {},
   "source": [
    "### Get 2019 fastq filenames for the four lanes of sample 3 (2019 libraries)\n",
    "\n",
    "- /data/hts_2019_data/hts2019_pilot_rawdata//1_2019_P_M1_S1_L001_R1_001.fastq.gz\n",
    "- /data/hts_2019_data/hts2019_pilot_rawdata//1_2019_P_M1_S1_L002_R1_001.fastq.gz\n",
    "- /data/hts_2019_data/hts2019_pilot_rawdata//1_2019_P_M1_S1_L003_R1_001.fastq.gz \n",
    "- /data/hts_2019_data/hts2019_pilot_rawdata//1_2019_P_M1_S1_L004_R1_001.fastq.gz"
   ]
  },
  {
   "cell_type": "code",
   "execution_count": null,
   "metadata": {
    "scrolled": false
   },
   "outputs": [],
   "source": [
    "### See https://krijnhoetmer.nl/stuff/regex/cheat-sheet/\n",
    "### This pulls 2018 samples\n",
    "myregex <- \"^3_\"\n",
    "fqfiles <- list.files(myfqdir, pattern = myregex, full.names = TRUE) \n",
    "fqfiles"
   ]
  },
  {
   "cell_type": "code",
   "execution_count": null,
   "metadata": {},
   "outputs": [],
   "source": [
    "myregex <- \"^3_2019\"\n",
    "fqfiles <- list.files(myfqdir, pattern = myregex, full.names = TRUE) \n",
    "fqfiles"
   ]
  },
  {
   "cell_type": "code",
   "execution_count": null,
   "metadata": {},
   "outputs": [],
   "source": [
    "### Create QA report for the four lanes (serial execution)\n",
    "fqfiles %>% \n",
    "    ShortRead::qa(type = \"fastq\", BPPARAM = SerialParam()) %>% \n",
    "        report(dest=file.path(outdir, \"2019tutorial-serial\"))"
   ]
  },
  {
   "cell_type": "markdown",
   "metadata": {},
   "source": [
    "### Create QA report for the four lanes (parallel execution).\n",
    "```\n",
    "# Does not work! Problem with BIOCParallel?\n",
    "fqfiles %>% \n",
    "    ShortRead::qa(type = \"fastq\", BPPARAM = MulticoreParam(workers = 4)) %>% \n",
    "        report(dest=file.path(outdir, \"2019tutorial-par\"))\n",
    "```"
   ]
  },
  {
   "cell_type": "markdown",
   "metadata": {},
   "source": [
    "## The End"
   ]
  },
  {
   "cell_type": "code",
   "execution_count": null,
   "metadata": {},
   "outputs": [],
   "source": [
    "sessionInfo()\n",
    "q(save = \"no\")"
   ]
  }
 ],
 "metadata": {
  "kernelspec": {
   "display_name": "R",
   "language": "R",
   "name": "ir"
  },
  "language_info": {
   "codemirror_mode": "r",
   "file_extension": ".r",
   "mimetype": "text/x-r-source",
   "name": "R",
   "pygments_lexer": "r",
   "version": "3.6.0"
  }
 },
 "nbformat": 4,
 "nbformat_minor": 2
}
