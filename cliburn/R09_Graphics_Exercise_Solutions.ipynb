{
 "cells": [
  {
   "cell_type": "markdown",
   "metadata": {},
   "source": [
    "# R Graphics Exercise (Solutions)"
   ]
  },
  {
   "cell_type": "code",
   "execution_count": null,
   "metadata": {},
   "outputs": [],
   "source": [
    "library(tidyverse)"
   ]
  },
  {
   "cell_type": "code",
   "execution_count": null,
   "metadata": {},
   "outputs": [],
   "source": [
    "options(repr.plot.width=4, repr.plot.height=3)"
   ]
  },
  {
   "cell_type": "code",
   "execution_count": null,
   "metadata": {},
   "outputs": [],
   "source": [
    "data <- read_tsv('data/gene_counts_raw.txt')"
   ]
  },
  {
   "cell_type": "markdown",
   "metadata": {},
   "source": [
    "**0**. The `Label` column has 3 pieces of information `Sample`, `Method` andd `Person` in a single cell. Fix this and save the tidy DataFrame as `df`."
   ]
  },
  {
   "cell_type": "code",
   "execution_count": null,
   "metadata": {},
   "outputs": [],
   "source": [
    "data[1:3, 1:5]"
   ]
  },
  {
   "cell_type": "code",
   "execution_count": null,
   "metadata": {},
   "outputs": [],
   "source": [
    "n <- ncol(data)\n",
    "data[1:3, (n-4):n]"
   ]
  },
  {
   "cell_type": "code",
   "execution_count": null,
   "metadata": {},
   "outputs": [],
   "source": [
    "data %>%\n",
    "separate(Label, sep='_', into=c(\"Sample\", \"Method\", \"Person\")) %>%\n",
    "select(1:5) %>%\n",
    "head(3)"
   ]
  },
  {
   "cell_type": "code",
   "execution_count": null,
   "metadata": {},
   "outputs": [],
   "source": [
    "data %>%\n",
    "separate(Label, sep='_', into=c(\"Sample\", \"Method\", \"Person\")) -> df"
   ]
  },
  {
   "cell_type": "code",
   "execution_count": null,
   "metadata": {},
   "outputs": [],
   "source": [
    "df %>% \n",
    "select(1:8) %>% \n",
    "head"
   ]
  },
  {
   "cell_type": "markdown",
   "metadata": {},
   "source": [
    "**1**. Plot a scatter plot of gene100 against gene 1001. Color points by the method used. Save the image as a PNG file 'fig1.png' in the 'figs' folder."
   ]
  },
  {
   "cell_type": "code",
   "execution_count": null,
   "metadata": {},
   "outputs": [],
   "source": [
    "ggplot(df, aes(x=gene100, y=gene1001, color=method)) + \n",
    "geom_point()\n",
    "ggsave('figs/fig1.png')"
   ]
  },
  {
   "cell_type": "markdown",
   "metadata": {},
   "source": [
    "**2**. Make a boxplot plot of gene100 counts by method."
   ]
  },
  {
   "cell_type": "code",
   "execution_count": null,
   "metadata": {},
   "outputs": [],
   "source": [
    "ggplot(df, aes(x=method, y=gene100)) +\n",
    "geom_boxplot()\n",
    "ggsave('figs/fig2.png')"
   ]
  },
  {
   "cell_type": "markdown",
   "metadata": {},
   "source": [
    "**3**. Make a jitter plot of gene100 counts by Media and color the points by method. Set the jitter width to be 0.2."
   ]
  },
  {
   "cell_type": "code",
   "execution_count": null,
   "metadata": {},
   "outputs": [],
   "source": [
    "ggplot(df, aes(x=Media, y=gene100, color=method)) +\n",
    "geom_jitter(width=0.2)\n",
    "ggsave('figs/fig3.png')"
   ]
  },
  {
   "cell_type": "markdown",
   "metadata": {},
   "source": [
    "**4**. Make a grid of histograms of counts for gene100, with rows showing the person and columns showing the method used."
   ]
  },
  {
   "cell_type": "code",
   "execution_count": null,
   "metadata": {},
   "outputs": [],
   "source": [
    "ggplot(df, aes(x=gene100)) +\n",
    "facet_grid(person ~ method) +\n",
    "geom_histogram(binwidth=50) \n",
    "ggsave('figs/fig4.png')"
   ]
  },
  {
   "cell_type": "markdown",
   "metadata": {},
   "source": [
    "**5**. Make a row of boxplots of log counts of the top 5 genes where each column shows a different method.\n",
    "\n",
    "**Warning**: This involves quite a bit of data processing."
   ]
  },
  {
   "cell_type": "code",
   "execution_count": null,
   "metadata": {},
   "outputs": [],
   "source": [
    "genes.top5 <- df %>% \n",
    "select(starts_with('gene')) %>% \n",
    "summarize_all(mean) %>% \n",
    "gather() %>% \n",
    "arrange(desc(value)) %>%\n",
    "head(5)"
   ]
  },
  {
   "cell_type": "code",
   "execution_count": null,
   "metadata": {},
   "outputs": [],
   "source": [
    "genes.top5"
   ]
  },
  {
   "cell_type": "code",
   "execution_count": null,
   "metadata": {},
   "outputs": [],
   "source": [
    "genes.top5$key"
   ]
  },
  {
   "cell_type": "code",
   "execution_count": null,
   "metadata": {},
   "outputs": [],
   "source": [
    "df %>% \n",
    "select(c('method', genes.top5$key)) %>%\n",
    "gather(gene, count, -method) %>%\n",
    "mutate(logcount = log(count)) %>%\n",
    "ggplot(aes(x=gene, y=logcount)) +\n",
    "geom_boxplot() + \n",
    "facet_wrap(~ method) +\n",
    "theme(axis.text.x = element_text(angle = 90, hjust = 1))\n",
    "ggsave('figs/fig5.png')"
   ]
  },
  {
   "cell_type": "code",
   "execution_count": null,
   "metadata": {},
   "outputs": [],
   "source": []
  }
 ],
 "metadata": {
  "kernelspec": {
   "display_name": "R",
   "language": "R",
   "name": "ir"
  },
  "language_info": {
   "codemirror_mode": "r",
   "file_extension": ".r",
   "mimetype": "text/x-r-source",
   "name": "R",
   "pygments_lexer": "r",
   "version": "3.5.1"
  }
 },
 "nbformat": 4,
 "nbformat_minor": 2
}
