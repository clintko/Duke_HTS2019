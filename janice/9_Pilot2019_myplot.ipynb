{
 "cells": [
  {
   "cell_type": "code",
   "execution_count": 1,
   "metadata": {},
   "outputs": [
    {
     "name": "stderr",
     "output_type": "stream",
     "text": [
      "Loading required package: S4Vectors\n",
      "Loading required package: stats4\n",
      "Loading required package: BiocGenerics\n",
      "Loading required package: parallel\n",
      "\n",
      "Attaching package: ‘BiocGenerics’\n",
      "\n",
      "The following objects are masked from ‘package:parallel’:\n",
      "\n",
      "    clusterApply, clusterApplyLB, clusterCall, clusterEvalQ,\n",
      "    clusterExport, clusterMap, parApply, parCapply, parLapply,\n",
      "    parLapplyLB, parRapply, parSapply, parSapplyLB\n",
      "\n",
      "The following objects are masked from ‘package:stats’:\n",
      "\n",
      "    IQR, mad, sd, var, xtabs\n",
      "\n",
      "The following objects are masked from ‘package:base’:\n",
      "\n",
      "    anyDuplicated, append, as.data.frame, basename, cbind, colnames,\n",
      "    dirname, do.call, duplicated, eval, evalq, Filter, Find, get, grep,\n",
      "    grepl, intersect, is.unsorted, lapply, Map, mapply, match, mget,\n",
      "    order, paste, pmax, pmax.int, pmin, pmin.int, Position, rank,\n",
      "    rbind, Reduce, rownames, sapply, setdiff, sort, table, tapply,\n",
      "    union, unique, unsplit, which, which.max, which.min\n",
      "\n",
      "\n",
      "Attaching package: ‘S4Vectors’\n",
      "\n",
      "The following object is masked from ‘package:base’:\n",
      "\n",
      "    expand.grid\n",
      "\n",
      "Loading required package: IRanges\n",
      "Loading required package: GenomicRanges\n",
      "Loading required package: GenomeInfoDb\n",
      "Loading required package: SummarizedExperiment\n",
      "Loading required package: Biobase\n",
      "Welcome to Bioconductor\n",
      "\n",
      "    Vignettes contain introductory material; view with\n",
      "    'browseVignettes()'. To cite Bioconductor, see\n",
      "    'citation(\"Biobase\")', and for packages 'citation(\"pkgname\")'.\n",
      "\n",
      "Loading required package: DelayedArray\n",
      "Loading required package: matrixStats\n",
      "\n",
      "Attaching package: ‘matrixStats’\n",
      "\n",
      "The following objects are masked from ‘package:Biobase’:\n",
      "\n",
      "    anyMissing, rowMedians\n",
      "\n",
      "Loading required package: BiocParallel\n",
      "\n",
      "Attaching package: ‘DelayedArray’\n",
      "\n",
      "The following objects are masked from ‘package:matrixStats’:\n",
      "\n",
      "    colMaxs, colMins, colRanges, rowMaxs, rowMins, rowRanges\n",
      "\n",
      "The following objects are masked from ‘package:base’:\n",
      "\n",
      "    aperm, apply, rowsum\n",
      "\n",
      "Registered S3 methods overwritten by 'ggplot2':\n",
      "  method         from \n",
      "  [.quosures     rlang\n",
      "  c.quosures     rlang\n",
      "  print.quosures rlang\n",
      "── \u001b[1mAttaching packages\u001b[22m ─────────────────────────────────────── tidyverse 1.2.1 ──\n",
      "\u001b[32m✔\u001b[39m \u001b[34mggplot2\u001b[39m 3.1.1     \u001b[32m✔\u001b[39m \u001b[34mpurrr  \u001b[39m 0.3.2\n",
      "\u001b[32m✔\u001b[39m \u001b[34mtibble \u001b[39m 2.1.2     \u001b[32m✔\u001b[39m \u001b[34mdplyr  \u001b[39m 0.8.1\n",
      "\u001b[32m✔\u001b[39m \u001b[34mtidyr  \u001b[39m 0.8.3     \u001b[32m✔\u001b[39m \u001b[34mstringr\u001b[39m 1.4.0\n",
      "\u001b[32m✔\u001b[39m \u001b[34mreadr  \u001b[39m 1.3.1     \u001b[32m✔\u001b[39m \u001b[34mforcats\u001b[39m 0.4.0\n",
      "── \u001b[1mConflicts\u001b[22m ────────────────────────────────────────── tidyverse_conflicts() ──\n",
      "\u001b[31m✖\u001b[39m \u001b[34mdplyr\u001b[39m::\u001b[32mcollapse()\u001b[39m   masks \u001b[34mIRanges\u001b[39m::collapse()\n",
      "\u001b[31m✖\u001b[39m \u001b[34mdplyr\u001b[39m::\u001b[32mcombine()\u001b[39m    masks \u001b[34mBiobase\u001b[39m::combine(), \u001b[34mBiocGenerics\u001b[39m::combine()\n",
      "\u001b[31m✖\u001b[39m \u001b[34mdplyr\u001b[39m::\u001b[32mcount()\u001b[39m      masks \u001b[34mmatrixStats\u001b[39m::count()\n",
      "\u001b[31m✖\u001b[39m \u001b[34mdplyr\u001b[39m::\u001b[32mdesc()\u001b[39m       masks \u001b[34mIRanges\u001b[39m::desc()\n",
      "\u001b[31m✖\u001b[39m \u001b[34mtidyr\u001b[39m::\u001b[32mexpand()\u001b[39m     masks \u001b[34mS4Vectors\u001b[39m::expand()\n",
      "\u001b[31m✖\u001b[39m \u001b[34mdplyr\u001b[39m::\u001b[32mfilter()\u001b[39m     masks \u001b[34mstats\u001b[39m::filter()\n",
      "\u001b[31m✖\u001b[39m \u001b[34mdplyr\u001b[39m::\u001b[32mfirst()\u001b[39m      masks \u001b[34mS4Vectors\u001b[39m::first()\n",
      "\u001b[31m✖\u001b[39m \u001b[34mdplyr\u001b[39m::\u001b[32mlag()\u001b[39m        masks \u001b[34mstats\u001b[39m::lag()\n",
      "\u001b[31m✖\u001b[39m \u001b[34mggplot2\u001b[39m::\u001b[32mPosition()\u001b[39m masks \u001b[34mBiocGenerics\u001b[39m::Position(), \u001b[34mbase\u001b[39m::Position()\n",
      "\u001b[31m✖\u001b[39m \u001b[34mpurrr\u001b[39m::\u001b[32mreduce()\u001b[39m     masks \u001b[34mGenomicRanges\u001b[39m::reduce(), \u001b[34mIRanges\u001b[39m::reduce()\n",
      "\u001b[31m✖\u001b[39m \u001b[34mdplyr\u001b[39m::\u001b[32mrename()\u001b[39m     masks \u001b[34mS4Vectors\u001b[39m::rename()\n",
      "\u001b[31m✖\u001b[39m \u001b[34mpurrr\u001b[39m::\u001b[32msimplify()\u001b[39m   masks \u001b[34mDelayedArray\u001b[39m::simplify()\n",
      "\u001b[31m✖\u001b[39m \u001b[34mdplyr\u001b[39m::\u001b[32mslice()\u001b[39m      masks \u001b[34mIRanges\u001b[39m::slice()\n",
      "\n",
      "---------------------\n",
      "Welcome to dendextend version 1.12.0\n",
      "Type citation('dendextend') for how to cite the package.\n",
      "\n",
      "Type browseVignettes(package = 'dendextend') for the package vignette.\n",
      "The github page is: https://github.com/talgalili/dendextend/\n",
      "\n",
      "Suggestions and bug-reports can be submitted at: https://github.com/talgalili/dendextend/issues\n",
      "Or contact: <tal.galili@gmail.com>\n",
      "\n",
      "\tTo suppress this message use:  suppressPackageStartupMessages(library(dendextend))\n",
      "---------------------\n",
      "\n",
      "\n",
      "Attaching package: ‘dendextend’\n",
      "\n",
      "The following object is masked from ‘package:stats’:\n",
      "\n",
      "    cutree\n",
      "\n"
     ]
    }
   ],
   "source": [
    "library(DESeq2)\n",
    "library(tidyverse)\n",
    "library(RColorBrewer)\n",
    "library(dendextend)"
   ]
  },
  {
   "cell_type": "code",
   "execution_count": 2,
   "metadata": {},
   "outputs": [],
   "source": [
    "curdir <- \"/home/jovyan/work/scratch/analysis_output\"\n",
    "outdir <- file.path(curdir, \"out\")\n",
    "imgdir <- file.path(curdir, \"img\")"
   ]
  },
  {
   "cell_type": "code",
   "execution_count": 3,
   "metadata": {},
   "outputs": [
    {
     "data": {
      "text/html": [
       "<strong>/home/jovyan/work/scratch/analysis_output/out/HTS-Pilot-Annotated-STAR-counts.RData:</strong> '88a4df858ec7c7a29e6d91548b97ae49'"
      ],
      "text/latex": [
       "\\textbf{/home/jovyan/work/scratch/analysis\\textbackslash{}\\_output/out/HTS-Pilot-Annotated-STAR-counts.RData:} '88a4df858ec7c7a29e6d91548b97ae49'"
      ],
      "text/markdown": [
       "**/home/jovyan/work/scratch/analysis_output/out/HTS-Pilot-Annotated-STAR-counts.RData:** '88a4df858ec7c7a29e6d91548b97ae49'"
      ],
      "text/plain": [
       "/home/jovyan/work/scratch/analysis_output/out/HTS-Pilot-Annotated-STAR-counts.RData \n",
       "                                                 \"88a4df858ec7c7a29e6d91548b97ae49\" "
      ]
     },
     "metadata": {},
     "output_type": "display_data"
    }
   ],
   "source": [
    "attach(file.path(outdir, \"HTS-Pilot-Annotated-STAR-counts.RData\"))\n",
    "tools::md5sum(file.path(outdir, \"HTS-Pilot-Annotated-STAR-counts.RData\"))"
   ]
  },
  {
   "cell_type": "markdown",
   "metadata": {},
   "source": [
    "### Prepare columnData (DataFrameand countData (matrix object)\n",
    "### Select samples from mRNA"
   ]
  },
  {
   "cell_type": "code",
   "execution_count": 4,
   "metadata": {},
   "outputs": [],
   "source": [
    "annomapres0 %>%\n",
    "    dplyr::filter(enrichment_method == \"mRNA\")  %>%\n",
    "    DataFrame ->\n",
    "    columnData\n",
    "rownames(columnData) <- columnData[[\"Label\"]]\n",
    "\n",
    "annogenecnts0 %>%\n",
    "    dplyr::select(c(\"gene\", contains('_P_'))) %>%\n",
    "    as.data.frame %>%\n",
    "    column_to_rownames(\"gene\") %>%\n",
    "    as.matrix ->\n",
    "    countData"
   ]
  },
  {
   "cell_type": "markdown",
   "metadata": {},
   "source": [
    "### Check that the row names of column Data match the\n",
    "### column names of countData"
   ]
  },
  {
   "cell_type": "code",
   "execution_count": 5,
   "metadata": {},
   "outputs": [
    {
     "data": {
      "text/html": [
       "TRUE"
      ],
      "text/latex": [
       "TRUE"
      ],
      "text/markdown": [
       "TRUE"
      ],
      "text/plain": [
       "[1] TRUE"
      ]
     },
     "metadata": {},
     "output_type": "display_data"
    }
   ],
   "source": [
    "identical(rownames(columnData), colnames( countData))"
   ]
  },
  {
   "cell_type": "code",
   "execution_count": 6,
   "metadata": {},
   "outputs": [
    {
     "data": {
      "text/html": [
       "<ol class=list-inline>\n",
       "\t<li>'1_2019_P_M1'</li>\n",
       "\t<li>'10_2019_P_M1'</li>\n",
       "\t<li>'11_2019_P_M1'</li>\n",
       "\t<li>'12_2019_P_M1'</li>\n",
       "\t<li>'13_2019_P_M1'</li>\n",
       "\t<li>'14_2019_P_M1'</li>\n",
       "\t<li>'15_2019_P_M1'</li>\n",
       "\t<li>'16_2019_P_M1'</li>\n",
       "\t<li>'17_2019_P_M1'</li>\n",
       "\t<li>'18_2019_P_M1'</li>\n",
       "\t<li>'19_2019_P_M1'</li>\n",
       "\t<li>'2_2018_P_M1'</li>\n",
       "\t<li>'2_2019_P_M1'</li>\n",
       "\t<li>'20_2019_P_M1'</li>\n",
       "\t<li>'21_2019_P_M1'</li>\n",
       "\t<li>'22_2019_P_M1'</li>\n",
       "\t<li>'23_2019_P_M1'</li>\n",
       "\t<li>'24_2019_P_M1'</li>\n",
       "\t<li>'3_2018_P_M1'</li>\n",
       "\t<li>'3_2019_P_M1'</li>\n",
       "\t<li>'4_2018_P_M1'</li>\n",
       "\t<li>'4_2019_P_M1'</li>\n",
       "\t<li>'5_2019_P_M1'</li>\n",
       "\t<li>'6_2019_P_M1'</li>\n",
       "\t<li>'7_2019_P_M1'</li>\n",
       "\t<li>'8_2019_P_M1'</li>\n",
       "\t<li>'9_2019_P_M1'</li>\n",
       "</ol>\n"
      ],
      "text/latex": [
       "\\begin{enumerate*}\n",
       "\\item '1\\_2019\\_P\\_M1'\n",
       "\\item '10\\_2019\\_P\\_M1'\n",
       "\\item '11\\_2019\\_P\\_M1'\n",
       "\\item '12\\_2019\\_P\\_M1'\n",
       "\\item '13\\_2019\\_P\\_M1'\n",
       "\\item '14\\_2019\\_P\\_M1'\n",
       "\\item '15\\_2019\\_P\\_M1'\n",
       "\\item '16\\_2019\\_P\\_M1'\n",
       "\\item '17\\_2019\\_P\\_M1'\n",
       "\\item '18\\_2019\\_P\\_M1'\n",
       "\\item '19\\_2019\\_P\\_M1'\n",
       "\\item '2\\_2018\\_P\\_M1'\n",
       "\\item '2\\_2019\\_P\\_M1'\n",
       "\\item '20\\_2019\\_P\\_M1'\n",
       "\\item '21\\_2019\\_P\\_M1'\n",
       "\\item '22\\_2019\\_P\\_M1'\n",
       "\\item '23\\_2019\\_P\\_M1'\n",
       "\\item '24\\_2019\\_P\\_M1'\n",
       "\\item '3\\_2018\\_P\\_M1'\n",
       "\\item '3\\_2019\\_P\\_M1'\n",
       "\\item '4\\_2018\\_P\\_M1'\n",
       "\\item '4\\_2019\\_P\\_M1'\n",
       "\\item '5\\_2019\\_P\\_M1'\n",
       "\\item '6\\_2019\\_P\\_M1'\n",
       "\\item '7\\_2019\\_P\\_M1'\n",
       "\\item '8\\_2019\\_P\\_M1'\n",
       "\\item '9\\_2019\\_P\\_M1'\n",
       "\\end{enumerate*}\n"
      ],
      "text/markdown": [
       "1. '1_2019_P_M1'\n",
       "2. '10_2019_P_M1'\n",
       "3. '11_2019_P_M1'\n",
       "4. '12_2019_P_M1'\n",
       "5. '13_2019_P_M1'\n",
       "6. '14_2019_P_M1'\n",
       "7. '15_2019_P_M1'\n",
       "8. '16_2019_P_M1'\n",
       "9. '17_2019_P_M1'\n",
       "10. '18_2019_P_M1'\n",
       "11. '19_2019_P_M1'\n",
       "12. '2_2018_P_M1'\n",
       "13. '2_2019_P_M1'\n",
       "14. '20_2019_P_M1'\n",
       "15. '21_2019_P_M1'\n",
       "16. '22_2019_P_M1'\n",
       "17. '23_2019_P_M1'\n",
       "18. '24_2019_P_M1'\n",
       "19. '3_2018_P_M1'\n",
       "20. '3_2019_P_M1'\n",
       "21. '4_2018_P_M1'\n",
       "22. '4_2019_P_M1'\n",
       "23. '5_2019_P_M1'\n",
       "24. '6_2019_P_M1'\n",
       "25. '7_2019_P_M1'\n",
       "26. '8_2019_P_M1'\n",
       "27. '9_2019_P_M1'\n",
       "\n",
       "\n"
      ],
      "text/plain": [
       " [1] \"1_2019_P_M1\"  \"10_2019_P_M1\" \"11_2019_P_M1\" \"12_2019_P_M1\" \"13_2019_P_M1\"\n",
       " [6] \"14_2019_P_M1\" \"15_2019_P_M1\" \"16_2019_P_M1\" \"17_2019_P_M1\" \"18_2019_P_M1\"\n",
       "[11] \"19_2019_P_M1\" \"2_2018_P_M1\"  \"2_2019_P_M1\"  \"20_2019_P_M1\" \"21_2019_P_M1\"\n",
       "[16] \"22_2019_P_M1\" \"23_2019_P_M1\" \"24_2019_P_M1\" \"3_2018_P_M1\"  \"3_2019_P_M1\" \n",
       "[21] \"4_2018_P_M1\"  \"4_2019_P_M1\"  \"5_2019_P_M1\"  \"6_2019_P_M1\"  \"7_2019_P_M1\" \n",
       "[26] \"8_2019_P_M1\"  \"9_2019_P_M1\" "
      ]
     },
     "metadata": {},
     "output_type": "display_data"
    }
   ],
   "source": [
    "rownames(columnData)"
   ]
  },
  {
   "cell_type": "code",
   "execution_count": 7,
   "metadata": {},
   "outputs": [
    {
     "data": {
      "text/html": [
       "<ol class=list-inline>\n",
       "\t<li>'1_2019_P_M1'</li>\n",
       "\t<li>'10_2019_P_M1'</li>\n",
       "\t<li>'11_2019_P_M1'</li>\n",
       "\t<li>'12_2019_P_M1'</li>\n",
       "\t<li>'13_2019_P_M1'</li>\n",
       "\t<li>'14_2019_P_M1'</li>\n",
       "\t<li>'15_2019_P_M1'</li>\n",
       "\t<li>'16_2019_P_M1'</li>\n",
       "\t<li>'17_2019_P_M1'</li>\n",
       "\t<li>'18_2019_P_M1'</li>\n",
       "\t<li>'19_2019_P_M1'</li>\n",
       "\t<li>'2_2018_P_M1'</li>\n",
       "\t<li>'2_2019_P_M1'</li>\n",
       "\t<li>'20_2019_P_M1'</li>\n",
       "\t<li>'21_2019_P_M1'</li>\n",
       "\t<li>'22_2019_P_M1'</li>\n",
       "\t<li>'23_2019_P_M1'</li>\n",
       "\t<li>'24_2019_P_M1'</li>\n",
       "\t<li>'3_2018_P_M1'</li>\n",
       "\t<li>'3_2019_P_M1'</li>\n",
       "\t<li>'4_2018_P_M1'</li>\n",
       "\t<li>'4_2019_P_M1'</li>\n",
       "\t<li>'5_2019_P_M1'</li>\n",
       "\t<li>'6_2019_P_M1'</li>\n",
       "\t<li>'7_2019_P_M1'</li>\n",
       "\t<li>'8_2019_P_M1'</li>\n",
       "\t<li>'9_2019_P_M1'</li>\n",
       "</ol>\n"
      ],
      "text/latex": [
       "\\begin{enumerate*}\n",
       "\\item '1\\_2019\\_P\\_M1'\n",
       "\\item '10\\_2019\\_P\\_M1'\n",
       "\\item '11\\_2019\\_P\\_M1'\n",
       "\\item '12\\_2019\\_P\\_M1'\n",
       "\\item '13\\_2019\\_P\\_M1'\n",
       "\\item '14\\_2019\\_P\\_M1'\n",
       "\\item '15\\_2019\\_P\\_M1'\n",
       "\\item '16\\_2019\\_P\\_M1'\n",
       "\\item '17\\_2019\\_P\\_M1'\n",
       "\\item '18\\_2019\\_P\\_M1'\n",
       "\\item '19\\_2019\\_P\\_M1'\n",
       "\\item '2\\_2018\\_P\\_M1'\n",
       "\\item '2\\_2019\\_P\\_M1'\n",
       "\\item '20\\_2019\\_P\\_M1'\n",
       "\\item '21\\_2019\\_P\\_M1'\n",
       "\\item '22\\_2019\\_P\\_M1'\n",
       "\\item '23\\_2019\\_P\\_M1'\n",
       "\\item '24\\_2019\\_P\\_M1'\n",
       "\\item '3\\_2018\\_P\\_M1'\n",
       "\\item '3\\_2019\\_P\\_M1'\n",
       "\\item '4\\_2018\\_P\\_M1'\n",
       "\\item '4\\_2019\\_P\\_M1'\n",
       "\\item '5\\_2019\\_P\\_M1'\n",
       "\\item '6\\_2019\\_P\\_M1'\n",
       "\\item '7\\_2019\\_P\\_M1'\n",
       "\\item '8\\_2019\\_P\\_M1'\n",
       "\\item '9\\_2019\\_P\\_M1'\n",
       "\\end{enumerate*}\n"
      ],
      "text/markdown": [
       "1. '1_2019_P_M1'\n",
       "2. '10_2019_P_M1'\n",
       "3. '11_2019_P_M1'\n",
       "4. '12_2019_P_M1'\n",
       "5. '13_2019_P_M1'\n",
       "6. '14_2019_P_M1'\n",
       "7. '15_2019_P_M1'\n",
       "8. '16_2019_P_M1'\n",
       "9. '17_2019_P_M1'\n",
       "10. '18_2019_P_M1'\n",
       "11. '19_2019_P_M1'\n",
       "12. '2_2018_P_M1'\n",
       "13. '2_2019_P_M1'\n",
       "14. '20_2019_P_M1'\n",
       "15. '21_2019_P_M1'\n",
       "16. '22_2019_P_M1'\n",
       "17. '23_2019_P_M1'\n",
       "18. '24_2019_P_M1'\n",
       "19. '3_2018_P_M1'\n",
       "20. '3_2019_P_M1'\n",
       "21. '4_2018_P_M1'\n",
       "22. '4_2019_P_M1'\n",
       "23. '5_2019_P_M1'\n",
       "24. '6_2019_P_M1'\n",
       "25. '7_2019_P_M1'\n",
       "26. '8_2019_P_M1'\n",
       "27. '9_2019_P_M1'\n",
       "\n",
       "\n"
      ],
      "text/plain": [
       " [1] \"1_2019_P_M1\"  \"10_2019_P_M1\" \"11_2019_P_M1\" \"12_2019_P_M1\" \"13_2019_P_M1\"\n",
       " [6] \"14_2019_P_M1\" \"15_2019_P_M1\" \"16_2019_P_M1\" \"17_2019_P_M1\" \"18_2019_P_M1\"\n",
       "[11] \"19_2019_P_M1\" \"2_2018_P_M1\"  \"2_2019_P_M1\"  \"20_2019_P_M1\" \"21_2019_P_M1\"\n",
       "[16] \"22_2019_P_M1\" \"23_2019_P_M1\" \"24_2019_P_M1\" \"3_2018_P_M1\"  \"3_2019_P_M1\" \n",
       "[21] \"4_2018_P_M1\"  \"4_2019_P_M1\"  \"5_2019_P_M1\"  \"6_2019_P_M1\"  \"7_2019_P_M1\" \n",
       "[26] \"8_2019_P_M1\"  \"9_2019_P_M1\" "
      ]
     },
     "metadata": {},
     "output_type": "display_data"
    }
   ],
   "source": [
    "colnames( countData)"
   ]
  },
  {
   "cell_type": "markdown",
   "metadata": {},
   "source": [
    "### Make DESeq object on the basis of the counts"
   ]
  },
  {
   "cell_type": "markdown",
   "metadata": {},
   "source": [
    "The design option allows you to specify an additive or a multiplicative model"
   ]
  },
  {
   "cell_type": "code",
   "execution_count": 10,
   "metadata": {},
   "outputs": [
    {
     "name": "stderr",
     "output_type": "stream",
     "text": [
      "Warning message in DESeqDataSet(se, design = design, ignoreRank):\n",
      "“some variables in design formula are characters, converting to factors”"
     ]
    }
   ],
   "source": [
    "#Additive model\n",
    "dds_add <- DESeqDataSetFromMatrix(countData, columnData, ~ condition + genotype)"
   ]
  },
  {
   "cell_type": "code",
   "execution_count": 12,
   "metadata": {},
   "outputs": [
    {
     "name": "stderr",
     "output_type": "stream",
     "text": [
      "Warning message in DESeqDataSet(se, design = design, ignoreRank):\n",
      "“some variables in design formula are characters, converting to factors”"
     ]
    },
    {
     "ename": "ERROR",
     "evalue": "Error in checkFullRank(modelMatrix): the model matrix is not full rank, so the model cannot be fit as specified.\n  One or more variables or interaction terms in the design formula are linear\n  combinations of the others and must be removed.\n\n  Please read the vignette section 'Model matrix not full rank':\n\n  vignette('DESeq2')\n",
     "output_type": "error",
     "traceback": [
      "Error in checkFullRank(modelMatrix): the model matrix is not full rank, so the model cannot be fit as specified.\n  One or more variables or interaction terms in the design formula are linear\n  combinations of the others and must be removed.\n\n  Please read the vignette section 'Model matrix not full rank':\n\n  vignette('DESeq2')\nTraceback:\n",
      "1. DESeqDataSetFromMatrix(countData, columnData, ~condition + genotype + \n .     condition:genotype)",
      "2. DESeqDataSet(se, design = design, ignoreRank)",
      "3. checkFullRank(modelMatrix)",
      "4. stop(\"the model matrix is not full rank, so the model cannot be fit as specified.\\n  One or more variables or interaction terms in the design formula are linear\\n  combinations of the others and must be removed.\\n\\n  Please read the vignette section 'Model matrix not full rank':\\n\\n  vignette('DESeq2')\")"
     ]
    }
   ],
   "source": [
    "#Multiplicative model\n",
    "dds_mult <- DESeqDataSetFromMatrix(\n",
    "    countData,                       # Count matrix\n",
    "    columnData,                      # metadata\n",
    "    ~ condition + genotype + condition:genotype) # design formula"
   ]
  },
  {
   "cell_type": "markdown",
   "metadata": {},
   "source": [
    "In the following demonstration, we will use the additive model. The multiplicative model will be illustrated in the appendix below."
   ]
  },
  {
   "cell_type": "code",
   "execution_count": 13,
   "metadata": {},
   "outputs": [],
   "source": [
    "dds <- dds_add"
   ]
  },
  {
   "cell_type": "markdown",
   "metadata": {},
   "source": [
    "### Inspect object & Slots of an S4 class"
   ]
  },
  {
   "cell_type": "markdown",
   "metadata": {},
   "source": [
    "Let's has a look at the object we have created."
   ]
  },
  {
   "cell_type": "code",
   "execution_count": 14,
   "metadata": {},
   "outputs": [
    {
     "data": {
      "text/plain": [
       "class: DESeqDataSet \n",
       "dim: 8499 27 \n",
       "metadata(1): version\n",
       "assays(1): counts\n",
       "rownames(8499): CNAG_00001 CNAG_00002 ... large_MTrRNA small_MTrRNA\n",
       "rowData names(0):\n",
       "colnames(27): 1_2019_P_M1 10_2019_P_M1 ... 8_2019_P_M1 9_2019_P_M1\n",
       "colData names(10): Label genotype ... prob.unique depth"
      ]
     },
     "metadata": {},
     "output_type": "display_data"
    }
   ],
   "source": [
    "dds"
   ]
  },
  {
   "cell_type": "code",
   "execution_count": 15,
   "metadata": {},
   "outputs": [
    {
     "data": {
      "text/html": [
       "'DESeqDataSet'"
      ],
      "text/latex": [
       "'DESeqDataSet'"
      ],
      "text/markdown": [
       "'DESeqDataSet'"
      ],
      "text/plain": [
       "[1] \"DESeqDataSet\"\n",
       "attr(,\"package\")\n",
       "[1] \"DESeq2\""
      ]
     },
     "metadata": {},
     "output_type": "display_data"
    }
   ],
   "source": [
    "class(dds)"
   ]
  },
  {
   "cell_type": "code",
   "execution_count": 16,
   "metadata": {},
   "outputs": [
    {
     "data": {
      "text/html": [
       "<ol class=list-inline>\n",
       "\t<li>'design'</li>\n",
       "\t<li>'dispersionFunction'</li>\n",
       "\t<li>'rowRanges'</li>\n",
       "\t<li>'colData'</li>\n",
       "\t<li>'assays'</li>\n",
       "\t<li>'NAMES'</li>\n",
       "\t<li>'elementMetadata'</li>\n",
       "\t<li>'metadata'</li>\n",
       "</ol>\n"
      ],
      "text/latex": [
       "\\begin{enumerate*}\n",
       "\\item 'design'\n",
       "\\item 'dispersionFunction'\n",
       "\\item 'rowRanges'\n",
       "\\item 'colData'\n",
       "\\item 'assays'\n",
       "\\item 'NAMES'\n",
       "\\item 'elementMetadata'\n",
       "\\item 'metadata'\n",
       "\\end{enumerate*}\n"
      ],
      "text/markdown": [
       "1. 'design'\n",
       "2. 'dispersionFunction'\n",
       "3. 'rowRanges'\n",
       "4. 'colData'\n",
       "5. 'assays'\n",
       "6. 'NAMES'\n",
       "7. 'elementMetadata'\n",
       "8. 'metadata'\n",
       "\n",
       "\n"
      ],
      "text/plain": [
       "[1] \"design\"             \"dispersionFunction\" \"rowRanges\"         \n",
       "[4] \"colData\"            \"assays\"             \"NAMES\"             \n",
       "[7] \"elementMetadata\"    \"metadata\"          "
      ]
     },
     "metadata": {},
     "output_type": "display_data"
    }
   ],
   "source": [
    "slotNames(dds)"
   ]
  },
  {
   "cell_type": "code",
   "execution_count": 17,
   "metadata": {},
   "outputs": [
    {
     "data": {
      "text/html": [
       "<table>\n",
       "<caption>A data.frame: 3 × 10</caption>\n",
       "<thead>\n",
       "\t<tr><th></th><th scope=col>Label</th><th scope=col>genotype</th><th scope=col>condition</th><th scope=col>sample_year</th><th scope=col>libprep_person</th><th scope=col>enrichment_method</th><th scope=col>prob.gene</th><th scope=col>prob.nofeat</th><th scope=col>prob.unique</th><th scope=col>depth</th></tr>\n",
       "\t<tr><th></th><th scope=col>&lt;chr&gt;</th><th scope=col>&lt;fct&gt;</th><th scope=col>&lt;fct&gt;</th><th scope=col>&lt;dbl&gt;</th><th scope=col>&lt;chr&gt;</th><th scope=col>&lt;chr&gt;</th><th scope=col>&lt;dbl&gt;</th><th scope=col>&lt;dbl&gt;</th><th scope=col>&lt;dbl&gt;</th><th scope=col>&lt;dbl&gt;</th></tr>\n",
       "</thead>\n",
       "<tbody>\n",
       "\t<tr><th scope=row>1_2019_P_M1</th><td>1_2019_P_M1 </td><td>WT   </td><td>pH4</td><td>2019</td><td>C</td><td>mRNA</td><td>0.9701869</td><td>0.005566751</td><td>0.9757537</td><td>4805390</td></tr>\n",
       "\t<tr><th scope=row>10_2019_P_M1</th><td>10_2019_P_M1</td><td>sre1d</td><td>pH4</td><td>2019</td><td>P</td><td>mRNA</td><td>0.9681305</td><td>0.007741957</td><td>0.9758724</td><td>3368037</td></tr>\n",
       "\t<tr><th scope=row>11_2019_P_M1</th><td>11_2019_P_M1</td><td>sre1d</td><td>pH4</td><td>2019</td><td>P</td><td>mRNA</td><td>0.9568419</td><td>0.008394393</td><td>0.9652363</td><td>3355749</td></tr>\n",
       "</tbody>\n",
       "</table>\n"
      ],
      "text/latex": [
       "A data.frame: 3 × 10\n",
       "\\begin{tabular}{r|llllllllll}\n",
       "  & Label & genotype & condition & sample\\_year & libprep\\_person & enrichment\\_method & prob.gene & prob.nofeat & prob.unique & depth\\\\\n",
       "  & <chr> & <fct> & <fct> & <dbl> & <chr> & <chr> & <dbl> & <dbl> & <dbl> & <dbl>\\\\\n",
       "\\hline\n",
       "\t1\\_2019\\_P\\_M1 & 1\\_2019\\_P\\_M1  & WT    & pH4 & 2019 & C & mRNA & 0.9701869 & 0.005566751 & 0.9757537 & 4805390\\\\\n",
       "\t10\\_2019\\_P\\_M1 & 10\\_2019\\_P\\_M1 & sre1d & pH4 & 2019 & P & mRNA & 0.9681305 & 0.007741957 & 0.9758724 & 3368037\\\\\n",
       "\t11\\_2019\\_P\\_M1 & 11\\_2019\\_P\\_M1 & sre1d & pH4 & 2019 & P & mRNA & 0.9568419 & 0.008394393 & 0.9652363 & 3355749\\\\\n",
       "\\end{tabular}\n"
      ],
      "text/markdown": [
       "\n",
       "A data.frame: 3 × 10\n",
       "\n",
       "| <!--/--> | Label &lt;chr&gt; | genotype &lt;fct&gt; | condition &lt;fct&gt; | sample_year &lt;dbl&gt; | libprep_person &lt;chr&gt; | enrichment_method &lt;chr&gt; | prob.gene &lt;dbl&gt; | prob.nofeat &lt;dbl&gt; | prob.unique &lt;dbl&gt; | depth &lt;dbl&gt; |\n",
       "|---|---|---|---|---|---|---|---|---|---|---|\n",
       "| 1_2019_P_M1 | 1_2019_P_M1  | WT    | pH4 | 2019 | C | mRNA | 0.9701869 | 0.005566751 | 0.9757537 | 4805390 |\n",
       "| 10_2019_P_M1 | 10_2019_P_M1 | sre1d | pH4 | 2019 | P | mRNA | 0.9681305 | 0.007741957 | 0.9758724 | 3368037 |\n",
       "| 11_2019_P_M1 | 11_2019_P_M1 | sre1d | pH4 | 2019 | P | mRNA | 0.9568419 | 0.008394393 | 0.9652363 | 3355749 |\n",
       "\n"
      ],
      "text/plain": [
       "             Label        genotype condition sample_year libprep_person\n",
       "1_2019_P_M1  1_2019_P_M1  WT       pH4       2019        C             \n",
       "10_2019_P_M1 10_2019_P_M1 sre1d    pH4       2019        P             \n",
       "11_2019_P_M1 11_2019_P_M1 sre1d    pH4       2019        P             \n",
       "             enrichment_method prob.gene prob.nofeat prob.unique depth  \n",
       "1_2019_P_M1  mRNA              0.9701869 0.005566751 0.9757537   4805390\n",
       "10_2019_P_M1 mRNA              0.9681305 0.007741957 0.9758724   3368037\n",
       "11_2019_P_M1 mRNA              0.9568419 0.008394393 0.9652363   3355749"
      ]
     },
     "metadata": {},
     "output_type": "display_data"
    }
   ],
   "source": [
    "dds@colData %>% as.data.frame %>% head(3)"
   ]
  },
  {
   "cell_type": "code",
   "execution_count": 18,
   "metadata": {},
   "outputs": [
    {
     "data": {
      "text/plain": [
       "~condition + genotype"
      ]
     },
     "metadata": {},
     "output_type": "display_data"
    }
   ],
   "source": [
    "dds@design"
   ]
  },
  {
   "cell_type": "markdown",
   "metadata": {},
   "source": [
    "The first thing you may want to do is have a look at the raw counts you have imported. The DESeq2::counts function extracts a matrix of counts (with the genes along the rows and samples along the columns). Let us first verify the dimension of this matrix."
   ]
  },
  {
   "cell_type": "code",
   "execution_count": 19,
   "metadata": {},
   "outputs": [
    {
     "data": {
      "text/html": [
       "<ol class=list-inline>\n",
       "\t<li>8499</li>\n",
       "\t<li>27</li>\n",
       "</ol>\n"
      ],
      "text/latex": [
       "\\begin{enumerate*}\n",
       "\\item 8499\n",
       "\\item 27\n",
       "\\end{enumerate*}\n"
      ],
      "text/markdown": [
       "1. 8499\n",
       "2. 27\n",
       "\n",
       "\n"
      ],
      "text/plain": [
       "[1] 8499   27"
      ]
     },
     "metadata": {},
     "output_type": "display_data"
    }
   ],
   "source": [
    "dim(counts(dds))"
   ]
  },
  {
   "cell_type": "code",
   "execution_count": 20,
   "metadata": {},
   "outputs": [
    {
     "data": {
      "text/html": [
       "<table>\n",
       "<caption>A matrix: 3 × 27 of type int</caption>\n",
       "<thead>\n",
       "\t<tr><th></th><th scope=col>1_2019_P_M1</th><th scope=col>10_2019_P_M1</th><th scope=col>11_2019_P_M1</th><th scope=col>12_2019_P_M1</th><th scope=col>13_2019_P_M1</th><th scope=col>14_2019_P_M1</th><th scope=col>15_2019_P_M1</th><th scope=col>16_2019_P_M1</th><th scope=col>17_2019_P_M1</th><th scope=col>18_2019_P_M1</th><th scope=col>⋯</th><th scope=col>24_2019_P_M1</th><th scope=col>3_2018_P_M1</th><th scope=col>3_2019_P_M1</th><th scope=col>4_2018_P_M1</th><th scope=col>4_2019_P_M1</th><th scope=col>5_2019_P_M1</th><th scope=col>6_2019_P_M1</th><th scope=col>7_2019_P_M1</th><th scope=col>8_2019_P_M1</th><th scope=col>9_2019_P_M1</th></tr>\n",
       "</thead>\n",
       "<tbody>\n",
       "\t<tr><th scope=row>CNAG_00001</th><td>  0</td><td>  0</td><td>  0</td><td>  0</td><td>  0</td><td>  0</td><td>  0</td><td>  0</td><td>  0</td><td>  0</td><td>⋯</td><td>  0</td><td>  0</td><td>  0</td><td>  0</td><td>  0</td><td>  0</td><td>  0</td><td>  0</td><td>  0</td><td>  0</td></tr>\n",
       "\t<tr><th scope=row>CNAG_00002</th><td>158</td><td>119</td><td> 90</td><td> 81</td><td>188</td><td>177</td><td>216</td><td>224</td><td>234</td><td>338</td><td>⋯</td><td>235</td><td>491</td><td>149</td><td>419</td><td>176</td><td>161</td><td>148</td><td>172</td><td>169</td><td>124</td></tr>\n",
       "\t<tr><th scope=row>CNAG_00003</th><td>201</td><td>131</td><td>121</td><td>151</td><td>215</td><td>154</td><td>197</td><td>195</td><td>211</td><td>201</td><td>⋯</td><td>169</td><td>196</td><td>161</td><td>186</td><td>171</td><td>162</td><td>103</td><td>172</td><td>170</td><td>175</td></tr>\n",
       "</tbody>\n",
       "</table>\n"
      ],
      "text/latex": [
       "A matrix: 3 × 27 of type int\n",
       "\\begin{tabular}{r|lllllllllllllllllllllllllll}\n",
       "  & 1\\_2019\\_P\\_M1 & 10\\_2019\\_P\\_M1 & 11\\_2019\\_P\\_M1 & 12\\_2019\\_P\\_M1 & 13\\_2019\\_P\\_M1 & 14\\_2019\\_P\\_M1 & 15\\_2019\\_P\\_M1 & 16\\_2019\\_P\\_M1 & 17\\_2019\\_P\\_M1 & 18\\_2019\\_P\\_M1 & 19\\_2019\\_P\\_M1 & 2\\_2018\\_P\\_M1 & 2\\_2019\\_P\\_M1 & 20\\_2019\\_P\\_M1 & 21\\_2019\\_P\\_M1 & 22\\_2019\\_P\\_M1 & 23\\_2019\\_P\\_M1 & 24\\_2019\\_P\\_M1 & 3\\_2018\\_P\\_M1 & 3\\_2019\\_P\\_M1 & 4\\_2018\\_P\\_M1 & 4\\_2019\\_P\\_M1 & 5\\_2019\\_P\\_M1 & 6\\_2019\\_P\\_M1 & 7\\_2019\\_P\\_M1 & 8\\_2019\\_P\\_M1 & 9\\_2019\\_P\\_M1\\\\\n",
       "\\hline\n",
       "\tCNAG\\_00001 &   0 &   0 &   0 &   0 &   0 &   0 &   0 &   0 &   0 &   0 &   0 &   0 &   0 &   0 &   0 &   0 &   0 &   0 &   0 &   0 &   0 &   0 &   0 &   0 &   0 &   0 &   0\\\\\n",
       "\tCNAG\\_00002 & 158 & 119 &  90 &  81 & 188 & 177 & 216 & 224 & 234 & 338 & 191 & 392 & 204 & 201 & 192 & 166 & 202 & 235 & 491 & 149 & 419 & 176 & 161 & 148 & 172 & 169 & 124\\\\\n",
       "\tCNAG\\_00003 & 201 & 131 & 121 & 151 & 215 & 154 & 197 & 195 & 211 & 201 & 118 & 183 & 156 & 133 & 109 & 113 & 154 & 169 & 196 & 161 & 186 & 171 & 162 & 103 & 172 & 170 & 175\\\\\n",
       "\\end{tabular}\n"
      ],
      "text/markdown": [
       "\n",
       "A matrix: 3 × 27 of type int\n",
       "\n",
       "| <!--/--> | 1_2019_P_M1 | 10_2019_P_M1 | 11_2019_P_M1 | 12_2019_P_M1 | 13_2019_P_M1 | 14_2019_P_M1 | 15_2019_P_M1 | 16_2019_P_M1 | 17_2019_P_M1 | 18_2019_P_M1 | ⋯ | 24_2019_P_M1 | 3_2018_P_M1 | 3_2019_P_M1 | 4_2018_P_M1 | 4_2019_P_M1 | 5_2019_P_M1 | 6_2019_P_M1 | 7_2019_P_M1 | 8_2019_P_M1 | 9_2019_P_M1 |\n",
       "|---|---|---|---|---|---|---|---|---|---|---|---|---|---|---|---|---|---|---|---|---|---|\n",
       "| CNAG_00001 |   0 |   0 |   0 |   0 |   0 |   0 |   0 |   0 |   0 |   0 | ⋯ |   0 |   0 |   0 |   0 |   0 |   0 |   0 |   0 |   0 |   0 |\n",
       "| CNAG_00002 | 158 | 119 |  90 |  81 | 188 | 177 | 216 | 224 | 234 | 338 | ⋯ | 235 | 491 | 149 | 419 | 176 | 161 | 148 | 172 | 169 | 124 |\n",
       "| CNAG_00003 | 201 | 131 | 121 | 151 | 215 | 154 | 197 | 195 | 211 | 201 | ⋯ | 169 | 196 | 161 | 186 | 171 | 162 | 103 | 172 | 170 | 175 |\n",
       "\n"
      ],
      "text/plain": [
       "           1_2019_P_M1 10_2019_P_M1 11_2019_P_M1 12_2019_P_M1 13_2019_P_M1\n",
       "CNAG_00001   0           0            0            0            0         \n",
       "CNAG_00002 158         119           90           81          188         \n",
       "CNAG_00003 201         131          121          151          215         \n",
       "           14_2019_P_M1 15_2019_P_M1 16_2019_P_M1 17_2019_P_M1 18_2019_P_M1 ⋯\n",
       "CNAG_00001   0            0            0            0            0          ⋯\n",
       "CNAG_00002 177          216          224          234          338          ⋯\n",
       "CNAG_00003 154          197          195          211          201          ⋯\n",
       "           24_2019_P_M1 3_2018_P_M1 3_2019_P_M1 4_2018_P_M1 4_2019_P_M1\n",
       "CNAG_00001   0            0           0           0           0        \n",
       "CNAG_00002 235          491         149         419         176        \n",
       "CNAG_00003 169          196         161         186         171        \n",
       "           5_2019_P_M1 6_2019_P_M1 7_2019_P_M1 8_2019_P_M1 9_2019_P_M1\n",
       "CNAG_00001   0           0           0           0           0        \n",
       "CNAG_00002 161         148         172         169         124        \n",
       "CNAG_00003 162         103         172         170         175        "
      ]
     },
     "metadata": {},
     "output_type": "display_data"
    }
   ],
   "source": [
    "head(counts(dds),3)"
   ]
  },
  {
   "cell_type": "markdown",
   "metadata": {},
   "source": [
    "This slot returns gene specific information (it will be populated later)"
   ]
  },
  {
   "cell_type": "markdown",
   "metadata": {},
   "source": [
    "### Estimate Size Factors"
   ]
  },
  {
   "cell_type": "code",
   "execution_count": 22,
   "metadata": {},
   "outputs": [],
   "source": [
    "dds <- estimateSizeFactors(dds)"
   ]
  },
  {
   "cell_type": "markdown",
   "metadata": {},
   "source": [
    "Now, compare the dds object to that of before applying the estimateSizeFactors() function. What has changed? What remains unchanged?"
   ]
  },
  {
   "cell_type": "code",
   "execution_count": 23,
   "metadata": {},
   "outputs": [
    {
     "data": {
      "text/plain": [
       "class: DESeqDataSet \n",
       "dim: 8499 27 \n",
       "metadata(1): version\n",
       "assays(1): counts\n",
       "rownames(8499): CNAG_00001 CNAG_00002 ... large_MTrRNA small_MTrRNA\n",
       "rowData names(0):\n",
       "colnames(27): 1_2019_P_M1 10_2019_P_M1 ... 8_2019_P_M1 9_2019_P_M1\n",
       "colData names(11): Label genotype ... depth sizeFactor"
      ]
     },
     "metadata": {},
     "output_type": "display_data"
    }
   ],
   "source": [
    "dds"
   ]
  },
  {
   "cell_type": "code",
   "execution_count": 24,
   "metadata": {},
   "outputs": [
    {
     "data": {
      "text/html": [
       "<dl class=dl-horizontal>\n",
       "\t<dt>1_2019_P_M1</dt>\n",
       "\t\t<dd>1.57885451841638</dd>\n",
       "\t<dt>10_2019_P_M1</dt>\n",
       "\t\t<dd>1.06124146719445</dd>\n",
       "\t<dt>11_2019_P_M1</dt>\n",
       "\t\t<dd>1.02878590032815</dd>\n",
       "\t<dt>12_2019_P_M1</dt>\n",
       "\t\t<dd>0.958985822807013</dd>\n",
       "\t<dt>13_2019_P_M1</dt>\n",
       "\t\t<dd>0.761379985509057</dd>\n",
       "\t<dt>14_2019_P_M1</dt>\n",
       "\t\t<dd>0.749462589183246</dd>\n",
       "\t<dt>15_2019_P_M1</dt>\n",
       "\t\t<dd>0.713951600421212</dd>\n",
       "\t<dt>16_2019_P_M1</dt>\n",
       "\t\t<dd>0.893692226572104</dd>\n",
       "\t<dt>17_2019_P_M1</dt>\n",
       "\t\t<dd>0.884740602296291</dd>\n",
       "\t<dt>18_2019_P_M1</dt>\n",
       "\t\t<dd>0.927022883179011</dd>\n",
       "\t<dt>19_2019_P_M1</dt>\n",
       "\t\t<dd>0.739154344613706</dd>\n",
       "\t<dt>2_2018_P_M1</dt>\n",
       "\t\t<dd>1.01758259686099</dd>\n",
       "\t<dt>2_2019_P_M1</dt>\n",
       "\t\t<dd>1.65676408833066</dd>\n",
       "\t<dt>20_2019_P_M1</dt>\n",
       "\t\t<dd>0.768211229485289</dd>\n",
       "\t<dt>21_2019_P_M1</dt>\n",
       "\t\t<dd>0.581323449234751</dd>\n",
       "\t<dt>22_2019_P_M1</dt>\n",
       "\t\t<dd>0.624493062465153</dd>\n",
       "\t<dt>23_2019_P_M1</dt>\n",
       "\t\t<dd>0.744151624660765</dd>\n",
       "\t<dt>24_2019_P_M1</dt>\n",
       "\t\t<dd>0.797376077606661</dd>\n",
       "\t<dt>3_2018_P_M1</dt>\n",
       "\t\t<dd>1.12658546258389</dd>\n",
       "\t<dt>3_2019_P_M1</dt>\n",
       "\t\t<dd>1.51455112598406</dd>\n",
       "\t<dt>4_2018_P_M1</dt>\n",
       "\t\t<dd>1.00978685245419</dd>\n",
       "\t<dt>4_2019_P_M1</dt>\n",
       "\t\t<dd>1.41351743993676</dd>\n",
       "\t<dt>5_2019_P_M1</dt>\n",
       "\t\t<dd>1.43266165629046</dd>\n",
       "\t<dt>6_2019_P_M1</dt>\n",
       "\t\t<dd>1.233706982834</dd>\n",
       "\t<dt>7_2019_P_M1</dt>\n",
       "\t\t<dd>1.38996372459387</dd>\n",
       "\t<dt>8_2019_P_M1</dt>\n",
       "\t\t<dd>1.43147775938337</dd>\n",
       "\t<dt>9_2019_P_M1</dt>\n",
       "\t\t<dd>1.16310590241773</dd>\n",
       "</dl>\n"
      ],
      "text/latex": [
       "\\begin{description*}\n",
       "\\item[1\\textbackslash{}\\_2019\\textbackslash{}\\_P\\textbackslash{}\\_M1] 1.57885451841638\n",
       "\\item[10\\textbackslash{}\\_2019\\textbackslash{}\\_P\\textbackslash{}\\_M1] 1.06124146719445\n",
       "\\item[11\\textbackslash{}\\_2019\\textbackslash{}\\_P\\textbackslash{}\\_M1] 1.02878590032815\n",
       "\\item[12\\textbackslash{}\\_2019\\textbackslash{}\\_P\\textbackslash{}\\_M1] 0.958985822807013\n",
       "\\item[13\\textbackslash{}\\_2019\\textbackslash{}\\_P\\textbackslash{}\\_M1] 0.761379985509057\n",
       "\\item[14\\textbackslash{}\\_2019\\textbackslash{}\\_P\\textbackslash{}\\_M1] 0.749462589183246\n",
       "\\item[15\\textbackslash{}\\_2019\\textbackslash{}\\_P\\textbackslash{}\\_M1] 0.713951600421212\n",
       "\\item[16\\textbackslash{}\\_2019\\textbackslash{}\\_P\\textbackslash{}\\_M1] 0.893692226572104\n",
       "\\item[17\\textbackslash{}\\_2019\\textbackslash{}\\_P\\textbackslash{}\\_M1] 0.884740602296291\n",
       "\\item[18\\textbackslash{}\\_2019\\textbackslash{}\\_P\\textbackslash{}\\_M1] 0.927022883179011\n",
       "\\item[19\\textbackslash{}\\_2019\\textbackslash{}\\_P\\textbackslash{}\\_M1] 0.739154344613706\n",
       "\\item[2\\textbackslash{}\\_2018\\textbackslash{}\\_P\\textbackslash{}\\_M1] 1.01758259686099\n",
       "\\item[2\\textbackslash{}\\_2019\\textbackslash{}\\_P\\textbackslash{}\\_M1] 1.65676408833066\n",
       "\\item[20\\textbackslash{}\\_2019\\textbackslash{}\\_P\\textbackslash{}\\_M1] 0.768211229485289\n",
       "\\item[21\\textbackslash{}\\_2019\\textbackslash{}\\_P\\textbackslash{}\\_M1] 0.581323449234751\n",
       "\\item[22\\textbackslash{}\\_2019\\textbackslash{}\\_P\\textbackslash{}\\_M1] 0.624493062465153\n",
       "\\item[23\\textbackslash{}\\_2019\\textbackslash{}\\_P\\textbackslash{}\\_M1] 0.744151624660765\n",
       "\\item[24\\textbackslash{}\\_2019\\textbackslash{}\\_P\\textbackslash{}\\_M1] 0.797376077606661\n",
       "\\item[3\\textbackslash{}\\_2018\\textbackslash{}\\_P\\textbackslash{}\\_M1] 1.12658546258389\n",
       "\\item[3\\textbackslash{}\\_2019\\textbackslash{}\\_P\\textbackslash{}\\_M1] 1.51455112598406\n",
       "\\item[4\\textbackslash{}\\_2018\\textbackslash{}\\_P\\textbackslash{}\\_M1] 1.00978685245419\n",
       "\\item[4\\textbackslash{}\\_2019\\textbackslash{}\\_P\\textbackslash{}\\_M1] 1.41351743993676\n",
       "\\item[5\\textbackslash{}\\_2019\\textbackslash{}\\_P\\textbackslash{}\\_M1] 1.43266165629046\n",
       "\\item[6\\textbackslash{}\\_2019\\textbackslash{}\\_P\\textbackslash{}\\_M1] 1.233706982834\n",
       "\\item[7\\textbackslash{}\\_2019\\textbackslash{}\\_P\\textbackslash{}\\_M1] 1.38996372459387\n",
       "\\item[8\\textbackslash{}\\_2019\\textbackslash{}\\_P\\textbackslash{}\\_M1] 1.43147775938337\n",
       "\\item[9\\textbackslash{}\\_2019\\textbackslash{}\\_P\\textbackslash{}\\_M1] 1.16310590241773\n",
       "\\end{description*}\n"
      ],
      "text/markdown": [
       "1_2019_P_M1\n",
       ":   1.5788545184163810_2019_P_M1\n",
       ":   1.0612414671944511_2019_P_M1\n",
       ":   1.0287859003281512_2019_P_M1\n",
       ":   0.95898582280701313_2019_P_M1\n",
       ":   0.76137998550905714_2019_P_M1\n",
       ":   0.74946258918324615_2019_P_M1\n",
       ":   0.71395160042121216_2019_P_M1\n",
       ":   0.89369222657210417_2019_P_M1\n",
       ":   0.88474060229629118_2019_P_M1\n",
       ":   0.92702288317901119_2019_P_M1\n",
       ":   0.7391543446137062_2018_P_M1\n",
       ":   1.017582596860992_2019_P_M1\n",
       ":   1.6567640883306620_2019_P_M1\n",
       ":   0.76821122948528921_2019_P_M1\n",
       ":   0.58132344923475122_2019_P_M1\n",
       ":   0.62449306246515323_2019_P_M1\n",
       ":   0.74415162466076524_2019_P_M1\n",
       ":   0.7973760776066613_2018_P_M1\n",
       ":   1.126585462583893_2019_P_M1\n",
       ":   1.514551125984064_2018_P_M1\n",
       ":   1.009786852454194_2019_P_M1\n",
       ":   1.413517439936765_2019_P_M1\n",
       ":   1.432661656290466_2019_P_M1\n",
       ":   1.2337069828347_2019_P_M1\n",
       ":   1.389963724593878_2019_P_M1\n",
       ":   1.431477759383379_2019_P_M1\n",
       ":   1.16310590241773\n",
       "\n"
      ],
      "text/plain": [
       " 1_2019_P_M1 10_2019_P_M1 11_2019_P_M1 12_2019_P_M1 13_2019_P_M1 14_2019_P_M1 \n",
       "   1.5788545    1.0612415    1.0287859    0.9589858    0.7613800    0.7494626 \n",
       "15_2019_P_M1 16_2019_P_M1 17_2019_P_M1 18_2019_P_M1 19_2019_P_M1  2_2018_P_M1 \n",
       "   0.7139516    0.8936922    0.8847406    0.9270229    0.7391543    1.0175826 \n",
       " 2_2019_P_M1 20_2019_P_M1 21_2019_P_M1 22_2019_P_M1 23_2019_P_M1 24_2019_P_M1 \n",
       "   1.6567641    0.7682112    0.5813234    0.6244931    0.7441516    0.7973761 \n",
       " 3_2018_P_M1  3_2019_P_M1  4_2018_P_M1  4_2019_P_M1  5_2019_P_M1  6_2019_P_M1 \n",
       "   1.1265855    1.5145511    1.0097869    1.4135174    1.4326617    1.2337070 \n",
       " 7_2019_P_M1  8_2019_P_M1  9_2019_P_M1 \n",
       "   1.3899637    1.4314778    1.1631059 "
      ]
     },
     "metadata": {},
     "output_type": "display_data"
    }
   ],
   "source": [
    "sizeFactors(dds)"
   ]
  },
  {
   "cell_type": "markdown",
   "metadata": {},
   "source": [
    "It is preferable to limit the number of decimal places. Next show the size factors rounded to 3 decimal places"
   ]
  },
  {
   "cell_type": "code",
   "execution_count": 25,
   "metadata": {},
   "outputs": [
    {
     "data": {
      "text/html": [
       "<dl class=dl-horizontal>\n",
       "\t<dt>1_2019_P_M1</dt>\n",
       "\t\t<dd>1.579</dd>\n",
       "\t<dt>10_2019_P_M1</dt>\n",
       "\t\t<dd>1.061</dd>\n",
       "\t<dt>11_2019_P_M1</dt>\n",
       "\t\t<dd>1.029</dd>\n",
       "\t<dt>12_2019_P_M1</dt>\n",
       "\t\t<dd>0.959</dd>\n",
       "\t<dt>13_2019_P_M1</dt>\n",
       "\t\t<dd>0.761</dd>\n",
       "\t<dt>14_2019_P_M1</dt>\n",
       "\t\t<dd>0.749</dd>\n",
       "\t<dt>15_2019_P_M1</dt>\n",
       "\t\t<dd>0.714</dd>\n",
       "\t<dt>16_2019_P_M1</dt>\n",
       "\t\t<dd>0.894</dd>\n",
       "\t<dt>17_2019_P_M1</dt>\n",
       "\t\t<dd>0.885</dd>\n",
       "\t<dt>18_2019_P_M1</dt>\n",
       "\t\t<dd>0.927</dd>\n",
       "\t<dt>19_2019_P_M1</dt>\n",
       "\t\t<dd>0.739</dd>\n",
       "\t<dt>2_2018_P_M1</dt>\n",
       "\t\t<dd>1.018</dd>\n",
       "\t<dt>2_2019_P_M1</dt>\n",
       "\t\t<dd>1.657</dd>\n",
       "\t<dt>20_2019_P_M1</dt>\n",
       "\t\t<dd>0.768</dd>\n",
       "\t<dt>21_2019_P_M1</dt>\n",
       "\t\t<dd>0.581</dd>\n",
       "\t<dt>22_2019_P_M1</dt>\n",
       "\t\t<dd>0.624</dd>\n",
       "\t<dt>23_2019_P_M1</dt>\n",
       "\t\t<dd>0.744</dd>\n",
       "\t<dt>24_2019_P_M1</dt>\n",
       "\t\t<dd>0.797</dd>\n",
       "\t<dt>3_2018_P_M1</dt>\n",
       "\t\t<dd>1.127</dd>\n",
       "\t<dt>3_2019_P_M1</dt>\n",
       "\t\t<dd>1.515</dd>\n",
       "\t<dt>4_2018_P_M1</dt>\n",
       "\t\t<dd>1.01</dd>\n",
       "\t<dt>4_2019_P_M1</dt>\n",
       "\t\t<dd>1.414</dd>\n",
       "\t<dt>5_2019_P_M1</dt>\n",
       "\t\t<dd>1.433</dd>\n",
       "\t<dt>6_2019_P_M1</dt>\n",
       "\t\t<dd>1.234</dd>\n",
       "\t<dt>7_2019_P_M1</dt>\n",
       "\t\t<dd>1.39</dd>\n",
       "\t<dt>8_2019_P_M1</dt>\n",
       "\t\t<dd>1.431</dd>\n",
       "\t<dt>9_2019_P_M1</dt>\n",
       "\t\t<dd>1.163</dd>\n",
       "</dl>\n"
      ],
      "text/latex": [
       "\\begin{description*}\n",
       "\\item[1\\textbackslash{}\\_2019\\textbackslash{}\\_P\\textbackslash{}\\_M1] 1.579\n",
       "\\item[10\\textbackslash{}\\_2019\\textbackslash{}\\_P\\textbackslash{}\\_M1] 1.061\n",
       "\\item[11\\textbackslash{}\\_2019\\textbackslash{}\\_P\\textbackslash{}\\_M1] 1.029\n",
       "\\item[12\\textbackslash{}\\_2019\\textbackslash{}\\_P\\textbackslash{}\\_M1] 0.959\n",
       "\\item[13\\textbackslash{}\\_2019\\textbackslash{}\\_P\\textbackslash{}\\_M1] 0.761\n",
       "\\item[14\\textbackslash{}\\_2019\\textbackslash{}\\_P\\textbackslash{}\\_M1] 0.749\n",
       "\\item[15\\textbackslash{}\\_2019\\textbackslash{}\\_P\\textbackslash{}\\_M1] 0.714\n",
       "\\item[16\\textbackslash{}\\_2019\\textbackslash{}\\_P\\textbackslash{}\\_M1] 0.894\n",
       "\\item[17\\textbackslash{}\\_2019\\textbackslash{}\\_P\\textbackslash{}\\_M1] 0.885\n",
       "\\item[18\\textbackslash{}\\_2019\\textbackslash{}\\_P\\textbackslash{}\\_M1] 0.927\n",
       "\\item[19\\textbackslash{}\\_2019\\textbackslash{}\\_P\\textbackslash{}\\_M1] 0.739\n",
       "\\item[2\\textbackslash{}\\_2018\\textbackslash{}\\_P\\textbackslash{}\\_M1] 1.018\n",
       "\\item[2\\textbackslash{}\\_2019\\textbackslash{}\\_P\\textbackslash{}\\_M1] 1.657\n",
       "\\item[20\\textbackslash{}\\_2019\\textbackslash{}\\_P\\textbackslash{}\\_M1] 0.768\n",
       "\\item[21\\textbackslash{}\\_2019\\textbackslash{}\\_P\\textbackslash{}\\_M1] 0.581\n",
       "\\item[22\\textbackslash{}\\_2019\\textbackslash{}\\_P\\textbackslash{}\\_M1] 0.624\n",
       "\\item[23\\textbackslash{}\\_2019\\textbackslash{}\\_P\\textbackslash{}\\_M1] 0.744\n",
       "\\item[24\\textbackslash{}\\_2019\\textbackslash{}\\_P\\textbackslash{}\\_M1] 0.797\n",
       "\\item[3\\textbackslash{}\\_2018\\textbackslash{}\\_P\\textbackslash{}\\_M1] 1.127\n",
       "\\item[3\\textbackslash{}\\_2019\\textbackslash{}\\_P\\textbackslash{}\\_M1] 1.515\n",
       "\\item[4\\textbackslash{}\\_2018\\textbackslash{}\\_P\\textbackslash{}\\_M1] 1.01\n",
       "\\item[4\\textbackslash{}\\_2019\\textbackslash{}\\_P\\textbackslash{}\\_M1] 1.414\n",
       "\\item[5\\textbackslash{}\\_2019\\textbackslash{}\\_P\\textbackslash{}\\_M1] 1.433\n",
       "\\item[6\\textbackslash{}\\_2019\\textbackslash{}\\_P\\textbackslash{}\\_M1] 1.234\n",
       "\\item[7\\textbackslash{}\\_2019\\textbackslash{}\\_P\\textbackslash{}\\_M1] 1.39\n",
       "\\item[8\\textbackslash{}\\_2019\\textbackslash{}\\_P\\textbackslash{}\\_M1] 1.431\n",
       "\\item[9\\textbackslash{}\\_2019\\textbackslash{}\\_P\\textbackslash{}\\_M1] 1.163\n",
       "\\end{description*}\n"
      ],
      "text/markdown": [
       "1_2019_P_M1\n",
       ":   1.57910_2019_P_M1\n",
       ":   1.06111_2019_P_M1\n",
       ":   1.02912_2019_P_M1\n",
       ":   0.95913_2019_P_M1\n",
       ":   0.76114_2019_P_M1\n",
       ":   0.74915_2019_P_M1\n",
       ":   0.71416_2019_P_M1\n",
       ":   0.89417_2019_P_M1\n",
       ":   0.88518_2019_P_M1\n",
       ":   0.92719_2019_P_M1\n",
       ":   0.7392_2018_P_M1\n",
       ":   1.0182_2019_P_M1\n",
       ":   1.65720_2019_P_M1\n",
       ":   0.76821_2019_P_M1\n",
       ":   0.58122_2019_P_M1\n",
       ":   0.62423_2019_P_M1\n",
       ":   0.74424_2019_P_M1\n",
       ":   0.7973_2018_P_M1\n",
       ":   1.1273_2019_P_M1\n",
       ":   1.5154_2018_P_M1\n",
       ":   1.014_2019_P_M1\n",
       ":   1.4145_2019_P_M1\n",
       ":   1.4336_2019_P_M1\n",
       ":   1.2347_2019_P_M1\n",
       ":   1.398_2019_P_M1\n",
       ":   1.4319_2019_P_M1\n",
       ":   1.163\n",
       "\n"
      ],
      "text/plain": [
       " 1_2019_P_M1 10_2019_P_M1 11_2019_P_M1 12_2019_P_M1 13_2019_P_M1 14_2019_P_M1 \n",
       "       1.579        1.061        1.029        0.959        0.761        0.749 \n",
       "15_2019_P_M1 16_2019_P_M1 17_2019_P_M1 18_2019_P_M1 19_2019_P_M1  2_2018_P_M1 \n",
       "       0.714        0.894        0.885        0.927        0.739        1.018 \n",
       " 2_2019_P_M1 20_2019_P_M1 21_2019_P_M1 22_2019_P_M1 23_2019_P_M1 24_2019_P_M1 \n",
       "       1.657        0.768        0.581        0.624        0.744        0.797 \n",
       " 3_2018_P_M1  3_2019_P_M1  4_2018_P_M1  4_2019_P_M1  5_2019_P_M1  6_2019_P_M1 \n",
       "       1.127        1.515        1.010        1.414        1.433        1.234 \n",
       " 7_2019_P_M1  8_2019_P_M1  9_2019_P_M1 \n",
       "       1.390        1.431        1.163 "
      ]
     },
     "metadata": {},
     "output_type": "display_data"
    }
   ],
   "source": [
    "round(sizeFactors(dds),3)"
   ]
  },
  {
   "cell_type": "markdown",
   "metadata": {},
   "source": [
    "Now that the size factors have been estimated, we can get \"normalized\" counts. Here we print three data frames together to easily compare them."
   ]
  },
  {
   "cell_type": "code",
   "execution_count": 26,
   "metadata": {},
   "outputs": [
    {
     "data": {
      "text/html": [
       "<table>\n",
       "<caption>A matrix: 3 × 27 of type int</caption>\n",
       "<thead>\n",
       "\t<tr><th></th><th scope=col>1_2019_P_M1</th><th scope=col>10_2019_P_M1</th><th scope=col>11_2019_P_M1</th><th scope=col>12_2019_P_M1</th><th scope=col>13_2019_P_M1</th><th scope=col>14_2019_P_M1</th><th scope=col>15_2019_P_M1</th><th scope=col>16_2019_P_M1</th><th scope=col>17_2019_P_M1</th><th scope=col>18_2019_P_M1</th><th scope=col>⋯</th><th scope=col>24_2019_P_M1</th><th scope=col>3_2018_P_M1</th><th scope=col>3_2019_P_M1</th><th scope=col>4_2018_P_M1</th><th scope=col>4_2019_P_M1</th><th scope=col>5_2019_P_M1</th><th scope=col>6_2019_P_M1</th><th scope=col>7_2019_P_M1</th><th scope=col>8_2019_P_M1</th><th scope=col>9_2019_P_M1</th></tr>\n",
       "</thead>\n",
       "<tbody>\n",
       "\t<tr><th scope=row>CNAG_00001</th><td>  0</td><td>  0</td><td>  0</td><td>  0</td><td>  0</td><td>  0</td><td>  0</td><td>  0</td><td>  0</td><td>  0</td><td>⋯</td><td>  0</td><td>  0</td><td>  0</td><td>  0</td><td>  0</td><td>  0</td><td>  0</td><td>  0</td><td>  0</td><td>  0</td></tr>\n",
       "\t<tr><th scope=row>CNAG_00002</th><td>158</td><td>119</td><td> 90</td><td> 81</td><td>188</td><td>177</td><td>216</td><td>224</td><td>234</td><td>338</td><td>⋯</td><td>235</td><td>491</td><td>149</td><td>419</td><td>176</td><td>161</td><td>148</td><td>172</td><td>169</td><td>124</td></tr>\n",
       "\t<tr><th scope=row>CNAG_00003</th><td>201</td><td>131</td><td>121</td><td>151</td><td>215</td><td>154</td><td>197</td><td>195</td><td>211</td><td>201</td><td>⋯</td><td>169</td><td>196</td><td>161</td><td>186</td><td>171</td><td>162</td><td>103</td><td>172</td><td>170</td><td>175</td></tr>\n",
       "</tbody>\n",
       "</table>\n"
      ],
      "text/latex": [
       "A matrix: 3 × 27 of type int\n",
       "\\begin{tabular}{r|lllllllllllllllllllllllllll}\n",
       "  & 1\\_2019\\_P\\_M1 & 10\\_2019\\_P\\_M1 & 11\\_2019\\_P\\_M1 & 12\\_2019\\_P\\_M1 & 13\\_2019\\_P\\_M1 & 14\\_2019\\_P\\_M1 & 15\\_2019\\_P\\_M1 & 16\\_2019\\_P\\_M1 & 17\\_2019\\_P\\_M1 & 18\\_2019\\_P\\_M1 & 19\\_2019\\_P\\_M1 & 2\\_2018\\_P\\_M1 & 2\\_2019\\_P\\_M1 & 20\\_2019\\_P\\_M1 & 21\\_2019\\_P\\_M1 & 22\\_2019\\_P\\_M1 & 23\\_2019\\_P\\_M1 & 24\\_2019\\_P\\_M1 & 3\\_2018\\_P\\_M1 & 3\\_2019\\_P\\_M1 & 4\\_2018\\_P\\_M1 & 4\\_2019\\_P\\_M1 & 5\\_2019\\_P\\_M1 & 6\\_2019\\_P\\_M1 & 7\\_2019\\_P\\_M1 & 8\\_2019\\_P\\_M1 & 9\\_2019\\_P\\_M1\\\\\n",
       "\\hline\n",
       "\tCNAG\\_00001 &   0 &   0 &   0 &   0 &   0 &   0 &   0 &   0 &   0 &   0 &   0 &   0 &   0 &   0 &   0 &   0 &   0 &   0 &   0 &   0 &   0 &   0 &   0 &   0 &   0 &   0 &   0\\\\\n",
       "\tCNAG\\_00002 & 158 & 119 &  90 &  81 & 188 & 177 & 216 & 224 & 234 & 338 & 191 & 392 & 204 & 201 & 192 & 166 & 202 & 235 & 491 & 149 & 419 & 176 & 161 & 148 & 172 & 169 & 124\\\\\n",
       "\tCNAG\\_00003 & 201 & 131 & 121 & 151 & 215 & 154 & 197 & 195 & 211 & 201 & 118 & 183 & 156 & 133 & 109 & 113 & 154 & 169 & 196 & 161 & 186 & 171 & 162 & 103 & 172 & 170 & 175\\\\\n",
       "\\end{tabular}\n"
      ],
      "text/markdown": [
       "\n",
       "A matrix: 3 × 27 of type int\n",
       "\n",
       "| <!--/--> | 1_2019_P_M1 | 10_2019_P_M1 | 11_2019_P_M1 | 12_2019_P_M1 | 13_2019_P_M1 | 14_2019_P_M1 | 15_2019_P_M1 | 16_2019_P_M1 | 17_2019_P_M1 | 18_2019_P_M1 | ⋯ | 24_2019_P_M1 | 3_2018_P_M1 | 3_2019_P_M1 | 4_2018_P_M1 | 4_2019_P_M1 | 5_2019_P_M1 | 6_2019_P_M1 | 7_2019_P_M1 | 8_2019_P_M1 | 9_2019_P_M1 |\n",
       "|---|---|---|---|---|---|---|---|---|---|---|---|---|---|---|---|---|---|---|---|---|---|\n",
       "| CNAG_00001 |   0 |   0 |   0 |   0 |   0 |   0 |   0 |   0 |   0 |   0 | ⋯ |   0 |   0 |   0 |   0 |   0 |   0 |   0 |   0 |   0 |   0 |\n",
       "| CNAG_00002 | 158 | 119 |  90 |  81 | 188 | 177 | 216 | 224 | 234 | 338 | ⋯ | 235 | 491 | 149 | 419 | 176 | 161 | 148 | 172 | 169 | 124 |\n",
       "| CNAG_00003 | 201 | 131 | 121 | 151 | 215 | 154 | 197 | 195 | 211 | 201 | ⋯ | 169 | 196 | 161 | 186 | 171 | 162 | 103 | 172 | 170 | 175 |\n",
       "\n"
      ],
      "text/plain": [
       "           1_2019_P_M1 10_2019_P_M1 11_2019_P_M1 12_2019_P_M1 13_2019_P_M1\n",
       "CNAG_00001   0           0            0            0            0         \n",
       "CNAG_00002 158         119           90           81          188         \n",
       "CNAG_00003 201         131          121          151          215         \n",
       "           14_2019_P_M1 15_2019_P_M1 16_2019_P_M1 17_2019_P_M1 18_2019_P_M1 ⋯\n",
       "CNAG_00001   0            0            0            0            0          ⋯\n",
       "CNAG_00002 177          216          224          234          338          ⋯\n",
       "CNAG_00003 154          197          195          211          201          ⋯\n",
       "           24_2019_P_M1 3_2018_P_M1 3_2019_P_M1 4_2018_P_M1 4_2019_P_M1\n",
       "CNAG_00001   0            0           0           0           0        \n",
       "CNAG_00002 235          491         149         419         176        \n",
       "CNAG_00003 169          196         161         186         171        \n",
       "           5_2019_P_M1 6_2019_P_M1 7_2019_P_M1 8_2019_P_M1 9_2019_P_M1\n",
       "CNAG_00001   0           0           0           0           0        \n",
       "CNAG_00002 161         148         172         169         124        \n",
       "CNAG_00003 162         103         172         170         175        "
      ]
     },
     "metadata": {},
     "output_type": "display_data"
    },
    {
     "data": {
      "text/html": [
       "<table>\n",
       "<caption>A matrix: 3 × 27 of type dbl</caption>\n",
       "<thead>\n",
       "\t<tr><th></th><th scope=col>1_2019_P_M1</th><th scope=col>10_2019_P_M1</th><th scope=col>11_2019_P_M1</th><th scope=col>12_2019_P_M1</th><th scope=col>13_2019_P_M1</th><th scope=col>14_2019_P_M1</th><th scope=col>15_2019_P_M1</th><th scope=col>16_2019_P_M1</th><th scope=col>17_2019_P_M1</th><th scope=col>18_2019_P_M1</th><th scope=col>⋯</th><th scope=col>24_2019_P_M1</th><th scope=col>3_2018_P_M1</th><th scope=col>3_2019_P_M1</th><th scope=col>4_2018_P_M1</th><th scope=col>4_2019_P_M1</th><th scope=col>5_2019_P_M1</th><th scope=col>6_2019_P_M1</th><th scope=col>7_2019_P_M1</th><th scope=col>8_2019_P_M1</th><th scope=col>9_2019_P_M1</th></tr>\n",
       "</thead>\n",
       "<tbody>\n",
       "\t<tr><th scope=row>CNAG_00001</th><td>  0.0000</td><td>  0.0000</td><td>  0.00000</td><td>  0.00000</td><td>  0.0000</td><td>  0.0000</td><td>  0.0000</td><td>  0.0000</td><td>  0.0000</td><td>  0.0000</td><td>⋯</td><td>  0.0000</td><td>  0.0000</td><td>  0.00000</td><td>  0.0000</td><td>  0.0000</td><td>  0.0000</td><td>  0.00000</td><td>  0.0000</td><td>  0.0000</td><td>  0.0000</td></tr>\n",
       "\t<tr><th scope=row>CNAG_00002</th><td>100.0726</td><td>112.1328</td><td> 87.48176</td><td> 84.46423</td><td>246.9201</td><td>236.1692</td><td>302.5415</td><td>250.6456</td><td>264.4843</td><td>364.6080</td><td>⋯</td><td>294.7166</td><td>435.8302</td><td> 98.37898</td><td>414.9391</td><td>124.5121</td><td>112.3782</td><td>119.96366</td><td>123.7442</td><td>118.0598</td><td>106.6111</td></tr>\n",
       "\t<tr><th scope=row>CNAG_00003</th><td>127.3075</td><td>123.4403</td><td>117.61436</td><td>157.45801</td><td>282.3820</td><td>205.4806</td><td>275.9291</td><td>218.1959</td><td>238.4880</td><td>216.8231</td><td>⋯</td><td>211.9452</td><td>173.9770</td><td>106.30212</td><td>184.1973</td><td>120.9748</td><td>113.0762</td><td> 83.48822</td><td>123.7442</td><td>118.7584</td><td>150.4592</td></tr>\n",
       "</tbody>\n",
       "</table>\n"
      ],
      "text/latex": [
       "A matrix: 3 × 27 of type dbl\n",
       "\\begin{tabular}{r|lllllllllllllllllllllllllll}\n",
       "  & 1\\_2019\\_P\\_M1 & 10\\_2019\\_P\\_M1 & 11\\_2019\\_P\\_M1 & 12\\_2019\\_P\\_M1 & 13\\_2019\\_P\\_M1 & 14\\_2019\\_P\\_M1 & 15\\_2019\\_P\\_M1 & 16\\_2019\\_P\\_M1 & 17\\_2019\\_P\\_M1 & 18\\_2019\\_P\\_M1 & 19\\_2019\\_P\\_M1 & 2\\_2018\\_P\\_M1 & 2\\_2019\\_P\\_M1 & 20\\_2019\\_P\\_M1 & 21\\_2019\\_P\\_M1 & 22\\_2019\\_P\\_M1 & 23\\_2019\\_P\\_M1 & 24\\_2019\\_P\\_M1 & 3\\_2018\\_P\\_M1 & 3\\_2019\\_P\\_M1 & 4\\_2018\\_P\\_M1 & 4\\_2019\\_P\\_M1 & 5\\_2019\\_P\\_M1 & 6\\_2019\\_P\\_M1 & 7\\_2019\\_P\\_M1 & 8\\_2019\\_P\\_M1 & 9\\_2019\\_P\\_M1\\\\\n",
       "\\hline\n",
       "\tCNAG\\_00001 &   0.0000 &   0.0000 &   0.00000 &   0.00000 &   0.0000 &   0.0000 &   0.0000 &   0.0000 &   0.0000 &   0.0000 &   0.0000 &   0.0000 &   0.00000 &   0.0000 &   0.0000 &   0.0000 &   0.0000 &   0.0000 &   0.0000 &   0.00000 &   0.0000 &   0.0000 &   0.0000 &   0.00000 &   0.0000 &   0.0000 &   0.0000\\\\\n",
       "\tCNAG\\_00002 & 100.0726 & 112.1328 &  87.48176 &  84.46423 & 246.9201 & 236.1692 & 302.5415 & 250.6456 & 264.4843 & 364.6080 & 258.4034 & 385.2267 & 123.13159 & 261.6468 & 330.2808 & 265.8156 & 271.4501 & 294.7166 & 435.8302 &  98.37898 & 414.9391 & 124.5121 & 112.3782 & 119.96366 & 123.7442 & 118.0598 & 106.6111\\\\\n",
       "\tCNAG\\_00003 & 127.3075 & 123.4403 & 117.61436 & 157.45801 & 282.3820 & 205.4806 & 275.9291 & 218.1959 & 238.4880 & 216.8231 & 159.6419 & 179.8380 &  94.15945 & 173.1295 & 187.5032 & 180.9468 & 206.9471 & 211.9452 & 173.9770 & 106.30212 & 184.1973 & 120.9748 & 113.0762 &  83.48822 & 123.7442 & 118.7584 & 150.4592\\\\\n",
       "\\end{tabular}\n"
      ],
      "text/markdown": [
       "\n",
       "A matrix: 3 × 27 of type dbl\n",
       "\n",
       "| <!--/--> | 1_2019_P_M1 | 10_2019_P_M1 | 11_2019_P_M1 | 12_2019_P_M1 | 13_2019_P_M1 | 14_2019_P_M1 | 15_2019_P_M1 | 16_2019_P_M1 | 17_2019_P_M1 | 18_2019_P_M1 | ⋯ | 24_2019_P_M1 | 3_2018_P_M1 | 3_2019_P_M1 | 4_2018_P_M1 | 4_2019_P_M1 | 5_2019_P_M1 | 6_2019_P_M1 | 7_2019_P_M1 | 8_2019_P_M1 | 9_2019_P_M1 |\n",
       "|---|---|---|---|---|---|---|---|---|---|---|---|---|---|---|---|---|---|---|---|---|---|\n",
       "| CNAG_00001 |   0.0000 |   0.0000 |   0.00000 |   0.00000 |   0.0000 |   0.0000 |   0.0000 |   0.0000 |   0.0000 |   0.0000 | ⋯ |   0.0000 |   0.0000 |   0.00000 |   0.0000 |   0.0000 |   0.0000 |   0.00000 |   0.0000 |   0.0000 |   0.0000 |\n",
       "| CNAG_00002 | 100.0726 | 112.1328 |  87.48176 |  84.46423 | 246.9201 | 236.1692 | 302.5415 | 250.6456 | 264.4843 | 364.6080 | ⋯ | 294.7166 | 435.8302 |  98.37898 | 414.9391 | 124.5121 | 112.3782 | 119.96366 | 123.7442 | 118.0598 | 106.6111 |\n",
       "| CNAG_00003 | 127.3075 | 123.4403 | 117.61436 | 157.45801 | 282.3820 | 205.4806 | 275.9291 | 218.1959 | 238.4880 | 216.8231 | ⋯ | 211.9452 | 173.9770 | 106.30212 | 184.1973 | 120.9748 | 113.0762 |  83.48822 | 123.7442 | 118.7584 | 150.4592 |\n",
       "\n"
      ],
      "text/plain": [
       "           1_2019_P_M1 10_2019_P_M1 11_2019_P_M1 12_2019_P_M1 13_2019_P_M1\n",
       "CNAG_00001   0.0000      0.0000       0.00000      0.00000      0.0000    \n",
       "CNAG_00002 100.0726    112.1328      87.48176     84.46423    246.9201    \n",
       "CNAG_00003 127.3075    123.4403     117.61436    157.45801    282.3820    \n",
       "           14_2019_P_M1 15_2019_P_M1 16_2019_P_M1 17_2019_P_M1 18_2019_P_M1 ⋯\n",
       "CNAG_00001   0.0000       0.0000       0.0000       0.0000       0.0000     ⋯\n",
       "CNAG_00002 236.1692     302.5415     250.6456     264.4843     364.6080     ⋯\n",
       "CNAG_00003 205.4806     275.9291     218.1959     238.4880     216.8231     ⋯\n",
       "           24_2019_P_M1 3_2018_P_M1 3_2019_P_M1 4_2018_P_M1 4_2019_P_M1\n",
       "CNAG_00001   0.0000       0.0000      0.00000     0.0000      0.0000   \n",
       "CNAG_00002 294.7166     435.8302     98.37898   414.9391    124.5121   \n",
       "CNAG_00003 211.9452     173.9770    106.30212   184.1973    120.9748   \n",
       "           5_2019_P_M1 6_2019_P_M1 7_2019_P_M1 8_2019_P_M1 9_2019_P_M1\n",
       "CNAG_00001   0.0000      0.00000     0.0000      0.0000      0.0000   \n",
       "CNAG_00002 112.3782    119.96366   123.7442    118.0598    106.6111   \n",
       "CNAG_00003 113.0762     83.48822   123.7442    118.7584    150.4592   "
      ]
     },
     "metadata": {},
     "output_type": "display_data"
    },
    {
     "data": {
      "text/html": [
       "<table>\n",
       "<caption>A matrix: 3 × 27 of type dbl</caption>\n",
       "<thead>\n",
       "\t<tr><th></th><th scope=col>1_2019_P_M1</th><th scope=col>10_2019_P_M1</th><th scope=col>11_2019_P_M1</th><th scope=col>12_2019_P_M1</th><th scope=col>13_2019_P_M1</th><th scope=col>14_2019_P_M1</th><th scope=col>15_2019_P_M1</th><th scope=col>16_2019_P_M1</th><th scope=col>17_2019_P_M1</th><th scope=col>18_2019_P_M1</th><th scope=col>⋯</th><th scope=col>24_2019_P_M1</th><th scope=col>3_2018_P_M1</th><th scope=col>3_2019_P_M1</th><th scope=col>4_2018_P_M1</th><th scope=col>4_2019_P_M1</th><th scope=col>5_2019_P_M1</th><th scope=col>6_2019_P_M1</th><th scope=col>7_2019_P_M1</th><th scope=col>8_2019_P_M1</th><th scope=col>9_2019_P_M1</th></tr>\n",
       "</thead>\n",
       "<tbody>\n",
       "\t<tr><th scope=row>CNAG_00001</th><td>  0.0000</td><td>  0.0000</td><td>  0.00000</td><td>  0.00000</td><td>  0.0000</td><td>  0.0000</td><td>  0.0000</td><td>  0.0000</td><td>  0.0000</td><td>  0.0000</td><td>⋯</td><td>  0.0000</td><td>  0.0000</td><td>  0.00000</td><td>  0.0000</td><td>  0.0000</td><td>  0.0000</td><td>  0.00000</td><td>  0.0000</td><td>  0.0000</td><td>  0.0000</td></tr>\n",
       "\t<tr><th scope=row>CNAG_00002</th><td>100.0726</td><td>112.1328</td><td> 87.48176</td><td> 84.46423</td><td>246.9201</td><td>236.1692</td><td>302.5415</td><td>250.6456</td><td>264.4843</td><td>364.6080</td><td>⋯</td><td>294.7166</td><td>435.8302</td><td> 98.37898</td><td>414.9391</td><td>124.5121</td><td>112.3782</td><td>119.96366</td><td>123.7442</td><td>118.0598</td><td>106.6111</td></tr>\n",
       "\t<tr><th scope=row>CNAG_00003</th><td>127.3075</td><td>123.4403</td><td>117.61436</td><td>157.45801</td><td>282.3820</td><td>205.4806</td><td>275.9291</td><td>218.1959</td><td>238.4880</td><td>216.8231</td><td>⋯</td><td>211.9452</td><td>173.9770</td><td>106.30212</td><td>184.1973</td><td>120.9748</td><td>113.0762</td><td> 83.48822</td><td>123.7442</td><td>118.7584</td><td>150.4592</td></tr>\n",
       "</tbody>\n",
       "</table>\n"
      ],
      "text/latex": [
       "A matrix: 3 × 27 of type dbl\n",
       "\\begin{tabular}{r|lllllllllllllllllllllllllll}\n",
       "  & 1\\_2019\\_P\\_M1 & 10\\_2019\\_P\\_M1 & 11\\_2019\\_P\\_M1 & 12\\_2019\\_P\\_M1 & 13\\_2019\\_P\\_M1 & 14\\_2019\\_P\\_M1 & 15\\_2019\\_P\\_M1 & 16\\_2019\\_P\\_M1 & 17\\_2019\\_P\\_M1 & 18\\_2019\\_P\\_M1 & 19\\_2019\\_P\\_M1 & 2\\_2018\\_P\\_M1 & 2\\_2019\\_P\\_M1 & 20\\_2019\\_P\\_M1 & 21\\_2019\\_P\\_M1 & 22\\_2019\\_P\\_M1 & 23\\_2019\\_P\\_M1 & 24\\_2019\\_P\\_M1 & 3\\_2018\\_P\\_M1 & 3\\_2019\\_P\\_M1 & 4\\_2018\\_P\\_M1 & 4\\_2019\\_P\\_M1 & 5\\_2019\\_P\\_M1 & 6\\_2019\\_P\\_M1 & 7\\_2019\\_P\\_M1 & 8\\_2019\\_P\\_M1 & 9\\_2019\\_P\\_M1\\\\\n",
       "\\hline\n",
       "\tCNAG\\_00001 &   0.0000 &   0.0000 &   0.00000 &   0.00000 &   0.0000 &   0.0000 &   0.0000 &   0.0000 &   0.0000 &   0.0000 &   0.0000 &   0.0000 &   0.00000 &   0.0000 &   0.0000 &   0.0000 &   0.0000 &   0.0000 &   0.0000 &   0.00000 &   0.0000 &   0.0000 &   0.0000 &   0.00000 &   0.0000 &   0.0000 &   0.0000\\\\\n",
       "\tCNAG\\_00002 & 100.0726 & 112.1328 &  87.48176 &  84.46423 & 246.9201 & 236.1692 & 302.5415 & 250.6456 & 264.4843 & 364.6080 & 258.4034 & 385.2267 & 123.13159 & 261.6468 & 330.2808 & 265.8156 & 271.4501 & 294.7166 & 435.8302 &  98.37898 & 414.9391 & 124.5121 & 112.3782 & 119.96366 & 123.7442 & 118.0598 & 106.6111\\\\\n",
       "\tCNAG\\_00003 & 127.3075 & 123.4403 & 117.61436 & 157.45801 & 282.3820 & 205.4806 & 275.9291 & 218.1959 & 238.4880 & 216.8231 & 159.6419 & 179.8380 &  94.15945 & 173.1295 & 187.5032 & 180.9468 & 206.9471 & 211.9452 & 173.9770 & 106.30212 & 184.1973 & 120.9748 & 113.0762 &  83.48822 & 123.7442 & 118.7584 & 150.4592\\\\\n",
       "\\end{tabular}\n"
      ],
      "text/markdown": [
       "\n",
       "A matrix: 3 × 27 of type dbl\n",
       "\n",
       "| <!--/--> | 1_2019_P_M1 | 10_2019_P_M1 | 11_2019_P_M1 | 12_2019_P_M1 | 13_2019_P_M1 | 14_2019_P_M1 | 15_2019_P_M1 | 16_2019_P_M1 | 17_2019_P_M1 | 18_2019_P_M1 | ⋯ | 24_2019_P_M1 | 3_2018_P_M1 | 3_2019_P_M1 | 4_2018_P_M1 | 4_2019_P_M1 | 5_2019_P_M1 | 6_2019_P_M1 | 7_2019_P_M1 | 8_2019_P_M1 | 9_2019_P_M1 |\n",
       "|---|---|---|---|---|---|---|---|---|---|---|---|---|---|---|---|---|---|---|---|---|---|\n",
       "| CNAG_00001 |   0.0000 |   0.0000 |   0.00000 |   0.00000 |   0.0000 |   0.0000 |   0.0000 |   0.0000 |   0.0000 |   0.0000 | ⋯ |   0.0000 |   0.0000 |   0.00000 |   0.0000 |   0.0000 |   0.0000 |   0.00000 |   0.0000 |   0.0000 |   0.0000 |\n",
       "| CNAG_00002 | 100.0726 | 112.1328 |  87.48176 |  84.46423 | 246.9201 | 236.1692 | 302.5415 | 250.6456 | 264.4843 | 364.6080 | ⋯ | 294.7166 | 435.8302 |  98.37898 | 414.9391 | 124.5121 | 112.3782 | 119.96366 | 123.7442 | 118.0598 | 106.6111 |\n",
       "| CNAG_00003 | 127.3075 | 123.4403 | 117.61436 | 157.45801 | 282.3820 | 205.4806 | 275.9291 | 218.1959 | 238.4880 | 216.8231 | ⋯ | 211.9452 | 173.9770 | 106.30212 | 184.1973 | 120.9748 | 113.0762 |  83.48822 | 123.7442 | 118.7584 | 150.4592 |\n",
       "\n"
      ],
      "text/plain": [
       "           1_2019_P_M1 10_2019_P_M1 11_2019_P_M1 12_2019_P_M1 13_2019_P_M1\n",
       "CNAG_00001   0.0000      0.0000       0.00000      0.00000      0.0000    \n",
       "CNAG_00002 100.0726    112.1328      87.48176     84.46423    246.9201    \n",
       "CNAG_00003 127.3075    123.4403     117.61436    157.45801    282.3820    \n",
       "           14_2019_P_M1 15_2019_P_M1 16_2019_P_M1 17_2019_P_M1 18_2019_P_M1 ⋯\n",
       "CNAG_00001   0.0000       0.0000       0.0000       0.0000       0.0000     ⋯\n",
       "CNAG_00002 236.1692     302.5415     250.6456     264.4843     364.6080     ⋯\n",
       "CNAG_00003 205.4806     275.9291     218.1959     238.4880     216.8231     ⋯\n",
       "           24_2019_P_M1 3_2018_P_M1 3_2019_P_M1 4_2018_P_M1 4_2019_P_M1\n",
       "CNAG_00001   0.0000       0.0000      0.00000     0.0000      0.0000   \n",
       "CNAG_00002 294.7166     435.8302     98.37898   414.9391    124.5121   \n",
       "CNAG_00003 211.9452     173.9770    106.30212   184.1973    120.9748   \n",
       "           5_2019_P_M1 6_2019_P_M1 7_2019_P_M1 8_2019_P_M1 9_2019_P_M1\n",
       "CNAG_00001   0.0000      0.00000     0.0000      0.0000      0.0000   \n",
       "CNAG_00002 112.3782    119.96366   123.7442    118.0598    106.6111   \n",
       "CNAG_00003 113.0762     83.48822   123.7442    118.7584    150.4592   "
      ]
     },
     "metadata": {},
     "output_type": "display_data"
    }
   ],
   "source": [
    "# original count\n",
    "head(counts(dds),3)\n",
    "\n",
    "# normalized count\n",
    "head(counts(dds, normalize = TRUE), 3)\n",
    "\n",
    "# normalized manually using size factors\n",
    "counts(dds)[1:3,] %>% \n",
    "    apply(., 1, function(row){row / sizeFactors(dds)}) %>%\n",
    "    t"
   ]
  },
  {
   "cell_type": "markdown",
   "metadata": {},
   "source": [
    "**Exercise:** How do you get the raw counts for gene  \"GeneID: CNAG_05845\"?"
   ]
  },
  {
   "cell_type": "code",
   "execution_count": 27,
   "metadata": {},
   "outputs": [
    {
     "data": {
      "text/html": [
       "<dl class=dl-horizontal>\n",
       "\t<dt>1_2019_P_M1</dt>\n",
       "\t\t<dd>1767.73728512962</dd>\n",
       "\t<dt>10_2019_P_M1</dt>\n",
       "\t\t<dd>1553.84052637839</dd>\n",
       "\t<dt>11_2019_P_M1</dt>\n",
       "\t\t<dd>1646.60110471932</dd>\n",
       "\t<dt>12_2019_P_M1</dt>\n",
       "\t\t<dd>1715.35382575832</dd>\n",
       "\t<dt>13_2019_P_M1</dt>\n",
       "\t\t<dd>1649.6362183204</dd>\n",
       "\t<dt>14_2019_P_M1</dt>\n",
       "\t\t<dd>1606.48445616492</dd>\n",
       "\t<dt>15_2019_P_M1</dt>\n",
       "\t\t<dd>1582.74034168889</dd>\n",
       "\t<dt>16_2019_P_M1</dt>\n",
       "\t\t<dd>1558.70215559899</dd>\n",
       "\t<dt>17_2019_P_M1</dt>\n",
       "\t\t<dd>1749.66537760589</dd>\n",
       "\t<dt>18_2019_P_M1</dt>\n",
       "\t\t<dd>1530.70655077453</dd>\n",
       "\t<dt>19_2019_P_M1</dt>\n",
       "\t\t<dd>1848.05786498339</dd>\n",
       "\t<dt>2_2018_P_M1</dt>\n",
       "\t\t<dd>1725.65844327219</dd>\n",
       "\t<dt>2_2019_P_M1</dt>\n",
       "\t\t<dd>1485.42572677301</dd>\n",
       "\t<dt>20_2019_P_M1</dt>\n",
       "\t\t<dd>1817.20853122043</dd>\n",
       "\t<dt>21_2019_P_M1</dt>\n",
       "\t\t<dd>1880.19251836274</dd>\n",
       "\t<dt>22_2019_P_M1</dt>\n",
       "\t\t<dd>1719.79492576017</dd>\n",
       "\t<dt>23_2019_P_M1</dt>\n",
       "\t\t<dd>1859.83602552897</dd>\n",
       "\t<dt>24_2019_P_M1</dt>\n",
       "\t\t<dd>1817.21027341227</dd>\n",
       "\t<dt>3_2018_P_M1</dt>\n",
       "\t\t<dd>1746.87146724429</dd>\n",
       "\t<dt>3_2019_P_M1</dt>\n",
       "\t\t<dd>1394.47256930845</dd>\n",
       "\t<dt>4_2018_P_M1</dt>\n",
       "\t\t<dd>1671.63990687488</dd>\n",
       "\t<dt>4_2019_P_M1</dt>\n",
       "\t\t<dd>1533.05501493986</dd>\n",
       "\t<dt>5_2019_P_M1</dt>\n",
       "\t\t<dd>1546.07334556243</dd>\n",
       "\t<dt>6_2019_P_M1</dt>\n",
       "\t\t<dd>1667.33270429805</dd>\n",
       "\t<dt>7_2019_P_M1</dt>\n",
       "\t\t<dd>1495.72248772713</dd>\n",
       "\t<dt>8_2019_P_M1</dt>\n",
       "\t\t<dd>1406.93768156591</dd>\n",
       "\t<dt>9_2019_P_M1</dt>\n",
       "\t\t<dd>1627.5388131597</dd>\n",
       "</dl>\n"
      ],
      "text/latex": [
       "\\begin{description*}\n",
       "\\item[1\\textbackslash{}\\_2019\\textbackslash{}\\_P\\textbackslash{}\\_M1] 1767.73728512962\n",
       "\\item[10\\textbackslash{}\\_2019\\textbackslash{}\\_P\\textbackslash{}\\_M1] 1553.84052637839\n",
       "\\item[11\\textbackslash{}\\_2019\\textbackslash{}\\_P\\textbackslash{}\\_M1] 1646.60110471932\n",
       "\\item[12\\textbackslash{}\\_2019\\textbackslash{}\\_P\\textbackslash{}\\_M1] 1715.35382575832\n",
       "\\item[13\\textbackslash{}\\_2019\\textbackslash{}\\_P\\textbackslash{}\\_M1] 1649.6362183204\n",
       "\\item[14\\textbackslash{}\\_2019\\textbackslash{}\\_P\\textbackslash{}\\_M1] 1606.48445616492\n",
       "\\item[15\\textbackslash{}\\_2019\\textbackslash{}\\_P\\textbackslash{}\\_M1] 1582.74034168889\n",
       "\\item[16\\textbackslash{}\\_2019\\textbackslash{}\\_P\\textbackslash{}\\_M1] 1558.70215559899\n",
       "\\item[17\\textbackslash{}\\_2019\\textbackslash{}\\_P\\textbackslash{}\\_M1] 1749.66537760589\n",
       "\\item[18\\textbackslash{}\\_2019\\textbackslash{}\\_P\\textbackslash{}\\_M1] 1530.70655077453\n",
       "\\item[19\\textbackslash{}\\_2019\\textbackslash{}\\_P\\textbackslash{}\\_M1] 1848.05786498339\n",
       "\\item[2\\textbackslash{}\\_2018\\textbackslash{}\\_P\\textbackslash{}\\_M1] 1725.65844327219\n",
       "\\item[2\\textbackslash{}\\_2019\\textbackslash{}\\_P\\textbackslash{}\\_M1] 1485.42572677301\n",
       "\\item[20\\textbackslash{}\\_2019\\textbackslash{}\\_P\\textbackslash{}\\_M1] 1817.20853122043\n",
       "\\item[21\\textbackslash{}\\_2019\\textbackslash{}\\_P\\textbackslash{}\\_M1] 1880.19251836274\n",
       "\\item[22\\textbackslash{}\\_2019\\textbackslash{}\\_P\\textbackslash{}\\_M1] 1719.79492576017\n",
       "\\item[23\\textbackslash{}\\_2019\\textbackslash{}\\_P\\textbackslash{}\\_M1] 1859.83602552897\n",
       "\\item[24\\textbackslash{}\\_2019\\textbackslash{}\\_P\\textbackslash{}\\_M1] 1817.21027341227\n",
       "\\item[3\\textbackslash{}\\_2018\\textbackslash{}\\_P\\textbackslash{}\\_M1] 1746.87146724429\n",
       "\\item[3\\textbackslash{}\\_2019\\textbackslash{}\\_P\\textbackslash{}\\_M1] 1394.47256930845\n",
       "\\item[4\\textbackslash{}\\_2018\\textbackslash{}\\_P\\textbackslash{}\\_M1] 1671.63990687488\n",
       "\\item[4\\textbackslash{}\\_2019\\textbackslash{}\\_P\\textbackslash{}\\_M1] 1533.05501493986\n",
       "\\item[5\\textbackslash{}\\_2019\\textbackslash{}\\_P\\textbackslash{}\\_M1] 1546.07334556243\n",
       "\\item[6\\textbackslash{}\\_2019\\textbackslash{}\\_P\\textbackslash{}\\_M1] 1667.33270429805\n",
       "\\item[7\\textbackslash{}\\_2019\\textbackslash{}\\_P\\textbackslash{}\\_M1] 1495.72248772713\n",
       "\\item[8\\textbackslash{}\\_2019\\textbackslash{}\\_P\\textbackslash{}\\_M1] 1406.93768156591\n",
       "\\item[9\\textbackslash{}\\_2019\\textbackslash{}\\_P\\textbackslash{}\\_M1] 1627.5388131597\n",
       "\\end{description*}\n"
      ],
      "text/markdown": [
       "1_2019_P_M1\n",
       ":   1767.7372851296210_2019_P_M1\n",
       ":   1553.8405263783911_2019_P_M1\n",
       ":   1646.6011047193212_2019_P_M1\n",
       ":   1715.3538257583213_2019_P_M1\n",
       ":   1649.636218320414_2019_P_M1\n",
       ":   1606.4844561649215_2019_P_M1\n",
       ":   1582.7403416888916_2019_P_M1\n",
       ":   1558.7021555989917_2019_P_M1\n",
       ":   1749.6653776058918_2019_P_M1\n",
       ":   1530.7065507745319_2019_P_M1\n",
       ":   1848.057864983392_2018_P_M1\n",
       ":   1725.658443272192_2019_P_M1\n",
       ":   1485.4257267730120_2019_P_M1\n",
       ":   1817.2085312204321_2019_P_M1\n",
       ":   1880.1925183627422_2019_P_M1\n",
       ":   1719.7949257601723_2019_P_M1\n",
       ":   1859.8360255289724_2019_P_M1\n",
       ":   1817.210273412273_2018_P_M1\n",
       ":   1746.871467244293_2019_P_M1\n",
       ":   1394.472569308454_2018_P_M1\n",
       ":   1671.639906874884_2019_P_M1\n",
       ":   1533.055014939865_2019_P_M1\n",
       ":   1546.073345562436_2019_P_M1\n",
       ":   1667.332704298057_2019_P_M1\n",
       ":   1495.722487727138_2019_P_M1\n",
       ":   1406.937681565919_2019_P_M1\n",
       ":   1627.5388131597\n",
       "\n"
      ],
      "text/plain": [
       " 1_2019_P_M1 10_2019_P_M1 11_2019_P_M1 12_2019_P_M1 13_2019_P_M1 14_2019_P_M1 \n",
       "    1767.737     1553.841     1646.601     1715.354     1649.636     1606.484 \n",
       "15_2019_P_M1 16_2019_P_M1 17_2019_P_M1 18_2019_P_M1 19_2019_P_M1  2_2018_P_M1 \n",
       "    1582.740     1558.702     1749.665     1530.707     1848.058     1725.658 \n",
       " 2_2019_P_M1 20_2019_P_M1 21_2019_P_M1 22_2019_P_M1 23_2019_P_M1 24_2019_P_M1 \n",
       "    1485.426     1817.209     1880.193     1719.795     1859.836     1817.210 \n",
       " 3_2018_P_M1  3_2019_P_M1  4_2018_P_M1  4_2019_P_M1  5_2019_P_M1  6_2019_P_M1 \n",
       "    1746.871     1394.473     1671.640     1533.055     1546.073     1667.333 \n",
       " 7_2019_P_M1  8_2019_P_M1  9_2019_P_M1 \n",
       "    1495.722     1406.938     1627.539 "
      ]
     },
     "metadata": {},
     "output_type": "display_data"
    }
   ],
   "source": [
    "counts(dds, normalize = TRUE)[\"CNAG_05845\",]"
   ]
  },
  {
   "cell_type": "markdown",
   "metadata": {},
   "source": [
    "**Exercise:** Get a summary (mean, median, quantiles etc ) of the size factors"
   ]
  },
  {
   "cell_type": "code",
   "execution_count": 32,
   "metadata": {},
   "outputs": [
    {
     "data": {
      "text/plain": [
       "   Min. 1st Qu.  Median    Mean 3rd Qu.    Max. \n",
       " 0.5813  0.7648  1.0098  1.0445  1.3118  1.6568 "
      ]
     },
     "metadata": {},
     "output_type": "display_data"
    }
   ],
   "source": [
    "summary(sizeFactors(dds))"
   ]
  },
  {
   "cell_type": "markdown",
   "metadata": {},
   "source": [
    "Before going to the next step, let's check whether the dispersionFunction slot is empty"
   ]
  },
  {
   "cell_type": "code",
   "execution_count": 33,
   "metadata": {},
   "outputs": [
    {
     "data": {
      "text/html": [
       "<pre class=language-r><code>structure(function (q) \n",
       "coefs[1] + coefs[2]/q, coefficients = c(asymptDisp = 0.013130024341972, \n",
       "extraPois = 0.881505671734012), fitType = \"parametric\", varLogDispEsts = 0.88820982012225, dispPriorVar = 0.797363158847704)</code></pre>"
      ],
      "text/latex": [
       "\\begin{minted}{r}\n",
       "structure(function (q) \n",
       "coefs{[}1{]} + coefs{[}2{]}/q, coefficients = c(asymptDisp = 0.013130024341972, \n",
       "extraPois = 0.881505671734012), fitType = \"parametric\", varLogDispEsts = 0.88820982012225, dispPriorVar = 0.797363158847704)\n",
       "\\end{minted}"
      ],
      "text/markdown": [
       "```r\n",
       "structure(function (q) \n",
       "coefs[1] + coefs[2]/q, coefficients = c(asymptDisp = 0.013130024341972, \n",
       "extraPois = 0.881505671734012), fitType = \"parametric\", varLogDispEsts = 0.88820982012225, dispPriorVar = 0.797363158847704)\n",
       "```"
      ],
      "text/plain": [
       "function (q) \n",
       "coefs[1] + coefs[2]/q\n",
       "<bytecode: 0x55a68ed7d840>\n",
       "<environment: 0x55a68ed7a068>\n",
       "attr(,\"coefficients\")\n",
       "asymptDisp  extraPois \n",
       "0.01313002 0.88150567 \n",
       "attr(,\"fitType\")\n",
       "[1] \"parametric\"\n",
       "attr(,\"varLogDispEsts\")\n",
       "[1] 0.8882098\n",
       "attr(,\"dispPriorVar\")\n",
       "[1] 0.7973632"
      ]
     },
     "metadata": {},
     "output_type": "display_data"
    }
   ],
   "source": [
    "dds@dispersionFunction"
   ]
  },
  {
   "cell_type": "markdown",
   "metadata": {},
   "source": [
    "### Estimate Dispersion parameters (for each gene)"
   ]
  },
  {
   "cell_type": "code",
   "execution_count": 34,
   "metadata": {},
   "outputs": [
    {
     "name": "stderr",
     "output_type": "stream",
     "text": [
      "found already estimated dispersions, replacing these\n",
      "gene-wise dispersion estimates\n",
      "mean-dispersion relationship\n",
      "final dispersion estimates\n"
     ]
    }
   ],
   "source": [
    "dds <- estimateDispersions(dds)"
   ]
  },
  {
   "cell_type": "code",
   "execution_count": 35,
   "metadata": {},
   "outputs": [
    {
     "data": {
      "text/plain": [
       "class: DESeqDataSet \n",
       "dim: 8499 27 \n",
       "metadata(1): version\n",
       "assays(2): counts mu\n",
       "rownames(8499): CNAG_00001 CNAG_00002 ... large_MTrRNA small_MTrRNA\n",
       "rowData names(10): baseMean baseVar ... dispOutlier dispMAP\n",
       "colnames(27): 1_2019_P_M1 10_2019_P_M1 ... 8_2019_P_M1 9_2019_P_M1\n",
       "colData names(11): Label genotype ... depth sizeFactor"
      ]
     },
     "metadata": {},
     "output_type": "display_data"
    }
   ],
   "source": [
    "dds"
   ]
  },
  {
   "cell_type": "code",
   "execution_count": 36,
   "metadata": {},
   "outputs": [
    {
     "data": {
      "text/html": [
       "<pre class=language-r><code>structure(function (q) \n",
       "coefs[1] + coefs[2]/q, coefficients = c(asymptDisp = 0.013130024341972, \n",
       "extraPois = 0.881505671734012), fitType = \"parametric\", varLogDispEsts = 0.88820982012225, dispPriorVar = 0.797363158847704)</code></pre>"
      ],
      "text/latex": [
       "\\begin{minted}{r}\n",
       "structure(function (q) \n",
       "coefs{[}1{]} + coefs{[}2{]}/q, coefficients = c(asymptDisp = 0.013130024341972, \n",
       "extraPois = 0.881505671734012), fitType = \"parametric\", varLogDispEsts = 0.88820982012225, dispPriorVar = 0.797363158847704)\n",
       "\\end{minted}"
      ],
      "text/markdown": [
       "```r\n",
       "structure(function (q) \n",
       "coefs[1] + coefs[2]/q, coefficients = c(asymptDisp = 0.013130024341972, \n",
       "extraPois = 0.881505671734012), fitType = \"parametric\", varLogDispEsts = 0.88820982012225, dispPriorVar = 0.797363158847704)\n",
       "```"
      ],
      "text/plain": [
       "function (q) \n",
       "coefs[1] + coefs[2]/q\n",
       "<bytecode: 0x55a68ed7d840>\n",
       "<environment: 0x55a68ee90578>\n",
       "attr(,\"coefficients\")\n",
       "asymptDisp  extraPois \n",
       "0.01313002 0.88150567 \n",
       "attr(,\"fitType\")\n",
       "[1] \"parametric\"\n",
       "attr(,\"varLogDispEsts\")\n",
       "[1] 0.8882098\n",
       "attr(,\"dispPriorVar\")\n",
       "[1] 0.7973632"
      ]
     },
     "metadata": {},
     "output_type": "display_data"
    }
   ],
   "source": [
    "dds@dispersionFunction"
   ]
  },
  {
   "cell_type": "markdown",
   "metadata": {},
   "source": [
    "Verify that the number of dispersion factors equals the number of genes"
   ]
  },
  {
   "cell_type": "code",
   "execution_count": 37,
   "metadata": {},
   "outputs": [
    {
     "data": {
      "text/html": [
       "8499"
      ],
      "text/latex": [
       "8499"
      ],
      "text/markdown": [
       "8499"
      ],
      "text/plain": [
       "[1] 8499"
      ]
     },
     "metadata": {},
     "output_type": "display_data"
    },
    {
     "data": {
      "text/html": [
       "8499"
      ],
      "text/latex": [
       "8499"
      ],
      "text/markdown": [
       "8499"
      ],
      "text/plain": [
       "[1] 8499"
      ]
     },
     "metadata": {},
     "output_type": "display_data"
    }
   ],
   "source": [
    "length(dispersions(dds))\n",
    "nrow(dds)"
   ]
  },
  {
   "cell_type": "markdown",
   "metadata": {},
   "source": [
    "We can extract the gene specific dispersion factors using dispersions(). Note that there will be one number per gene. We look at the first four genes (rounded to 4 decimal places)"
   ]
  },
  {
   "cell_type": "code",
   "execution_count": 42,
   "metadata": {},
   "outputs": [
    {
     "data": {
      "text/html": [
       "<table>\n",
       "<caption>A data.frame: 4 × 10</caption>\n",
       "<thead>\n",
       "\t<tr><th></th><th scope=col>baseMean</th><th scope=col>baseVar</th><th scope=col>allZero</th><th scope=col>dispGeneEst</th><th scope=col>dispGeneIter</th><th scope=col>dispFit</th><th scope=col>dispersion</th><th scope=col>dispIter</th><th scope=col>dispOutlier</th><th scope=col>dispMAP</th></tr>\n",
       "\t<tr><th></th><th scope=col>&lt;dbl&gt;</th><th scope=col>&lt;dbl&gt;</th><th scope=col>&lt;lgl&gt;</th><th scope=col>&lt;dbl&gt;</th><th scope=col>&lt;dbl&gt;</th><th scope=col>&lt;dbl&gt;</th><th scope=col>&lt;dbl&gt;</th><th scope=col>&lt;dbl&gt;</th><th scope=col>&lt;lgl&gt;</th><th scope=col>&lt;dbl&gt;</th></tr>\n",
       "</thead>\n",
       "<tbody>\n",
       "\t<tr><th scope=row>CNAG_00001</th><td>  0.0000</td><td>    0.000</td><td> TRUE</td><td>         NA</td><td>NA</td><td>        NA</td><td>         NA</td><td>NA</td><td>   NA</td><td>         NA</td></tr>\n",
       "\t<tr><th scope=row>CNAG_00002</th><td>218.3189</td><td>12249.303</td><td>FALSE</td><td>0.010389828</td><td> 9</td><td>0.01716772</td><td>0.011484015</td><td> 9</td><td>FALSE</td><td>0.011484015</td></tr>\n",
       "\t<tr><th scope=row>CNAG_00003</th><td>167.8595</td><td> 2813.464</td><td>FALSE</td><td>0.021587945</td><td> 8</td><td>0.01838147</td><td>0.021053400</td><td> 5</td><td>FALSE</td><td>0.021053400</td></tr>\n",
       "\t<tr><th scope=row>CNAG_00004</th><td>568.6253</td><td> 2176.379</td><td>FALSE</td><td>0.003050718</td><td> 7</td><td>0.01468026</td><td>0.004228907</td><td> 9</td><td>FALSE</td><td>0.004228907</td></tr>\n",
       "</tbody>\n",
       "</table>\n"
      ],
      "text/latex": [
       "A data.frame: 4 × 10\n",
       "\\begin{tabular}{r|llllllllll}\n",
       "  & baseMean & baseVar & allZero & dispGeneEst & dispGeneIter & dispFit & dispersion & dispIter & dispOutlier & dispMAP\\\\\n",
       "  & <dbl> & <dbl> & <lgl> & <dbl> & <dbl> & <dbl> & <dbl> & <dbl> & <lgl> & <dbl>\\\\\n",
       "\\hline\n",
       "\tCNAG\\_00001 &   0.0000 &     0.000 &  TRUE &          NA & NA &         NA &          NA & NA &    NA &          NA\\\\\n",
       "\tCNAG\\_00002 & 218.3189 & 12249.303 & FALSE & 0.010389828 &  9 & 0.01716772 & 0.011484015 &  9 & FALSE & 0.011484015\\\\\n",
       "\tCNAG\\_00003 & 167.8595 &  2813.464 & FALSE & 0.021587945 &  8 & 0.01838147 & 0.021053400 &  5 & FALSE & 0.021053400\\\\\n",
       "\tCNAG\\_00004 & 568.6253 &  2176.379 & FALSE & 0.003050718 &  7 & 0.01468026 & 0.004228907 &  9 & FALSE & 0.004228907\\\\\n",
       "\\end{tabular}\n"
      ],
      "text/markdown": [
       "\n",
       "A data.frame: 4 × 10\n",
       "\n",
       "| <!--/--> | baseMean &lt;dbl&gt; | baseVar &lt;dbl&gt; | allZero &lt;lgl&gt; | dispGeneEst &lt;dbl&gt; | dispGeneIter &lt;dbl&gt; | dispFit &lt;dbl&gt; | dispersion &lt;dbl&gt; | dispIter &lt;dbl&gt; | dispOutlier &lt;lgl&gt; | dispMAP &lt;dbl&gt; |\n",
       "|---|---|---|---|---|---|---|---|---|---|---|\n",
       "| CNAG_00001 |   0.0000 |     0.000 |  TRUE |          NA | NA |         NA |          NA | NA |    NA |          NA |\n",
       "| CNAG_00002 | 218.3189 | 12249.303 | FALSE | 0.010389828 |  9 | 0.01716772 | 0.011484015 |  9 | FALSE | 0.011484015 |\n",
       "| CNAG_00003 | 167.8595 |  2813.464 | FALSE | 0.021587945 |  8 | 0.01838147 | 0.021053400 |  5 | FALSE | 0.021053400 |\n",
       "| CNAG_00004 | 568.6253 |  2176.379 | FALSE | 0.003050718 |  7 | 0.01468026 | 0.004228907 |  9 | FALSE | 0.004228907 |\n",
       "\n"
      ],
      "text/plain": [
       "           baseMean baseVar   allZero dispGeneEst dispGeneIter dispFit   \n",
       "CNAG_00001   0.0000     0.000  TRUE            NA NA                   NA\n",
       "CNAG_00002 218.3189 12249.303 FALSE   0.010389828  9           0.01716772\n",
       "CNAG_00003 167.8595  2813.464 FALSE   0.021587945  8           0.01838147\n",
       "CNAG_00004 568.6253  2176.379 FALSE   0.003050718  7           0.01468026\n",
       "           dispersion  dispIter dispOutlier dispMAP    \n",
       "CNAG_00001          NA NA          NA                NA\n",
       "CNAG_00002 0.011484015  9       FALSE       0.011484015\n",
       "CNAG_00003 0.021053400  5       FALSE       0.021053400\n",
       "CNAG_00004 0.004228907  9       FALSE       0.004228907"
      ]
     },
     "metadata": {},
     "output_type": "display_data"
    }
   ],
   "source": [
    "mcols(dds)[1:4,] %>% as.data.frame"
   ]
  },
  {
   "cell_type": "markdown",
   "metadata": {},
   "source": [
    "**Exercise:** Provide statistical summaries of the dispersion factors"
   ]
  },
  {
   "cell_type": "code",
   "execution_count": 43,
   "metadata": {},
   "outputs": [
    {
     "data": {
      "text/plain": [
       "   Min. 1st Qu.  Median    Mean 3rd Qu.    Max.    NA's \n",
       " 0.0010  0.0068  0.0127  0.2016  0.0272 27.0000     346 "
      ]
     },
     "metadata": {},
     "output_type": "display_data"
    }
   ],
   "source": [
    "summary(dispersions(dds))"
   ]
  },
  {
   "cell_type": "markdown",
   "metadata": {},
   "source": [
    "**Exercise:** Summarize the dispersion factors using a box plot (may want to log transform)"
   ]
  },
  {
   "cell_type": "code",
   "execution_count": 39,
   "metadata": {},
   "outputs": [
    {
     "data": {
      "image/png": "[encoded data removed]",
      "text/plain": [
       "plot without title"
      ]
     },
     "metadata": {},
     "output_type": "display_data"
    }
   ],
   "source": [
    "boxplot(log(dispersions(dds)))"
   ]
  },
  {
   "cell_type": "markdown",
   "metadata": {},
   "source": [
    "# Differential Expression Analysis"
   ]
  },
  {
   "cell_type": "markdown",
   "metadata": {},
   "source": [
    "We can now conduct a differential expression analysis using the DESeq() function. Keep in mind that to get to this step, we first estimated the size factors and then the dispersion parameters."
   ]
  },
  {
   "cell_type": "code",
   "execution_count": 40,
   "metadata": {},
   "outputs": [
    {
     "name": "stderr",
     "output_type": "stream",
     "text": [
      "using pre-existing size factors\n",
      "estimating dispersions\n",
      "found already estimated dispersions, replacing these\n",
      "gene-wise dispersion estimates\n",
      "mean-dispersion relationship\n",
      "final dispersion estimates\n",
      "fitting model and testing\n"
     ]
    }
   ],
   "source": [
    "ddsDE <- DESeq(dds)"
   ]
  },
  {
   "cell_type": "markdown",
   "metadata": {},
   "source": [
    "Note that currently, the model we have is an additive model, which does not include the interaction term of Media and Strain"
   ]
  },
  {
   "cell_type": "code",
   "execution_count": 50,
   "metadata": {},
   "outputs": [
    {
     "data": {
      "text/html": [
       "<ol class=list-inline>\n",
       "\t<li>'WT'</li>\n",
       "\t<li>'WT'</li>\n",
       "\t<li>'WT'</li>\n",
       "\t<li>'WT'</li>\n",
       "\t<li>'WT'</li>\n",
       "\t<li>'WT'</li>\n",
       "\t<li>'sre1d'</li>\n",
       "\t<li>'sre1d'</li>\n",
       "\t<li>'sre1d'</li>\n",
       "\t<li>'sre1d'</li>\n",
       "\t<li>'sre1d'</li>\n",
       "\t<li>'sre1d'</li>\n",
       "\t<li>'WT'</li>\n",
       "\t<li>'WT'</li>\n",
       "\t<li>'WT'</li>\n",
       "\t<li>'WT'</li>\n",
       "\t<li>'WT'</li>\n",
       "\t<li>'WT'</li>\n",
       "\t<li>'sre1d'</li>\n",
       "\t<li>'sre1d'</li>\n",
       "\t<li>'sre1d'</li>\n",
       "\t<li>'sre1d'</li>\n",
       "\t<li>'sre1d'</li>\n",
       "\t<li>'sre1d'</li>\n",
       "\t<li>'WT'</li>\n",
       "\t<li>'WT'</li>\n",
       "\t<li>'WT'</li>\n",
       "\t<li>'WT'</li>\n",
       "\t<li>'WT'</li>\n",
       "\t<li>'WT'</li>\n",
       "\t<li>'WT'</li>\n",
       "\t<li>'WT'</li>\n",
       "\t<li>'WT'</li>\n",
       "\t<li>'WT'</li>\n",
       "\t<li>'WT'</li>\n",
       "\t<li>'WT'</li>\n",
       "</ol>\n"
      ],
      "text/latex": [
       "\\begin{enumerate*}\n",
       "\\item 'WT'\n",
       "\\item 'WT'\n",
       "\\item 'WT'\n",
       "\\item 'WT'\n",
       "\\item 'WT'\n",
       "\\item 'WT'\n",
       "\\item 'sre1d'\n",
       "\\item 'sre1d'\n",
       "\\item 'sre1d'\n",
       "\\item 'sre1d'\n",
       "\\item 'sre1d'\n",
       "\\item 'sre1d'\n",
       "\\item 'WT'\n",
       "\\item 'WT'\n",
       "\\item 'WT'\n",
       "\\item 'WT'\n",
       "\\item 'WT'\n",
       "\\item 'WT'\n",
       "\\item 'sre1d'\n",
       "\\item 'sre1d'\n",
       "\\item 'sre1d'\n",
       "\\item 'sre1d'\n",
       "\\item 'sre1d'\n",
       "\\item 'sre1d'\n",
       "\\item 'WT'\n",
       "\\item 'WT'\n",
       "\\item 'WT'\n",
       "\\item 'WT'\n",
       "\\item 'WT'\n",
       "\\item 'WT'\n",
       "\\item 'WT'\n",
       "\\item 'WT'\n",
       "\\item 'WT'\n",
       "\\item 'WT'\n",
       "\\item 'WT'\n",
       "\\item 'WT'\n",
       "\\end{enumerate*}\n"
      ],
      "text/markdown": [
       "1. 'WT'\n",
       "2. 'WT'\n",
       "3. 'WT'\n",
       "4. 'WT'\n",
       "5. 'WT'\n",
       "6. 'WT'\n",
       "7. 'sre1d'\n",
       "8. 'sre1d'\n",
       "9. 'sre1d'\n",
       "10. 'sre1d'\n",
       "11. 'sre1d'\n",
       "12. 'sre1d'\n",
       "13. 'WT'\n",
       "14. 'WT'\n",
       "15. 'WT'\n",
       "16. 'WT'\n",
       "17. 'WT'\n",
       "18. 'WT'\n",
       "19. 'sre1d'\n",
       "20. 'sre1d'\n",
       "21. 'sre1d'\n",
       "22. 'sre1d'\n",
       "23. 'sre1d'\n",
       "24. 'sre1d'\n",
       "25. 'WT'\n",
       "26. 'WT'\n",
       "27. 'WT'\n",
       "28. 'WT'\n",
       "29. 'WT'\n",
       "30. 'WT'\n",
       "31. 'WT'\n",
       "32. 'WT'\n",
       "33. 'WT'\n",
       "34. 'WT'\n",
       "35. 'WT'\n",
       "36. 'WT'\n",
       "\n",
       "\n"
      ],
      "text/plain": [
       " [1] \"WT\"    \"WT\"    \"WT\"    \"WT\"    \"WT\"    \"WT\"    \"sre1d\" \"sre1d\" \"sre1d\"\n",
       "[10] \"sre1d\" \"sre1d\" \"sre1d\" \"WT\"    \"WT\"    \"WT\"    \"WT\"    \"WT\"    \"WT\"   \n",
       "[19] \"sre1d\" \"sre1d\" \"sre1d\" \"sre1d\" \"sre1d\" \"sre1d\" \"WT\"    \"WT\"    \"WT\"   \n",
       "[28] \"WT\"    \"WT\"    \"WT\"    \"WT\"    \"WT\"    \"WT\"    \"WT\"    \"WT\"    \"WT\"   "
      ]
     },
     "metadata": {},
     "output_type": "display_data"
    }
   ],
   "source": [
    "mtdf$genotype"
   ]
  },
  {
   "cell_type": "markdown",
   "metadata": {},
   "source": [
    "Therefore, We can get the results for the differential expression analysis using results(). Here, we can compare two group of samples specified by the contrast. (If not, the default contrast would be the last term in your additive model `design(dds)`)."
   ]
  },
  {
   "cell_type": "code",
   "execution_count": 66,
   "metadata": {},
   "outputs": [
    {
     "data": {
      "text/plain": [
       "log2 fold change (MLE): condition pH4 vs pH8 \n",
       "Wald test p-value: condition pH4 vs pH8 \n",
       "DataFrame with 4 rows and 6 columns\n",
       "                   baseMean     log2FoldChange              lfcSE\n",
       "                  <numeric>          <numeric>          <numeric>\n",
       "CNAG_00001                0                 NA                 NA\n",
       "CNAG_00002 218.318856961924  -1.34671316999061 0.0776260608527034\n",
       "CNAG_00003 167.859533498372 -0.836195747746304 0.0974969350690887\n",
       "CNAG_00004 568.625297017212 -0.090946962884466 0.0457569650946838\n",
       "                        stat               pvalue                 padj\n",
       "                   <numeric>            <numeric>            <numeric>\n",
       "CNAG_00001                NA                   NA                   NA\n",
       "CNAG_00002 -17.3487248379899 2.01671263009856e-67 1.88774489933336e-66\n",
       "CNAG_00003 -8.57663625173197 9.76879357014875e-18 2.64337782865658e-17\n",
       "CNAG_00004 -1.98760915843679   0.0468549326287457   0.0579678703675513"
      ]
     },
     "metadata": {},
     "output_type": "display_data"
    }
   ],
   "source": [
    "# compare two Media\n",
    "myres_media1 <- results(ddsDE, contrast = c(\"condition\", \"pH4\", \"pH8\"))\n",
    "myres_media1[1:4,]"
   ]
  },
  {
   "cell_type": "code",
   "execution_count": 67,
   "metadata": {},
   "outputs": [
    {
     "data": {
      "text/plain": [
       "log2 fold change (MLE): condition pH4 vs YPD \n",
       "Wald test p-value: condition pH4 vs YPD \n",
       "DataFrame with 4 rows and 6 columns\n",
       "                   baseMean     log2FoldChange              lfcSE\n",
       "                  <numeric>          <numeric>          <numeric>\n",
       "CNAG_00001                0                 NA                 NA\n",
       "CNAG_00002 218.318856961924  -1.89205987556738   0.11891066874708\n",
       "CNAG_00003 167.859533498372 -0.569473262837094  0.159074837922292\n",
       "CNAG_00004 568.625297017212  0.137987858412003 0.0754376085293527\n",
       "                        stat               pvalue                 padj\n",
       "                   <numeric>            <numeric>            <numeric>\n",
       "CNAG_00001                NA                   NA                   NA\n",
       "CNAG_00002 -15.9116073898444 5.26443437173016e-57 9.13211349632256e-56\n",
       "CNAG_00003 -3.57990786145123 0.000343715380854169 0.000541823569238987\n",
       "CNAG_00004  1.82916533413585    0.067374843886894    0.084391934584398"
      ]
     },
     "metadata": {},
     "output_type": "display_data"
    }
   ],
   "source": [
    "# compare two Media\n",
    "myres_media2 <- results(ddsDE, contrast = c(\"condition\", \"pH4\", \"YPD\"))\n",
    "myres_media2[1:4,]"
   ]
  },
  {
   "cell_type": "code",
   "execution_count": 52,
   "metadata": {},
   "outputs": [
    {
     "data": {
      "text/plain": [
       "log2 fold change (MLE): genotype WT vs sre1d \n",
       "Wald test p-value: genotype WT vs sre1d \n",
       "DataFrame with 8499 rows and 6 columns\n",
       "                        baseMean     log2FoldChange              lfcSE\n",
       "                       <numeric>          <numeric>          <numeric>\n",
       "CNAG_00001                     0                 NA                 NA\n",
       "CNAG_00002      218.318856961924 0.0363395679237975  0.077510414166667\n",
       "CNAG_00003      167.859533498372 0.0343283377160536 0.0975266223406203\n",
       "CNAG_00004      568.625297017212 0.0254034940497724 0.0456673073843595\n",
       "CNAG_00005       46.338980040365 -0.383427481212836  0.179311509448112\n",
       "...                          ...                ...                ...\n",
       "ENSRNA049551942                0                 NA                 NA\n",
       "ENSRNA049551964                0                 NA                 NA\n",
       "ENSRNA049551993                0                 NA                 NA\n",
       "large_MTrRNA    5224.85717223016 -0.406254674594512  0.130621890670529\n",
       "small_MTrRNA    1799.66685428087 -0.447360514292916  0.285529332187772\n",
       "                             stat              pvalue                padj\n",
       "                        <numeric>           <numeric>           <numeric>\n",
       "CNAG_00001                     NA                  NA                  NA\n",
       "CNAG_00002      0.468834650343349   0.639187830247741   0.730381818389547\n",
       "CNAG_00003      0.351989404453677    0.72484620866274    0.79796613256965\n",
       "CNAG_00004      0.556273086914531   0.578024182443058   0.678271611896697\n",
       "CNAG_00005      -2.13833167984005   0.032489833119247  0.0644657117111756\n",
       "...                           ...                 ...                 ...\n",
       "ENSRNA049551942                NA                  NA                  NA\n",
       "ENSRNA049551964                NA                  NA                  NA\n",
       "ENSRNA049551993                NA                  NA                  NA\n",
       "large_MTrRNA    -3.11015766583275 0.00186987504644137 0.00544273161500768\n",
       "small_MTrRNA    -1.56677603265894   0.117167051453661   0.189611546348095"
      ]
     },
     "metadata": {},
     "output_type": "display_data"
    }
   ],
   "source": [
    "# compare two Strains\n",
    "myres_strain <- results(ddsDE, contrast = c(\"genotype\", \"WT\", \"sre1d\"))\n",
    "myres_strain"
   ]
  },
  {
   "cell_type": "code",
   "execution_count": 53,
   "metadata": {},
   "outputs": [
    {
     "data": {
      "text/html": [
       "<table>\n",
       "<caption>A data.frame: 6 × 1</caption>\n",
       "<thead>\n",
       "\t<tr><th scope=col>desc</th></tr>\n",
       "\t<tr><th scope=col>&lt;fct&gt;</th></tr>\n",
       "</thead>\n",
       "<tbody>\n",
       "\t<tr><td>mean of normalized counts for all samples   </td></tr>\n",
       "\t<tr><td>log2 fold change (MLE): genotype WT vs sre1d</td></tr>\n",
       "\t<tr><td>standard error: genotype WT vs sre1d        </td></tr>\n",
       "\t<tr><td>Wald statistic: genotype WT vs sre1d        </td></tr>\n",
       "\t<tr><td>Wald test p-value: genotype WT vs sre1d     </td></tr>\n",
       "\t<tr><td>BH adjusted p-values                        </td></tr>\n",
       "</tbody>\n",
       "</table>\n"
      ],
      "text/latex": [
       "A data.frame: 6 × 1\n",
       "\\begin{tabular}{r|l}\n",
       " desc\\\\\n",
       " <fct>\\\\\n",
       "\\hline\n",
       "\t mean of normalized counts for all samples   \\\\\n",
       "\t log2 fold change (MLE): genotype WT vs sre1d\\\\\n",
       "\t standard error: genotype WT vs sre1d        \\\\\n",
       "\t Wald statistic: genotype WT vs sre1d        \\\\\n",
       "\t Wald test p-value: genotype WT vs sre1d     \\\\\n",
       "\t BH adjusted p-values                        \\\\\n",
       "\\end{tabular}\n"
      ],
      "text/markdown": [
       "\n",
       "A data.frame: 6 × 1\n",
       "\n",
       "| desc &lt;fct&gt; |\n",
       "|---|\n",
       "| mean of normalized counts for all samples    |\n",
       "| log2 fold change (MLE): genotype WT vs sre1d |\n",
       "| standard error: genotype WT vs sre1d         |\n",
       "| Wald statistic: genotype WT vs sre1d         |\n",
       "| Wald test p-value: genotype WT vs sre1d      |\n",
       "| BH adjusted p-values                         |\n",
       "\n"
      ],
      "text/plain": [
       "  desc                                        \n",
       "1 mean of normalized counts for all samples   \n",
       "2 log2 fold change (MLE): genotype WT vs sre1d\n",
       "3 standard error: genotype WT vs sre1d        \n",
       "4 Wald statistic: genotype WT vs sre1d        \n",
       "5 Wald test p-value: genotype WT vs sre1d     \n",
       "6 BH adjusted p-values                        "
      ]
     },
     "metadata": {},
     "output_type": "display_data"
    }
   ],
   "source": [
    "data.frame(desc = mcols(myres_strain)$description) "
   ]
  },
  {
   "cell_type": "markdown",
   "metadata": {},
   "source": [
    "### Fit NB MLE model"
   ]
  },
  {
   "cell_type": "code",
   "execution_count": 54,
   "metadata": {},
   "outputs": [
    {
     "name": "stderr",
     "output_type": "stream",
     "text": [
      "using pre-existing size factors\n",
      "estimating dispersions\n",
      "found already estimated dispersions, replacing these\n",
      "gene-wise dispersion estimates\n",
      "mean-dispersion relationship\n",
      "final dispersion estimates\n",
      "fitting model and testing\n"
     ]
    }
   ],
   "source": [
    "dds <- DESeq(dds)"
   ]
  },
  {
   "cell_type": "markdown",
   "metadata": {},
   "source": [
    "### Rlog \"normalized\" expressions"
   ]
  },
  {
   "cell_type": "code",
   "execution_count": 55,
   "metadata": {},
   "outputs": [],
   "source": [
    "rld <- rlog(dds)"
   ]
  },
  {
   "cell_type": "markdown",
   "metadata": {},
   "source": [
    "### Show top 10 hits"
   ]
  },
  {
   "cell_type": "code",
   "execution_count": 56,
   "metadata": {
    "scrolled": true
   },
   "outputs": [
    {
     "data": {
      "text/html": [
       "<table>\n",
       "<caption>A data.frame: 10 × 7</caption>\n",
       "<thead>\n",
       "\t<tr><th scope=col>row</th><th scope=col>baseMean</th><th scope=col>log2FoldChange</th><th scope=col>lfcSE</th><th scope=col>stat</th><th scope=col>pvalue</th><th scope=col>padj</th></tr>\n",
       "\t<tr><th scope=col>&lt;chr&gt;</th><th scope=col>&lt;dbl&gt;</th><th scope=col>&lt;dbl&gt;</th><th scope=col>&lt;dbl&gt;</th><th scope=col>&lt;dbl&gt;</th><th scope=col>&lt;dbl&gt;</th><th scope=col>&lt;dbl&gt;</th></tr>\n",
       "</thead>\n",
       "<tbody>\n",
       "\t<tr><td>CNAG_04804</td><td>  975.2208</td><td> 9.4415159</td><td>0.27134662</td><td> 34.79504</td><td>2.891036e-265</td><td>2.357062e-261</td></tr>\n",
       "\t<tr><td>CNAG_02493</td><td> 1905.3337</td><td>-1.2486457</td><td>0.06554634</td><td>-19.04981</td><td> 6.593591e-81</td><td> 2.687877e-77</td></tr>\n",
       "\t<tr><td>CNAG_03857</td><td> 9600.5419</td><td>-0.7540110</td><td>0.04068128</td><td>-18.53459</td><td> 1.086077e-76</td><td> 2.951595e-73</td></tr>\n",
       "\t<tr><td>CNAG_05889</td><td> 4219.5604</td><td>-0.5766220</td><td>0.03340899</td><td>-17.25948</td><td> 9.495514e-67</td><td> 1.935423e-63</td></tr>\n",
       "\t<tr><td>CNAG_05424</td><td>18925.6477</td><td>-0.7239733</td><td>0.04270269</td><td>-16.95381</td><td> 1.803775e-64</td><td> 2.941236e-61</td></tr>\n",
       "\t<tr><td>CNAG_07027</td><td> 1559.4150</td><td>-0.3973747</td><td>0.02480616</td><td>-16.01919</td><td> 9.386352e-58</td><td> 1.275449e-54</td></tr>\n",
       "\t<tr><td>CNAG_03680</td><td>  793.3428</td><td>-0.8221552</td><td>0.05194107</td><td>-15.82862</td><td> 1.975211e-56</td><td> 2.300556e-53</td></tr>\n",
       "\t<tr><td>CNAG_05258</td><td>17228.2276</td><td>-0.7610845</td><td>0.05090991</td><td>-14.94964</td><td> 1.566046e-50</td><td> 1.595996e-47</td></tr>\n",
       "\t<tr><td>CNAG_01119</td><td> 5964.4651</td><td> 1.4836425</td><td>0.09986975</td><td> 14.85577</td><td> 6.382651e-50</td><td> 5.781973e-47</td></tr>\n",
       "\t<tr><td>CNAG_12125</td><td>  174.0844</td><td>-1.4289744</td><td>0.09726011</td><td>-14.69230</td><td> 7.222401e-49</td><td> 5.888423e-46</td></tr>\n",
       "</tbody>\n",
       "</table>\n"
      ],
      "text/latex": [
       "A data.frame: 10 × 7\n",
       "\\begin{tabular}{r|lllllll}\n",
       " row & baseMean & log2FoldChange & lfcSE & stat & pvalue & padj\\\\\n",
       " <chr> & <dbl> & <dbl> & <dbl> & <dbl> & <dbl> & <dbl>\\\\\n",
       "\\hline\n",
       "\t CNAG\\_04804 &   975.2208 &  9.4415159 & 0.27134662 &  34.79504 & 2.891036e-265 & 2.357062e-261\\\\\n",
       "\t CNAG\\_02493 &  1905.3337 & -1.2486457 & 0.06554634 & -19.04981 &  6.593591e-81 &  2.687877e-77\\\\\n",
       "\t CNAG\\_03857 &  9600.5419 & -0.7540110 & 0.04068128 & -18.53459 &  1.086077e-76 &  2.951595e-73\\\\\n",
       "\t CNAG\\_05889 &  4219.5604 & -0.5766220 & 0.03340899 & -17.25948 &  9.495514e-67 &  1.935423e-63\\\\\n",
       "\t CNAG\\_05424 & 18925.6477 & -0.7239733 & 0.04270269 & -16.95381 &  1.803775e-64 &  2.941236e-61\\\\\n",
       "\t CNAG\\_07027 &  1559.4150 & -0.3973747 & 0.02480616 & -16.01919 &  9.386352e-58 &  1.275449e-54\\\\\n",
       "\t CNAG\\_03680 &   793.3428 & -0.8221552 & 0.05194107 & -15.82862 &  1.975211e-56 &  2.300556e-53\\\\\n",
       "\t CNAG\\_05258 & 17228.2276 & -0.7610845 & 0.05090991 & -14.94964 &  1.566046e-50 &  1.595996e-47\\\\\n",
       "\t CNAG\\_01119 &  5964.4651 &  1.4836425 & 0.09986975 &  14.85577 &  6.382651e-50 &  5.781973e-47\\\\\n",
       "\t CNAG\\_12125 &   174.0844 & -1.4289744 & 0.09726011 & -14.69230 &  7.222401e-49 &  5.888423e-46\\\\\n",
       "\\end{tabular}\n"
      ],
      "text/markdown": [
       "\n",
       "A data.frame: 10 × 7\n",
       "\n",
       "| row &lt;chr&gt; | baseMean &lt;dbl&gt; | log2FoldChange &lt;dbl&gt; | lfcSE &lt;dbl&gt; | stat &lt;dbl&gt; | pvalue &lt;dbl&gt; | padj &lt;dbl&gt; |\n",
       "|---|---|---|---|---|---|---|\n",
       "| CNAG_04804 |   975.2208 |  9.4415159 | 0.27134662 |  34.79504 | 2.891036e-265 | 2.357062e-261 |\n",
       "| CNAG_02493 |  1905.3337 | -1.2486457 | 0.06554634 | -19.04981 |  6.593591e-81 |  2.687877e-77 |\n",
       "| CNAG_03857 |  9600.5419 | -0.7540110 | 0.04068128 | -18.53459 |  1.086077e-76 |  2.951595e-73 |\n",
       "| CNAG_05889 |  4219.5604 | -0.5766220 | 0.03340899 | -17.25948 |  9.495514e-67 |  1.935423e-63 |\n",
       "| CNAG_05424 | 18925.6477 | -0.7239733 | 0.04270269 | -16.95381 |  1.803775e-64 |  2.941236e-61 |\n",
       "| CNAG_07027 |  1559.4150 | -0.3973747 | 0.02480616 | -16.01919 |  9.386352e-58 |  1.275449e-54 |\n",
       "| CNAG_03680 |   793.3428 | -0.8221552 | 0.05194107 | -15.82862 |  1.975211e-56 |  2.300556e-53 |\n",
       "| CNAG_05258 | 17228.2276 | -0.7610845 | 0.05090991 | -14.94964 |  1.566046e-50 |  1.595996e-47 |\n",
       "| CNAG_01119 |  5964.4651 |  1.4836425 | 0.09986975 |  14.85577 |  6.382651e-50 |  5.781973e-47 |\n",
       "| CNAG_12125 |   174.0844 | -1.4289744 | 0.09726011 | -14.69230 |  7.222401e-49 |  5.888423e-46 |\n",
       "\n"
      ],
      "text/plain": [
       "   row        baseMean   log2FoldChange lfcSE      stat      pvalue       \n",
       "1  CNAG_04804   975.2208  9.4415159     0.27134662  34.79504 2.891036e-265\n",
       "2  CNAG_02493  1905.3337 -1.2486457     0.06554634 -19.04981  6.593591e-81\n",
       "3  CNAG_03857  9600.5419 -0.7540110     0.04068128 -18.53459  1.086077e-76\n",
       "4  CNAG_05889  4219.5604 -0.5766220     0.03340899 -17.25948  9.495514e-67\n",
       "5  CNAG_05424 18925.6477 -0.7239733     0.04270269 -16.95381  1.803775e-64\n",
       "6  CNAG_07027  1559.4150 -0.3973747     0.02480616 -16.01919  9.386352e-58\n",
       "7  CNAG_03680   793.3428 -0.8221552     0.05194107 -15.82862  1.975211e-56\n",
       "8  CNAG_05258 17228.2276 -0.7610845     0.05090991 -14.94964  1.566046e-50\n",
       "9  CNAG_01119  5964.4651  1.4836425     0.09986975  14.85577  6.382651e-50\n",
       "10 CNAG_12125   174.0844 -1.4289744     0.09726011 -14.69230  7.222401e-49\n",
       "   padj         \n",
       "1  2.357062e-261\n",
       "2   2.687877e-77\n",
       "3   2.951595e-73\n",
       "4   1.935423e-63\n",
       "5   2.941236e-61\n",
       "6   1.275449e-54\n",
       "7   2.300556e-53\n",
       "8   1.595996e-47\n",
       "9   5.781973e-47\n",
       "10  5.888423e-46"
      ]
     },
     "metadata": {},
     "output_type": "display_data"
    }
   ],
   "source": [
    "results(dds, tidy=TRUE) %>% arrange(pvalue) %>% head(10)"
   ]
  },
  {
   "cell_type": "markdown",
   "metadata": {},
   "source": [
    "### A function for exploring interactions"
   ]
  },
  {
   "cell_type": "code",
   "execution_count": 61,
   "metadata": {},
   "outputs": [
    {
     "name": "stderr",
     "output_type": "stream",
     "text": [
      "Warning message:\n",
      "“Removed 27 rows containing missing values (geom_point).”"
     ]
    },
    {
     "data": {
      "image/png": "[encoded data removed]",
      "text/plain": [
       "plot without title"
      ]
     },
     "metadata": {},
     "output_type": "display_data"
    }
   ],
   "source": [
    "myinteractplot <- function(mydds, geneid) {\n",
    "    assay(mydds) %>%\n",
    "        as_tibble(rownames=\"gene\") %>%\n",
    "        filter(gene==geneid) %>%\n",
    "        gather(Label, value, -gene) %>%\n",
    "        select(-gene) -> genedat\n",
    "\n",
    "    colData(mydds) %>%\n",
    "        as.data.frame %>%\n",
    "        as_tibble %>%\n",
    "        full_join(genedat, by=\"Label\") -> genedat\n",
    "\n",
    "    mygeom <-  geom_point()\n",
    "    mypal <- scale_colour_manual(name=\"\",  values =brewer.pal(3,\"Set1\"))\n",
    "    mytheme <- theme_bw()\n",
    "\n",
    "    ggplot(genedat, aes(x=genotype, y=value, color=condition))+\n",
    "        mygeom+mytheme+mypal\n",
    "}\n",
    "\n",
    "myinteractplot(rld, \"gene5845\")"
   ]
  },
  {
   "cell_type": "code",
   "execution_count": 62,
   "metadata": {},
   "outputs": [],
   "source": [
    "assay(rld) %>%\n",
    "    t() %>%\n",
    "    dist %>%\n",
    "    hclust(method = \"complete\") %>%\n",
    "    as.dendrogram ->\n",
    "    mydend"
   ]
  },
  {
   "cell_type": "code",
   "execution_count": 63,
   "metadata": {},
   "outputs": [],
   "source": [
    "dendplot <- function(mydend, columndata, labvar, colvar, pchvar) {\n",
    "    cols <- factor(columndata[[colvar]][order.dendrogram(mydend)])\n",
    "    collab <- brewer.pal(max(3,nlevels(cols)),\"Set1\")[cols]\n",
    "    pchs <- factor(columndata[[pchvar]][order.dendrogram(mydend)])\n",
    "    pchlab <- seq_len(nlevels(pchs))[pchs]\n",
    "    lablab <- columndata[[labvar]][order.dendrogram(mydend)]\n",
    "    \n",
    "    mydend %>% \n",
    "        set(\"labels_cex\",1) %>% \n",
    "        set(\"labels_col\",collab) %>%\n",
    "        set(\"leaves_pch\",pchlab) %>%\n",
    "        set(\"labels\", lablab)\n",
    "}"
   ]
  },
  {
   "cell_type": "code",
   "execution_count": 65,
   "metadata": {},
   "outputs": [],
   "source": [
    "pdf(file.path(outdir, \"josh.pdf\"))\n",
    "dendplot(mydend, columnData, \"genotype\", \"genotype\", \"condition\") %>% plot\n",
    "dendplot(mydend, columnData, \"condition\", \"genotype\", \"condition\") %>% plot\n",
    "dendplot(mydend, columnData, \"Label\", \"genotype\", \"condition\") %>% plot\n",
    "graphics.off()"
   ]
  },
  {
   "cell_type": "code",
   "execution_count": null,
   "metadata": {},
   "outputs": [],
   "source": []
  }
 ],
 "metadata": {
  "kernelspec": {
   "display_name": "R",
   "language": "R",
   "name": "ir"
  },
  "language_info": {
   "codemirror_mode": "r",
   "file_extension": ".r",
   "mimetype": "text/x-r-source",
   "name": "R",
   "pygments_lexer": "r",
   "version": "3.6.0"
  }
 },
 "nbformat": 4,
 "nbformat_minor": 2
}
