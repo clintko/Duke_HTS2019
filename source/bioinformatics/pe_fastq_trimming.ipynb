{
 "cells": [
  {
   "cell_type": "markdown",
   "metadata": {},
   "source": [
    "# Trimming and Filtering a FASTQ\n",
    "\n",
    "\n",
    "## Shell Variables\n",
    "Retyping shell variables in every notebook is getting old, and its error prone.  Let's centralize these so we can share them between notebooks.  We can create a shell script that contains the shell variables that we need, and then we can `source` it in each notebook.  Let's call it `bioinf_intro_config.sh`.  We can do this using the Jupyter text editor."
   ]
  },
  {
   "cell_type": "code",
   "execution_count": null,
   "metadata": {},
   "outputs": [],
   "source": [
    "source pe_analysis_config.sh"
   ]
  },
  {
   "cell_type": "markdown",
   "metadata": {},
   "source": [
    "## Making New Directories\n",
    "Make the directories that are new in this notebook"
   ]
  },
  {
   "cell_type": "code",
   "execution_count": null,
   "metadata": {},
   "outputs": [],
   "source": [
    "mkdir -p $TRIMMED\n",
    "mkdir -p $MYINFO"
   ]
  },
  {
   "cell_type": "markdown",
   "metadata": {},
   "source": [
    "Now let's check to be sure that worked.  We will run `ls` and check that these directories now exist in the `$CUROUT` directory."
   ]
  },
  {
   "cell_type": "code",
   "execution_count": null,
   "metadata": {},
   "outputs": [],
   "source": [
    "ls $CUROUT"
   ]
  },
  {
   "cell_type": "markdown",
   "metadata": {},
   "source": [
    "# Trimming and Filtering\n",
    "Now we get into some actual preprocessing.  We will use `fastq-mcf` to trim adapter from our reads and do some quality filtering.  We need to trim adapter, because if a fragment is short enough, we will sequence all the way through the fragment and into the adapter.  Obviously the adapter sequence in not found in the genome, and can keep the read from aligning properly."
   ]
  },
  {
   "cell_type": "markdown",
   "metadata": {},
   "source": [
    "### Running fastq-mcf\n",
    "1. neb_e7600_adapters.fasta : the adapter file\n",
    "2. \\$RAW_FASTQS/10_H_S8_L002_R1_001.fastq.gz : the R1 FASTQ \n",
    "3. \\$RAW_FASTQS/10_H_S8_L002_R2_001.fastq.gz : the R2 FASTQ \n",
    "3. -q 20 : if a read has any bases with quality score lower than this, trim them and anything 3' of that base\n",
    "4. -x 0.5 : if this percentage (or higher) of the reads have an \"N\" in a given position, trim all reads to that position\n",
    "5. -o \\$TRIMMED/10_H_S8_L002_R1_001.trim.fastq.gz : output file for trimmed R1 reads\n",
    "5. -o \\$TRIMMED/10_H_S8_L002_R2_001.trim.fastq.gz : output file for trimmed R1 reads"
   ]
  },
  {
   "cell_type": "code",
   "execution_count": null,
   "metadata": {},
   "outputs": [],
   "source": [
    "fastq-mcf $MYINFO/neb_e7600_adapters.fasta \\\n",
    "    $RAW_FASTQS/10_H_S8_L002_R1_001.fastq.gz \\\n",
    "    $RAW_FASTQS/10_H_S8_L002_R2_001.fastq.gz \\\n",
    "    -q 20 -x 0.5 \\\n",
    "    -o $TRIMMED/10_H_S8_L002_R1_001.trim.fastq.gz \\\n",
    "    -o $TRIMMED/10_H_S8_L002_R2_001.trim.fastq.gz"
   ]
  },
  {
   "cell_type": "markdown",
   "metadata": {},
   "source": [
    "at this point we could run fastqc on the output of fastq-mcf to see if statistics have improved, but we will skip that for now."
   ]
  },
  {
   "cell_type": "code",
   "execution_count": null,
   "metadata": {},
   "outputs": [],
   "source": [
    "ls $TRIMMED"
   ]
  }
 ],
 "metadata": {
  "kernelspec": {
   "display_name": "Bash",
   "language": "bash",
   "name": "bash"
  },
  "language_info": {
   "codemirror_mode": "shell",
   "file_extension": ".sh",
   "mimetype": "text/x-sh",
   "name": "bash"
  }
 },
 "nbformat": 4,
 "nbformat_minor": 1
}
